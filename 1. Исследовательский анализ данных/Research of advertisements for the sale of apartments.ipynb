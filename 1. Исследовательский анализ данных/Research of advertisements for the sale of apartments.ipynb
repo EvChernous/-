{
 "cells": [
  {
   "cell_type": "markdown",
   "metadata": {},
   "source": [
    "# Исследование объявлений о продаже квартир\n",
    "\n",
    "В вашем распоряжении данные сервиса Яндекс.Недвижимость — архив объявлений о продаже квартир в Санкт-Петербурге и соседних населённых пунктов за несколько лет. Нужно научиться определять рыночную стоимость объектов недвижимости. Ваша задача — установить параметры. Это позволит построить автоматизированную систему: она отследит аномалии и мошенническую деятельность. \n",
    "\n",
    "По каждой квартире на продажу доступны два вида данных. Первые вписаны пользователем, вторые — получены автоматически на основе картографических данных. Например, расстояние до центра, аэропорта, ближайшего парка и водоёма. "
   ]
  },
  {
   "cell_type": "markdown",
   "metadata": {},
   "source": [
    "### Откройте файл с данными и изучите общую информацию. "
   ]
  },
  {
   "cell_type": "markdown",
   "metadata": {},
   "source": [
    "1.1 Импортируем библиотеку pandas и matplotlib. Читаем данные из csv-файла и сохраняем датафрейм в переменной data."
   ]
  },
  {
   "cell_type": "code",
   "execution_count": 1,
   "metadata": {},
   "outputs": [],
   "source": [
    "import pandas as pd\n",
    "import matplotlib.pyplot as plt"
   ]
  },
  {
   "cell_type": "code",
   "execution_count": 2,
   "metadata": {},
   "outputs": [],
   "source": [
    "data = pd.read_csv('/datasets/real_estate_data.csv', sep='\\t')"
   ]
  },
  {
   "cell_type": "markdown",
   "metadata": {},
   "source": [
    "1.2 Выводим основную информацию о данных методом info()."
   ]
  },
  {
   "cell_type": "code",
   "execution_count": 3,
   "metadata": {},
   "outputs": [
    {
     "name": "stdout",
     "output_type": "stream",
     "text": [
      "<class 'pandas.core.frame.DataFrame'>\n",
      "RangeIndex: 23699 entries, 0 to 23698\n",
      "Data columns (total 22 columns):\n",
      " #   Column                Non-Null Count  Dtype  \n",
      "---  ------                --------------  -----  \n",
      " 0   total_images          23699 non-null  int64  \n",
      " 1   last_price            23699 non-null  float64\n",
      " 2   total_area            23699 non-null  float64\n",
      " 3   first_day_exposition  23699 non-null  object \n",
      " 4   rooms                 23699 non-null  int64  \n",
      " 5   ceiling_height        14504 non-null  float64\n",
      " 6   floors_total          23613 non-null  float64\n",
      " 7   living_area           21796 non-null  float64\n",
      " 8   floor                 23699 non-null  int64  \n",
      " 9   is_apartment          2775 non-null   object \n",
      " 10  studio                23699 non-null  bool   \n",
      " 11  open_plan             23699 non-null  bool   \n",
      " 12  kitchen_area          21421 non-null  float64\n",
      " 13  balcony               12180 non-null  float64\n",
      " 14  locality_name         23650 non-null  object \n",
      " 15  airports_nearest      18157 non-null  float64\n",
      " 16  cityCenters_nearest   18180 non-null  float64\n",
      " 17  parks_around3000      18181 non-null  float64\n",
      " 18  parks_nearest         8079 non-null   float64\n",
      " 19  ponds_around3000      18181 non-null  float64\n",
      " 20  ponds_nearest         9110 non-null   float64\n",
      " 21  days_exposition       20518 non-null  float64\n",
      "dtypes: bool(2), float64(14), int64(3), object(3)\n",
      "memory usage: 3.7+ MB\n"
     ]
    }
   ],
   "source": [
    "data.info()"
   ]
  },
  {
   "cell_type": "markdown",
   "metadata": {},
   "source": [
    "1.3 Выводим первые 10 строчек датафрейма."
   ]
  },
  {
   "cell_type": "code",
   "execution_count": 4,
   "metadata": {},
   "outputs": [
    {
     "data": {
      "text/html": [
       "<div>\n",
       "<style scoped>\n",
       "    .dataframe tbody tr th:only-of-type {\n",
       "        vertical-align: middle;\n",
       "    }\n",
       "\n",
       "    .dataframe tbody tr th {\n",
       "        vertical-align: top;\n",
       "    }\n",
       "\n",
       "    .dataframe thead th {\n",
       "        text-align: right;\n",
       "    }\n",
       "</style>\n",
       "<table border=\"1\" class=\"dataframe\">\n",
       "  <thead>\n",
       "    <tr style=\"text-align: right;\">\n",
       "      <th></th>\n",
       "      <th>total_images</th>\n",
       "      <th>last_price</th>\n",
       "      <th>total_area</th>\n",
       "      <th>first_day_exposition</th>\n",
       "      <th>rooms</th>\n",
       "      <th>ceiling_height</th>\n",
       "      <th>floors_total</th>\n",
       "      <th>living_area</th>\n",
       "      <th>floor</th>\n",
       "      <th>is_apartment</th>\n",
       "      <th>studio</th>\n",
       "      <th>open_plan</th>\n",
       "      <th>kitchen_area</th>\n",
       "      <th>balcony</th>\n",
       "      <th>locality_name</th>\n",
       "      <th>airports_nearest</th>\n",
       "      <th>cityCenters_nearest</th>\n",
       "      <th>parks_around3000</th>\n",
       "      <th>parks_nearest</th>\n",
       "      <th>ponds_around3000</th>\n",
       "      <th>ponds_nearest</th>\n",
       "      <th>days_exposition</th>\n",
       "    </tr>\n",
       "  </thead>\n",
       "  <tbody>\n",
       "    <tr>\n",
       "      <th>0</th>\n",
       "      <td>20</td>\n",
       "      <td>13000000.0</td>\n",
       "      <td>108.00</td>\n",
       "      <td>2019-03-07T00:00:00</td>\n",
       "      <td>3</td>\n",
       "      <td>2.70</td>\n",
       "      <td>16.0</td>\n",
       "      <td>51.00</td>\n",
       "      <td>8</td>\n",
       "      <td>NaN</td>\n",
       "      <td>False</td>\n",
       "      <td>False</td>\n",
       "      <td>25.00</td>\n",
       "      <td>NaN</td>\n",
       "      <td>Санкт-Петербург</td>\n",
       "      <td>18863.0</td>\n",
       "      <td>16028.0</td>\n",
       "      <td>1.0</td>\n",
       "      <td>482.0</td>\n",
       "      <td>2.0</td>\n",
       "      <td>755.0</td>\n",
       "      <td>NaN</td>\n",
       "    </tr>\n",
       "    <tr>\n",
       "      <th>1</th>\n",
       "      <td>7</td>\n",
       "      <td>3350000.0</td>\n",
       "      <td>40.40</td>\n",
       "      <td>2018-12-04T00:00:00</td>\n",
       "      <td>1</td>\n",
       "      <td>NaN</td>\n",
       "      <td>11.0</td>\n",
       "      <td>18.60</td>\n",
       "      <td>1</td>\n",
       "      <td>NaN</td>\n",
       "      <td>False</td>\n",
       "      <td>False</td>\n",
       "      <td>11.00</td>\n",
       "      <td>2.0</td>\n",
       "      <td>посёлок Шушары</td>\n",
       "      <td>12817.0</td>\n",
       "      <td>18603.0</td>\n",
       "      <td>0.0</td>\n",
       "      <td>NaN</td>\n",
       "      <td>0.0</td>\n",
       "      <td>NaN</td>\n",
       "      <td>81.0</td>\n",
       "    </tr>\n",
       "    <tr>\n",
       "      <th>2</th>\n",
       "      <td>10</td>\n",
       "      <td>5196000.0</td>\n",
       "      <td>56.00</td>\n",
       "      <td>2015-08-20T00:00:00</td>\n",
       "      <td>2</td>\n",
       "      <td>NaN</td>\n",
       "      <td>5.0</td>\n",
       "      <td>34.30</td>\n",
       "      <td>4</td>\n",
       "      <td>NaN</td>\n",
       "      <td>False</td>\n",
       "      <td>False</td>\n",
       "      <td>8.30</td>\n",
       "      <td>0.0</td>\n",
       "      <td>Санкт-Петербург</td>\n",
       "      <td>21741.0</td>\n",
       "      <td>13933.0</td>\n",
       "      <td>1.0</td>\n",
       "      <td>90.0</td>\n",
       "      <td>2.0</td>\n",
       "      <td>574.0</td>\n",
       "      <td>558.0</td>\n",
       "    </tr>\n",
       "    <tr>\n",
       "      <th>3</th>\n",
       "      <td>0</td>\n",
       "      <td>64900000.0</td>\n",
       "      <td>159.00</td>\n",
       "      <td>2015-07-24T00:00:00</td>\n",
       "      <td>3</td>\n",
       "      <td>NaN</td>\n",
       "      <td>14.0</td>\n",
       "      <td>NaN</td>\n",
       "      <td>9</td>\n",
       "      <td>NaN</td>\n",
       "      <td>False</td>\n",
       "      <td>False</td>\n",
       "      <td>NaN</td>\n",
       "      <td>0.0</td>\n",
       "      <td>Санкт-Петербург</td>\n",
       "      <td>28098.0</td>\n",
       "      <td>6800.0</td>\n",
       "      <td>2.0</td>\n",
       "      <td>84.0</td>\n",
       "      <td>3.0</td>\n",
       "      <td>234.0</td>\n",
       "      <td>424.0</td>\n",
       "    </tr>\n",
       "    <tr>\n",
       "      <th>4</th>\n",
       "      <td>2</td>\n",
       "      <td>10000000.0</td>\n",
       "      <td>100.00</td>\n",
       "      <td>2018-06-19T00:00:00</td>\n",
       "      <td>2</td>\n",
       "      <td>3.03</td>\n",
       "      <td>14.0</td>\n",
       "      <td>32.00</td>\n",
       "      <td>13</td>\n",
       "      <td>NaN</td>\n",
       "      <td>False</td>\n",
       "      <td>False</td>\n",
       "      <td>41.00</td>\n",
       "      <td>NaN</td>\n",
       "      <td>Санкт-Петербург</td>\n",
       "      <td>31856.0</td>\n",
       "      <td>8098.0</td>\n",
       "      <td>2.0</td>\n",
       "      <td>112.0</td>\n",
       "      <td>1.0</td>\n",
       "      <td>48.0</td>\n",
       "      <td>121.0</td>\n",
       "    </tr>\n",
       "    <tr>\n",
       "      <th>5</th>\n",
       "      <td>10</td>\n",
       "      <td>2890000.0</td>\n",
       "      <td>30.40</td>\n",
       "      <td>2018-09-10T00:00:00</td>\n",
       "      <td>1</td>\n",
       "      <td>NaN</td>\n",
       "      <td>12.0</td>\n",
       "      <td>14.40</td>\n",
       "      <td>5</td>\n",
       "      <td>NaN</td>\n",
       "      <td>False</td>\n",
       "      <td>False</td>\n",
       "      <td>9.10</td>\n",
       "      <td>NaN</td>\n",
       "      <td>городской посёлок Янино-1</td>\n",
       "      <td>NaN</td>\n",
       "      <td>NaN</td>\n",
       "      <td>NaN</td>\n",
       "      <td>NaN</td>\n",
       "      <td>NaN</td>\n",
       "      <td>NaN</td>\n",
       "      <td>55.0</td>\n",
       "    </tr>\n",
       "    <tr>\n",
       "      <th>6</th>\n",
       "      <td>6</td>\n",
       "      <td>3700000.0</td>\n",
       "      <td>37.30</td>\n",
       "      <td>2017-11-02T00:00:00</td>\n",
       "      <td>1</td>\n",
       "      <td>NaN</td>\n",
       "      <td>26.0</td>\n",
       "      <td>10.60</td>\n",
       "      <td>6</td>\n",
       "      <td>NaN</td>\n",
       "      <td>False</td>\n",
       "      <td>False</td>\n",
       "      <td>14.40</td>\n",
       "      <td>1.0</td>\n",
       "      <td>посёлок Парголово</td>\n",
       "      <td>52996.0</td>\n",
       "      <td>19143.0</td>\n",
       "      <td>0.0</td>\n",
       "      <td>NaN</td>\n",
       "      <td>0.0</td>\n",
       "      <td>NaN</td>\n",
       "      <td>155.0</td>\n",
       "    </tr>\n",
       "    <tr>\n",
       "      <th>7</th>\n",
       "      <td>5</td>\n",
       "      <td>7915000.0</td>\n",
       "      <td>71.60</td>\n",
       "      <td>2019-04-18T00:00:00</td>\n",
       "      <td>2</td>\n",
       "      <td>NaN</td>\n",
       "      <td>24.0</td>\n",
       "      <td>NaN</td>\n",
       "      <td>22</td>\n",
       "      <td>NaN</td>\n",
       "      <td>False</td>\n",
       "      <td>False</td>\n",
       "      <td>18.90</td>\n",
       "      <td>2.0</td>\n",
       "      <td>Санкт-Петербург</td>\n",
       "      <td>23982.0</td>\n",
       "      <td>11634.0</td>\n",
       "      <td>0.0</td>\n",
       "      <td>NaN</td>\n",
       "      <td>0.0</td>\n",
       "      <td>NaN</td>\n",
       "      <td>NaN</td>\n",
       "    </tr>\n",
       "    <tr>\n",
       "      <th>8</th>\n",
       "      <td>20</td>\n",
       "      <td>2900000.0</td>\n",
       "      <td>33.16</td>\n",
       "      <td>2018-05-23T00:00:00</td>\n",
       "      <td>1</td>\n",
       "      <td>NaN</td>\n",
       "      <td>27.0</td>\n",
       "      <td>15.43</td>\n",
       "      <td>26</td>\n",
       "      <td>NaN</td>\n",
       "      <td>False</td>\n",
       "      <td>False</td>\n",
       "      <td>8.81</td>\n",
       "      <td>NaN</td>\n",
       "      <td>посёлок Мурино</td>\n",
       "      <td>NaN</td>\n",
       "      <td>NaN</td>\n",
       "      <td>NaN</td>\n",
       "      <td>NaN</td>\n",
       "      <td>NaN</td>\n",
       "      <td>NaN</td>\n",
       "      <td>189.0</td>\n",
       "    </tr>\n",
       "    <tr>\n",
       "      <th>9</th>\n",
       "      <td>18</td>\n",
       "      <td>5400000.0</td>\n",
       "      <td>61.00</td>\n",
       "      <td>2017-02-26T00:00:00</td>\n",
       "      <td>3</td>\n",
       "      <td>2.50</td>\n",
       "      <td>9.0</td>\n",
       "      <td>43.60</td>\n",
       "      <td>7</td>\n",
       "      <td>NaN</td>\n",
       "      <td>False</td>\n",
       "      <td>False</td>\n",
       "      <td>6.50</td>\n",
       "      <td>2.0</td>\n",
       "      <td>Санкт-Петербург</td>\n",
       "      <td>50898.0</td>\n",
       "      <td>15008.0</td>\n",
       "      <td>0.0</td>\n",
       "      <td>NaN</td>\n",
       "      <td>0.0</td>\n",
       "      <td>NaN</td>\n",
       "      <td>289.0</td>\n",
       "    </tr>\n",
       "  </tbody>\n",
       "</table>\n",
       "</div>"
      ],
      "text/plain": [
       "   total_images  last_price  total_area first_day_exposition  rooms  \\\n",
       "0            20  13000000.0      108.00  2019-03-07T00:00:00      3   \n",
       "1             7   3350000.0       40.40  2018-12-04T00:00:00      1   \n",
       "2            10   5196000.0       56.00  2015-08-20T00:00:00      2   \n",
       "3             0  64900000.0      159.00  2015-07-24T00:00:00      3   \n",
       "4             2  10000000.0      100.00  2018-06-19T00:00:00      2   \n",
       "5            10   2890000.0       30.40  2018-09-10T00:00:00      1   \n",
       "6             6   3700000.0       37.30  2017-11-02T00:00:00      1   \n",
       "7             5   7915000.0       71.60  2019-04-18T00:00:00      2   \n",
       "8            20   2900000.0       33.16  2018-05-23T00:00:00      1   \n",
       "9            18   5400000.0       61.00  2017-02-26T00:00:00      3   \n",
       "\n",
       "   ceiling_height  floors_total  living_area  floor is_apartment  studio  \\\n",
       "0            2.70          16.0        51.00      8          NaN   False   \n",
       "1             NaN          11.0        18.60      1          NaN   False   \n",
       "2             NaN           5.0        34.30      4          NaN   False   \n",
       "3             NaN          14.0          NaN      9          NaN   False   \n",
       "4            3.03          14.0        32.00     13          NaN   False   \n",
       "5             NaN          12.0        14.40      5          NaN   False   \n",
       "6             NaN          26.0        10.60      6          NaN   False   \n",
       "7             NaN          24.0          NaN     22          NaN   False   \n",
       "8             NaN          27.0        15.43     26          NaN   False   \n",
       "9            2.50           9.0        43.60      7          NaN   False   \n",
       "\n",
       "   open_plan  kitchen_area  balcony              locality_name  \\\n",
       "0      False         25.00      NaN            Санкт-Петербург   \n",
       "1      False         11.00      2.0             посёлок Шушары   \n",
       "2      False          8.30      0.0            Санкт-Петербург   \n",
       "3      False           NaN      0.0            Санкт-Петербург   \n",
       "4      False         41.00      NaN            Санкт-Петербург   \n",
       "5      False          9.10      NaN  городской посёлок Янино-1   \n",
       "6      False         14.40      1.0          посёлок Парголово   \n",
       "7      False         18.90      2.0            Санкт-Петербург   \n",
       "8      False          8.81      NaN             посёлок Мурино   \n",
       "9      False          6.50      2.0            Санкт-Петербург   \n",
       "\n",
       "   airports_nearest  cityCenters_nearest  parks_around3000  parks_nearest  \\\n",
       "0           18863.0              16028.0               1.0          482.0   \n",
       "1           12817.0              18603.0               0.0            NaN   \n",
       "2           21741.0              13933.0               1.0           90.0   \n",
       "3           28098.0               6800.0               2.0           84.0   \n",
       "4           31856.0               8098.0               2.0          112.0   \n",
       "5               NaN                  NaN               NaN            NaN   \n",
       "6           52996.0              19143.0               0.0            NaN   \n",
       "7           23982.0              11634.0               0.0            NaN   \n",
       "8               NaN                  NaN               NaN            NaN   \n",
       "9           50898.0              15008.0               0.0            NaN   \n",
       "\n",
       "   ponds_around3000  ponds_nearest  days_exposition  \n",
       "0               2.0          755.0              NaN  \n",
       "1               0.0            NaN             81.0  \n",
       "2               2.0          574.0            558.0  \n",
       "3               3.0          234.0            424.0  \n",
       "4               1.0           48.0            121.0  \n",
       "5               NaN            NaN             55.0  \n",
       "6               0.0            NaN            155.0  \n",
       "7               0.0            NaN              NaN  \n",
       "8               NaN            NaN            189.0  \n",
       "9               0.0            NaN            289.0  "
      ]
     },
     "execution_count": 4,
     "metadata": {},
     "output_type": "execute_result"
    }
   ],
   "source": [
    "pd.set_option('display.max_columns', None)\n",
    "data.head(10)"
   ]
  },
  {
   "cell_type": "markdown",
   "metadata": {},
   "source": [
    "1.4 Строим общую гистограмму для всех столбцов таблицы."
   ]
  },
  {
   "cell_type": "code",
   "execution_count": 5,
   "metadata": {},
   "outputs": [
    {
     "data": {
      "image/png": "[encoded data removed]",
      "text/plain": [
       "<Figure size 1080x1440 with 20 Axes>"
      ]
     },
     "metadata": {
      "needs_background": "light"
     },
     "output_type": "display_data"
    }
   ],
   "source": [
    "data.hist(figsize=(15, 20))\n",
    "plt.show()"
   ]
  },
  {
   "cell_type": "markdown",
   "metadata": {},
   "source": [
    "По первому знакомству видны некие странности, количество заполниных строк в столбцах не совпадает, но это может быть связано с автоматическим заполнением и может не влиять на ход иследования, но нужно будет в этом убедиться. Сразу видны очевидные ошибки в типах данных, к примеру last_price явно число и должно быть в формате int64 а в таблице оно float64 значит текстовый тип, есть похожие ошиби и в других столбцах которые необходимо будет исправить. Так же по выводу первых строк видны некоторые ошибки в записи, например время и дата записана верно но так же не в том формате. Так же видны пропуски в данных надо узнать можно ли их заменить на медианные или среднии значения."
   ]
  },
  {
   "cell_type": "markdown",
   "metadata": {},
   "source": [
    "### Предобработка данных"
   ]
  },
  {
   "cell_type": "markdown",
   "metadata": {},
   "source": [
    "2.1 Выводим количество пропущенных значений для каждого столбца."
   ]
  },
  {
   "cell_type": "code",
   "execution_count": 6,
   "metadata": {},
   "outputs": [
    {
     "data": {
      "text/plain": [
       "total_images                0\n",
       "last_price                  0\n",
       "total_area                  0\n",
       "first_day_exposition        0\n",
       "rooms                       0\n",
       "ceiling_height           9195\n",
       "floors_total               86\n",
       "living_area              1903\n",
       "floor                       0\n",
       "is_apartment            20924\n",
       "studio                      0\n",
       "open_plan                   0\n",
       "kitchen_area             2278\n",
       "balcony                 11519\n",
       "locality_name              49\n",
       "airports_nearest         5542\n",
       "cityCenters_nearest      5519\n",
       "parks_around3000         5518\n",
       "parks_nearest           15620\n",
       "ponds_around3000         5518\n",
       "ponds_nearest           14589\n",
       "days_exposition          3181\n",
       "dtype: int64"
      ]
     },
     "execution_count": 6,
     "metadata": {},
     "output_type": "execute_result"
    }
   ],
   "source": [
    "data.isna().sum()"
   ]
  },
  {
   "cell_type": "markdown",
   "metadata": {},
   "source": [
    "2.2 Изучим пропуски в столбце is_apartment"
   ]
  },
  {
   "cell_type": "code",
   "execution_count": 7,
   "metadata": {},
   "outputs": [
    {
     "data": {
      "text/plain": [
       "NaN      20924\n",
       "False     2725\n",
       "True        50\n",
       "Name: is_apartment, dtype: int64"
      ]
     },
     "execution_count": 7,
     "metadata": {},
     "output_type": "execute_result"
    }
   ],
   "source": [
    "data['is_apartment'].value_counts(dropna=False)"
   ]
  },
  {
   "cell_type": "code",
   "execution_count": 8,
   "metadata": {},
   "outputs": [
    {
     "data": {
      "text/plain": [
       "False    23649\n",
       "True        50\n",
       "Name: is_apartment, dtype: int64"
      ]
     },
     "execution_count": 8,
     "metadata": {},
     "output_type": "execute_result"
    }
   ],
   "source": [
    "data['is_apartment'] = data['is_apartment'].fillna(False)\n",
    "data['is_apartment'].value_counts(dropna=False)"
   ]
  },
  {
   "cell_type": "markdown",
   "metadata": {},
   "source": [
    "Пропуски в столбце is_apartment, возможно связаны с тем, что данные объекты недвижимости не являются апартаментами, такие пропуски можно заменить на False"
   ]
  },
  {
   "cell_type": "markdown",
   "metadata": {},
   "source": [
    "2.3 Изучим пропуски в столбце balcony"
   ]
  },
  {
   "cell_type": "code",
   "execution_count": 9,
   "metadata": {},
   "outputs": [
    {
     "data": {
      "text/plain": [
       "NaN    11519\n",
       "1.0     4195\n",
       "0.0     3758\n",
       "2.0     3659\n",
       "5.0      304\n",
       "4.0      183\n",
       "3.0       81\n",
       "Name: balcony, dtype: int64"
      ]
     },
     "execution_count": 9,
     "metadata": {},
     "output_type": "execute_result"
    }
   ],
   "source": [
    "data['balcony'].value_counts(dropna=False)"
   ]
  },
  {
   "cell_type": "code",
   "execution_count": 10,
   "metadata": {},
   "outputs": [
    {
     "data": {
      "text/plain": [
       "0.0    15277\n",
       "1.0     4195\n",
       "2.0     3659\n",
       "5.0      304\n",
       "4.0      183\n",
       "3.0       81\n",
       "Name: balcony, dtype: int64"
      ]
     },
     "execution_count": 10,
     "metadata": {},
     "output_type": "execute_result"
    }
   ],
   "source": [
    "data['balcony'] = data['balcony'].fillna(0)\n",
    "data['balcony'].value_counts(dropna=False)"
   ]
  },
  {
   "cell_type": "markdown",
   "metadata": {},
   "source": [
    "Пропуски в столбце balcony, возможно связаны с тем, что данные объекты недвижимости не имеют балконов, такие пропуски можно заменить на 0"
   ]
  },
  {
   "cell_type": "markdown",
   "metadata": {},
   "source": [
    "2.4 Расмотрим пропуски в столбце locality_name и столбец floors_total"
   ]
  },
  {
   "cell_type": "code",
   "execution_count": 11,
   "metadata": {},
   "outputs": [],
   "source": [
    "data = data.dropna(subset = ['locality_name', 'floors_total'])"
   ]
  },
  {
   "cell_type": "markdown",
   "metadata": {},
   "source": [
    "Так как пропушенных данных очень мало, строки с такими пропусками можно удалить."
   ]
  },
  {
   "cell_type": "code",
   "execution_count": 12,
   "metadata": {},
   "outputs": [
    {
     "data": {
      "text/plain": [
       "total_images                0\n",
       "last_price                  0\n",
       "total_area                  0\n",
       "first_day_exposition        0\n",
       "rooms                       0\n",
       "ceiling_height           9084\n",
       "floors_total                0\n",
       "living_area              1865\n",
       "floor                       0\n",
       "is_apartment                0\n",
       "studio                      0\n",
       "open_plan                   0\n",
       "kitchen_area             2222\n",
       "balcony                     0\n",
       "locality_name               0\n",
       "airports_nearest         5524\n",
       "cityCenters_nearest      5501\n",
       "parks_around3000         5500\n",
       "parks_nearest           15535\n",
       "ponds_around3000         5500\n",
       "ponds_nearest           14529\n",
       "days_exposition          3171\n",
       "dtype: int64"
      ]
     },
     "execution_count": 12,
     "metadata": {},
     "output_type": "execute_result"
    }
   ],
   "source": [
    "data.isna().sum()"
   ]
  },
  {
   "cell_type": "markdown",
   "metadata": {},
   "source": [
    "В данных parks_around3000, parks_nearest, ponds_around3000, ponds_neares, airports_nearest, city_centers_nearest данные о близости объектов отсувуют их можно оставить пустыми. days_exposition отсутвие данных говрит о том что объявление еще является актуальным. ceiling_height, floors_total, living_area, kitchen_area, locality_name данные просто не заполнены либо произошлой сбой при выгрузке данны, оставляем как есть."
   ]
  },
  {
   "cell_type": "markdown",
   "metadata": {},
   "source": [
    "2.5 Тип данных"
   ]
  },
  {
   "cell_type": "code",
   "execution_count": 13,
   "metadata": {},
   "outputs": [
    {
     "name": "stdout",
     "output_type": "stream",
     "text": [
      "<class 'pandas.core.frame.DataFrame'>\n",
      "Int64Index: 23565 entries, 0 to 23698\n",
      "Data columns (total 22 columns):\n",
      " #   Column                Non-Null Count  Dtype  \n",
      "---  ------                --------------  -----  \n",
      " 0   total_images          23565 non-null  int64  \n",
      " 1   last_price            23565 non-null  float64\n",
      " 2   total_area            23565 non-null  float64\n",
      " 3   first_day_exposition  23565 non-null  object \n",
      " 4   rooms                 23565 non-null  int64  \n",
      " 5   ceiling_height        14481 non-null  float64\n",
      " 6   floors_total          23565 non-null  float64\n",
      " 7   living_area           21700 non-null  float64\n",
      " 8   floor                 23565 non-null  int64  \n",
      " 9   is_apartment          23565 non-null  bool   \n",
      " 10  studio                23565 non-null  bool   \n",
      " 11  open_plan             23565 non-null  bool   \n",
      " 12  kitchen_area          21343 non-null  float64\n",
      " 13  balcony               23565 non-null  float64\n",
      " 14  locality_name         23565 non-null  object \n",
      " 15  airports_nearest      18041 non-null  float64\n",
      " 16  cityCenters_nearest   18064 non-null  float64\n",
      " 17  parks_around3000      18065 non-null  float64\n",
      " 18  parks_nearest         8030 non-null   float64\n",
      " 19  ponds_around3000      18065 non-null  float64\n",
      " 20  ponds_nearest         9036 non-null   float64\n",
      " 21  days_exposition       20394 non-null  float64\n",
      "dtypes: bool(3), float64(14), int64(3), object(2)\n",
      "memory usage: 3.7+ MB\n"
     ]
    }
   ],
   "source": [
    "data.info()"
   ]
  },
  {
   "cell_type": "markdown",
   "metadata": {},
   "source": [
    "Необходимо смнеить тип данных на:\n",
    "last_price - int64 так как это целостные числа\n",
    "first_day_exposition - datetime для удобства обращения к датам \n",
    "floors_total - int64 целые числа\n",
    "balcony - int64 целые числа"
   ]
  },
  {
   "cell_type": "code",
   "execution_count": 14,
   "metadata": {},
   "outputs": [],
   "source": [
    "data['last_price'] = data['last_price'].astype('int')\n",
    "data['first_day_exposition'] = pd.to_datetime(data['first_day_exposition'],format='%Y-%m-%dT%H:%M:%S')\n",
    "data['floors_total'] = data['floors_total'].astype('int')\n",
    "data['balcony'] = data['balcony'].astype('int')"
   ]
  },
  {
   "cell_type": "code",
   "execution_count": 15,
   "metadata": {},
   "outputs": [
    {
     "name": "stdout",
     "output_type": "stream",
     "text": [
      "<class 'pandas.core.frame.DataFrame'>\n",
      "Int64Index: 23565 entries, 0 to 23698\n",
      "Data columns (total 22 columns):\n",
      " #   Column                Non-Null Count  Dtype         \n",
      "---  ------                --------------  -----         \n",
      " 0   total_images          23565 non-null  int64         \n",
      " 1   last_price            23565 non-null  int64         \n",
      " 2   total_area            23565 non-null  float64       \n",
      " 3   first_day_exposition  23565 non-null  datetime64[ns]\n",
      " 4   rooms                 23565 non-null  int64         \n",
      " 5   ceiling_height        14481 non-null  float64       \n",
      " 6   floors_total          23565 non-null  int64         \n",
      " 7   living_area           21700 non-null  float64       \n",
      " 8   floor                 23565 non-null  int64         \n",
      " 9   is_apartment          23565 non-null  bool          \n",
      " 10  studio                23565 non-null  bool          \n",
      " 11  open_plan             23565 non-null  bool          \n",
      " 12  kitchen_area          21343 non-null  float64       \n",
      " 13  balcony               23565 non-null  int64         \n",
      " 14  locality_name         23565 non-null  object        \n",
      " 15  airports_nearest      18041 non-null  float64       \n",
      " 16  cityCenters_nearest   18064 non-null  float64       \n",
      " 17  parks_around3000      18065 non-null  float64       \n",
      " 18  parks_nearest         8030 non-null   float64       \n",
      " 19  ponds_around3000      18065 non-null  float64       \n",
      " 20  ponds_nearest         9036 non-null   float64       \n",
      " 21  days_exposition       20394 non-null  float64       \n",
      "dtypes: bool(3), datetime64[ns](1), float64(11), int64(6), object(1)\n",
      "memory usage: 3.7+ MB\n"
     ]
    }
   ],
   "source": [
    "data.info()"
   ]
  },
  {
   "cell_type": "markdown",
   "metadata": {},
   "source": [
    "Данные из строк parks_around3000, ponds_around3000, days_exposition не меняем из-за пропусков в данных."
   ]
  },
  {
   "cell_type": "markdown",
   "metadata": {},
   "source": [
    "2.6 Поиск дубликатов"
   ]
  },
  {
   "cell_type": "code",
   "execution_count": 16,
   "metadata": {},
   "outputs": [
    {
     "data": {
      "text/plain": [
       "0"
      ]
     },
     "execution_count": 16,
     "metadata": {},
     "output_type": "execute_result"
    }
   ],
   "source": [
    "data.duplicated().sum()"
   ]
  },
  {
   "cell_type": "markdown",
   "metadata": {},
   "source": [
    "явные дубликаты не выевлены, далее проверим на неявные дубликаты по столбцу locality_name"
   ]
  },
  {
   "cell_type": "code",
   "execution_count": 17,
   "metadata": {},
   "outputs": [
    {
     "data": {
      "text/plain": [
       "array(['Бокситогорск', 'Волосово', 'Волхов', 'Всеволожск', 'Выборг',\n",
       "       'Высоцк', 'Гатчина', 'Зеленогорск', 'Ивангород', 'Каменногорск',\n",
       "       'Кингисепп', 'Кириши', 'Кировск', 'Колпино', 'Коммунар',\n",
       "       'Красное Село', 'Кронштадт', 'Кудрово', 'Лодейное Поле',\n",
       "       'Ломоносов', 'Луга', 'Любань', 'Мурино', 'Никольское',\n",
       "       'Новая Ладога', 'Отрадное', 'Павловск', 'Петергоф', 'Пикалёво',\n",
       "       'Подпорожье', 'Приморск', 'Приозерск', 'Пушкин', 'Санкт-Петербург',\n",
       "       'Светогорск', 'Сертолово', 'Сестрорецк', 'Сланцы', 'Сосновый Бор',\n",
       "       'Сясьстрой', 'Тихвин', 'Тосно', 'Шлиссельбург',\n",
       "       'городской поселок Большая Ижора', 'городской поселок Янино-1',\n",
       "       'городской посёлок Будогощь', 'городской посёлок Виллози',\n",
       "       'городской посёлок Лесогорский', 'городской посёлок Мга',\n",
       "       'городской посёлок Назия', 'городской посёлок Новоселье',\n",
       "       'городской посёлок Павлово', 'городской посёлок Рощино',\n",
       "       'городской посёлок Свирьстрой', 'городской посёлок Советский',\n",
       "       'городской посёлок Фёдоровское', 'городской посёлок Янино-1',\n",
       "       'деревня Агалатово', 'деревня Аро', 'деревня Батово',\n",
       "       'деревня Бегуницы', 'деревня Белогорка', 'деревня Большая Вруда',\n",
       "       'деревня Большая Пустомержа', 'деревня Большие Колпаны',\n",
       "       'деревня Большое Рейзино', 'деревня Большой Сабск', 'деревня Бор',\n",
       "       'деревня Борисова Грива', 'деревня Ваганово', 'деревня Вартемяги',\n",
       "       'деревня Вахнова Кара', 'деревня Выскатка', 'деревня Гарболово',\n",
       "       'деревня Глинка', 'деревня Горбунки', 'деревня Гостилицы',\n",
       "       'деревня Заклинье', 'деревня Заневка', 'деревня Зимитицы',\n",
       "       'деревня Извара', 'деревня Иссад', 'деревня Калитино',\n",
       "       'деревня Кальтино', 'деревня Камышовка', 'деревня Каськово',\n",
       "       'деревня Келози', 'деревня Кипень', 'деревня Кисельня',\n",
       "       'деревня Колтуши', 'деревня Коркино', 'деревня Котлы',\n",
       "       'деревня Кривко', 'деревня Кудрово', 'деревня Кузьмолово',\n",
       "       'деревня Курковицы', 'деревня Куровицы', 'деревня Куттузи',\n",
       "       'деревня Лаврики', 'деревня Лаголово', 'деревня Лампово',\n",
       "       'деревня Лесколово', 'деревня Лопухинка', 'деревня Лупполово',\n",
       "       'деревня Малая Романовка', 'деревня Малое Верево',\n",
       "       'деревня Малое Карлино', 'деревня Малые Колпаны',\n",
       "       'деревня Мануйлово', 'деревня Меньково', 'деревня Мины',\n",
       "       'деревня Мистолово', 'деревня Ненимяки', 'деревня Нижние Осельки',\n",
       "       'деревня Нижняя', 'деревня Низино', 'деревня Новое Девяткино',\n",
       "       'деревня Новолисино', 'деревня Нурма', 'деревня Оржицы',\n",
       "       'деревня Парицы', 'деревня Пельгора', 'деревня Пеники',\n",
       "       'деревня Пижма', 'деревня Пикколово', 'деревня Пудомяги',\n",
       "       'деревня Пустынка', 'деревня Пчева', 'деревня Рабитицы',\n",
       "       'деревня Разбегаево', 'деревня Раздолье', 'деревня Разметелево',\n",
       "       'деревня Рапполово', 'деревня Реброво', 'деревня Русско',\n",
       "       'деревня Сижно', 'деревня Снегирёвка', 'деревня Старая',\n",
       "       'деревня Старая Пустошь', 'деревня Старое Хинколово',\n",
       "       'деревня Старополье', 'деревня Старосиверская',\n",
       "       'деревня Старые Бегуницы', 'деревня Суоранда',\n",
       "       'деревня Сяськелево', 'деревня Тарасово', 'деревня Терпилицы',\n",
       "       'деревня Тихковицы', 'деревня Тойворово', 'деревня Торосово',\n",
       "       'деревня Торошковичи', 'деревня Трубников Бор',\n",
       "       'деревня Фалилеево', 'деревня Фёдоровское', 'деревня Хапо-Ое',\n",
       "       'деревня Хязельки', 'деревня Чудской Бор', 'деревня Шпаньково',\n",
       "       'деревня Щеглово', 'деревня Юкки', 'деревня Ялгино',\n",
       "       'деревня Яльгелево', 'деревня Ям-Тесово',\n",
       "       'коттеджный поселок Кивеннапа Север', 'коттеджный поселок Счастье',\n",
       "       'коттеджный посёлок Лесное', 'поселок Аннино', 'поселок Барышево',\n",
       "       'поселок Бугры', 'поселок Возрождение', 'поселок Войсковицы',\n",
       "       'поселок Володарское', 'поселок Гаврилово', 'поселок Гарболово',\n",
       "       'поселок Гладкое', 'поселок Глажево', 'поселок Глебычево',\n",
       "       'поселок Гончарово', 'поселок Громово', 'поселок Дружноселье',\n",
       "       'поселок Елизаветино', 'поселок Жилгородок', 'поселок Жилпосёлок',\n",
       "       'поселок Житково', 'поселок Заводской', 'поселок Запорожское',\n",
       "       'поселок Зимитицы', 'поселок Ильичёво', 'поселок Калитино',\n",
       "       'поселок Каложицы', 'поселок Кингисеппский', 'поселок Кирпичное',\n",
       "       'поселок Кобралово', 'поселок Кобринское', 'поселок Коммунары',\n",
       "       'поселок Коробицыно', 'поселок Котельский',\n",
       "       'поселок Красная Долина', 'поселок Красносельское',\n",
       "       'поселок Лесное', 'поселок Лисий Нос', 'поселок Лукаши',\n",
       "       'поселок Любань', 'поселок Мельниково', 'поселок Мичуринское',\n",
       "       'поселок Молодцово', 'поселок Мурино', 'поселок Новый Свет',\n",
       "       'поселок Новый Учхоз', 'поселок Оредеж',\n",
       "       'поселок Пансионат Зелёный Бор', 'поселок Первомайское',\n",
       "       'поселок Перово', 'поселок Петровское', 'поселок Победа',\n",
       "       'поселок Поляны', 'поселок Почап', 'поселок Починок',\n",
       "       'поселок Пушное', 'поселок Пчевжа', 'поселок Рабитицы',\n",
       "       'поселок Романовка', 'поселок Ромашки', 'поселок Рябово',\n",
       "       'поселок Севастьяново', 'поселок Селезнёво', 'поселок Сельцо',\n",
       "       'поселок Семиозерье', 'поселок Семрино', 'поселок Серебрянский',\n",
       "       'поселок Совхозный', 'поселок Старая Малукса',\n",
       "       'поселок Стеклянный', 'поселок Сумино', 'поселок Суходолье',\n",
       "       'поселок Тельмана', 'поселок Терволово', 'поселок Торковичи',\n",
       "       'поселок Тёсово-4', 'поселок Углово', 'поселок Усть-Луга',\n",
       "       'поселок Ушаки', 'поселок Цвелодубово', 'поселок Цвылёво',\n",
       "       'поселок городского типа Большая Ижора',\n",
       "       'поселок городского типа Вырица',\n",
       "       'поселок городского типа Дружная Горка',\n",
       "       'поселок городского типа Дубровка',\n",
       "       'поселок городского типа Ефимовский',\n",
       "       'поселок городского типа Кондратьево',\n",
       "       'поселок городского типа Красный Бор',\n",
       "       'поселок городского типа Кузьмоловский',\n",
       "       'поселок городского типа Лебяжье',\n",
       "       'поселок городского типа Лесогорский',\n",
       "       'поселок городского типа Назия',\n",
       "       'поселок городского типа Никольский',\n",
       "       'поселок городского типа Приладожский',\n",
       "       'поселок городского типа Рахья', 'поселок городского типа Рощино',\n",
       "       'поселок городского типа Рябово',\n",
       "       'поселок городского типа Синявино',\n",
       "       'поселок городского типа Советский',\n",
       "       'поселок городского типа Токсово',\n",
       "       'поселок городского типа Форносово',\n",
       "       'поселок городского типа имени Свердлова',\n",
       "       'поселок станции Вещево', 'поселок станции Корнево',\n",
       "       'поселок станции Лужайка', 'поселок станции Приветнинское',\n",
       "       'посёлок Александровская', 'посёлок Алексеевка', 'посёлок Аннино',\n",
       "       'посёлок Белоостров', 'посёлок Бугры', 'посёлок Возрождение',\n",
       "       'посёлок Войскорово', 'посёлок Высокоключевой',\n",
       "       'посёлок Гаврилово', 'посёлок Дзержинского', 'посёлок Жилгородок',\n",
       "       'посёлок Ильичёво', 'посёлок Кикерино', 'посёлок Кобралово',\n",
       "       'посёлок Коробицыно', 'посёлок Левашово', 'посёлок Ленинское',\n",
       "       'посёлок Лисий Нос', 'посёлок Мельниково', 'посёлок Металлострой',\n",
       "       'посёлок Мичуринское', 'посёлок Молодёжное', 'посёлок Мурино',\n",
       "       'посёлок Мыза-Ивановка', 'посёлок Новогорелово',\n",
       "       'посёлок Новый Свет', 'посёлок Пансионат Зелёный Бор',\n",
       "       'посёлок Парголово', 'посёлок Перово', 'посёлок Песочный',\n",
       "       'посёлок Петро-Славянка', 'посёлок Петровское',\n",
       "       'посёлок Платформа 69-й километр', 'посёлок Плодовое',\n",
       "       'посёлок Плоское', 'посёлок Победа', 'посёлок Поляны',\n",
       "       'посёлок Понтонный', 'посёлок Пригородный', 'посёлок Пудость',\n",
       "       'посёлок Репино', 'посёлок Ропша', 'посёлок Сапёрное',\n",
       "       'посёлок Сапёрный', 'посёлок Сосново', 'посёлок Старая Малукса',\n",
       "       'посёлок Стеклянный', 'посёлок Стрельна', 'посёлок Суйда',\n",
       "       'посёлок Сумино', 'посёлок Тельмана', 'посёлок Терволово',\n",
       "       'посёлок Торфяное', 'посёлок Усть-Ижора', 'посёлок Усть-Луга',\n",
       "       'посёлок Форт Красная Горка', 'посёлок Шугозеро', 'посёлок Шушары',\n",
       "       'посёлок Щеглово', 'посёлок городского типа Важины',\n",
       "       'посёлок городского типа Вознесенье',\n",
       "       'посёлок городского типа Вырица',\n",
       "       'посёлок городского типа Красный Бор',\n",
       "       'посёлок городского типа Кузнечное',\n",
       "       'посёлок городского типа Кузьмоловский',\n",
       "       'посёлок городского типа Лебяжье', 'посёлок городского типа Мга',\n",
       "       'посёлок городского типа Павлово',\n",
       "       'посёлок городского типа Рощино', 'посёлок городского типа Рябово',\n",
       "       'посёлок городского типа Сиверский',\n",
       "       'посёлок городского типа Тайцы', 'посёлок городского типа Токсово',\n",
       "       'посёлок городского типа Ульяновка',\n",
       "       'посёлок городского типа Форносово',\n",
       "       'посёлок городского типа имени Морозова',\n",
       "       'посёлок городского типа имени Свердлова',\n",
       "       'посёлок при железнодорожной станции Вещево',\n",
       "       'посёлок при железнодорожной станции Приветнинское',\n",
       "       'посёлок станции Громово', 'посёлок станции Свирь',\n",
       "       'садоводческое некоммерческое товарищество Лесная Поляна',\n",
       "       'садовое товарищество Новая Ропша',\n",
       "       'садовое товарищество Приладожский', 'садовое товарищество Рахья',\n",
       "       'садовое товарищество Садко', 'село Копорье', 'село Никольское',\n",
       "       'село Павлово', 'село Паша', 'село Путилово', 'село Рождествено',\n",
       "       'село Русско-Высоцкое', 'село Старая Ладога', 'село Шум'],\n",
       "      dtype=object)"
      ]
     },
     "execution_count": 17,
     "metadata": {},
     "output_type": "execute_result"
    }
   ],
   "source": [
    "data.locality_name.sort_values().unique()\n"
   ]
  },
  {
   "cell_type": "markdown",
   "metadata": {},
   "source": [
    "видны возможные повторы из-за разного написания буквы е и ё, так же видны повторы в названии городской поселок\" и \"поселок городского типа\", приведем это к единому 'пгт\", повторы в написании 'посёлок при железнодорожной станции  и 'посёлок станции"
   ]
  },
  {
   "cell_type": "code",
   "execution_count": 18,
   "metadata": {},
   "outputs": [
    {
     "data": {
      "text/plain": [
       "364"
      ]
     },
     "execution_count": 18,
     "metadata": {},
     "output_type": "execute_result"
    }
   ],
   "source": [
    "len(data.locality_name.sort_values().unique())"
   ]
  },
  {
   "cell_type": "code",
   "execution_count": 19,
   "metadata": {},
   "outputs": [],
   "source": [
    "data['locality_name'] = data['locality_name'].str.replace('ё', 'е')"
   ]
  },
  {
   "cell_type": "code",
   "execution_count": 20,
   "metadata": {},
   "outputs": [],
   "source": [
    "data['locality_name'] = data['locality_name'].str.replace('городской поселок','пгт')\n",
    "data['locality_name'] = data['locality_name'].str.replace('поселок городского типа','пгт')\n",
    "data['locality_name'] = data['locality_name'].str.replace('поселок станции','поселок при железнодорожной станции')"
   ]
  },
  {
   "cell_type": "code",
   "execution_count": 21,
   "metadata": {},
   "outputs": [
    {
     "data": {
      "text/plain": [
       "321"
      ]
     },
     "execution_count": 21,
     "metadata": {},
     "output_type": "execute_result"
    }
   ],
   "source": [
    "len(data.locality_name.sort_values().unique())"
   ]
  },
  {
   "cell_type": "code",
   "execution_count": 22,
   "metadata": {},
   "outputs": [
    {
     "data": {
      "text/plain": [
       "array(['Бокситогорск', 'Волосово', 'Волхов', 'Всеволожск', 'Выборг',\n",
       "       'Высоцк', 'Гатчина', 'Зеленогорск', 'Ивангород', 'Каменногорск',\n",
       "       'Кингисепп', 'Кириши', 'Кировск', 'Колпино', 'Коммунар',\n",
       "       'Красное Село', 'Кронштадт', 'Кудрово', 'Лодейное Поле',\n",
       "       'Ломоносов', 'Луга', 'Любань', 'Мурино', 'Никольское',\n",
       "       'Новая Ладога', 'Отрадное', 'Павловск', 'Петергоф', 'Пикалево',\n",
       "       'Подпорожье', 'Приморск', 'Приозерск', 'Пушкин', 'Санкт-Петербург',\n",
       "       'Светогорск', 'Сертолово', 'Сестрорецк', 'Сланцы', 'Сосновый Бор',\n",
       "       'Сясьстрой', 'Тихвин', 'Тосно', 'Шлиссельбург',\n",
       "       'деревня Агалатово', 'деревня Аро', 'деревня Батово',\n",
       "       'деревня Бегуницы', 'деревня Белогорка', 'деревня Большая Вруда',\n",
       "       'деревня Большая Пустомержа', 'деревня Большие Колпаны',\n",
       "       'деревня Большое Рейзино', 'деревня Большой Сабск', 'деревня Бор',\n",
       "       'деревня Борисова Грива', 'деревня Ваганово', 'деревня Вартемяги',\n",
       "       'деревня Вахнова Кара', 'деревня Выскатка', 'деревня Гарболово',\n",
       "       'деревня Глинка', 'деревня Горбунки', 'деревня Гостилицы',\n",
       "       'деревня Заклинье', 'деревня Заневка', 'деревня Зимитицы',\n",
       "       'деревня Извара', 'деревня Иссад', 'деревня Калитино',\n",
       "       'деревня Кальтино', 'деревня Камышовка', 'деревня Каськово',\n",
       "       'деревня Келози', 'деревня Кипень', 'деревня Кисельня',\n",
       "       'деревня Колтуши', 'деревня Коркино', 'деревня Котлы',\n",
       "       'деревня Кривко', 'деревня Кудрово', 'деревня Кузьмолово',\n",
       "       'деревня Курковицы', 'деревня Куровицы', 'деревня Куттузи',\n",
       "       'деревня Лаврики', 'деревня Лаголово', 'деревня Лампово',\n",
       "       'деревня Лесколово', 'деревня Лопухинка', 'деревня Лупполово',\n",
       "       'деревня Малая Романовка', 'деревня Малое Верево',\n",
       "       'деревня Малое Карлино', 'деревня Малые Колпаны',\n",
       "       'деревня Мануйлово', 'деревня Меньково', 'деревня Мины',\n",
       "       'деревня Мистолово', 'деревня Ненимяки', 'деревня Нижние Осельки',\n",
       "       'деревня Нижняя', 'деревня Низино', 'деревня Новое Девяткино',\n",
       "       'деревня Новолисино', 'деревня Нурма', 'деревня Оржицы',\n",
       "       'деревня Парицы', 'деревня Пельгора', 'деревня Пеники',\n",
       "       'деревня Пижма', 'деревня Пикколово', 'деревня Пудомяги',\n",
       "       'деревня Пустынка', 'деревня Пчева', 'деревня Рабитицы',\n",
       "       'деревня Разбегаево', 'деревня Раздолье', 'деревня Разметелево',\n",
       "       'деревня Рапполово', 'деревня Реброво', 'деревня Русско',\n",
       "       'деревня Сижно', 'деревня Снегиревка', 'деревня Старая',\n",
       "       'деревня Старая Пустошь', 'деревня Старое Хинколово',\n",
       "       'деревня Старополье', 'деревня Старосиверская',\n",
       "       'деревня Старые Бегуницы', 'деревня Суоранда',\n",
       "       'деревня Сяськелево', 'деревня Тарасово', 'деревня Терпилицы',\n",
       "       'деревня Тихковицы', 'деревня Тойворово', 'деревня Торосово',\n",
       "       'деревня Торошковичи', 'деревня Трубников Бор',\n",
       "       'деревня Фалилеево', 'деревня Федоровское', 'деревня Хапо-Ое',\n",
       "       'деревня Хязельки', 'деревня Чудской Бор', 'деревня Шпаньково',\n",
       "       'деревня Щеглово', 'деревня Юкки', 'деревня Ялгино',\n",
       "       'деревня Яльгелево', 'деревня Ям-Тесово',\n",
       "       'коттеджный поселок Кивеннапа Север', 'коттеджный поселок Лесное',\n",
       "       'коттеджный поселок Счастье', 'пгт Большая Ижора', 'пгт Будогощь',\n",
       "       'пгт Важины', 'пгт Виллози', 'пгт Вознесенье', 'пгт Вырица',\n",
       "       'пгт Дружная Горка', 'пгт Дубровка', 'пгт Ефимовский',\n",
       "       'пгт Кондратьево', 'пгт Красный Бор', 'пгт Кузнечное',\n",
       "       'пгт Кузьмоловский', 'пгт Лебяжье', 'пгт Лесогорский', 'пгт Мга',\n",
       "       'пгт Назия', 'пгт Никольский', 'пгт Новоселье', 'пгт Павлово',\n",
       "       'пгт Приладожский', 'пгт Рахья', 'пгт Рощино', 'пгт Рябово',\n",
       "       'пгт Свирьстрой', 'пгт Сиверский', 'пгт Синявино', 'пгт Советский',\n",
       "       'пгт Тайцы', 'пгт Токсово', 'пгт Ульяновка', 'пгт Федоровское',\n",
       "       'пгт Форносово', 'пгт Янино-1', 'пгт имени Морозова',\n",
       "       'пгт имени Свердлова', 'поселок Александровская',\n",
       "       'поселок Алексеевка', 'поселок Аннино', 'поселок Барышево',\n",
       "       'поселок Белоостров', 'поселок Бугры', 'поселок Возрождение',\n",
       "       'поселок Войсковицы', 'поселок Войскорово', 'поселок Володарское',\n",
       "       'поселок Высокоключевой', 'поселок Гаврилово', 'поселок Гарболово',\n",
       "       'поселок Гладкое', 'поселок Глажево', 'поселок Глебычево',\n",
       "       'поселок Гончарово', 'поселок Громово', 'поселок Дзержинского',\n",
       "       'поселок Дружноселье', 'поселок Елизаветино', 'поселок Жилгородок',\n",
       "       'поселок Жилпоселок', 'поселок Житково', 'поселок Заводской',\n",
       "       'поселок Запорожское', 'поселок Зимитицы', 'поселок Ильичево',\n",
       "       'поселок Калитино', 'поселок Каложицы', 'поселок Кикерино',\n",
       "       'поселок Кингисеппский', 'поселок Кирпичное', 'поселок Кобралово',\n",
       "       'поселок Кобринское', 'поселок Коммунары', 'поселок Коробицыно',\n",
       "       'поселок Котельский', 'поселок Красная Долина',\n",
       "       'поселок Красносельское', 'поселок Левашово', 'поселок Ленинское',\n",
       "       'поселок Лесное', 'поселок Лисий Нос', 'поселок Лукаши',\n",
       "       'поселок Любань', 'поселок Мельниково', 'поселок Металлострой',\n",
       "       'поселок Мичуринское', 'поселок Молодежное', 'поселок Молодцово',\n",
       "       'поселок Мурино', 'поселок Мыза-Ивановка', 'поселок Новогорелово',\n",
       "       'поселок Новый Свет', 'поселок Новый Учхоз', 'поселок Оредеж',\n",
       "       'поселок Пансионат Зеленый Бор', 'поселок Парголово',\n",
       "       'поселок Первомайское', 'поселок Перово', 'поселок Песочный',\n",
       "       'поселок Петро-Славянка', 'поселок Петровское',\n",
       "       'поселок Платформа 69-й километр', 'поселок Плодовое',\n",
       "       'поселок Плоское', 'поселок Победа', 'поселок Поляны',\n",
       "       'поселок Понтонный', 'поселок Почап', 'поселок Починок',\n",
       "       'поселок Пригородный', 'поселок Пудость', 'поселок Пушное',\n",
       "       'поселок Пчевжа', 'поселок Рабитицы', 'поселок Репино',\n",
       "       'поселок Романовка', 'поселок Ромашки', 'поселок Ропша',\n",
       "       'поселок Рябово', 'поселок Саперное', 'поселок Саперный',\n",
       "       'поселок Севастьяново', 'поселок Селезнево', 'поселок Сельцо',\n",
       "       'поселок Семиозерье', 'поселок Семрино', 'поселок Серебрянский',\n",
       "       'поселок Совхозный', 'поселок Сосново', 'поселок Старая Малукса',\n",
       "       'поселок Стеклянный', 'поселок Стрельна', 'поселок Суйда',\n",
       "       'поселок Сумино', 'поселок Суходолье', 'поселок Тельмана',\n",
       "       'поселок Терволово', 'поселок Тесово-4', 'поселок Торковичи',\n",
       "       'поселок Торфяное', 'поселок Углово', 'поселок Усть-Ижора',\n",
       "       'поселок Усть-Луга', 'поселок Ушаки', 'поселок Форт Красная Горка',\n",
       "       'поселок Цвелодубово', 'поселок Цвылево', 'поселок Шугозеро',\n",
       "       'поселок Шушары', 'поселок Щеглово',\n",
       "       'поселок при железнодорожной станции Вещево',\n",
       "       'поселок при железнодорожной станции Громово',\n",
       "       'поселок при железнодорожной станции Корнево',\n",
       "       'поселок при железнодорожной станции Лужайка',\n",
       "       'поселок при железнодорожной станции Приветнинское',\n",
       "       'поселок при железнодорожной станции Свирь',\n",
       "       'садоводческое некоммерческое товарищество Лесная Поляна',\n",
       "       'садовое товарищество Новая Ропша',\n",
       "       'садовое товарищество Приладожский', 'садовое товарищество Рахья',\n",
       "       'садовое товарищество Садко', 'село Копорье', 'село Никольское',\n",
       "       'село Павлово', 'село Паша', 'село Путилово', 'село Рождествено',\n",
       "       'село Русско-Высоцкое', 'село Старая Ладога', 'село Шум'],\n",
       "      dtype=object)"
      ]
     },
     "execution_count": 22,
     "metadata": {},
     "output_type": "execute_result"
    }
   ],
   "source": [
    "data.locality_name.sort_values().unique()\n"
   ]
  },
  {
   "cell_type": "markdown",
   "metadata": {},
   "source": [
    "Избавились от 43 не явных дубликатов"
   ]
  },
  {
   "cell_type": "code",
   "execution_count": 23,
   "metadata": {},
   "outputs": [
    {
     "data": {
      "text/plain": [
       "0"
      ]
     },
     "execution_count": 23,
     "metadata": {},
     "output_type": "execute_result"
    }
   ],
   "source": [
    "data.duplicated().sum()"
   ]
  },
  {
   "cell_type": "markdown",
   "metadata": {},
   "source": [
    "Явные дубликаты не появились, значит все хорошо"
   ]
  },
  {
   "cell_type": "markdown",
   "metadata": {},
   "source": [
    "2.7 Устранение выбросов"
   ]
  },
  {
   "cell_type": "code",
   "execution_count": 24,
   "metadata": {},
   "outputs": [
    {
     "data": {
      "text/html": [
       "<div>\n",
       "<style scoped>\n",
       "    .dataframe tbody tr th:only-of-type {\n",
       "        vertical-align: middle;\n",
       "    }\n",
       "\n",
       "    .dataframe tbody tr th {\n",
       "        vertical-align: top;\n",
       "    }\n",
       "\n",
       "    .dataframe thead th {\n",
       "        text-align: right;\n",
       "    }\n",
       "</style>\n",
       "<table border=\"1\" class=\"dataframe\">\n",
       "  <thead>\n",
       "    <tr style=\"text-align: right;\">\n",
       "      <th></th>\n",
       "      <th>total_images</th>\n",
       "      <th>last_price</th>\n",
       "      <th>total_area</th>\n",
       "      <th>rooms</th>\n",
       "      <th>ceiling_height</th>\n",
       "      <th>floors_total</th>\n",
       "      <th>living_area</th>\n",
       "      <th>floor</th>\n",
       "      <th>kitchen_area</th>\n",
       "      <th>balcony</th>\n",
       "      <th>airports_nearest</th>\n",
       "      <th>cityCenters_nearest</th>\n",
       "      <th>parks_around3000</th>\n",
       "      <th>parks_nearest</th>\n",
       "      <th>ponds_around3000</th>\n",
       "      <th>ponds_nearest</th>\n",
       "      <th>days_exposition</th>\n",
       "    </tr>\n",
       "  </thead>\n",
       "  <tbody>\n",
       "    <tr>\n",
       "      <th>count</th>\n",
       "      <td>23565.000000</td>\n",
       "      <td>2.356500e+04</td>\n",
       "      <td>23565.000000</td>\n",
       "      <td>23565.000000</td>\n",
       "      <td>14481.000000</td>\n",
       "      <td>23565.000000</td>\n",
       "      <td>21700.000000</td>\n",
       "      <td>23565.000000</td>\n",
       "      <td>21343.000000</td>\n",
       "      <td>23565.000000</td>\n",
       "      <td>18041.000000</td>\n",
       "      <td>18064.000000</td>\n",
       "      <td>18065.000000</td>\n",
       "      <td>8030.000000</td>\n",
       "      <td>18065.000000</td>\n",
       "      <td>9036.000000</td>\n",
       "      <td>20394.000000</td>\n",
       "    </tr>\n",
       "    <tr>\n",
       "      <th>mean</th>\n",
       "      <td>9.878421</td>\n",
       "      <td>6.540058e+06</td>\n",
       "      <td>60.322824</td>\n",
       "      <td>2.070656</td>\n",
       "      <td>2.771283</td>\n",
       "      <td>10.675875</td>\n",
       "      <td>34.454822</td>\n",
       "      <td>5.878124</td>\n",
       "      <td>10.560994</td>\n",
       "      <td>0.593677</td>\n",
       "      <td>28797.082701</td>\n",
       "      <td>14192.656056</td>\n",
       "      <td>0.611569</td>\n",
       "      <td>490.580448</td>\n",
       "      <td>0.769499</td>\n",
       "      <td>518.289509</td>\n",
       "      <td>180.741395</td>\n",
       "    </tr>\n",
       "    <tr>\n",
       "      <th>std</th>\n",
       "      <td>5.681156</td>\n",
       "      <td>1.091093e+07</td>\n",
       "      <td>35.657060</td>\n",
       "      <td>1.078591</td>\n",
       "      <td>1.261983</td>\n",
       "      <td>6.594823</td>\n",
       "      <td>22.045359</td>\n",
       "      <td>4.871485</td>\n",
       "      <td>5.900630</td>\n",
       "      <td>0.960660</td>\n",
       "      <td>12632.499735</td>\n",
       "      <td>8613.348153</td>\n",
       "      <td>0.802088</td>\n",
       "      <td>341.572956</td>\n",
       "      <td>0.938669</td>\n",
       "      <td>278.009558</td>\n",
       "      <td>219.732782</td>\n",
       "    </tr>\n",
       "    <tr>\n",
       "      <th>min</th>\n",
       "      <td>0.000000</td>\n",
       "      <td>1.219000e+04</td>\n",
       "      <td>12.000000</td>\n",
       "      <td>0.000000</td>\n",
       "      <td>1.000000</td>\n",
       "      <td>1.000000</td>\n",
       "      <td>2.000000</td>\n",
       "      <td>1.000000</td>\n",
       "      <td>1.300000</td>\n",
       "      <td>0.000000</td>\n",
       "      <td>0.000000</td>\n",
       "      <td>181.000000</td>\n",
       "      <td>0.000000</td>\n",
       "      <td>1.000000</td>\n",
       "      <td>0.000000</td>\n",
       "      <td>13.000000</td>\n",
       "      <td>1.000000</td>\n",
       "    </tr>\n",
       "    <tr>\n",
       "      <th>25%</th>\n",
       "      <td>6.000000</td>\n",
       "      <td>3.400000e+06</td>\n",
       "      <td>40.000000</td>\n",
       "      <td>1.000000</td>\n",
       "      <td>2.510000</td>\n",
       "      <td>5.000000</td>\n",
       "      <td>18.600000</td>\n",
       "      <td>2.000000</td>\n",
       "      <td>7.000000</td>\n",
       "      <td>0.000000</td>\n",
       "      <td>18565.000000</td>\n",
       "      <td>9238.000000</td>\n",
       "      <td>0.000000</td>\n",
       "      <td>288.000000</td>\n",
       "      <td>0.000000</td>\n",
       "      <td>293.000000</td>\n",
       "      <td>45.000000</td>\n",
       "    </tr>\n",
       "    <tr>\n",
       "      <th>50%</th>\n",
       "      <td>9.000000</td>\n",
       "      <td>4.646000e+06</td>\n",
       "      <td>52.000000</td>\n",
       "      <td>2.000000</td>\n",
       "      <td>2.650000</td>\n",
       "      <td>9.000000</td>\n",
       "      <td>30.000000</td>\n",
       "      <td>4.000000</td>\n",
       "      <td>9.100000</td>\n",
       "      <td>0.000000</td>\n",
       "      <td>26757.000000</td>\n",
       "      <td>13096.500000</td>\n",
       "      <td>0.000000</td>\n",
       "      <td>455.000000</td>\n",
       "      <td>1.000000</td>\n",
       "      <td>503.000000</td>\n",
       "      <td>95.000000</td>\n",
       "    </tr>\n",
       "    <tr>\n",
       "      <th>75%</th>\n",
       "      <td>14.000000</td>\n",
       "      <td>6.790000e+06</td>\n",
       "      <td>69.700000</td>\n",
       "      <td>3.000000</td>\n",
       "      <td>2.800000</td>\n",
       "      <td>16.000000</td>\n",
       "      <td>42.300000</td>\n",
       "      <td>8.000000</td>\n",
       "      <td>12.000000</td>\n",
       "      <td>1.000000</td>\n",
       "      <td>37273.000000</td>\n",
       "      <td>16285.000000</td>\n",
       "      <td>1.000000</td>\n",
       "      <td>612.000000</td>\n",
       "      <td>1.000000</td>\n",
       "      <td>730.000000</td>\n",
       "      <td>231.000000</td>\n",
       "    </tr>\n",
       "    <tr>\n",
       "      <th>max</th>\n",
       "      <td>50.000000</td>\n",
       "      <td>7.630000e+08</td>\n",
       "      <td>900.000000</td>\n",
       "      <td>19.000000</td>\n",
       "      <td>100.000000</td>\n",
       "      <td>60.000000</td>\n",
       "      <td>409.700000</td>\n",
       "      <td>33.000000</td>\n",
       "      <td>112.000000</td>\n",
       "      <td>5.000000</td>\n",
       "      <td>84869.000000</td>\n",
       "      <td>65968.000000</td>\n",
       "      <td>3.000000</td>\n",
       "      <td>3190.000000</td>\n",
       "      <td>3.000000</td>\n",
       "      <td>1344.000000</td>\n",
       "      <td>1580.000000</td>\n",
       "    </tr>\n",
       "  </tbody>\n",
       "</table>\n",
       "</div>"
      ],
      "text/plain": [
       "       total_images    last_price    total_area         rooms  ceiling_height  \\\n",
       "count  23565.000000  2.356500e+04  23565.000000  23565.000000    14481.000000   \n",
       "mean       9.878421  6.540058e+06     60.322824      2.070656        2.771283   \n",
       "std        5.681156  1.091093e+07     35.657060      1.078591        1.261983   \n",
       "min        0.000000  1.219000e+04     12.000000      0.000000        1.000000   \n",
       "25%        6.000000  3.400000e+06     40.000000      1.000000        2.510000   \n",
       "50%        9.000000  4.646000e+06     52.000000      2.000000        2.650000   \n",
       "75%       14.000000  6.790000e+06     69.700000      3.000000        2.800000   \n",
       "max       50.000000  7.630000e+08    900.000000     19.000000      100.000000   \n",
       "\n",
       "       floors_total   living_area         floor  kitchen_area       balcony  \\\n",
       "count  23565.000000  21700.000000  23565.000000  21343.000000  23565.000000   \n",
       "mean      10.675875     34.454822      5.878124     10.560994      0.593677   \n",
       "std        6.594823     22.045359      4.871485      5.900630      0.960660   \n",
       "min        1.000000      2.000000      1.000000      1.300000      0.000000   \n",
       "25%        5.000000     18.600000      2.000000      7.000000      0.000000   \n",
       "50%        9.000000     30.000000      4.000000      9.100000      0.000000   \n",
       "75%       16.000000     42.300000      8.000000     12.000000      1.000000   \n",
       "max       60.000000    409.700000     33.000000    112.000000      5.000000   \n",
       "\n",
       "       airports_nearest  cityCenters_nearest  parks_around3000  parks_nearest  \\\n",
       "count      18041.000000         18064.000000      18065.000000    8030.000000   \n",
       "mean       28797.082701         14192.656056          0.611569     490.580448   \n",
       "std        12632.499735          8613.348153          0.802088     341.572956   \n",
       "min            0.000000           181.000000          0.000000       1.000000   \n",
       "25%        18565.000000          9238.000000          0.000000     288.000000   \n",
       "50%        26757.000000         13096.500000          0.000000     455.000000   \n",
       "75%        37273.000000         16285.000000          1.000000     612.000000   \n",
       "max        84869.000000         65968.000000          3.000000    3190.000000   \n",
       "\n",
       "       ponds_around3000  ponds_nearest  days_exposition  \n",
       "count      18065.000000    9036.000000     20394.000000  \n",
       "mean           0.769499     518.289509       180.741395  \n",
       "std            0.938669     278.009558       219.732782  \n",
       "min            0.000000      13.000000         1.000000  \n",
       "25%            0.000000     293.000000        45.000000  \n",
       "50%            1.000000     503.000000        95.000000  \n",
       "75%            1.000000     730.000000       231.000000  \n",
       "max            3.000000    1344.000000      1580.000000  "
      ]
     },
     "execution_count": 24,
     "metadata": {},
     "output_type": "execute_result"
    }
   ],
   "source": [
    "data.describe()"
   ]
  },
  {
   "cell_type": "markdown",
   "metadata": {},
   "source": [
    "Проведем аналитику данных в столбце last_price на выбросы"
   ]
  },
  {
   "cell_type": "code",
   "execution_count": 25,
   "metadata": {},
   "outputs": [
    {
     "data": {
      "text/plain": [
       "array([[<AxesSubplot:title={'center':'last_price'}>]], dtype=object)"
      ]
     },
     "execution_count": 25,
     "metadata": {},
     "output_type": "execute_result"
    },
    {
     "data": {
      "image/png": "[encoded data removed]",
      "text/plain": [
       "<Figure size 432x288 with 1 Axes>"
      ]
     },
     "metadata": {
      "needs_background": "light"
     },
     "output_type": "display_data"
    }
   ],
   "source": [
    "data.hist('last_price', bins=75)"
   ]
  },
  {
   "cell_type": "markdown",
   "metadata": {},
   "source": [
    "Присутсвуют редкие выбросы стоимости выше 100млн. уберем их"
   ]
  },
  {
   "cell_type": "code",
   "execution_count": 26,
   "metadata": {},
   "outputs": [],
   "source": [
    "data = data.query('last_price <= 100000000').reset_index(drop=True)"
   ]
  },
  {
   "cell_type": "code",
   "execution_count": 27,
   "metadata": {
    "scrolled": true
   },
   "outputs": [
    {
     "data": {
      "text/plain": [
       "array([[<AxesSubplot:title={'center':'last_price'}>]], dtype=object)"
      ]
     },
     "execution_count": 27,
     "metadata": {},
     "output_type": "execute_result"
    },
    {
     "data": {
      "image/png": "[encoded data removed]",
      "text/plain": [
       "<Figure size 432x288 with 1 Axes>"
      ]
     },
     "metadata": {
      "needs_background": "light"
     },
     "output_type": "display_data"
    }
   ],
   "source": [
    "data.hist('last_price', bins=75 )"
   ]
  },
  {
   "cell_type": "markdown",
   "metadata": {},
   "source": [
    "Проведем аналитику данных в столбце total_area на выбросы"
   ]
  },
  {
   "cell_type": "code",
   "execution_count": 28,
   "metadata": {},
   "outputs": [
    {
     "data": {
      "text/plain": [
       "array([[<AxesSubplot:title={'center':'total_area'}>]], dtype=object)"
      ]
     },
     "execution_count": 28,
     "metadata": {},
     "output_type": "execute_result"
    },
    {
     "data": {
      "image/png": "[encoded data removed]",
      "text/plain": [
       "<Figure size 432x288 with 1 Axes>"
      ]
     },
     "metadata": {
      "needs_background": "light"
     },
     "output_type": "display_data"
    },
    {
     "data": {
      "image/png": "[encoded data removed]",
      "text/plain": [
       "<Figure size 432x288 with 1 Axes>"
      ]
     },
     "metadata": {
      "needs_background": "light"
     },
     "output_type": "display_data"
    }
   ],
   "source": [
    "data.hist('total_area', bins=75)\n",
    "data.hist('total_area', bins=75, range=(200,700))"
   ]
  },
  {
   "cell_type": "markdown",
   "metadata": {},
   "source": [
    "Редкими занчениями являются квартиры выше 400 кв метров, уберем их"
   ]
  },
  {
   "cell_type": "code",
   "execution_count": 29,
   "metadata": {},
   "outputs": [
    {
     "data": {
      "text/plain": [
       "array([[<AxesSubplot:title={'center':'total_area'}>]], dtype=object)"
      ]
     },
     "execution_count": 29,
     "metadata": {},
     "output_type": "execute_result"
    },
    {
     "data": {
      "image/png": "[encoded data removed]",
      "text/plain": [
       "<Figure size 432x288 with 1 Axes>"
      ]
     },
     "metadata": {
      "needs_background": "light"
     },
     "output_type": "display_data"
    }
   ],
   "source": [
    "data.drop(index=data.query('total_area > 400').index,inplace=True)\n",
    "data.hist('total_area', bins=75)\n"
   ]
  },
  {
   "cell_type": "markdown",
   "metadata": {},
   "source": [
    "Проведем аналитику данных в столбце rooms на выбросы"
   ]
  },
  {
   "cell_type": "code",
   "execution_count": 30,
   "metadata": {},
   "outputs": [
    {
     "data": {
      "text/plain": [
       "array([[<AxesSubplot:title={'center':'rooms'}>]], dtype=object)"
      ]
     },
     "execution_count": 30,
     "metadata": {},
     "output_type": "execute_result"
    },
    {
     "data": {
      "image/png": "[encoded data removed]",
      "text/plain": [
       "<Figure size 432x288 with 1 Axes>"
      ]
     },
     "metadata": {
      "needs_background": "light"
     },
     "output_type": "display_data"
    },
    {
     "data": {
      "image/png": "[encoded data removed]",
      "text/plain": [
       "<Figure size 432x288 with 1 Axes>"
      ]
     },
     "metadata": {
      "needs_background": "light"
     },
     "output_type": "display_data"
    }
   ],
   "source": [
    "data.hist('rooms', bins=75)\n",
    "data.hist('rooms', bins=75, range=(5,15))"
   ]
  },
  {
   "cell_type": "markdown",
   "metadata": {},
   "source": [
    "Редкими занчениями являются количесво квартир больше 7, уберем их"
   ]
  },
  {
   "cell_type": "code",
   "execution_count": 31,
   "metadata": {},
   "outputs": [
    {
     "data": {
      "text/plain": [
       "array([[<AxesSubplot:title={'center':'rooms'}>]], dtype=object)"
      ]
     },
     "execution_count": 31,
     "metadata": {},
     "output_type": "execute_result"
    },
    {
     "data": {
      "image/png": "[encoded data removed]",
      "text/plain": [
       "<Figure size 432x288 with 1 Axes>"
      ]
     },
     "metadata": {
      "needs_background": "light"
     },
     "output_type": "display_data"
    }
   ],
   "source": [
    "data.drop(index=data.query('rooms > 7').index,inplace=True)\n",
    "data.hist('rooms', bins=75)"
   ]
  },
  {
   "cell_type": "markdown",
   "metadata": {},
   "source": [
    "Проведем аналитику данных в столбце ceiling_height на выбросы"
   ]
  },
  {
   "cell_type": "code",
   "execution_count": 32,
   "metadata": {},
   "outputs": [
    {
     "data": {
      "text/plain": [
       "array([[<AxesSubplot:title={'center':'ceiling_height'}>]], dtype=object)"
      ]
     },
     "execution_count": 32,
     "metadata": {},
     "output_type": "execute_result"
    },
    {
     "data": {
      "image/png": "[encoded data removed]",
      "text/plain": [
       "<Figure size 432x288 with 1 Axes>"
      ]
     },
     "metadata": {
      "needs_background": "light"
     },
     "output_type": "display_data"
    },
    {
     "data": {
      "image/png": "[encoded data removed]",
      "text/plain": [
       "<Figure size 432x288 with 1 Axes>"
      ]
     },
     "metadata": {
      "needs_background": "light"
     },
     "output_type": "display_data"
    }
   ],
   "source": [
    "data.hist('ceiling_height', bins=75, range=(2,7))\n",
    "data.hist('ceiling_height', bins=75, range=(25,37))\n"
   ]
  },
  {
   "cell_type": "markdown",
   "metadata": {},
   "source": [
    "Значения высоты потолка менее 2.5 метров сушественно малы, от них можно избавиться\n",
    "Так же значения от 25 до 32 возможно забыли указать точку разделения исправим это\n",
    "Так же уберем значения выше 5 метров их мало"
   ]
  },
  {
   "cell_type": "code",
   "execution_count": 33,
   "metadata": {},
   "outputs": [],
   "source": [
    "data.drop(index=data.query('ceiling_height < 2.5').index,inplace=True)\n",
    "data.drop(index=data.query('ceiling_height > 5').index,inplace=True)\n",
    "data.update(data[(data['ceiling_height'] >= 25) & (data['ceiling_height'] <= 32)]['ceiling_height']/10)"
   ]
  },
  {
   "cell_type": "code",
   "execution_count": 34,
   "metadata": {},
   "outputs": [
    {
     "data": {
      "text/plain": [
       "array([[<AxesSubplot:title={'center':'ceiling_height'}>]], dtype=object)"
      ]
     },
     "execution_count": 34,
     "metadata": {},
     "output_type": "execute_result"
    },
    {
     "data": {
      "image/png": "[encoded data removed]",
      "text/plain": [
       "<Figure size 432x288 with 1 Axes>"
      ]
     },
     "metadata": {
      "needs_background": "light"
     },
     "output_type": "display_data"
    }
   ],
   "source": [
    "data.hist('ceiling_height', bins=75, range=(2.5,5))\n"
   ]
  },
  {
   "cell_type": "markdown",
   "metadata": {},
   "source": [
    "Проведем аналитику данных в столбце floors_total на выбросы, по таблице видно максимально значение 60, проверим его\n"
   ]
  },
  {
   "cell_type": "code",
   "execution_count": 35,
   "metadata": {},
   "outputs": [
    {
     "data": {
      "text/plain": [
       "array([[<AxesSubplot:title={'center':'floors_total'}>]], dtype=object)"
      ]
     },
     "execution_count": 35,
     "metadata": {},
     "output_type": "execute_result"
    },
    {
     "data": {
      "image/png": "[encoded data removed]",
      "text/plain": [
       "<Figure size 432x288 with 1 Axes>"
      ]
     },
     "metadata": {
      "needs_background": "light"
     },
     "output_type": "display_data"
    },
    {
     "data": {
      "image/png": "[encoded data removed]",
      "text/plain": [
       "<Figure size 432x288 with 1 Axes>"
      ]
     },
     "metadata": {
      "needs_background": "light"
     },
     "output_type": "display_data"
    }
   ],
   "source": [
    "data.hist('floors_total', bins=75)\n",
    "data.hist('floors_total', bins=75, range=(35,61))"
   ]
  },
  {
   "cell_type": "markdown",
   "metadata": {},
   "source": [
    "Видны редкие значения начиная с 36 этажа, уберем их"
   ]
  },
  {
   "cell_type": "code",
   "execution_count": 36,
   "metadata": {},
   "outputs": [
    {
     "data": {
      "text/plain": [
       "array([[<AxesSubplot:title={'center':'floors_total'}>]], dtype=object)"
      ]
     },
     "execution_count": 36,
     "metadata": {},
     "output_type": "execute_result"
    },
    {
     "data": {
      "image/png": "[encoded data removed]",
      "text/plain": [
       "<Figure size 432x288 with 1 Axes>"
      ]
     },
     "metadata": {
      "needs_background": "light"
     },
     "output_type": "display_data"
    }
   ],
   "source": [
    "data.drop(index=data.query('floors_total > 35').index,inplace=True)\n",
    "data.hist('floors_total', bins=75)"
   ]
  },
  {
   "cell_type": "markdown",
   "metadata": {},
   "source": [
    "Проведем аналитику данных в столбце living_area на выбросы"
   ]
  },
  {
   "cell_type": "code",
   "execution_count": 37,
   "metadata": {},
   "outputs": [
    {
     "data": {
      "text/plain": [
       "array([[<AxesSubplot:title={'center':'living_area'}>]], dtype=object)"
      ]
     },
     "execution_count": 37,
     "metadata": {},
     "output_type": "execute_result"
    },
    {
     "data": {
      "image/png": "[encoded data removed]",
      "text/plain": [
       "<Figure size 432x288 with 1 Axes>"
      ]
     },
     "metadata": {
      "needs_background": "light"
     },
     "output_type": "display_data"
    },
    {
     "data": {
      "image/png": "[encoded data removed]",
      "text/plain": [
       "<Figure size 432x288 with 1 Axes>"
      ]
     },
     "metadata": {
      "needs_background": "light"
     },
     "output_type": "display_data"
    }
   ],
   "source": [
    "data.hist('living_area', bins=75)\n",
    "data.hist('living_area', bins=75, range=(150,250))"
   ]
  },
  {
   "cell_type": "markdown",
   "metadata": {},
   "source": [
    "Видны редкие значения более 200кв метров, отбросим их"
   ]
  },
  {
   "cell_type": "code",
   "execution_count": 38,
   "metadata": {},
   "outputs": [
    {
     "data": {
      "text/plain": [
       "array([[<AxesSubplot:title={'center':'living_area'}>]], dtype=object)"
      ]
     },
     "execution_count": 38,
     "metadata": {},
     "output_type": "execute_result"
    },
    {
     "data": {
      "image/png": "[encoded data removed]",
      "text/plain": [
       "<Figure size 432x288 with 1 Axes>"
      ]
     },
     "metadata": {
      "needs_background": "light"
     },
     "output_type": "display_data"
    }
   ],
   "source": [
    "data.drop(index=data.query('living_area > 200').index,inplace=True)\n",
    "data.hist('living_area', bins=75)"
   ]
  },
  {
   "cell_type": "markdown",
   "metadata": {},
   "source": [
    "Проведем аналитику данных в столбце kitchen_area на выбросы"
   ]
  },
  {
   "cell_type": "code",
   "execution_count": 39,
   "metadata": {},
   "outputs": [
    {
     "data": {
      "text/plain": [
       "array([[<AxesSubplot:title={'center':'kitchen_area'}>]], dtype=object)"
      ]
     },
     "execution_count": 39,
     "metadata": {},
     "output_type": "execute_result"
    },
    {
     "data": {
      "image/png": "[encoded data removed]",
      "text/plain": [
       "<Figure size 432x288 with 1 Axes>"
      ]
     },
     "metadata": {
      "needs_background": "light"
     },
     "output_type": "display_data"
    },
    {
     "data": {
      "image/png": "[encoded data removed]",
      "text/plain": [
       "<Figure size 432x288 with 1 Axes>"
      ]
     },
     "metadata": {
      "needs_background": "light"
     },
     "output_type": "display_data"
    }
   ],
   "source": [
    "data.hist('kitchen_area', bins=75)\n",
    "data.hist('kitchen_area', bins=75, range=(40,70))"
   ]
  },
  {
   "cell_type": "markdown",
   "metadata": {},
   "source": [
    "Видим аномальное малое количесво значений больше 50кв м удалим их"
   ]
  },
  {
   "cell_type": "code",
   "execution_count": 40,
   "metadata": {},
   "outputs": [
    {
     "data": {
      "text/plain": [
       "array([[<AxesSubplot:title={'center':'kitchen_area'}>]], dtype=object)"
      ]
     },
     "execution_count": 40,
     "metadata": {},
     "output_type": "execute_result"
    },
    {
     "data": {
      "image/png": "[encoded data removed]",
      "text/plain": [
       "<Figure size 432x288 with 1 Axes>"
      ]
     },
     "metadata": {
      "needs_background": "light"
     },
     "output_type": "display_data"
    }
   ],
   "source": [
    "data.drop(index=data.query('kitchen_area > 50').index,inplace=True)\n",
    "data.hist('kitchen_area', bins=75, range=(0,50))"
   ]
  },
  {
   "cell_type": "markdown",
   "metadata": {},
   "source": [
    "Остальные столбцы не так критично важны, и на первый взгялд при проверке в гистограмме ничего аномального нет"
   ]
  },
  {
   "cell_type": "code",
   "execution_count": 41,
   "metadata": {},
   "outputs": [
    {
     "name": "stdout",
     "output_type": "stream",
     "text": [
      "<class 'pandas.core.frame.DataFrame'>\n",
      "Int64Index: 23335 entries, 0 to 23527\n",
      "Data columns (total 22 columns):\n",
      " #   Column                Non-Null Count  Dtype         \n",
      "---  ------                --------------  -----         \n",
      " 0   total_images          23335 non-null  int64         \n",
      " 1   last_price            23335 non-null  int64         \n",
      " 2   total_area            23335 non-null  float64       \n",
      " 3   first_day_exposition  23335 non-null  datetime64[ns]\n",
      " 4   rooms                 23335 non-null  int64         \n",
      " 5   ceiling_height        14288 non-null  float64       \n",
      " 6   floors_total          23335 non-null  int64         \n",
      " 7   living_area           21488 non-null  float64       \n",
      " 8   floor                 23335 non-null  int64         \n",
      " 9   is_apartment          23335 non-null  bool          \n",
      " 10  studio                23335 non-null  bool          \n",
      " 11  open_plan             23335 non-null  bool          \n",
      " 12  kitchen_area          21140 non-null  float64       \n",
      " 13  balcony               23335 non-null  int64         \n",
      " 14  locality_name         23335 non-null  object        \n",
      " 15  airports_nearest      17856 non-null  float64       \n",
      " 16  cityCenters_nearest   17877 non-null  float64       \n",
      " 17  parks_around3000      17878 non-null  float64       \n",
      " 18  parks_nearest         7900 non-null   float64       \n",
      " 19  ponds_around3000      17878 non-null  float64       \n",
      " 20  ponds_nearest         8922 non-null   float64       \n",
      " 21  days_exposition       20203 non-null  float64       \n",
      "dtypes: bool(3), datetime64[ns](1), float64(11), int64(6), object(1)\n",
      "memory usage: 3.6+ MB\n"
     ]
    }
   ],
   "source": [
    "data.info()"
   ]
  },
  {
   "cell_type": "markdown",
   "metadata": {},
   "source": [
    "### Посчитайте и добавьте в таблицу новые столбцы"
   ]
  },
  {
   "cell_type": "markdown",
   "metadata": {},
   "source": [
    "Цена одного квадратного метра:"
   ]
  },
  {
   "cell_type": "code",
   "execution_count": 42,
   "metadata": {},
   "outputs": [],
   "source": [
    "data['cost_per_sqm'] = data['last_price'] / data['total_area']\n"
   ]
  },
  {
   "cell_type": "markdown",
   "metadata": {},
   "source": [
    "День публикации объявления (0 - понедельник, 1 - вторник и т.д.)"
   ]
  },
  {
   "cell_type": "code",
   "execution_count": 43,
   "metadata": {},
   "outputs": [],
   "source": [
    "data['dayofweek'] = data['first_day_exposition'].dt.dayofweek"
   ]
  },
  {
   "cell_type": "markdown",
   "metadata": {},
   "source": [
    "Месяц публикации объявления"
   ]
  },
  {
   "cell_type": "code",
   "execution_count": 44,
   "metadata": {},
   "outputs": [],
   "source": [
    "data['month'] = data['first_day_exposition'].dt.month"
   ]
  },
  {
   "cell_type": "markdown",
   "metadata": {},
   "source": [
    "Год публикации объявления"
   ]
  },
  {
   "cell_type": "code",
   "execution_count": 45,
   "metadata": {},
   "outputs": [],
   "source": [
    "data['year'] = data['first_day_exposition'].dt.year"
   ]
  },
  {
   "cell_type": "markdown",
   "metadata": {},
   "source": [
    "Тип этажа квартиры (значения — «первый», «последний», «другой»)"
   ]
  },
  {
   "cell_type": "code",
   "execution_count": 46,
   "metadata": {},
   "outputs": [],
   "source": [
    "def get_floor_type(row):\n",
    "    if row['floor'] == 1:\n",
    "        return \"первый\"\n",
    "    elif row['floor'] == row['floors_total']:\n",
    "        return \"последний\"\n",
    "    else:\n",
    "        return \"другой\""
   ]
  },
  {
   "cell_type": "code",
   "execution_count": 47,
   "metadata": {},
   "outputs": [],
   "source": [
    "data['floors_type'] = data.apply(get_floor_type, axis=1)"
   ]
  },
  {
   "cell_type": "markdown",
   "metadata": {},
   "source": [
    "Расстояние в км до центра города"
   ]
  },
  {
   "cell_type": "code",
   "execution_count": 48,
   "metadata": {},
   "outputs": [],
   "source": [
    "data['km_to_city_center'] = round(data.cityCenters_nearest / 1000)"
   ]
  },
  {
   "cell_type": "code",
   "execution_count": 49,
   "metadata": {
    "scrolled": true
   },
   "outputs": [
    {
     "data": {
      "text/html": [
       "<div>\n",
       "<style scoped>\n",
       "    .dataframe tbody tr th:only-of-type {\n",
       "        vertical-align: middle;\n",
       "    }\n",
       "\n",
       "    .dataframe tbody tr th {\n",
       "        vertical-align: top;\n",
       "    }\n",
       "\n",
       "    .dataframe thead th {\n",
       "        text-align: right;\n",
       "    }\n",
       "</style>\n",
       "<table border=\"1\" class=\"dataframe\">\n",
       "  <thead>\n",
       "    <tr style=\"text-align: right;\">\n",
       "      <th></th>\n",
       "      <th>total_images</th>\n",
       "      <th>last_price</th>\n",
       "      <th>total_area</th>\n",
       "      <th>first_day_exposition</th>\n",
       "      <th>rooms</th>\n",
       "      <th>ceiling_height</th>\n",
       "      <th>floors_total</th>\n",
       "      <th>living_area</th>\n",
       "      <th>floor</th>\n",
       "      <th>is_apartment</th>\n",
       "      <th>studio</th>\n",
       "      <th>open_plan</th>\n",
       "      <th>kitchen_area</th>\n",
       "      <th>balcony</th>\n",
       "      <th>locality_name</th>\n",
       "      <th>airports_nearest</th>\n",
       "      <th>cityCenters_nearest</th>\n",
       "      <th>parks_around3000</th>\n",
       "      <th>parks_nearest</th>\n",
       "      <th>ponds_around3000</th>\n",
       "      <th>ponds_nearest</th>\n",
       "      <th>days_exposition</th>\n",
       "      <th>cost_per_sqm</th>\n",
       "      <th>dayofweek</th>\n",
       "      <th>month</th>\n",
       "      <th>year</th>\n",
       "      <th>floors_type</th>\n",
       "      <th>km_to_city_center</th>\n",
       "    </tr>\n",
       "  </thead>\n",
       "  <tbody>\n",
       "    <tr>\n",
       "      <th>0</th>\n",
       "      <td>20</td>\n",
       "      <td>13000000</td>\n",
       "      <td>108.0</td>\n",
       "      <td>2019-03-07</td>\n",
       "      <td>3</td>\n",
       "      <td>2.70</td>\n",
       "      <td>16</td>\n",
       "      <td>51.0</td>\n",
       "      <td>8</td>\n",
       "      <td>False</td>\n",
       "      <td>False</td>\n",
       "      <td>False</td>\n",
       "      <td>25.0</td>\n",
       "      <td>0</td>\n",
       "      <td>Санкт-Петербург</td>\n",
       "      <td>18863.0</td>\n",
       "      <td>16028.0</td>\n",
       "      <td>1.0</td>\n",
       "      <td>482.0</td>\n",
       "      <td>2.0</td>\n",
       "      <td>755.0</td>\n",
       "      <td>NaN</td>\n",
       "      <td>120370.370370</td>\n",
       "      <td>3</td>\n",
       "      <td>3</td>\n",
       "      <td>2019</td>\n",
       "      <td>другой</td>\n",
       "      <td>16.0</td>\n",
       "    </tr>\n",
       "    <tr>\n",
       "      <th>1</th>\n",
       "      <td>7</td>\n",
       "      <td>3350000</td>\n",
       "      <td>40.4</td>\n",
       "      <td>2018-12-04</td>\n",
       "      <td>1</td>\n",
       "      <td>NaN</td>\n",
       "      <td>11</td>\n",
       "      <td>18.6</td>\n",
       "      <td>1</td>\n",
       "      <td>False</td>\n",
       "      <td>False</td>\n",
       "      <td>False</td>\n",
       "      <td>11.0</td>\n",
       "      <td>2</td>\n",
       "      <td>поселок Шушары</td>\n",
       "      <td>12817.0</td>\n",
       "      <td>18603.0</td>\n",
       "      <td>0.0</td>\n",
       "      <td>NaN</td>\n",
       "      <td>0.0</td>\n",
       "      <td>NaN</td>\n",
       "      <td>81.0</td>\n",
       "      <td>82920.792079</td>\n",
       "      <td>1</td>\n",
       "      <td>12</td>\n",
       "      <td>2018</td>\n",
       "      <td>первый</td>\n",
       "      <td>19.0</td>\n",
       "    </tr>\n",
       "    <tr>\n",
       "      <th>2</th>\n",
       "      <td>10</td>\n",
       "      <td>5196000</td>\n",
       "      <td>56.0</td>\n",
       "      <td>2015-08-20</td>\n",
       "      <td>2</td>\n",
       "      <td>NaN</td>\n",
       "      <td>5</td>\n",
       "      <td>34.3</td>\n",
       "      <td>4</td>\n",
       "      <td>False</td>\n",
       "      <td>False</td>\n",
       "      <td>False</td>\n",
       "      <td>8.3</td>\n",
       "      <td>0</td>\n",
       "      <td>Санкт-Петербург</td>\n",
       "      <td>21741.0</td>\n",
       "      <td>13933.0</td>\n",
       "      <td>1.0</td>\n",
       "      <td>90.0</td>\n",
       "      <td>2.0</td>\n",
       "      <td>574.0</td>\n",
       "      <td>558.0</td>\n",
       "      <td>92785.714286</td>\n",
       "      <td>3</td>\n",
       "      <td>8</td>\n",
       "      <td>2015</td>\n",
       "      <td>другой</td>\n",
       "      <td>14.0</td>\n",
       "    </tr>\n",
       "    <tr>\n",
       "      <th>3</th>\n",
       "      <td>0</td>\n",
       "      <td>64900000</td>\n",
       "      <td>159.0</td>\n",
       "      <td>2015-07-24</td>\n",
       "      <td>3</td>\n",
       "      <td>NaN</td>\n",
       "      <td>14</td>\n",
       "      <td>NaN</td>\n",
       "      <td>9</td>\n",
       "      <td>False</td>\n",
       "      <td>False</td>\n",
       "      <td>False</td>\n",
       "      <td>NaN</td>\n",
       "      <td>0</td>\n",
       "      <td>Санкт-Петербург</td>\n",
       "      <td>28098.0</td>\n",
       "      <td>6800.0</td>\n",
       "      <td>2.0</td>\n",
       "      <td>84.0</td>\n",
       "      <td>3.0</td>\n",
       "      <td>234.0</td>\n",
       "      <td>424.0</td>\n",
       "      <td>408176.100629</td>\n",
       "      <td>4</td>\n",
       "      <td>7</td>\n",
       "      <td>2015</td>\n",
       "      <td>другой</td>\n",
       "      <td>7.0</td>\n",
       "    </tr>\n",
       "    <tr>\n",
       "      <th>4</th>\n",
       "      <td>2</td>\n",
       "      <td>10000000</td>\n",
       "      <td>100.0</td>\n",
       "      <td>2018-06-19</td>\n",
       "      <td>2</td>\n",
       "      <td>3.03</td>\n",
       "      <td>14</td>\n",
       "      <td>32.0</td>\n",
       "      <td>13</td>\n",
       "      <td>False</td>\n",
       "      <td>False</td>\n",
       "      <td>False</td>\n",
       "      <td>41.0</td>\n",
       "      <td>0</td>\n",
       "      <td>Санкт-Петербург</td>\n",
       "      <td>31856.0</td>\n",
       "      <td>8098.0</td>\n",
       "      <td>2.0</td>\n",
       "      <td>112.0</td>\n",
       "      <td>1.0</td>\n",
       "      <td>48.0</td>\n",
       "      <td>121.0</td>\n",
       "      <td>100000.000000</td>\n",
       "      <td>1</td>\n",
       "      <td>6</td>\n",
       "      <td>2018</td>\n",
       "      <td>другой</td>\n",
       "      <td>8.0</td>\n",
       "    </tr>\n",
       "  </tbody>\n",
       "</table>\n",
       "</div>"
      ],
      "text/plain": [
       "   total_images  last_price  total_area first_day_exposition  rooms  \\\n",
       "0            20    13000000       108.0           2019-03-07      3   \n",
       "1             7     3350000        40.4           2018-12-04      1   \n",
       "2            10     5196000        56.0           2015-08-20      2   \n",
       "3             0    64900000       159.0           2015-07-24      3   \n",
       "4             2    10000000       100.0           2018-06-19      2   \n",
       "\n",
       "   ceiling_height  floors_total  living_area  floor  is_apartment  studio  \\\n",
       "0            2.70            16         51.0      8         False   False   \n",
       "1             NaN            11         18.6      1         False   False   \n",
       "2             NaN             5         34.3      4         False   False   \n",
       "3             NaN            14          NaN      9         False   False   \n",
       "4            3.03            14         32.0     13         False   False   \n",
       "\n",
       "   open_plan  kitchen_area  balcony    locality_name  airports_nearest  \\\n",
       "0      False          25.0        0  Санкт-Петербург           18863.0   \n",
       "1      False          11.0        2   поселок Шушары           12817.0   \n",
       "2      False           8.3        0  Санкт-Петербург           21741.0   \n",
       "3      False           NaN        0  Санкт-Петербург           28098.0   \n",
       "4      False          41.0        0  Санкт-Петербург           31856.0   \n",
       "\n",
       "   cityCenters_nearest  parks_around3000  parks_nearest  ponds_around3000  \\\n",
       "0              16028.0               1.0          482.0               2.0   \n",
       "1              18603.0               0.0            NaN               0.0   \n",
       "2              13933.0               1.0           90.0               2.0   \n",
       "3               6800.0               2.0           84.0               3.0   \n",
       "4               8098.0               2.0          112.0               1.0   \n",
       "\n",
       "   ponds_nearest  days_exposition   cost_per_sqm  dayofweek  month  year  \\\n",
       "0          755.0              NaN  120370.370370          3      3  2019   \n",
       "1            NaN             81.0   82920.792079          1     12  2018   \n",
       "2          574.0            558.0   92785.714286          3      8  2015   \n",
       "3          234.0            424.0  408176.100629          4      7  2015   \n",
       "4           48.0            121.0  100000.000000          1      6  2018   \n",
       "\n",
       "  floors_type  km_to_city_center  \n",
       "0      другой               16.0  \n",
       "1      первый               19.0  \n",
       "2      другой               14.0  \n",
       "3      другой                7.0  \n",
       "4      другой                8.0  "
      ]
     },
     "execution_count": 49,
     "metadata": {},
     "output_type": "execute_result"
    }
   ],
   "source": [
    "data.head()"
   ]
  },
  {
   "cell_type": "markdown",
   "metadata": {},
   "source": [
    "Все столбцы добавлены и работают коректно"
   ]
  },
  {
   "cell_type": "markdown",
   "metadata": {},
   "source": [
    "### Проведите исследовательский анализ данных"
   ]
  },
  {
   "cell_type": "markdown",
   "metadata": {},
   "source": [
    "Данные по общей площади"
   ]
  },
  {
   "cell_type": "code",
   "execution_count": 50,
   "metadata": {},
   "outputs": [
    {
     "data": {
      "text/plain": [
       "array([[<AxesSubplot:title={'center':'total_area'}>]], dtype=object)"
      ]
     },
     "execution_count": 50,
     "metadata": {},
     "output_type": "execute_result"
    },
    {
     "data": {
      "image/png": "[encoded data removed]",
      "text/plain": [
       "<Figure size 432x288 with 1 Axes>"
      ]
     },
     "metadata": {
      "needs_background": "light"
     },
     "output_type": "display_data"
    }
   ],
   "source": [
    "data.hist('total_area', bins=75, range=(0,300))"
   ]
  },
  {
   "cell_type": "markdown",
   "metadata": {},
   "source": [
    "Наблюдаем очень малое количество квартир с общей площадью более 100 кв.м. Основное количество обьявлений с плозадью квартир 35-75 метров, остальные обьявления что больше являются более элитными вариантами квартир\n",
    "\n"
   ]
  },
  {
   "cell_type": "markdown",
   "metadata": {},
   "source": [
    "Данные по жилой площади"
   ]
  },
  {
   "cell_type": "code",
   "execution_count": 51,
   "metadata": {},
   "outputs": [
    {
     "data": {
      "text/plain": [
       "array([[<AxesSubplot:title={'center':'living_area'}>]], dtype=object)"
      ]
     },
     "execution_count": 51,
     "metadata": {},
     "output_type": "execute_result"
    },
    {
     "data": {
      "image/png": "[encoded data removed]",
      "text/plain": [
       "<Figure size 432x288 with 1 Axes>"
      ]
     },
     "metadata": {
      "needs_background": "light"
     },
     "output_type": "display_data"
    },
    {
     "data": {
      "image/png": "[encoded data removed]",
      "text/plain": [
       "<Figure size 432x288 with 1 Axes>"
      ]
     },
     "metadata": {
      "needs_background": "light"
     },
     "output_type": "display_data"
    }
   ],
   "source": [
    "data.hist('living_area', bins=75)\n",
    "data.hist('living_area', bins=75, range=(0,100))"
   ]
  },
  {
   "cell_type": "markdown",
   "metadata": {},
   "source": [
    "Наблюдается два сплеска в количестве квартир с жилой плозадью 10-22 кв.м. и 25-35 кв.м. это скорее всего связано с тем что присудтсвуют как однокомнатные так и двухкомнатные квартиры,  отсальные данные это квартиры 3 и более комнат"
   ]
  },
  {
   "cell_type": "markdown",
   "metadata": {},
   "source": [
    "Данные по площади кухни"
   ]
  },
  {
   "cell_type": "code",
   "execution_count": 52,
   "metadata": {},
   "outputs": [
    {
     "data": {
      "text/plain": [
       "array([[<AxesSubplot:title={'center':'kitchen_area'}>]], dtype=object)"
      ]
     },
     "execution_count": 52,
     "metadata": {},
     "output_type": "execute_result"
    },
    {
     "data": {
      "image/png": "[encoded data removed]",
      "text/plain": [
       "<Figure size 432x288 with 1 Axes>"
      ]
     },
     "metadata": {
      "needs_background": "light"
     },
     "output_type": "display_data"
    }
   ],
   "source": [
    "data.hist('kitchen_area', bins=30)"
   ]
  },
  {
   "cell_type": "markdown",
   "metadata": {},
   "source": [
    "Наиболее часто встречаемая площадь кухни 5-12 кв. м., присутствуют кухни с площадью менее 5 кв.м и более 40."
   ]
  },
  {
   "cell_type": "markdown",
   "metadata": {},
   "source": [
    "Данные по цене объекта"
   ]
  },
  {
   "cell_type": "code",
   "execution_count": 53,
   "metadata": {},
   "outputs": [
    {
     "data": {
      "text/plain": [
       "array([[<AxesSubplot:title={'center':'last_price'}>]], dtype=object)"
      ]
     },
     "execution_count": 53,
     "metadata": {},
     "output_type": "execute_result"
    },
    {
     "data": {
      "image/png": "[encoded data removed]",
      "text/plain": [
       "<Figure size 432x288 with 1 Axes>"
      ]
     },
     "metadata": {
      "needs_background": "light"
     },
     "output_type": "display_data"
    }
   ],
   "source": [
    "data.hist('last_price', bins=100, range=(0,2e+07))"
   ]
  },
  {
   "cell_type": "markdown",
   "metadata": {},
   "source": [
    "Чаще всего встречается цена за квартиру 2,5-5 млн.\n"
   ]
  },
  {
   "cell_type": "markdown",
   "metadata": {},
   "source": [
    "Данные по количеству комнат"
   ]
  },
  {
   "cell_type": "code",
   "execution_count": 54,
   "metadata": {},
   "outputs": [
    {
     "data": {
      "text/plain": [
       "array([[<AxesSubplot:title={'center':'rooms'}>]], dtype=object)"
      ]
     },
     "execution_count": 54,
     "metadata": {},
     "output_type": "execute_result"
    },
    {
     "data": {
      "image/png": "[encoded data removed]",
      "text/plain": [
       "<Figure size 432x288 with 1 Axes>"
      ]
     },
     "metadata": {
      "needs_background": "light"
     },
     "output_type": "display_data"
    }
   ],
   "source": [
    "data.hist('rooms', bins=30)"
   ]
  },
  {
   "cell_type": "markdown",
   "metadata": {},
   "source": [
    "Преобладют в обьявления квартиры с количестов комант 1 и 2, так же присутвует достаточно много квартир и 3-мя комнатами"
   ]
  },
  {
   "cell_type": "markdown",
   "metadata": {},
   "source": [
    "Данные по высоте потолков"
   ]
  },
  {
   "cell_type": "code",
   "execution_count": 55,
   "metadata": {},
   "outputs": [
    {
     "data": {
      "text/plain": [
       "array([[<AxesSubplot:title={'center':'ceiling_height'}>]], dtype=object)"
      ]
     },
     "execution_count": 55,
     "metadata": {},
     "output_type": "execute_result"
    },
    {
     "data": {
      "image/png": "[encoded data removed]",
      "text/plain": [
       "<Figure size 432x288 with 1 Axes>"
      ]
     },
     "metadata": {
      "needs_background": "light"
     },
     "output_type": "display_data"
    }
   ],
   "source": [
    "data.hist('ceiling_height', bins=35,range=(2,4))"
   ]
  },
  {
   "cell_type": "markdown",
   "metadata": {},
   "source": [
    "Видны пики значений на самых популярных высотах потолка 2.5-2.75 м"
   ]
  },
  {
   "cell_type": "markdown",
   "metadata": {},
   "source": [
    "Данные по этажу квартиры"
   ]
  },
  {
   "cell_type": "code",
   "execution_count": 56,
   "metadata": {},
   "outputs": [
    {
     "data": {
      "text/plain": [
       "array([[<AxesSubplot:title={'center':'floor'}>]], dtype=object)"
      ]
     },
     "execution_count": 56,
     "metadata": {},
     "output_type": "execute_result"
    },
    {
     "data": {
      "image/png": "[encoded data removed]",
      "text/plain": [
       "<Figure size 432x288 with 1 Axes>"
      ]
     },
     "metadata": {
      "needs_background": "light"
     },
     "output_type": "display_data"
    }
   ],
   "source": [
    "data.hist('floor', bins=75)"
   ]
  },
  {
   "cell_type": "markdown",
   "metadata": {},
   "source": [
    "Чаще всего встречаютя обьявления с высотой этажа до 5"
   ]
  },
  {
   "cell_type": "markdown",
   "metadata": {},
   "source": [
    "Данные по типу этажа квартиры"
   ]
  },
  {
   "cell_type": "code",
   "execution_count": 57,
   "metadata": {},
   "outputs": [
    {
     "data": {
      "text/plain": [
       "<AxesSubplot:>"
      ]
     },
     "execution_count": 57,
     "metadata": {},
     "output_type": "execute_result"
    },
    {
     "data": {
      "image/png": "[encoded data removed]",
      "text/plain": [
       "<Figure size 432x288 with 1 Axes>"
      ]
     },
     "metadata": {
      "needs_background": "light"
     },
     "output_type": "display_data"
    }
   ],
   "source": [
    "data['floors_type'].hist(bins=3)"
   ]
  },
  {
   "cell_type": "markdown",
   "metadata": {},
   "source": [
    "Большая часть продаваемых квартир расположена ни на первых ни на последних этажах, первые и последние этаже продаются реже."
   ]
  },
  {
   "cell_type": "markdown",
   "metadata": {},
   "source": [
    "Данные по общему количеству этажей в доме"
   ]
  },
  {
   "cell_type": "code",
   "execution_count": 58,
   "metadata": {},
   "outputs": [
    {
     "data": {
      "text/plain": [
       "<AxesSubplot:>"
      ]
     },
     "execution_count": 58,
     "metadata": {},
     "output_type": "execute_result"
    },
    {
     "data": {
      "image/png": "[encoded data removed]",
      "text/plain": [
       "<Figure size 432x288 with 1 Axes>"
      ]
     },
     "metadata": {
      "needs_background": "light"
     },
     "output_type": "display_data"
    }
   ],
   "source": [
    "data['floors_total'].hist(bins=35)"
   ]
  },
  {
   "cell_type": "markdown",
   "metadata": {},
   "source": [
    "Наибольшее число квартир продавалось в 5-этажных домах и 9-этажных."
   ]
  },
  {
   "cell_type": "markdown",
   "metadata": {},
   "source": [
    "Данные по расстоянию до центра города в метрах"
   ]
  },
  {
   "cell_type": "code",
   "execution_count": 59,
   "metadata": {},
   "outputs": [
    {
     "data": {
      "text/plain": [
       "<AxesSubplot:>"
      ]
     },
     "execution_count": 59,
     "metadata": {},
     "output_type": "execute_result"
    },
    {
     "data": {
      "image/png": "[encoded data removed]",
      "text/plain": [
       "<Figure size 432x288 with 1 Axes>"
      ]
     },
     "metadata": {
      "needs_background": "light"
     },
     "output_type": "display_data"
    }
   ],
   "source": [
    "data['cityCenters_nearest'].hist(bins=45)"
   ]
  },
  {
   "cell_type": "markdown",
   "metadata": {},
   "source": [
    "Чаще всего продавались объекты, удаленные от центра на 12-16 км."
   ]
  },
  {
   "cell_type": "markdown",
   "metadata": {},
   "source": [
    "Данные по расстоянию до ближайшего аэропорта"
   ]
  },
  {
   "cell_type": "code",
   "execution_count": 60,
   "metadata": {},
   "outputs": [
    {
     "data": {
      "text/plain": [
       "<AxesSubplot:>"
      ]
     },
     "execution_count": 60,
     "metadata": {},
     "output_type": "execute_result"
    },
    {
     "data": {
      "image/png": "[encoded data removed]",
      "text/plain": [
       "<Figure size 432x288 with 1 Axes>"
      ]
     },
     "metadata": {
      "needs_background": "light"
     },
     "output_type": "display_data"
    }
   ],
   "source": [
    "data['airports_nearest'].hist(bins=45)"
   ]
  },
  {
   "cell_type": "markdown",
   "metadata": {},
   "source": [
    "Удаленность объектов недвижимости от аэропортов сильно разбросана, но все же преобладают объекты с расстоянием до аэропорта 12-14 км."
   ]
  },
  {
   "cell_type": "markdown",
   "metadata": {},
   "source": [
    "Данные по расстоянию до ближайшего парка"
   ]
  },
  {
   "cell_type": "code",
   "execution_count": 61,
   "metadata": {},
   "outputs": [
    {
     "data": {
      "text/plain": [
       "<AxesSubplot:>"
      ]
     },
     "execution_count": 61,
     "metadata": {},
     "output_type": "execute_result"
    },
    {
     "data": {
      "image/png": "[encoded data removed]",
      "text/plain": [
       "<Figure size 432x288 with 1 Axes>"
      ]
     },
     "metadata": {
      "needs_background": "light"
     },
     "output_type": "display_data"
    }
   ],
   "source": [
    "data['parks_nearest'].hist(bins=75)"
   ]
  },
  {
   "cell_type": "markdown",
   "metadata": {},
   "source": [
    "Cамое частое расстояние до парка среди продаваемых объектов составляет 450 м."
   ]
  },
  {
   "cell_type": "markdown",
   "metadata": {},
   "source": [
    "Данные по дню публикации объявлений"
   ]
  },
  {
   "cell_type": "code",
   "execution_count": 62,
   "metadata": {},
   "outputs": [
    {
     "data": {
      "text/plain": [
       "<AxesSubplot:>"
      ]
     },
     "execution_count": 62,
     "metadata": {},
     "output_type": "execute_result"
    },
    {
     "data": {
      "image/png": "[encoded data removed]",
      "text/plain": [
       "<Figure size 432x288 with 1 Axes>"
      ]
     },
     "metadata": {
      "needs_background": "light"
     },
     "output_type": "display_data"
    }
   ],
   "source": [
    "data['dayofweek'].hist(bins=20)"
   ]
  },
  {
   "cell_type": "markdown",
   "metadata": {},
   "source": [
    "В целом размещение объявлений по дням недели происходило примерно равномерно с небольшим преобладанием в четверг."
   ]
  },
  {
   "cell_type": "markdown",
   "metadata": {},
   "source": [
    "Данные по месяцу публикации объявлений"
   ]
  },
  {
   "cell_type": "code",
   "execution_count": 63,
   "metadata": {},
   "outputs": [
    {
     "data": {
      "text/plain": [
       "<AxesSubplot:>"
      ]
     },
     "execution_count": 63,
     "metadata": {},
     "output_type": "execute_result"
    },
    {
     "data": {
      "image/png": "[encoded data removed]",
      "text/plain": [
       "<Figure size 432x288 with 1 Axes>"
      ]
     },
     "metadata": {
      "needs_background": "light"
     },
     "output_type": "display_data"
    }
   ],
   "source": [
    "data['month'].hist(bins=24)"
   ]
  },
  {
   "cell_type": "markdown",
   "metadata": {},
   "source": [
    "Больше всего обьявлений опубликовано с февраля по апрель, так же виден рост начиная с октября по декабрь"
   ]
  },
  {
   "cell_type": "markdown",
   "metadata": {},
   "source": [
    "Проанализоровав данные гистограммы, сделал вывод о наиболее продаваемых обьявлениях: это 1-2 комнатная квартира на 2-м этаже 5-этажного дома общей площадью около 35-75 кв.м. с жилой площадью 20-45 кв.м. и площадью кухни около 5-12 кв.м., стоимостью 2,5-5 млн.руб. и высотой потолков 2,6 м., удаленная от центра на 12-16 км., от парка на 450 м и от аэропорта на 12-14 км. В начале и конце года происходил рост количества объявления о продаже."
   ]
  },
  {
   "cell_type": "markdown",
   "metadata": {},
   "source": [
    "#### Анализ скорости продажи квартир"
   ]
  },
  {
   "cell_type": "markdown",
   "metadata": {},
   "source": [
    "Построим гистограмму по данным столбца days_exposition, показывающего сколько дней было размещено объявление:"
   ]
  },
  {
   "cell_type": "code",
   "execution_count": 64,
   "metadata": {},
   "outputs": [
    {
     "data": {
      "text/plain": [
       "<AxesSubplot:>"
      ]
     },
     "execution_count": 64,
     "metadata": {},
     "output_type": "execute_result"
    },
    {
     "data": {
      "image/png": "[encoded data removed]",
      "text/plain": [
       "<Figure size 432x288 with 1 Axes>"
      ]
     },
     "metadata": {
      "needs_background": "light"
     },
     "output_type": "display_data"
    }
   ],
   "source": [
    "data['days_exposition'].hist(bins=25)\n"
   ]
  },
  {
   "cell_type": "markdown",
   "metadata": {},
   "source": [
    "Подробнее расотрим пик до 100 дней"
   ]
  },
  {
   "cell_type": "code",
   "execution_count": 65,
   "metadata": {},
   "outputs": [
    {
     "data": {
      "text/plain": [
       "<AxesSubplot:>"
      ]
     },
     "execution_count": 65,
     "metadata": {},
     "output_type": "execute_result"
    },
    {
     "data": {
      "image/png": "[encoded data removed]",
      "text/plain": [
       "<Figure size 432x288 with 1 Axes>"
      ]
     },
     "metadata": {
      "needs_background": "light"
     },
     "output_type": "display_data"
    }
   ],
   "source": [
    "data['days_exposition'].hist(bins=200, range=(0, 200))"
   ]
  },
  {
   "cell_type": "markdown",
   "metadata": {},
   "source": [
    "Видны аномальные пики в районе 45 и 60 дней после публикации"
   ]
  },
  {
   "cell_type": "code",
   "execution_count": 66,
   "metadata": {},
   "outputs": [
    {
     "data": {
      "text/plain": [
       "45.0    870\n",
       "60.0    538\n",
       "7.0     231\n",
       "30.0    207\n",
       "90.0    198\n",
       "4.0     174\n",
       "3.0     157\n",
       "5.0     150\n",
       "14.0    143\n",
       "9.0     141\n",
       "Name: days_exposition, dtype: int64"
      ]
     },
     "execution_count": 66,
     "metadata": {},
     "output_type": "execute_result"
    }
   ],
   "source": [
    "data['days_exposition'].value_counts().head(10)"
   ]
  },
  {
   "cell_type": "markdown",
   "metadata": {},
   "source": [
    "Действительно очень много публикаций снялись или были проданы именно на 45 и 60 дней, возможно это связано с окончанием платного размещения"
   ]
  },
  {
   "cell_type": "code",
   "execution_count": 67,
   "metadata": {},
   "outputs": [
    {
     "data": {
      "text/plain": [
       "count    20203.000000\n",
       "mean       180.209622\n",
       "std        219.304795\n",
       "min          1.000000\n",
       "25%         45.000000\n",
       "50%         95.000000\n",
       "75%        230.000000\n",
       "max       1580.000000\n",
       "Name: days_exposition, dtype: float64"
      ]
     },
     "execution_count": 67,
     "metadata": {},
     "output_type": "execute_result"
    }
   ],
   "source": [
    "data['days_exposition'].describe()"
   ]
  },
  {
   "cell_type": "markdown",
   "metadata": {},
   "source": [
    "Среднее время продажи квартиры составляет 180 дней. Медианное значение составляет 95 дней, что сильно отличается от среднего, такие продажи можно назвать быстрыми. Чаще всего объекты продавались на 45-й и 60-й день после подачи объявлений. При этом в наборе данных присутствуют необычно долгие продажи в течение 4-х лет и более."
   ]
  },
  {
   "cell_type": "markdown",
   "metadata": {},
   "source": [
    "#### Изучим факторы, влияющие на общую (полную) стоимость объекта"
   ]
  },
  {
   "cell_type": "markdown",
   "metadata": {},
   "source": [
    "Построиm графики"
   ]
  },
  {
   "cell_type": "code",
   "execution_count": 68,
   "metadata": {},
   "outputs": [
    {
     "data": {
      "text/plain": [
       "<AxesSubplot:xlabel='last_price', ylabel='kitchen_area'>"
      ]
     },
     "execution_count": 68,
     "metadata": {},
     "output_type": "execute_result"
    },
    {
     "data": {
      "image/png": "[encoded data removed]",
      "text/plain": [
       "<Figure size 432x288 with 1 Axes>"
      ]
     },
     "metadata": {
      "needs_background": "light"
     },
     "output_type": "display_data"
    },
    {
     "data": {
      "image/png": "[encoded data removed]",
      "text/plain": [
       "<Figure size 432x288 with 1 Axes>"
      ]
     },
     "metadata": {
      "needs_background": "light"
     },
     "output_type": "display_data"
    },
    {
     "data": {
      "image/png": "[encoded data removed]",
      "text/plain": [
       "<Figure size 432x288 with 1 Axes>"
      ]
     },
     "metadata": {
      "needs_background": "light"
     },
     "output_type": "display_data"
    }
   ],
   "source": [
    "data.plot(x='last_price', y='total_area', kind='scatter', alpha=0.2)\n",
    "data.plot(x='last_price', y='living_area', kind='scatter', alpha=0.2)\n",
    "data.plot(x='last_price', y='kitchen_area', kind='scatter', alpha=0.2)"
   ]
  },
  {
   "cell_type": "code",
   "execution_count": 69,
   "metadata": {
    "scrolled": true
   },
   "outputs": [
    {
     "data": {
      "text/plain": [
       "<AxesSubplot:xlabel='rooms'>"
      ]
     },
     "execution_count": 69,
     "metadata": {},
     "output_type": "execute_result"
    },
    {
     "data": {
      "image/png": "[encoded data removed]",
      "text/plain": [
       "<Figure size 432x288 with 1 Axes>"
      ]
     },
     "metadata": {
      "needs_background": "light"
     },
     "output_type": "display_data"
    }
   ],
   "source": [
    "data.pivot_table(index='rooms',values='last_price').plot(y='last_price', kind='bar')"
   ]
  },
  {
   "cell_type": "code",
   "execution_count": 70,
   "metadata": {},
   "outputs": [
    {
     "data": {
      "text/plain": [
       "0.7570247136297212"
      ]
     },
     "execution_count": 70,
     "metadata": {},
     "output_type": "execute_result"
    }
   ],
   "source": [
    "data['last_price'].corr(data['total_area'])"
   ]
  },
  {
   "cell_type": "code",
   "execution_count": 71,
   "metadata": {},
   "outputs": [
    {
     "data": {
      "text/plain": [
       "0.6661951702682896"
      ]
     },
     "execution_count": 71,
     "metadata": {},
     "output_type": "execute_result"
    }
   ],
   "source": [
    "data['last_price'].corr(data['living_area'])"
   ]
  },
  {
   "cell_type": "code",
   "execution_count": 72,
   "metadata": {},
   "outputs": [
    {
     "data": {
      "text/plain": [
       "0.5570775902751388"
      ]
     },
     "execution_count": 72,
     "metadata": {},
     "output_type": "execute_result"
    }
   ],
   "source": [
    "data['last_price'].corr(data['kitchen_area'])"
   ]
  },
  {
   "cell_type": "code",
   "execution_count": 73,
   "metadata": {},
   "outputs": [
    {
     "data": {
      "text/plain": [
       "0.45951414280232644"
      ]
     },
     "execution_count": 73,
     "metadata": {},
     "output_type": "execute_result"
    }
   ],
   "source": [
    "data['last_price'].corr(data['rooms'])"
   ]
  },
  {
   "cell_type": "code",
   "execution_count": 74,
   "metadata": {
    "scrolled": true
   },
   "outputs": [
    {
     "data": {
      "text/plain": [
       "<AxesSubplot:title={'center':'median'}, xlabel='year'>"
      ]
     },
     "execution_count": 74,
     "metadata": {},
     "output_type": "execute_result"
    },
    {
     "data": {
      "image/png": "[encoded data removed]",
      "text/plain": [
       "<Figure size 432x288 with 1 Axes>"
      ]
     },
     "metadata": {
      "needs_background": "light"
     },
     "output_type": "display_data"
    },
    {
     "data": {
      "image/png": "[encoded data removed]",
      "text/plain": [
       "<Figure size 432x288 with 1 Axes>"
      ]
     },
     "metadata": {
      "needs_background": "light"
     },
     "output_type": "display_data"
    },
    {
     "data": {
      "image/png": "[encoded data removed]",
      "text/plain": [
       "<Figure size 432x288 with 1 Axes>"
      ]
     },
     "metadata": {
      "needs_background": "light"
     },
     "output_type": "display_data"
    },
    {
     "data": {
      "image/png": "[encoded data removed]",
      "text/plain": [
       "<Figure size 432x288 with 1 Axes>"
      ]
     },
     "metadata": {
      "needs_background": "light"
     },
     "output_type": "display_data"
    },
    {
     "data": {
      "image/png": "[encoded data removed]",
      "text/plain": [
       "<Figure size 432x288 with 1 Axes>"
      ]
     },
     "metadata": {
      "needs_background": "light"
     },
     "output_type": "display_data"
    },
    {
     "data": {
      "image/png": "[encoded data removed]",
      "text/plain": [
       "<Figure size 432x288 with 1 Axes>"
      ]
     },
     "metadata": {
      "needs_background": "light"
     },
     "output_type": "display_data"
    }
   ],
   "source": [
    "data.pivot_table(index='dayofweek',values='last_price',aggfunc='mean').plot(y='last_price', kind='line', title='mean')\n",
    "data.pivot_table(index='dayofweek',values='last_price',aggfunc='median').plot(y='last_price', kind='line', title='median')\n",
    "\n",
    "data.pivot_table(index='month',values='last_price',aggfunc='mean').plot(y='last_price', kind='line', title='mean')\n",
    "data.pivot_table(index='month',values='last_price',aggfunc='median').plot(y='last_price', kind='line', title='median')\n",
    "\n",
    "data.pivot_table(index='year',values='last_price',aggfunc='mean').plot(y='last_price', kind='line', title='mean')\n",
    "data.pivot_table(index='year',values='last_price',aggfunc='median').plot(y='last_price', kind='line', title='median')"
   ]
  },
  {
   "cell_type": "code",
   "execution_count": 75,
   "metadata": {},
   "outputs": [
    {
     "data": {
      "text/plain": [
       "<AxesSubplot:xlabel='last_price', ylabel='floors_type'>"
      ]
     },
     "execution_count": 75,
     "metadata": {},
     "output_type": "execute_result"
    },
    {
     "data": {
      "image/png": "[encoded data removed]",
      "text/plain": [
       "<Figure size 432x288 with 1 Axes>"
      ]
     },
     "metadata": {
      "needs_background": "light"
     },
     "output_type": "display_data"
    },
    {
     "data": {
      "image/png": "[encoded data removed]",
      "text/plain": [
       "<Figure size 432x288 with 1 Axes>"
      ]
     },
     "metadata": {
      "needs_background": "light"
     },
     "output_type": "display_data"
    }
   ],
   "source": [
    "data.pivot_table(index='floors_type',values='last_price').plot(y='last_price', kind='barh');\n",
    "\n",
    "data.plot(x='last_price', y='floors_type', kind='scatter', alpha=0.2)"
   ]
  },
  {
   "cell_type": "markdown",
   "metadata": {},
   "source": [
    "Цена зависит от общей площади и жилой площади больше всего, далее менее важные факторы пощадь кухни, кол-во комнат\n",
    ", этаж и самое малое влияние от даты размещения"
   ]
  },
  {
   "cell_type": "markdown",
   "metadata": {},
   "source": [
    "#### Проанализируем цену одного квадратного метра"
   ]
  },
  {
   "cell_type": "code",
   "execution_count": 76,
   "metadata": {},
   "outputs": [
    {
     "data": {
      "text/html": [
       "<div>\n",
       "<style scoped>\n",
       "    .dataframe tbody tr th:only-of-type {\n",
       "        vertical-align: middle;\n",
       "    }\n",
       "\n",
       "    .dataframe tbody tr th {\n",
       "        vertical-align: top;\n",
       "    }\n",
       "\n",
       "    .dataframe thead th {\n",
       "        text-align: right;\n",
       "    }\n",
       "</style>\n",
       "<table border=\"1\" class=\"dataframe\">\n",
       "  <thead>\n",
       "    <tr style=\"text-align: right;\">\n",
       "      <th></th>\n",
       "      <th>count</th>\n",
       "      <th>median</th>\n",
       "    </tr>\n",
       "    <tr>\n",
       "      <th>locality_name</th>\n",
       "      <th></th>\n",
       "      <th></th>\n",
       "    </tr>\n",
       "  </thead>\n",
       "  <tbody>\n",
       "    <tr>\n",
       "      <th>Санкт-Петербург</th>\n",
       "      <td>15479</td>\n",
       "      <td>104651.162791</td>\n",
       "    </tr>\n",
       "    <tr>\n",
       "      <th>поселок Мурино</th>\n",
       "      <td>550</td>\n",
       "      <td>86059.293995</td>\n",
       "    </tr>\n",
       "    <tr>\n",
       "      <th>поселок Шушары</th>\n",
       "      <td>439</td>\n",
       "      <td>76829.268293</td>\n",
       "    </tr>\n",
       "    <tr>\n",
       "      <th>Всеволожск</th>\n",
       "      <td>397</td>\n",
       "      <td>65789.473684</td>\n",
       "    </tr>\n",
       "    <tr>\n",
       "      <th>Пушкин</th>\n",
       "      <td>362</td>\n",
       "      <td>99865.712506</td>\n",
       "    </tr>\n",
       "    <tr>\n",
       "      <th>Колпино</th>\n",
       "      <td>336</td>\n",
       "      <td>74723.748474</td>\n",
       "    </tr>\n",
       "    <tr>\n",
       "      <th>поселок Парголово</th>\n",
       "      <td>326</td>\n",
       "      <td>91780.224134</td>\n",
       "    </tr>\n",
       "    <tr>\n",
       "      <th>Гатчина</th>\n",
       "      <td>306</td>\n",
       "      <td>67860.569236</td>\n",
       "    </tr>\n",
       "    <tr>\n",
       "      <th>деревня Кудрово</th>\n",
       "      <td>299</td>\n",
       "      <td>91860.465116</td>\n",
       "    </tr>\n",
       "    <tr>\n",
       "      <th>Выборг</th>\n",
       "      <td>235</td>\n",
       "      <td>58307.692308</td>\n",
       "    </tr>\n",
       "  </tbody>\n",
       "</table>\n",
       "</div>"
      ],
      "text/plain": [
       "                   count         median\n",
       "locality_name                          \n",
       "Санкт-Петербург    15479  104651.162791\n",
       "поселок Мурино       550   86059.293995\n",
       "поселок Шушары       439   76829.268293\n",
       "Всеволожск           397   65789.473684\n",
       "Пушкин               362   99865.712506\n",
       "Колпино              336   74723.748474\n",
       "поселок Парголово    326   91780.224134\n",
       "Гатчина              306   67860.569236\n",
       "деревня Кудрово      299   91860.465116\n",
       "Выборг               235   58307.692308"
      ]
     },
     "execution_count": 76,
     "metadata": {},
     "output_type": "execute_result"
    }
   ],
   "source": [
    "median_prices = data.groupby('locality_name')['cost_per_sqm']\\\n",
    "                        .agg(['count','median'])\\\n",
    "                        .sort_values(by='count', ascending=False).head(10)\n",
    "median_prices"
   ]
  },
  {
   "cell_type": "markdown",
   "metadata": {},
   "source": [
    "Среди 10 населенных пунктов с наибольшим количеством объявлений максимальная стоимость квадратного метра наблюдается в Санкт-Петербурге, минимальная - в Выборге."
   ]
  },
  {
   "cell_type": "code",
   "execution_count": 77,
   "metadata": {},
   "outputs": [
    {
     "data": {
      "image/png": "[encoded data removed]",
      "text/plain": [
       "<Figure size 432x288 with 1 Axes>"
      ]
     },
     "metadata": {
      "needs_background": "light"
     },
     "output_type": "display_data"
    }
   ],
   "source": [
    "prices_km_to_center = data.query('locality_name == \"Санкт-Петербург\"')\\\n",
    "        .pivot_table(index='km_to_city_center', values='cost_per_sqm')\n",
    "prices_km_to_center.plot(grid=True, title = 'Cтоимость \"удаления\" от центра города')\n",
    "plt.show()"
   ]
  },
  {
   "cell_type": "markdown",
   "metadata": {},
   "source": [
    "Ожидаемо самая высокая цена квадратного метра в самом центре города и чем дальше тем дешевле, однако есть два всплеска стоимости на 6-7 и 26-27 км от центра их природа не известна"
   ]
  },
  {
   "cell_type": "markdown",
   "metadata": {},
   "source": [
    "### Общий вывод"
   ]
  },
  {
   "cell_type": "markdown",
   "metadata": {},
   "source": [
    "Был проанализированы данные объявлений о продаже квартир в Санкт-Петербурге и окрестных населенных пунктах за несколько лет. Изначально было 23699 строк данных, после предобработки их количество уменьшилось до 23335. Пропуски в столбце \"is_apartment\" были заменены на False, в \"balcony\" - на нули, в \"Жилая площадь\" - заполнены на основе известных данных. Пропуски в столбцах \"Площадь кухни\" и \"Высота потолков\" заполнены минимальными и медианными значениями соответственно. Некоторые столбцы, имеющие малую значимость, были отброшены. Также были изменены типы данных для удобства анализа.\n",
    "\n",
    "Наиболее продаваемым объектом оказалась 1-2 комнатная квартира на втором этаже 5-этажного дома с общей площадью 35-75 кв.м., жилой площадью 20-45 кв.м. и кухней около 5-12 кв.м. Цена варьируется от 2,5 до 5 млн рублей, высота потолков составляет 2,6 м. Квартиры удалены от центра на 12-16 км, от парка на 450 м и от аэропорта на 12-14 км. Наблюдается рост числа объявлений о продаже квартир к концу года.\n",
    "\n",
    "Среднее время продажи квартиры составляет 180 дней, медианное - 95 дней. Наиболее частые сроки продажи - 45-й и 60-й день после подачи объявления. Есть исключительно долгие продажи в течение 4-х лет и более.\n",
    "\n",
    "На стоимость объектов недвижимости сильно влияет общая площадь. Квартиры на первом этаже имеют самую низкую цену, а дороже всего квартиры, которые не находятся на первом и последнем этажах.\n",
    "\n",
    "Среди 10 населенных пунктов с наибольшим количеством объявлений самая высокая стоимость квадратного метра в Санкт-Петербурге, а самая низкая - в Выборге.\n",
    "\n",
    "Отдаление от центра города обычно сопровождается уменьшением стоимости квадратного метра, однако на 7 и 27 км от центра замечается рост цен, возможно, из-за КАД или элитных районов."
   ]
  }
 ],
 "metadata": {
  "ExecuteTimeLog": [
   {
    "duration": 548,
    "start_time": "2023-07-21T21:17:21.766Z"
   },
   {
    "duration": 109,
    "start_time": "2023-07-21T21:17:38.880Z"
   },
   {
    "duration": 15,
    "start_time": "2023-07-21T21:18:31.785Z"
   },
   {
    "duration": 103,
    "start_time": "2023-07-21T21:18:51.603Z"
   },
   {
    "duration": 12,
    "start_time": "2023-07-21T21:18:51.708Z"
   },
   {
    "duration": 29,
    "start_time": "2023-07-21T21:19:22.321Z"
   },
   {
    "duration": 93,
    "start_time": "2023-07-21T21:19:37.473Z"
   },
   {
    "duration": 104,
    "start_time": "2023-07-21T21:19:44.684Z"
   },
   {
    "duration": 20,
    "start_time": "2023-07-21T21:19:44.791Z"
   },
   {
    "duration": 29,
    "start_time": "2023-07-21T21:19:44.813Z"
   },
   {
    "duration": 2239,
    "start_time": "2023-07-21T21:20:35.397Z"
   },
   {
    "duration": 91,
    "start_time": "2023-07-21T21:21:39.122Z"
   },
   {
    "duration": 15,
    "start_time": "2023-07-21T21:21:40.922Z"
   },
   {
    "duration": 27,
    "start_time": "2023-07-21T21:21:42.744Z"
   },
   {
    "duration": 1837,
    "start_time": "2023-07-21T21:21:44.138Z"
   },
   {
    "duration": 2091,
    "start_time": "2023-07-21T21:22:42.440Z"
   },
   {
    "duration": 91,
    "start_time": "2023-07-21T21:23:41.111Z"
   },
   {
    "duration": 17,
    "start_time": "2023-07-21T21:23:41.204Z"
   },
   {
    "duration": 29,
    "start_time": "2023-07-21T21:23:41.223Z"
   },
   {
    "duration": 2011,
    "start_time": "2023-07-21T21:23:41.269Z"
   },
   {
    "duration": 30,
    "start_time": "2023-07-21T21:28:28.509Z"
   },
   {
    "duration": 44,
    "start_time": "2023-07-23T17:52:49.975Z"
   },
   {
    "duration": 1135,
    "start_time": "2023-07-23T17:52:52.991Z"
   },
   {
    "duration": 15,
    "start_time": "2023-07-23T17:52:54.128Z"
   },
   {
    "duration": 34,
    "start_time": "2023-07-23T17:52:54.145Z"
   },
   {
    "duration": 1817,
    "start_time": "2023-07-23T17:52:54.181Z"
   },
   {
    "duration": 9,
    "start_time": "2023-07-23T17:52:56.001Z"
   },
   {
    "duration": 8,
    "start_time": "2023-07-23T18:25:28.365Z"
   },
   {
    "duration": 10,
    "start_time": "2023-07-23T18:26:28.405Z"
   },
   {
    "duration": 7,
    "start_time": "2023-07-23T18:29:33.802Z"
   },
   {
    "duration": 7,
    "start_time": "2023-07-23T18:31:41.408Z"
   },
   {
    "duration": 7,
    "start_time": "2023-07-23T18:32:17.300Z"
   },
   {
    "duration": 2041,
    "start_time": "2023-07-23T18:40:40.204Z"
   },
   {
    "duration": 1935,
    "start_time": "2023-07-23T18:40:42.901Z"
   },
   {
    "duration": 9,
    "start_time": "2023-07-23T18:41:06.441Z"
   },
   {
    "duration": 13,
    "start_time": "2023-07-23T18:42:24.797Z"
   },
   {
    "duration": 9,
    "start_time": "2023-07-23T18:42:40.061Z"
   },
   {
    "duration": 9,
    "start_time": "2023-07-23T18:43:10.102Z"
   },
   {
    "duration": 11,
    "start_time": "2023-07-23T18:45:20.465Z"
   },
   {
    "duration": 8,
    "start_time": "2023-07-23T18:45:25.927Z"
   },
   {
    "duration": 8,
    "start_time": "2023-07-23T18:45:27.206Z"
   },
   {
    "duration": 9,
    "start_time": "2023-07-23T18:45:33.494Z"
   },
   {
    "duration": 9,
    "start_time": "2023-07-23T18:45:35.570Z"
   },
   {
    "duration": 6,
    "start_time": "2023-07-23T18:46:00.523Z"
   },
   {
    "duration": 8,
    "start_time": "2023-07-23T18:46:02.110Z"
   },
   {
    "duration": 9,
    "start_time": "2023-07-23T18:46:08.710Z"
   },
   {
    "duration": 5,
    "start_time": "2023-07-23T18:46:10.146Z"
   },
   {
    "duration": 8,
    "start_time": "2023-07-23T18:46:11.219Z"
   },
   {
    "duration": 8,
    "start_time": "2023-07-23T18:46:15.868Z"
   },
   {
    "duration": 10,
    "start_time": "2023-07-23T18:46:20.614Z"
   },
   {
    "duration": 4,
    "start_time": "2023-07-23T18:46:39.298Z"
   },
   {
    "duration": 9,
    "start_time": "2023-07-23T18:46:42.398Z"
   },
   {
    "duration": 4,
    "start_time": "2023-07-23T18:47:19.702Z"
   },
   {
    "duration": 8,
    "start_time": "2023-07-23T18:47:21.686Z"
   },
   {
    "duration": 9,
    "start_time": "2023-07-23T18:47:36.717Z"
   },
   {
    "duration": 95,
    "start_time": "2023-07-23T18:47:40.067Z"
   },
   {
    "duration": 14,
    "start_time": "2023-07-23T18:47:40.164Z"
   },
   {
    "duration": 45,
    "start_time": "2023-07-23T18:47:40.180Z"
   },
   {
    "duration": 2008,
    "start_time": "2023-07-23T18:47:40.227Z"
   },
   {
    "duration": 9,
    "start_time": "2023-07-23T18:47:42.238Z"
   },
   {
    "duration": 7,
    "start_time": "2023-07-23T18:47:42.249Z"
   },
   {
    "duration": 13,
    "start_time": "2023-07-23T18:47:42.258Z"
   },
   {
    "duration": 28,
    "start_time": "2023-07-23T18:47:42.273Z"
   },
   {
    "duration": 8,
    "start_time": "2023-07-23T18:47:42.303Z"
   },
   {
    "duration": 3,
    "start_time": "2023-07-23T18:47:42.313Z"
   },
   {
    "duration": 21,
    "start_time": "2023-07-23T18:47:42.318Z"
   },
   {
    "duration": 5,
    "start_time": "2023-07-23T18:48:31.650Z"
   },
   {
    "duration": 8,
    "start_time": "2023-07-23T18:48:34.398Z"
   },
   {
    "duration": 10,
    "start_time": "2023-07-23T18:48:50.036Z"
   },
   {
    "duration": 10,
    "start_time": "2023-07-23T18:48:50.901Z"
   },
   {
    "duration": 8,
    "start_time": "2023-07-23T19:54:22.215Z"
   },
   {
    "duration": 15,
    "start_time": "2023-07-23T20:04:31.628Z"
   },
   {
    "duration": 6,
    "start_time": "2023-07-23T20:12:55.219Z"
   },
   {
    "duration": 26,
    "start_time": "2023-07-23T20:13:55.869Z"
   },
   {
    "duration": 20,
    "start_time": "2023-07-23T20:15:45.973Z"
   },
   {
    "duration": 15,
    "start_time": "2023-07-23T20:15:54.643Z"
   },
   {
    "duration": 16,
    "start_time": "2023-07-23T20:16:47.230Z"
   },
   {
    "duration": 15,
    "start_time": "2023-07-23T20:16:48.316Z"
   },
   {
    "duration": 14,
    "start_time": "2023-07-23T20:17:41.055Z"
   },
   {
    "duration": 15,
    "start_time": "2023-07-23T20:17:42.249Z"
   },
   {
    "duration": 39,
    "start_time": "2023-07-23T20:17:54.195Z"
   },
   {
    "duration": 16,
    "start_time": "2023-07-23T20:18:17.840Z"
   },
   {
    "duration": 12,
    "start_time": "2023-07-23T20:18:21.656Z"
   },
   {
    "duration": 13,
    "start_time": "2023-07-23T20:18:23.749Z"
   },
   {
    "duration": 34,
    "start_time": "2023-07-23T20:18:25.199Z"
   },
   {
    "duration": 21,
    "start_time": "2023-07-23T20:20:48.818Z"
   },
   {
    "duration": 13,
    "start_time": "2023-07-23T20:20:49.860Z"
   },
   {
    "duration": 28,
    "start_time": "2023-07-23T20:21:08.924Z"
   },
   {
    "duration": 23,
    "start_time": "2023-07-23T20:28:10.534Z"
   },
   {
    "duration": 37,
    "start_time": "2023-07-23T20:31:11.696Z"
   },
   {
    "duration": 11,
    "start_time": "2023-07-23T20:31:30.400Z"
   },
   {
    "duration": 35,
    "start_time": "2023-07-23T20:31:34.121Z"
   },
   {
    "duration": 33,
    "start_time": "2023-07-23T20:31:42.201Z"
   },
   {
    "duration": 28,
    "start_time": "2023-07-23T20:32:21.218Z"
   },
   {
    "duration": 10,
    "start_time": "2023-07-23T20:41:52.750Z"
   },
   {
    "duration": 13,
    "start_time": "2023-07-23T20:41:56.014Z"
   },
   {
    "duration": 25,
    "start_time": "2023-07-23T20:42:00.429Z"
   },
   {
    "duration": 21,
    "start_time": "2023-07-23T20:42:26.419Z"
   },
   {
    "duration": 39,
    "start_time": "2023-07-23T20:43:43.688Z"
   },
   {
    "duration": 25,
    "start_time": "2023-07-23T20:46:27.500Z"
   },
   {
    "duration": 13,
    "start_time": "2023-07-23T20:46:44.727Z"
   },
   {
    "duration": 24,
    "start_time": "2023-07-23T20:47:02.595Z"
   },
   {
    "duration": 27,
    "start_time": "2023-07-23T20:47:18.432Z"
   },
   {
    "duration": 37,
    "start_time": "2023-07-23T20:47:20.594Z"
   },
   {
    "duration": 20,
    "start_time": "2023-07-23T20:47:32.332Z"
   },
   {
    "duration": 22,
    "start_time": "2023-07-23T20:49:47.037Z"
   },
   {
    "duration": 42,
    "start_time": "2023-07-23T20:51:56.234Z"
   },
   {
    "duration": 18,
    "start_time": "2023-07-23T20:51:59.225Z"
   },
   {
    "duration": 17,
    "start_time": "2023-07-23T20:52:00.760Z"
   },
   {
    "duration": 21,
    "start_time": "2023-07-23T20:52:03.238Z"
   },
   {
    "duration": 19,
    "start_time": "2023-07-23T20:54:59.329Z"
   },
   {
    "duration": 30,
    "start_time": "2023-07-23T20:55:00.214Z"
   },
   {
    "duration": 37,
    "start_time": "2023-07-23T20:55:02.414Z"
   },
   {
    "duration": 29,
    "start_time": "2023-07-23T20:55:03.947Z"
   },
   {
    "duration": 35,
    "start_time": "2023-07-23T20:55:06.798Z"
   },
   {
    "duration": 24,
    "start_time": "2023-07-23T20:55:10.080Z"
   },
   {
    "duration": 121,
    "start_time": "2023-07-23T20:55:22.696Z"
   },
   {
    "duration": 25,
    "start_time": "2023-07-23T20:55:22.819Z"
   },
   {
    "duration": 35,
    "start_time": "2023-07-23T20:55:22.846Z"
   },
   {
    "duration": 2102,
    "start_time": "2023-07-23T20:55:22.883Z"
   },
   {
    "duration": 42,
    "start_time": "2023-07-23T20:55:24.987Z"
   },
   {
    "duration": 16,
    "start_time": "2023-07-23T20:55:25.031Z"
   },
   {
    "duration": 14,
    "start_time": "2023-07-23T20:55:25.049Z"
   },
   {
    "duration": 10,
    "start_time": "2023-07-23T20:55:25.065Z"
   },
   {
    "duration": 10,
    "start_time": "2023-07-23T20:55:25.077Z"
   },
   {
    "duration": 22,
    "start_time": "2023-07-23T20:55:25.089Z"
   },
   {
    "duration": 30,
    "start_time": "2023-07-23T20:55:25.112Z"
   },
   {
    "duration": 13,
    "start_time": "2023-07-23T20:55:25.143Z"
   },
   {
    "duration": 14,
    "start_time": "2023-07-23T20:55:25.158Z"
   },
   {
    "duration": 15,
    "start_time": "2023-07-23T20:55:25.175Z"
   },
   {
    "duration": 45,
    "start_time": "2023-07-23T20:55:25.192Z"
   },
   {
    "duration": 15,
    "start_time": "2023-07-23T20:55:25.239Z"
   },
   {
    "duration": 16,
    "start_time": "2023-07-23T20:55:25.256Z"
   },
   {
    "duration": 12,
    "start_time": "2023-07-23T20:55:25.274Z"
   },
   {
    "duration": 66,
    "start_time": "2023-07-23T20:55:25.288Z"
   },
   {
    "duration": 16,
    "start_time": "2023-07-23T20:55:25.356Z"
   },
   {
    "duration": 32,
    "start_time": "2023-07-23T20:55:25.374Z"
   },
   {
    "duration": 31,
    "start_time": "2023-07-23T20:55:25.416Z"
   },
   {
    "duration": 91,
    "start_time": "2023-07-23T21:01:07.884Z"
   },
   {
    "duration": 142,
    "start_time": "2023-07-23T21:08:04.119Z"
   },
   {
    "duration": 172,
    "start_time": "2023-07-23T21:08:54.795Z"
   },
   {
    "duration": 152,
    "start_time": "2023-07-23T21:09:09.007Z"
   },
   {
    "duration": 136,
    "start_time": "2023-07-23T21:09:12.947Z"
   },
   {
    "duration": 126,
    "start_time": "2023-07-23T21:09:21.913Z"
   },
   {
    "duration": 241,
    "start_time": "2023-07-23T21:10:19.123Z"
   },
   {
    "duration": 125,
    "start_time": "2023-07-23T21:10:25.835Z"
   },
   {
    "duration": 134,
    "start_time": "2023-07-23T21:10:31.407Z"
   },
   {
    "duration": 3840,
    "start_time": "2023-07-23T21:13:46.127Z"
   },
   {
    "duration": 320,
    "start_time": "2023-07-23T21:14:00.026Z"
   },
   {
    "duration": 301,
    "start_time": "2023-07-23T21:14:43.353Z"
   },
   {
    "duration": 466,
    "start_time": "2023-07-23T21:14:46.998Z"
   },
   {
    "duration": 277,
    "start_time": "2023-07-23T21:14:52.140Z"
   },
   {
    "duration": 340,
    "start_time": "2023-07-23T21:14:58.939Z"
   },
   {
    "duration": 315,
    "start_time": "2023-07-23T21:15:03.595Z"
   },
   {
    "duration": 295,
    "start_time": "2023-07-23T21:15:12.457Z"
   },
   {
    "duration": 335,
    "start_time": "2023-07-23T21:15:17.042Z"
   },
   {
    "duration": 187,
    "start_time": "2023-07-23T21:15:37.626Z"
   },
   {
    "duration": 449,
    "start_time": "2023-07-23T21:15:43.295Z"
   },
   {
    "duration": 244,
    "start_time": "2023-07-23T21:15:59.148Z"
   },
   {
    "duration": 217,
    "start_time": "2023-07-23T21:17:23.358Z"
   },
   {
    "duration": 170,
    "start_time": "2023-07-23T21:18:49.085Z"
   },
   {
    "duration": 21,
    "start_time": "2023-07-23T21:20:49.693Z"
   },
   {
    "duration": 219,
    "start_time": "2023-07-23T21:21:00.932Z"
   },
   {
    "duration": 10,
    "start_time": "2023-07-23T21:22:03.387Z"
   },
   {
    "duration": 219,
    "start_time": "2023-07-23T21:22:04.415Z"
   },
   {
    "duration": 216,
    "start_time": "2023-07-23T21:22:12.133Z"
   },
   {
    "duration": 187,
    "start_time": "2023-07-23T21:22:38.426Z"
   },
   {
    "duration": 43,
    "start_time": "2023-07-27T13:29:00.457Z"
   },
   {
    "duration": 1490,
    "start_time": "2023-07-27T13:29:04.949Z"
   },
   {
    "duration": 16,
    "start_time": "2023-07-27T13:29:06.441Z"
   },
   {
    "duration": 28,
    "start_time": "2023-07-27T13:29:06.459Z"
   },
   {
    "duration": 1735,
    "start_time": "2023-07-27T13:29:06.489Z"
   },
   {
    "duration": 9,
    "start_time": "2023-07-27T13:29:08.226Z"
   },
   {
    "duration": 7,
    "start_time": "2023-07-27T13:29:08.236Z"
   },
   {
    "duration": 10,
    "start_time": "2023-07-27T13:29:08.244Z"
   },
   {
    "duration": 13,
    "start_time": "2023-07-27T13:29:08.256Z"
   },
   {
    "duration": 10,
    "start_time": "2023-07-27T13:29:08.270Z"
   },
   {
    "duration": 10,
    "start_time": "2023-07-27T13:29:08.282Z"
   },
   {
    "duration": 7,
    "start_time": "2023-07-27T13:29:08.294Z"
   },
   {
    "duration": 12,
    "start_time": "2023-07-27T13:29:08.303Z"
   },
   {
    "duration": 12,
    "start_time": "2023-07-27T13:29:08.316Z"
   },
   {
    "duration": 12,
    "start_time": "2023-07-27T13:29:08.329Z"
   },
   {
    "duration": 50,
    "start_time": "2023-07-27T13:29:08.343Z"
   },
   {
    "duration": 16,
    "start_time": "2023-07-27T13:29:08.395Z"
   },
   {
    "duration": 24,
    "start_time": "2023-07-27T13:29:08.413Z"
   },
   {
    "duration": 29,
    "start_time": "2023-07-27T13:29:08.439Z"
   },
   {
    "duration": 40,
    "start_time": "2023-07-27T13:29:08.469Z"
   },
   {
    "duration": 15,
    "start_time": "2023-07-27T13:29:08.511Z"
   },
   {
    "duration": 24,
    "start_time": "2023-07-27T13:29:08.528Z"
   },
   {
    "duration": 22,
    "start_time": "2023-07-27T13:29:08.554Z"
   },
   {
    "duration": 73,
    "start_time": "2023-07-27T13:29:08.577Z"
   },
   {
    "duration": 557,
    "start_time": "2023-07-27T13:29:08.651Z"
   },
   {
    "duration": 0,
    "start_time": "2023-07-27T13:29:09.209Z"
   },
   {
    "duration": 0,
    "start_time": "2023-07-27T13:29:09.211Z"
   },
   {
    "duration": 325,
    "start_time": "2023-07-27T13:29:53.077Z"
   },
   {
    "duration": 177,
    "start_time": "2023-07-27T13:30:05.969Z"
   },
   {
    "duration": 376,
    "start_time": "2023-07-27T13:30:18.095Z"
   },
   {
    "duration": 226,
    "start_time": "2023-07-27T13:31:01.553Z"
   },
   {
    "duration": 901,
    "start_time": "2023-07-27T13:31:18.152Z"
   },
   {
    "duration": 251,
    "start_time": "2023-07-27T13:31:30.453Z"
   },
   {
    "duration": 227,
    "start_time": "2023-07-27T13:31:43.714Z"
   },
   {
    "duration": 245,
    "start_time": "2023-07-27T13:31:49.896Z"
   },
   {
    "duration": 146,
    "start_time": "2023-07-27T13:31:53.191Z"
   },
   {
    "duration": 205,
    "start_time": "2023-07-27T13:31:57.282Z"
   },
   {
    "duration": 13,
    "start_time": "2023-07-27T13:32:01.853Z"
   },
   {
    "duration": 203,
    "start_time": "2023-07-27T13:32:05.788Z"
   },
   {
    "duration": 178,
    "start_time": "2023-07-27T13:34:43.679Z"
   },
   {
    "duration": 237,
    "start_time": "2023-07-27T13:34:53.358Z"
   },
   {
    "duration": 184,
    "start_time": "2023-07-27T13:35:17.773Z"
   },
   {
    "duration": 137,
    "start_time": "2023-07-27T13:35:23.110Z"
   },
   {
    "duration": 1028,
    "start_time": "2023-07-27T13:35:28.654Z"
   },
   {
    "duration": 195,
    "start_time": "2023-07-27T13:35:34.164Z"
   },
   {
    "duration": 192,
    "start_time": "2023-07-27T13:36:29.849Z"
   },
   {
    "duration": 191,
    "start_time": "2023-07-27T13:36:40.786Z"
   },
   {
    "duration": 193,
    "start_time": "2023-07-27T13:36:44.057Z"
   },
   {
    "duration": 296,
    "start_time": "2023-07-27T13:36:46.682Z"
   },
   {
    "duration": 203,
    "start_time": "2023-07-27T13:37:01.893Z"
   },
   {
    "duration": 241,
    "start_time": "2023-07-27T13:37:16.295Z"
   },
   {
    "duration": 204,
    "start_time": "2023-07-27T13:39:20.078Z"
   },
   {
    "duration": 206,
    "start_time": "2023-07-27T13:39:30.183Z"
   },
   {
    "duration": 199,
    "start_time": "2023-07-27T13:39:43.285Z"
   },
   {
    "duration": 373,
    "start_time": "2023-07-27T13:40:03.049Z"
   },
   {
    "duration": 332,
    "start_time": "2023-07-27T13:41:05.681Z"
   },
   {
    "duration": 212,
    "start_time": "2023-07-27T13:44:11.711Z"
   },
   {
    "duration": 208,
    "start_time": "2023-07-27T13:44:13.977Z"
   },
   {
    "duration": 210,
    "start_time": "2023-07-27T13:44:56.622Z"
   },
   {
    "duration": 228,
    "start_time": "2023-07-27T13:45:03.404Z"
   },
   {
    "duration": 184,
    "start_time": "2023-07-27T13:45:07.287Z"
   },
   {
    "duration": 202,
    "start_time": "2023-07-27T13:45:12.184Z"
   },
   {
    "duration": 566,
    "start_time": "2023-07-27T13:45:49.356Z"
   },
   {
    "duration": 215,
    "start_time": "2023-07-27T13:47:00.460Z"
   },
   {
    "duration": 199,
    "start_time": "2023-07-27T13:50:47.560Z"
   },
   {
    "duration": 214,
    "start_time": "2023-07-27T13:51:52.384Z"
   },
   {
    "duration": 234,
    "start_time": "2023-07-27T13:51:58.820Z"
   },
   {
    "duration": 240,
    "start_time": "2023-07-27T13:52:06.323Z"
   },
   {
    "duration": 217,
    "start_time": "2023-07-27T13:52:21.799Z"
   },
   {
    "duration": 202,
    "start_time": "2023-07-27T13:53:20.248Z"
   },
   {
    "duration": 439,
    "start_time": "2023-07-27T13:53:36.280Z"
   },
   {
    "duration": 653,
    "start_time": "2023-07-27T13:58:16.343Z"
   },
   {
    "duration": 401,
    "start_time": "2023-07-27T13:58:55.194Z"
   },
   {
    "duration": 410,
    "start_time": "2023-07-27T13:59:10.616Z"
   },
   {
    "duration": 385,
    "start_time": "2023-07-27T13:59:18.116Z"
   },
   {
    "duration": 426,
    "start_time": "2023-07-27T14:02:09.281Z"
   },
   {
    "duration": 440,
    "start_time": "2023-07-27T14:02:13.663Z"
   },
   {
    "duration": 654,
    "start_time": "2023-07-27T14:02:19.303Z"
   },
   {
    "duration": 406,
    "start_time": "2023-07-27T14:02:28.372Z"
   },
   {
    "duration": 458,
    "start_time": "2023-07-27T14:02:36.101Z"
   },
   {
    "duration": 33,
    "start_time": "2023-07-27T14:04:50.366Z"
   },
   {
    "duration": 402,
    "start_time": "2023-07-27T14:04:59.873Z"
   },
   {
    "duration": 199,
    "start_time": "2023-07-27T14:05:05.255Z"
   },
   {
    "duration": 209,
    "start_time": "2023-07-27T14:05:09.951Z"
   },
   {
    "duration": 204,
    "start_time": "2023-07-27T14:05:18.983Z"
   },
   {
    "duration": 206,
    "start_time": "2023-07-27T14:06:43.455Z"
   },
   {
    "duration": 193,
    "start_time": "2023-07-27T14:08:08.185Z"
   },
   {
    "duration": 246,
    "start_time": "2023-07-27T14:08:15.178Z"
   },
   {
    "duration": 499,
    "start_time": "2023-07-27T14:08:21.509Z"
   },
   {
    "duration": 197,
    "start_time": "2023-07-27T14:08:27.973Z"
   },
   {
    "duration": 196,
    "start_time": "2023-07-27T14:08:33.455Z"
   },
   {
    "duration": 437,
    "start_time": "2023-07-27T14:08:49.088Z"
   },
   {
    "duration": 10,
    "start_time": "2023-07-27T14:09:57.759Z"
   },
   {
    "duration": 211,
    "start_time": "2023-07-27T14:10:00.799Z"
   },
   {
    "duration": 191,
    "start_time": "2023-07-27T14:10:18.699Z"
   },
   {
    "duration": 204,
    "start_time": "2023-07-27T14:10:23.263Z"
   },
   {
    "duration": 246,
    "start_time": "2023-07-27T14:10:31.174Z"
   },
   {
    "duration": 14,
    "start_time": "2023-07-27T14:18:20.909Z"
   },
   {
    "duration": 268,
    "start_time": "2023-07-27T14:18:26.154Z"
   },
   {
    "duration": 391,
    "start_time": "2023-07-27T14:18:54.421Z"
   },
   {
    "duration": 227,
    "start_time": "2023-07-27T14:19:53.577Z"
   },
   {
    "duration": 48,
    "start_time": "2023-07-27T21:40:19.046Z"
   },
   {
    "duration": 1425,
    "start_time": "2023-07-27T21:40:22.560Z"
   },
   {
    "duration": 23,
    "start_time": "2023-07-27T21:40:23.988Z"
   },
   {
    "duration": 37,
    "start_time": "2023-07-27T21:40:24.013Z"
   },
   {
    "duration": 2247,
    "start_time": "2023-07-27T21:40:24.052Z"
   },
   {
    "duration": 12,
    "start_time": "2023-07-27T21:40:26.302Z"
   },
   {
    "duration": 11,
    "start_time": "2023-07-27T21:40:26.316Z"
   },
   {
    "duration": 34,
    "start_time": "2023-07-27T21:40:26.329Z"
   },
   {
    "duration": 28,
    "start_time": "2023-07-27T21:40:26.365Z"
   },
   {
    "duration": 36,
    "start_time": "2023-07-27T21:40:26.396Z"
   },
   {
    "duration": 16,
    "start_time": "2023-07-27T21:40:26.434Z"
   },
   {
    "duration": 10,
    "start_time": "2023-07-27T21:40:26.452Z"
   },
   {
    "duration": 20,
    "start_time": "2023-07-27T21:40:26.464Z"
   },
   {
    "duration": 23,
    "start_time": "2023-07-27T21:40:26.486Z"
   },
   {
    "duration": 33,
    "start_time": "2023-07-27T21:40:26.515Z"
   },
   {
    "duration": 51,
    "start_time": "2023-07-27T21:40:26.550Z"
   },
   {
    "duration": 42,
    "start_time": "2023-07-27T21:40:26.604Z"
   },
   {
    "duration": 31,
    "start_time": "2023-07-27T21:40:26.648Z"
   },
   {
    "duration": 34,
    "start_time": "2023-07-27T21:40:26.682Z"
   },
   {
    "duration": 46,
    "start_time": "2023-07-27T21:40:26.718Z"
   },
   {
    "duration": 20,
    "start_time": "2023-07-27T21:40:26.766Z"
   },
   {
    "duration": 37,
    "start_time": "2023-07-27T21:40:26.788Z"
   },
   {
    "duration": 25,
    "start_time": "2023-07-27T21:40:26.827Z"
   },
   {
    "duration": 85,
    "start_time": "2023-07-27T21:40:26.871Z"
   },
   {
    "duration": 279,
    "start_time": "2023-07-27T21:40:26.970Z"
   },
   {
    "duration": 10,
    "start_time": "2023-07-27T21:40:27.251Z"
   },
   {
    "duration": 245,
    "start_time": "2023-07-27T21:40:27.262Z"
   },
   {
    "duration": 556,
    "start_time": "2023-07-27T21:40:27.509Z"
   },
   {
    "duration": 235,
    "start_time": "2023-07-27T21:40:28.071Z"
   },
   {
    "duration": 463,
    "start_time": "2023-07-27T21:40:28.308Z"
   },
   {
    "duration": 303,
    "start_time": "2023-07-27T21:40:28.773Z"
   },
   {
    "duration": 482,
    "start_time": "2023-07-27T21:40:29.077Z"
   },
   {
    "duration": 124,
    "start_time": "2023-07-27T21:40:29.561Z"
   },
   {
    "duration": 242,
    "start_time": "2023-07-27T21:40:29.687Z"
   },
   {
    "duration": 431,
    "start_time": "2023-07-27T21:40:29.930Z"
   },
   {
    "duration": 251,
    "start_time": "2023-07-27T21:40:30.363Z"
   },
   {
    "duration": 499,
    "start_time": "2023-07-27T21:40:30.617Z"
   },
   {
    "duration": 336,
    "start_time": "2023-07-27T21:40:31.118Z"
   },
   {
    "duration": 460,
    "start_time": "2023-07-27T21:40:31.456Z"
   },
   {
    "duration": 497,
    "start_time": "2023-07-27T21:40:49.898Z"
   },
   {
    "duration": 810,
    "start_time": "2023-07-27T21:41:58.790Z"
   },
   {
    "duration": 667,
    "start_time": "2023-07-27T21:42:33.963Z"
   },
   {
    "duration": 233,
    "start_time": "2023-07-27T21:42:58.284Z"
   },
   {
    "duration": 89,
    "start_time": "2023-07-27T21:48:30.764Z"
   },
   {
    "duration": 94,
    "start_time": "2023-07-27T21:48:46.262Z"
   },
   {
    "duration": 5,
    "start_time": "2023-07-27T21:50:27.975Z"
   },
   {
    "duration": 105,
    "start_time": "2023-07-27T21:51:01.388Z"
   },
   {
    "duration": 15,
    "start_time": "2023-07-27T21:51:01.495Z"
   },
   {
    "duration": 90,
    "start_time": "2023-07-27T21:51:01.512Z"
   },
   {
    "duration": 2263,
    "start_time": "2023-07-27T21:51:01.604Z"
   },
   {
    "duration": 10,
    "start_time": "2023-07-27T21:51:03.869Z"
   },
   {
    "duration": 67,
    "start_time": "2023-07-27T21:51:03.880Z"
   },
   {
    "duration": 15,
    "start_time": "2023-07-27T21:51:03.948Z"
   },
   {
    "duration": 14,
    "start_time": "2023-07-27T21:51:03.965Z"
   },
   {
    "duration": 16,
    "start_time": "2023-07-27T21:51:03.981Z"
   },
   {
    "duration": 14,
    "start_time": "2023-07-27T21:51:04.000Z"
   },
   {
    "duration": 11,
    "start_time": "2023-07-27T21:51:04.016Z"
   },
   {
    "duration": 29,
    "start_time": "2023-07-27T21:51:04.030Z"
   },
   {
    "duration": 13,
    "start_time": "2023-07-27T21:51:04.061Z"
   },
   {
    "duration": 22,
    "start_time": "2023-07-27T21:51:04.076Z"
   },
   {
    "duration": 19,
    "start_time": "2023-07-27T21:51:04.100Z"
   },
   {
    "duration": 19,
    "start_time": "2023-07-27T21:51:04.121Z"
   },
   {
    "duration": 39,
    "start_time": "2023-07-27T21:51:04.141Z"
   },
   {
    "duration": 12,
    "start_time": "2023-07-27T21:51:04.182Z"
   },
   {
    "duration": 40,
    "start_time": "2023-07-27T21:51:04.196Z"
   },
   {
    "duration": 40,
    "start_time": "2023-07-27T21:51:04.237Z"
   },
   {
    "duration": 51,
    "start_time": "2023-07-27T21:51:04.279Z"
   },
   {
    "duration": 21,
    "start_time": "2023-07-27T21:51:04.332Z"
   },
   {
    "duration": 72,
    "start_time": "2023-07-27T21:51:04.355Z"
   },
   {
    "duration": 275,
    "start_time": "2023-07-27T21:51:04.429Z"
   },
   {
    "duration": 12,
    "start_time": "2023-07-27T21:51:04.706Z"
   },
   {
    "duration": 239,
    "start_time": "2023-07-27T21:51:04.719Z"
   },
   {
    "duration": 423,
    "start_time": "2023-07-27T21:51:04.960Z"
   },
   {
    "duration": 414,
    "start_time": "2023-07-27T21:51:05.387Z"
   },
   {
    "duration": 493,
    "start_time": "2023-07-27T21:51:05.802Z"
   },
   {
    "duration": 278,
    "start_time": "2023-07-27T21:51:06.297Z"
   },
   {
    "duration": 464,
    "start_time": "2023-07-27T21:51:06.577Z"
   },
   {
    "duration": 34,
    "start_time": "2023-07-27T21:51:07.042Z"
   },
   {
    "duration": 230,
    "start_time": "2023-07-27T21:51:07.078Z"
   },
   {
    "duration": 580,
    "start_time": "2023-07-27T21:51:07.310Z"
   },
   {
    "duration": 233,
    "start_time": "2023-07-27T21:51:07.891Z"
   },
   {
    "duration": 419,
    "start_time": "2023-07-27T21:51:08.126Z"
   },
   {
    "duration": 232,
    "start_time": "2023-07-27T21:51:08.546Z"
   },
   {
    "duration": 464,
    "start_time": "2023-07-27T21:51:08.780Z"
   },
   {
    "duration": 414,
    "start_time": "2023-07-27T21:51:09.246Z"
   },
   {
    "duration": 9,
    "start_time": "2023-07-27T21:51:09.662Z"
   },
   {
    "duration": 1538,
    "start_time": "2023-08-03T07:56:41.822Z"
   },
   {
    "duration": 17,
    "start_time": "2023-08-03T07:56:43.363Z"
   },
   {
    "duration": 35,
    "start_time": "2023-08-03T07:56:43.382Z"
   },
   {
    "duration": 2073,
    "start_time": "2023-08-03T07:56:43.418Z"
   },
   {
    "duration": 11,
    "start_time": "2023-08-03T07:56:45.493Z"
   },
   {
    "duration": 14,
    "start_time": "2023-08-03T07:56:45.505Z"
   },
   {
    "duration": 16,
    "start_time": "2023-08-03T07:56:45.520Z"
   },
   {
    "duration": 10,
    "start_time": "2023-08-03T07:56:45.538Z"
   },
   {
    "duration": 14,
    "start_time": "2023-08-03T07:56:45.550Z"
   },
   {
    "duration": 13,
    "start_time": "2023-08-03T07:56:45.565Z"
   },
   {
    "duration": 8,
    "start_time": "2023-08-03T07:56:45.580Z"
   },
   {
    "duration": 19,
    "start_time": "2023-08-03T07:56:45.590Z"
   },
   {
    "duration": 18,
    "start_time": "2023-08-03T07:56:45.610Z"
   },
   {
    "duration": 32,
    "start_time": "2023-08-03T07:56:45.631Z"
   },
   {
    "duration": 22,
    "start_time": "2023-08-03T07:56:45.664Z"
   },
   {
    "duration": 17,
    "start_time": "2023-08-03T07:56:45.688Z"
   },
   {
    "duration": 46,
    "start_time": "2023-08-03T07:56:45.706Z"
   },
   {
    "duration": 11,
    "start_time": "2023-08-03T07:56:45.754Z"
   },
   {
    "duration": 54,
    "start_time": "2023-08-03T07:56:45.767Z"
   },
   {
    "duration": 17,
    "start_time": "2023-08-03T07:56:45.823Z"
   },
   {
    "duration": 22,
    "start_time": "2023-08-03T07:56:45.842Z"
   },
   {
    "duration": 24,
    "start_time": "2023-08-03T07:56:45.866Z"
   },
   {
    "duration": 97,
    "start_time": "2023-08-03T07:56:45.892Z"
   },
   {
    "duration": 251,
    "start_time": "2023-08-03T07:56:45.991Z"
   },
   {
    "duration": 18,
    "start_time": "2023-08-03T07:56:46.244Z"
   },
   {
    "duration": 233,
    "start_time": "2023-08-03T07:56:46.263Z"
   },
   {
    "duration": 548,
    "start_time": "2023-08-03T07:56:46.498Z"
   },
   {
    "duration": 262,
    "start_time": "2023-08-03T07:56:47.051Z"
   },
   {
    "duration": 460,
    "start_time": "2023-08-03T07:56:47.315Z"
   },
   {
    "duration": 245,
    "start_time": "2023-08-03T07:56:47.777Z"
   },
   {
    "duration": 485,
    "start_time": "2023-08-03T07:56:48.023Z"
   },
   {
    "duration": 129,
    "start_time": "2023-08-03T07:56:48.510Z"
   },
   {
    "duration": 239,
    "start_time": "2023-08-03T07:56:48.641Z"
   },
   {
    "duration": 451,
    "start_time": "2023-08-03T07:56:48.882Z"
   },
   {
    "duration": 245,
    "start_time": "2023-08-03T07:56:49.334Z"
   },
   {
    "duration": 436,
    "start_time": "2023-08-03T07:56:49.580Z"
   },
   {
    "duration": 353,
    "start_time": "2023-08-03T07:56:50.018Z"
   },
   {
    "duration": 473,
    "start_time": "2023-08-03T07:56:50.373Z"
   },
   {
    "duration": 230,
    "start_time": "2023-08-03T07:56:50.851Z"
   },
   {
    "duration": 5,
    "start_time": "2023-08-03T07:56:51.083Z"
   },
   {
    "duration": 92,
    "start_time": "2023-08-03T08:12:38.684Z"
   },
   {
    "duration": 16,
    "start_time": "2023-08-03T08:12:38.778Z"
   },
   {
    "duration": 31,
    "start_time": "2023-08-03T08:12:38.795Z"
   },
   {
    "duration": 2155,
    "start_time": "2023-08-03T08:12:38.828Z"
   },
   {
    "duration": 11,
    "start_time": "2023-08-03T08:12:40.985Z"
   },
   {
    "duration": 13,
    "start_time": "2023-08-03T08:12:40.998Z"
   },
   {
    "duration": 14,
    "start_time": "2023-08-03T08:12:41.013Z"
   },
   {
    "duration": 27,
    "start_time": "2023-08-03T08:12:41.029Z"
   },
   {
    "duration": 23,
    "start_time": "2023-08-03T08:12:41.058Z"
   },
   {
    "duration": 15,
    "start_time": "2023-08-03T08:12:41.085Z"
   },
   {
    "duration": 23,
    "start_time": "2023-08-03T08:12:41.102Z"
   },
   {
    "duration": 26,
    "start_time": "2023-08-03T08:12:41.127Z"
   },
   {
    "duration": 19,
    "start_time": "2023-08-03T08:12:41.155Z"
   },
   {
    "duration": 21,
    "start_time": "2023-08-03T08:12:41.175Z"
   },
   {
    "duration": 22,
    "start_time": "2023-08-03T08:12:41.198Z"
   },
   {
    "duration": 32,
    "start_time": "2023-08-03T08:12:41.221Z"
   },
   {
    "duration": 17,
    "start_time": "2023-08-03T08:12:41.255Z"
   },
   {
    "duration": 11,
    "start_time": "2023-08-03T08:12:41.274Z"
   },
   {
    "duration": 75,
    "start_time": "2023-08-03T08:12:41.287Z"
   },
   {
    "duration": 28,
    "start_time": "2023-08-03T08:12:41.365Z"
   },
   {
    "duration": 17,
    "start_time": "2023-08-03T08:12:41.395Z"
   },
   {
    "duration": 49,
    "start_time": "2023-08-03T08:12:41.414Z"
   },
   {
    "duration": 74,
    "start_time": "2023-08-03T08:12:41.465Z"
   },
   {
    "duration": 271,
    "start_time": "2023-08-03T08:12:41.553Z"
   },
   {
    "duration": 10,
    "start_time": "2023-08-03T08:12:41.825Z"
   },
   {
    "duration": 243,
    "start_time": "2023-08-03T08:12:41.837Z"
   },
   {
    "duration": 455,
    "start_time": "2023-08-03T08:12:42.082Z"
   },
   {
    "duration": 420,
    "start_time": "2023-08-03T08:12:42.541Z"
   },
   {
    "duration": 475,
    "start_time": "2023-08-03T08:12:42.963Z"
   },
   {
    "duration": 266,
    "start_time": "2023-08-03T08:12:43.440Z"
   },
   {
    "duration": 468,
    "start_time": "2023-08-03T08:12:43.708Z"
   },
   {
    "duration": 25,
    "start_time": "2023-08-03T08:12:44.177Z"
   },
   {
    "duration": 401,
    "start_time": "2023-08-03T08:12:44.204Z"
   },
   {
    "duration": 453,
    "start_time": "2023-08-03T08:12:44.607Z"
   },
   {
    "duration": 235,
    "start_time": "2023-08-03T08:12:45.062Z"
   },
   {
    "duration": 476,
    "start_time": "2023-08-03T08:12:45.299Z"
   },
   {
    "duration": 245,
    "start_time": "2023-08-03T08:12:45.777Z"
   },
   {
    "duration": 639,
    "start_time": "2023-08-03T08:12:46.024Z"
   },
   {
    "duration": 232,
    "start_time": "2023-08-03T08:12:46.665Z"
   },
   {
    "duration": 5,
    "start_time": "2023-08-03T08:12:46.898Z"
   },
   {
    "duration": 7,
    "start_time": "2023-08-03T08:14:01.155Z"
   },
   {
    "duration": 6,
    "start_time": "2023-08-03T08:14:59.506Z"
   },
   {
    "duration": 6,
    "start_time": "2023-08-03T08:15:06.475Z"
   },
   {
    "duration": 6,
    "start_time": "2023-08-03T08:15:55.177Z"
   },
   {
    "duration": 8,
    "start_time": "2023-08-03T08:16:05.266Z"
   },
   {
    "duration": 9,
    "start_time": "2023-08-03T08:16:27.984Z"
   },
   {
    "duration": 9,
    "start_time": "2023-08-03T08:17:03.096Z"
   },
   {
    "duration": 6,
    "start_time": "2023-08-03T08:17:09.597Z"
   },
   {
    "duration": 8,
    "start_time": "2023-08-03T08:17:23.435Z"
   },
   {
    "duration": 7,
    "start_time": "2023-08-03T08:17:49.096Z"
   },
   {
    "duration": 8,
    "start_time": "2023-08-03T08:17:54.498Z"
   },
   {
    "duration": 4,
    "start_time": "2023-08-03T08:18:12.137Z"
   },
   {
    "duration": 6,
    "start_time": "2023-08-03T08:18:13.427Z"
   },
   {
    "duration": 6,
    "start_time": "2023-08-03T08:18:13.928Z"
   },
   {
    "duration": 6,
    "start_time": "2023-08-03T08:18:16.417Z"
   },
   {
    "duration": 6,
    "start_time": "2023-08-03T08:18:18.202Z"
   },
   {
    "duration": 90,
    "start_time": "2023-08-03T08:19:49.906Z"
   },
   {
    "duration": 3,
    "start_time": "2023-08-03T08:20:00.308Z"
   },
   {
    "duration": 4446,
    "start_time": "2023-08-03T08:20:02.147Z"
   },
   {
    "duration": 2752,
    "start_time": "2023-08-03T08:21:04.265Z"
   },
   {
    "duration": 5,
    "start_time": "2023-08-03T08:21:54.253Z"
   },
   {
    "duration": 3388,
    "start_time": "2023-08-03T08:21:58.134Z"
   },
   {
    "duration": 4,
    "start_time": "2023-08-03T08:22:47.415Z"
   },
   {
    "duration": 3928,
    "start_time": "2023-08-03T08:22:50.347Z"
   },
   {
    "duration": 4,
    "start_time": "2023-08-03T08:23:04.024Z"
   },
   {
    "duration": 376,
    "start_time": "2023-08-03T08:23:05.416Z"
   },
   {
    "duration": 325,
    "start_time": "2023-08-03T08:23:08.784Z"
   },
   {
    "duration": 32,
    "start_time": "2023-08-03T08:23:24.134Z"
   },
   {
    "duration": 5,
    "start_time": "2023-08-03T08:24:56.393Z"
   },
   {
    "duration": 36,
    "start_time": "2023-08-03T08:26:08.839Z"
   },
   {
    "duration": 177,
    "start_time": "2023-08-03T08:28:54.059Z"
   },
   {
    "duration": 284,
    "start_time": "2023-08-03T08:29:30.249Z"
   },
   {
    "duration": 274,
    "start_time": "2023-08-03T08:30:38.382Z"
   },
   {
    "duration": 256,
    "start_time": "2023-08-03T08:35:04.979Z"
   },
   {
    "duration": 542,
    "start_time": "2023-08-03T08:36:15.148Z"
   },
   {
    "duration": 138,
    "start_time": "2023-08-03T08:36:37.432Z"
   },
   {
    "duration": 537,
    "start_time": "2023-08-03T08:36:46.538Z"
   },
   {
    "duration": 256,
    "start_time": "2023-08-03T08:44:53.162Z"
   },
   {
    "duration": 208,
    "start_time": "2023-08-03T08:46:21.013Z"
   },
   {
    "duration": 179,
    "start_time": "2023-08-03T08:46:28.852Z"
   },
   {
    "duration": 199,
    "start_time": "2023-08-03T08:47:56.499Z"
   },
   {
    "duration": 238,
    "start_time": "2023-08-03T08:48:27.851Z"
   },
   {
    "duration": 162,
    "start_time": "2023-08-03T08:48:44.179Z"
   },
   {
    "duration": 174,
    "start_time": "2023-08-03T08:48:54.020Z"
   },
   {
    "duration": 250,
    "start_time": "2023-08-03T08:48:59.670Z"
   },
   {
    "duration": 284,
    "start_time": "2023-08-03T08:49:21.801Z"
   },
   {
    "duration": 192,
    "start_time": "2023-08-03T08:53:22.607Z"
   },
   {
    "duration": 249,
    "start_time": "2023-08-03T08:57:41.391Z"
   },
   {
    "duration": 183,
    "start_time": "2023-08-03T08:57:47.322Z"
   },
   {
    "duration": 426,
    "start_time": "2023-08-03T08:59:02.640Z"
   },
   {
    "duration": 17,
    "start_time": "2023-08-03T09:02:26.941Z"
   },
   {
    "duration": 242,
    "start_time": "2023-08-03T09:02:48.739Z"
   },
   {
    "duration": 14,
    "start_time": "2023-08-03T09:06:48.942Z"
   },
   {
    "duration": 14,
    "start_time": "2023-08-03T09:06:53.065Z"
   },
   {
    "duration": 14,
    "start_time": "2023-08-03T09:07:04.136Z"
   },
   {
    "duration": 29,
    "start_time": "2023-08-03T09:08:12.652Z"
   },
   {
    "duration": 14,
    "start_time": "2023-08-03T09:09:18.693Z"
   },
   {
    "duration": 4,
    "start_time": "2023-08-03T09:09:24.919Z"
   },
   {
    "duration": 339,
    "start_time": "2023-08-03T09:09:26.656Z"
   },
   {
    "duration": 16,
    "start_time": "2023-08-03T09:09:36.810Z"
   },
   {
    "duration": 8072,
    "start_time": "2023-08-03T09:10:09.343Z"
   },
   {
    "duration": 5977,
    "start_time": "2023-08-03T09:10:21.318Z"
   },
   {
    "duration": 145,
    "start_time": "2023-08-03T09:10:41.259Z"
   },
   {
    "duration": 113,
    "start_time": "2023-08-03T09:11:06.417Z"
   },
   {
    "duration": 128,
    "start_time": "2023-08-03T09:11:10.079Z"
   },
   {
    "duration": 1146,
    "start_time": "2023-08-03T21:25:53.813Z"
   },
   {
    "duration": 15,
    "start_time": "2023-08-03T21:25:54.961Z"
   },
   {
    "duration": 27,
    "start_time": "2023-08-03T21:25:54.978Z"
   },
   {
    "duration": 1977,
    "start_time": "2023-08-03T21:25:55.006Z"
   },
   {
    "duration": 9,
    "start_time": "2023-08-03T21:25:56.987Z"
   },
   {
    "duration": 8,
    "start_time": "2023-08-03T21:25:56.998Z"
   },
   {
    "duration": 12,
    "start_time": "2023-08-03T21:25:57.007Z"
   },
   {
    "duration": 28,
    "start_time": "2023-08-03T21:25:57.021Z"
   },
   {
    "duration": 9,
    "start_time": "2023-08-03T21:25:57.051Z"
   },
   {
    "duration": 11,
    "start_time": "2023-08-03T21:25:57.062Z"
   },
   {
    "duration": 18,
    "start_time": "2023-08-03T21:25:57.074Z"
   },
   {
    "duration": 14,
    "start_time": "2023-08-03T21:25:57.093Z"
   },
   {
    "duration": 19,
    "start_time": "2023-08-03T21:25:57.108Z"
   },
   {
    "duration": 33,
    "start_time": "2023-08-03T21:25:57.136Z"
   },
   {
    "duration": 35,
    "start_time": "2023-08-03T21:25:57.172Z"
   },
   {
    "duration": 20,
    "start_time": "2023-08-03T21:25:57.209Z"
   },
   {
    "duration": 30,
    "start_time": "2023-08-03T21:25:57.231Z"
   },
   {
    "duration": 21,
    "start_time": "2023-08-03T21:25:57.263Z"
   },
   {
    "duration": 54,
    "start_time": "2023-08-03T21:25:57.286Z"
   },
   {
    "duration": 16,
    "start_time": "2023-08-03T21:25:57.342Z"
   },
   {
    "duration": 17,
    "start_time": "2023-08-03T21:25:57.360Z"
   },
   {
    "duration": 19,
    "start_time": "2023-08-03T21:25:57.379Z"
   },
   {
    "duration": 72,
    "start_time": "2023-08-03T21:25:57.421Z"
   },
   {
    "duration": 234,
    "start_time": "2023-08-03T21:25:57.494Z"
   },
   {
    "duration": 13,
    "start_time": "2023-08-03T21:25:57.730Z"
   },
   {
    "duration": 264,
    "start_time": "2023-08-03T21:25:57.745Z"
   },
   {
    "duration": 537,
    "start_time": "2023-08-03T21:25:58.011Z"
   },
   {
    "duration": 240,
    "start_time": "2023-08-03T21:25:58.550Z"
   },
   {
    "duration": 402,
    "start_time": "2023-08-03T21:25:58.793Z"
   },
   {
    "duration": 253,
    "start_time": "2023-08-03T21:25:59.197Z"
   },
   {
    "duration": 498,
    "start_time": "2023-08-03T21:25:59.452Z"
   },
   {
    "duration": 119,
    "start_time": "2023-08-03T21:25:59.952Z"
   },
   {
    "duration": 223,
    "start_time": "2023-08-03T21:26:00.073Z"
   },
   {
    "duration": 473,
    "start_time": "2023-08-03T21:26:00.298Z"
   },
   {
    "duration": 210,
    "start_time": "2023-08-03T21:26:00.773Z"
   },
   {
    "duration": 391,
    "start_time": "2023-08-03T21:26:00.985Z"
   },
   {
    "duration": 312,
    "start_time": "2023-08-03T21:26:01.378Z"
   },
   {
    "duration": 437,
    "start_time": "2023-08-03T21:26:01.692Z"
   },
   {
    "duration": 217,
    "start_time": "2023-08-03T21:26:02.131Z"
   },
   {
    "duration": 8,
    "start_time": "2023-08-03T21:26:02.350Z"
   },
   {
    "duration": 36,
    "start_time": "2023-08-03T21:26:02.363Z"
   },
   {
    "duration": 62,
    "start_time": "2023-08-03T21:26:02.401Z"
   },
   {
    "duration": 35,
    "start_time": "2023-08-03T21:26:02.465Z"
   },
   {
    "duration": 16,
    "start_time": "2023-08-03T21:26:02.502Z"
   },
   {
    "duration": 460,
    "start_time": "2023-08-03T21:26:02.520Z"
   },
   {
    "duration": 4,
    "start_time": "2023-08-03T21:26:02.982Z"
   },
   {
    "duration": 41,
    "start_time": "2023-08-03T21:26:02.988Z"
   },
   {
    "duration": 303,
    "start_time": "2023-08-03T21:26:03.030Z"
   },
   {
    "duration": 489,
    "start_time": "2023-08-03T21:26:03.335Z"
   },
   {
    "duration": 162,
    "start_time": "2023-08-03T21:26:03.826Z"
   },
   {
    "duration": 264,
    "start_time": "2023-08-03T21:26:03.990Z"
   },
   {
    "duration": 173,
    "start_time": "2023-08-03T21:26:04.256Z"
   },
   {
    "duration": 188,
    "start_time": "2023-08-03T21:26:04.438Z"
   },
   {
    "duration": 194,
    "start_time": "2023-08-03T21:26:04.628Z"
   },
   {
    "duration": 43,
    "start_time": "2023-08-03T21:26:04.825Z"
   },
   {
    "duration": 122,
    "start_time": "2023-08-03T21:26:04.870Z"
   },
   {
    "duration": 230,
    "start_time": "2023-08-03T21:30:43.237Z"
   },
   {
    "duration": 135,
    "start_time": "2023-08-03T21:30:48.550Z"
   },
   {
    "duration": 72,
    "start_time": "2023-08-03T21:30:59.719Z"
   },
   {
    "duration": 180,
    "start_time": "2023-08-03T21:31:38.600Z"
   },
   {
    "duration": 152,
    "start_time": "2023-08-03T21:31:56.638Z"
   },
   {
    "duration": 138,
    "start_time": "2023-08-03T21:32:26.523Z"
   },
   {
    "duration": 140,
    "start_time": "2023-08-03T21:33:05.642Z"
   },
   {
    "duration": 175,
    "start_time": "2023-08-03T21:33:11.407Z"
   },
   {
    "duration": 1472,
    "start_time": "2023-08-03T21:33:57.940Z"
   },
   {
    "duration": 175,
    "start_time": "2023-08-03T21:34:42.395Z"
   },
   {
    "duration": 22,
    "start_time": "2023-08-03T21:35:00.528Z"
   },
   {
    "duration": 289,
    "start_time": "2023-08-03T21:35:24.743Z"
   },
   {
    "duration": 184,
    "start_time": "2023-08-03T21:35:30.094Z"
   },
   {
    "duration": 178,
    "start_time": "2023-08-03T21:36:09.799Z"
   },
   {
    "duration": 158,
    "start_time": "2023-08-03T21:36:15.943Z"
   },
   {
    "duration": 132,
    "start_time": "2023-08-03T21:36:21.404Z"
   },
   {
    "duration": 101,
    "start_time": "2023-08-03T21:49:23.452Z"
   },
   {
    "duration": 20,
    "start_time": "2023-08-03T21:49:23.555Z"
   },
   {
    "duration": 25,
    "start_time": "2023-08-03T21:49:23.576Z"
   },
   {
    "duration": 1739,
    "start_time": "2023-08-03T21:49:23.602Z"
   },
   {
    "duration": 15,
    "start_time": "2023-08-03T21:49:25.342Z"
   },
   {
    "duration": 38,
    "start_time": "2023-08-03T21:49:25.362Z"
   },
   {
    "duration": 27,
    "start_time": "2023-08-03T21:49:25.402Z"
   },
   {
    "duration": 23,
    "start_time": "2023-08-03T21:49:25.431Z"
   },
   {
    "duration": 30,
    "start_time": "2023-08-03T21:49:25.456Z"
   },
   {
    "duration": 21,
    "start_time": "2023-08-03T21:49:25.489Z"
   },
   {
    "duration": 31,
    "start_time": "2023-08-03T21:49:25.511Z"
   },
   {
    "duration": 21,
    "start_time": "2023-08-03T21:49:25.551Z"
   },
   {
    "duration": 152,
    "start_time": "2023-08-03T21:49:25.574Z"
   },
   {
    "duration": 39,
    "start_time": "2023-08-03T21:49:25.728Z"
   },
   {
    "duration": 18,
    "start_time": "2023-08-03T21:49:25.768Z"
   },
   {
    "duration": 24,
    "start_time": "2023-08-03T21:49:25.787Z"
   },
   {
    "duration": 26,
    "start_time": "2023-08-03T21:49:25.812Z"
   },
   {
    "duration": 19,
    "start_time": "2023-08-03T21:49:25.840Z"
   },
   {
    "duration": 41,
    "start_time": "2023-08-03T21:49:25.861Z"
   },
   {
    "duration": 21,
    "start_time": "2023-08-03T21:49:25.904Z"
   },
   {
    "duration": 33,
    "start_time": "2023-08-03T21:49:25.927Z"
   },
   {
    "duration": 17,
    "start_time": "2023-08-03T21:49:25.962Z"
   },
   {
    "duration": 66,
    "start_time": "2023-08-03T21:49:25.981Z"
   },
   {
    "duration": 216,
    "start_time": "2023-08-03T21:49:26.049Z"
   },
   {
    "duration": 9,
    "start_time": "2023-08-03T21:49:26.267Z"
   },
   {
    "duration": 197,
    "start_time": "2023-08-03T21:49:26.280Z"
   },
   {
    "duration": 422,
    "start_time": "2023-08-03T21:49:26.479Z"
   },
   {
    "duration": 200,
    "start_time": "2023-08-03T21:49:26.905Z"
   },
   {
    "duration": 380,
    "start_time": "2023-08-03T21:49:27.106Z"
   },
   {
    "duration": 216,
    "start_time": "2023-08-03T21:49:27.488Z"
   },
   {
    "duration": 515,
    "start_time": "2023-08-03T21:49:27.706Z"
   },
   {
    "duration": 28,
    "start_time": "2023-08-03T21:49:28.222Z"
   },
   {
    "duration": 209,
    "start_time": "2023-08-03T21:49:28.255Z"
   },
   {
    "duration": 371,
    "start_time": "2023-08-03T21:49:28.465Z"
   },
   {
    "duration": 198,
    "start_time": "2023-08-03T21:49:28.838Z"
   },
   {
    "duration": 374,
    "start_time": "2023-08-03T21:49:29.037Z"
   },
   {
    "duration": 233,
    "start_time": "2023-08-03T21:49:29.419Z"
   },
   {
    "duration": 352,
    "start_time": "2023-08-03T21:49:29.654Z"
   },
   {
    "duration": 369,
    "start_time": "2023-08-03T21:49:30.007Z"
   },
   {
    "duration": 4,
    "start_time": "2023-08-03T21:49:30.377Z"
   },
   {
    "duration": 32,
    "start_time": "2023-08-03T21:49:30.383Z"
   },
   {
    "duration": 62,
    "start_time": "2023-08-03T21:49:30.416Z"
   },
   {
    "duration": 31,
    "start_time": "2023-08-03T21:49:30.480Z"
   },
   {
    "duration": 72,
    "start_time": "2023-08-03T21:49:30.513Z"
   },
   {
    "duration": 412,
    "start_time": "2023-08-03T21:49:30.587Z"
   },
   {
    "duration": 5,
    "start_time": "2023-08-03T21:49:31.001Z"
   },
   {
    "duration": 91,
    "start_time": "2023-08-03T21:49:31.007Z"
   },
   {
    "duration": 222,
    "start_time": "2023-08-03T21:49:31.100Z"
   },
   {
    "duration": 372,
    "start_time": "2023-08-03T21:49:31.323Z"
   },
   {
    "duration": 148,
    "start_time": "2023-08-03T21:49:31.697Z"
   },
   {
    "duration": 216,
    "start_time": "2023-08-03T21:49:31.848Z"
   },
   {
    "duration": 174,
    "start_time": "2023-08-03T21:49:32.067Z"
   },
   {
    "duration": 176,
    "start_time": "2023-08-03T21:49:32.242Z"
   },
   {
    "duration": 192,
    "start_time": "2023-08-03T21:49:32.419Z"
   },
   {
    "duration": 137,
    "start_time": "2023-08-03T21:49:32.612Z"
   },
   {
    "duration": 141,
    "start_time": "2023-08-03T21:49:32.751Z"
   },
   {
    "duration": 157,
    "start_time": "2023-08-03T21:49:32.893Z"
   },
   {
    "duration": 136,
    "start_time": "2023-08-03T21:49:33.051Z"
   },
   {
    "duration": 364,
    "start_time": "2023-08-03T21:49:33.189Z"
   },
   {
    "duration": 148,
    "start_time": "2023-08-03T21:49:33.555Z"
   },
   {
    "duration": 149,
    "start_time": "2023-08-03T21:49:33.705Z"
   },
   {
    "duration": 208,
    "start_time": "2023-08-03T21:49:33.855Z"
   },
   {
    "duration": 159,
    "start_time": "2023-08-03T21:50:00.887Z"
   },
   {
    "duration": 226,
    "start_time": "2023-08-03T21:50:09.441Z"
   },
   {
    "duration": 156,
    "start_time": "2023-08-03T21:50:12.588Z"
   },
   {
    "duration": 355,
    "start_time": "2023-08-03T21:53:21.759Z"
   },
   {
    "duration": 164,
    "start_time": "2023-08-03T21:53:34.419Z"
   },
   {
    "duration": 322,
    "start_time": "2023-08-03T21:53:40.187Z"
   },
   {
    "duration": 9,
    "start_time": "2023-08-03T21:54:55.218Z"
   },
   {
    "duration": 7,
    "start_time": "2023-08-03T21:56:15.592Z"
   },
   {
    "duration": 8,
    "start_time": "2023-08-03T21:56:18.390Z"
   },
   {
    "duration": 1085,
    "start_time": "2023-08-04T19:14:24.634Z"
   },
   {
    "duration": 17,
    "start_time": "2023-08-04T19:14:25.721Z"
   },
   {
    "duration": 39,
    "start_time": "2023-08-04T19:14:25.740Z"
   },
   {
    "duration": 2208,
    "start_time": "2023-08-04T19:14:25.781Z"
   },
   {
    "duration": 12,
    "start_time": "2023-08-04T19:14:27.991Z"
   },
   {
    "duration": 12,
    "start_time": "2023-08-04T19:14:28.005Z"
   },
   {
    "duration": 36,
    "start_time": "2023-08-04T19:14:28.019Z"
   },
   {
    "duration": 7,
    "start_time": "2023-08-04T19:14:28.057Z"
   },
   {
    "duration": 19,
    "start_time": "2023-08-04T19:14:28.065Z"
   },
   {
    "duration": 15,
    "start_time": "2023-08-04T19:14:28.087Z"
   },
   {
    "duration": 11,
    "start_time": "2023-08-04T19:14:28.103Z"
   },
   {
    "duration": 17,
    "start_time": "2023-08-04T19:14:28.116Z"
   },
   {
    "duration": 36,
    "start_time": "2023-08-04T19:14:28.135Z"
   },
   {
    "duration": 13,
    "start_time": "2023-08-04T19:14:28.173Z"
   },
   {
    "duration": 25,
    "start_time": "2023-08-04T19:14:28.188Z"
   },
   {
    "duration": 17,
    "start_time": "2023-08-04T19:14:28.214Z"
   },
   {
    "duration": 40,
    "start_time": "2023-08-04T19:14:28.233Z"
   },
   {
    "duration": 12,
    "start_time": "2023-08-04T19:14:28.276Z"
   },
   {
    "duration": 47,
    "start_time": "2023-08-04T19:14:28.289Z"
   },
   {
    "duration": 32,
    "start_time": "2023-08-04T19:14:28.337Z"
   },
   {
    "duration": 19,
    "start_time": "2023-08-04T19:14:28.371Z"
   },
   {
    "duration": 21,
    "start_time": "2023-08-04T19:14:28.392Z"
   },
   {
    "duration": 98,
    "start_time": "2023-08-04T19:14:28.415Z"
   },
   {
    "duration": 295,
    "start_time": "2023-08-04T19:14:28.514Z"
   },
   {
    "duration": 12,
    "start_time": "2023-08-04T19:14:28.811Z"
   },
   {
    "duration": 262,
    "start_time": "2023-08-04T19:14:28.826Z"
   },
   {
    "duration": 579,
    "start_time": "2023-08-04T19:14:29.090Z"
   },
   {
    "duration": 270,
    "start_time": "2023-08-04T19:14:29.674Z"
   },
   {
    "duration": 495,
    "start_time": "2023-08-04T19:14:29.946Z"
   },
   {
    "duration": 268,
    "start_time": "2023-08-04T19:14:30.443Z"
   },
   {
    "duration": 525,
    "start_time": "2023-08-04T19:14:30.713Z"
   },
   {
    "duration": 148,
    "start_time": "2023-08-04T19:14:31.240Z"
   },
   {
    "duration": 253,
    "start_time": "2023-08-04T19:14:31.390Z"
   },
   {
    "duration": 470,
    "start_time": "2023-08-04T19:14:31.646Z"
   },
   {
    "duration": 260,
    "start_time": "2023-08-04T19:14:32.118Z"
   },
   {
    "duration": 514,
    "start_time": "2023-08-04T19:14:32.380Z"
   },
   {
    "duration": 427,
    "start_time": "2023-08-04T19:14:32.896Z"
   },
   {
    "duration": 461,
    "start_time": "2023-08-04T19:14:33.325Z"
   },
   {
    "duration": 299,
    "start_time": "2023-08-04T19:14:33.789Z"
   },
   {
    "duration": 7,
    "start_time": "2023-08-04T19:14:34.090Z"
   },
   {
    "duration": 13,
    "start_time": "2023-08-04T19:14:34.099Z"
   },
   {
    "duration": 15,
    "start_time": "2023-08-04T19:14:34.115Z"
   },
   {
    "duration": 7,
    "start_time": "2023-08-04T19:14:34.135Z"
   },
   {
    "duration": 4,
    "start_time": "2023-08-04T19:14:34.144Z"
   },
   {
    "duration": 343,
    "start_time": "2023-08-04T19:14:34.168Z"
   },
   {
    "duration": 5,
    "start_time": "2023-08-04T19:14:34.513Z"
   },
   {
    "duration": 30,
    "start_time": "2023-08-04T19:14:34.519Z"
   },
   {
    "duration": 240,
    "start_time": "2023-08-04T19:14:34.550Z"
   },
   {
    "duration": 622,
    "start_time": "2023-08-04T19:14:34.791Z"
   },
   {
    "duration": 176,
    "start_time": "2023-08-04T19:14:35.415Z"
   },
   {
    "duration": 277,
    "start_time": "2023-08-04T19:14:35.593Z"
   },
   {
    "duration": 199,
    "start_time": "2023-08-04T19:14:35.872Z"
   },
   {
    "duration": 211,
    "start_time": "2023-08-04T19:14:36.073Z"
   },
   {
    "duration": 235,
    "start_time": "2023-08-04T19:14:36.287Z"
   },
   {
    "duration": 125,
    "start_time": "2023-08-04T19:14:36.524Z"
   },
   {
    "duration": 333,
    "start_time": "2023-08-04T19:14:36.651Z"
   },
   {
    "duration": 186,
    "start_time": "2023-08-04T19:14:36.986Z"
   },
   {
    "duration": 184,
    "start_time": "2023-08-04T19:14:37.174Z"
   },
   {
    "duration": 234,
    "start_time": "2023-08-04T19:14:37.359Z"
   },
   {
    "duration": 186,
    "start_time": "2023-08-04T19:14:37.595Z"
   },
   {
    "duration": 165,
    "start_time": "2023-08-04T19:14:37.783Z"
   },
   {
    "duration": 191,
    "start_time": "2023-08-04T19:14:37.950Z"
   },
   {
    "duration": 411,
    "start_time": "2023-08-04T19:14:38.143Z"
   },
   {
    "duration": 14,
    "start_time": "2023-08-04T19:14:38.556Z"
   },
   {
    "duration": 11,
    "start_time": "2023-08-04T19:14:38.571Z"
   },
   {
    "duration": 83,
    "start_time": "2023-08-04T19:28:27.974Z"
   },
   {
    "duration": 755,
    "start_time": "2023-08-04T19:29:27.333Z"
   },
   {
    "duration": 606,
    "start_time": "2023-08-04T19:29:42.728Z"
   },
   {
    "duration": 167,
    "start_time": "2023-08-04T19:36:33.074Z"
   },
   {
    "duration": 987,
    "start_time": "2023-08-04T19:36:48.112Z"
   },
   {
    "duration": 21,
    "start_time": "2023-08-04T19:37:26.380Z"
   },
   {
    "duration": 15,
    "start_time": "2023-08-04T19:37:57.925Z"
   },
   {
    "duration": 37,
    "start_time": "2023-08-04T19:38:13.881Z"
   },
   {
    "duration": 320,
    "start_time": "2023-08-04T19:38:39.310Z"
   },
   {
    "duration": 10,
    "start_time": "2023-08-04T19:48:18.377Z"
   },
   {
    "duration": 12,
    "start_time": "2023-08-04T19:48:25.178Z"
   },
   {
    "duration": 29,
    "start_time": "2023-08-04T19:48:43.078Z"
   },
   {
    "duration": 10,
    "start_time": "2023-08-04T19:48:55.983Z"
   },
   {
    "duration": 9,
    "start_time": "2023-08-04T19:49:05.096Z"
   },
   {
    "duration": 8,
    "start_time": "2023-08-04T19:49:15.252Z"
   },
   {
    "duration": 14,
    "start_time": "2023-08-04T19:49:18.501Z"
   },
   {
    "duration": 13,
    "start_time": "2023-08-04T19:54:30.591Z"
   },
   {
    "duration": 210,
    "start_time": "2023-08-04T19:54:48.388Z"
   },
   {
    "duration": 13,
    "start_time": "2023-08-04T20:21:10.248Z"
   },
   {
    "duration": 103,
    "start_time": "2023-08-04T20:25:21.440Z"
   },
   {
    "duration": 31,
    "start_time": "2023-08-04T20:25:21.545Z"
   },
   {
    "duration": 33,
    "start_time": "2023-08-04T20:25:21.578Z"
   },
   {
    "duration": 2460,
    "start_time": "2023-08-04T20:25:21.613Z"
   },
   {
    "duration": 16,
    "start_time": "2023-08-04T20:25:24.076Z"
   },
   {
    "duration": 9,
    "start_time": "2023-08-04T20:25:24.094Z"
   },
   {
    "duration": 24,
    "start_time": "2023-08-04T20:25:24.105Z"
   },
   {
    "duration": 22,
    "start_time": "2023-08-04T20:25:24.131Z"
   },
   {
    "duration": 15,
    "start_time": "2023-08-04T20:25:24.155Z"
   },
   {
    "duration": 10,
    "start_time": "2023-08-04T20:25:24.173Z"
   },
   {
    "duration": 13,
    "start_time": "2023-08-04T20:25:24.186Z"
   },
   {
    "duration": 17,
    "start_time": "2023-08-04T20:25:24.201Z"
   },
   {
    "duration": 17,
    "start_time": "2023-08-04T20:25:24.220Z"
   },
   {
    "duration": 17,
    "start_time": "2023-08-04T20:25:24.270Z"
   },
   {
    "duration": 21,
    "start_time": "2023-08-04T20:25:24.289Z"
   },
   {
    "duration": 17,
    "start_time": "2023-08-04T20:25:24.312Z"
   },
   {
    "duration": 60,
    "start_time": "2023-08-04T20:25:24.331Z"
   },
   {
    "duration": 13,
    "start_time": "2023-08-04T20:25:24.393Z"
   },
   {
    "duration": 66,
    "start_time": "2023-08-04T20:25:24.407Z"
   },
   {
    "duration": 26,
    "start_time": "2023-08-04T20:25:24.475Z"
   },
   {
    "duration": 19,
    "start_time": "2023-08-04T20:25:24.503Z"
   },
   {
    "duration": 50,
    "start_time": "2023-08-04T20:25:24.525Z"
   },
   {
    "duration": 82,
    "start_time": "2023-08-04T20:25:24.577Z"
   },
   {
    "duration": 277,
    "start_time": "2023-08-04T20:25:24.661Z"
   },
   {
    "duration": 10,
    "start_time": "2023-08-04T20:25:24.940Z"
   },
   {
    "duration": 251,
    "start_time": "2023-08-04T20:25:24.952Z"
   },
   {
    "duration": 490,
    "start_time": "2023-08-04T20:25:25.205Z"
   },
   {
    "duration": 262,
    "start_time": "2023-08-04T20:25:25.697Z"
   },
   {
    "duration": 473,
    "start_time": "2023-08-04T20:25:25.961Z"
   },
   {
    "duration": 263,
    "start_time": "2023-08-04T20:25:26.436Z"
   },
   {
    "duration": 725,
    "start_time": "2023-08-04T20:25:26.701Z"
   },
   {
    "duration": 25,
    "start_time": "2023-08-04T20:25:27.428Z"
   },
   {
    "duration": 253,
    "start_time": "2023-08-04T20:25:27.455Z"
   },
   {
    "duration": 460,
    "start_time": "2023-08-04T20:25:27.710Z"
   },
   {
    "duration": 234,
    "start_time": "2023-08-04T20:25:28.171Z"
   },
   {
    "duration": 460,
    "start_time": "2023-08-04T20:25:28.407Z"
   },
   {
    "duration": 265,
    "start_time": "2023-08-04T20:25:28.869Z"
   },
   {
    "duration": 700,
    "start_time": "2023-08-04T20:25:29.136Z"
   },
   {
    "duration": 243,
    "start_time": "2023-08-04T20:25:29.838Z"
   },
   {
    "duration": 16,
    "start_time": "2023-08-04T20:25:30.083Z"
   },
   {
    "duration": 5,
    "start_time": "2023-08-04T20:25:30.103Z"
   },
   {
    "duration": 21,
    "start_time": "2023-08-04T20:25:30.109Z"
   },
   {
    "duration": 18,
    "start_time": "2023-08-04T20:25:30.132Z"
   },
   {
    "duration": 23,
    "start_time": "2023-08-04T20:25:30.151Z"
   },
   {
    "duration": 17,
    "start_time": "2023-08-04T20:25:30.176Z"
   },
   {
    "duration": 347,
    "start_time": "2023-08-04T20:25:30.195Z"
   },
   {
    "duration": 5,
    "start_time": "2023-08-04T20:25:30.544Z"
   },
   {
    "duration": 66,
    "start_time": "2023-08-04T20:25:30.550Z"
   },
   {
    "duration": 239,
    "start_time": "2023-08-04T20:25:30.617Z"
   },
   {
    "duration": 497,
    "start_time": "2023-08-04T20:25:30.859Z"
   },
   {
    "duration": 177,
    "start_time": "2023-08-04T20:25:31.358Z"
   },
   {
    "duration": 280,
    "start_time": "2023-08-04T20:25:31.537Z"
   },
   {
    "duration": 204,
    "start_time": "2023-08-04T20:25:31.819Z"
   },
   {
    "duration": 215,
    "start_time": "2023-08-04T20:25:32.024Z"
   },
   {
    "duration": 278,
    "start_time": "2023-08-04T20:25:32.241Z"
   },
   {
    "duration": 122,
    "start_time": "2023-08-04T20:25:32.521Z"
   },
   {
    "duration": 194,
    "start_time": "2023-08-04T20:25:32.645Z"
   },
   {
    "duration": 473,
    "start_time": "2023-08-04T20:25:32.841Z"
   },
   {
    "duration": 183,
    "start_time": "2023-08-04T20:25:33.316Z"
   },
   {
    "duration": 243,
    "start_time": "2023-08-04T20:25:33.501Z"
   },
   {
    "duration": 211,
    "start_time": "2023-08-04T20:25:33.746Z"
   },
   {
    "duration": 196,
    "start_time": "2023-08-04T20:25:33.959Z"
   },
   {
    "duration": 218,
    "start_time": "2023-08-04T20:25:34.157Z"
   },
   {
    "duration": 384,
    "start_time": "2023-08-04T20:25:34.377Z"
   },
   {
    "duration": 7,
    "start_time": "2023-08-04T20:25:34.763Z"
   },
   {
    "duration": 12,
    "start_time": "2023-08-04T20:25:34.771Z"
   },
   {
    "duration": 614,
    "start_time": "2023-08-04T20:25:34.784Z"
   },
   {
    "duration": 162,
    "start_time": "2023-08-04T20:25:35.400Z"
   },
   {
    "duration": 916,
    "start_time": "2023-08-04T20:25:35.566Z"
   },
   {
    "duration": 337,
    "start_time": "2023-08-04T20:25:36.484Z"
   },
   {
    "duration": 18,
    "start_time": "2023-08-04T20:25:36.822Z"
   },
   {
    "duration": 217,
    "start_time": "2023-08-04T20:25:36.842Z"
   },
   {
    "duration": 1030,
    "start_time": "2023-08-04T20:31:36.543Z"
   },
   {
    "duration": 25,
    "start_time": "2023-08-04T20:31:37.576Z"
   },
   {
    "duration": 36,
    "start_time": "2023-08-04T20:31:37.602Z"
   },
   {
    "duration": 2145,
    "start_time": "2023-08-04T20:31:37.640Z"
   },
   {
    "duration": 11,
    "start_time": "2023-08-04T20:31:39.788Z"
   },
   {
    "duration": 9,
    "start_time": "2023-08-04T20:31:39.801Z"
   },
   {
    "duration": 15,
    "start_time": "2023-08-04T20:31:39.812Z"
   },
   {
    "duration": 6,
    "start_time": "2023-08-04T20:31:39.829Z"
   },
   {
    "duration": 11,
    "start_time": "2023-08-04T20:31:39.837Z"
   },
   {
    "duration": 35,
    "start_time": "2023-08-04T20:31:39.850Z"
   },
   {
    "duration": 9,
    "start_time": "2023-08-04T20:31:39.887Z"
   },
   {
    "duration": 16,
    "start_time": "2023-08-04T20:31:39.897Z"
   },
   {
    "duration": 14,
    "start_time": "2023-08-04T20:31:39.914Z"
   },
   {
    "duration": 37,
    "start_time": "2023-08-04T20:31:39.931Z"
   },
   {
    "duration": 28,
    "start_time": "2023-08-04T20:31:39.970Z"
   },
   {
    "duration": 18,
    "start_time": "2023-08-04T20:31:40.000Z"
   },
   {
    "duration": 18,
    "start_time": "2023-08-04T20:31:40.020Z"
   },
   {
    "duration": 18,
    "start_time": "2023-08-04T20:31:40.068Z"
   },
   {
    "duration": 49,
    "start_time": "2023-08-04T20:31:40.088Z"
   },
   {
    "duration": 35,
    "start_time": "2023-08-04T20:31:40.139Z"
   },
   {
    "duration": 25,
    "start_time": "2023-08-04T20:31:40.176Z"
   },
   {
    "duration": 34,
    "start_time": "2023-08-04T20:31:40.203Z"
   },
   {
    "duration": 100,
    "start_time": "2023-08-04T20:31:40.239Z"
   },
   {
    "duration": 309,
    "start_time": "2023-08-04T20:31:40.341Z"
   },
   {
    "duration": 19,
    "start_time": "2023-08-04T20:31:40.653Z"
   },
   {
    "duration": 313,
    "start_time": "2023-08-04T20:31:40.674Z"
   },
   {
    "duration": 653,
    "start_time": "2023-08-04T20:31:40.989Z"
   },
   {
    "duration": 254,
    "start_time": "2023-08-04T20:31:41.644Z"
   },
   {
    "duration": 523,
    "start_time": "2023-08-04T20:31:41.900Z"
   },
   {
    "duration": 301,
    "start_time": "2023-08-04T20:31:42.425Z"
   },
   {
    "duration": 694,
    "start_time": "2023-08-04T20:31:42.728Z"
   },
   {
    "duration": 42,
    "start_time": "2023-08-04T20:31:43.425Z"
   },
   {
    "duration": 278,
    "start_time": "2023-08-04T20:31:43.469Z"
   },
   {
    "duration": 605,
    "start_time": "2023-08-04T20:31:43.749Z"
   },
   {
    "duration": 292,
    "start_time": "2023-08-04T20:31:44.356Z"
   },
   {
    "duration": 508,
    "start_time": "2023-08-04T20:31:44.651Z"
   },
   {
    "duration": 392,
    "start_time": "2023-08-04T20:31:45.167Z"
   },
   {
    "duration": 493,
    "start_time": "2023-08-04T20:31:45.561Z"
   },
   {
    "duration": 244,
    "start_time": "2023-08-04T20:31:46.056Z"
   },
   {
    "duration": 16,
    "start_time": "2023-08-04T20:31:46.302Z"
   },
   {
    "duration": 4,
    "start_time": "2023-08-04T20:31:46.324Z"
   },
   {
    "duration": 8,
    "start_time": "2023-08-04T20:31:46.330Z"
   },
   {
    "duration": 31,
    "start_time": "2023-08-04T20:31:46.339Z"
   },
   {
    "duration": 6,
    "start_time": "2023-08-04T20:31:46.372Z"
   },
   {
    "duration": 13,
    "start_time": "2023-08-04T20:31:46.380Z"
   },
   {
    "duration": 378,
    "start_time": "2023-08-04T20:31:46.396Z"
   },
   {
    "duration": 5,
    "start_time": "2023-08-04T20:31:46.776Z"
   },
   {
    "duration": 33,
    "start_time": "2023-08-04T20:31:46.783Z"
   },
   {
    "duration": 246,
    "start_time": "2023-08-04T20:31:46.818Z"
   },
   {
    "duration": 629,
    "start_time": "2023-08-04T20:31:47.067Z"
   },
   {
    "duration": 201,
    "start_time": "2023-08-04T20:31:47.698Z"
   },
   {
    "duration": 296,
    "start_time": "2023-08-04T20:31:47.901Z"
   },
   {
    "duration": 199,
    "start_time": "2023-08-04T20:31:48.200Z"
   },
   {
    "duration": 217,
    "start_time": "2023-08-04T20:31:48.400Z"
   },
   {
    "duration": 241,
    "start_time": "2023-08-04T20:31:48.620Z"
   },
   {
    "duration": 139,
    "start_time": "2023-08-04T20:31:48.866Z"
   },
   {
    "duration": 347,
    "start_time": "2023-08-04T20:31:49.007Z"
   },
   {
    "duration": 198,
    "start_time": "2023-08-04T20:31:49.356Z"
   },
   {
    "duration": 193,
    "start_time": "2023-08-04T20:31:49.555Z"
   },
   {
    "duration": 260,
    "start_time": "2023-08-04T20:31:49.751Z"
   },
   {
    "duration": 188,
    "start_time": "2023-08-04T20:31:50.012Z"
   },
   {
    "duration": 165,
    "start_time": "2023-08-04T20:31:50.202Z"
   },
   {
    "duration": 200,
    "start_time": "2023-08-04T20:31:50.369Z"
   },
   {
    "duration": 442,
    "start_time": "2023-08-04T20:31:50.571Z"
   },
   {
    "duration": 7,
    "start_time": "2023-08-04T20:31:51.014Z"
   },
   {
    "duration": 23,
    "start_time": "2023-08-04T20:31:51.023Z"
   },
   {
    "duration": 807,
    "start_time": "2023-08-04T20:31:51.048Z"
   },
   {
    "duration": 161,
    "start_time": "2023-08-04T20:31:51.866Z"
   },
   {
    "duration": 953,
    "start_time": "2023-08-04T20:31:52.029Z"
   },
   {
    "duration": 330,
    "start_time": "2023-08-04T20:31:52.984Z"
   },
   {
    "duration": 15,
    "start_time": "2023-08-04T20:31:53.316Z"
   },
   {
    "duration": 208,
    "start_time": "2023-08-04T20:31:53.333Z"
   },
   {
    "duration": 97,
    "start_time": "2023-08-04T20:37:56.438Z"
   },
   {
    "duration": 8,
    "start_time": "2023-08-04T20:38:33.106Z"
   },
   {
    "duration": 1323,
    "start_time": "2023-08-05T18:28:46.492Z"
   },
   {
    "duration": 18,
    "start_time": "2023-08-05T18:28:47.818Z"
   },
   {
    "duration": 60,
    "start_time": "2023-08-05T18:28:47.837Z"
   },
   {
    "duration": 2843,
    "start_time": "2023-08-05T18:28:47.910Z"
   },
   {
    "duration": 25,
    "start_time": "2023-08-05T18:28:50.755Z"
   },
   {
    "duration": 36,
    "start_time": "2023-08-05T18:28:50.782Z"
   },
   {
    "duration": 35,
    "start_time": "2023-08-05T18:28:50.820Z"
   },
   {
    "duration": 19,
    "start_time": "2023-08-05T18:28:50.859Z"
   },
   {
    "duration": 31,
    "start_time": "2023-08-05T18:28:50.882Z"
   },
   {
    "duration": 14,
    "start_time": "2023-08-05T18:28:50.916Z"
   },
   {
    "duration": 13,
    "start_time": "2023-08-05T18:28:50.932Z"
   },
   {
    "duration": 24,
    "start_time": "2023-08-05T18:28:50.947Z"
   },
   {
    "duration": 24,
    "start_time": "2023-08-05T18:28:50.974Z"
   },
   {
    "duration": 16,
    "start_time": "2023-08-05T18:28:51.001Z"
   },
   {
    "duration": 25,
    "start_time": "2023-08-05T18:28:51.019Z"
   },
   {
    "duration": 46,
    "start_time": "2023-08-05T18:28:51.056Z"
   },
   {
    "duration": 28,
    "start_time": "2023-08-05T18:28:51.109Z"
   },
   {
    "duration": 11,
    "start_time": "2023-08-05T18:28:51.139Z"
   },
   {
    "duration": 91,
    "start_time": "2023-08-05T18:28:51.152Z"
   },
   {
    "duration": 39,
    "start_time": "2023-08-05T18:28:51.246Z"
   },
   {
    "duration": 41,
    "start_time": "2023-08-05T18:28:51.287Z"
   },
   {
    "duration": 21,
    "start_time": "2023-08-05T18:28:51.330Z"
   },
   {
    "duration": 87,
    "start_time": "2023-08-05T18:28:51.353Z"
   },
   {
    "duration": 314,
    "start_time": "2023-08-05T18:28:51.442Z"
   },
   {
    "duration": 26,
    "start_time": "2023-08-05T18:28:51.766Z"
   },
   {
    "duration": 288,
    "start_time": "2023-08-05T18:28:51.793Z"
   },
   {
    "duration": 709,
    "start_time": "2023-08-05T18:28:52.083Z"
   },
   {
    "duration": 329,
    "start_time": "2023-08-05T18:28:52.802Z"
   },
   {
    "duration": 805,
    "start_time": "2023-08-05T18:28:53.134Z"
   },
   {
    "duration": 356,
    "start_time": "2023-08-05T18:28:53.942Z"
   },
   {
    "duration": 607,
    "start_time": "2023-08-05T18:28:54.304Z"
   },
   {
    "duration": 210,
    "start_time": "2023-08-05T18:28:54.913Z"
   },
   {
    "duration": 386,
    "start_time": "2023-08-05T18:28:55.137Z"
   },
   {
    "duration": 655,
    "start_time": "2023-08-05T18:28:55.525Z"
   },
   {
    "duration": 286,
    "start_time": "2023-08-05T18:28:56.184Z"
   },
   {
    "duration": 641,
    "start_time": "2023-08-05T18:28:56.475Z"
   },
   {
    "duration": 502,
    "start_time": "2023-08-05T18:28:57.118Z"
   },
   {
    "duration": 622,
    "start_time": "2023-08-05T18:28:57.628Z"
   },
   {
    "duration": 348,
    "start_time": "2023-08-05T18:28:58.251Z"
   },
   {
    "duration": 25,
    "start_time": "2023-08-05T18:28:58.604Z"
   },
   {
    "duration": 7,
    "start_time": "2023-08-05T18:28:58.634Z"
   },
   {
    "duration": 11,
    "start_time": "2023-08-05T18:28:58.646Z"
   },
   {
    "duration": 11,
    "start_time": "2023-08-05T18:28:58.662Z"
   },
   {
    "duration": 22,
    "start_time": "2023-08-05T18:28:58.679Z"
   },
   {
    "duration": 10,
    "start_time": "2023-08-05T18:28:58.707Z"
   },
   {
    "duration": 524,
    "start_time": "2023-08-05T18:28:58.723Z"
   },
   {
    "duration": 6,
    "start_time": "2023-08-05T18:28:59.249Z"
   },
   {
    "duration": 74,
    "start_time": "2023-08-05T18:28:59.261Z"
   },
   {
    "duration": 439,
    "start_time": "2023-08-05T18:28:59.348Z"
   },
   {
    "duration": 978,
    "start_time": "2023-08-05T18:28:59.794Z"
   },
   {
    "duration": 238,
    "start_time": "2023-08-05T18:29:00.781Z"
   },
   {
    "duration": 386,
    "start_time": "2023-08-05T18:29:01.031Z"
   },
   {
    "duration": 281,
    "start_time": "2023-08-05T18:29:01.419Z"
   },
   {
    "duration": 290,
    "start_time": "2023-08-05T18:29:01.702Z"
   },
   {
    "duration": 371,
    "start_time": "2023-08-05T18:29:01.996Z"
   },
   {
    "duration": 224,
    "start_time": "2023-08-05T18:29:02.372Z"
   },
   {
    "duration": 526,
    "start_time": "2023-08-05T18:29:02.603Z"
   },
   {
    "duration": 306,
    "start_time": "2023-08-05T18:29:03.139Z"
   },
   {
    "duration": 240,
    "start_time": "2023-08-05T18:29:03.447Z"
   },
   {
    "duration": 418,
    "start_time": "2023-08-05T18:29:03.689Z"
   },
   {
    "duration": 284,
    "start_time": "2023-08-05T18:29:04.115Z"
   },
   {
    "duration": 237,
    "start_time": "2023-08-05T18:29:04.407Z"
   },
   {
    "duration": 254,
    "start_time": "2023-08-05T18:29:04.646Z"
   },
   {
    "duration": 617,
    "start_time": "2023-08-05T18:29:04.906Z"
   },
   {
    "duration": 15,
    "start_time": "2023-08-05T18:29:05.529Z"
   },
   {
    "duration": 28,
    "start_time": "2023-08-05T18:29:05.550Z"
   },
   {
    "duration": 981,
    "start_time": "2023-08-05T18:29:05.585Z"
   },
   {
    "duration": 246,
    "start_time": "2023-08-05T18:29:06.568Z"
   },
   {
    "duration": 1426,
    "start_time": "2023-08-05T18:29:06.817Z"
   },
   {
    "duration": 522,
    "start_time": "2023-08-05T18:29:08.246Z"
   },
   {
    "duration": 49,
    "start_time": "2023-08-05T18:29:08.781Z"
   },
   {
    "duration": 364,
    "start_time": "2023-08-05T18:29:08.847Z"
   },
   {
    "duration": 6,
    "start_time": "2023-08-05T18:31:24.701Z"
   },
   {
    "duration": 4,
    "start_time": "2023-08-05T18:32:40.314Z"
   },
   {
    "duration": 54,
    "start_time": "2023-08-05T18:32:55.350Z"
   },
   {
    "duration": 130,
    "start_time": "2023-08-05T18:34:06.681Z"
   },
   {
    "duration": 53,
    "start_time": "2023-08-05T18:34:28.484Z"
   },
   {
    "duration": 27,
    "start_time": "2023-08-05T18:49:33.009Z"
   },
   {
    "duration": 1540,
    "start_time": "2023-08-05T19:00:20.807Z"
   },
   {
    "duration": 1409,
    "start_time": "2023-08-05T19:01:07.634Z"
   },
   {
    "duration": 1233,
    "start_time": "2023-08-05T19:02:41.485Z"
   },
   {
    "duration": 77,
    "start_time": "2023-08-05T19:05:16.211Z"
   },
   {
    "duration": 89,
    "start_time": "2023-08-05T19:05:25.846Z"
   },
   {
    "duration": 7,
    "start_time": "2023-08-05T19:05:47.917Z"
   },
   {
    "duration": 10,
    "start_time": "2023-08-05T19:06:27.027Z"
   },
   {
    "duration": 5,
    "start_time": "2023-08-05T19:06:47.487Z"
   },
   {
    "duration": 5,
    "start_time": "2023-08-05T19:07:23.246Z"
   },
   {
    "duration": 5,
    "start_time": "2023-08-05T19:07:34.626Z"
   },
   {
    "duration": 6,
    "start_time": "2023-08-05T19:07:41.128Z"
   },
   {
    "duration": 5,
    "start_time": "2023-08-05T19:08:17.846Z"
   },
   {
    "duration": 6,
    "start_time": "2023-08-05T19:11:17.902Z"
   },
   {
    "duration": 7,
    "start_time": "2023-08-05T19:11:35.247Z"
   },
   {
    "duration": 6,
    "start_time": "2023-08-05T19:11:47.308Z"
   },
   {
    "duration": 5,
    "start_time": "2023-08-05T19:11:49.835Z"
   },
   {
    "duration": 7,
    "start_time": "2023-08-05T19:11:52.077Z"
   },
   {
    "duration": 779,
    "start_time": "2023-08-05T20:09:19.881Z"
   },
   {
    "duration": 100,
    "start_time": "2023-08-05T20:09:20.661Z"
   },
   {
    "duration": 15,
    "start_time": "2023-08-05T20:09:20.762Z"
   },
   {
    "duration": 29,
    "start_time": "2023-08-05T20:09:20.778Z"
   },
   {
    "duration": 1934,
    "start_time": "2023-08-05T20:09:20.809Z"
   },
   {
    "duration": 16,
    "start_time": "2023-08-05T20:09:22.745Z"
   },
   {
    "duration": 7,
    "start_time": "2023-08-05T20:09:22.762Z"
   },
   {
    "duration": 11,
    "start_time": "2023-08-05T20:09:22.771Z"
   },
   {
    "duration": 7,
    "start_time": "2023-08-05T20:09:22.783Z"
   },
   {
    "duration": 7,
    "start_time": "2023-08-05T20:09:22.792Z"
   },
   {
    "duration": 11,
    "start_time": "2023-08-05T20:09:22.800Z"
   },
   {
    "duration": 11,
    "start_time": "2023-08-05T20:09:22.813Z"
   },
   {
    "duration": 40,
    "start_time": "2023-08-05T20:09:22.826Z"
   },
   {
    "duration": 13,
    "start_time": "2023-08-05T20:09:22.869Z"
   },
   {
    "duration": 14,
    "start_time": "2023-08-05T20:09:22.883Z"
   },
   {
    "duration": 21,
    "start_time": "2023-08-05T20:09:22.898Z"
   },
   {
    "duration": 45,
    "start_time": "2023-08-05T20:09:22.921Z"
   },
   {
    "duration": 16,
    "start_time": "2023-08-05T20:09:22.968Z"
   },
   {
    "duration": 11,
    "start_time": "2023-08-05T20:09:22.986Z"
   },
   {
    "duration": 64,
    "start_time": "2023-08-05T20:09:22.999Z"
   },
   {
    "duration": 18,
    "start_time": "2023-08-05T20:09:23.065Z"
   },
   {
    "duration": 18,
    "start_time": "2023-08-05T20:09:23.085Z"
   },
   {
    "duration": 22,
    "start_time": "2023-08-05T20:09:23.105Z"
   },
   {
    "duration": 97,
    "start_time": "2023-08-05T20:09:23.130Z"
   },
   {
    "duration": 237,
    "start_time": "2023-08-05T20:09:23.229Z"
   },
   {
    "duration": 11,
    "start_time": "2023-08-05T20:09:23.468Z"
   },
   {
    "duration": 224,
    "start_time": "2023-08-05T20:09:23.480Z"
   },
   {
    "duration": 597,
    "start_time": "2023-08-05T20:09:23.706Z"
   },
   {
    "duration": 221,
    "start_time": "2023-08-05T20:09:24.304Z"
   },
   {
    "duration": 424,
    "start_time": "2023-08-05T20:09:24.527Z"
   },
   {
    "duration": 223,
    "start_time": "2023-08-05T20:09:24.958Z"
   },
   {
    "duration": 411,
    "start_time": "2023-08-05T20:09:25.182Z"
   },
   {
    "duration": 133,
    "start_time": "2023-08-05T20:09:25.595Z"
   },
   {
    "duration": 220,
    "start_time": "2023-08-05T20:09:25.730Z"
   },
   {
    "duration": 421,
    "start_time": "2023-08-05T20:09:25.952Z"
   },
   {
    "duration": 217,
    "start_time": "2023-08-05T20:09:26.375Z"
   },
   {
    "duration": 433,
    "start_time": "2023-08-05T20:09:26.594Z"
   },
   {
    "duration": 666,
    "start_time": "2023-08-05T20:09:29.802Z"
   },
   {
    "duration": 96,
    "start_time": "2023-08-05T20:09:30.470Z"
   },
   {
    "duration": 16,
    "start_time": "2023-08-05T20:09:30.568Z"
   },
   {
    "duration": 67,
    "start_time": "2023-08-05T20:09:30.586Z"
   },
   {
    "duration": 2033,
    "start_time": "2023-08-05T20:09:30.655Z"
   },
   {
    "duration": 11,
    "start_time": "2023-08-05T20:09:32.691Z"
   },
   {
    "duration": 11,
    "start_time": "2023-08-05T20:09:32.704Z"
   },
   {
    "duration": 16,
    "start_time": "2023-08-05T20:09:32.716Z"
   },
   {
    "duration": 33,
    "start_time": "2023-08-05T20:09:32.734Z"
   },
   {
    "duration": 9,
    "start_time": "2023-08-05T20:09:32.771Z"
   },
   {
    "duration": 13,
    "start_time": "2023-08-05T20:09:32.782Z"
   },
   {
    "duration": 9,
    "start_time": "2023-08-05T20:09:32.797Z"
   },
   {
    "duration": 53,
    "start_time": "2023-08-05T20:09:32.807Z"
   },
   {
    "duration": 13,
    "start_time": "2023-08-05T20:09:32.862Z"
   },
   {
    "duration": 13,
    "start_time": "2023-08-05T20:09:32.877Z"
   },
   {
    "duration": 28,
    "start_time": "2023-08-05T20:09:32.893Z"
   },
   {
    "duration": 37,
    "start_time": "2023-08-05T20:09:32.923Z"
   },
   {
    "duration": 23,
    "start_time": "2023-08-05T20:09:32.962Z"
   },
   {
    "duration": 15,
    "start_time": "2023-08-05T20:09:32.987Z"
   },
   {
    "duration": 67,
    "start_time": "2023-08-05T20:09:33.003Z"
   },
   {
    "duration": 17,
    "start_time": "2023-08-05T20:09:33.071Z"
   },
   {
    "duration": 23,
    "start_time": "2023-08-05T20:09:33.090Z"
   },
   {
    "duration": 45,
    "start_time": "2023-08-05T20:09:33.115Z"
   },
   {
    "duration": 71,
    "start_time": "2023-08-05T20:09:33.162Z"
   },
   {
    "duration": 242,
    "start_time": "2023-08-05T20:09:33.235Z"
   },
   {
    "duration": 10,
    "start_time": "2023-08-05T20:09:33.479Z"
   },
   {
    "duration": 214,
    "start_time": "2023-08-05T20:09:33.490Z"
   },
   {
    "duration": 587,
    "start_time": "2023-08-05T20:09:33.708Z"
   },
   {
    "duration": 225,
    "start_time": "2023-08-05T20:09:34.297Z"
   },
   {
    "duration": 427,
    "start_time": "2023-08-05T20:09:34.523Z"
   },
   {
    "duration": 241,
    "start_time": "2023-08-05T20:09:34.952Z"
   },
   {
    "duration": 430,
    "start_time": "2023-08-05T20:09:35.195Z"
   },
   {
    "duration": 118,
    "start_time": "2023-08-05T20:09:35.626Z"
   },
   {
    "duration": 213,
    "start_time": "2023-08-05T20:09:35.746Z"
   },
   {
    "duration": 416,
    "start_time": "2023-08-05T20:09:35.960Z"
   },
   {
    "duration": 211,
    "start_time": "2023-08-05T20:09:36.377Z"
   },
   {
    "duration": 405,
    "start_time": "2023-08-05T20:09:36.590Z"
   },
   {
    "duration": 340,
    "start_time": "2023-08-05T20:09:36.997Z"
   },
   {
    "duration": 411,
    "start_time": "2023-08-05T20:09:37.339Z"
   },
   {
    "duration": 221,
    "start_time": "2023-08-05T20:09:37.752Z"
   },
   {
    "duration": 13,
    "start_time": "2023-08-05T20:09:37.975Z"
   },
   {
    "duration": 4,
    "start_time": "2023-08-05T20:09:37.989Z"
   },
   {
    "duration": 27,
    "start_time": "2023-08-05T20:09:37.994Z"
   },
   {
    "duration": 21,
    "start_time": "2023-08-05T20:09:38.023Z"
   },
   {
    "duration": 25,
    "start_time": "2023-08-05T20:09:38.046Z"
   },
   {
    "duration": 10,
    "start_time": "2023-08-05T20:09:38.074Z"
   },
   {
    "duration": 326,
    "start_time": "2023-08-05T20:09:38.085Z"
   },
   {
    "duration": 4,
    "start_time": "2023-08-05T20:09:38.413Z"
   },
   {
    "duration": 28,
    "start_time": "2023-08-05T20:09:38.418Z"
   },
   {
    "duration": 198,
    "start_time": "2023-08-05T20:09:38.448Z"
   },
   {
    "duration": 545,
    "start_time": "2023-08-05T20:09:38.648Z"
   },
   {
    "duration": 149,
    "start_time": "2023-08-05T20:09:39.195Z"
   },
   {
    "duration": 249,
    "start_time": "2023-08-05T20:09:39.346Z"
   },
   {
    "duration": 174,
    "start_time": "2023-08-05T20:09:39.597Z"
   },
   {
    "duration": 181,
    "start_time": "2023-08-05T20:09:39.773Z"
   },
   {
    "duration": 226,
    "start_time": "2023-08-05T20:09:39.959Z"
   },
   {
    "duration": 119,
    "start_time": "2023-08-05T20:09:40.186Z"
   },
   {
    "duration": 297,
    "start_time": "2023-08-05T20:09:40.307Z"
   },
   {
    "duration": 161,
    "start_time": "2023-08-05T20:09:40.605Z"
   },
   {
    "duration": 157,
    "start_time": "2023-08-05T20:09:40.768Z"
   },
   {
    "duration": 211,
    "start_time": "2023-08-05T20:09:40.927Z"
   },
   {
    "duration": 164,
    "start_time": "2023-08-05T20:09:41.140Z"
   },
   {
    "duration": 140,
    "start_time": "2023-08-05T20:09:41.306Z"
   },
   {
    "duration": 171,
    "start_time": "2023-08-05T20:09:41.448Z"
   },
   {
    "duration": 332,
    "start_time": "2023-08-05T20:09:41.621Z"
   },
   {
    "duration": 6,
    "start_time": "2023-08-05T20:09:41.958Z"
   },
   {
    "duration": 12,
    "start_time": "2023-08-05T20:09:41.965Z"
   },
   {
    "duration": 685,
    "start_time": "2023-08-05T20:09:41.979Z"
   },
   {
    "duration": 150,
    "start_time": "2023-08-05T20:09:42.666Z"
   },
   {
    "duration": 7,
    "start_time": "2023-08-05T20:09:42.818Z"
   },
   {
    "duration": 7,
    "start_time": "2023-08-05T20:09:42.827Z"
   },
   {
    "duration": 26,
    "start_time": "2023-08-05T20:09:42.836Z"
   },
   {
    "duration": 8,
    "start_time": "2023-08-05T20:09:42.863Z"
   },
   {
    "duration": 896,
    "start_time": "2023-08-05T20:09:42.873Z"
   },
   {
    "duration": 321,
    "start_time": "2023-08-05T20:09:43.771Z"
   },
   {
    "duration": 21,
    "start_time": "2023-08-05T20:09:44.094Z"
   },
   {
    "duration": 216,
    "start_time": "2023-08-05T20:09:44.117Z"
   },
   {
    "duration": 862,
    "start_time": "2023-12-03T11:30:28.102Z"
   },
   {
    "duration": 156,
    "start_time": "2023-12-03T11:30:28.967Z"
   },
   {
    "duration": 16,
    "start_time": "2023-12-03T11:30:29.124Z"
   },
   {
    "duration": 28,
    "start_time": "2023-12-03T11:30:29.142Z"
   },
   {
    "duration": 1993,
    "start_time": "2023-12-03T11:30:29.171Z"
   },
   {
    "duration": 9,
    "start_time": "2023-12-03T11:30:31.166Z"
   },
   {
    "duration": 24,
    "start_time": "2023-12-03T11:30:31.176Z"
   },
   {
    "duration": 27,
    "start_time": "2023-12-03T11:30:31.201Z"
   },
   {
    "duration": 16,
    "start_time": "2023-12-03T11:30:31.229Z"
   },
   {
    "duration": 30,
    "start_time": "2023-12-03T11:30:31.248Z"
   },
   {
    "duration": 28,
    "start_time": "2023-12-03T11:30:31.280Z"
   },
   {
    "duration": 28,
    "start_time": "2023-12-03T11:30:31.309Z"
   },
   {
    "duration": 30,
    "start_time": "2023-12-03T11:30:31.338Z"
   },
   {
    "duration": 23,
    "start_time": "2023-12-03T11:30:31.369Z"
   },
   {
    "duration": 35,
    "start_time": "2023-12-03T11:30:31.394Z"
   },
   {
    "duration": 34,
    "start_time": "2023-12-03T11:30:31.430Z"
   },
   {
    "duration": 40,
    "start_time": "2023-12-03T11:30:31.465Z"
   },
   {
    "duration": 57,
    "start_time": "2023-12-03T11:30:31.507Z"
   },
   {
    "duration": 44,
    "start_time": "2023-12-03T11:30:31.566Z"
   },
   {
    "duration": 60,
    "start_time": "2023-12-03T11:30:31.612Z"
   },
   {
    "duration": 17,
    "start_time": "2023-12-03T11:30:31.674Z"
   },
   {
    "duration": 19,
    "start_time": "2023-12-03T11:30:31.693Z"
   },
   {
    "duration": 27,
    "start_time": "2023-12-03T11:30:31.713Z"
   },
   {
    "duration": 75,
    "start_time": "2023-12-03T11:30:31.741Z"
   },
   {
    "duration": 257,
    "start_time": "2023-12-03T11:30:31.817Z"
   },
   {
    "duration": 9,
    "start_time": "2023-12-03T11:30:32.075Z"
   },
   {
    "duration": 223,
    "start_time": "2023-12-03T11:30:32.086Z"
   },
   {
    "duration": 516,
    "start_time": "2023-12-03T11:30:32.316Z"
   },
   {
    "duration": 239,
    "start_time": "2023-12-03T11:30:32.833Z"
   },
   {
    "duration": 430,
    "start_time": "2023-12-03T11:30:33.073Z"
   },
   {
    "duration": 233,
    "start_time": "2023-12-03T11:30:33.504Z"
   },
   {
    "duration": 441,
    "start_time": "2023-12-03T11:30:33.738Z"
   },
   {
    "duration": 104,
    "start_time": "2023-12-03T11:30:34.181Z"
   },
   {
    "duration": 229,
    "start_time": "2023-12-03T11:30:34.286Z"
   },
   {
    "duration": 407,
    "start_time": "2023-12-03T11:30:34.516Z"
   },
   {
    "duration": 225,
    "start_time": "2023-12-03T11:30:34.924Z"
   },
   {
    "duration": 419,
    "start_time": "2023-12-03T11:30:35.151Z"
   },
   {
    "duration": 310,
    "start_time": "2023-12-03T11:30:35.572Z"
   },
   {
    "duration": 434,
    "start_time": "2023-12-03T11:30:35.884Z"
   },
   {
    "duration": 212,
    "start_time": "2023-12-03T11:30:36.320Z"
   },
   {
    "duration": 12,
    "start_time": "2023-12-03T11:30:36.534Z"
   },
   {
    "duration": 3,
    "start_time": "2023-12-03T11:30:36.548Z"
   },
   {
    "duration": 6,
    "start_time": "2023-12-03T11:30:36.553Z"
   },
   {
    "duration": 5,
    "start_time": "2023-12-03T11:30:36.561Z"
   },
   {
    "duration": 6,
    "start_time": "2023-12-03T11:30:36.567Z"
   },
   {
    "duration": 3,
    "start_time": "2023-12-03T11:30:36.574Z"
   },
   {
    "duration": 345,
    "start_time": "2023-12-03T11:30:36.578Z"
   },
   {
    "duration": 4,
    "start_time": "2023-12-03T11:30:36.924Z"
   },
   {
    "duration": 31,
    "start_time": "2023-12-03T11:30:36.929Z"
   },
   {
    "duration": 217,
    "start_time": "2023-12-03T11:30:36.961Z"
   },
   {
    "duration": 527,
    "start_time": "2023-12-03T11:30:37.180Z"
   },
   {
    "duration": 162,
    "start_time": "2023-12-03T11:30:37.709Z"
   },
   {
    "duration": 258,
    "start_time": "2023-12-03T11:30:37.872Z"
   },
   {
    "duration": 179,
    "start_time": "2023-12-03T11:30:38.131Z"
   },
   {
    "duration": 182,
    "start_time": "2023-12-03T11:30:38.311Z"
   },
   {
    "duration": 221,
    "start_time": "2023-12-03T11:30:38.494Z"
   },
   {
    "duration": 130,
    "start_time": "2023-12-03T11:30:38.717Z"
   },
   {
    "duration": 291,
    "start_time": "2023-12-03T11:30:38.848Z"
   },
   {
    "duration": 174,
    "start_time": "2023-12-03T11:30:39.140Z"
   },
   {
    "duration": 184,
    "start_time": "2023-12-03T11:30:39.316Z"
   },
   {
    "duration": 222,
    "start_time": "2023-12-03T11:30:39.502Z"
   },
   {
    "duration": 164,
    "start_time": "2023-12-03T11:30:39.725Z"
   },
   {
    "duration": 149,
    "start_time": "2023-12-03T11:30:39.891Z"
   },
   {
    "duration": 176,
    "start_time": "2023-12-03T11:30:40.041Z"
   },
   {
    "duration": 361,
    "start_time": "2023-12-03T11:30:40.218Z"
   },
   {
    "duration": 6,
    "start_time": "2023-12-03T11:30:40.580Z"
   },
   {
    "duration": 36,
    "start_time": "2023-12-03T11:30:40.588Z"
   },
   {
    "duration": 681,
    "start_time": "2023-12-03T11:30:40.625Z"
   },
   {
    "duration": 154,
    "start_time": "2023-12-03T11:30:41.307Z"
   },
   {
    "duration": 6,
    "start_time": "2023-12-03T11:30:41.463Z"
   },
   {
    "duration": 5,
    "start_time": "2023-12-03T11:30:41.471Z"
   },
   {
    "duration": 9,
    "start_time": "2023-12-03T11:30:41.477Z"
   },
   {
    "duration": 28,
    "start_time": "2023-12-03T11:30:41.487Z"
   },
   {
    "duration": 854,
    "start_time": "2023-12-03T11:30:41.516Z"
   },
   {
    "duration": 309,
    "start_time": "2023-12-03T11:30:42.372Z"
   },
   {
    "duration": 14,
    "start_time": "2023-12-03T11:30:42.683Z"
   },
   {
    "duration": 179,
    "start_time": "2023-12-03T11:30:42.698Z"
   }
  ],
  "kernelspec": {
   "display_name": "Python 3 (ipykernel)",
   "language": "python",
   "name": "python3"
  },
  "language_info": {
   "codemirror_mode": {
    "name": "ipython",
    "version": 3
   },
   "file_extension": ".py",
   "mimetype": "text/x-python",
   "name": "python",
   "nbconvert_exporter": "python",
   "pygments_lexer": "ipython3",
   "version": "3.9.5"
  },
  "toc": {
   "base_numbering": 1,
   "nav_menu": {},
   "number_sections": true,
   "sideBar": true,
   "skip_h1_title": true,
   "title_cell": "Table of Contents",
   "title_sidebar": "Contents",
   "toc_cell": false,
   "toc_position": {},
   "toc_section_display": true,
   "toc_window_display": true
  }
 },
 "nbformat": 4,
 "nbformat_minor": 4
}
