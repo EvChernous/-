{
 "cells": [
  {
   "cell_type": "markdown",
   "metadata": {},
   "source": [
    "# Выпускной проект Черноуса Е.И. Мобильные приложения — Анализ поведения пользователей в мобильном приложении"
   ]
  },
  {
   "cell_type": "markdown",
   "metadata": {},
   "source": [
    "# Задача:\n",
    "\n",
    "1 Проанализируйте связь целевого события — просмотра контактов — и других действий пользователей.\n",
    "\n",
    "2 Оцените, какие действия чаще совершают те пользователи, которые просматривают контакты.\n",
    "\n",
    "Проведите исследовательский анализ данных\n",
    "\n",
    "Проанализируйте влияние событий на совершение целевого события\n",
    "\n",
    "Проверьте статистические гипотезы\n",
    "\n",
    "1 Одни пользователи совершают действия tips_show и tips_click , другие — только tips_show . Проверьте гипотезу: конверсия в просмотры контактов различается у этих двух групп.\n",
    "\n",
    "2 Сформулируйте собственную статистическую гипотезу. Дополните её нулевой и альтернативной гипотезами. Проверьте гипотезу с помощью статистического теста.\n",
    "\n",
    "# Цели:\n",
    "\n",
    "Управление вовлеченностью клиентов (адаптация приложения по целевой и смежной аудитории) будет актуально только на основе данных о поведении пользователей.\n",
    "\n",
    "Получить на основе поведения пользователей гипотезы о том как можно было бы улучшить приложение с точки зрения пользовательского опыта."
   ]
  },
  {
   "cell_type": "markdown",
   "metadata": {},
   "source": [
    "# Описание данных:\n",
    "Датасет содержит данные о событиях, совершенных в мобильном приложении\n",
    "\"Ненужные вещи\". В нем пользователи продают свои ненужные вещи, размещая их на доске объявлений.\n",
    "\n",
    "В датасете содержатся данные пользователей, впервые совершивших действия в\n",
    "приложении после 7 октября 2019 года.\n",
    "\n",
    "Колонки в /datasets/mobile_sources.csv :\n",
    "\n",
    "userId — идентификатор пользователя,\n",
    "\n",
    "source — источник, с которого пользователь установил приложение.\n",
    "\n",
    "Колонки в /datasets/mobile_dataset.csv :\n",
    "\n",
    "event.time — время совершения,\n",
    "\n",
    "user.id — идентификатор пользователя,\n",
    "\n",
    "event.name — действие пользователя.\n",
    "\n",
    "Виды действий:\n",
    "\n",
    "advert_open — открыл карточки объявления,\n",
    "\n",
    "photos_show — просмотрел фотографий в объявлении,\n",
    "\n",
    "tips_show — увидел рекомендованные объявления,\n",
    "\n",
    "tips_click — кликнул по рекомендованному объявлению,\n",
    "\n",
    "contacts_show и show_contacts — посмотрел номер телефона,\n",
    "\n",
    "contacts_call — позвонил по номеру из объявления,\n",
    "\n",
    "map — открыл карту объявлений,\n",
    "\n",
    "search_1 — search_7 — разные действия, связанные с поиском по сайту,\n",
    "\n",
    "favorites_add — добавил объявление в избранное."
   ]
  },
  {
   "cell_type": "markdown",
   "metadata": {},
   "source": [
    "# Декомпозиция\n",
    "\n",
    "1  Загрузка и первичный анализ данных\n",
    "\n",
    "1.1  Загрузка данных\n",
    "\n",
    "1.2  Проверка форматов данных, проверка на дубликаты\n",
    "\n",
    "2  Подготовка данных\n",
    "\n",
    "2.1  Избавление от дубликатов\n",
    "\n",
    "2.2  Переименование столбцов (если нужно)\n",
    "\n",
    "3  Иследовательский анализ\n",
    "\n",
    "3.1  Выделение сессии в прложении по тайм-аутам\n",
    "\n",
    "3.2  Определяем Retention Rate \n",
    "\n",
    "3.3  Поиск сценариев пользователя по сесии\n",
    "\n",
    "3.4  Воронка дейсвий(конверсия в целевое действие)\n",
    "\n",
    "В разрезе сессий отобрать сценарии\\паттерны, которые приводят к просмотру контактов\n",
    "\n",
    "Построить воронки по основным сценариям в разрезе уникальных пользователей\n",
    "\n",
    "3.5  Рассчитать относительную частоту событий в разрезе двух групп пользователей:\n",
    "\n",
    "группа пользователей, которые смотрели контакты contacts_show\n",
    "\n",
    "группа пользователей, которые не смотрели контакты contacts_show\n",
    "\n",
    "4  Гипотезы\n",
    "\n",
    "4.1  Одни пользователи совершают действия tips_show и tips_click, другие – только tips_show. Проверить гипотезу, что конверсия в просмотр контактов различается у этих двух групп.\n",
    "\n",
    "4.2  Проверим гипотезу о том что пользователи добавлявшие карточку в избранное имеют конверсию выше в просмотр контакта нежели те кто этого не делал"
   ]
  },
  {
   "cell_type": "code",
   "execution_count": 2,
   "metadata": {},
   "outputs": [],
   "source": [
    "import pandas as pd\n",
    "import plotly.io as pio\n",
    "pio.renderers.default = \"svg\"\n",
    "svg_renderer = pio.renderers[\"svg\"]\n",
    "svg_renderer.scale = 1.2\n",
    "from plotly import graph_objects as go\n",
    "from tqdm import tqdm\n",
    "import numpy as np\n",
    "import plotly.express as px\n",
    "import seaborn as sns\n",
    "import math as mth\n",
    "from scipy import stats as st\n",
    "import matplotlib.pyplot as plt\n",
    "import datetime as dt\n",
    "from datetime import datetime, timedelta\n",
    "import warnings\n",
    "warnings.filterwarnings('ignore')\n",
    "pd.set_option('display.max_colwidth', -1)"
   ]
  },
  {
   "cell_type": "markdown",
   "metadata": {},
   "source": [
    "## Загрузка и первичный анализ данных"
   ]
  },
  {
   "cell_type": "markdown",
   "metadata": {},
   "source": [
    "### Загрузка данных"
   ]
  },
  {
   "cell_type": "code",
   "execution_count": 3,
   "metadata": {},
   "outputs": [],
   "source": [
    "dt_set = pd.read_csv('https://code.s3.yandex.net/datasets/mobile_dataset.csv')\n",
    "dt_sources = pd.read_csv('https://code.s3.yandex.net/datasets/mobile_sources.csv')"
   ]
  },
  {
   "cell_type": "code",
   "execution_count": 4,
   "metadata": {},
   "outputs": [
    {
     "data": {
      "text/html": [
       "<div>\n",
       "<style scoped>\n",
       "    .dataframe tbody tr th:only-of-type {\n",
       "        vertical-align: middle;\n",
       "    }\n",
       "\n",
       "    .dataframe tbody tr th {\n",
       "        vertical-align: top;\n",
       "    }\n",
       "\n",
       "    .dataframe thead th {\n",
       "        text-align: right;\n",
       "    }\n",
       "</style>\n",
       "<table border=\"1\" class=\"dataframe\">\n",
       "  <thead>\n",
       "    <tr style=\"text-align: right;\">\n",
       "      <th></th>\n",
       "      <th>event.time</th>\n",
       "      <th>event.name</th>\n",
       "      <th>user.id</th>\n",
       "    </tr>\n",
       "  </thead>\n",
       "  <tbody>\n",
       "    <tr>\n",
       "      <th>0</th>\n",
       "      <td>2019-10-07 00:00:00.431357</td>\n",
       "      <td>advert_open</td>\n",
       "      <td>020292ab-89bc-4156-9acf-68bc2783f894</td>\n",
       "    </tr>\n",
       "    <tr>\n",
       "      <th>1</th>\n",
       "      <td>2019-10-07 00:00:01.236320</td>\n",
       "      <td>tips_show</td>\n",
       "      <td>020292ab-89bc-4156-9acf-68bc2783f894</td>\n",
       "    </tr>\n",
       "    <tr>\n",
       "      <th>2</th>\n",
       "      <td>2019-10-07 00:00:02.245341</td>\n",
       "      <td>tips_show</td>\n",
       "      <td>cf7eda61-9349-469f-ac27-e5b6f5ec475c</td>\n",
       "    </tr>\n",
       "    <tr>\n",
       "      <th>3</th>\n",
       "      <td>2019-10-07 00:00:07.039334</td>\n",
       "      <td>tips_show</td>\n",
       "      <td>020292ab-89bc-4156-9acf-68bc2783f894</td>\n",
       "    </tr>\n",
       "    <tr>\n",
       "      <th>4</th>\n",
       "      <td>2019-10-07 00:00:56.319813</td>\n",
       "      <td>advert_open</td>\n",
       "      <td>cf7eda61-9349-469f-ac27-e5b6f5ec475c</td>\n",
       "    </tr>\n",
       "  </tbody>\n",
       "</table>\n",
       "</div>"
      ],
      "text/plain": [
       "                   event.time   event.name  \\\n",
       "0  2019-10-07 00:00:00.431357  advert_open   \n",
       "1  2019-10-07 00:00:01.236320  tips_show     \n",
       "2  2019-10-07 00:00:02.245341  tips_show     \n",
       "3  2019-10-07 00:00:07.039334  tips_show     \n",
       "4  2019-10-07 00:00:56.319813  advert_open   \n",
       "\n",
       "                                user.id  \n",
       "0  020292ab-89bc-4156-9acf-68bc2783f894  \n",
       "1  020292ab-89bc-4156-9acf-68bc2783f894  \n",
       "2  cf7eda61-9349-469f-ac27-e5b6f5ec475c  \n",
       "3  020292ab-89bc-4156-9acf-68bc2783f894  \n",
       "4  cf7eda61-9349-469f-ac27-e5b6f5ec475c  "
      ]
     },
     "execution_count": 4,
     "metadata": {},
     "output_type": "execute_result"
    }
   ],
   "source": [
    "dt_set.head()"
   ]
  },
  {
   "cell_type": "code",
   "execution_count": 5,
   "metadata": {},
   "outputs": [
    {
     "name": "stdout",
     "output_type": "stream",
     "text": [
      "<class 'pandas.core.frame.DataFrame'>\n",
      "RangeIndex: 74197 entries, 0 to 74196\n",
      "Data columns (total 3 columns):\n",
      " #   Column      Non-Null Count  Dtype \n",
      "---  ------      --------------  ----- \n",
      " 0   event.time  74197 non-null  object\n",
      " 1   event.name  74197 non-null  object\n",
      " 2   user.id     74197 non-null  object\n",
      "dtypes: object(3)\n",
      "memory usage: 1.7+ MB\n"
     ]
    }
   ],
   "source": [
    "dt_set.info()"
   ]
  },
  {
   "cell_type": "code",
   "execution_count": 6,
   "metadata": {},
   "outputs": [
    {
     "data": {
      "text/html": [
       "<div>\n",
       "<style scoped>\n",
       "    .dataframe tbody tr th:only-of-type {\n",
       "        vertical-align: middle;\n",
       "    }\n",
       "\n",
       "    .dataframe tbody tr th {\n",
       "        vertical-align: top;\n",
       "    }\n",
       "\n",
       "    .dataframe thead th {\n",
       "        text-align: right;\n",
       "    }\n",
       "</style>\n",
       "<table border=\"1\" class=\"dataframe\">\n",
       "  <thead>\n",
       "    <tr style=\"text-align: right;\">\n",
       "      <th></th>\n",
       "      <th>userId</th>\n",
       "      <th>source</th>\n",
       "    </tr>\n",
       "  </thead>\n",
       "  <tbody>\n",
       "    <tr>\n",
       "      <th>0</th>\n",
       "      <td>020292ab-89bc-4156-9acf-68bc2783f894</td>\n",
       "      <td>other</td>\n",
       "    </tr>\n",
       "    <tr>\n",
       "      <th>1</th>\n",
       "      <td>cf7eda61-9349-469f-ac27-e5b6f5ec475c</td>\n",
       "      <td>yandex</td>\n",
       "    </tr>\n",
       "    <tr>\n",
       "      <th>2</th>\n",
       "      <td>8c356c42-3ba9-4cb6-80b8-3f868d0192c3</td>\n",
       "      <td>yandex</td>\n",
       "    </tr>\n",
       "    <tr>\n",
       "      <th>3</th>\n",
       "      <td>d9b06b47-0f36-419b-bbb0-3533e582a6cb</td>\n",
       "      <td>other</td>\n",
       "    </tr>\n",
       "    <tr>\n",
       "      <th>4</th>\n",
       "      <td>f32e1e2a-3027-4693-b793-b7b3ff274439</td>\n",
       "      <td>google</td>\n",
       "    </tr>\n",
       "  </tbody>\n",
       "</table>\n",
       "</div>"
      ],
      "text/plain": [
       "                                 userId  source\n",
       "0  020292ab-89bc-4156-9acf-68bc2783f894  other \n",
       "1  cf7eda61-9349-469f-ac27-e5b6f5ec475c  yandex\n",
       "2  8c356c42-3ba9-4cb6-80b8-3f868d0192c3  yandex\n",
       "3  d9b06b47-0f36-419b-bbb0-3533e582a6cb  other \n",
       "4  f32e1e2a-3027-4693-b793-b7b3ff274439  google"
      ]
     },
     "execution_count": 6,
     "metadata": {},
     "output_type": "execute_result"
    }
   ],
   "source": [
    "dt_sources.head()"
   ]
  },
  {
   "cell_type": "code",
   "execution_count": 7,
   "metadata": {},
   "outputs": [
    {
     "name": "stdout",
     "output_type": "stream",
     "text": [
      "<class 'pandas.core.frame.DataFrame'>\n",
      "RangeIndex: 4293 entries, 0 to 4292\n",
      "Data columns (total 2 columns):\n",
      " #   Column  Non-Null Count  Dtype \n",
      "---  ------  --------------  ----- \n",
      " 0   userId  4293 non-null   object\n",
      " 1   source  4293 non-null   object\n",
      "dtypes: object(2)\n",
      "memory usage: 67.2+ KB\n"
     ]
    }
   ],
   "source": [
    "dt_sources.info()"
   ]
  },
  {
   "cell_type": "markdown",
   "metadata": {},
   "source": [
    "В датасете 74 197 строк и 3 столбца,в базе данных о источниках 4293 строки и 2 стобца"
   ]
  },
  {
   "cell_type": "markdown",
   "metadata": {},
   "source": [
    "### Проверка форматов данных, проверка на дубликаты"
   ]
  },
  {
   "cell_type": "code",
   "execution_count": 8,
   "metadata": {},
   "outputs": [
    {
     "data": {
      "text/plain": [
       "userId    0\n",
       "source    0\n",
       "dtype: int64"
      ]
     },
     "execution_count": 8,
     "metadata": {},
     "output_type": "execute_result"
    }
   ],
   "source": [
    "dt_sources.isna().sum()"
   ]
  },
  {
   "cell_type": "code",
   "execution_count": 9,
   "metadata": {},
   "outputs": [
    {
     "data": {
      "text/plain": [
       "event.time    0\n",
       "event.name    0\n",
       "user.id       0\n",
       "dtype: int64"
      ]
     },
     "execution_count": 9,
     "metadata": {},
     "output_type": "execute_result"
    }
   ],
   "source": [
    "dt_set.isna().sum()"
   ]
  },
  {
   "cell_type": "markdown",
   "metadata": {},
   "source": [
    "Пропусков в данных не обанружено"
   ]
  },
  {
   "cell_type": "code",
   "execution_count": 10,
   "metadata": {},
   "outputs": [
    {
     "data": {
      "text/plain": [
       "0"
      ]
     },
     "execution_count": 10,
     "metadata": {},
     "output_type": "execute_result"
    }
   ],
   "source": [
    "dt_set.duplicated().sum()"
   ]
  },
  {
   "cell_type": "code",
   "execution_count": 11,
   "metadata": {},
   "outputs": [
    {
     "data": {
      "text/plain": [
       "0"
      ]
     },
     "execution_count": 11,
     "metadata": {},
     "output_type": "execute_result"
    }
   ],
   "source": [
    "dt_sources.duplicated().sum()"
   ]
  },
  {
   "cell_type": "markdown",
   "metadata": {},
   "source": [
    "Дубликатов в данных так же нет"
   ]
  },
  {
   "cell_type": "markdown",
   "metadata": {},
   "source": [
    "Необходимо сменить формат данных в столбце event_time на datetime"
   ]
  },
  {
   "cell_type": "code",
   "execution_count": 12,
   "metadata": {},
   "outputs": [],
   "source": [
    "dt_set['event.time'] = pd.to_datetime(dt_set['event.time'], format='%Y-%m-%d %H:%M:%S')"
   ]
  },
  {
   "cell_type": "code",
   "execution_count": 13,
   "metadata": {},
   "outputs": [
    {
     "name": "stdout",
     "output_type": "stream",
     "text": [
      "<class 'pandas.core.frame.DataFrame'>\n",
      "RangeIndex: 74197 entries, 0 to 74196\n",
      "Data columns (total 3 columns):\n",
      " #   Column      Non-Null Count  Dtype         \n",
      "---  ------      --------------  -----         \n",
      " 0   event.time  74197 non-null  datetime64[ns]\n",
      " 1   event.name  74197 non-null  object        \n",
      " 2   user.id     74197 non-null  object        \n",
      "dtypes: datetime64[ns](1), object(2)\n",
      "memory usage: 1.7+ MB\n"
     ]
    }
   ],
   "source": [
    "dt_set.info()"
   ]
  },
  {
   "cell_type": "code",
   "execution_count": 14,
   "metadata": {},
   "outputs": [
    {
     "data": {
      "text/html": [
       "<div>\n",
       "<style scoped>\n",
       "    .dataframe tbody tr th:only-of-type {\n",
       "        vertical-align: middle;\n",
       "    }\n",
       "\n",
       "    .dataframe tbody tr th {\n",
       "        vertical-align: top;\n",
       "    }\n",
       "\n",
       "    .dataframe thead th {\n",
       "        text-align: right;\n",
       "    }\n",
       "</style>\n",
       "<table border=\"1\" class=\"dataframe\">\n",
       "  <thead>\n",
       "    <tr style=\"text-align: right;\">\n",
       "      <th></th>\n",
       "      <th>event.time</th>\n",
       "      <th>event.name</th>\n",
       "      <th>user.id</th>\n",
       "    </tr>\n",
       "  </thead>\n",
       "  <tbody>\n",
       "    <tr>\n",
       "      <th>0</th>\n",
       "      <td>2019-10-07 00:00:00.431357</td>\n",
       "      <td>advert_open</td>\n",
       "      <td>020292ab-89bc-4156-9acf-68bc2783f894</td>\n",
       "    </tr>\n",
       "    <tr>\n",
       "      <th>1</th>\n",
       "      <td>2019-10-07 00:00:01.236320</td>\n",
       "      <td>tips_show</td>\n",
       "      <td>020292ab-89bc-4156-9acf-68bc2783f894</td>\n",
       "    </tr>\n",
       "    <tr>\n",
       "      <th>2</th>\n",
       "      <td>2019-10-07 00:00:02.245341</td>\n",
       "      <td>tips_show</td>\n",
       "      <td>cf7eda61-9349-469f-ac27-e5b6f5ec475c</td>\n",
       "    </tr>\n",
       "    <tr>\n",
       "      <th>3</th>\n",
       "      <td>2019-10-07 00:00:07.039334</td>\n",
       "      <td>tips_show</td>\n",
       "      <td>020292ab-89bc-4156-9acf-68bc2783f894</td>\n",
       "    </tr>\n",
       "    <tr>\n",
       "      <th>4</th>\n",
       "      <td>2019-10-07 00:00:56.319813</td>\n",
       "      <td>advert_open</td>\n",
       "      <td>cf7eda61-9349-469f-ac27-e5b6f5ec475c</td>\n",
       "    </tr>\n",
       "  </tbody>\n",
       "</table>\n",
       "</div>"
      ],
      "text/plain": [
       "                  event.time   event.name  \\\n",
       "0 2019-10-07 00:00:00.431357  advert_open   \n",
       "1 2019-10-07 00:00:01.236320  tips_show     \n",
       "2 2019-10-07 00:00:02.245341  tips_show     \n",
       "3 2019-10-07 00:00:07.039334  tips_show     \n",
       "4 2019-10-07 00:00:56.319813  advert_open   \n",
       "\n",
       "                                user.id  \n",
       "0  020292ab-89bc-4156-9acf-68bc2783f894  \n",
       "1  020292ab-89bc-4156-9acf-68bc2783f894  \n",
       "2  cf7eda61-9349-469f-ac27-e5b6f5ec475c  \n",
       "3  020292ab-89bc-4156-9acf-68bc2783f894  \n",
       "4  cf7eda61-9349-469f-ac27-e5b6f5ec475c  "
      ]
     },
     "execution_count": 14,
     "metadata": {},
     "output_type": "execute_result"
    }
   ],
   "source": [
    "dt_set.head()"
   ]
  },
  {
   "cell_type": "markdown",
   "metadata": {},
   "source": [
    "## Подготовка данных"
   ]
  },
  {
   "cell_type": "markdown",
   "metadata": {},
   "source": [
    "Переименуем столбцы"
   ]
  },
  {
   "cell_type": "code",
   "execution_count": 15,
   "metadata": {},
   "outputs": [],
   "source": [
    "dt_set.columns =['event_time', 'event_name', 'user_id']\n",
    "dt_sources.columns =['user_id', 'source']"
   ]
  },
  {
   "cell_type": "markdown",
   "metadata": {},
   "source": [
    "Объеденим обе таблицы"
   ]
  },
  {
   "cell_type": "code",
   "execution_count": 16,
   "metadata": {},
   "outputs": [],
   "source": [
    "data = dt_set.merge(dt_sources, on='user_id', how='left')"
   ]
  },
  {
   "cell_type": "code",
   "execution_count": 17,
   "metadata": {},
   "outputs": [
    {
     "data": {
      "text/html": [
       "<div>\n",
       "<style scoped>\n",
       "    .dataframe tbody tr th:only-of-type {\n",
       "        vertical-align: middle;\n",
       "    }\n",
       "\n",
       "    .dataframe tbody tr th {\n",
       "        vertical-align: top;\n",
       "    }\n",
       "\n",
       "    .dataframe thead th {\n",
       "        text-align: right;\n",
       "    }\n",
       "</style>\n",
       "<table border=\"1\" class=\"dataframe\">\n",
       "  <thead>\n",
       "    <tr style=\"text-align: right;\">\n",
       "      <th></th>\n",
       "      <th>event_time</th>\n",
       "      <th>event_name</th>\n",
       "      <th>user_id</th>\n",
       "      <th>source</th>\n",
       "    </tr>\n",
       "  </thead>\n",
       "  <tbody>\n",
       "    <tr>\n",
       "      <th>0</th>\n",
       "      <td>2019-10-07 00:00:00.431357</td>\n",
       "      <td>advert_open</td>\n",
       "      <td>020292ab-89bc-4156-9acf-68bc2783f894</td>\n",
       "      <td>other</td>\n",
       "    </tr>\n",
       "    <tr>\n",
       "      <th>1</th>\n",
       "      <td>2019-10-07 00:00:01.236320</td>\n",
       "      <td>tips_show</td>\n",
       "      <td>020292ab-89bc-4156-9acf-68bc2783f894</td>\n",
       "      <td>other</td>\n",
       "    </tr>\n",
       "    <tr>\n",
       "      <th>2</th>\n",
       "      <td>2019-10-07 00:00:02.245341</td>\n",
       "      <td>tips_show</td>\n",
       "      <td>cf7eda61-9349-469f-ac27-e5b6f5ec475c</td>\n",
       "      <td>yandex</td>\n",
       "    </tr>\n",
       "    <tr>\n",
       "      <th>3</th>\n",
       "      <td>2019-10-07 00:00:07.039334</td>\n",
       "      <td>tips_show</td>\n",
       "      <td>020292ab-89bc-4156-9acf-68bc2783f894</td>\n",
       "      <td>other</td>\n",
       "    </tr>\n",
       "    <tr>\n",
       "      <th>4</th>\n",
       "      <td>2019-10-07 00:00:56.319813</td>\n",
       "      <td>advert_open</td>\n",
       "      <td>cf7eda61-9349-469f-ac27-e5b6f5ec475c</td>\n",
       "      <td>yandex</td>\n",
       "    </tr>\n",
       "  </tbody>\n",
       "</table>\n",
       "</div>"
      ],
      "text/plain": [
       "                  event_time   event_name  \\\n",
       "0 2019-10-07 00:00:00.431357  advert_open   \n",
       "1 2019-10-07 00:00:01.236320  tips_show     \n",
       "2 2019-10-07 00:00:02.245341  tips_show     \n",
       "3 2019-10-07 00:00:07.039334  tips_show     \n",
       "4 2019-10-07 00:00:56.319813  advert_open   \n",
       "\n",
       "                                user_id  source  \n",
       "0  020292ab-89bc-4156-9acf-68bc2783f894  other   \n",
       "1  020292ab-89bc-4156-9acf-68bc2783f894  other   \n",
       "2  cf7eda61-9349-469f-ac27-e5b6f5ec475c  yandex  \n",
       "3  020292ab-89bc-4156-9acf-68bc2783f894  other   \n",
       "4  cf7eda61-9349-469f-ac27-e5b6f5ec475c  yandex  "
      ]
     },
     "execution_count": 17,
     "metadata": {},
     "output_type": "execute_result"
    }
   ],
   "source": [
    "data.head()"
   ]
  },
  {
   "cell_type": "code",
   "execution_count": 18,
   "metadata": {},
   "outputs": [
    {
     "name": "stdout",
     "output_type": "stream",
     "text": [
      "<class 'pandas.core.frame.DataFrame'>\n",
      "Int64Index: 74197 entries, 0 to 74196\n",
      "Data columns (total 4 columns):\n",
      " #   Column      Non-Null Count  Dtype         \n",
      "---  ------      --------------  -----         \n",
      " 0   event_time  74197 non-null  datetime64[ns]\n",
      " 1   event_name  74197 non-null  object        \n",
      " 2   user_id     74197 non-null  object        \n",
      " 3   source      74197 non-null  object        \n",
      "dtypes: datetime64[ns](1), object(3)\n",
      "memory usage: 2.8+ MB\n"
     ]
    }
   ],
   "source": [
    "data.info()"
   ]
  },
  {
   "cell_type": "code",
   "execution_count": 19,
   "metadata": {},
   "outputs": [
    {
     "data": {
      "text/plain": [
       "tips_show        40055\n",
       "photos_show      10012\n",
       "advert_open      6164 \n",
       "contacts_show    4450 \n",
       "map              3881 \n",
       "search_1         3506 \n",
       "favorites_add    1417 \n",
       "search_5         1049 \n",
       "tips_click       814  \n",
       "search_4         701  \n",
       "contacts_call    541  \n",
       "search_3         522  \n",
       "search_6         460  \n",
       "search_2         324  \n",
       "search_7         222  \n",
       "show_contacts    79   \n",
       "Name: event_name, dtype: int64"
      ]
     },
     "execution_count": 19,
     "metadata": {},
     "output_type": "execute_result"
    }
   ],
   "source": [
    "data['event_name'].value_counts()"
   ]
  },
  {
   "cell_type": "markdown",
   "metadata": {},
   "source": [
    "объеденим похожие события такие как search_1,2,3,4,5,6,7 и contacts_show и show_contacts"
   ]
  },
  {
   "cell_type": "code",
   "execution_count": 20,
   "metadata": {},
   "outputs": [],
   "source": [
    "def replace(name):\n",
    "    if 'search_' in name:\n",
    "        return 'search'\n",
    "    elif 'show_' in name:\n",
    "        return 'contacts_show'\n",
    "    else: \n",
    "        return name"
   ]
  },
  {
   "cell_type": "code",
   "execution_count": 21,
   "metadata": {},
   "outputs": [],
   "source": [
    "data['event_name']=data['event_name'].apply(replace)"
   ]
  },
  {
   "cell_type": "code",
   "execution_count": 22,
   "metadata": {},
   "outputs": [
    {
     "data": {
      "text/plain": [
       "tips_show        40055\n",
       "photos_show      10012\n",
       "search           6784 \n",
       "advert_open      6164 \n",
       "contacts_show    4529 \n",
       "map              3881 \n",
       "favorites_add    1417 \n",
       "tips_click       814  \n",
       "contacts_call    541  \n",
       "Name: event_name, dtype: int64"
      ]
     },
     "execution_count": 22,
     "metadata": {},
     "output_type": "execute_result"
    }
   ],
   "source": [
    "data['event_name'].value_counts()"
   ]
  },
  {
   "cell_type": "markdown",
   "metadata": {},
   "source": [
    "### Вывод\n",
    "\n",
    "В данных не обаружено полных дубликатов и пропусков\n",
    "\n",
    "Названия стобцов приведены к общему стилю\n",
    "\n",
    "Два дата сета объеденины в один\n",
    "\n",
    "Столбец с датой приведен к типу данных datetime\n",
    "\n",
    "Одинаковые действия объединены "
   ]
  },
  {
   "cell_type": "markdown",
   "metadata": {},
   "source": [
    "## Иследовательский анализ"
   ]
  },
  {
   "cell_type": "markdown",
   "metadata": {},
   "source": [
    "### Выделение сессии в прложении по тайм-аутам"
   ]
  },
  {
   "cell_type": "code",
   "execution_count": 23,
   "metadata": {},
   "outputs": [],
   "source": [
    "data = data.sort_values(['user_id', 'event_time'])"
   ]
  },
  {
   "cell_type": "code",
   "execution_count": 24,
   "metadata": {},
   "outputs": [
    {
     "data": {
      "text/html": [
       "<div>\n",
       "<style scoped>\n",
       "    .dataframe tbody tr th:only-of-type {\n",
       "        vertical-align: middle;\n",
       "    }\n",
       "\n",
       "    .dataframe tbody tr th {\n",
       "        vertical-align: top;\n",
       "    }\n",
       "\n",
       "    .dataframe thead th {\n",
       "        text-align: right;\n",
       "    }\n",
       "</style>\n",
       "<table border=\"1\" class=\"dataframe\">\n",
       "  <thead>\n",
       "    <tr style=\"text-align: right;\">\n",
       "      <th></th>\n",
       "      <th>event_time</th>\n",
       "      <th>event_name</th>\n",
       "      <th>user_id</th>\n",
       "      <th>source</th>\n",
       "    </tr>\n",
       "  </thead>\n",
       "  <tbody>\n",
       "    <tr>\n",
       "      <th>805</th>\n",
       "      <td>2019-10-07 13:39:45.989359</td>\n",
       "      <td>tips_show</td>\n",
       "      <td>0001b1d5-b74a-4cbf-aeb0-7df5947bf349</td>\n",
       "      <td>other</td>\n",
       "    </tr>\n",
       "    <tr>\n",
       "      <th>806</th>\n",
       "      <td>2019-10-07 13:40:31.052909</td>\n",
       "      <td>tips_show</td>\n",
       "      <td>0001b1d5-b74a-4cbf-aeb0-7df5947bf349</td>\n",
       "      <td>other</td>\n",
       "    </tr>\n",
       "    <tr>\n",
       "      <th>809</th>\n",
       "      <td>2019-10-07 13:41:05.722489</td>\n",
       "      <td>tips_show</td>\n",
       "      <td>0001b1d5-b74a-4cbf-aeb0-7df5947bf349</td>\n",
       "      <td>other</td>\n",
       "    </tr>\n",
       "    <tr>\n",
       "      <th>820</th>\n",
       "      <td>2019-10-07 13:43:20.735461</td>\n",
       "      <td>tips_show</td>\n",
       "      <td>0001b1d5-b74a-4cbf-aeb0-7df5947bf349</td>\n",
       "      <td>other</td>\n",
       "    </tr>\n",
       "    <tr>\n",
       "      <th>830</th>\n",
       "      <td>2019-10-07 13:45:30.917502</td>\n",
       "      <td>tips_show</td>\n",
       "      <td>0001b1d5-b74a-4cbf-aeb0-7df5947bf349</td>\n",
       "      <td>other</td>\n",
       "    </tr>\n",
       "  </tbody>\n",
       "</table>\n",
       "</div>"
      ],
      "text/plain": [
       "                    event_time event_name  \\\n",
       "805 2019-10-07 13:39:45.989359  tips_show   \n",
       "806 2019-10-07 13:40:31.052909  tips_show   \n",
       "809 2019-10-07 13:41:05.722489  tips_show   \n",
       "820 2019-10-07 13:43:20.735461  tips_show   \n",
       "830 2019-10-07 13:45:30.917502  tips_show   \n",
       "\n",
       "                                  user_id source  \n",
       "805  0001b1d5-b74a-4cbf-aeb0-7df5947bf349  other  \n",
       "806  0001b1d5-b74a-4cbf-aeb0-7df5947bf349  other  \n",
       "809  0001b1d5-b74a-4cbf-aeb0-7df5947bf349  other  \n",
       "820  0001b1d5-b74a-4cbf-aeb0-7df5947bf349  other  \n",
       "830  0001b1d5-b74a-4cbf-aeb0-7df5947bf349  other  "
      ]
     },
     "execution_count": 24,
     "metadata": {},
     "output_type": "execute_result"
    }
   ],
   "source": [
    "data.head()"
   ]
  },
  {
   "cell_type": "code",
   "execution_count": 25,
   "metadata": {},
   "outputs": [
    {
     "data": {
      "text/plain": [
       "count    74197.000000\n",
       "mean     219.537112  \n",
       "std      1488.939293 \n",
       "min      0.000000    \n",
       "5%       0.000000    \n",
       "25%      0.272607    \n",
       "50%      1.060508    \n",
       "90%      14.028356   \n",
       "91%      20.047997   \n",
       "92%      33.771810   \n",
       "93%      65.731040   \n",
       "94%      152.147053  \n",
       "95%      426.477334  \n",
       "99%      6664.092718 \n",
       "max      38269.914225\n",
       "Name: diff_time, dtype: float64"
      ]
     },
     "execution_count": 25,
     "metadata": {},
     "output_type": "execute_result"
    }
   ],
   "source": [
    "data['diff_time'] = (data.groupby('user_id')['event_time'].diff()\n",
    "                     .dt.total_seconds().div(60) # преобразуем в минуты\n",
    "                     .fillna(value=0) #заполним пропуски значением 0\n",
    "                    )\n",
    "data['diff_time'].describe(percentiles=[0.05, 1/4, 1/2, 0.90, 0.91, 0.92, 0.93, 0.94, 0.95, 0.99])"
   ]
  },
  {
   "cell_type": "markdown",
   "metadata": {},
   "source": [
    "50% пользователей имеют время между событиями в 1 минуту, 92% пользователей между событиями имеют 33 минуты из чего мы берем время тайм аута сессии в 30 минут, что будет включать 91 процент пользователй, после 33 минут время между событиями резко растет что может быть связано с выбросами."
   ]
  },
  {
   "cell_type": "code",
   "execution_count": 26,
   "metadata": {},
   "outputs": [
    {
     "data": {
      "text/html": [
       "<div>\n",
       "<style scoped>\n",
       "    .dataframe tbody tr th:only-of-type {\n",
       "        vertical-align: middle;\n",
       "    }\n",
       "\n",
       "    .dataframe tbody tr th {\n",
       "        vertical-align: top;\n",
       "    }\n",
       "\n",
       "    .dataframe thead th {\n",
       "        text-align: right;\n",
       "    }\n",
       "</style>\n",
       "<table border=\"1\" class=\"dataframe\">\n",
       "  <thead>\n",
       "    <tr style=\"text-align: right;\">\n",
       "      <th></th>\n",
       "      <th>event_time</th>\n",
       "      <th>event_name</th>\n",
       "      <th>user_id</th>\n",
       "      <th>source</th>\n",
       "      <th>diff_time</th>\n",
       "      <th>session_id</th>\n",
       "    </tr>\n",
       "  </thead>\n",
       "  <tbody>\n",
       "    <tr>\n",
       "      <th>805</th>\n",
       "      <td>2019-10-07 13:39:45.989359</td>\n",
       "      <td>tips_show</td>\n",
       "      <td>0001b1d5-b74a-4cbf-aeb0-7df5947bf349</td>\n",
       "      <td>other</td>\n",
       "      <td>0.000000</td>\n",
       "      <td>1</td>\n",
       "    </tr>\n",
       "    <tr>\n",
       "      <th>806</th>\n",
       "      <td>2019-10-07 13:40:31.052909</td>\n",
       "      <td>tips_show</td>\n",
       "      <td>0001b1d5-b74a-4cbf-aeb0-7df5947bf349</td>\n",
       "      <td>other</td>\n",
       "      <td>0.751059</td>\n",
       "      <td>1</td>\n",
       "    </tr>\n",
       "    <tr>\n",
       "      <th>809</th>\n",
       "      <td>2019-10-07 13:41:05.722489</td>\n",
       "      <td>tips_show</td>\n",
       "      <td>0001b1d5-b74a-4cbf-aeb0-7df5947bf349</td>\n",
       "      <td>other</td>\n",
       "      <td>0.577826</td>\n",
       "      <td>1</td>\n",
       "    </tr>\n",
       "    <tr>\n",
       "      <th>820</th>\n",
       "      <td>2019-10-07 13:43:20.735461</td>\n",
       "      <td>tips_show</td>\n",
       "      <td>0001b1d5-b74a-4cbf-aeb0-7df5947bf349</td>\n",
       "      <td>other</td>\n",
       "      <td>2.250216</td>\n",
       "      <td>1</td>\n",
       "    </tr>\n",
       "    <tr>\n",
       "      <th>830</th>\n",
       "      <td>2019-10-07 13:45:30.917502</td>\n",
       "      <td>tips_show</td>\n",
       "      <td>0001b1d5-b74a-4cbf-aeb0-7df5947bf349</td>\n",
       "      <td>other</td>\n",
       "      <td>2.169701</td>\n",
       "      <td>1</td>\n",
       "    </tr>\n",
       "    <tr>\n",
       "      <th>...</th>\n",
       "      <td>...</td>\n",
       "      <td>...</td>\n",
       "      <td>...</td>\n",
       "      <td>...</td>\n",
       "      <td>...</td>\n",
       "      <td>...</td>\n",
       "    </tr>\n",
       "    <tr>\n",
       "      <th>72584</th>\n",
       "      <td>2019-11-03 15:51:23.959572</td>\n",
       "      <td>tips_show</td>\n",
       "      <td>fffb9e79-b927-4dbb-9b48-7fd09b23a62b</td>\n",
       "      <td>google</td>\n",
       "      <td>0.464775</td>\n",
       "      <td>10368</td>\n",
       "    </tr>\n",
       "    <tr>\n",
       "      <th>72589</th>\n",
       "      <td>2019-11-03 15:51:57.899997</td>\n",
       "      <td>contacts_show</td>\n",
       "      <td>fffb9e79-b927-4dbb-9b48-7fd09b23a62b</td>\n",
       "      <td>google</td>\n",
       "      <td>0.565674</td>\n",
       "      <td>10368</td>\n",
       "    </tr>\n",
       "    <tr>\n",
       "      <th>72684</th>\n",
       "      <td>2019-11-03 16:07:40.932077</td>\n",
       "      <td>tips_show</td>\n",
       "      <td>fffb9e79-b927-4dbb-9b48-7fd09b23a62b</td>\n",
       "      <td>google</td>\n",
       "      <td>15.717201</td>\n",
       "      <td>10368</td>\n",
       "    </tr>\n",
       "    <tr>\n",
       "      <th>72688</th>\n",
       "      <td>2019-11-03 16:08:18.202734</td>\n",
       "      <td>tips_show</td>\n",
       "      <td>fffb9e79-b927-4dbb-9b48-7fd09b23a62b</td>\n",
       "      <td>google</td>\n",
       "      <td>0.621178</td>\n",
       "      <td>10368</td>\n",
       "    </tr>\n",
       "    <tr>\n",
       "      <th>72689</th>\n",
       "      <td>2019-11-03 16:08:25.388712</td>\n",
       "      <td>tips_show</td>\n",
       "      <td>fffb9e79-b927-4dbb-9b48-7fd09b23a62b</td>\n",
       "      <td>google</td>\n",
       "      <td>0.119766</td>\n",
       "      <td>10368</td>\n",
       "    </tr>\n",
       "  </tbody>\n",
       "</table>\n",
       "<p>74197 rows × 6 columns</p>\n",
       "</div>"
      ],
      "text/plain": [
       "                      event_time     event_name  \\\n",
       "805   2019-10-07 13:39:45.989359  tips_show       \n",
       "806   2019-10-07 13:40:31.052909  tips_show       \n",
       "809   2019-10-07 13:41:05.722489  tips_show       \n",
       "820   2019-10-07 13:43:20.735461  tips_show       \n",
       "830   2019-10-07 13:45:30.917502  tips_show       \n",
       "...                          ...        ...       \n",
       "72584 2019-11-03 15:51:23.959572  tips_show       \n",
       "72589 2019-11-03 15:51:57.899997  contacts_show   \n",
       "72684 2019-11-03 16:07:40.932077  tips_show       \n",
       "72688 2019-11-03 16:08:18.202734  tips_show       \n",
       "72689 2019-11-03 16:08:25.388712  tips_show       \n",
       "\n",
       "                                    user_id  source  diff_time  session_id  \n",
       "805    0001b1d5-b74a-4cbf-aeb0-7df5947bf349  other   0.000000   1           \n",
       "806    0001b1d5-b74a-4cbf-aeb0-7df5947bf349  other   0.751059   1           \n",
       "809    0001b1d5-b74a-4cbf-aeb0-7df5947bf349  other   0.577826   1           \n",
       "820    0001b1d5-b74a-4cbf-aeb0-7df5947bf349  other   2.250216   1           \n",
       "830    0001b1d5-b74a-4cbf-aeb0-7df5947bf349  other   2.169701   1           \n",
       "...                                     ...    ...        ...  ..           \n",
       "72584  fffb9e79-b927-4dbb-9b48-7fd09b23a62b  google  0.464775   10368       \n",
       "72589  fffb9e79-b927-4dbb-9b48-7fd09b23a62b  google  0.565674   10368       \n",
       "72684  fffb9e79-b927-4dbb-9b48-7fd09b23a62b  google  15.717201  10368       \n",
       "72688  fffb9e79-b927-4dbb-9b48-7fd09b23a62b  google  0.621178   10368       \n",
       "72689  fffb9e79-b927-4dbb-9b48-7fd09b23a62b  google  0.119766   10368       \n",
       "\n",
       "[74197 rows x 6 columns]"
      ]
     },
     "execution_count": 26,
     "metadata": {},
     "output_type": "execute_result"
    }
   ],
   "source": [
    "g = (data.groupby('user_id')['event_time'].diff() > pd.Timedelta('30Min')).cumsum()\n",
    "data['session_id'] = data.groupby(['user_id', g], sort=False).ngroup() + 1\n",
    "data"
   ]
  },
  {
   "cell_type": "markdown",
   "metadata": {},
   "source": [
    "Созданны сессии с временем тайм-аута 30 мин"
   ]
  },
  {
   "cell_type": "markdown",
   "metadata": {},
   "source": [
    "### Определяем Retention Rate"
   ]
  },
  {
   "cell_type": "markdown",
   "metadata": {},
   "source": [
    "Зададим функции для создания профиля, первой сесии и retention"
   ]
  },
  {
   "cell_type": "code",
   "execution_count": 27,
   "metadata": {},
   "outputs": [],
   "source": [
    "def get_profiles(sessions):\n",
    " \n",
    "    profiles = (\n",
    "        data.sort_values(by=['user_id', 'event_time'])\n",
    "        .groupby('user_id')\n",
    "        .agg({'event_time': 'first', 'source': 'first'})\n",
    "        .rename(columns={'event_time': 'first_ts'})\n",
    "        .reset_index()  \n",
    "    )\n",
    "    profiles['dt'] = profiles['first_ts'].dt.date\n",
    "    profiles['month'] = profiles['first_ts'].astype('datetime64[M]')\n",
    "\n",
    "    return profiles"
   ]
  },
  {
   "cell_type": "code",
   "execution_count": 28,
   "metadata": {},
   "outputs": [],
   "source": [
    "def get_session_start(sessions):\n",
    " \n",
    "    sessions = (\n",
    "        data.sort_values(by=['session_id', 'user_id'])\n",
    "        .groupby(['session_id','user_id'])\n",
    "        .agg({'event_time': 'first'})\n",
    "        .rename(columns={'event_time': 'session_start'})\n",
    "        .reset_index()\n",
    "    )\n",
    "    return sessions"
   ]
  },
  {
   "cell_type": "code",
   "execution_count": 29,
   "metadata": {},
   "outputs": [],
   "source": [
    "def get_retention(\n",
    "    profiles, sessions, observation_date, horizon_days, dimensions=[], ignore_horizon=False\n",
    "):\n",
    "    \n",
    "    last_suitable_acquisition_date = observation_date\n",
    "    if not ignore_horizon:\n",
    "        last_suitable_acquisition_date = observation_date - timedelta(\n",
    "            days=horizon_days - 1\n",
    "        )\n",
    "    result_raw = profiles.query('dt <= @last_suitable_acquisition_date')\n",
    "\n",
    "    result_raw = result_raw.merge(\n",
    "        sessions[['user_id', 'session_start']], on='user_id', how='left'\n",
    "    )\n",
    "    result_raw['lifetime'] = (\n",
    "        result_raw['session_start'] - result_raw['first_ts']\n",
    "    ).dt.days\n",
    "\n",
    "    result_grouped = result_raw.pivot_table(\n",
    "        index=dimensions, columns='lifetime', values='user_id', aggfunc='nunique'\n",
    "    )\n",
    "    cohort_sizes = (\n",
    "        result_raw.groupby(dimensions)\n",
    "        .agg({'user_id': 'nunique'})\n",
    "        .rename(columns={'user_id': 'cohort_size'})\n",
    "    )\n",
    "    result_grouped = cohort_sizes.merge(\n",
    "        result_grouped, on=dimensions, how='left'\n",
    "    ).fillna(0)\n",
    "    result_grouped = result_grouped.div(result_grouped['cohort_size'], axis=0)\n",
    "    \n",
    "    result_grouped = result_grouped[\n",
    "        ['cohort_size'] + list(range(horizon_days))\n",
    "    ]\n",
    "\n",
    "    result_grouped['cohort_size'] = cohort_sizes\n",
    "\n",
    "    return result_raw, result_grouped"
   ]
  },
  {
   "cell_type": "code",
   "execution_count": 30,
   "metadata": {},
   "outputs": [],
   "source": [
    "profiles = get_profiles(data)"
   ]
  },
  {
   "cell_type": "code",
   "execution_count": 31,
   "metadata": {},
   "outputs": [],
   "source": [
    "sessions = get_session_start(data)"
   ]
  },
  {
   "cell_type": "code",
   "execution_count": 32,
   "metadata": {},
   "outputs": [],
   "source": [
    "observation_date = data['event_time'].max().date()\n",
    "horizon_days = 14\n",
    "\n",
    "ignore_horizon = False"
   ]
  },
  {
   "cell_type": "code",
   "execution_count": 33,
   "metadata": {},
   "outputs": [
    {
     "data": {
      "text/html": [
       "<div>\n",
       "<style scoped>\n",
       "    .dataframe tbody tr th:only-of-type {\n",
       "        vertical-align: middle;\n",
       "    }\n",
       "\n",
       "    .dataframe tbody tr th {\n",
       "        vertical-align: top;\n",
       "    }\n",
       "\n",
       "    .dataframe thead th {\n",
       "        text-align: right;\n",
       "    }\n",
       "</style>\n",
       "<table border=\"1\" class=\"dataframe\">\n",
       "  <thead>\n",
       "    <tr style=\"text-align: right;\">\n",
       "      <th></th>\n",
       "      <th>cohort_size</th>\n",
       "      <th>0</th>\n",
       "      <th>1</th>\n",
       "      <th>2</th>\n",
       "      <th>3</th>\n",
       "      <th>4</th>\n",
       "      <th>5</th>\n",
       "      <th>6</th>\n",
       "      <th>7</th>\n",
       "      <th>8</th>\n",
       "      <th>9</th>\n",
       "      <th>10</th>\n",
       "      <th>11</th>\n",
       "      <th>12</th>\n",
       "      <th>13</th>\n",
       "    </tr>\n",
       "    <tr>\n",
       "      <th>dt</th>\n",
       "      <th></th>\n",
       "      <th></th>\n",
       "      <th></th>\n",
       "      <th></th>\n",
       "      <th></th>\n",
       "      <th></th>\n",
       "      <th></th>\n",
       "      <th></th>\n",
       "      <th></th>\n",
       "      <th></th>\n",
       "      <th></th>\n",
       "      <th></th>\n",
       "      <th></th>\n",
       "      <th></th>\n",
       "      <th></th>\n",
       "    </tr>\n",
       "  </thead>\n",
       "  <tbody>\n",
       "    <tr>\n",
       "      <th>2019-10-07</th>\n",
       "      <td>204</td>\n",
       "      <td>1.0</td>\n",
       "      <td>0.117647</td>\n",
       "      <td>0.093137</td>\n",
       "      <td>0.107843</td>\n",
       "      <td>0.053922</td>\n",
       "      <td>0.034314</td>\n",
       "      <td>0.058824</td>\n",
       "      <td>0.078431</td>\n",
       "      <td>0.053922</td>\n",
       "      <td>0.049020</td>\n",
       "      <td>0.049020</td>\n",
       "      <td>0.034314</td>\n",
       "      <td>0.024510</td>\n",
       "      <td>0.058824</td>\n",
       "    </tr>\n",
       "    <tr>\n",
       "      <th>2019-10-08</th>\n",
       "      <td>167</td>\n",
       "      <td>1.0</td>\n",
       "      <td>0.161677</td>\n",
       "      <td>0.125749</td>\n",
       "      <td>0.053892</td>\n",
       "      <td>0.041916</td>\n",
       "      <td>0.065868</td>\n",
       "      <td>0.053892</td>\n",
       "      <td>0.071856</td>\n",
       "      <td>0.053892</td>\n",
       "      <td>0.035928</td>\n",
       "      <td>0.059880</td>\n",
       "      <td>0.023952</td>\n",
       "      <td>0.029940</td>\n",
       "      <td>0.029940</td>\n",
       "    </tr>\n",
       "    <tr>\n",
       "      <th>2019-10-09</th>\n",
       "      <td>176</td>\n",
       "      <td>1.0</td>\n",
       "      <td>0.073864</td>\n",
       "      <td>0.062500</td>\n",
       "      <td>0.056818</td>\n",
       "      <td>0.068182</td>\n",
       "      <td>0.068182</td>\n",
       "      <td>0.056818</td>\n",
       "      <td>0.073864</td>\n",
       "      <td>0.056818</td>\n",
       "      <td>0.034091</td>\n",
       "      <td>0.022727</td>\n",
       "      <td>0.028409</td>\n",
       "      <td>0.034091</td>\n",
       "      <td>0.056818</td>\n",
       "    </tr>\n",
       "    <tr>\n",
       "      <th>2019-10-10</th>\n",
       "      <td>174</td>\n",
       "      <td>1.0</td>\n",
       "      <td>0.086207</td>\n",
       "      <td>0.103448</td>\n",
       "      <td>0.080460</td>\n",
       "      <td>0.091954</td>\n",
       "      <td>0.080460</td>\n",
       "      <td>0.068966</td>\n",
       "      <td>0.051724</td>\n",
       "      <td>0.080460</td>\n",
       "      <td>0.034483</td>\n",
       "      <td>0.034483</td>\n",
       "      <td>0.051724</td>\n",
       "      <td>0.045977</td>\n",
       "      <td>0.040230</td>\n",
       "    </tr>\n",
       "    <tr>\n",
       "      <th>2019-10-11</th>\n",
       "      <td>136</td>\n",
       "      <td>1.0</td>\n",
       "      <td>0.088235</td>\n",
       "      <td>0.117647</td>\n",
       "      <td>0.095588</td>\n",
       "      <td>0.088235</td>\n",
       "      <td>0.073529</td>\n",
       "      <td>0.066176</td>\n",
       "      <td>0.044118</td>\n",
       "      <td>0.014706</td>\n",
       "      <td>0.044118</td>\n",
       "      <td>0.036765</td>\n",
       "      <td>0.036765</td>\n",
       "      <td>0.051471</td>\n",
       "      <td>0.029412</td>\n",
       "    </tr>\n",
       "  </tbody>\n",
       "</table>\n",
       "</div>"
      ],
      "text/plain": [
       "            cohort_size    0         1         2         3         4  \\\n",
       "dt                                                                     \n",
       "2019-10-07  204          1.0  0.117647  0.093137  0.107843  0.053922   \n",
       "2019-10-08  167          1.0  0.161677  0.125749  0.053892  0.041916   \n",
       "2019-10-09  176          1.0  0.073864  0.062500  0.056818  0.068182   \n",
       "2019-10-10  174          1.0  0.086207  0.103448  0.080460  0.091954   \n",
       "2019-10-11  136          1.0  0.088235  0.117647  0.095588  0.088235   \n",
       "\n",
       "                   5         6         7         8         9        10  \\\n",
       "dt                                                                       \n",
       "2019-10-07  0.034314  0.058824  0.078431  0.053922  0.049020  0.049020   \n",
       "2019-10-08  0.065868  0.053892  0.071856  0.053892  0.035928  0.059880   \n",
       "2019-10-09  0.068182  0.056818  0.073864  0.056818  0.034091  0.022727   \n",
       "2019-10-10  0.080460  0.068966  0.051724  0.080460  0.034483  0.034483   \n",
       "2019-10-11  0.073529  0.066176  0.044118  0.014706  0.044118  0.036765   \n",
       "\n",
       "                  11        12        13  \n",
       "dt                                        \n",
       "2019-10-07  0.034314  0.024510  0.058824  \n",
       "2019-10-08  0.023952  0.029940  0.029940  \n",
       "2019-10-09  0.028409  0.034091  0.056818  \n",
       "2019-10-10  0.051724  0.045977  0.040230  \n",
       "2019-10-11  0.036765  0.051471  0.029412  "
      ]
     },
     "execution_count": 33,
     "metadata": {},
     "output_type": "execute_result"
    }
   ],
   "source": [
    "retention_raw, retention = get_retention(\n",
    "    profiles, sessions, observation_date, horizon_days, dimensions=['dt']\n",
    ")\n",
    "retention.head()"
   ]
  },
  {
   "cell_type": "code",
   "execution_count": 34,
   "metadata": {},
   "outputs": [
    {
     "data": {
      "image/png": "[encoded data removed]",
      "text/plain": [
       "<Figure size 1080x504 with 2 Axes>"
      ]
     },
     "metadata": {
      "needs_background": "light"
     },
     "output_type": "display_data"
    }
   ],
   "source": [
    "fig = plt.figure(figsize = (15, 7))\n",
    "sns.heatmap(retention.drop(columns = ['cohort_size',0]),\n",
    "            annot = True, \n",
    "            fmt = '.2%' \n",
    "           )\n",
    "plt.title('Тепловая карта удержания')\n",
    "plt.xlabel('Лайфтайм, дни')\n",
    "plt.ylabel('Дата')\n",
    "plt.show()"
   ]
  },
  {
   "cell_type": "markdown",
   "metadata": {},
   "source": [
    "Лучшее удержание пользователей было у пришедших в приложение с 07-14 число, далее удержание на 14 дней только снижалось"
   ]
  },
  {
   "cell_type": "markdown",
   "metadata": {},
   "source": [
    "### Поиск сценариев пользователя по сесии"
   ]
  },
  {
   "cell_type": "markdown",
   "metadata": {},
   "source": [
    "Найдем сколько у нас дубликатов событий в рамках сессий"
   ]
  },
  {
   "cell_type": "code",
   "execution_count": 35,
   "metadata": {},
   "outputs": [
    {
     "data": {
      "text/plain": [
       "56343"
      ]
     },
     "execution_count": 35,
     "metadata": {},
     "output_type": "execute_result"
    }
   ],
   "source": [
    "data.duplicated(subset=['session_id', 'event_name']).sum()"
   ]
  },
  {
   "cell_type": "code",
   "execution_count": 36,
   "metadata": {},
   "outputs": [
    {
     "name": "stdout",
     "output_type": "stream",
     "text": [
      "<class 'pandas.core.frame.DataFrame'>\n",
      "Int64Index: 17854 entries, 805 to 72552\n",
      "Data columns (total 6 columns):\n",
      " #   Column      Non-Null Count  Dtype         \n",
      "---  ------      --------------  -----         \n",
      " 0   event_time  17854 non-null  datetime64[ns]\n",
      " 1   event_name  17854 non-null  object        \n",
      " 2   user_id     17854 non-null  object        \n",
      " 3   source      17854 non-null  object        \n",
      " 4   diff_time   17854 non-null  float64       \n",
      " 5   session_id  17854 non-null  int64         \n",
      "dtypes: datetime64[ns](1), float64(1), int64(1), object(3)\n",
      "memory usage: 976.4+ KB\n"
     ]
    }
   ],
   "source": [
    "skript = data.drop_duplicates(subset=['session_id', 'event_name'])\n",
    "skript.info()"
   ]
  },
  {
   "cell_type": "code",
   "execution_count": 37,
   "metadata": {},
   "outputs": [
    {
     "data": {
      "text/html": [
       "<div>\n",
       "<style scoped>\n",
       "    .dataframe tbody tr th:only-of-type {\n",
       "        vertical-align: middle;\n",
       "    }\n",
       "\n",
       "    .dataframe tbody tr th {\n",
       "        vertical-align: top;\n",
       "    }\n",
       "\n",
       "    .dataframe thead th {\n",
       "        text-align: right;\n",
       "    }\n",
       "</style>\n",
       "<table border=\"1\" class=\"dataframe\">\n",
       "  <thead>\n",
       "    <tr style=\"text-align: right;\">\n",
       "      <th></th>\n",
       "      <th>event_time</th>\n",
       "      <th>user_id</th>\n",
       "      <th>source</th>\n",
       "      <th>diff_time</th>\n",
       "      <th>session_id</th>\n",
       "      <th>step</th>\n",
       "      <th>target</th>\n",
       "    </tr>\n",
       "  </thead>\n",
       "  <tbody>\n",
       "    <tr>\n",
       "      <th>805</th>\n",
       "      <td>2019-10-07 13:39:45.989359</td>\n",
       "      <td>0001b1d5-b74a-4cbf-aeb0-7df5947bf349</td>\n",
       "      <td>tips_show</td>\n",
       "      <td>0.000000</td>\n",
       "      <td>1</td>\n",
       "      <td>1</td>\n",
       "      <td>NaN</td>\n",
       "    </tr>\n",
       "    <tr>\n",
       "      <th>6541</th>\n",
       "      <td>2019-10-09 18:33:55.577963</td>\n",
       "      <td>0001b1d5-b74a-4cbf-aeb0-7df5947bf349</td>\n",
       "      <td>map</td>\n",
       "      <td>3164.231022</td>\n",
       "      <td>2</td>\n",
       "      <td>1</td>\n",
       "      <td>tips_show</td>\n",
       "    </tr>\n",
       "    <tr>\n",
       "      <th>6565</th>\n",
       "      <td>2019-10-09 18:40:28.738785</td>\n",
       "      <td>0001b1d5-b74a-4cbf-aeb0-7df5947bf349</td>\n",
       "      <td>tips_show</td>\n",
       "      <td>5.007964</td>\n",
       "      <td>2</td>\n",
       "      <td>2</td>\n",
       "      <td>NaN</td>\n",
       "    </tr>\n",
       "    <tr>\n",
       "      <th>36412</th>\n",
       "      <td>2019-10-21 19:52:30.778932</td>\n",
       "      <td>0001b1d5-b74a-4cbf-aeb0-7df5947bf349</td>\n",
       "      <td>tips_show</td>\n",
       "      <td>17350.130250</td>\n",
       "      <td>3</td>\n",
       "      <td>1</td>\n",
       "      <td>map</td>\n",
       "    </tr>\n",
       "    <tr>\n",
       "      <th>36419</th>\n",
       "      <td>2019-10-21 19:53:38.767230</td>\n",
       "      <td>0001b1d5-b74a-4cbf-aeb0-7df5947bf349</td>\n",
       "      <td>map</td>\n",
       "      <td>0.360037</td>\n",
       "      <td>3</td>\n",
       "      <td>2</td>\n",
       "      <td>NaN</td>\n",
       "    </tr>\n",
       "  </tbody>\n",
       "</table>\n",
       "</div>"
      ],
      "text/plain": [
       "                      event_time                               user_id  \\\n",
       "805   2019-10-07 13:39:45.989359  0001b1d5-b74a-4cbf-aeb0-7df5947bf349   \n",
       "6541  2019-10-09 18:33:55.577963  0001b1d5-b74a-4cbf-aeb0-7df5947bf349   \n",
       "6565  2019-10-09 18:40:28.738785  0001b1d5-b74a-4cbf-aeb0-7df5947bf349   \n",
       "36412 2019-10-21 19:52:30.778932  0001b1d5-b74a-4cbf-aeb0-7df5947bf349   \n",
       "36419 2019-10-21 19:53:38.767230  0001b1d5-b74a-4cbf-aeb0-7df5947bf349   \n",
       "\n",
       "          source     diff_time  session_id  step     target  \n",
       "805    tips_show  0.000000      1           1     NaN        \n",
       "6541   map        3164.231022   2           1     tips_show  \n",
       "6565   tips_show  5.007964      2           2     NaN        \n",
       "36412  tips_show  17350.130250  3           1     map        \n",
       "36419  map        0.360037      3           2     NaN        "
      ]
     },
     "execution_count": 37,
     "metadata": {},
     "output_type": "execute_result"
    }
   ],
   "source": [
    "#Преобразование исходной таблицы\n",
    "def add_features(df):\n",
    "    \n",
    "    \"\"\"Функция генерации новых столбцов для исходной таблицы\n",
    "\n",
    "    Args:\n",
    "        df (pd.DataFrame): исходная таблица.\n",
    "    Returns:\n",
    "        pd.DataFrame: таблица с новыми признаками.\n",
    "    \"\"\"\n",
    "    \n",
    "    # сортируем по id и времени\n",
    "    sorted_df = df.sort_values(by=['session_id', 'event_time']).copy()\n",
    "     # добавляем шаги событий\n",
    "    sorted_df['step'] = sorted_df.groupby('session_id').cumcount() + 1\n",
    "    \n",
    "    # добавляем узлы-источники и целевые узлы\n",
    "    # узлы-источники - это сами события\n",
    "    sorted_df['source'] = sorted_df['event_name']\n",
    "    # добавляем целевые узлы\n",
    "    sorted_df['target'] = sorted_df.groupby('session_id')['source'].shift(-1) \n",
    "    \n",
    "    # возврат таблицы без имени событий\n",
    "    return sorted_df.drop(['event_name'], axis=1)\n",
    "# преобразуем таблицу\n",
    "table = add_features(skript)\n",
    "table.head()"
   ]
  },
  {
   "cell_type": "code",
   "execution_count": 38,
   "metadata": {},
   "outputs": [
    {
     "data": {
      "text/plain": [
       "count    17854.000000\n",
       "mean     1.592752    \n",
       "std      0.822576    \n",
       "min      1.000000    \n",
       "25%      1.000000    \n",
       "50%      1.000000    \n",
       "75%      2.000000    \n",
       "max      6.000000    \n",
       "Name: step, dtype: float64"
      ]
     },
     "execution_count": 38,
     "metadata": {},
     "output_type": "execute_result"
    }
   ],
   "source": [
    "table['step'].describe()"
   ]
  },
  {
   "cell_type": "markdown",
   "metadata": {},
   "source": [
    "Максимальное кол-во шагов 6, 75% выполняют лишь два шага.\n",
    "Возьмем 4 шага как чтото среднее что бы получить большее кол-во результатов"
   ]
  },
  {
   "cell_type": "code",
   "execution_count": 39,
   "metadata": {},
   "outputs": [],
   "source": [
    "# удалим все пары source-target, шаг которых превышает 4\n",
    "# и сохраним полученную таблицу в отдельную переменную\n",
    "df_comp = table[table['step'] <= 4].copy().reset_index(drop=True)"
   ]
  },
  {
   "cell_type": "code",
   "execution_count": 40,
   "metadata": {},
   "outputs": [],
   "source": [
    "def get_source_index(df):\n",
    "    \n",
    "    \"\"\"Функция генерации индексов source\n",
    "\n",
    "    Args:\n",
    "        df (pd.DataFrame): исходная таблица с признаками step, source, target.\n",
    "    Returns:\n",
    "        dict: словарь с индексами, именами и соответсвиями индексов именам source.\n",
    "    \"\"\"\n",
    "    \n",
    "    res_dict = {}\n",
    "    \n",
    "    count = 0\n",
    "    # получаем индексы источников\n",
    "    for no, step in enumerate(df['step'].unique().tolist()):\n",
    "        # получаем уникальные наименования для шага\n",
    "        res_dict[no+1] = {}\n",
    "        res_dict[no+1]['sources'] = df[df['step'] == step]['source'].unique().tolist()\n",
    "        res_dict[no+1]['sources_index'] = []\n",
    "        for i in range(len(res_dict[no+1]['sources'])):\n",
    "            res_dict[no+1]['sources_index'].append(count)\n",
    "            count += 1\n",
    "            \n",
    "    # соединим списки\n",
    "    for key in res_dict:\n",
    "        res_dict[key]['sources_dict'] = {}\n",
    "        for name, no in zip(res_dict[key]['sources'], res_dict[key]['sources_index']):\n",
    "            res_dict[key]['sources_dict'][name] = no\n",
    "    return res_dict\n",
    "  \n",
    "\n",
    "# создаем словарь\n",
    "source_indexes = get_source_index(df_comp)"
   ]
  },
  {
   "cell_type": "code",
   "execution_count": 41,
   "metadata": {},
   "outputs": [],
   "source": [
    "#Функция случайной генерации цветов\n",
    "def colors_for_sources():\n",
    "    \n",
    "    \"\"\"Генерация цветов rgba\n",
    "\n",
    "    Returns:\n",
    "        dict: словарь с цветами, сгенерированными рандомно и соответствующими каждому индексу\n",
    "    \"\"\"\n",
    "    # словарь, в который сложим цвета в соответствии с индексом\n",
    "    colors_dict = {}\n",
    "    \n",
    "  # генерим случайные цвета\n",
    "    for label in df_comp['source'].unique():\n",
    "        r, g, b = np.random.randint(255, size=3)            \n",
    "        colors_dict[label] = f'rgba({r}, {g}, {b}, 1)'\n",
    "            \n",
    "    return colors_dict\n",
    "\n",
    "#гененируем цвета\n",
    "colors_dict = colors_for_sources()"
   ]
  },
  {
   "cell_type": "code",
   "execution_count": 42,
   "metadata": {},
   "outputs": [],
   "source": [
    "def percent_users(sources, targets, values):\n",
    "    \n",
    "    \"\"\"\n",
    "    Расчет уникальных id в процентах (для вывода в hover text каждого узла)\n",
    "    \n",
    "    Args:\n",
    "        sources (list): список с индексами source.\n",
    "        targets (list): список с индексами target.\n",
    "        values (list): список с \"объемами\" потоков.\n",
    "        \n",
    "    Returns:\n",
    "        list: список с \"объемами\" потоков в процентах\n",
    "    \"\"\"\n",
    "    \n",
    "    # объединим источники и метки и найдем пары\n",
    "    zip_lists = list(zip(sources, targets, values))\n",
    "    \n",
    "    new_list = []\n",
    "    \n",
    "    # подготовим список словарь с общим объемом трафика в узлах\n",
    "    unique_dict = {}\n",
    "    \n",
    "    # проходим по каждому узлу\n",
    "    for source, target, value in zip_lists:\n",
    "        if source not in unique_dict:\n",
    "            # находим все источники и считаем общий трафик\n",
    "            unique_dict[source] = 0\n",
    "            for sr, tg, vl in zip_lists:\n",
    "                if sr == source:\n",
    "                    unique_dict[source] += vl\n",
    "                    \n",
    "    # считаем проценты\n",
    "    for source, target, value in zip_lists:\n",
    "        new_list.append(round(100 * value / unique_dict[source], 1))\n",
    "    \n",
    "    return new_list"
   ]
  },
  {
   "cell_type": "code",
   "execution_count": 43,
   "metadata": {},
   "outputs": [
    {
     "name": "stderr",
     "output_type": "stream",
     "text": [
      "Шаг:   0%|          | 0/4 [00:00<?, ?it/s]\n",
      "  0%|          | 0/8 [00:00<?, ?it/s]\u001b[A\n",
      "100%|██████████| 8/8 [00:00<00:00, 41.27it/s]\u001b[A\n",
      "Шаг:  25%|██▌       | 1/4 [00:00<00:00,  5.09it/s]\n",
      "  0%|          | 0/9 [00:00<?, ?it/s]\u001b[A\n",
      "100%|██████████| 9/9 [00:00<00:00, 46.23it/s]\u001b[A\n",
      "Шаг:  50%|█████     | 2/4 [00:00<00:00,  5.05it/s]\n",
      "  0%|          | 0/9 [00:00<?, ?it/s]\u001b[A\n",
      "100%|██████████| 9/9 [00:00<00:00, 49.31it/s]\u001b[A\n",
      "Шаг: 100%|██████████| 4/4 [00:00<00:00,  6.88it/s]\n"
     ]
    }
   ],
   "source": [
    "#Создание словаря с данными для отрисовки диаграммы\n",
    "def lists_for_plot(source_indexes=source_indexes, colors=colors_dict, frac=10):\n",
    "    \n",
    "    \"\"\"\n",
    "    Создаем необходимые для отрисовки диаграммы переменные списков и возвращаем\n",
    "    их в виде словаря\n",
    "    \n",
    "    Args:\n",
    "        source_indexes (dict): словарь с именами и индексами source.\n",
    "        colors (dict): словарь с цветами source.\n",
    "        frac (int): ограничение на минимальный \"объем\" между узлами.\n",
    "        \n",
    "    Returns:\n",
    "        dict: словарь со списками, необходимыми для диаграммы.\n",
    "    \"\"\"\n",
    "    \n",
    "    sources = []\n",
    "    targets = []\n",
    "    values = []\n",
    "    labels = []\n",
    "    link_color = []\n",
    "    link_text = []\n",
    "\n",
    "    # проходим по каждому шагу\n",
    "    for step in tqdm(sorted(df_comp['step'].unique()), desc='Шаг'):\n",
    "        if step + 1 not in source_indexes:\n",
    "            continue\n",
    "\n",
    "        # получаем индекс источника\n",
    "        temp_dict_source = source_indexes[step]['sources_dict']\n",
    "\n",
    "        # получаем индексы цели\n",
    "        temp_dict_target = source_indexes[step+1]['sources_dict']\n",
    "\n",
    "        # проходим по каждой возможной паре, считаем количество таких пар\n",
    "        for source, index_source in tqdm(temp_dict_source.items()):\n",
    "            for target, index_target in temp_dict_target.items():\n",
    "                # делаем срез данных и считаем количество id            \n",
    "                temp_df = df_comp[(df_comp['step'] == step)&(df_comp['source'] == source)&(df_comp['target'] == target)]\n",
    "                value = len(temp_df)\n",
    "                # проверяем минимальный объем потока и добавляем нужные данные\n",
    "                if value > frac:\n",
    "                    sources.append(index_source)\n",
    "                    targets.append(index_target)\n",
    "                    values.append(value)\n",
    "                    # делаем поток прозрачным для лучшего отображения\n",
    "                    link_color.append(colors[source].replace(', 1)', ', 0.2)'))\n",
    "                    \n",
    "    labels = []\n",
    "    colors_labels = []\n",
    "    for key in source_indexes:\n",
    "        for name in source_indexes[key]['sources']:\n",
    "            labels.append(name)\n",
    "            colors_labels.append(colors[name])\n",
    "            \n",
    "    # посчитаем проценты всех потоков\n",
    "    perc_values = percent_users(sources, targets, values)\n",
    "    \n",
    "    # добавим значения процентов для howertext\n",
    "    link_text = []\n",
    "    for perc in perc_values:\n",
    "        link_text.append(f\"{perc}%\")\n",
    "    \n",
    "    # возвратим словарь с вложенными списками\n",
    "    return {'sources': sources, \n",
    "            'targets': targets, \n",
    "            'values': values, \n",
    "            'labels': labels, \n",
    "            'colors_labels': colors_labels, \n",
    "            'link_color': link_color, \n",
    "            'link_text': link_text}\n",
    "  \n",
    "\n",
    "# создаем словарь\n",
    "data_for_plot = lists_for_plot()"
   ]
  },
  {
   "cell_type": "code",
   "execution_count": 44,
   "metadata": {},
   "outputs": [
    {
     "data": {
      "image/svg+xml": [
       "<svg class=\"main-svg\" xmlns=\"http://www.w3.org/2000/svg\" xmlns:xlink=\"http://www.w3.org/1999/xlink\" width=\"840\" height=\"600\" style=\"\" viewBox=\"0 0 700 500\"><rect x=\"0\" y=\"0\" width=\"700\" height=\"500\" style=\"fill: rgb(255, 255, 255); fill-opacity: 1;\"/><defs id=\"defs-23e54f\"><g class=\"clips\"/><g class=\"gradients\"/><g class=\"patterns\"/></defs><g class=\"bglayer\"/><g class=\"layer-below\"><g class=\"imagelayer\"/><g class=\"shapelayer\"/></g><g class=\"cartesianlayer\"/><g class=\"polarlayer\"/><g class=\"smithlayer\"/><g class=\"ternarylayer\"/><g class=\"geolayer\"/><g class=\"funnelarealayer\"/><g class=\"pielayer\"/><g class=\"iciclelayer\"/><g class=\"treemaplayer\"/><g class=\"sunburstlayer\"/><g class=\"glimages\"/><g class=\"sankey\" transform=\"translate(80,100)matrix(1 0 0 1 0 0)\" style=\"box-sizing: content-box; position: absolute; left: 0px; shape-rendering: geometricprecision; pointer-events: auto;\"><g class=\"sankey-links\" style=\"fill: none;\"><path class=\"sankey-link\" d=\"M15,195.37720706260052C95,195.37720706260052 95,153.1300160513641 175,153.1300160513641L175,160.32102728731914C95,160.32102728731914 95,202.56821829855556 15,202.56821829855556Z\" style=\"stroke: rgb(68, 68, 68); stroke-opacity: 1; fill: rgb(121, 95, 94); fill-opacity: 0.2; stroke-width: 0; opacity: 1;\"/><path class=\"sankey-link\" d=\"M15,207.81166399143945C95,207.81166399143945 95,312.8303905831996 175,312.8303905831996L175,314.6067415730337C95,314.6067415730337 95,209.5880149812736 15,209.5880149812736Z\" style=\"stroke: rgb(68, 68, 68); stroke-opacity: 1; fill: rgb(121, 95, 94); fill-opacity: 0.2; stroke-width: 0; opacity: 1;\"/><path class=\"sankey-link\" d=\"M15,186.49545211342985C95,186.49545211342985 95,109.81273408239682 175,109.81273408239682L175,118.69448903156749C95,118.69448903156749 95,195.37720706260052 15,195.37720706260052Z\" style=\"stroke: rgb(68, 68, 68); stroke-opacity: 1; fill: rgb(121, 95, 94); fill-opacity: 0.2; stroke-width: 0; opacity: 1;\"/><path class=\"sankey-link\" d=\"M15,202.56821829855556C95,202.56821829855556 95,190.0695559122523 175,190.0695559122523L175,191.05403959336522C95,191.05403959336522 95,203.55270197966848 15,203.55270197966848Z\" style=\"stroke: rgb(121, 95, 94); stroke-opacity: 0.2; fill: rgb(121, 95, 94); fill-opacity: 0.2; stroke-width: 1; opacity: 1;\"/><path class=\"sankey-link\" d=\"M15,203.55270197966846C95,203.55270197966846 95,280.57784911717494 175,280.57784911717494L175,284.83681112894595C95,284.83681112894595 95,207.81166399143947 15,207.81166399143947Z\" style=\"stroke: rgb(68, 68, 68); stroke-opacity: 1; fill: rgb(121, 95, 94); fill-opacity: 0.2; stroke-width: 0; opacity: 1;\"/><path class=\"sankey-link\" d=\"M15,185.42536115569845C95,185.42536115569845 95,33.301230604601265 175,33.301230604601265L175,34.371321562332675C95,34.371321562332675 95,186.49545211342985 15,186.49545211342985Z\" style=\"stroke: rgb(68, 68, 68); stroke-opacity: 1; fill: rgb(121, 95, 94); fill-opacity: 0.2; stroke-width: 0; opacity: 1;\"/><path class=\"sankey-link\" d=\"M15,238.8443017656503C95,238.8443017656503 95,233.21562332798263 175,233.21562332798263L175,249.7806313536648C95,249.7806313536648 95,255.40930979133248 15,255.40930979133248Z\" style=\"stroke: rgb(68, 68, 68); stroke-opacity: 1; fill: rgb(218, 168, 29); fill-opacity: 0.2; stroke-width: 0; opacity: 1;\"/><path class=\"sankey-link\" d=\"M15,255.4093097913325C95,255.4093097913325 95,314.60674157303373 175,314.60674157303373L175,320.00000000000006C95,320.00000000000006 95,260.8025682182988 15,260.8025682182988Z\" style=\"stroke: rgb(68, 68, 68); stroke-opacity: 1; fill: rgb(218, 168, 29); fill-opacity: 0.2; stroke-width: 0; opacity: 1;\"/><path class=\"sankey-link\" d=\"M15,236.2546816479403C95,236.2546816479403 95,118.6944890315675 175,118.6944890315675L175,119.48635634028874C95,119.48635634028874 95,237.04654895666152 15,237.04654895666152Z\" style=\"stroke: rgb(218, 168, 29); stroke-opacity: 0.2; fill: rgb(218, 168, 29); fill-opacity: 0.2; stroke-width: 1; opacity: 1;\"/><path class=\"sankey-link\" d=\"M15,237.04654895666152C95,237.04654895666152 95,191.0540395933652 175,191.0540395933652L175,192.85179240235396C95,192.85179240235396 95,238.8443017656503 15,238.8443017656503Z\" style=\"stroke: rgb(68, 68, 68); stroke-opacity: 1; fill: rgb(218, 168, 29); fill-opacity: 0.2; stroke-width: 0; opacity: 1;\"/><path class=\"sankey-link\" d=\"M15,119.07972177635125C95,119.07972177635125 95,221.80845371856583 175,221.80845371856583L175,233.21562332798266C95,233.21562332798266 95,130.48689138576805 15,130.48689138576805Z\" style=\"stroke: rgb(68, 68, 68); stroke-opacity: 1; fill: rgb(61, 214, 94); fill-opacity: 0.2; stroke-width: 0; opacity: 1;\"/><path class=\"sankey-link\" d=\"M15,112.74478330658131C95,112.74478330658131 95,146.79507758159417 175,146.79507758159417L175,153.13001605136412C95,153.13001605136412 95,119.07972177635124 15,119.07972177635124Z\" style=\"stroke: rgb(68, 68, 68); stroke-opacity: 1; fill: rgb(61, 214, 94); fill-opacity: 0.2; stroke-width: 0; opacity: 1;\"/><path class=\"sankey-link\" d=\"M15,96.05136436597137C95,96.05136436597137 95,62.02247191011222 175,62.02247191011222L175,75.6126270733011C95,75.6126270733011 95,109.64151952916025 15,109.64151952916025Z\" style=\"stroke: rgb(68, 68, 68); stroke-opacity: 1; fill: rgb(61, 214, 94); fill-opacity: 0.2; stroke-width: 0; opacity: 1;\"/><path class=\"sankey-link\" d=\"M15,130.48689138576805C95,130.48689138576805 95,311.7602996254682 175,311.7602996254682L175,312.8303905831996C95,312.8303905831996 95,131.55698234349944 15,131.55698234349944Z\" style=\"stroke: rgb(68, 68, 68); stroke-opacity: 1; fill: rgb(61, 214, 94); fill-opacity: 0.2; stroke-width: 0; opacity: 1;\"/><path class=\"sankey-link\" d=\"M15,109.64151952916023C95,109.64151952916023 95,106.70947030497574 175,106.70947030497574L175,109.81273408239683C95,109.81273408239683 95,112.74478330658133 15,112.74478330658133Z\" style=\"stroke: rgb(68, 68, 68); stroke-opacity: 1; fill: rgb(61, 214, 94); fill-opacity: 0.2; stroke-width: 0; opacity: 1;\"/><path class=\"sankey-link\" d=\"M15,94.51043338683814C95,94.51043338683814 95,31.760299625468033 175,31.760299625468033L175,33.30123060460126C95,33.30123060460126 95,96.05136436597138 15,96.05136436597138Z\" style=\"stroke: rgb(68, 68, 68); stroke-opacity: 1; fill: rgb(61, 214, 94); fill-opacity: 0.2; stroke-width: 0; opacity: 1;\"/><path class=\"sankey-link\" d=\"M15,67.58694489031629C95,67.58694489031629 95,311.50347779561264 175,311.50347779561264L175,311.7602996254682C95,311.7602996254682 95,67.84376672017183 15,67.84376672017183Z\" style=\"stroke: rgb(198, 150, 248); stroke-opacity: 0.2; fill: rgb(198, 150, 248); fill-opacity: 0.2; stroke-width: 1; opacity: 1;\"/><path class=\"sankey-link\" d=\"M15,61.979668271803725C95,61.979668271803725 95,103.82022471910093 175,103.82022471910093L175,106.70947030497572C95,106.70947030497572 95,64.86891385767852 15,64.86891385767852Z\" style=\"stroke: rgb(68, 68, 68); stroke-opacity: 1; fill: rgb(198, 150, 248); fill-opacity: 0.2; stroke-width: 0; opacity: 1;\"/><path class=\"sankey-link\" d=\"M15,64.86891385767852C95,64.86891385767852 95,187.35152487961452 175,187.35152487961452L175,190.0695559122523C95,190.0695559122523 95,67.5869448903163 15,67.5869448903163Z\" style=\"stroke: rgb(68, 68, 68); stroke-opacity: 1; fill: rgb(198, 150, 248); fill-opacity: 0.2; stroke-width: 0; opacity: 1;\"/><path class=\"sankey-link\" d=\"M15,60.353130016051985C95,60.353130016051985 95,30.133761369716296 175,30.133761369716296L175,31.760299625468036C95,31.760299625468036 95,61.979668271803725 15,61.979668271803725Z\" style=\"stroke: rgb(68, 68, 68); stroke-opacity: 1; fill: rgb(198, 150, 248); fill-opacity: 0.2; stroke-width: 0; opacity: 1;\"/><path class=\"sankey-link\" d=\"M15,31.76029962546881C95,31.76029962546881 95,219.88228999464928 175,219.88228999464928L175,221.80845371856583C95,221.80845371856583 95,33.68646334938534 15,33.68646334938534Z\" style=\"stroke: rgb(68, 68, 68); stroke-opacity: 1; fill: rgb(196, 233, 73); fill-opacity: 0.2; stroke-width: 0; opacity: 1;\"/><path class=\"sankey-link\" d=\"M15,31.118245050829966C95,31.118245050829966 95,146.516853932584 175,146.516853932584L175,146.79507758159417C95,146.79507758159417 95,31.39646869984013 15,31.39646869984013Z\" style=\"stroke: rgb(196, 233, 73); stroke-opacity: 0.2; fill: rgb(196, 233, 73); fill-opacity: 0.2; stroke-width: 1; opacity: 1;\"/><path class=\"sankey-link\" d=\"M15,30.13376136971707C95,30.13376136971707 95,61.037988228999325 175,61.037988228999325L175,62.022471910112216C95,62.022471910112216 95,31.118245050829962 15,31.118245050829962Z\" style=\"stroke: rgb(196, 233, 73); stroke-opacity: 0.2; fill: rgb(196, 233, 73); fill-opacity: 0.2; stroke-width: 1; opacity: 1;\"/><path class=\"sankey-link\" d=\"M15,26.66666666666731C95,26.66666666666731 95,-1.1723955140041653e-13 175,-1.1723955140041653e-13L175,3.4670947030496424C95,3.4670947030496424 95,30.13376136971707 15,30.13376136971707Z\" style=\"stroke: rgb(68, 68, 68); stroke-opacity: 1; fill: rgb(196, 233, 73); fill-opacity: 0.2; stroke-width: 0; opacity: 1;\"/><path class=\"sankey-link\" d=\"M15,31.39646869984013C95,31.39646869984013 95,186.98769395398583 175,186.98769395398583L175,187.35152487961452C95,187.35152487961452 95,31.760299625468807 15,31.760299625468807Z\" style=\"stroke: rgb(196, 233, 73); stroke-opacity: 0.2; fill: rgb(196, 233, 73); fill-opacity: 0.2; stroke-width: 1; opacity: 1;\"/><path class=\"sankey-link\" d=\"M15,289.2027822364901C95,289.2027822364901 95,249.7806313536648 175,249.7806313536648L175,253.61155698234322C95,253.61155698234322 95,293.03370786516854 15,293.03370786516854Z\" style=\"stroke: rgb(68, 68, 68); stroke-opacity: 1; fill: rgb(76, 127, 130); fill-opacity: 0.2; stroke-width: 0; opacity: 1;\"/><path class=\"sankey-link\" d=\"M15,287.4692348849652C95,287.4692348849652 95,76.14767255216678 175,76.14767255216678L175,77.15355805243429C95,77.15355805243429 95,288.4751203852327 15,288.4751203852327Z\" style=\"stroke: rgb(68, 68, 68); stroke-opacity: 1; fill: rgb(76, 127, 130); fill-opacity: 0.2; stroke-width: 0; opacity: 1;\"/><path class=\"sankey-link\" d=\"M15,288.47512038523274C95,288.47512038523274 95,119.48635634028874 175,119.48635634028874L175,119.85018726591743C95,119.85018726591743 95,288.83895131086143 15,288.83895131086143Z\" style=\"stroke: rgb(76, 127, 130); stroke-opacity: 0.2; fill: rgb(76, 127, 130); fill-opacity: 0.2; stroke-width: 1; opacity: 1;\"/><path class=\"sankey-link\" d=\"M15,288.83895131086143C95,288.83895131086143 95,192.85179240235396 175,192.85179240235396L175,193.21562332798266C95,193.21562332798266 95,289.2027822364901 15,289.2027822364901Z\" style=\"stroke: rgb(76, 127, 130); stroke-opacity: 0.2; fill: rgb(76, 127, 130); fill-opacity: 0.2; stroke-width: 1; opacity: 1;\"/><path class=\"sankey-link\" d=\"M15,158.2236490101661C95,158.2236490101661 95,75.61262707330108 175,75.61262707330108L175,76.14767255216678C95,76.14767255216678 95,158.7586944890318 15,158.7586944890318Z\" style=\"stroke: rgb(196, 183, 187); stroke-opacity: 0.2; fill: rgb(196, 183, 187); fill-opacity: 0.2; stroke-width: 1; opacity: 1;\"/><path class=\"sankey-link\" d=\"M15,319.7003745318352C95,319.7003745318352 95,253.61155698234325 175,253.61155698234325L175,253.91118245050802C95,253.91118245050802 95,320 15,320Z\" style=\"stroke: rgb(95, 129, 190); stroke-opacity: 0.2; fill: rgb(95, 129, 190); fill-opacity: 0.2; stroke-width: 1; opacity: 1;\"/><path class=\"sankey-link\" d=\"M190,221.38041733547325C270,221.38041733547325 270,190.98983413590136 350,190.98983413590136L350,191.65329052969483C270,191.65329052969483 270,222.04387372926672 190,222.04387372926672Z\" style=\"stroke: rgb(121, 95, 94); stroke-opacity: 0.2; fill: rgb(121, 95, 94); fill-opacity: 0.2; stroke-width: 1; opacity: 1;\"/><path class=\"sankey-link\" d=\"M190,222.04387372926672C270,222.04387372926672 270,221.03798822899927 350,221.03798822899927L350,224.31246655965737C270,224.31246655965737 270,225.31835205992482 190,225.31835205992482Z\" style=\"stroke: rgb(68, 68, 68); stroke-opacity: 1; fill: rgb(121, 95, 94); fill-opacity: 0.2; stroke-width: 0; opacity: 1;\"/><path class=\"sankey-link\" d=\"M190,227.1161048689136C270,227.1161048689136 270,317.9882289994649 350,317.9882289994649L350,319.74317817014446C270,319.74317817014446 270,228.87105403959308 190,228.87105403959308Z\" style=\"stroke: rgb(68, 68, 68); stroke-opacity: 1; fill: rgb(121, 95, 94); fill-opacity: 0.2; stroke-width: 0; opacity: 1;\"/><path class=\"sankey-link\" d=\"M190,219.88228999464928C270,219.88228999464928 270,161.13429641519514 350,161.13429641519514L350,162.63242375601914C270,162.63242375601914 270,221.38041733547328 190,221.38041733547328Z\" style=\"stroke: rgb(68, 68, 68); stroke-opacity: 1; fill: rgb(121, 95, 94); fill-opacity: 0.2; stroke-width: 0; opacity: 1;\"/><path class=\"sankey-link\" d=\"M190,226.60246120920252C270,226.60246120920252 270,289.28838951310865 350,289.28838951310865L350,289.80203317281973C270,289.80203317281973 270,227.1161048689136 190,227.1161048689136Z\" style=\"stroke: rgb(121, 95, 94); stroke-opacity: 0.2; fill: rgb(121, 95, 94); fill-opacity: 0.2; stroke-width: 1; opacity: 1;\"/><path class=\"sankey-link\" d=\"M190,225.31835205992482C357.5,225.31835205992482 357.5,255.5222181789381 525,255.5222181789381L525,256.8063273282158C357.5,256.8063273282158 357.5,226.60246120920252 190,226.60246120920252Z\" style=\"stroke: rgb(68, 68, 68); stroke-opacity: 1; fill: rgb(121, 95, 94); fill-opacity: 0.2; stroke-width: 0; opacity: 1;\"/><path class=\"sankey-link\" d=\"M190,150.0695559122523C270,150.0695559122523 270,220.11771000535026 350,220.11771000535026L350,220.6955591225252C270,220.6955591225252 270,150.64740502942723 190,150.64740502942723Z\" style=\"stroke: rgb(218, 168, 29); stroke-opacity: 0.2; fill: rgb(218, 168, 29); fill-opacity: 0.2; stroke-width: 1; opacity: 1;\"/><path class=\"sankey-link\" d=\"M190,150.64740502942726C270,150.64740502942726 270,252.5628678437665 350,252.5628678437665L350,255.85874799357921C270,255.85874799357921 270,153.94328517923998 190,153.94328517923998Z\" style=\"stroke: rgb(68, 68, 68); stroke-opacity: 1; fill: rgb(218, 168, 29); fill-opacity: 0.2; stroke-width: 0; opacity: 1;\"/><path class=\"sankey-link\" d=\"M190,146.516853932584C270,146.516853932584 270,156.42589620117695 350,156.42589620117695L350,159.9785981808452C270,159.9785981808452 270,150.06955591225227 190,150.06955591225227Z\" style=\"stroke: rgb(68, 68, 68); stroke-opacity: 1; fill: rgb(218, 168, 29); fill-opacity: 0.2; stroke-width: 0; opacity: 1;\"/><path class=\"sankey-link\" d=\"M190,154.17870518994093C270,154.17870518994093 270,288.68913857677904 350,288.68913857677904L350,289.2883895131086C270,289.2883895131086 270,154.77795612627054 190,154.77795612627054Z\" style=\"stroke: rgb(218, 168, 29); stroke-opacity: 0.2; fill: rgb(218, 168, 29); fill-opacity: 0.2; stroke-width: 1; opacity: 1;\"/><path class=\"sankey-link\" d=\"M190,153.94328517924C357.5,153.94328517924 357.5,255.28679816823717 525,255.28679816823717L525,255.5222181789381C357.5,255.5222181789381 357.5,154.17870518994093 190,154.17870518994093Z\" style=\"stroke: rgb(218, 168, 29); stroke-opacity: 0.2; fill: rgb(218, 168, 29); fill-opacity: 0.2; stroke-width: 1; opacity: 1;\"/><path class=\"sankey-link\" d=\"M190,61.037988228999325C270,61.037988228999325 270,189.29909042268574 350,189.29909042268574L350,190.36918138041713C270,190.36918138041713 270,62.108079186730734 190,62.108079186730734Z\" style=\"stroke: rgb(68, 68, 68); stroke-opacity: 1; fill: rgb(198, 150, 248); fill-opacity: 0.2; stroke-width: 0; opacity: 1;\"/><path class=\"sankey-link\" d=\"M190,62.108079186730734C270,62.108079186730734 270,218.6409844836809 350,218.6409844836809L350,220.11771000535023C270,220.11771000535023 270,63.58480470840007 190,63.58480470840007Z\" style=\"stroke: rgb(68, 68, 68); stroke-opacity: 1; fill: rgb(198, 150, 248); fill-opacity: 0.2; stroke-width: 0; opacity: 1;\"/><path class=\"sankey-link\" d=\"M190,311.50347779561264C270,311.50347779561264 270,224.7191011235953 350,224.7191011235953L350,224.95452113429621C270,224.95452113429621 270,311.7388978063135 190,311.7388978063135Z\" style=\"stroke: rgb(76, 127, 130); stroke-opacity: 0.2; fill: rgb(76, 127, 130); fill-opacity: 0.2; stroke-width: 1; opacity: 1;\"/><path class=\"sankey-link\" d=\"M190,311.73889780631356C270,311.73889780631356 270,256.45799892990885 350,256.45799892990885L350,261.7656500802566C270,261.7656500802566 270,317.0465489566613 190,317.0465489566613Z\" style=\"stroke: rgb(68, 68, 68); stroke-opacity: 1; fill: rgb(76, 127, 130); fill-opacity: 0.2; stroke-width: 0; opacity: 1;\"/><path class=\"sankey-link\" d=\"M190,317.04654895666135C270,317.04654895666135 270,289.80203317281973 350,289.80203317281973L350,290.187265917603C270,290.187265917603 270,317.4317817014446 190,317.4317817014446Z\" style=\"stroke: rgb(76, 127, 130); stroke-opacity: 0.2; fill: rgb(76, 127, 130); fill-opacity: 0.2; stroke-width: 1; opacity: 1;\"/><path class=\"sankey-link\" d=\"M190,-1.1723955140041653e-13C357.5,-1.1723955140041653e-13 357.5,67.12319133333726 525,67.12319133333726L525,67.76524590797611C357.5,67.76524590797611 357.5,0.6420545746387272 190,0.6420545746387272Z\" style=\"stroke: rgb(136, 229, 134); stroke-opacity: 0.2; fill: rgb(136, 229, 134); fill-opacity: 0.2; stroke-width: 1; opacity: 1;\"/><path class=\"sankey-link\" d=\"M190,106.49545211342945C270,106.49545211342945 270,190.36918138041713 350,190.36918138041713L350,190.6688068485819C270,190.6688068485819 270,106.79507758159426 190,106.79507758159426Z\" style=\"stroke: rgb(196, 233, 73); stroke-opacity: 0.2; fill: rgb(196, 233, 73); fill-opacity: 0.2; stroke-width: 1; opacity: 1;\"/><path class=\"sankey-link\" d=\"M190,108.61423220973764C270,108.61423220973764 270,316.85393258426967 350,316.85393258426967L350,317.5387907972178C270,317.5387907972178 270,109.29909042268575 190,109.29909042268575Z\" style=\"stroke: rgb(196, 233, 73); stroke-opacity: 0.2; fill: rgb(196, 233, 73); fill-opacity: 0.2; stroke-width: 1; opacity: 1;\"/><path class=\"sankey-link\" d=\"M190,104.14125200642036C357.5,104.14125200642036 357.5,141.04388752083213 525,141.04388752083213L525,143.39808762784122C357.5,143.39808762784122 357.5,106.49545211342945 190,106.49545211342945Z\" style=\"stroke: rgb(68, 68, 68); stroke-opacity: 1; fill: rgb(196, 233, 73); fill-opacity: 0.2; stroke-width: 0; opacity: 1;\"/><path class=\"sankey-link\" d=\"M190,106.79507758159424C270,106.79507758159424 270,251.62118780096287 350,251.62118780096287L350,252.5628678437665C270,252.5628678437665 270,107.73675762439787 190,107.73675762439787Z\" style=\"stroke: rgb(196, 233, 73); stroke-opacity: 0.2; fill: rgb(196, 233, 73); fill-opacity: 0.2; stroke-width: 1; opacity: 1;\"/><path class=\"sankey-link\" d=\"M190,108.3574103798821C270,108.3574103798821 270,288.4323167469235 350,288.4323167469235L350,288.68913857677904C270,288.68913857677904 270,108.61423220973764 190,108.61423220973764Z\" style=\"stroke: rgb(196, 233, 73); stroke-opacity: 0.2; fill: rgb(196, 233, 73); fill-opacity: 0.2; stroke-width: 1; opacity: 1;\"/><path class=\"sankey-link\" d=\"M190,107.73675762439788C357.5,107.73675762439788 357.5,254.66614541275294 525,254.66614541275294L525,255.28679816823717C357.5,255.28679816823717 357.5,108.35741037988211 190,108.35741037988211Z\" style=\"stroke: rgb(196, 233, 73); stroke-opacity: 0.2; fill: rgb(196, 233, 73); fill-opacity: 0.2; stroke-width: 1; opacity: 1;\"/><path class=\"sankey-link\" d=\"M190,103.82022471910093C357.5,103.82022471910093 357.5,68.25748774853255 525,68.25748774853255L525,68.57851503585198C357.5,68.57851503585198 357.5,104.14125200642036 190,104.14125200642036Z\" style=\"stroke: rgb(196, 233, 73); stroke-opacity: 0.2; fill: rgb(196, 233, 73); fill-opacity: 0.2; stroke-width: 1; opacity: 1;\"/><path class=\"sankey-link\" d=\"M190,188.14339218833575C270,188.14339218833575 270,190.66880684858194 350,190.66880684858194L350,190.98983413590133C270,190.98983413590133 270,188.46441947565515 190,188.46441947565515Z\" style=\"stroke: rgb(61, 214, 94); stroke-opacity: 0.2; fill: rgb(61, 214, 94); fill-opacity: 0.2; stroke-width: 1; opacity: 1;\"/><path class=\"sankey-link\" d=\"M190,188.46441947565518C270,188.46441947565518 270,220.69555912252522 350,220.69555912252522L350,221.0379882289993C270,221.0379882289993 270,188.80684858212925 190,188.80684858212925Z\" style=\"stroke: rgb(61, 214, 94); stroke-opacity: 0.2; fill: rgb(61, 214, 94); fill-opacity: 0.2; stroke-width: 1; opacity: 1;\"/><path class=\"sankey-link\" d=\"M190,189.4060995184588C270,189.4060995184588 270,317.53879079721776 350,317.53879079721776L350,317.9882289994649C270,317.9882289994649 270,189.85553772070597 190,189.85553772070597Z\" style=\"stroke: rgb(61, 214, 94); stroke-opacity: 0.2; fill: rgb(61, 214, 94); fill-opacity: 0.2; stroke-width: 1; opacity: 1;\"/><path class=\"sankey-link\" d=\"M190,188.80684858212922C270,188.80684858212922 270,255.85874799357921 350,255.85874799357921L350,256.4579989299088C270,256.4579989299088 270,189.40609951845883 190,189.40609951845883Z\" style=\"stroke: rgb(61, 214, 94); stroke-opacity: 0.2; fill: rgb(61, 214, 94); fill-opacity: 0.2; stroke-width: 1; opacity: 1;\"/><path class=\"sankey-link\" d=\"M190,186.98769395398583C270,186.98769395398583 270,159.97859818084524 350,159.97859818084524L350,161.13429641519517C270,161.13429641519517 270,188.14339218833575 190,188.14339218833575Z\" style=\"stroke: rgb(68, 68, 68); stroke-opacity: 1; fill: rgb(61, 214, 94); fill-opacity: 0.2; stroke-width: 0; opacity: 1;\"/><path class=\"sankey-link\" d=\"M190,280.57784911717494C270,280.57784911717494 270,224.31246655965737 350,224.31246655965737L350,224.7191011235953C270,224.7191011235953 270,280.98448368111286 190,280.98448368111286Z\" style=\"stroke: rgb(95, 129, 190); stroke-opacity: 0.2; fill: rgb(95, 129, 190); fill-opacity: 0.2; stroke-width: 1; opacity: 1;\"/><path class=\"sankey-link\" d=\"M190,280.98448368111286C270,280.98448368111286 270,319.7431781701444 350,319.7431781701444L350,319.99999999999994C270,319.99999999999994 270,281.2413055109684 190,281.2413055109684Z\" style=\"stroke: rgb(95, 129, 190); stroke-opacity: 0.2; fill: rgb(95, 129, 190); fill-opacity: 0.2; stroke-width: 1; opacity: 1;\"/><path class=\"sankey-link\" d=\"M190,31.139646869983817C270,31.139646869983817 270,218.31995719636149 350,218.31995719636149L350,218.64098448368088C270,218.64098448368088 270,31.46067415730324 190,31.46067415730324Z\" style=\"stroke: rgb(196, 183, 187); stroke-opacity: 0.2; fill: rgb(196, 183, 187); fill-opacity: 0.2; stroke-width: 1; opacity: 1;\"/><path class=\"sankey-link\" d=\"M190,30.626003210272742C270,30.626003210272742 270,155.91225254146588 350,155.91225254146588L350,156.42589620117695C270,156.42589620117695 270,31.13964686998382 190,31.13964686998382Z\" style=\"stroke: rgb(196, 183, 187); stroke-opacity: 0.2; fill: rgb(196, 183, 187); fill-opacity: 0.2; stroke-width: 1; opacity: 1;\"/><path class=\"sankey-link\" d=\"M190,30.133761369716296C357.5,30.133761369716296 357.5,67.76524590797611 525,67.76524590797611L525,68.25748774853257C357.5,68.25748774853257 357.5,30.626003210272742 190,30.626003210272742Z\" style=\"stroke: rgb(196, 183, 187); stroke-opacity: 0.2; fill: rgb(196, 183, 187); fill-opacity: 0.2; stroke-width: 1; opacity: 1;\"/><path class=\"sankey-link\" d=\"M365,189.29909042268574C445,189.29909042268574 445,199.89889019605948 525,199.89889019605948L525,200.17711384506964C445,200.17711384506964 445,189.5773140716959 365,189.5773140716959Z\" style=\"stroke: rgb(196, 183, 187); stroke-opacity: 0.2; fill: rgb(196, 183, 187); fill-opacity: 0.2; stroke-width: 1; opacity: 1;\"/><path class=\"sankey-link\" d=\"M365,218.31995719636149C445,218.31995719636149 445,227.4216296289113 525,227.4216296289113L525,227.99947874608623C445,227.99947874608623 445,218.89780631353642 365,218.89780631353642Z\" style=\"stroke: rgb(196, 233, 73); stroke-opacity: 0.2; fill: rgb(196, 233, 73); fill-opacity: 0.2; stroke-width: 1; opacity: 1;\"/><path class=\"sankey-link\" d=\"M365,316.85393258426967C445,316.85393258426967 445,311.91601165138314 525,311.91601165138314L525,312.40825349193955C445,312.40825349193955 445,317.3461744248261 365,317.3461744248261Z\" style=\"stroke: rgb(218, 168, 29); stroke-opacity: 0.2; fill: rgb(218, 168, 29); fill-opacity: 0.2; stroke-width: 1; opacity: 1;\"/><path class=\"sankey-link\" d=\"M365,251.62118780096287C445,251.62118780096287 445,200.17711384506964 525,200.17711384506964L525,200.75496296224458C445,200.75496296224458 445,252.1990369181378 365,252.1990369181378Z\" style=\"stroke: rgb(121, 95, 94); stroke-opacity: 0.2; fill: rgb(121, 95, 94); fill-opacity: 0.2; stroke-width: 1; opacity: 1;\"/><path class=\"sankey-link\" d=\"M365,252.64847512038503C445,252.64847512038503 445,310.86732251280637 525,310.86732251280637L525,311.38096617251745C445,311.38096617251745 445,253.1621187800961 365,253.1621187800961Z\" style=\"stroke: rgb(121, 95, 94); stroke-opacity: 0.2; fill: rgb(121, 95, 94); fill-opacity: 0.2; stroke-width: 1; opacity: 1;\"/><path class=\"sankey-link\" d=\"M365,252.19903691813784C445,252.19903691813784 445,283.7512176438926 525,283.7512176438926L525,284.20065584613974C445,284.20065584613974 445,252.648475120385 365,252.648475120385Z\" style=\"stroke: rgb(121, 95, 94); stroke-opacity: 0.2; fill: rgb(121, 95, 94); fill-opacity: 0.2; stroke-width: 1; opacity: 1;\"/><path class=\"sankey-link\" d=\"M365,158.80149812734066C445,158.80149812734066 445,199.62066654704932 525,199.62066654704932L525,199.89889019605948C445,199.89889019605948 445,159.07972177635082 365,159.07972177635082Z\" style=\"stroke: rgb(76, 127, 130); stroke-opacity: 0.2; fill: rgb(76, 127, 130); fill-opacity: 0.2; stroke-width: 1; opacity: 1;\"/><path class=\"sankey-link\" d=\"M365,155.91225254146588C445,155.91225254146588 445,170.06475429450788 525,170.06475429450788L525,172.95399988038267C445,172.95399988038267 445,158.80149812734066 365,158.80149812734066Z\" style=\"stroke: rgb(68, 68, 68); stroke-opacity: 1; fill: rgb(76, 127, 130); fill-opacity: 0.2; stroke-width: 0; opacity: 1;\"/><path class=\"sankey-link\" d=\"M365,159.07972177635082C445,159.07972177635082 445,283.4729939948824 525,283.4729939948824L525,283.75121764389263C445,283.75121764389263 445,159.35794542536098 365,159.35794542536098Z\" style=\"stroke: rgb(76, 127, 130); stroke-opacity: 0.2; fill: rgb(76, 127, 130); fill-opacity: 0.2; stroke-width: 1; opacity: 1;\"/><path class=\"sankey-link\" d=\"M365,288.4323167469235C445,288.4323167469235 445,311.38096617251745 525,311.38096617251745L525,311.9160116513832C445,311.9160116513832 445,288.96736222578926 365,288.96736222578926Z\" style=\"stroke: rgb(61, 214, 94); stroke-opacity: 0.2; fill: rgb(61, 214, 94); fill-opacity: 0.2; stroke-width: 1; opacity: 1;\"/></g><g class=\"sankey-node-set\" style=\"cursor: move;\"><g class=\"sankey-node\" transform=\"translate(0.000,185.425)\" style=\"opacity: 1;\"><rect class=\"node-rect\" width=\"15\" height=\"24.16265382557515\" style=\"stroke-width: 0.1; stroke: rgb(0, 0, 0); stroke-opacity: 1; fill: rgb(121, 95, 94); fill-opacity: 1;\"/><text class=\"node-label\" data-notex=\"1\" x=\"0\" y=\"0\" text-anchor=\"start\" transform=\"translate(18.05,15.581326912787574)\" style=\"cursor: default; font-family: 'Open Sans', verdana, arial, sans-serif; font-size: 10px; fill: rgb(42, 63, 95); fill-opacity: 1; white-space: pre; text-shadow: white 1px 1px 1px, white -1px -1px 1px, white 1px -1px 1px, white -1px 1px 1px;\">tips_show</text></g><g class=\"sankey-node\" transform=\"translate(0.000,236.255)\" style=\"opacity: 1;\"><rect class=\"node-rect\" width=\"15\" height=\"24.54788657035823\" style=\"stroke-width: 0.1; stroke: rgb(0, 0, 0); stroke-opacity: 1; fill: rgb(218, 168, 29); fill-opacity: 1;\"/><text class=\"node-label\" data-notex=\"1\" x=\"0\" y=\"0\" text-anchor=\"start\" transform=\"translate(18.05,15.773943285179115)\" style=\"cursor: default; font-family: 'Open Sans', verdana, arial, sans-serif; font-size: 10px; fill: rgb(42, 63, 95); fill-opacity: 1; white-space: pre; text-shadow: white 1px 1px 1px, white -1px -1px 1px, white 1px -1px 1px, white -1px 1px 1px;\">map</text></g><g class=\"sankey-node\" transform=\"translate(0.000,94.510)\" style=\"opacity: 1;\"><rect class=\"node-rect\" width=\"15\" height=\"37.0465489566613\" style=\"stroke-width: 0.1; stroke: rgb(0, 0, 0); stroke-opacity: 1; fill: rgb(61, 214, 94); fill-opacity: 1;\"/><text class=\"node-label\" data-notex=\"1\" x=\"0\" y=\"0\" text-anchor=\"start\" transform=\"translate(18.05,22.02327447833065)\" style=\"cursor: default; font-family: 'Open Sans', verdana, arial, sans-serif; font-size: 10px; fill: rgb(42, 63, 95); fill-opacity: 1; white-space: pre; text-shadow: white 1px 1px 1px, white -1px -1px 1px, white 1px -1px 1px, white -1px 1px 1px;\">search</text></g><g class=\"sankey-node\" transform=\"translate(0.000,60.353)\" style=\"opacity: 1;\"><rect class=\"node-rect\" width=\"15\" height=\"7.4906367041195026\" style=\"stroke-width: 0.1; stroke: rgb(0, 0, 0); stroke-opacity: 1; fill: rgb(198, 150, 248); fill-opacity: 1;\"/><text class=\"node-label\" data-notex=\"1\" x=\"0\" y=\"0\" text-anchor=\"start\" transform=\"translate(18.05,7.245318352059751)\" style=\"cursor: default; font-family: 'Open Sans', verdana, arial, sans-serif; font-size: 10px; fill: rgb(42, 63, 95); fill-opacity: 1; white-space: pre; text-shadow: white 1px 1px 1px, white -1px -1px 1px, white 1px -1px 1px, white -1px 1px 1px;\">photos_show</text></g><g class=\"sankey-node\" transform=\"translate(0.000,26.667)\" style=\"opacity: 1;\"><rect class=\"node-rect\" width=\"15\" height=\"7.01979668271801\" style=\"stroke-width: 0.1; stroke: rgb(0, 0, 0); stroke-opacity: 1; fill: rgb(196, 233, 73); fill-opacity: 1;\"/><text class=\"node-label\" data-notex=\"1\" x=\"0\" y=\"0\" text-anchor=\"start\" transform=\"translate(18.05,7.009898341359005)\" style=\"cursor: default; font-family: 'Open Sans', verdana, arial, sans-serif; font-size: 10px; fill: rgb(42, 63, 95); fill-opacity: 1; white-space: pre; text-shadow: white 1px 1px 1px, white -1px -1px 1px, white 1px -1px 1px, white -1px 1px 1px;\">contacts_show</text></g><g class=\"sankey-node\" transform=\"translate(0.000,287.469)\" style=\"opacity: 1;\"><rect class=\"node-rect\" width=\"15\" height=\"5.564472980203334\" style=\"stroke-width: 0.1; stroke: rgb(0, 0, 0); stroke-opacity: 1; fill: rgb(76, 127, 130); fill-opacity: 1;\"/><text class=\"node-label\" data-notex=\"1\" x=\"0\" y=\"0\" text-anchor=\"start\" transform=\"translate(18.05,6.282236490101667)\" style=\"cursor: default; font-family: 'Open Sans', verdana, arial, sans-serif; font-size: 10px; fill: rgb(42, 63, 95); fill-opacity: 1; white-space: pre; text-shadow: white 1px 1px 1px, white -1px -1px 1px, white 1px -1px 1px, white -1px 1px 1px;\">advert_open</text></g><g class=\"sankey-node\" transform=\"translate(0.000,158.224)\" style=\"opacity: 1;\"><rect class=\"node-rect\" width=\"15\" height=\"0.5350454788656975\" style=\"stroke-width: 0.1; stroke: rgb(0, 0, 0); stroke-opacity: 1; fill: rgb(196, 183, 187); fill-opacity: 1;\"/><text class=\"node-label\" data-notex=\"1\" x=\"0\" y=\"0\" text-anchor=\"start\" transform=\"translate(18.05,3.7675227394328488)\" style=\"cursor: default; font-family: 'Open Sans', verdana, arial, sans-serif; font-size: 10px; fill: rgb(42, 63, 95); fill-opacity: 1; white-space: pre; text-shadow: white 1px 1px 1px, white -1px -1px 1px, white 1px -1px 1px, white -1px 1px 1px;\">favorites_add</text></g><g class=\"sankey-node\" transform=\"translate(0.000,319.700)\" style=\"opacity: 1;\"><rect class=\"node-rect\" width=\"15\" height=\"0.5\" style=\"stroke-width: 0.1; stroke: rgb(0, 0, 0); stroke-opacity: 1; fill: rgb(95, 129, 190); fill-opacity: 1;\"/><text class=\"node-label\" data-notex=\"1\" x=\"0\" y=\"0\" text-anchor=\"start\" transform=\"translate(18.05,3.75)\" style=\"cursor: default; font-family: 'Open Sans', verdana, arial, sans-serif; font-size: 10px; fill: rgb(42, 63, 95); fill-opacity: 1; white-space: pre; text-shadow: white 1px 1px 1px, white -1px -1px 1px, white 1px -1px 1px, white -1px 1px 1px;\">tips_click</text></g><g class=\"sankey-node\" transform=\"translate(175.000,219.882)\" style=\"opacity: 1;\"><rect class=\"node-rect\" width=\"15\" height=\"34.028892455858966\" style=\"stroke-width: 0.1; stroke: rgb(0, 0, 0); stroke-opacity: 1; fill: rgb(121, 95, 94); fill-opacity: 1;\"/><text class=\"node-label\" data-notex=\"1\" x=\"0\" y=\"0\" text-anchor=\"start\" transform=\"translate(18.05,20.514446227929483)\" style=\"cursor: default; font-family: 'Open Sans', verdana, arial, sans-serif; font-size: 10px; fill: rgb(42, 63, 95); fill-opacity: 1; white-space: pre; text-shadow: white 1px 1px 1px, white -1px -1px 1px, white 1px -1px 1px, white -1px 1px 1px;\">tips_show</text></g><g class=\"sankey-node\" transform=\"translate(175.000,146.517)\" style=\"opacity: 1;\"><rect class=\"node-rect\" width=\"15\" height=\"13.804173354735155\" style=\"stroke-width: 0.1; stroke: rgb(0, 0, 0); stroke-opacity: 1; fill: rgb(218, 168, 29); fill-opacity: 1;\"/><text class=\"node-label\" data-notex=\"1\" x=\"0\" y=\"0\" text-anchor=\"start\" transform=\"translate(18.05,10.402086677367578)\" style=\"cursor: default; font-family: 'Open Sans', verdana, arial, sans-serif; font-size: 10px; fill: rgb(42, 63, 95); fill-opacity: 1; white-space: pre; text-shadow: white 1px 1px 1px, white -1px -1px 1px, white 1px -1px 1px, white -1px 1px 1px;\">map</text></g><g class=\"sankey-node\" transform=\"translate(175.000,61.038)\" style=\"opacity: 1;\"><rect class=\"node-rect\" width=\"15\" height=\"16.115569823434953\" style=\"stroke-width: 0.1; stroke: rgb(0, 0, 0); stroke-opacity: 1; fill: rgb(198, 150, 248); fill-opacity: 1;\"/><text class=\"node-label\" data-notex=\"1\" x=\"0\" y=\"0\" text-anchor=\"start\" transform=\"translate(18.05,11.557784911717476)\" style=\"cursor: default; font-family: 'Open Sans', verdana, arial, sans-serif; font-size: 10px; fill: rgb(42, 63, 95); fill-opacity: 1; white-space: pre; text-shadow: white 1px 1px 1px, white -1px -1px 1px, white 1px -1px 1px, white -1px 1px 1px;\">photos_show</text></g><g class=\"sankey-node\" transform=\"translate(175.000,311.503)\" style=\"opacity: 1;\"><rect class=\"node-rect\" width=\"15\" height=\"8.496522204387361\" style=\"stroke-width: 0.1; stroke: rgb(0, 0, 0); stroke-opacity: 1; fill: rgb(76, 127, 130); fill-opacity: 1;\"/><text class=\"node-label\" data-notex=\"1\" x=\"0\" y=\"0\" text-anchor=\"start\" transform=\"translate(18.05,7.7482611021936805)\" style=\"cursor: default; font-family: 'Open Sans', verdana, arial, sans-serif; font-size: 10px; fill: rgb(42, 63, 95); fill-opacity: 1; white-space: pre; text-shadow: white 1px 1px 1px, white -1px -1px 1px, white 1px -1px 1px, white -1px 1px 1px;\">advert_open</text></g><g class=\"sankey-node\" transform=\"translate(175.000,-0.000)\" style=\"opacity: 1;\"><rect class=\"node-rect\" width=\"15\" height=\"3.467094703049753\" style=\"stroke-width: 0.1; stroke: rgb(0, 0, 0); stroke-opacity: 1; fill: rgb(136, 229, 134); fill-opacity: 1;\"/><text class=\"node-label\" data-notex=\"1\" x=\"0\" y=\"0\" text-anchor=\"start\" transform=\"translate(18.05,5.2335473515248765)\" style=\"cursor: default; font-family: 'Open Sans', verdana, arial, sans-serif; font-size: 10px; fill: rgb(42, 63, 95); fill-opacity: 1; white-space: pre; text-shadow: white 1px 1px 1px, white -1px -1px 1px, white 1px -1px 1px, white -1px 1px 1px;\">contacts_call</text></g><g class=\"sankey-node\" transform=\"translate(175.000,103.820)\" style=\"opacity: 1;\"><rect class=\"node-rect\" width=\"15\" height=\"16.02996254681642\" style=\"stroke-width: 0.1; stroke: rgb(0, 0, 0); stroke-opacity: 1; fill: rgb(196, 233, 73); fill-opacity: 1;\"/><text class=\"node-label\" data-notex=\"1\" x=\"0\" y=\"0\" text-anchor=\"start\" transform=\"translate(18.05,11.51498127340821)\" style=\"cursor: default; font-family: 'Open Sans', verdana, arial, sans-serif; font-size: 10px; fill: rgb(42, 63, 95); fill-opacity: 1; white-space: pre; text-shadow: white 1px 1px 1px, white -1px -1px 1px, white 1px -1px 1px, white -1px 1px 1px;\">contacts_show</text></g><g class=\"sankey-node\" transform=\"translate(175.000,186.988)\" style=\"opacity: 1;\"><rect class=\"node-rect\" width=\"15\" height=\"6.227929373996801\" style=\"stroke-width: 0.1; stroke: rgb(0, 0, 0); stroke-opacity: 1; fill: rgb(61, 214, 94); fill-opacity: 1;\"/><text class=\"node-label\" data-notex=\"1\" x=\"0\" y=\"0\" text-anchor=\"start\" transform=\"translate(18.05,6.613964686998401)\" style=\"cursor: default; font-family: 'Open Sans', verdana, arial, sans-serif; font-size: 10px; fill: rgb(42, 63, 95); fill-opacity: 1; white-space: pre; text-shadow: white 1px 1px 1px, white -1px -1px 1px, white 1px -1px 1px, white -1px 1px 1px;\">search</text></g><g class=\"sankey-node\" transform=\"translate(175.000,280.578)\" style=\"opacity: 1;\"><rect class=\"node-rect\" width=\"15\" height=\"4.258962011771018\" style=\"stroke-width: 0.1; stroke: rgb(0, 0, 0); stroke-opacity: 1; fill: rgb(95, 129, 190); fill-opacity: 1;\"/><text class=\"node-label\" data-notex=\"1\" x=\"0\" y=\"0\" text-anchor=\"start\" transform=\"translate(18.05,5.629481005885509)\" style=\"cursor: default; font-family: 'Open Sans', verdana, arial, sans-serif; font-size: 10px; fill: rgb(42, 63, 95); fill-opacity: 1; white-space: pre; text-shadow: white 1px 1px 1px, white -1px -1px 1px, white 1px -1px 1px, white -1px 1px 1px;\">tips_click</text></g><g class=\"sankey-node\" transform=\"translate(175.000,30.134)\" style=\"opacity: 1;\"><rect class=\"node-rect\" width=\"15\" height=\"4.237560192616371\" style=\"stroke-width: 0.1; stroke: rgb(0, 0, 0); stroke-opacity: 1; fill: rgb(196, 183, 187); fill-opacity: 1;\"/><text class=\"node-label\" data-notex=\"1\" x=\"0\" y=\"0\" text-anchor=\"start\" transform=\"translate(18.05,5.6187800963081855)\" style=\"cursor: default; font-family: 'Open Sans', verdana, arial, sans-serif; font-size: 10px; fill: rgb(42, 63, 95); fill-opacity: 1; white-space: pre; text-shadow: white 1px 1px 1px, white -1px -1px 1px, white 1px -1px 1px, white -1px 1px 1px;\">favorites_add</text></g><g class=\"sankey-node\" transform=\"translate(350.000,189.299)\" style=\"opacity: 1;\"><rect class=\"node-rect\" width=\"15\" height=\"2.354200107009092\" style=\"stroke-width: 0.1; stroke: rgb(0, 0, 0); stroke-opacity: 1; fill: rgb(196, 183, 187); fill-opacity: 1;\"/><text class=\"node-label\" data-notex=\"1\" x=\"0\" y=\"0\" text-anchor=\"start\" transform=\"translate(18.05,4.677100053504546)\" style=\"cursor: default; font-family: 'Open Sans', verdana, arial, sans-serif; font-size: 10px; fill: rgb(42, 63, 95); fill-opacity: 1; white-space: pre; text-shadow: white 1px 1px 1px, white -1px -1px 1px, white 1px -1px 1px, white -1px 1px 1px;\">favorites_add</text></g><g class=\"sankey-node\" transform=\"translate(350.000,218.320)\" style=\"opacity: 1;\"><rect class=\"node-rect\" width=\"15\" height=\"6.634563937934729\" style=\"stroke-width: 0.1; stroke: rgb(0, 0, 0); stroke-opacity: 1; fill: rgb(196, 233, 73); fill-opacity: 1;\"/><text class=\"node-label\" data-notex=\"1\" x=\"0\" y=\"0\" text-anchor=\"start\" transform=\"translate(18.05,6.8172819689673645)\" style=\"cursor: default; font-family: 'Open Sans', verdana, arial, sans-serif; font-size: 10px; fill: rgb(42, 63, 95); fill-opacity: 1; white-space: pre; text-shadow: white 1px 1px 1px, white -1px -1px 1px, white 1px -1px 1px, white -1px 1px 1px;\">contacts_show</text></g><g class=\"sankey-node\" transform=\"translate(350.000,316.854)\" style=\"opacity: 1;\"><rect class=\"node-rect\" width=\"15\" height=\"3.1460674157303288\" style=\"stroke-width: 0.1; stroke: rgb(0, 0, 0); stroke-opacity: 1; fill: rgb(218, 168, 29); fill-opacity: 1;\"/><text class=\"node-label\" data-notex=\"1\" x=\"0\" y=\"0\" text-anchor=\"start\" transform=\"translate(18.05,5.073033707865164)\" style=\"cursor: default; font-family: 'Open Sans', verdana, arial, sans-serif; font-size: 10px; fill: rgb(42, 63, 95); fill-opacity: 1; white-space: pre; text-shadow: white 1px 1px 1px, white -1px -1px 1px, white 1px -1px 1px, white -1px 1px 1px;\">map</text></g><g class=\"sankey-node\" transform=\"translate(525.000,141.044)\" style=\"opacity: 1;\"><rect class=\"node-rect\" width=\"15\" height=\"2.354200107009092\" style=\"stroke-width: 0.1; stroke: rgb(0, 0, 0); stroke-opacity: 1; fill: rgb(136, 229, 134); fill-opacity: 1;\"/><text class=\"node-label\" data-notex=\"1\" x=\"0\" y=\"0\" text-anchor=\"end\" transform=\"translate(-3.05,4.677100053504546)\" style=\"cursor: default; font-family: 'Open Sans', verdana, arial, sans-serif; font-size: 10px; fill: rgb(42, 63, 95); fill-opacity: 1; white-space: pre; text-shadow: white 1px 1px 1px, white -1px -1px 1px, white 1px -1px 1px, white -1px 1px 1px;\">contacts_call</text></g><g class=\"sankey-node\" transform=\"translate(350.000,251.621)\" style=\"opacity: 1;\"><rect class=\"node-rect\" width=\"15\" height=\"10.144462279293947\" style=\"stroke-width: 0.1; stroke: rgb(0, 0, 0); stroke-opacity: 1; fill: rgb(121, 95, 94); fill-opacity: 1;\"/><text class=\"node-label\" data-notex=\"1\" x=\"0\" y=\"0\" text-anchor=\"start\" transform=\"translate(18.05,8.572231139646973)\" style=\"cursor: default; font-family: 'Open Sans', verdana, arial, sans-serif; font-size: 10px; fill: rgb(42, 63, 95); fill-opacity: 1; white-space: pre; text-shadow: white 1px 1px 1px, white -1px -1px 1px, white 1px -1px 1px, white -1px 1px 1px;\">tips_show</text></g><g class=\"sankey-node\" transform=\"translate(350.000,155.912)\" style=\"opacity: 1;\"><rect class=\"node-rect\" width=\"15\" height=\"6.720171214553204\" style=\"stroke-width: 0.1; stroke: rgb(0, 0, 0); stroke-opacity: 1; fill: rgb(76, 127, 130); fill-opacity: 1;\"/><text class=\"node-label\" data-notex=\"1\" x=\"0\" y=\"0\" text-anchor=\"start\" transform=\"translate(18.05,6.860085607276602)\" style=\"cursor: default; font-family: 'Open Sans', verdana, arial, sans-serif; font-size: 10px; fill: rgb(42, 63, 95); fill-opacity: 1; white-space: pre; text-shadow: white 1px 1px 1px, white -1px -1px 1px, white 1px -1px 1px, white -1px 1px 1px;\">advert_open</text></g><g class=\"sankey-node\" transform=\"translate(350.000,288.432)\" style=\"opacity: 1;\"><rect class=\"node-rect\" width=\"15\" height=\"1.754949170679481\" style=\"stroke-width: 0.1; stroke: rgb(0, 0, 0); stroke-opacity: 1; fill: rgb(61, 214, 94); fill-opacity: 1;\"/><text class=\"node-label\" data-notex=\"1\" x=\"0\" y=\"0\" text-anchor=\"start\" transform=\"translate(18.05,4.3774745853397405)\" style=\"cursor: default; font-family: 'Open Sans', verdana, arial, sans-serif; font-size: 10px; fill: rgb(42, 63, 95); fill-opacity: 1; white-space: pre; text-shadow: white 1px 1px 1px, white -1px -1px 1px, white 1px -1px 1px, white -1px 1px 1px;\">search</text></g><g class=\"sankey-node\" transform=\"translate(525.000,254.666)\" style=\"opacity: 1;\"><rect class=\"node-rect\" width=\"15\" height=\"2.14018191546279\" style=\"stroke-width: 0.1; stroke: rgb(0, 0, 0); stroke-opacity: 1; fill: rgb(95, 129, 190); fill-opacity: 1;\"/><text class=\"node-label\" data-notex=\"1\" x=\"0\" y=\"0\" text-anchor=\"end\" transform=\"translate(-3.05,4.570090957731395)\" style=\"cursor: default; font-family: 'Open Sans', verdana, arial, sans-serif; font-size: 10px; fill: rgb(42, 63, 95); fill-opacity: 1; white-space: pre; text-shadow: white 1px 1px 1px, white -1px -1px 1px, white 1px -1px 1px, white -1px 1px 1px;\">tips_click</text></g><g class=\"sankey-node\" transform=\"translate(525.000,67.123)\" style=\"opacity: 1;\"><rect class=\"node-rect\" width=\"15\" height=\"1.455323702514704\" style=\"stroke-width: 0.1; stroke: rgb(0, 0, 0); stroke-opacity: 1; fill: rgb(198, 150, 248); fill-opacity: 1;\"/><text class=\"node-label\" data-notex=\"1\" x=\"0\" y=\"0\" text-anchor=\"end\" transform=\"translate(-3.05,4.227661851257352)\" style=\"cursor: default; font-family: 'Open Sans', verdana, arial, sans-serif; font-size: 10px; fill: rgb(42, 63, 95); fill-opacity: 1; white-space: pre; text-shadow: white 1px 1px 1px, white -1px -1px 1px, white 1px -1px 1px, white -1px 1px 1px;\">photos_show</text></g><g class=\"sankey-node\" transform=\"translate(525.000,199.621)\" style=\"opacity: 1;\"><rect class=\"node-rect\" width=\"15\" height=\"1.1342964151953083\" style=\"stroke-width: 0.1; stroke: rgb(0, 0, 0); stroke-opacity: 1; fill: rgb(196, 233, 73); fill-opacity: 1;\"/><text class=\"node-label\" data-notex=\"1\" x=\"0\" y=\"0\" text-anchor=\"end\" transform=\"translate(-3.05,4.067148207597654)\" style=\"cursor: default; font-family: 'Open Sans', verdana, arial, sans-serif; font-size: 10px; fill: rgb(42, 63, 95); fill-opacity: 1; white-space: pre; text-shadow: white 1px 1px 1px, white -1px -1px 1px, white 1px -1px 1px, white -1px 1px 1px;\">contacts_show</text></g><g class=\"sankey-node\" transform=\"translate(525.000,227.422)\" style=\"opacity: 1;\"><rect class=\"node-rect\" width=\"15\" height=\"0.577849117174992\" style=\"stroke-width: 0.1; stroke: rgb(0, 0, 0); stroke-opacity: 1; fill: rgb(136, 229, 134); fill-opacity: 1;\"/><text class=\"node-label\" data-notex=\"1\" x=\"0\" y=\"0\" text-anchor=\"end\" transform=\"translate(-3.05,3.788924558587496)\" style=\"cursor: default; font-family: 'Open Sans', verdana, arial, sans-serif; font-size: 10px; fill: rgb(42, 63, 95); fill-opacity: 1; white-space: pre; text-shadow: white 1px 1px 1px, white -1px -1px 1px, white 1px -1px 1px, white -1px 1px 1px;\">contacts_call</text></g><g class=\"sankey-node\" transform=\"translate(525.000,310.867)\" style=\"opacity: 1;\"><rect class=\"node-rect\" width=\"15\" height=\"1.5409309791332362\" style=\"stroke-width: 0.1; stroke: rgb(0, 0, 0); stroke-opacity: 1; fill: rgb(76, 127, 130); fill-opacity: 1;\"/><text class=\"node-label\" data-notex=\"1\" x=\"0\" y=\"0\" text-anchor=\"end\" transform=\"translate(-3.05,4.270465489566618)\" style=\"cursor: default; font-family: 'Open Sans', verdana, arial, sans-serif; font-size: 10px; fill: rgb(42, 63, 95); fill-opacity: 1; white-space: pre; text-shadow: white 1px 1px 1px, white -1px -1px 1px, white 1px -1px 1px, white -1px 1px 1px;\">advert_open</text></g><g class=\"sankey-node\" transform=\"translate(525.000,170.065)\" style=\"opacity: 1;\"><rect class=\"node-rect\" width=\"15\" height=\"2.8892455858747894\" style=\"stroke-width: 0.1; stroke: rgb(0, 0, 0); stroke-opacity: 1; fill: rgb(121, 95, 94); fill-opacity: 1;\"/><text class=\"node-label\" data-notex=\"1\" x=\"0\" y=\"0\" text-anchor=\"end\" transform=\"translate(-3.05,4.944622792937395)\" style=\"cursor: default; font-family: 'Open Sans', verdana, arial, sans-serif; font-size: 10px; fill: rgb(42, 63, 95); fill-opacity: 1; white-space: pre; text-shadow: white 1px 1px 1px, white -1px -1px 1px, white 1px -1px 1px, white -1px 1px 1px;\">tips_show</text></g><g class=\"sankey-node\" transform=\"translate(525.000,283.473)\" style=\"opacity: 1;\"><rect class=\"node-rect\" width=\"15\" height=\"0.7276618512572668\" style=\"stroke-width: 0.1; stroke: rgb(0, 0, 0); stroke-opacity: 1; fill: rgb(61, 214, 94); fill-opacity: 1;\"/><text class=\"node-label\" data-notex=\"1\" x=\"0\" y=\"0\" text-anchor=\"end\" transform=\"translate(-3.05,3.8638309256286334)\" style=\"cursor: default; font-family: 'Open Sans', verdana, arial, sans-serif; font-size: 10px; fill: rgb(42, 63, 95); fill-opacity: 1; white-space: pre; text-shadow: white 1px 1px 1px, white -1px -1px 1px, white 1px -1px 1px, white -1px 1px 1px;\">search</text></g></g></g><defs id=\"topdefs-23e54f\"><g class=\"clips\"/></defs><g class=\"layer-above\"><g class=\"imagelayer\"/><g class=\"shapelayer\"/></g><g class=\"infolayer\"><g class=\"g-gtitle\"><text class=\"gtitle\" x=\"35\" y=\"50\" text-anchor=\"start\" dy=\"0em\" style=\"font-family: 'Open Sans', verdana, arial, sans-serif; font-size: 14px; fill: rgb(42, 63, 95); opacity: 1; font-weight: normal; white-space: pre;\">Sankey Diagram</text></g><g class=\"first-render\"/></g></svg>"
      ]
     },
     "metadata": {},
     "output_type": "display_data"
    }
   ],
   "source": [
    "def plot_senkey_diagram(data_dict=data_for_plot):    \n",
    "    \n",
    "    \"\"\"\n",
    "    Функция для генерации объекта диаграммы Сенкей \n",
    "    \n",
    "    Args:\n",
    "        data_dict (dict): словарь со списками данных для построения.\n",
    "        \n",
    "    Returns:\n",
    "        plotly.graph_objs._figure.Figure: объект изображения.\n",
    "    \"\"\"\n",
    "    \n",
    "    fig = go.Figure(data=[go.Sankey(\n",
    "        domain = dict(\n",
    "          x =  [0,1],\n",
    "          y =  [0,1]\n",
    "        ),\n",
    "        orientation = \"h\",\n",
    "        valueformat = \".0f\",\n",
    "        node = dict(\n",
    "          pad = 50,\n",
    "          thickness = 15,\n",
    "          line = dict(color = \"black\", width = 0.1),\n",
    "          label = data_dict['labels'],\n",
    "          color = data_dict['colors_labels']\n",
    "        ),\n",
    "        link = dict(\n",
    "          source = data_dict['sources'],\n",
    "          target = data_dict['targets'],\n",
    "          value = data_dict['values'],\n",
    "          label = data_dict['link_text'],\n",
    "          color = data_dict['link_color']\n",
    "      ))])\n",
    "    fig.update_layout(title_text=\"Sankey Diagram\", font_size=10)\n",
    "    \n",
    "    # возвращаем объект диаграммы\n",
    "    return fig\n",
    "  \n",
    "\n",
    "# сохраняем диаграмму в переменную\n",
    "senkey_diagram = plot_senkey_diagram()\n",
    "senkey_diagram.show()"
   ]
  },
  {
   "cell_type": "markdown",
   "metadata": {},
   "source": [
    "По диаграмме видно что некоторые сценарии пользователя начинаюся сразу с contacts_show, что может быть из-за перехода по прямой ссылке.\n",
    "\n",
    "Наиболее популярными сценариями пользователя для дальнейшего изучения являются:\n",
    "\n",
    "map-tips_show-contacts_show\n",
    "\n",
    "search-photos_show-contacts_show\n",
    "\n",
    "tips_show-map-contacts_show"
   ]
  },
  {
   "cell_type": "markdown",
   "metadata": {},
   "source": [
    "### Воронка дейсвий(конверсия в целевое действие)"
   ]
  },
  {
   "cell_type": "markdown",
   "metadata": {},
   "source": [
    "Воронка действий \n",
    "\n",
    "map-tips_show-contacts_show"
   ]
  },
  {
   "cell_type": "code",
   "execution_count": 45,
   "metadata": {},
   "outputs": [],
   "source": [
    "funnel_map = ['map', 'tips_show', 'contacts_show']"
   ]
  },
  {
   "cell_type": "code",
   "execution_count": 46,
   "metadata": {},
   "outputs": [],
   "source": [
    "#step_1 = df_comp.query('source == \"map\"')['user_id'].unique()\n",
    "#step_2 = df_comp.query('user_id in @step_1 and source == \"tips_show\"')['user_id'].unique()\n",
    "#step_3 = df_comp.query('user_id in @step_2 and source == \"contacts_show\"')['user_id'].unique()\n",
    "\n",
    "#map_list = [len(step_1), len(step_2), len(step_3)]"
   ]
  },
  {
   "cell_type": "code",
   "execution_count": 47,
   "metadata": {},
   "outputs": [],
   "source": [
    "step_1 = data.query('event_name == \"map\"')['user_id'].unique()\n",
    "step_2 = data.query('user_id in @step_1 and event_name == \"tips_show\"')['user_id'].unique()\n",
    "step_3 = data.query('user_id in @step_2 and event_name == \"contacts_show\"')['user_id'].unique()\n",
    "\n",
    "map_list = [len(step_1), len(step_2), len(step_3)]"
   ]
  },
  {
   "cell_type": "code",
   "execution_count": 48,
   "metadata": {},
   "outputs": [
    {
     "data": {
      "text/plain": [
       "1456"
      ]
     },
     "execution_count": 48,
     "metadata": {},
     "output_type": "execute_result"
    }
   ],
   "source": [
    "# КОД РЕВЬЮЕРА\n",
    "\n",
    "data.query(\"event_name == 'map'\")['user_id'].nunique()"
   ]
  },
  {
   "cell_type": "code",
   "execution_count": 49,
   "metadata": {},
   "outputs": [
    {
     "data": {
      "image/svg+xml": [
       "<svg class=\"main-svg\" xmlns=\"http://www.w3.org/2000/svg\" xmlns:xlink=\"http://www.w3.org/1999/xlink\" width=\"840\" height=\"600\" style=\"\" viewBox=\"0 0 700 500\"><rect x=\"0\" y=\"0\" width=\"700\" height=\"500\" style=\"fill: rgb(255, 255, 255); fill-opacity: 1;\"/><defs id=\"defs-4ef1c3\"><g class=\"clips\"><clipPath id=\"clip4ef1c3xyplot\" class=\"plotclip\"><rect width=\"528\" height=\"320\"/></clipPath><clipPath class=\"axesclip\" id=\"clip4ef1c3x\"><rect x=\"92\" y=\"0\" width=\"528\" height=\"500\"/></clipPath><clipPath class=\"axesclip\" id=\"clip4ef1c3y\"><rect x=\"0\" y=\"100\" width=\"700\" height=\"320\"/></clipPath><clipPath class=\"axesclip\" id=\"clip4ef1c3xy\"><rect x=\"92\" y=\"100\" width=\"528\" height=\"320\"/></clipPath></g><g class=\"gradients\"/><g class=\"patterns\"/></defs><g class=\"bglayer\"><rect class=\"bg\" x=\"92\" y=\"100\" width=\"528\" height=\"320\" style=\"fill: rgb(229, 236, 246); fill-opacity: 1; stroke-width: 0;\"/></g><g class=\"layer-below\"><g class=\"imagelayer\"/><g class=\"shapelayer\"/></g><g class=\"cartesianlayer\"><g class=\"subplot xy\"><g class=\"layer-subplot\"><g class=\"shapelayer\"/><g class=\"imagelayer\"/></g><g class=\"gridlayer\"><g class=\"x\"/><g class=\"y\"/></g><g class=\"zerolinelayer\"/><path class=\"xlines-below\"/><path class=\"ylines-below\"/><g class=\"overlines-below\"/><g class=\"xaxislayer-below\"/><g class=\"yaxislayer-below\"/><g class=\"overaxes-below\"/><g class=\"plot\" transform=\"translate(92,100)\" clip-path=\"url(#clip4ef1c3xyplot)\"><g class=\"funnellayer mlayer\"><g class=\"trace bars\" style=\"opacity: 0.6;\"><g class=\"regions\"><g class=\"region\"><path d=\"M26.4,96L43.37,117.33H484.63L501.6,96Z\" style=\"stroke-width: 0; fill: rgb(99, 110, 250); fill-opacity: 0.5;\"/></g><g class=\"region\"><path d=\"M43.37,202.67L219.12,224H308.88L484.63,202.67Z\" style=\"stroke-width: 0; fill: rgb(99, 110, 250); fill-opacity: 0.5;\"/></g><g class=\"region\"><path d=\"M0,0Z\" style=\"stroke-width: 0; fill: rgb(99, 110, 250); fill-opacity: 0.5;\"/></g></g><g class=\"points\"><g class=\"point\"><path d=\"M26.4,10.67V96H501.6V10.67Z\" style=\"vector-effect: non-scaling-stroke; fill: rgb(99, 110, 250); fill-opacity: 1; stroke: rgb(68, 68, 68); stroke-opacity: 1; stroke-width: 0px; opacity: 1;\"/><text class=\"bartext bartext-inside\" text-anchor=\"middle\" data-notex=\"1\" x=\"0\" y=\"0\" style=\"font-family: 'Open Sans', verdana, arial, sans-serif; font-size: 12px; fill: rgb(255, 255, 255); fill-opacity: 1; white-space: pre;\" transform=\"translate(263.8359375,49.5303125)\"><tspan class=\"line\" dy=\"0em\" x=\"0\" y=\"0\">1456</tspan><tspan class=\"line\" dy=\"1.3em\" x=\"0\" y=\"0\">100%</tspan></text></g><g class=\"point\"><path d=\"M43.37,117.33V202.67H484.63V117.33Z\" style=\"vector-effect: non-scaling-stroke; fill: rgb(99, 110, 250); fill-opacity: 1; stroke: rgb(68, 68, 68); stroke-opacity: 1; stroke-width: 0px; opacity: 1;\"/><text class=\"bartext bartext-inside\" text-anchor=\"middle\" data-notex=\"1\" x=\"0\" y=\"0\" style=\"font-family: 'Open Sans', verdana, arial, sans-serif; font-size: 12px; fill: rgb(255, 255, 255); fill-opacity: 1; white-space: pre;\" transform=\"translate(263.8359375,156.1953125)\"><tspan class=\"line\" dy=\"0em\" x=\"0\" y=\"0\">1352</tspan><tspan class=\"line\" dy=\"1.3em\" x=\"0\" y=\"0\">93%</tspan></text></g><g class=\"point\"><path d=\"M219.12,224V309.33H308.88V224Z\" style=\"vector-effect: non-scaling-stroke; fill: rgb(99, 110, 250); fill-opacity: 1; stroke: rgb(68, 68, 68); stroke-opacity: 1; stroke-width: 0px; opacity: 1;\"/><text class=\"bartext bartext-inside\" text-anchor=\"middle\" data-notex=\"1\" x=\"0\" y=\"0\" style=\"font-family: 'Open Sans', verdana, arial, sans-serif; font-size: 12px; fill: rgb(255, 255, 255); fill-opacity: 1; white-space: pre;\" transform=\"translate(263.8359375,262.86031249999996)\"><tspan class=\"line\" dy=\"0em\" x=\"0\" y=\"0\">275</tspan><tspan class=\"line\" dy=\"1.3em\" x=\"0\" y=\"0\">20%</tspan></text></g></g></g></g></g><g class=\"overplot\"/><path class=\"xlines-above crisp\" d=\"M0,0\" style=\"fill: none;\"/><path class=\"ylines-above crisp\" d=\"M0,0\" style=\"fill: none;\"/><g class=\"overlines-above\"/><g class=\"xaxislayer-above\"/><g class=\"yaxislayer-above\"><g class=\"ytick\"><text text-anchor=\"end\" x=\"91\" y=\"4.199999999999999\" transform=\"translate(0,366.67)\" style=\"font-family: 'Open Sans', verdana, arial, sans-serif; font-size: 12px; fill: rgb(42, 63, 95); fill-opacity: 1; white-space: pre; opacity: 1;\">contacts_show</text></g><g class=\"ytick\"><text text-anchor=\"end\" x=\"91\" y=\"4.199999999999999\" transform=\"translate(0,260)\" style=\"font-family: 'Open Sans', verdana, arial, sans-serif; font-size: 12px; fill: rgb(42, 63, 95); fill-opacity: 1; white-space: pre; opacity: 1;\">tips_show</text></g><g class=\"ytick\"><text text-anchor=\"end\" x=\"91\" y=\"4.199999999999999\" transform=\"translate(0,153.32999999999998)\" style=\"font-family: 'Open Sans', verdana, arial, sans-serif; font-size: 12px; fill: rgb(42, 63, 95); fill-opacity: 1; white-space: pre; opacity: 1;\">map</text></g></g><g class=\"overaxes-above\"/></g></g><g class=\"polarlayer\"/><g class=\"smithlayer\"/><g class=\"ternarylayer\"/><g class=\"geolayer\"/><g class=\"funnelarealayer\"/><g class=\"pielayer\"/><g class=\"iciclelayer\"/><g class=\"treemaplayer\"/><g class=\"sunburstlayer\"/><g class=\"glimages\"/><defs id=\"topdefs-4ef1c3\"><g class=\"clips\"/></defs><g class=\"layer-above\"><g class=\"imagelayer\"/><g class=\"shapelayer\"/></g><g class=\"infolayer\"><g class=\"g-gtitle\"><text class=\"gtitle\" x=\"35\" y=\"50\" text-anchor=\"start\" dy=\"0em\" style=\"font-family: 'Open Sans', verdana, arial, sans-serif; font-size: 17px; fill: rgb(42, 63, 95); opacity: 1; font-weight: normal; white-space: pre;\">Воронка событий пользователей, использующих карту</text></g><g class=\"g-ytitle\"/></g></svg>"
      ]
     },
     "metadata": {},
     "output_type": "display_data"
    }
   ],
   "source": [
    "fig = go.Figure(go.Funnel(y = funnel_map,\n",
    "                          x = map_list,\n",
    "                          opacity = 0.6,\n",
    "                          textposition = 'inside',\n",
    "                          textinfo = 'value + percent previous'))\n",
    "fig.update_layout(title='Воронка событий пользователей, использующих карту')"
   ]
  },
  {
   "cell_type": "markdown",
   "metadata": {},
   "source": [
    "В данном сценарии пользователи с шага карта 1456 человек на следующий шаг tips_show переходит  93% из них и до целевого действия показать контакт доходит лишь 275 человек что составляет 20,3% что является не самой низкой конверсией"
   ]
  },
  {
   "cell_type": "markdown",
   "metadata": {},
   "source": [
    "Воронка действий\n",
    "\n",
    "search-photos_show-contacts_show"
   ]
  },
  {
   "cell_type": "code",
   "execution_count": 50,
   "metadata": {},
   "outputs": [],
   "source": [
    "funnel_search = ['search', 'photos_show', 'contacts_show']"
   ]
  },
  {
   "cell_type": "code",
   "execution_count": 51,
   "metadata": {},
   "outputs": [
    {
     "data": {
      "text/plain": [
       "1666"
      ]
     },
     "execution_count": 51,
     "metadata": {},
     "output_type": "execute_result"
    }
   ],
   "source": [
    "data.query(\"event_name == 'search'\")['user_id'].nunique()"
   ]
  },
  {
   "cell_type": "code",
   "execution_count": 53,
   "metadata": {},
   "outputs": [],
   "source": [
    "step_1 = data.query('event_name == \"search\"')['user_id'].unique()\n",
    "step_2 = data.query('user_id in @step_1 and event_name == \"photos_show\"')['user_id'].unique()\n",
    "step_3 = data.query('user_id in @step_2 and event_name == \"contacts_show\"')['user_id'].unique()\n",
    "\n",
    "search_list = [len(step_1), len(step_2), len(step_3)]"
   ]
  },
  {
   "cell_type": "code",
   "execution_count": 54,
   "metadata": {},
   "outputs": [
    {
     "data": {
      "image/svg+xml": [
       "<svg class=\"main-svg\" xmlns=\"http://www.w3.org/2000/svg\" xmlns:xlink=\"http://www.w3.org/1999/xlink\" width=\"840\" height=\"600\" style=\"\" viewBox=\"0 0 700 500\"><rect x=\"0\" y=\"0\" width=\"700\" height=\"500\" style=\"fill: rgb(255, 255, 255); fill-opacity: 1;\"/><defs id=\"defs-c9153d\"><g class=\"clips\"><clipPath id=\"clipc9153dxyplot\" class=\"plotclip\"><rect width=\"528\" height=\"320\"/></clipPath><clipPath class=\"axesclip\" id=\"clipc9153dx\"><rect x=\"92\" y=\"0\" width=\"528\" height=\"500\"/></clipPath><clipPath class=\"axesclip\" id=\"clipc9153dy\"><rect x=\"0\" y=\"100\" width=\"700\" height=\"320\"/></clipPath><clipPath class=\"axesclip\" id=\"clipc9153dxy\"><rect x=\"92\" y=\"100\" width=\"528\" height=\"320\"/></clipPath></g><g class=\"gradients\"/><g class=\"patterns\"/></defs><g class=\"bglayer\"><rect class=\"bg\" x=\"92\" y=\"100\" width=\"528\" height=\"320\" style=\"fill: rgb(229, 236, 246); fill-opacity: 1; stroke-width: 0;\"/></g><g class=\"layer-below\"><g class=\"imagelayer\"/><g class=\"shapelayer\"/></g><g class=\"cartesianlayer\"><g class=\"subplot xy\"><g class=\"layer-subplot\"><g class=\"shapelayer\"/><g class=\"imagelayer\"/></g><g class=\"gridlayer\"><g class=\"x\"/><g class=\"y\"/></g><g class=\"zerolinelayer\"/><path class=\"xlines-below\"/><path class=\"ylines-below\"/><g class=\"overlines-below\"/><g class=\"xaxislayer-below\"/><g class=\"yaxislayer-below\"/><g class=\"overaxes-below\"/><g class=\"plot\" transform=\"translate(92,100)\" clip-path=\"url(#clipc9153dxyplot)\"><g class=\"funnellayer mlayer\"><g class=\"trace bars\" style=\"opacity: 0.6;\"><g class=\"regions\"><g class=\"region\"><path d=\"M26.4,96L171.73,117.33H356.27L501.6,96Z\" style=\"stroke-width: 0; fill: rgb(99, 110, 250); fill-opacity: 0.5;\"/></g><g class=\"region\"><path d=\"M171.73,202.67L236.62,224H291.38L356.27,202.67Z\" style=\"stroke-width: 0; fill: rgb(99, 110, 250); fill-opacity: 0.5;\"/></g><g class=\"region\"><path d=\"M0,0Z\" style=\"stroke-width: 0; fill: rgb(99, 110, 250); fill-opacity: 0.5;\"/></g></g><g class=\"points\"><g class=\"point\"><path d=\"M26.4,10.67V96H501.6V10.67Z\" style=\"vector-effect: non-scaling-stroke; fill: rgb(99, 110, 250); fill-opacity: 1; stroke: rgb(68, 68, 68); stroke-opacity: 1; stroke-width: 0px; opacity: 1;\"/><text class=\"bartext bartext-inside\" text-anchor=\"middle\" data-notex=\"1\" x=\"0\" y=\"0\" style=\"font-family: 'Open Sans', verdana, arial, sans-serif; font-size: 12px; fill: rgb(255, 255, 255); fill-opacity: 1; white-space: pre;\" transform=\"translate(263.8359375,49.5303125)\"><tspan class=\"line\" dy=\"0em\" x=\"0\" y=\"0\">1666</tspan><tspan class=\"line\" dy=\"1.3em\" x=\"0\" y=\"0\">100%</tspan></text></g><g class=\"point\"><path d=\"M171.73,117.33V202.67H356.27V117.33Z\" style=\"vector-effect: non-scaling-stroke; fill: rgb(99, 110, 250); fill-opacity: 1; stroke: rgb(68, 68, 68); stroke-opacity: 1; stroke-width: 0px; opacity: 1;\"/><text class=\"bartext bartext-inside\" text-anchor=\"middle\" data-notex=\"1\" x=\"0\" y=\"0\" style=\"font-family: 'Open Sans', verdana, arial, sans-serif; font-size: 12px; fill: rgb(255, 255, 255); fill-opacity: 1; white-space: pre;\" transform=\"translate(263.8359375,156.1953125)\"><tspan class=\"line\" dy=\"0em\" x=\"0\" y=\"0\">647</tspan><tspan class=\"line\" dy=\"1.3em\" x=\"0\" y=\"0\">39%</tspan></text></g><g class=\"point\"><path d=\"M236.62,224V309.33H291.38V224Z\" style=\"vector-effect: non-scaling-stroke; fill: rgb(99, 110, 250); fill-opacity: 1; stroke: rgb(68, 68, 68); stroke-opacity: 1; stroke-width: 0px; opacity: 1;\"/><text class=\"bartext bartext-inside\" text-anchor=\"middle\" data-notex=\"1\" x=\"0\" y=\"0\" style=\"font-family: 'Open Sans', verdana, arial, sans-serif; font-size: 12px; fill: rgb(255, 255, 255); fill-opacity: 1; white-space: pre;\" transform=\"translate(263.8359375,262.86031249999996)\"><tspan class=\"line\" dy=\"0em\" x=\"0\" y=\"0\">192</tspan><tspan class=\"line\" dy=\"1.3em\" x=\"0\" y=\"0\">30%</tspan></text></g></g></g></g></g><g class=\"overplot\"/><path class=\"xlines-above crisp\" d=\"M0,0\" style=\"fill: none;\"/><path class=\"ylines-above crisp\" d=\"M0,0\" style=\"fill: none;\"/><g class=\"overlines-above\"/><g class=\"xaxislayer-above\"/><g class=\"yaxislayer-above\"><g class=\"ytick\"><text text-anchor=\"end\" x=\"91\" y=\"4.199999999999999\" transform=\"translate(0,366.67)\" style=\"font-family: 'Open Sans', verdana, arial, sans-serif; font-size: 12px; fill: rgb(42, 63, 95); fill-opacity: 1; white-space: pre; opacity: 1;\">contacts_show</text></g><g class=\"ytick\"><text text-anchor=\"end\" x=\"91\" y=\"4.199999999999999\" transform=\"translate(0,260)\" style=\"font-family: 'Open Sans', verdana, arial, sans-serif; font-size: 12px; fill: rgb(42, 63, 95); fill-opacity: 1; white-space: pre; opacity: 1;\">photos_show</text></g><g class=\"ytick\"><text text-anchor=\"end\" x=\"91\" y=\"4.199999999999999\" transform=\"translate(0,153.32999999999998)\" style=\"font-family: 'Open Sans', verdana, arial, sans-serif; font-size: 12px; fill: rgb(42, 63, 95); fill-opacity: 1; white-space: pre; opacity: 1;\">search</text></g></g><g class=\"overaxes-above\"/></g></g><g class=\"polarlayer\"/><g class=\"smithlayer\"/><g class=\"ternarylayer\"/><g class=\"geolayer\"/><g class=\"funnelarealayer\"/><g class=\"pielayer\"/><g class=\"iciclelayer\"/><g class=\"treemaplayer\"/><g class=\"sunburstlayer\"/><g class=\"glimages\"/><defs id=\"topdefs-c9153d\"><g class=\"clips\"/></defs><g class=\"layer-above\"><g class=\"imagelayer\"/><g class=\"shapelayer\"/></g><g class=\"infolayer\"><g class=\"g-gtitle\"><text class=\"gtitle\" x=\"35\" y=\"50\" text-anchor=\"start\" dy=\"0em\" style=\"font-family: 'Open Sans', verdana, arial, sans-serif; font-size: 17px; fill: rgb(42, 63, 95); opacity: 1; font-weight: normal; white-space: pre;\">Воронка событий пользователей, использующих поиск</text></g><g class=\"g-ytitle\"/></g></svg>"
      ]
     },
     "metadata": {},
     "output_type": "display_data"
    }
   ],
   "source": [
    "fig = go.Figure(go.Funnel(y = funnel_search,\n",
    "                          x = search_list,\n",
    "                          opacity = 0.6,\n",
    "                          textposition = 'inside',\n",
    "                          textinfo = 'value + percent previous'))\n",
    "fig.update_layout(title='Воронка событий пользователей, использующих поиск')"
   ]
  },
  {
   "cell_type": "markdown",
   "metadata": {},
   "source": [
    "В данном сценарии пользователи начинают с шага поиск 1666 человек на следующий шаг photos_show переходит лишь 39% из них и до целевого действия показать контакт доходит лишь 192 человека что составляет 30% что является хорошей конверсией для сценария"
   ]
  },
  {
   "cell_type": "markdown",
   "metadata": {},
   "source": [
    "Воронка действий\n",
    "\n",
    "tips_show-map-contacts_show"
   ]
  },
  {
   "cell_type": "code",
   "execution_count": 55,
   "metadata": {},
   "outputs": [],
   "source": [
    "funnel_tips = ['tips_show', 'map', 'contacts_show']"
   ]
  },
  {
   "cell_type": "code",
   "execution_count": 56,
   "metadata": {},
   "outputs": [
    {
     "data": {
      "text/plain": [
       "2801"
      ]
     },
     "execution_count": 56,
     "metadata": {},
     "output_type": "execute_result"
    }
   ],
   "source": [
    "data.query(\"event_name == 'tips_show'\")['user_id'].nunique()"
   ]
  },
  {
   "cell_type": "code",
   "execution_count": 58,
   "metadata": {},
   "outputs": [],
   "source": [
    "step_1 = data.query('event_name == \"tips_show\"')['user_id'].unique()\n",
    "step_2 = data.query('user_id in @step_1 and event_name == \"map\"')['user_id'].unique()\n",
    "step_3 = data.query('user_id in @step_2 and event_name == \"contacts_show\"')['user_id'].unique()\n",
    "\n",
    "tips_list = [len(step_1), len(step_2), len(step_3)]"
   ]
  },
  {
   "cell_type": "code",
   "execution_count": 59,
   "metadata": {},
   "outputs": [
    {
     "data": {
      "image/svg+xml": [
       "<svg class=\"main-svg\" xmlns=\"http://www.w3.org/2000/svg\" xmlns:xlink=\"http://www.w3.org/1999/xlink\" width=\"840\" height=\"600\" style=\"\" viewBox=\"0 0 700 500\"><rect x=\"0\" y=\"0\" width=\"700\" height=\"500\" style=\"fill: rgb(255, 255, 255); fill-opacity: 1;\"/><defs id=\"defs-044744\"><g class=\"clips\"><clipPath id=\"clip044744xyplot\" class=\"plotclip\"><rect width=\"528\" height=\"320\"/></clipPath><clipPath class=\"axesclip\" id=\"clip044744x\"><rect x=\"92\" y=\"0\" width=\"528\" height=\"500\"/></clipPath><clipPath class=\"axesclip\" id=\"clip044744y\"><rect x=\"0\" y=\"100\" width=\"700\" height=\"320\"/></clipPath><clipPath class=\"axesclip\" id=\"clip044744xy\"><rect x=\"92\" y=\"100\" width=\"528\" height=\"320\"/></clipPath></g><g class=\"gradients\"/><g class=\"patterns\"/></defs><g class=\"bglayer\"><rect class=\"bg\" x=\"92\" y=\"100\" width=\"528\" height=\"320\" style=\"fill: rgb(229, 236, 246); fill-opacity: 1; stroke-width: 0;\"/></g><g class=\"layer-below\"><g class=\"imagelayer\"/><g class=\"shapelayer\"/></g><g class=\"cartesianlayer\"><g class=\"subplot xy\"><g class=\"layer-subplot\"><g class=\"shapelayer\"/><g class=\"imagelayer\"/></g><g class=\"gridlayer\"><g class=\"x\"/><g class=\"y\"/></g><g class=\"zerolinelayer\"/><path class=\"xlines-below\"/><path class=\"ylines-below\"/><g class=\"overlines-below\"/><g class=\"xaxislayer-below\"/><g class=\"yaxislayer-below\"/><g class=\"overaxes-below\"/><g class=\"plot\" transform=\"translate(92,100)\" clip-path=\"url(#clip044744xyplot)\"><g class=\"funnellayer mlayer\"><g class=\"trace bars\" style=\"opacity: 0.6;\"><g class=\"regions\"><g class=\"region\"><path d=\"M26.4,96L149.31,117.33H378.69L501.6,96Z\" style=\"stroke-width: 0; fill: rgb(99, 110, 250); fill-opacity: 0.5;\"/></g><g class=\"region\"><path d=\"M149.31,202.67L240.67,224H287.33L378.69,202.67Z\" style=\"stroke-width: 0; fill: rgb(99, 110, 250); fill-opacity: 0.5;\"/></g><g class=\"region\"><path d=\"M0,0Z\" style=\"stroke-width: 0; fill: rgb(99, 110, 250); fill-opacity: 0.5;\"/></g></g><g class=\"points\"><g class=\"point\"><path d=\"M26.4,10.67V96H501.6V10.67Z\" style=\"vector-effect: non-scaling-stroke; fill: rgb(99, 110, 250); fill-opacity: 1; stroke: rgb(68, 68, 68); stroke-opacity: 1; stroke-width: 0px; opacity: 1;\"/><text class=\"bartext bartext-inside\" text-anchor=\"middle\" data-notex=\"1\" x=\"0\" y=\"0\" style=\"font-family: 'Open Sans', verdana, arial, sans-serif; font-size: 12px; fill: rgb(255, 255, 255); fill-opacity: 1; white-space: pre;\" transform=\"translate(263.8359375,49.5303125)\"><tspan class=\"line\" dy=\"0em\" x=\"0\" y=\"0\">2801</tspan><tspan class=\"line\" dy=\"1.3em\" x=\"0\" y=\"0\">100%</tspan></text></g><g class=\"point\"><path d=\"M149.31,117.33V202.67H378.69V117.33Z\" style=\"vector-effect: non-scaling-stroke; fill: rgb(99, 110, 250); fill-opacity: 1; stroke: rgb(68, 68, 68); stroke-opacity: 1; stroke-width: 0px; opacity: 1;\"/><text class=\"bartext bartext-inside\" text-anchor=\"middle\" data-notex=\"1\" x=\"0\" y=\"0\" style=\"font-family: 'Open Sans', verdana, arial, sans-serif; font-size: 12px; fill: rgb(255, 255, 255); fill-opacity: 1; white-space: pre;\" transform=\"translate(263.8359375,156.1953125)\"><tspan class=\"line\" dy=\"0em\" x=\"0\" y=\"0\">1352</tspan><tspan class=\"line\" dy=\"1.3em\" x=\"0\" y=\"0\">48%</tspan></text></g><g class=\"point\"><path d=\"M240.67,224V309.33H287.33V224Z\" style=\"vector-effect: non-scaling-stroke; fill: rgb(99, 110, 250); fill-opacity: 1; stroke: rgb(68, 68, 68); stroke-opacity: 1; stroke-width: 0px; opacity: 1;\"/><text class=\"bartext bartext-inside\" text-anchor=\"middle\" data-notex=\"1\" x=\"0\" y=\"0\" style=\"font-family: 'Open Sans', verdana, arial, sans-serif; font-size: 12px; fill: rgb(255, 255, 255); fill-opacity: 1; white-space: pre;\" transform=\"translate(263.8359375,262.86031249999996)\"><tspan class=\"line\" dy=\"0em\" x=\"0\" y=\"0\">275</tspan><tspan class=\"line\" dy=\"1.3em\" x=\"0\" y=\"0\">20%</tspan></text></g></g></g></g></g><g class=\"overplot\"/><path class=\"xlines-above crisp\" d=\"M0,0\" style=\"fill: none;\"/><path class=\"ylines-above crisp\" d=\"M0,0\" style=\"fill: none;\"/><g class=\"overlines-above\"/><g class=\"xaxislayer-above\"/><g class=\"yaxislayer-above\"><g class=\"ytick\"><text text-anchor=\"end\" x=\"91\" y=\"4.199999999999999\" transform=\"translate(0,366.67)\" style=\"font-family: 'Open Sans', verdana, arial, sans-serif; font-size: 12px; fill: rgb(42, 63, 95); fill-opacity: 1; white-space: pre; opacity: 1;\">contacts_show</text></g><g class=\"ytick\"><text text-anchor=\"end\" x=\"91\" y=\"4.199999999999999\" transform=\"translate(0,260)\" style=\"font-family: 'Open Sans', verdana, arial, sans-serif; font-size: 12px; fill: rgb(42, 63, 95); fill-opacity: 1; white-space: pre; opacity: 1;\">map</text></g><g class=\"ytick\"><text text-anchor=\"end\" x=\"91\" y=\"4.199999999999999\" transform=\"translate(0,153.32999999999998)\" style=\"font-family: 'Open Sans', verdana, arial, sans-serif; font-size: 12px; fill: rgb(42, 63, 95); fill-opacity: 1; white-space: pre; opacity: 1;\">tips_show</text></g></g><g class=\"overaxes-above\"/></g></g><g class=\"polarlayer\"/><g class=\"smithlayer\"/><g class=\"ternarylayer\"/><g class=\"geolayer\"/><g class=\"funnelarealayer\"/><g class=\"pielayer\"/><g class=\"iciclelayer\"/><g class=\"treemaplayer\"/><g class=\"sunburstlayer\"/><g class=\"glimages\"/><defs id=\"topdefs-044744\"><g class=\"clips\"/></defs><g class=\"layer-above\"><g class=\"imagelayer\"/><g class=\"shapelayer\"/></g><g class=\"infolayer\"><g class=\"g-gtitle\"><text class=\"gtitle\" x=\"35\" y=\"50\" text-anchor=\"start\" dy=\"0em\" style=\"font-family: 'Open Sans', verdana, arial, sans-serif; font-size: 17px; fill: rgb(42, 63, 95); opacity: 1; font-weight: normal; white-space: pre;\">Воронка событий пользователей, увидевших рекомендованные объявления</text></g><g class=\"g-ytitle\"/></g></svg>"
      ]
     },
     "metadata": {},
     "output_type": "display_data"
    }
   ],
   "source": [
    "fig = go.Figure(go.Funnel(y = funnel_tips,\n",
    "                          x = tips_list,\n",
    "                          opacity = 0.6,\n",
    "                          textposition = 'inside',\n",
    "                          textinfo = 'value + percent previous'))\n",
    "fig.update_layout(title='Воронка событий пользователей, увидевших рекомендованные объявления')"
   ]
  },
  {
   "cell_type": "markdown",
   "metadata": {},
   "source": [
    "В данном сценарии пользователи начинают с шага увидел рекомендованное объявление 2801 человек на следующий шаг map переходит лишь 48% из них и до целевого действия показать контакт доходит лишь 275 человека что составляет 20%  что является не самой низкой конверсией"
   ]
  },
  {
   "cell_type": "markdown",
   "metadata": {},
   "source": [
    "Сценарий пользователя search-photos_show-contacts_show оказался самым конверсионным для достижения целевого действия целых 30%\n",
    "\n",
    "Конверсию хуже показали два других сценария на уровне 20% что может быть связано с тем что рекомендованное  объявление предлагает слишком удаленные от пользователя местоположения и из-за этого пользователь не переходит к звонку"
   ]
  },
  {
   "cell_type": "markdown",
   "metadata": {},
   "source": [
    "### Рассчитать относительную частоту событий в разрезе двух групп пользователей"
   ]
  },
  {
   "cell_type": "markdown",
   "metadata": {},
   "source": [
    "группа пользователей, которые смотрели контакты contacts_show\n",
    "\n",
    "группа пользователей, которые не смотрели контакты contacts_show\n"
   ]
  },
  {
   "cell_type": "code",
   "execution_count": 60,
   "metadata": {},
   "outputs": [
    {
     "name": "stdout",
     "output_type": "stream",
     "text": [
      "Пользователи совершавшие contacts_show = 981\n",
      "Кол-во всех пользователей = 4293\n",
      "Пользователи не совершавшие contacts_show = 3312\n"
     ]
    }
   ],
   "source": [
    "contacts_show_users = data.query('event_name==\"contacts_show\"')['user_id'].unique().tolist()\n",
    "print(\"Пользователи совершавшие contacts_show =\", len(contacts_show_users))\n",
    "\n",
    "all_users = data['user_id'].unique()\n",
    "print(\"Кол-во всех пользователей =\", len(all_users))\n",
    "\n",
    "no_contacts_show_users = list( set(all_users) - set(contacts_show_users) )\n",
    "print(\"Пользователи не совершавшие contacts_show =\", len(no_contacts_show_users))"
   ]
  },
  {
   "cell_type": "code",
   "execution_count": 61,
   "metadata": {},
   "outputs": [
    {
     "data": {
      "text/html": [
       "<div>\n",
       "<style scoped>\n",
       "    .dataframe tbody tr th:only-of-type {\n",
       "        vertical-align: middle;\n",
       "    }\n",
       "\n",
       "    .dataframe tbody tr th {\n",
       "        vertical-align: top;\n",
       "    }\n",
       "\n",
       "    .dataframe thead th {\n",
       "        text-align: right;\n",
       "    }\n",
       "</style>\n",
       "<table border=\"1\" class=\"dataframe\">\n",
       "  <thead>\n",
       "    <tr style=\"text-align: right;\">\n",
       "      <th></th>\n",
       "      <th>event_time</th>\n",
       "      <th>event_name</th>\n",
       "      <th>user_id</th>\n",
       "      <th>source</th>\n",
       "      <th>diff_time</th>\n",
       "      <th>session_id</th>\n",
       "    </tr>\n",
       "  </thead>\n",
       "  <tbody>\n",
       "    <tr>\n",
       "      <th>805</th>\n",
       "      <td>2019-10-07 13:39:45.989359</td>\n",
       "      <td>tips_show</td>\n",
       "      <td>0001b1d5-b74a-4cbf-aeb0-7df5947bf349</td>\n",
       "      <td>other</td>\n",
       "      <td>0.000000</td>\n",
       "      <td>1</td>\n",
       "    </tr>\n",
       "    <tr>\n",
       "      <th>806</th>\n",
       "      <td>2019-10-07 13:40:31.052909</td>\n",
       "      <td>tips_show</td>\n",
       "      <td>0001b1d5-b74a-4cbf-aeb0-7df5947bf349</td>\n",
       "      <td>other</td>\n",
       "      <td>0.751059</td>\n",
       "      <td>1</td>\n",
       "    </tr>\n",
       "    <tr>\n",
       "      <th>809</th>\n",
       "      <td>2019-10-07 13:41:05.722489</td>\n",
       "      <td>tips_show</td>\n",
       "      <td>0001b1d5-b74a-4cbf-aeb0-7df5947bf349</td>\n",
       "      <td>other</td>\n",
       "      <td>0.577826</td>\n",
       "      <td>1</td>\n",
       "    </tr>\n",
       "    <tr>\n",
       "      <th>820</th>\n",
       "      <td>2019-10-07 13:43:20.735461</td>\n",
       "      <td>tips_show</td>\n",
       "      <td>0001b1d5-b74a-4cbf-aeb0-7df5947bf349</td>\n",
       "      <td>other</td>\n",
       "      <td>2.250216</td>\n",
       "      <td>1</td>\n",
       "    </tr>\n",
       "    <tr>\n",
       "      <th>830</th>\n",
       "      <td>2019-10-07 13:45:30.917502</td>\n",
       "      <td>tips_show</td>\n",
       "      <td>0001b1d5-b74a-4cbf-aeb0-7df5947bf349</td>\n",
       "      <td>other</td>\n",
       "      <td>2.169701</td>\n",
       "      <td>1</td>\n",
       "    </tr>\n",
       "    <tr>\n",
       "      <th>...</th>\n",
       "      <td>...</td>\n",
       "      <td>...</td>\n",
       "      <td>...</td>\n",
       "      <td>...</td>\n",
       "      <td>...</td>\n",
       "      <td>...</td>\n",
       "    </tr>\n",
       "    <tr>\n",
       "      <th>50931</th>\n",
       "      <td>2019-10-26 19:42:23.075149</td>\n",
       "      <td>tips_show</td>\n",
       "      <td>ffab8d8a-30bb-424a-a3ab-0b63ebbf7b07</td>\n",
       "      <td>yandex</td>\n",
       "      <td>1.857678</td>\n",
       "      <td>10333</td>\n",
       "    </tr>\n",
       "    <tr>\n",
       "      <th>50955</th>\n",
       "      <td>2019-10-26 19:48:44.332260</td>\n",
       "      <td>tips_show</td>\n",
       "      <td>ffab8d8a-30bb-424a-a3ab-0b63ebbf7b07</td>\n",
       "      <td>yandex</td>\n",
       "      <td>6.354285</td>\n",
       "      <td>10333</td>\n",
       "    </tr>\n",
       "    <tr>\n",
       "      <th>50982</th>\n",
       "      <td>2019-10-26 19:53:51.993545</td>\n",
       "      <td>tips_show</td>\n",
       "      <td>ffab8d8a-30bb-424a-a3ab-0b63ebbf7b07</td>\n",
       "      <td>yandex</td>\n",
       "      <td>5.127688</td>\n",
       "      <td>10333</td>\n",
       "    </tr>\n",
       "    <tr>\n",
       "      <th>40406</th>\n",
       "      <td>2019-10-23 11:51:35.199237</td>\n",
       "      <td>tips_show</td>\n",
       "      <td>ffcf50d9-293c-4254-8243-4890b030b238</td>\n",
       "      <td>google</td>\n",
       "      <td>0.000000</td>\n",
       "      <td>10335</td>\n",
       "    </tr>\n",
       "    <tr>\n",
       "      <th>40413</th>\n",
       "      <td>2019-10-23 11:52:55.577369</td>\n",
       "      <td>map</td>\n",
       "      <td>ffcf50d9-293c-4254-8243-4890b030b238</td>\n",
       "      <td>google</td>\n",
       "      <td>1.339636</td>\n",
       "      <td>10335</td>\n",
       "    </tr>\n",
       "  </tbody>\n",
       "</table>\n",
       "<p>47000 rows × 6 columns</p>\n",
       "</div>"
      ],
      "text/plain": [
       "                      event_time event_name  \\\n",
       "805   2019-10-07 13:39:45.989359  tips_show   \n",
       "806   2019-10-07 13:40:31.052909  tips_show   \n",
       "809   2019-10-07 13:41:05.722489  tips_show   \n",
       "820   2019-10-07 13:43:20.735461  tips_show   \n",
       "830   2019-10-07 13:45:30.917502  tips_show   \n",
       "...                          ...        ...   \n",
       "50931 2019-10-26 19:42:23.075149  tips_show   \n",
       "50955 2019-10-26 19:48:44.332260  tips_show   \n",
       "50982 2019-10-26 19:53:51.993545  tips_show   \n",
       "40406 2019-10-23 11:51:35.199237  tips_show   \n",
       "40413 2019-10-23 11:52:55.577369  map         \n",
       "\n",
       "                                    user_id  source  diff_time  session_id  \n",
       "805    0001b1d5-b74a-4cbf-aeb0-7df5947bf349  other   0.000000   1           \n",
       "806    0001b1d5-b74a-4cbf-aeb0-7df5947bf349  other   0.751059   1           \n",
       "809    0001b1d5-b74a-4cbf-aeb0-7df5947bf349  other   0.577826   1           \n",
       "820    0001b1d5-b74a-4cbf-aeb0-7df5947bf349  other   2.250216   1           \n",
       "830    0001b1d5-b74a-4cbf-aeb0-7df5947bf349  other   2.169701   1           \n",
       "...                                     ...    ...        ...  ..           \n",
       "50931  ffab8d8a-30bb-424a-a3ab-0b63ebbf7b07  yandex  1.857678   10333       \n",
       "50955  ffab8d8a-30bb-424a-a3ab-0b63ebbf7b07  yandex  6.354285   10333       \n",
       "50982  ffab8d8a-30bb-424a-a3ab-0b63ebbf7b07  yandex  5.127688   10333       \n",
       "40406  ffcf50d9-293c-4254-8243-4890b030b238  google  0.000000   10335       \n",
       "40413  ffcf50d9-293c-4254-8243-4890b030b238  google  1.339636   10335       \n",
       "\n",
       "[47000 rows x 6 columns]"
      ]
     },
     "execution_count": 61,
     "metadata": {},
     "output_type": "execute_result"
    }
   ],
   "source": [
    "no_contacts_show_users1 = data.query('user_id==@no_contacts_show_users')\n",
    "no_contacts_show_users1"
   ]
  },
  {
   "cell_type": "code",
   "execution_count": 62,
   "metadata": {},
   "outputs": [
    {
     "data": {
      "text/html": [
       "<div>\n",
       "<style scoped>\n",
       "    .dataframe tbody tr th:only-of-type {\n",
       "        vertical-align: middle;\n",
       "    }\n",
       "\n",
       "    .dataframe tbody tr th {\n",
       "        vertical-align: top;\n",
       "    }\n",
       "\n",
       "    .dataframe thead th {\n",
       "        text-align: right;\n",
       "    }\n",
       "</style>\n",
       "<table border=\"1\" class=\"dataframe\">\n",
       "  <thead>\n",
       "    <tr style=\"text-align: right;\">\n",
       "      <th></th>\n",
       "      <th>event</th>\n",
       "      <th>all</th>\n",
       "      <th>per</th>\n",
       "    </tr>\n",
       "  </thead>\n",
       "  <tbody>\n",
       "    <tr>\n",
       "      <th>0</th>\n",
       "      <td>tips_show</td>\n",
       "      <td>27287</td>\n",
       "      <td>58.057447</td>\n",
       "    </tr>\n",
       "    <tr>\n",
       "      <th>1</th>\n",
       "      <td>photos_show</td>\n",
       "      <td>6184</td>\n",
       "      <td>13.157447</td>\n",
       "    </tr>\n",
       "    <tr>\n",
       "      <th>2</th>\n",
       "      <td>search</td>\n",
       "      <td>4700</td>\n",
       "      <td>10.000000</td>\n",
       "    </tr>\n",
       "    <tr>\n",
       "      <th>3</th>\n",
       "      <td>advert_open</td>\n",
       "      <td>4575</td>\n",
       "      <td>9.734043</td>\n",
       "    </tr>\n",
       "    <tr>\n",
       "      <th>4</th>\n",
       "      <td>map</td>\n",
       "      <td>2780</td>\n",
       "      <td>5.914894</td>\n",
       "    </tr>\n",
       "    <tr>\n",
       "      <th>5</th>\n",
       "      <td>favorites_add</td>\n",
       "      <td>993</td>\n",
       "      <td>2.112766</td>\n",
       "    </tr>\n",
       "    <tr>\n",
       "      <th>6</th>\n",
       "      <td>tips_click</td>\n",
       "      <td>481</td>\n",
       "      <td>1.023404</td>\n",
       "    </tr>\n",
       "  </tbody>\n",
       "</table>\n",
       "</div>"
      ],
      "text/plain": [
       "           event    all        per\n",
       "0  tips_show      27287  58.057447\n",
       "1  photos_show    6184   13.157447\n",
       "2  search         4700   10.000000\n",
       "3  advert_open    4575   9.734043 \n",
       "4  map            2780   5.914894 \n",
       "5  favorites_add  993    2.112766 \n",
       "6  tips_click     481    1.023404 "
      ]
     },
     "execution_count": 62,
     "metadata": {},
     "output_type": "execute_result"
    }
   ],
   "source": [
    "converse = no_contacts_show_users1['event_name'].value_counts().reset_index()\n",
    "converse.columns = ['event', 'all']\n",
    "converse_sum = converse['all'].sum()\n",
    "converse['per'] = 100*(converse['all']/converse_sum)\n",
    "converse"
   ]
  },
  {
   "cell_type": "code",
   "execution_count": 63,
   "metadata": {},
   "outputs": [
    {
     "data": {
      "image/svg+xml": [
       "<svg class=\"main-svg\" xmlns=\"http://www.w3.org/2000/svg\" xmlns:xlink=\"http://www.w3.org/1999/xlink\" width=\"840\" height=\"600\" style=\"\" viewBox=\"0 0 700 500\"><rect x=\"0\" y=\"0\" width=\"700\" height=\"500\" style=\"fill: rgb(255, 255, 255); fill-opacity: 1;\"/><defs id=\"defs-62eab4\"><g class=\"clips\"><clipPath id=\"clip62eab4xyplot\" class=\"plotclip\"><rect width=\"540\" height=\"320\"/></clipPath><clipPath class=\"axesclip\" id=\"clip62eab4x\"><rect x=\"80\" y=\"0\" width=\"540\" height=\"500\"/></clipPath><clipPath class=\"axesclip\" id=\"clip62eab4y\"><rect x=\"0\" y=\"100\" width=\"700\" height=\"320\"/></clipPath><clipPath class=\"axesclip\" id=\"clip62eab4xy\"><rect x=\"80\" y=\"100\" width=\"540\" height=\"320\"/></clipPath></g><g class=\"gradients\"/><g class=\"patterns\"/></defs><g class=\"bglayer\"><rect class=\"bg\" x=\"80\" y=\"100\" width=\"540\" height=\"320\" style=\"fill: rgb(229, 236, 246); fill-opacity: 1; stroke-width: 0;\"/></g><g class=\"layer-below\"><g class=\"imagelayer\"/><g class=\"shapelayer\"/></g><g class=\"cartesianlayer\"><g class=\"subplot xy\"><g class=\"layer-subplot\"><g class=\"shapelayer\"/><g class=\"imagelayer\"/></g><g class=\"gridlayer\"><g class=\"x\"/><g class=\"y\"><path class=\"ygrid crisp\" transform=\"translate(0,367.64)\" d=\"M80,0h540\" style=\"stroke: rgb(255, 255, 255); stroke-opacity: 1; stroke-width: 1px;\"/><path class=\"ygrid crisp\" transform=\"translate(0,315.28)\" d=\"M80,0h540\" style=\"stroke: rgb(255, 255, 255); stroke-opacity: 1; stroke-width: 1px;\"/><path class=\"ygrid crisp\" transform=\"translate(0,262.90999999999997)\" d=\"M80,0h540\" style=\"stroke: rgb(255, 255, 255); stroke-opacity: 1; stroke-width: 1px;\"/><path class=\"ygrid crisp\" transform=\"translate(0,210.55)\" d=\"M80,0h540\" style=\"stroke: rgb(255, 255, 255); stroke-opacity: 1; stroke-width: 1px;\"/><path class=\"ygrid crisp\" transform=\"translate(0,158.19)\" d=\"M80,0h540\" style=\"stroke: rgb(255, 255, 255); stroke-opacity: 1; stroke-width: 1px;\"/><path class=\"ygrid crisp\" transform=\"translate(0,105.83)\" d=\"M80,0h540\" style=\"stroke: rgb(255, 255, 255); stroke-opacity: 1; stroke-width: 1px;\"/></g></g><g class=\"zerolinelayer\"><path class=\"yzl zl crisp\" transform=\"translate(0,420)\" d=\"M80,0h540\" style=\"stroke: rgb(255, 255, 255); stroke-opacity: 1; stroke-width: 2px;\"/></g><path class=\"xlines-below\"/><path class=\"ylines-below\"/><g class=\"overlines-below\"/><g class=\"xaxislayer-below\"/><g class=\"yaxislayer-below\"/><g class=\"overaxes-below\"/><g class=\"plot\" transform=\"translate(80,100)\" clip-path=\"url(#clip62eab4xyplot)\"><g class=\"barlayer mlayer\"><g class=\"trace bars\" style=\"opacity: 1;\"><g class=\"points\"><g class=\"point\"><path d=\"M7.71,320V16H69.43V320Z\" style=\"vector-effect: non-scaling-stroke; opacity: 1; stroke-width: 0.5px; fill: rgb(99, 110, 250); fill-opacity: 1; stroke: rgb(229, 236, 246); stroke-opacity: 1;\"/></g><g class=\"point\"><path d=\"M84.86,320V251.11H146.57V320Z\" style=\"vector-effect: non-scaling-stroke; opacity: 1; stroke-width: 0.5px; fill: rgb(99, 110, 250); fill-opacity: 1; stroke: rgb(229, 236, 246); stroke-opacity: 1;\"/></g><g class=\"point\"><path d=\"M162,320V267.64H223.71V320Z\" style=\"vector-effect: non-scaling-stroke; opacity: 1; stroke-width: 0.5px; fill: rgb(99, 110, 250); fill-opacity: 1; stroke: rgb(229, 236, 246); stroke-opacity: 1;\"/></g><g class=\"point\"><path d=\"M239.14,320V269.03H300.86V320Z\" style=\"vector-effect: non-scaling-stroke; opacity: 1; stroke-width: 0.5px; fill: rgb(99, 110, 250); fill-opacity: 1; stroke: rgb(229, 236, 246); stroke-opacity: 1;\"/></g><g class=\"point\"><path d=\"M316.29,320V289.03H378V320Z\" style=\"vector-effect: non-scaling-stroke; opacity: 1; stroke-width: 0.5px; fill: rgb(99, 110, 250); fill-opacity: 1; stroke: rgb(229, 236, 246); stroke-opacity: 1;\"/></g><g class=\"point\"><path d=\"M393.43,320V308.94H455.14V320Z\" style=\"vector-effect: non-scaling-stroke; opacity: 1; stroke-width: 0.5px; fill: rgb(99, 110, 250); fill-opacity: 1; stroke: rgb(229, 236, 246); stroke-opacity: 1;\"/></g><g class=\"point\"><path d=\"M470.57,320V314.64H532.29V320Z\" style=\"vector-effect: non-scaling-stroke; opacity: 1; stroke-width: 0.5px; fill: rgb(99, 110, 250); fill-opacity: 1; stroke: rgb(229, 236, 246); stroke-opacity: 1;\"/></g></g></g></g></g><g class=\"overplot\"/><path class=\"xlines-above crisp\" d=\"M0,0\" style=\"fill: none;\"/><path class=\"ylines-above crisp\" d=\"M0,0\" style=\"fill: none;\"/><g class=\"overlines-above\"/><g class=\"xaxislayer-above\"><g class=\"xtick\"><text text-anchor=\"middle\" x=\"0\" y=\"433\" transform=\"translate(118.57,0)\" style=\"font-family: 'Open Sans', verdana, arial, sans-serif; font-size: 12px; fill: rgb(42, 63, 95); fill-opacity: 1; white-space: pre; opacity: 1;\">tips_show</text></g><g class=\"xtick\"><text text-anchor=\"middle\" x=\"0\" y=\"433\" transform=\"translate(195.70999999999998,0)\" style=\"font-family: 'Open Sans', verdana, arial, sans-serif; font-size: 12px; fill: rgb(42, 63, 95); fill-opacity: 1; white-space: pre; opacity: 1;\">photos_show</text></g><g class=\"xtick\"><text text-anchor=\"middle\" x=\"0\" y=\"433\" transform=\"translate(272.86,0)\" style=\"font-family: 'Open Sans', verdana, arial, sans-serif; font-size: 12px; fill: rgb(42, 63, 95); fill-opacity: 1; white-space: pre; opacity: 1;\">search</text></g><g class=\"xtick\"><text text-anchor=\"middle\" x=\"0\" y=\"433\" transform=\"translate(350,0)\" style=\"font-family: 'Open Sans', verdana, arial, sans-serif; font-size: 12px; fill: rgb(42, 63, 95); fill-opacity: 1; white-space: pre; opacity: 1;\">advert_open</text></g><g class=\"xtick\"><text text-anchor=\"middle\" x=\"0\" y=\"433\" transform=\"translate(427.14,0)\" style=\"font-family: 'Open Sans', verdana, arial, sans-serif; font-size: 12px; fill: rgb(42, 63, 95); fill-opacity: 1; white-space: pre; opacity: 1;\">map</text></g><g class=\"xtick\"><text text-anchor=\"middle\" x=\"0\" y=\"433\" transform=\"translate(504.29,0)\" style=\"font-family: 'Open Sans', verdana, arial, sans-serif; font-size: 12px; fill: rgb(42, 63, 95); fill-opacity: 1; white-space: pre; opacity: 1;\">favorites_add</text></g><g class=\"xtick\"><text text-anchor=\"middle\" x=\"0\" y=\"433\" transform=\"translate(581.4300000000001,0)\" style=\"font-family: 'Open Sans', verdana, arial, sans-serif; font-size: 12px; fill: rgb(42, 63, 95); fill-opacity: 1; white-space: pre; opacity: 1;\">tips_click</text></g></g><g class=\"yaxislayer-above\"><g class=\"ytick\"><text text-anchor=\"end\" x=\"79\" y=\"4.199999999999999\" transform=\"translate(0,420)\" style=\"font-family: 'Open Sans', verdana, arial, sans-serif; font-size: 12px; fill: rgb(42, 63, 95); fill-opacity: 1; white-space: pre; opacity: 1;\">0</text></g><g class=\"ytick\"><text text-anchor=\"end\" x=\"79\" y=\"4.199999999999999\" style=\"font-family: 'Open Sans', verdana, arial, sans-serif; font-size: 12px; fill: rgb(42, 63, 95); fill-opacity: 1; white-space: pre; opacity: 1;\" transform=\"translate(0,367.64)\">10</text></g><g class=\"ytick\"><text text-anchor=\"end\" x=\"79\" y=\"4.199999999999999\" style=\"font-family: 'Open Sans', verdana, arial, sans-serif; font-size: 12px; fill: rgb(42, 63, 95); fill-opacity: 1; white-space: pre; opacity: 1;\" transform=\"translate(0,315.28)\">20</text></g><g class=\"ytick\"><text text-anchor=\"end\" x=\"79\" y=\"4.199999999999999\" style=\"font-family: 'Open Sans', verdana, arial, sans-serif; font-size: 12px; fill: rgb(42, 63, 95); fill-opacity: 1; white-space: pre; opacity: 1;\" transform=\"translate(0,262.90999999999997)\">30</text></g><g class=\"ytick\"><text text-anchor=\"end\" x=\"79\" y=\"4.199999999999999\" style=\"font-family: 'Open Sans', verdana, arial, sans-serif; font-size: 12px; fill: rgb(42, 63, 95); fill-opacity: 1; white-space: pre; opacity: 1;\" transform=\"translate(0,210.55)\">40</text></g><g class=\"ytick\"><text text-anchor=\"end\" x=\"79\" y=\"4.199999999999999\" style=\"font-family: 'Open Sans', verdana, arial, sans-serif; font-size: 12px; fill: rgb(42, 63, 95); fill-opacity: 1; white-space: pre; opacity: 1;\" transform=\"translate(0,158.19)\">50</text></g><g class=\"ytick\"><text text-anchor=\"end\" x=\"79\" y=\"4.199999999999999\" style=\"font-family: 'Open Sans', verdana, arial, sans-serif; font-size: 12px; fill: rgb(42, 63, 95); fill-opacity: 1; white-space: pre; opacity: 1;\" transform=\"translate(0,105.83)\">60</text></g></g><g class=\"overaxes-above\"/></g></g><g class=\"polarlayer\"/><g class=\"smithlayer\"/><g class=\"ternarylayer\"/><g class=\"geolayer\"/><g class=\"funnelarealayer\"/><g class=\"pielayer\"/><g class=\"iciclelayer\"/><g class=\"treemaplayer\"/><g class=\"sunburstlayer\"/><g class=\"glimages\"/><defs id=\"topdefs-62eab4\"><g class=\"clips\"/></defs><g class=\"layer-above\"><g class=\"imagelayer\"/><g class=\"shapelayer\"/></g><g class=\"infolayer\"><g class=\"g-gtitle\"><text class=\"gtitle\" x=\"35\" y=\"50\" text-anchor=\"start\" dy=\"0em\" style=\"font-family: 'Open Sans', verdana, arial, sans-serif; font-size: 17px; fill: rgb(42, 63, 95); opacity: 1; font-weight: normal; white-space: pre;\">Пользователи не совершавшие contacts_show</text></g><g class=\"g-xtitle\"><text class=\"xtitle\" x=\"350\" y=\"460.8\" text-anchor=\"middle\" style=\"font-family: 'Open Sans', verdana, arial, sans-serif; font-size: 14px; fill: rgb(42, 63, 95); opacity: 1; font-weight: normal; white-space: pre;\">Событие</text></g><g class=\"g-ytitle\"><text class=\"ytitle\" transform=\"rotate(-90,40.840625,260)\" x=\"40.840625\" y=\"260\" text-anchor=\"middle\" style=\"font-family: 'Open Sans', verdana, arial, sans-serif; font-size: 14px; fill: rgb(42, 63, 95); opacity: 1; font-weight: normal; white-space: pre;\">процент</text></g></g></svg>"
      ]
     },
     "metadata": {},
     "output_type": "display_data"
    }
   ],
   "source": [
    "fig = px.bar(converse, x='event', y='per',\n",
    "             title=\"Пользователи не совершавшие contacts_show\",labels = {'per': 'процент', 'event': 'Событие'})\n",
    "\n",
    "fig.show()"
   ]
  },
  {
   "cell_type": "code",
   "execution_count": 64,
   "metadata": {},
   "outputs": [
    {
     "data": {
      "text/html": [
       "<div>\n",
       "<style scoped>\n",
       "    .dataframe tbody tr th:only-of-type {\n",
       "        vertical-align: middle;\n",
       "    }\n",
       "\n",
       "    .dataframe tbody tr th {\n",
       "        vertical-align: top;\n",
       "    }\n",
       "\n",
       "    .dataframe thead th {\n",
       "        text-align: right;\n",
       "    }\n",
       "</style>\n",
       "<table border=\"1\" class=\"dataframe\">\n",
       "  <thead>\n",
       "    <tr style=\"text-align: right;\">\n",
       "      <th></th>\n",
       "      <th>event_time</th>\n",
       "      <th>event_name</th>\n",
       "      <th>user_id</th>\n",
       "      <th>source</th>\n",
       "      <th>diff_time</th>\n",
       "      <th>session_id</th>\n",
       "    </tr>\n",
       "  </thead>\n",
       "  <tbody>\n",
       "    <tr>\n",
       "      <th>31632</th>\n",
       "      <td>2019-10-19 21:34:33.849769</td>\n",
       "      <td>search</td>\n",
       "      <td>00157779-810c-4498-9e05-a1e9e3cedf93</td>\n",
       "      <td>yandex</td>\n",
       "      <td>0.000000</td>\n",
       "      <td>5</td>\n",
       "    </tr>\n",
       "    <tr>\n",
       "      <th>31636</th>\n",
       "      <td>2019-10-19 21:35:19.296599</td>\n",
       "      <td>search</td>\n",
       "      <td>00157779-810c-4498-9e05-a1e9e3cedf93</td>\n",
       "      <td>yandex</td>\n",
       "      <td>0.757447</td>\n",
       "      <td>5</td>\n",
       "    </tr>\n",
       "    <tr>\n",
       "      <th>31640</th>\n",
       "      <td>2019-10-19 21:36:44.344691</td>\n",
       "      <td>search</td>\n",
       "      <td>00157779-810c-4498-9e05-a1e9e3cedf93</td>\n",
       "      <td>yandex</td>\n",
       "      <td>1.417468</td>\n",
       "      <td>5</td>\n",
       "    </tr>\n",
       "    <tr>\n",
       "      <th>31655</th>\n",
       "      <td>2019-10-19 21:40:38.990477</td>\n",
       "      <td>photos_show</td>\n",
       "      <td>00157779-810c-4498-9e05-a1e9e3cedf93</td>\n",
       "      <td>yandex</td>\n",
       "      <td>3.910763</td>\n",
       "      <td>5</td>\n",
       "    </tr>\n",
       "    <tr>\n",
       "      <th>31659</th>\n",
       "      <td>2019-10-19 21:42:13.837523</td>\n",
       "      <td>photos_show</td>\n",
       "      <td>00157779-810c-4498-9e05-a1e9e3cedf93</td>\n",
       "      <td>yandex</td>\n",
       "      <td>1.580784</td>\n",
       "      <td>5</td>\n",
       "    </tr>\n",
       "    <tr>\n",
       "      <th>...</th>\n",
       "      <td>...</td>\n",
       "      <td>...</td>\n",
       "      <td>...</td>\n",
       "      <td>...</td>\n",
       "      <td>...</td>\n",
       "      <td>...</td>\n",
       "    </tr>\n",
       "    <tr>\n",
       "      <th>72584</th>\n",
       "      <td>2019-11-03 15:51:23.959572</td>\n",
       "      <td>tips_show</td>\n",
       "      <td>fffb9e79-b927-4dbb-9b48-7fd09b23a62b</td>\n",
       "      <td>google</td>\n",
       "      <td>0.464775</td>\n",
       "      <td>10368</td>\n",
       "    </tr>\n",
       "    <tr>\n",
       "      <th>72589</th>\n",
       "      <td>2019-11-03 15:51:57.899997</td>\n",
       "      <td>contacts_show</td>\n",
       "      <td>fffb9e79-b927-4dbb-9b48-7fd09b23a62b</td>\n",
       "      <td>google</td>\n",
       "      <td>0.565674</td>\n",
       "      <td>10368</td>\n",
       "    </tr>\n",
       "    <tr>\n",
       "      <th>72684</th>\n",
       "      <td>2019-11-03 16:07:40.932077</td>\n",
       "      <td>tips_show</td>\n",
       "      <td>fffb9e79-b927-4dbb-9b48-7fd09b23a62b</td>\n",
       "      <td>google</td>\n",
       "      <td>15.717201</td>\n",
       "      <td>10368</td>\n",
       "    </tr>\n",
       "    <tr>\n",
       "      <th>72688</th>\n",
       "      <td>2019-11-03 16:08:18.202734</td>\n",
       "      <td>tips_show</td>\n",
       "      <td>fffb9e79-b927-4dbb-9b48-7fd09b23a62b</td>\n",
       "      <td>google</td>\n",
       "      <td>0.621178</td>\n",
       "      <td>10368</td>\n",
       "    </tr>\n",
       "    <tr>\n",
       "      <th>72689</th>\n",
       "      <td>2019-11-03 16:08:25.388712</td>\n",
       "      <td>tips_show</td>\n",
       "      <td>fffb9e79-b927-4dbb-9b48-7fd09b23a62b</td>\n",
       "      <td>google</td>\n",
       "      <td>0.119766</td>\n",
       "      <td>10368</td>\n",
       "    </tr>\n",
       "  </tbody>\n",
       "</table>\n",
       "<p>27197 rows × 6 columns</p>\n",
       "</div>"
      ],
      "text/plain": [
       "                      event_time     event_name  \\\n",
       "31632 2019-10-19 21:34:33.849769  search          \n",
       "31636 2019-10-19 21:35:19.296599  search          \n",
       "31640 2019-10-19 21:36:44.344691  search          \n",
       "31655 2019-10-19 21:40:38.990477  photos_show     \n",
       "31659 2019-10-19 21:42:13.837523  photos_show     \n",
       "...                          ...          ...     \n",
       "72584 2019-11-03 15:51:23.959572  tips_show       \n",
       "72589 2019-11-03 15:51:57.899997  contacts_show   \n",
       "72684 2019-11-03 16:07:40.932077  tips_show       \n",
       "72688 2019-11-03 16:08:18.202734  tips_show       \n",
       "72689 2019-11-03 16:08:25.388712  tips_show       \n",
       "\n",
       "                                    user_id  source  diff_time  session_id  \n",
       "31632  00157779-810c-4498-9e05-a1e9e3cedf93  yandex  0.000000   5           \n",
       "31636  00157779-810c-4498-9e05-a1e9e3cedf93  yandex  0.757447   5           \n",
       "31640  00157779-810c-4498-9e05-a1e9e3cedf93  yandex  1.417468   5           \n",
       "31655  00157779-810c-4498-9e05-a1e9e3cedf93  yandex  3.910763   5           \n",
       "31659  00157779-810c-4498-9e05-a1e9e3cedf93  yandex  1.580784   5           \n",
       "...                                     ...     ...       ...  ..           \n",
       "72584  fffb9e79-b927-4dbb-9b48-7fd09b23a62b  google  0.464775   10368       \n",
       "72589  fffb9e79-b927-4dbb-9b48-7fd09b23a62b  google  0.565674   10368       \n",
       "72684  fffb9e79-b927-4dbb-9b48-7fd09b23a62b  google  15.717201  10368       \n",
       "72688  fffb9e79-b927-4dbb-9b48-7fd09b23a62b  google  0.621178   10368       \n",
       "72689  fffb9e79-b927-4dbb-9b48-7fd09b23a62b  google  0.119766   10368       \n",
       "\n",
       "[27197 rows x 6 columns]"
      ]
     },
     "execution_count": 64,
     "metadata": {},
     "output_type": "execute_result"
    }
   ],
   "source": [
    "contacts_show = data.query('user_id==@contacts_show_users')\n",
    "contacts_show"
   ]
  },
  {
   "cell_type": "code",
   "execution_count": 65,
   "metadata": {},
   "outputs": [
    {
     "data": {
      "text/html": [
       "<div>\n",
       "<style scoped>\n",
       "    .dataframe tbody tr th:only-of-type {\n",
       "        vertical-align: middle;\n",
       "    }\n",
       "\n",
       "    .dataframe tbody tr th {\n",
       "        vertical-align: top;\n",
       "    }\n",
       "\n",
       "    .dataframe thead th {\n",
       "        text-align: right;\n",
       "    }\n",
       "</style>\n",
       "<table border=\"1\" class=\"dataframe\">\n",
       "  <thead>\n",
       "    <tr style=\"text-align: right;\">\n",
       "      <th></th>\n",
       "      <th>event</th>\n",
       "      <th>all</th>\n",
       "      <th>per</th>\n",
       "    </tr>\n",
       "  </thead>\n",
       "  <tbody>\n",
       "    <tr>\n",
       "      <th>0</th>\n",
       "      <td>tips_show</td>\n",
       "      <td>12768</td>\n",
       "      <td>57.703258</td>\n",
       "    </tr>\n",
       "    <tr>\n",
       "      <th>2</th>\n",
       "      <td>photos_show</td>\n",
       "      <td>3828</td>\n",
       "      <td>17.300131</td>\n",
       "    </tr>\n",
       "    <tr>\n",
       "      <th>3</th>\n",
       "      <td>search</td>\n",
       "      <td>2084</td>\n",
       "      <td>9.418358</td>\n",
       "    </tr>\n",
       "    <tr>\n",
       "      <th>4</th>\n",
       "      <td>advert_open</td>\n",
       "      <td>1589</td>\n",
       "      <td>7.181272</td>\n",
       "    </tr>\n",
       "    <tr>\n",
       "      <th>5</th>\n",
       "      <td>map</td>\n",
       "      <td>1101</td>\n",
       "      <td>4.975821</td>\n",
       "    </tr>\n",
       "    <tr>\n",
       "      <th>7</th>\n",
       "      <td>favorites_add</td>\n",
       "      <td>424</td>\n",
       "      <td>1.916211</td>\n",
       "    </tr>\n",
       "    <tr>\n",
       "      <th>8</th>\n",
       "      <td>tips_click</td>\n",
       "      <td>333</td>\n",
       "      <td>1.504949</td>\n",
       "    </tr>\n",
       "  </tbody>\n",
       "</table>\n",
       "</div>"
      ],
      "text/plain": [
       "           event    all        per\n",
       "0  tips_show      12768  57.703258\n",
       "2  photos_show    3828   17.300131\n",
       "3  search         2084   9.418358 \n",
       "4  advert_open    1589   7.181272 \n",
       "5  map            1101   4.975821 \n",
       "7  favorites_add  424    1.916211 \n",
       "8  tips_click     333    1.504949 "
      ]
     },
     "execution_count": 65,
     "metadata": {},
     "output_type": "execute_result"
    }
   ],
   "source": [
    "converse1 = contacts_show['event_name'].value_counts().reset_index()\n",
    "converse1 = converse1.drop (index=[ 1 , 6])\n",
    "converse1.columns = ['event', 'all']\n",
    "converse1_sum = converse1['all'].sum()\n",
    "converse1['per'] = 100*(converse1['all']/converse1_sum)\n",
    "converse1"
   ]
  },
  {
   "cell_type": "code",
   "execution_count": 66,
   "metadata": {},
   "outputs": [
    {
     "data": {
      "image/svg+xml": [
       "<svg class=\"main-svg\" xmlns=\"http://www.w3.org/2000/svg\" xmlns:xlink=\"http://www.w3.org/1999/xlink\" width=\"840\" height=\"600\" style=\"\" viewBox=\"0 0 700 500\"><rect x=\"0\" y=\"0\" width=\"700\" height=\"500\" style=\"fill: rgb(255, 255, 255); fill-opacity: 1;\"/><defs id=\"defs-fcf6c2\"><g class=\"clips\"><clipPath id=\"clipfcf6c2xyplot\" class=\"plotclip\"><rect width=\"540\" height=\"320\"/></clipPath><clipPath class=\"axesclip\" id=\"clipfcf6c2x\"><rect x=\"80\" y=\"0\" width=\"540\" height=\"500\"/></clipPath><clipPath class=\"axesclip\" id=\"clipfcf6c2y\"><rect x=\"0\" y=\"100\" width=\"700\" height=\"320\"/></clipPath><clipPath class=\"axesclip\" id=\"clipfcf6c2xy\"><rect x=\"80\" y=\"100\" width=\"540\" height=\"320\"/></clipPath></g><g class=\"gradients\"/><g class=\"patterns\"/></defs><g class=\"bglayer\"><rect class=\"bg\" x=\"80\" y=\"100\" width=\"540\" height=\"320\" style=\"fill: rgb(229, 236, 246); fill-opacity: 1; stroke-width: 0;\"/></g><g class=\"layer-below\"><g class=\"imagelayer\"/><g class=\"shapelayer\"/></g><g class=\"cartesianlayer\"><g class=\"subplot xy\"><g class=\"layer-subplot\"><g class=\"shapelayer\"/><g class=\"imagelayer\"/></g><g class=\"gridlayer\"><g class=\"x\"/><g class=\"y\"><path class=\"ygrid crisp\" transform=\"translate(0,367.32)\" d=\"M80,0h540\" style=\"stroke: rgb(255, 255, 255); stroke-opacity: 1; stroke-width: 1px;\"/><path class=\"ygrid crisp\" transform=\"translate(0,314.63)\" d=\"M80,0h540\" style=\"stroke: rgb(255, 255, 255); stroke-opacity: 1; stroke-width: 1px;\"/><path class=\"ygrid crisp\" transform=\"translate(0,261.95)\" d=\"M80,0h540\" style=\"stroke: rgb(255, 255, 255); stroke-opacity: 1; stroke-width: 1px;\"/><path class=\"ygrid crisp\" transform=\"translate(0,209.26999999999998)\" d=\"M80,0h540\" style=\"stroke: rgb(255, 255, 255); stroke-opacity: 1; stroke-width: 1px;\"/><path class=\"ygrid crisp\" transform=\"translate(0,156.57999999999998)\" d=\"M80,0h540\" style=\"stroke: rgb(255, 255, 255); stroke-opacity: 1; stroke-width: 1px;\"/><path class=\"ygrid crisp\" transform=\"translate(0,103.9)\" d=\"M80,0h540\" style=\"stroke: rgb(255, 255, 255); stroke-opacity: 1; stroke-width: 1px;\"/></g></g><g class=\"zerolinelayer\"><path class=\"yzl zl crisp\" transform=\"translate(0,420)\" d=\"M80,0h540\" style=\"stroke: rgb(255, 255, 255); stroke-opacity: 1; stroke-width: 2px;\"/></g><path class=\"xlines-below\"/><path class=\"ylines-below\"/><g class=\"overlines-below\"/><g class=\"xaxislayer-below\"/><g class=\"yaxislayer-below\"/><g class=\"overaxes-below\"/><g class=\"plot\" transform=\"translate(80,100)\" clip-path=\"url(#clipfcf6c2xyplot)\"><g class=\"barlayer mlayer\"><g class=\"trace bars\" style=\"opacity: 1;\"><g class=\"points\"><g class=\"point\"><path d=\"M7.71,320V16H69.43V320Z\" style=\"vector-effect: non-scaling-stroke; opacity: 1; stroke-width: 0.5px; fill: rgb(99, 110, 250); fill-opacity: 1; stroke: rgb(229, 236, 246); stroke-opacity: 1;\"/></g><g class=\"point\"><path d=\"M84.86,320V228.86H146.57V320Z\" style=\"vector-effect: non-scaling-stroke; opacity: 1; stroke-width: 0.5px; fill: rgb(99, 110, 250); fill-opacity: 1; stroke: rgb(229, 236, 246); stroke-opacity: 1;\"/></g><g class=\"point\"><path d=\"M162,320V270.38H223.71V320Z\" style=\"vector-effect: non-scaling-stroke; opacity: 1; stroke-width: 0.5px; fill: rgb(99, 110, 250); fill-opacity: 1; stroke: rgb(229, 236, 246); stroke-opacity: 1;\"/></g><g class=\"point\"><path d=\"M239.14,320V282.17H300.86V320Z\" style=\"vector-effect: non-scaling-stroke; opacity: 1; stroke-width: 0.5px; fill: rgb(99, 110, 250); fill-opacity: 1; stroke: rgb(229, 236, 246); stroke-opacity: 1;\"/></g><g class=\"point\"><path d=\"M316.29,320V293.79H378V320Z\" style=\"vector-effect: non-scaling-stroke; opacity: 1; stroke-width: 0.5px; fill: rgb(99, 110, 250); fill-opacity: 1; stroke: rgb(229, 236, 246); stroke-opacity: 1;\"/></g><g class=\"point\"><path d=\"M393.43,320V309.9H455.14V320Z\" style=\"vector-effect: non-scaling-stroke; opacity: 1; stroke-width: 0.5px; fill: rgb(99, 110, 250); fill-opacity: 1; stroke: rgb(229, 236, 246); stroke-opacity: 1;\"/></g><g class=\"point\"><path d=\"M470.57,320V312.07H532.29V320Z\" style=\"vector-effect: non-scaling-stroke; opacity: 1; stroke-width: 0.5px; fill: rgb(99, 110, 250); fill-opacity: 1; stroke: rgb(229, 236, 246); stroke-opacity: 1;\"/></g></g></g></g></g><g class=\"overplot\"/><path class=\"xlines-above crisp\" d=\"M0,0\" style=\"fill: none;\"/><path class=\"ylines-above crisp\" d=\"M0,0\" style=\"fill: none;\"/><g class=\"overlines-above\"/><g class=\"xaxislayer-above\"><g class=\"xtick\"><text text-anchor=\"middle\" x=\"0\" y=\"433\" transform=\"translate(118.57,0)\" style=\"font-family: 'Open Sans', verdana, arial, sans-serif; font-size: 12px; fill: rgb(42, 63, 95); fill-opacity: 1; white-space: pre; opacity: 1;\">tips_show</text></g><g class=\"xtick\"><text text-anchor=\"middle\" x=\"0\" y=\"433\" transform=\"translate(195.70999999999998,0)\" style=\"font-family: 'Open Sans', verdana, arial, sans-serif; font-size: 12px; fill: rgb(42, 63, 95); fill-opacity: 1; white-space: pre; opacity: 1;\">photos_show</text></g><g class=\"xtick\"><text text-anchor=\"middle\" x=\"0\" y=\"433\" transform=\"translate(272.86,0)\" style=\"font-family: 'Open Sans', verdana, arial, sans-serif; font-size: 12px; fill: rgb(42, 63, 95); fill-opacity: 1; white-space: pre; opacity: 1;\">search</text></g><g class=\"xtick\"><text text-anchor=\"middle\" x=\"0\" y=\"433\" transform=\"translate(350,0)\" style=\"font-family: 'Open Sans', verdana, arial, sans-serif; font-size: 12px; fill: rgb(42, 63, 95); fill-opacity: 1; white-space: pre; opacity: 1;\">advert_open</text></g><g class=\"xtick\"><text text-anchor=\"middle\" x=\"0\" y=\"433\" transform=\"translate(427.14,0)\" style=\"font-family: 'Open Sans', verdana, arial, sans-serif; font-size: 12px; fill: rgb(42, 63, 95); fill-opacity: 1; white-space: pre; opacity: 1;\">map</text></g><g class=\"xtick\"><text text-anchor=\"middle\" x=\"0\" y=\"433\" transform=\"translate(504.29,0)\" style=\"font-family: 'Open Sans', verdana, arial, sans-serif; font-size: 12px; fill: rgb(42, 63, 95); fill-opacity: 1; white-space: pre; opacity: 1;\">favorites_add</text></g><g class=\"xtick\"><text text-anchor=\"middle\" x=\"0\" y=\"433\" transform=\"translate(581.4300000000001,0)\" style=\"font-family: 'Open Sans', verdana, arial, sans-serif; font-size: 12px; fill: rgb(42, 63, 95); fill-opacity: 1; white-space: pre; opacity: 1;\">tips_click</text></g></g><g class=\"yaxislayer-above\"><g class=\"ytick\"><text text-anchor=\"end\" x=\"79\" y=\"4.199999999999999\" transform=\"translate(0,420)\" style=\"font-family: 'Open Sans', verdana, arial, sans-serif; font-size: 12px; fill: rgb(42, 63, 95); fill-opacity: 1; white-space: pre; opacity: 1;\">0</text></g><g class=\"ytick\"><text text-anchor=\"end\" x=\"79\" y=\"4.199999999999999\" style=\"font-family: 'Open Sans', verdana, arial, sans-serif; font-size: 12px; fill: rgb(42, 63, 95); fill-opacity: 1; white-space: pre; opacity: 1;\" transform=\"translate(0,367.32)\">10</text></g><g class=\"ytick\"><text text-anchor=\"end\" x=\"79\" y=\"4.199999999999999\" style=\"font-family: 'Open Sans', verdana, arial, sans-serif; font-size: 12px; fill: rgb(42, 63, 95); fill-opacity: 1; white-space: pre; opacity: 1;\" transform=\"translate(0,314.63)\">20</text></g><g class=\"ytick\"><text text-anchor=\"end\" x=\"79\" y=\"4.199999999999999\" style=\"font-family: 'Open Sans', verdana, arial, sans-serif; font-size: 12px; fill: rgb(42, 63, 95); fill-opacity: 1; white-space: pre; opacity: 1;\" transform=\"translate(0,261.95)\">30</text></g><g class=\"ytick\"><text text-anchor=\"end\" x=\"79\" y=\"4.199999999999999\" style=\"font-family: 'Open Sans', verdana, arial, sans-serif; font-size: 12px; fill: rgb(42, 63, 95); fill-opacity: 1; white-space: pre; opacity: 1;\" transform=\"translate(0,209.26999999999998)\">40</text></g><g class=\"ytick\"><text text-anchor=\"end\" x=\"79\" y=\"4.199999999999999\" style=\"font-family: 'Open Sans', verdana, arial, sans-serif; font-size: 12px; fill: rgb(42, 63, 95); fill-opacity: 1; white-space: pre; opacity: 1;\" transform=\"translate(0,156.57999999999998)\">50</text></g><g class=\"ytick\"><text text-anchor=\"end\" x=\"79\" y=\"4.199999999999999\" style=\"font-family: 'Open Sans', verdana, arial, sans-serif; font-size: 12px; fill: rgb(42, 63, 95); fill-opacity: 1; white-space: pre; opacity: 1;\" transform=\"translate(0,103.9)\">60</text></g></g><g class=\"overaxes-above\"/></g></g><g class=\"polarlayer\"/><g class=\"smithlayer\"/><g class=\"ternarylayer\"/><g class=\"geolayer\"/><g class=\"funnelarealayer\"/><g class=\"pielayer\"/><g class=\"iciclelayer\"/><g class=\"treemaplayer\"/><g class=\"sunburstlayer\"/><g class=\"glimages\"/><defs id=\"topdefs-fcf6c2\"><g class=\"clips\"/></defs><g class=\"layer-above\"><g class=\"imagelayer\"/><g class=\"shapelayer\"/></g><g class=\"infolayer\"><g class=\"g-gtitle\"><text class=\"gtitle\" x=\"35\" y=\"50\" text-anchor=\"start\" dy=\"0em\" style=\"font-family: 'Open Sans', verdana, arial, sans-serif; font-size: 17px; fill: rgb(42, 63, 95); opacity: 1; font-weight: normal; white-space: pre;\">Пользователи совершавшие contacts_show</text></g><g class=\"g-xtitle\"><text class=\"xtitle\" x=\"350\" y=\"460.8\" text-anchor=\"middle\" style=\"font-family: 'Open Sans', verdana, arial, sans-serif; font-size: 14px; fill: rgb(42, 63, 95); opacity: 1; font-weight: normal; white-space: pre;\">Событие</text></g><g class=\"g-ytitle\"><text class=\"ytitle\" transform=\"rotate(-90,40.840625,260)\" x=\"40.840625\" y=\"260\" text-anchor=\"middle\" style=\"font-family: 'Open Sans', verdana, arial, sans-serif; font-size: 14px; fill: rgb(42, 63, 95); opacity: 1; font-weight: normal; white-space: pre;\">процент</text></g></g></svg>"
      ]
     },
     "metadata": {},
     "output_type": "display_data"
    }
   ],
   "source": [
    "fig = px.bar(converse1, x='event', y='per',\n",
    "             title=\"Пользователи совершавшие contacts_show\",labels = {'per': 'процент', 'event': 'Событие'})\n",
    "\n",
    "fig.show()"
   ]
  },
  {
   "cell_type": "markdown",
   "metadata": {},
   "source": [
    "Группа пользователей совершвашие целевое действие имеют частоту photos_show выше 16.9% против 13.2%\n",
    "\n",
    "Но открытие карточки ниже 7% против 9.73%, так же ниже откртие карты 4.86.5 против 5.91%"
   ]
  },
  {
   "cell_type": "markdown",
   "metadata": {},
   "source": [
    "## Гипотезы\n",
    "\n"
   ]
  },
  {
   "cell_type": "markdown",
   "metadata": {},
   "source": [
    "### Одни пользователи совершают действия tips_show и tips_click, другие – только tips_show. Проверить гипотезу, что конверсия в просмотр контактов различается у этих двух групп"
   ]
  },
  {
   "cell_type": "markdown",
   "metadata": {},
   "source": [
    "H0: конверсия в просмотры контактов не различается у групп по действиям tips_show + tips_click и tips_show"
   ]
  },
  {
   "cell_type": "markdown",
   "metadata": {},
   "source": [
    "H1: конверсия в просмотры отличается"
   ]
  },
  {
   "cell_type": "code",
   "execution_count": 67,
   "metadata": {},
   "outputs": [
    {
     "name": "stdout",
     "output_type": "stream",
     "text": [
      "Количество пользователей, совершивших действие tips_show: 2801\n"
     ]
    }
   ],
   "source": [
    "tips_show_all = data.query('event_name ==\"tips_show\"')['user_id'].unique().tolist()\n",
    "print('Количество пользователей, совершивших действие tips_show:', len(tips_show_all))"
   ]
  },
  {
   "cell_type": "code",
   "execution_count": 68,
   "metadata": {
    "scrolled": true
   },
   "outputs": [
    {
     "name": "stdout",
     "output_type": "stream",
     "text": [
      "Количество пользователей, совершивших действия tips_show + tips_click: 297\n"
     ]
    }
   ],
   "source": [
    "tips_show_click = data.query('event_name ==\"tips_click\" and user_id==@tips_show_all')['user_id'].unique().tolist()\n",
    "print('Количество пользователей, совершивших действия tips_show + tips_click:', len(tips_show_click))"
   ]
  },
  {
   "cell_type": "code",
   "execution_count": 69,
   "metadata": {
    "scrolled": true
   },
   "outputs": [
    {
     "name": "stdout",
     "output_type": "stream",
     "text": [
      "Количество пользователей, совершивших только действие tips_show: 2504\n"
     ]
    }
   ],
   "source": [
    "tips_show = list(set(tips_show_all) - set(tips_show_click))\n",
    "print('Количество пользователей, совершивших только действие tips_show:', len(tips_show))"
   ]
  },
  {
   "cell_type": "markdown",
   "metadata": {},
   "source": [
    "Уровень статистической значимости установим на уровне alpha = 0.05."
   ]
  },
  {
   "cell_type": "code",
   "execution_count": 70,
   "metadata": {},
   "outputs": [
    {
     "name": "stdout",
     "output_type": "stream",
     "text": [
      "Количество пользователей, совершивших только действие tips_show и просмотревших контакты: 425\n"
     ]
    }
   ],
   "source": [
    "target_tips_show = data.query('user_id in @tips_show and event_name == \"contacts_show\"')['user_id'].unique()\n",
    "print('Количество пользователей, совершивших только действие tips_show и просмотревших контакты:', len(target_tips_show))"
   ]
  },
  {
   "cell_type": "code",
   "execution_count": 71,
   "metadata": {},
   "outputs": [
    {
     "name": "stdout",
     "output_type": "stream",
     "text": [
      "Количество пользователей, совершивших действия tips_show + tips_click и просмотревших контакты: 91\n"
     ]
    }
   ],
   "source": [
    "target_tips_show_click = data.query('user_id in @tips_show_click and event_name == \"contacts_show\"')['user_id'].unique()\n",
    "print('Количество пользователей, совершивших действия tips_show + tips_click и просмотревших контакты:',\n",
    "      len(target_tips_show_click))"
   ]
  },
  {
   "cell_type": "code",
   "execution_count": 72,
   "metadata": {},
   "outputs": [
    {
     "name": "stdout",
     "output_type": "stream",
     "text": [
      "p-value:  9.218316554537864e-09\n",
      "Конверсии: 0.16972843450479233 и 0.3063973063973064\n",
      "Отвергаем нулевую гипотезу: между долями есть значимая разница\n"
     ]
    }
   ],
   "source": [
    "alpha = 0.05  # критический уровень статистической значимости\n",
    "\n",
    "successes = np.array([len(target_tips_show),len(target_tips_show_click)])\n",
    "trials = np.array([len(tips_show),len(tips_show_click)])\n",
    "\n",
    "# пропорция успехов в первой группе:\n",
    "p1 = successes[0]/trials[0]\n",
    "\n",
    "# пропорция успехов во второй группе:\n",
    "p2 = successes[1]/trials[1]\n",
    "\n",
    "# пропорция успехов в комбинированном датасете:\n",
    "p_combined = (successes[0] + successes[1]) / (trials[0] + trials[1])\n",
    "\n",
    "# разница пропорций в датасетах\n",
    "difference = p1 - p2 \n",
    "\n",
    "# считаем статистику в ст.отклонениях стандартного нормального распределения\n",
    "z_value = difference / mth.sqrt(p_combined * (1 - p_combined) * (1 / trials[0] + 1 / trials[1]))\n",
    "\n",
    "# задаем стандартное нормальное распределение (среднее 0, ст.отклонение 1)\n",
    "distr = st.norm(0, 1)  \n",
    "\n",
    "p_value = (1 - distr.cdf(abs(z_value))) * 2\n",
    "\n",
    "print('p-value: ', p_value)\n",
    "print('Конверсии:',p1, 'и', p2)\n",
    "\n",
    "if p_value < alpha:\n",
    "    print('Отвергаем нулевую гипотезу: между долями есть значимая разница')\n",
    "else:\n",
    "    print(\n",
    "        'Не получилось отвергнуть нулевую гипотезу, нет оснований считать доли разными'\n",
    "    )"
   ]
  },
  {
   "cell_type": "markdown",
   "metadata": {},
   "source": [
    "Результат теста показывает, что разница между долями значима, то есть вероятность просмотра контактов среди пользователей, которые совершили события tips_show и tips_click, выше, чем среди тех, кто совершил только tips_show. Конверсия для первой группы (выполнен только tips_show) равна 16,9%, в то время как для второй группы (выполнены оба события - tips_show и tips_click) она значительно выше - 30,6%."
   ]
  },
  {
   "cell_type": "markdown",
   "metadata": {},
   "source": [
    "###  Проверим гипотезу о том что пользователи добавлявшие карточку в избранное имеют конверсию выше в просмотр контакта чем те кто открывали карту"
   ]
  },
  {
   "cell_type": "markdown",
   "metadata": {},
   "source": [
    "H0: Конверсия в целевое событие между группами кто добавлял объявление в избраное и те кто открывал карту одинаковая\n",
    "\n",
    "H1: Конверсия у этих двух групп различается"
   ]
  },
  {
   "cell_type": "code",
   "execution_count": 73,
   "metadata": {},
   "outputs": [
    {
     "name": "stdout",
     "output_type": "stream",
     "text": [
      "Кол-во пользователей, добавивших в избраное: 351\n"
     ]
    }
   ],
   "source": [
    "favorites_add = data.query('event_name ==\"favorites_add\"')['user_id'].unique().tolist()\n",
    "print('Кол-во пользователей, добавивших в избраное:', len(favorites_add))"
   ]
  },
  {
   "cell_type": "code",
   "execution_count": 74,
   "metadata": {},
   "outputs": [
    {
     "name": "stdout",
     "output_type": "stream",
     "text": [
      "Кол-во пользователей, открывших карту: 1456\n"
     ]
    }
   ],
   "source": [
    "map_add = data.query('event_name ==\"map\"')['user_id'].unique().tolist()\n",
    "print('Кол-во пользователей, открывших карту:', len(map_add))"
   ]
  },
  {
   "cell_type": "code",
   "execution_count": 75,
   "metadata": {},
   "outputs": [
    {
     "name": "stdout",
     "output_type": "stream",
     "text": [
      "Кол-во пользователей, добавивших в избраное и просмотревших контакты: 136\n"
     ]
    }
   ],
   "source": [
    "favorites = data.query('user_id in @favorites_add and event_name == \"contacts_show\"')['user_id'].unique()\n",
    "print('Кол-во пользователей, добавивших в избраное и просмотревших контакты:', len(favorites))"
   ]
  },
  {
   "cell_type": "code",
   "execution_count": 76,
   "metadata": {},
   "outputs": [
    {
     "name": "stdout",
     "output_type": "stream",
     "text": [
      "Количество пользователей,открывших карту и просмотревших контакты: 289\n"
     ]
    }
   ],
   "source": [
    "map_s = data.query('user_id in @map_add and event_name == \"contacts_show\"')['user_id'].unique()\n",
    "print('Количество пользователей,открывших карту и просмотревших контакты:', len(map_s))"
   ]
  },
  {
   "cell_type": "code",
   "execution_count": 77,
   "metadata": {},
   "outputs": [
    {
     "name": "stdout",
     "output_type": "stream",
     "text": [
      "p-value:  6.727951529228449e-14\n",
      "Конверсии: 0.38746438746438744 и 0.19848901098901098\n",
      "Отвергаем нулевую гипотезу: между конверсией есть значимая разница\n"
     ]
    }
   ],
   "source": [
    "#проверка гипотезы о равенстве долей \n",
    "alpha = 0.05  # критический уровень статистической значимости\n",
    "\n",
    "successes = np.array([len(favorites), len(map_s)])\n",
    "trials = np.array([len(favorites_add),len(map_add)])\n",
    "\n",
    "# пропорция успехов в первой группе:\n",
    "p1 = successes[0]/trials[0]\n",
    "\n",
    "# пропорция успехов во второй группе:\n",
    "p2 = successes[1]/trials[1]\n",
    "\n",
    "# пропорция успехов в комбинированном датасете:\n",
    "p_combined = (successes[0] + successes[1]) / (trials[0] + trials[1])\n",
    "\n",
    "# разница пропорций в датасетах\n",
    "difference = p1 - p2 \n",
    "\n",
    "# считаем статистику в ст.отклонениях стандартного нормального распределения\n",
    "z_value = difference / mth.sqrt(p_combined * (1 - p_combined) * (1 / trials[0] + 1 / trials[1]))\n",
    "\n",
    "# задаем стандартное нормальное распределение (среднее 0, ст.отклонение 1)\n",
    "distr = st.norm(0, 1)  \n",
    "\n",
    "p_value = (1 - distr.cdf(abs(z_value))) * 2\n",
    "\n",
    "print('p-value: ', p_value)\n",
    "print('Конверсии:',p1, 'и', p2)\n",
    "\n",
    "if p_value < alpha:\n",
    "    print('Отвергаем нулевую гипотезу: между конверсией есть значимая разница')\n",
    "else:\n",
    "    print(\n",
    "        'Не получилось отвергнуть нулевую гипотезу, нет оснований считать конверсию разной'\n",
    "    )"
   ]
  },
  {
   "cell_type": "markdown",
   "metadata": {},
   "source": [
    "Результат проверки гипотез говорит нам о том что конверсия в целевое действие между теми кто добавлял объявление в избраное и те кто открывал карту разная.\n",
    "\n",
    "конверсия среди тех кто добавил в избраное 38% против 19%"
   ]
  },
  {
   "cell_type": "markdown",
   "metadata": {},
   "source": [
    "## Вывод и рекомендации"
   ]
  },
  {
   "cell_type": "markdown",
   "metadata": {},
   "source": [
    "По результатам анализа датасета приложения \"Ненужные вещи\" обнаружено 74197 записей.\n",
    "\n",
    "Самыми популярными действиями являются: tips_show-40055, photos_show-10012, search-6784. Целевое действие просмотр контакта выполняет лишь 4529.\n",
    "\n",
    "Мы объеденили похожие события такие как search_1,2,3,4,5,6,7 и contacts_show и show_contacts, среди данных не было обнаружено дубликатов.\n",
    "\n",
    "Были выделенны пользовательские сессии с тайм-айтом в 30 минут, т.к данное время является оптимальным для сброса сбора данных в рамках одной сессии. Всего получилось 10368 сессий.\n",
    "\n",
    "Лучшее удержание пользователей было у пришедших в приложение с 07-14 число, далее удержание на 14 дней только снижалось.\n",
    "\n",
    "Мы опредлеили сценарий пользователя исключив повторяющиеся события, и самыми популярными сценариями были выявленны:map-tips_show-contacts_show, search-photos_show-contacts_show, tips_show-map-contacts_show. Всего без повторявшихся событий 17854.\n",
    "\n",
    "Данные сценарии мы изучили на воронке конверсии и вот какие данные мы получили. В данном сценарии пользователи с шага карта 1456 человек на следующий шаг tips_show переходит 93% из них и до целевого действия показать контакт доходит лишь 275 человек что составляет 20,3% что является не самой низкой конверсией\n",
    "В данном сценарии пользователи начинают с шага поиск 1666 человек на следующий шаг photos_show переходит лишь 39% из них и до целевого действия показать контакт доходит лишь 192 человека что составляет 30% что является хорошей конверсией для сценария.\n",
    "\n",
    "В данном сценарии пользователи начинают с шага увидел рекомендованное объявление 2801 человек на следующий шаг map переходит лишь 48% из них и до целевого действия показать контакт доходит лишь 275 человека что составляет 20% что является не самой низкой конверсией\n",
    "\n",
    "Сценарий пользователя search-photos_show-contacts_show оказался самым конверсионным для достижения целевого действия целых 30%\n",
    "\n",
    "Конверсию хуже показали два других сценария на уровне 20% что может быть связано с тем что рекомендованное объявление предлагает слишком удаленные от пользователя местоположения и из-за этого пользователь не переходит к звонку\n",
    "\n",
    "Выделив две группы тех кто сделал целивое и кто его не сделал расичтали частоту собитый у этих двух групп. Группа пользователей совершвашие целевое действие имеют частоту photos_show выше 16.9% против 13.2%. Но открытие карточки ниже 7% против 9.73%, так же ниже откртие карты 4.86.5 против 5.91%\n",
    "В среднем обе группы пользователей используют приложение одинаково.\n",
    "\n",
    "Так же были проверены две гипотезы: 1- Одни пользователи совершают действия tips_show и tips_click, другие – только tips_show. Проверить гипотезу, что конверсия в просмотр контактов различается у этих двух групп\n",
    "\n",
    "H0: конверсия в просмотры контактов не различается у групп по действиям tips_show + tips_click и tips_show\n",
    "\n",
    "H1: конверсия в просмотры отличается\n",
    "\n",
    "По итогу проверки данной гипотезы мы видим, что разница между долями значима, то есть вероятность просмотра контактов среди пользователей, которые совершили события tips_show и tips_click, выше, чем среди тех, кто совершил только tips_show. Конверсия для первой группы (выполнен только tips_show) равна 16,9%, в то время как для второй группы (выполнены оба события - tips_show и tips_click) она значительно выше - 30,6%.\n",
    "\n",
    "2- Проверим гипотезу о том что пользователи добавлявшие карточку в избранное имеют конверсию выше в просмотр контакта чем те кто открывали карту\n",
    "H0: Конверсия в целевое событие между группами кто добавлял объявление в избраное и те кто открывал карту одинаковая\n",
    "\n",
    "H1: Конверсия у этих двух групп различается\n",
    "\n",
    "Результат проверки гипотез говорит нам о том что конверсия в целевое действие между теми кто добавлял объявление в избраное и те кто открывал карту разная.\n",
    "\n",
    "конверсия среди тех кто добавил в избраное 38% против 19%"
   ]
  },
  {
   "cell_type": "markdown",
   "metadata": {},
   "source": [
    "### Рекомендации"
   ]
  },
  {
   "cell_type": "markdown",
   "metadata": {},
   "source": [
    "1. Объединить для сбора дынных одинаковые действия такие как search_1,2,3,4,5,6,7 и contacts_show и show_contacts.\n",
    "\n",
    "2. Разобраться с низкой конверсией в сценарии  tips_show-map-contacts_show, возможно рекомендованные объявления находятся слишком далеко от текущей геолокации пользователя, и после открытия карты пользователь принимает решение поиска другого объявления.\n",
    "\n",
    "3. Изучить в чем причина низких показателей возврата пользователей в приложение, возможно стоит изменить интерфейс приложения или улучшить рекомендации.\n",
    "\n",
    "4. Использовать чаще рекомендованные объявления для совершения целевого действия"
   ]
  },
  {
   "cell_type": "markdown",
   "metadata": {},
   "source": [
    "### Презентация"
   ]
  },
  {
   "cell_type": "markdown",
   "metadata": {},
   "source": [
    "https://disk.yandex.ru/i/3XVUtNHgnw0Lsg"
   ]
  }
 ],
 "metadata": {
  "ExecuteTimeLog": [
   {
    "duration": 5,
    "start_time": "2024-01-18T09:00:55.837Z"
   },
   {
    "duration": 1627,
    "start_time": "2024-01-18T09:07:58.039Z"
   },
   {
    "duration": 4,
    "start_time": "2024-01-18T09:08:21.239Z"
   },
   {
    "duration": 299,
    "start_time": "2024-01-18T09:10:01.566Z"
   },
   {
    "duration": 468,
    "start_time": "2024-01-18T09:10:26.224Z"
   },
   {
    "duration": 12,
    "start_time": "2024-01-18T09:10:35.153Z"
   },
   {
    "duration": 30,
    "start_time": "2024-01-18T10:04:40.566Z"
   },
   {
    "duration": 21,
    "start_time": "2024-01-18T10:06:24.090Z"
   },
   {
    "duration": 16,
    "start_time": "2024-01-18T10:06:31.195Z"
   },
   {
    "duration": 8,
    "start_time": "2024-01-18T10:08:53.117Z"
   },
   {
    "duration": 31,
    "start_time": "2024-01-18T10:09:06.374Z"
   },
   {
    "duration": 42,
    "start_time": "2024-01-18T10:09:41.202Z"
   },
   {
    "duration": 9,
    "start_time": "2024-01-18T10:09:48.189Z"
   },
   {
    "duration": 1358,
    "start_time": "2024-01-18T10:16:32.972Z"
   },
   {
    "duration": 19,
    "start_time": "2024-01-18T10:16:48.441Z"
   },
   {
    "duration": 9,
    "start_time": "2024-01-18T10:17:04.624Z"
   },
   {
    "duration": 18,
    "start_time": "2024-01-18T10:17:13.631Z"
   },
   {
    "duration": 8,
    "start_time": "2024-01-18T10:20:39.937Z"
   },
   {
    "duration": 1242,
    "start_time": "2024-01-18T15:45:28.756Z"
   },
   {
    "duration": 15,
    "start_time": "2024-01-18T15:45:43.142Z"
   },
   {
    "duration": 9,
    "start_time": "2024-01-18T15:45:47.061Z"
   },
   {
    "duration": 4,
    "start_time": "2024-01-18T15:51:22.891Z"
   },
   {
    "duration": 17,
    "start_time": "2024-01-18T15:52:12.741Z"
   },
   {
    "duration": 12,
    "start_time": "2024-01-18T15:52:20.157Z"
   },
   {
    "duration": 36,
    "start_time": "2024-01-18T15:52:28.976Z"
   },
   {
    "duration": 29,
    "start_time": "2024-01-18T15:52:43.507Z"
   },
   {
    "duration": 16,
    "start_time": "2024-01-18T15:53:43.573Z"
   },
   {
    "duration": 3,
    "start_time": "2024-01-18T17:52:33.421Z"
   },
   {
    "duration": 12,
    "start_time": "2024-01-18T17:52:48.430Z"
   },
   {
    "duration": 10,
    "start_time": "2024-01-18T17:53:18.038Z"
   },
   {
    "duration": 17,
    "start_time": "2024-01-18T17:53:26.401Z"
   },
   {
    "duration": 20,
    "start_time": "2024-01-18T17:53:28.724Z"
   },
   {
    "duration": 53,
    "start_time": "2024-01-19T15:52:42.304Z"
   },
   {
    "duration": 7,
    "start_time": "2024-01-19T15:52:52.453Z"
   },
   {
    "duration": 1482,
    "start_time": "2024-01-19T15:52:54.818Z"
   },
   {
    "duration": 273,
    "start_time": "2024-01-19T15:52:56.303Z"
   },
   {
    "duration": 13,
    "start_time": "2024-01-19T15:52:56.577Z"
   },
   {
    "duration": 26,
    "start_time": "2024-01-19T15:52:56.591Z"
   },
   {
    "duration": 8,
    "start_time": "2024-01-19T15:52:56.619Z"
   },
   {
    "duration": 11,
    "start_time": "2024-01-19T15:52:56.628Z"
   },
   {
    "duration": 8,
    "start_time": "2024-01-19T15:52:56.641Z"
   },
   {
    "duration": 17,
    "start_time": "2024-01-19T15:52:56.650Z"
   },
   {
    "duration": 56,
    "start_time": "2024-01-19T15:52:56.668Z"
   },
   {
    "duration": 7,
    "start_time": "2024-01-19T15:52:56.725Z"
   },
   {
    "duration": 21,
    "start_time": "2024-01-19T15:52:56.733Z"
   },
   {
    "duration": 19,
    "start_time": "2024-01-19T15:52:56.756Z"
   },
   {
    "duration": 8,
    "start_time": "2024-01-19T15:52:56.777Z"
   },
   {
    "duration": 10,
    "start_time": "2024-01-19T15:52:56.787Z"
   },
   {
    "duration": 39,
    "start_time": "2024-01-19T15:52:56.799Z"
   },
   {
    "duration": 9,
    "start_time": "2024-01-19T15:52:56.840Z"
   },
   {
    "duration": 23,
    "start_time": "2024-01-19T15:52:56.850Z"
   },
   {
    "duration": 12,
    "start_time": "2024-01-19T15:52:56.874Z"
   },
   {
    "duration": 9,
    "start_time": "2024-01-19T15:52:56.887Z"
   },
   {
    "duration": 41,
    "start_time": "2024-01-19T15:52:56.897Z"
   },
   {
    "duration": 11,
    "start_time": "2024-01-19T15:52:56.940Z"
   },
   {
    "duration": 19,
    "start_time": "2024-01-19T15:52:56.953Z"
   },
   {
    "duration": 55,
    "start_time": "2024-01-19T16:17:09.422Z"
   },
   {
    "duration": 10,
    "start_time": "2024-01-19T16:17:18.015Z"
   },
   {
    "duration": 77,
    "start_time": "2024-01-19T16:19:35.603Z"
   },
   {
    "duration": 866,
    "start_time": "2024-01-19T16:19:45.386Z"
   },
   {
    "duration": 828,
    "start_time": "2024-01-19T16:19:51.782Z"
   },
   {
    "duration": 804,
    "start_time": "2024-01-19T16:20:06.594Z"
   },
   {
    "duration": 15,
    "start_time": "2024-01-19T16:52:11.336Z"
   },
   {
    "duration": 793,
    "start_time": "2024-01-19T16:53:34.072Z"
   },
   {
    "duration": 1210,
    "start_time": "2024-01-20T13:22:55.485Z"
   },
   {
    "duration": 243,
    "start_time": "2024-01-20T13:22:56.696Z"
   },
   {
    "duration": 10,
    "start_time": "2024-01-20T13:22:56.940Z"
   },
   {
    "duration": 74,
    "start_time": "2024-01-20T13:22:56.952Z"
   },
   {
    "duration": 103,
    "start_time": "2024-01-20T13:22:57.028Z"
   },
   {
    "duration": 82,
    "start_time": "2024-01-20T13:22:57.132Z"
   },
   {
    "duration": 8,
    "start_time": "2024-01-20T13:22:57.216Z"
   },
   {
    "duration": 17,
    "start_time": "2024-01-20T13:22:57.225Z"
   },
   {
    "duration": 32,
    "start_time": "2024-01-20T13:22:57.244Z"
   },
   {
    "duration": 5,
    "start_time": "2024-01-20T13:22:57.277Z"
   },
   {
    "duration": 31,
    "start_time": "2024-01-20T13:22:57.283Z"
   },
   {
    "duration": 16,
    "start_time": "2024-01-20T13:22:57.315Z"
   },
   {
    "duration": 16,
    "start_time": "2024-01-20T13:22:57.332Z"
   },
   {
    "duration": 3,
    "start_time": "2024-01-20T13:22:57.350Z"
   },
   {
    "duration": 17,
    "start_time": "2024-01-20T13:22:57.354Z"
   },
   {
    "duration": 7,
    "start_time": "2024-01-20T13:22:57.372Z"
   },
   {
    "duration": 51,
    "start_time": "2024-01-20T13:22:57.380Z"
   },
   {
    "duration": 28,
    "start_time": "2024-01-20T13:22:57.433Z"
   },
   {
    "duration": 22,
    "start_time": "2024-01-20T13:22:57.462Z"
   },
   {
    "duration": 47,
    "start_time": "2024-01-20T13:22:57.486Z"
   },
   {
    "duration": 32,
    "start_time": "2024-01-20T13:22:57.534Z"
   },
   {
    "duration": 52,
    "start_time": "2024-01-20T13:22:57.567Z"
   },
   {
    "duration": 36,
    "start_time": "2024-01-20T13:22:57.620Z"
   },
   {
    "duration": 786,
    "start_time": "2024-01-20T13:22:57.657Z"
   },
   {
    "duration": 3,
    "start_time": "2024-01-20T13:57:30.062Z"
   },
   {
    "duration": 3,
    "start_time": "2024-01-20T13:57:41.050Z"
   },
   {
    "duration": 5,
    "start_time": "2024-01-20T13:58:34.555Z"
   },
   {
    "duration": 55,
    "start_time": "2024-01-20T13:59:02.773Z"
   },
   {
    "duration": 55,
    "start_time": "2024-01-20T13:59:24.287Z"
   },
   {
    "duration": 54,
    "start_time": "2024-01-20T13:59:38.287Z"
   },
   {
    "duration": 32,
    "start_time": "2024-01-20T13:59:49.870Z"
   },
   {
    "duration": 3,
    "start_time": "2024-01-20T14:00:03.220Z"
   },
   {
    "duration": 90,
    "start_time": "2024-01-20T14:00:26.380Z"
   },
   {
    "duration": 3,
    "start_time": "2024-01-20T14:01:58.130Z"
   },
   {
    "duration": 3,
    "start_time": "2024-01-20T14:02:00.533Z"
   },
   {
    "duration": 442,
    "start_time": "2024-01-20T14:02:00.538Z"
   },
   {
    "duration": 6,
    "start_time": "2024-01-20T14:02:00.981Z"
   },
   {
    "duration": 66,
    "start_time": "2024-01-20T14:02:00.989Z"
   },
   {
    "duration": 43,
    "start_time": "2024-01-20T14:02:01.057Z"
   },
   {
    "duration": 52,
    "start_time": "2024-01-20T14:02:01.101Z"
   },
   {
    "duration": 88,
    "start_time": "2024-01-20T14:02:01.154Z"
   },
   {
    "duration": 247,
    "start_time": "2024-01-20T14:02:01.244Z"
   },
   {
    "duration": 163,
    "start_time": "2024-01-20T14:02:01.493Z"
   },
   {
    "duration": 46,
    "start_time": "2024-01-20T14:02:01.657Z"
   },
   {
    "duration": 76,
    "start_time": "2024-01-20T14:02:01.705Z"
   },
   {
    "duration": 78,
    "start_time": "2024-01-20T14:02:01.783Z"
   },
   {
    "duration": 83,
    "start_time": "2024-01-20T14:02:01.863Z"
   },
   {
    "duration": 202,
    "start_time": "2024-01-20T14:02:01.947Z"
   },
   {
    "duration": 105,
    "start_time": "2024-01-20T14:02:02.151Z"
   },
   {
    "duration": 12,
    "start_time": "2024-01-20T14:02:02.258Z"
   },
   {
    "duration": 23,
    "start_time": "2024-01-20T14:02:02.271Z"
   },
   {
    "duration": 14,
    "start_time": "2024-01-20T14:02:02.295Z"
   },
   {
    "duration": 41,
    "start_time": "2024-01-20T14:02:02.310Z"
   },
   {
    "duration": 51,
    "start_time": "2024-01-20T14:02:02.352Z"
   },
   {
    "duration": 30,
    "start_time": "2024-01-20T14:02:02.405Z"
   },
   {
    "duration": 65,
    "start_time": "2024-01-20T14:02:02.436Z"
   },
   {
    "duration": 38,
    "start_time": "2024-01-20T14:02:02.503Z"
   },
   {
    "duration": 732,
    "start_time": "2024-01-20T14:02:02.542Z"
   },
   {
    "duration": 3,
    "start_time": "2024-01-20T14:02:03.275Z"
   },
   {
    "duration": 228,
    "start_time": "2024-01-20T14:02:03.279Z"
   },
   {
    "duration": 102,
    "start_time": "2024-01-20T14:02:03.509Z"
   },
   {
    "duration": 169,
    "start_time": "2024-01-20T14:02:03.612Z"
   },
   {
    "duration": 104,
    "start_time": "2024-01-20T14:02:03.783Z"
   },
   {
    "duration": 142,
    "start_time": "2024-01-20T14:02:03.888Z"
   },
   {
    "duration": 98,
    "start_time": "2024-01-20T14:02:04.032Z"
   },
   {
    "duration": 37,
    "start_time": "2024-01-20T14:02:27.541Z"
   },
   {
    "duration": 48,
    "start_time": "2024-01-20T14:02:31.869Z"
   },
   {
    "duration": 42,
    "start_time": "2024-01-20T14:02:42.556Z"
   },
   {
    "duration": 1269,
    "start_time": "2024-01-21T13:59:22.189Z"
   },
   {
    "duration": 341,
    "start_time": "2024-01-21T13:59:23.460Z"
   },
   {
    "duration": 11,
    "start_time": "2024-01-21T13:59:23.802Z"
   },
   {
    "duration": 19,
    "start_time": "2024-01-21T13:59:23.815Z"
   },
   {
    "duration": 6,
    "start_time": "2024-01-21T13:59:23.835Z"
   },
   {
    "duration": 16,
    "start_time": "2024-01-21T13:59:23.842Z"
   },
   {
    "duration": 7,
    "start_time": "2024-01-21T13:59:23.859Z"
   },
   {
    "duration": 19,
    "start_time": "2024-01-21T13:59:23.867Z"
   },
   {
    "duration": 29,
    "start_time": "2024-01-21T13:59:23.887Z"
   },
   {
    "duration": 5,
    "start_time": "2024-01-21T13:59:23.919Z"
   },
   {
    "duration": 21,
    "start_time": "2024-01-21T13:59:23.925Z"
   },
   {
    "duration": 29,
    "start_time": "2024-01-21T13:59:23.947Z"
   },
   {
    "duration": 11,
    "start_time": "2024-01-21T13:59:23.978Z"
   },
   {
    "duration": 4,
    "start_time": "2024-01-21T13:59:23.991Z"
   },
   {
    "duration": 24,
    "start_time": "2024-01-21T13:59:23.996Z"
   },
   {
    "duration": 9,
    "start_time": "2024-01-21T13:59:24.021Z"
   },
   {
    "duration": 44,
    "start_time": "2024-01-21T13:59:24.031Z"
   },
   {
    "duration": 12,
    "start_time": "2024-01-21T13:59:24.076Z"
   },
   {
    "duration": 7,
    "start_time": "2024-01-21T13:59:24.090Z"
   },
   {
    "duration": 16,
    "start_time": "2024-01-21T13:59:24.099Z"
   },
   {
    "duration": 12,
    "start_time": "2024-01-21T13:59:24.117Z"
   },
   {
    "duration": 61,
    "start_time": "2024-01-21T13:59:24.131Z"
   },
   {
    "duration": 10,
    "start_time": "2024-01-21T13:59:24.194Z"
   },
   {
    "duration": 729,
    "start_time": "2024-01-21T13:59:24.205Z"
   },
   {
    "duration": 4,
    "start_time": "2024-01-21T13:59:24.935Z"
   },
   {
    "duration": 24,
    "start_time": "2024-01-21T13:59:24.941Z"
   },
   {
    "duration": 19,
    "start_time": "2024-01-21T13:59:24.966Z"
   },
   {
    "duration": 67,
    "start_time": "2024-01-21T13:59:24.988Z"
   },
   {
    "duration": 34,
    "start_time": "2024-01-21T13:59:25.057Z"
   },
   {
    "duration": 4,
    "start_time": "2024-01-21T13:59:25.092Z"
   },
   {
    "duration": 61,
    "start_time": "2024-01-21T13:59:25.097Z"
   },
   {
    "duration": 1294,
    "start_time": "2024-01-22T11:42:23.828Z"
   },
   {
    "duration": 377,
    "start_time": "2024-01-22T11:42:25.124Z"
   },
   {
    "duration": 11,
    "start_time": "2024-01-22T11:42:25.503Z"
   },
   {
    "duration": 21,
    "start_time": "2024-01-22T11:42:25.516Z"
   },
   {
    "duration": 7,
    "start_time": "2024-01-22T11:42:25.539Z"
   },
   {
    "duration": 16,
    "start_time": "2024-01-22T11:42:25.547Z"
   },
   {
    "duration": 12,
    "start_time": "2024-01-22T11:42:25.564Z"
   },
   {
    "duration": 19,
    "start_time": "2024-01-22T11:42:25.578Z"
   },
   {
    "duration": 48,
    "start_time": "2024-01-22T11:42:25.599Z"
   },
   {
    "duration": 6,
    "start_time": "2024-01-22T11:42:25.648Z"
   },
   {
    "duration": 19,
    "start_time": "2024-01-22T11:42:25.655Z"
   },
   {
    "duration": 17,
    "start_time": "2024-01-22T11:42:25.676Z"
   },
   {
    "duration": 8,
    "start_time": "2024-01-22T11:42:25.694Z"
   },
   {
    "duration": 15,
    "start_time": "2024-01-22T11:42:25.705Z"
   },
   {
    "duration": 20,
    "start_time": "2024-01-22T11:42:25.721Z"
   },
   {
    "duration": 8,
    "start_time": "2024-01-22T11:42:25.743Z"
   },
   {
    "duration": 32,
    "start_time": "2024-01-22T11:42:25.752Z"
   },
   {
    "duration": 20,
    "start_time": "2024-01-22T11:42:25.785Z"
   },
   {
    "duration": 22,
    "start_time": "2024-01-22T11:42:25.806Z"
   },
   {
    "duration": 38,
    "start_time": "2024-01-22T11:42:25.830Z"
   },
   {
    "duration": 13,
    "start_time": "2024-01-22T11:42:25.870Z"
   },
   {
    "duration": 43,
    "start_time": "2024-01-22T11:42:25.884Z"
   },
   {
    "duration": 8,
    "start_time": "2024-01-22T11:42:25.929Z"
   },
   {
    "duration": 774,
    "start_time": "2024-01-22T11:42:25.938Z"
   },
   {
    "duration": 4,
    "start_time": "2024-01-22T11:42:26.714Z"
   },
   {
    "duration": 17,
    "start_time": "2024-01-22T11:42:26.719Z"
   },
   {
    "duration": 22,
    "start_time": "2024-01-22T11:42:26.737Z"
   },
   {
    "duration": 67,
    "start_time": "2024-01-22T11:42:26.760Z"
   },
   {
    "duration": 35,
    "start_time": "2024-01-22T11:42:26.828Z"
   },
   {
    "duration": 2,
    "start_time": "2024-01-22T11:42:26.865Z"
   },
   {
    "duration": 45,
    "start_time": "2024-01-22T11:42:26.873Z"
   },
   {
    "duration": 1596,
    "start_time": "2024-01-22T17:28:58.410Z"
   },
   {
    "duration": 13,
    "start_time": "2024-01-22T17:38:38.989Z"
   },
   {
    "duration": 22,
    "start_time": "2024-01-22T17:46:30.828Z"
   },
   {
    "duration": 4,
    "start_time": "2024-01-22T17:48:23.142Z"
   },
   {
    "duration": 176,
    "start_time": "2024-01-22T17:53:49.573Z"
   },
   {
    "duration": 28,
    "start_time": "2024-01-22T17:55:10.014Z"
   },
   {
    "duration": 5,
    "start_time": "2024-01-22T17:55:26.907Z"
   },
   {
    "duration": 14,
    "start_time": "2024-01-22T17:55:36.368Z"
   },
   {
    "duration": 13,
    "start_time": "2024-01-22T17:55:43.278Z"
   },
   {
    "duration": 3,
    "start_time": "2024-01-22T17:56:34.602Z"
   },
   {
    "duration": 5,
    "start_time": "2024-01-22T17:56:38.314Z"
   },
   {
    "duration": 6,
    "start_time": "2024-01-22T17:56:47.279Z"
   },
   {
    "duration": 17,
    "start_time": "2024-01-22T17:57:05.523Z"
   },
   {
    "duration": 8,
    "start_time": "2024-01-22T17:57:35.304Z"
   },
   {
    "duration": 659,
    "start_time": "2024-01-22T17:57:38.704Z"
   },
   {
    "duration": 16,
    "start_time": "2024-01-22T17:58:02.014Z"
   },
   {
    "duration": 6,
    "start_time": "2024-01-22T17:58:17.816Z"
   },
   {
    "duration": 184,
    "start_time": "2024-01-22T17:58:21.240Z"
   },
   {
    "duration": 22,
    "start_time": "2024-01-22T17:59:56.708Z"
   },
   {
    "duration": 1503,
    "start_time": "2024-01-23T10:38:00.893Z"
   },
   {
    "duration": 337,
    "start_time": "2024-01-23T10:38:02.398Z"
   },
   {
    "duration": 13,
    "start_time": "2024-01-23T10:38:02.736Z"
   },
   {
    "duration": 65,
    "start_time": "2024-01-23T10:38:02.752Z"
   },
   {
    "duration": 160,
    "start_time": "2024-01-23T10:38:02.820Z"
   },
   {
    "duration": 47,
    "start_time": "2024-01-23T10:38:02.982Z"
   },
   {
    "duration": 69,
    "start_time": "2024-01-23T10:38:03.031Z"
   },
   {
    "duration": 236,
    "start_time": "2024-01-23T10:38:03.102Z"
   },
   {
    "duration": 46,
    "start_time": "2024-01-23T10:38:03.340Z"
   },
   {
    "duration": 6,
    "start_time": "2024-01-23T10:38:03.389Z"
   },
   {
    "duration": 21,
    "start_time": "2024-01-23T10:38:03.396Z"
   },
   {
    "duration": 21,
    "start_time": "2024-01-23T10:38:03.419Z"
   },
   {
    "duration": 19,
    "start_time": "2024-01-23T10:38:03.442Z"
   },
   {
    "duration": 25,
    "start_time": "2024-01-23T10:38:03.464Z"
   },
   {
    "duration": 20,
    "start_time": "2024-01-23T10:38:03.490Z"
   },
   {
    "duration": 10,
    "start_time": "2024-01-23T10:38:03.511Z"
   },
   {
    "duration": 46,
    "start_time": "2024-01-23T10:38:03.522Z"
   },
   {
    "duration": 28,
    "start_time": "2024-01-23T10:38:03.570Z"
   },
   {
    "duration": 16,
    "start_time": "2024-01-23T10:38:03.600Z"
   },
   {
    "duration": 21,
    "start_time": "2024-01-23T10:38:03.618Z"
   },
   {
    "duration": 14,
    "start_time": "2024-01-23T10:38:03.641Z"
   },
   {
    "duration": 45,
    "start_time": "2024-01-23T10:38:03.656Z"
   },
   {
    "duration": 10,
    "start_time": "2024-01-23T10:38:03.702Z"
   },
   {
    "duration": 879,
    "start_time": "2024-01-23T10:38:03.713Z"
   },
   {
    "duration": 3,
    "start_time": "2024-01-23T10:38:04.594Z"
   },
   {
    "duration": 6,
    "start_time": "2024-01-23T10:38:04.599Z"
   },
   {
    "duration": 12,
    "start_time": "2024-01-23T10:38:04.606Z"
   },
   {
    "duration": 71,
    "start_time": "2024-01-23T10:38:04.621Z"
   },
   {
    "duration": 37,
    "start_time": "2024-01-23T10:38:04.693Z"
   },
   {
    "duration": 3,
    "start_time": "2024-01-23T10:38:04.732Z"
   },
   {
    "duration": 62,
    "start_time": "2024-01-23T10:38:04.737Z"
   },
   {
    "duration": 1587,
    "start_time": "2024-01-23T10:38:04.801Z"
   },
   {
    "duration": 15,
    "start_time": "2024-01-23T10:38:06.390Z"
   },
   {
    "duration": 22,
    "start_time": "2024-01-23T10:38:06.407Z"
   },
   {
    "duration": 29,
    "start_time": "2024-01-23T10:38:06.432Z"
   },
   {
    "duration": 33,
    "start_time": "2024-01-23T10:38:06.463Z"
   },
   {
    "duration": 14,
    "start_time": "2024-01-23T10:38:06.498Z"
   },
   {
    "duration": 55,
    "start_time": "2024-01-23T10:38:06.514Z"
   },
   {
    "duration": 17,
    "start_time": "2024-01-23T10:38:06.571Z"
   },
   {
    "duration": 682,
    "start_time": "2024-01-23T10:38:06.590Z"
   },
   {
    "duration": 189,
    "start_time": "2024-01-23T10:38:07.274Z"
   },
   {
    "duration": 1484,
    "start_time": "2024-01-23T16:39:31.299Z"
   },
   {
    "duration": 354,
    "start_time": "2024-01-23T16:39:32.785Z"
   },
   {
    "duration": 13,
    "start_time": "2024-01-23T16:39:33.141Z"
   },
   {
    "duration": 20,
    "start_time": "2024-01-23T16:39:33.156Z"
   },
   {
    "duration": 7,
    "start_time": "2024-01-23T16:39:33.177Z"
   },
   {
    "duration": 20,
    "start_time": "2024-01-23T16:39:33.185Z"
   },
   {
    "duration": 7,
    "start_time": "2024-01-23T16:39:33.207Z"
   },
   {
    "duration": 21,
    "start_time": "2024-01-23T16:39:33.216Z"
   },
   {
    "duration": 39,
    "start_time": "2024-01-23T16:39:33.238Z"
   },
   {
    "duration": 12,
    "start_time": "2024-01-23T16:39:33.280Z"
   },
   {
    "duration": 19,
    "start_time": "2024-01-23T16:39:33.294Z"
   },
   {
    "duration": 32,
    "start_time": "2024-01-23T16:39:33.315Z"
   },
   {
    "duration": 11,
    "start_time": "2024-01-23T16:39:33.348Z"
   },
   {
    "duration": 17,
    "start_time": "2024-01-23T16:39:33.360Z"
   },
   {
    "duration": 30,
    "start_time": "2024-01-23T16:39:33.378Z"
   },
   {
    "duration": 9,
    "start_time": "2024-01-23T16:39:33.409Z"
   },
   {
    "duration": 23,
    "start_time": "2024-01-23T16:39:33.419Z"
   },
   {
    "duration": 16,
    "start_time": "2024-01-23T16:39:33.444Z"
   },
   {
    "duration": 3,
    "start_time": "2024-01-23T16:39:33.462Z"
   },
   {
    "duration": 31,
    "start_time": "2024-01-23T16:39:33.466Z"
   },
   {
    "duration": 11,
    "start_time": "2024-01-23T16:39:33.499Z"
   },
   {
    "duration": 50,
    "start_time": "2024-01-23T16:39:33.512Z"
   },
   {
    "duration": 9,
    "start_time": "2024-01-23T16:39:33.564Z"
   },
   {
    "duration": 801,
    "start_time": "2024-01-23T16:39:33.575Z"
   },
   {
    "duration": 4,
    "start_time": "2024-01-23T16:39:34.378Z"
   },
   {
    "duration": 14,
    "start_time": "2024-01-23T16:39:34.383Z"
   },
   {
    "duration": 13,
    "start_time": "2024-01-23T16:39:34.399Z"
   },
   {
    "duration": 70,
    "start_time": "2024-01-23T16:39:34.415Z"
   },
   {
    "duration": 51,
    "start_time": "2024-01-23T16:39:34.487Z"
   },
   {
    "duration": 5,
    "start_time": "2024-01-23T16:39:34.540Z"
   },
   {
    "duration": 58,
    "start_time": "2024-01-23T16:39:34.546Z"
   },
   {
    "duration": 1534,
    "start_time": "2024-01-23T16:39:34.606Z"
   },
   {
    "duration": 12,
    "start_time": "2024-01-23T16:39:36.141Z"
   },
   {
    "duration": 34,
    "start_time": "2024-01-23T16:39:36.155Z"
   },
   {
    "duration": 36,
    "start_time": "2024-01-23T16:39:36.191Z"
   },
   {
    "duration": 6,
    "start_time": "2024-01-23T16:39:36.228Z"
   },
   {
    "duration": 28,
    "start_time": "2024-01-23T16:39:36.235Z"
   },
   {
    "duration": 17,
    "start_time": "2024-01-23T16:39:36.264Z"
   },
   {
    "duration": 27,
    "start_time": "2024-01-23T16:39:36.283Z"
   },
   {
    "duration": 698,
    "start_time": "2024-01-23T16:39:36.312Z"
   },
   {
    "duration": 177,
    "start_time": "2024-01-23T16:39:37.012Z"
   },
   {
    "duration": 4,
    "start_time": "2024-01-23T16:41:30.250Z"
   },
   {
    "duration": 591,
    "start_time": "2024-01-23T16:41:30.256Z"
   },
   {
    "duration": 11,
    "start_time": "2024-01-23T16:41:30.850Z"
   },
   {
    "duration": 324,
    "start_time": "2024-01-23T16:41:30.863Z"
   },
   {
    "duration": 77,
    "start_time": "2024-01-23T16:41:31.189Z"
   },
   {
    "duration": 90,
    "start_time": "2024-01-23T16:41:31.268Z"
   },
   {
    "duration": 228,
    "start_time": "2024-01-23T16:41:31.360Z"
   },
   {
    "duration": 143,
    "start_time": "2024-01-23T16:41:31.590Z"
   },
   {
    "duration": 171,
    "start_time": "2024-01-23T16:41:31.735Z"
   },
   {
    "duration": 40,
    "start_time": "2024-01-23T16:41:31.907Z"
   },
   {
    "duration": 66,
    "start_time": "2024-01-23T16:41:31.948Z"
   },
   {
    "duration": 66,
    "start_time": "2024-01-23T16:41:32.016Z"
   },
   {
    "duration": 25,
    "start_time": "2024-01-23T16:41:32.084Z"
   },
   {
    "duration": 44,
    "start_time": "2024-01-23T16:41:32.113Z"
   },
   {
    "duration": 55,
    "start_time": "2024-01-23T16:41:32.159Z"
   },
   {
    "duration": 19,
    "start_time": "2024-01-23T16:41:32.216Z"
   },
   {
    "duration": 36,
    "start_time": "2024-01-23T16:41:32.237Z"
   },
   {
    "duration": 23,
    "start_time": "2024-01-23T16:41:32.275Z"
   },
   {
    "duration": 24,
    "start_time": "2024-01-23T16:41:32.300Z"
   },
   {
    "duration": 48,
    "start_time": "2024-01-23T16:41:32.326Z"
   },
   {
    "duration": 41,
    "start_time": "2024-01-23T16:41:32.376Z"
   },
   {
    "duration": 55,
    "start_time": "2024-01-23T16:41:32.418Z"
   },
   {
    "duration": 9,
    "start_time": "2024-01-23T16:41:32.475Z"
   },
   {
    "duration": 852,
    "start_time": "2024-01-23T16:41:32.485Z"
   },
   {
    "duration": 5,
    "start_time": "2024-01-23T16:41:33.338Z"
   },
   {
    "duration": 103,
    "start_time": "2024-01-23T16:41:33.344Z"
   },
   {
    "duration": 66,
    "start_time": "2024-01-23T16:41:33.449Z"
   },
   {
    "duration": 89,
    "start_time": "2024-01-23T16:41:33.517Z"
   },
   {
    "duration": 38,
    "start_time": "2024-01-23T16:41:33.608Z"
   },
   {
    "duration": 516,
    "start_time": "2024-01-23T16:41:33.648Z"
   },
   {
    "duration": 135,
    "start_time": "2024-01-23T16:41:34.166Z"
   },
   {
    "duration": 1459,
    "start_time": "2024-01-23T16:41:34.302Z"
   },
   {
    "duration": 12,
    "start_time": "2024-01-23T16:41:35.763Z"
   },
   {
    "duration": 32,
    "start_time": "2024-01-23T16:41:35.777Z"
   },
   {
    "duration": 28,
    "start_time": "2024-01-23T16:41:35.811Z"
   },
   {
    "duration": 10,
    "start_time": "2024-01-23T16:41:35.840Z"
   },
   {
    "duration": 50,
    "start_time": "2024-01-23T16:41:35.852Z"
   },
   {
    "duration": 30,
    "start_time": "2024-01-23T16:41:35.904Z"
   },
   {
    "duration": 17,
    "start_time": "2024-01-23T16:41:35.935Z"
   },
   {
    "duration": 685,
    "start_time": "2024-01-23T16:41:35.954Z"
   },
   {
    "duration": 26,
    "start_time": "2024-01-23T16:41:36.644Z"
   },
   {
    "duration": 3,
    "start_time": "2024-01-23T16:51:45.172Z"
   },
   {
    "duration": 20,
    "start_time": "2024-01-23T16:52:30.717Z"
   },
   {
    "duration": 132,
    "start_time": "2024-01-23T16:52:38.414Z"
   },
   {
    "duration": 16,
    "start_time": "2024-01-23T16:53:00.007Z"
   },
   {
    "duration": 15,
    "start_time": "2024-01-23T16:53:42.026Z"
   },
   {
    "duration": 84,
    "start_time": "2024-01-23T16:56:58.937Z"
   },
   {
    "duration": 17,
    "start_time": "2024-01-23T16:57:00.931Z"
   },
   {
    "duration": 131,
    "start_time": "2024-01-23T16:57:02.597Z"
   },
   {
    "duration": 11,
    "start_time": "2024-01-23T16:57:15.267Z"
   },
   {
    "duration": 16,
    "start_time": "2024-01-23T16:57:40.221Z"
   },
   {
    "duration": 3,
    "start_time": "2024-01-23T16:58:44.060Z"
   },
   {
    "duration": 17,
    "start_time": "2024-01-23T16:59:08.146Z"
   },
   {
    "duration": 10,
    "start_time": "2024-01-23T16:59:38.448Z"
   },
   {
    "duration": 11,
    "start_time": "2024-01-23T16:59:50.141Z"
   },
   {
    "duration": 3,
    "start_time": "2024-01-23T16:59:54.721Z"
   },
   {
    "duration": 16,
    "start_time": "2024-01-23T16:59:57.491Z"
   },
   {
    "duration": 97,
    "start_time": "2024-01-23T16:59:59.645Z"
   },
   {
    "duration": 12,
    "start_time": "2024-01-23T17:00:02.192Z"
   },
   {
    "duration": 3,
    "start_time": "2024-01-23T17:00:47.123Z"
   },
   {
    "duration": 17,
    "start_time": "2024-01-23T17:00:49.435Z"
   },
   {
    "duration": 10,
    "start_time": "2024-01-23T17:00:50.992Z"
   },
   {
    "duration": 3,
    "start_time": "2024-01-23T17:01:44.625Z"
   },
   {
    "duration": 17,
    "start_time": "2024-01-23T17:02:05.363Z"
   },
   {
    "duration": 11,
    "start_time": "2024-01-23T17:03:16.910Z"
   },
   {
    "duration": 40,
    "start_time": "2024-01-23T17:20:17.620Z"
   },
   {
    "duration": 1159,
    "start_time": "2024-01-23T17:20:32.859Z"
   },
   {
    "duration": 1199,
    "start_time": "2024-01-23T17:20:55.584Z"
   },
   {
    "duration": 19,
    "start_time": "2024-01-23T17:21:08.043Z"
   },
   {
    "duration": 9,
    "start_time": "2024-01-23T17:22:10.230Z"
   },
   {
    "duration": 17,
    "start_time": "2024-01-23T17:22:14.114Z"
   },
   {
    "duration": 9,
    "start_time": "2024-01-23T17:28:17.226Z"
   },
   {
    "duration": 28,
    "start_time": "2024-01-23T17:28:22.448Z"
   },
   {
    "duration": 1171,
    "start_time": "2024-01-23T17:28:28.692Z"
   },
   {
    "duration": 19,
    "start_time": "2024-01-23T17:28:36.090Z"
   },
   {
    "duration": 30,
    "start_time": "2024-01-23T17:29:50.471Z"
   },
   {
    "duration": 15,
    "start_time": "2024-01-23T17:30:22.170Z"
   },
   {
    "duration": 30,
    "start_time": "2024-01-23T17:30:30.021Z"
   },
   {
    "duration": 15,
    "start_time": "2024-01-23T17:30:36.259Z"
   },
   {
    "duration": 14,
    "start_time": "2024-01-23T17:30:51.006Z"
   },
   {
    "duration": 20,
    "start_time": "2024-01-23T17:31:31.141Z"
   },
   {
    "duration": 18,
    "start_time": "2024-01-23T17:31:33.895Z"
   },
   {
    "duration": 30,
    "start_time": "2024-01-23T17:31:50.871Z"
   },
   {
    "duration": 18,
    "start_time": "2024-01-23T17:32:43.271Z"
   },
   {
    "duration": 17,
    "start_time": "2024-01-23T17:32:54.623Z"
   },
   {
    "duration": 15,
    "start_time": "2024-01-23T17:33:05.472Z"
   },
   {
    "duration": 18,
    "start_time": "2024-01-23T17:34:42.117Z"
   },
   {
    "duration": 10,
    "start_time": "2024-01-23T17:36:57.268Z"
   },
   {
    "duration": 10,
    "start_time": "2024-01-23T17:37:30.859Z"
   },
   {
    "duration": 10,
    "start_time": "2024-01-23T17:37:37.880Z"
   },
   {
    "duration": 14,
    "start_time": "2024-01-23T17:38:35.020Z"
   },
   {
    "duration": 12,
    "start_time": "2024-01-23T17:38:49.218Z"
   },
   {
    "duration": 14,
    "start_time": "2024-01-23T17:39:46.012Z"
   },
   {
    "duration": 1265,
    "start_time": "2024-01-23T17:40:55.120Z"
   },
   {
    "duration": 481,
    "start_time": "2024-01-23T17:40:56.387Z"
   },
   {
    "duration": 11,
    "start_time": "2024-01-23T17:40:56.870Z"
   },
   {
    "duration": 50,
    "start_time": "2024-01-23T17:40:56.883Z"
   },
   {
    "duration": 15,
    "start_time": "2024-01-23T17:40:56.935Z"
   },
   {
    "duration": 32,
    "start_time": "2024-01-23T17:40:56.951Z"
   },
   {
    "duration": 18,
    "start_time": "2024-01-23T17:40:56.985Z"
   },
   {
    "duration": 25,
    "start_time": "2024-01-23T17:40:57.005Z"
   },
   {
    "duration": 43,
    "start_time": "2024-01-23T17:40:57.031Z"
   },
   {
    "duration": 11,
    "start_time": "2024-01-23T17:40:57.077Z"
   },
   {
    "duration": 24,
    "start_time": "2024-01-23T17:40:57.090Z"
   },
   {
    "duration": 25,
    "start_time": "2024-01-23T17:40:57.115Z"
   },
   {
    "duration": 15,
    "start_time": "2024-01-23T17:40:57.141Z"
   },
   {
    "duration": 16,
    "start_time": "2024-01-23T17:40:57.157Z"
   },
   {
    "duration": 37,
    "start_time": "2024-01-23T17:40:57.175Z"
   },
   {
    "duration": 12,
    "start_time": "2024-01-23T17:40:57.214Z"
   },
   {
    "duration": 71,
    "start_time": "2024-01-23T17:40:57.228Z"
   },
   {
    "duration": 42,
    "start_time": "2024-01-23T17:40:57.301Z"
   },
   {
    "duration": 8,
    "start_time": "2024-01-23T17:40:57.345Z"
   },
   {
    "duration": 25,
    "start_time": "2024-01-23T17:40:57.355Z"
   },
   {
    "duration": 12,
    "start_time": "2024-01-23T17:40:57.381Z"
   },
   {
    "duration": 41,
    "start_time": "2024-01-23T17:40:57.395Z"
   },
   {
    "duration": 9,
    "start_time": "2024-01-23T17:40:57.438Z"
   },
   {
    "duration": 866,
    "start_time": "2024-01-23T17:40:57.448Z"
   },
   {
    "duration": 3,
    "start_time": "2024-01-23T17:40:58.316Z"
   },
   {
    "duration": 7,
    "start_time": "2024-01-23T17:40:58.321Z"
   },
   {
    "duration": 19,
    "start_time": "2024-01-23T17:40:58.330Z"
   },
   {
    "duration": 78,
    "start_time": "2024-01-23T17:40:58.355Z"
   },
   {
    "duration": 40,
    "start_time": "2024-01-23T17:40:58.435Z"
   },
   {
    "duration": 3,
    "start_time": "2024-01-23T17:40:58.477Z"
   },
   {
    "duration": 51,
    "start_time": "2024-01-23T17:40:58.492Z"
   },
   {
    "duration": 1615,
    "start_time": "2024-01-23T17:40:58.545Z"
   },
   {
    "duration": 13,
    "start_time": "2024-01-23T17:41:00.162Z"
   },
   {
    "duration": 70,
    "start_time": "2024-01-23T17:41:00.176Z"
   },
   {
    "duration": 53,
    "start_time": "2024-01-23T17:41:00.248Z"
   },
   {
    "duration": 5,
    "start_time": "2024-01-23T17:41:00.303Z"
   },
   {
    "duration": 36,
    "start_time": "2024-01-23T17:41:00.310Z"
   },
   {
    "duration": 73,
    "start_time": "2024-01-23T17:41:00.348Z"
   },
   {
    "duration": 56,
    "start_time": "2024-01-23T17:41:00.422Z"
   },
   {
    "duration": 745,
    "start_time": "2024-01-23T17:41:00.479Z"
   },
   {
    "duration": 188,
    "start_time": "2024-01-23T17:41:01.225Z"
   },
   {
    "duration": 3,
    "start_time": "2024-01-23T17:41:01.414Z"
   },
   {
    "duration": 80,
    "start_time": "2024-01-23T17:41:01.418Z"
   },
   {
    "duration": 36,
    "start_time": "2024-01-23T17:41:01.500Z"
   },
   {
    "duration": 89,
    "start_time": "2024-01-23T17:41:01.538Z"
   },
   {
    "duration": 87,
    "start_time": "2024-01-23T17:41:01.629Z"
   },
   {
    "duration": 102,
    "start_time": "2024-01-23T17:41:01.717Z"
   },
   {
    "duration": 236,
    "start_time": "2024-01-23T17:41:01.820Z"
   },
   {
    "duration": 251,
    "start_time": "2024-01-23T17:41:02.058Z"
   },
   {
    "duration": 305,
    "start_time": "2024-01-23T17:41:02.311Z"
   },
   {
    "duration": 291,
    "start_time": "2024-01-23T17:41:02.617Z"
   },
   {
    "duration": 77,
    "start_time": "2024-01-23T17:41:02.910Z"
   },
   {
    "duration": 15,
    "start_time": "2024-01-23T17:41:02.989Z"
   },
   {
    "duration": 257,
    "start_time": "2024-01-23T17:41:03.005Z"
   },
   {
    "duration": 145,
    "start_time": "2024-01-23T17:41:03.263Z"
   },
   {
    "duration": 13,
    "start_time": "2024-01-23T20:25:37.775Z"
   },
   {
    "duration": 11,
    "start_time": "2024-01-23T20:25:57.931Z"
   },
   {
    "duration": 9,
    "start_time": "2024-01-23T20:27:27.407Z"
   },
   {
    "duration": 9,
    "start_time": "2024-01-23T20:27:56.643Z"
   },
   {
    "duration": 9,
    "start_time": "2024-01-23T20:31:14.809Z"
   },
   {
    "duration": 6,
    "start_time": "2024-01-23T20:32:32.035Z"
   },
   {
    "duration": 474,
    "start_time": "2024-01-23T20:32:32.043Z"
   },
   {
    "duration": 8,
    "start_time": "2024-01-23T20:32:32.519Z"
   },
   {
    "duration": 104,
    "start_time": "2024-01-23T20:32:32.529Z"
   },
   {
    "duration": 38,
    "start_time": "2024-01-23T20:32:32.635Z"
   },
   {
    "duration": 30,
    "start_time": "2024-01-23T20:32:32.675Z"
   },
   {
    "duration": 33,
    "start_time": "2024-01-23T20:32:32.706Z"
   },
   {
    "duration": 31,
    "start_time": "2024-01-23T20:32:32.741Z"
   },
   {
    "duration": 38,
    "start_time": "2024-01-23T20:32:32.774Z"
   },
   {
    "duration": 8,
    "start_time": "2024-01-23T20:32:32.815Z"
   },
   {
    "duration": 44,
    "start_time": "2024-01-23T20:32:32.824Z"
   },
   {
    "duration": 78,
    "start_time": "2024-01-23T20:32:32.869Z"
   },
   {
    "duration": 17,
    "start_time": "2024-01-23T20:32:32.949Z"
   },
   {
    "duration": 25,
    "start_time": "2024-01-23T20:32:32.967Z"
   },
   {
    "duration": 34,
    "start_time": "2024-01-23T20:32:32.994Z"
   },
   {
    "duration": 18,
    "start_time": "2024-01-23T20:32:33.030Z"
   },
   {
    "duration": 42,
    "start_time": "2024-01-23T20:32:33.049Z"
   },
   {
    "duration": 62,
    "start_time": "2024-01-23T20:32:33.093Z"
   },
   {
    "duration": 366,
    "start_time": "2024-01-23T20:32:33.157Z"
   },
   {
    "duration": 210,
    "start_time": "2024-01-23T20:32:33.525Z"
   },
   {
    "duration": 33,
    "start_time": "2024-01-23T20:32:33.737Z"
   },
   {
    "duration": 65,
    "start_time": "2024-01-23T20:32:33.772Z"
   },
   {
    "duration": 22,
    "start_time": "2024-01-23T20:32:33.839Z"
   },
   {
    "duration": 1212,
    "start_time": "2024-01-23T20:32:33.863Z"
   },
   {
    "duration": 5,
    "start_time": "2024-01-23T20:32:35.077Z"
   },
   {
    "duration": 3,
    "start_time": "2024-01-23T20:32:35.091Z"
   },
   {
    "duration": 7,
    "start_time": "2024-01-23T20:32:35.096Z"
   },
   {
    "duration": 57,
    "start_time": "2024-01-23T20:32:35.108Z"
   },
   {
    "duration": 54,
    "start_time": "2024-01-23T20:32:35.167Z"
   },
   {
    "duration": 3,
    "start_time": "2024-01-23T20:32:35.223Z"
   },
   {
    "duration": 47,
    "start_time": "2024-01-23T20:32:35.228Z"
   },
   {
    "duration": 1533,
    "start_time": "2024-01-23T20:32:35.291Z"
   },
   {
    "duration": 12,
    "start_time": "2024-01-23T20:32:36.826Z"
   },
   {
    "duration": 22,
    "start_time": "2024-01-23T20:32:36.841Z"
   },
   {
    "duration": 60,
    "start_time": "2024-01-23T20:32:36.865Z"
   },
   {
    "duration": 8,
    "start_time": "2024-01-23T20:32:36.927Z"
   },
   {
    "duration": 108,
    "start_time": "2024-01-23T20:32:36.937Z"
   },
   {
    "duration": 9,
    "start_time": "2024-01-23T20:32:37.047Z"
   },
   {
    "duration": 7,
    "start_time": "2024-01-23T20:32:37.058Z"
   },
   {
    "duration": 684,
    "start_time": "2024-01-23T20:32:37.067Z"
   },
   {
    "duration": 21,
    "start_time": "2024-01-23T20:32:37.752Z"
   },
   {
    "duration": 2,
    "start_time": "2024-01-23T20:32:37.791Z"
   },
   {
    "duration": 17,
    "start_time": "2024-01-23T20:32:37.795Z"
   },
   {
    "duration": 10,
    "start_time": "2024-01-23T20:32:37.814Z"
   },
   {
    "duration": 6,
    "start_time": "2024-01-23T20:32:37.825Z"
   },
   {
    "duration": 17,
    "start_time": "2024-01-23T20:32:37.833Z"
   },
   {
    "duration": 43,
    "start_time": "2024-01-23T20:32:37.852Z"
   },
   {
    "duration": 4,
    "start_time": "2024-01-23T20:32:37.897Z"
   },
   {
    "duration": 18,
    "start_time": "2024-01-23T20:32:37.902Z"
   },
   {
    "duration": 10,
    "start_time": "2024-01-23T20:32:37.922Z"
   },
   {
    "duration": 18,
    "start_time": "2024-01-23T20:32:37.933Z"
   },
   {
    "duration": 47,
    "start_time": "2024-01-23T20:32:37.953Z"
   },
   {
    "duration": 10,
    "start_time": "2024-01-23T20:32:38.001Z"
   },
   {
    "duration": 17,
    "start_time": "2024-01-23T20:32:38.013Z"
   },
   {
    "duration": 12,
    "start_time": "2024-01-23T20:32:38.032Z"
   },
   {
    "duration": 1247,
    "start_time": "2024-01-23T20:34:09.605Z"
   },
   {
    "duration": 280,
    "start_time": "2024-01-23T20:34:10.854Z"
   },
   {
    "duration": 13,
    "start_time": "2024-01-23T20:34:11.135Z"
   },
   {
    "duration": 52,
    "start_time": "2024-01-23T20:34:11.150Z"
   },
   {
    "duration": 41,
    "start_time": "2024-01-23T20:34:11.204Z"
   },
   {
    "duration": 46,
    "start_time": "2024-01-23T20:34:11.247Z"
   },
   {
    "duration": 25,
    "start_time": "2024-01-23T20:34:11.294Z"
   },
   {
    "duration": 34,
    "start_time": "2024-01-23T20:34:11.321Z"
   },
   {
    "duration": 58,
    "start_time": "2024-01-23T20:34:11.357Z"
   },
   {
    "duration": 6,
    "start_time": "2024-01-23T20:34:11.418Z"
   },
   {
    "duration": 37,
    "start_time": "2024-01-23T20:34:11.425Z"
   },
   {
    "duration": 30,
    "start_time": "2024-01-23T20:34:11.464Z"
   },
   {
    "duration": 23,
    "start_time": "2024-01-23T20:34:11.496Z"
   },
   {
    "duration": 20,
    "start_time": "2024-01-23T20:34:11.521Z"
   },
   {
    "duration": 28,
    "start_time": "2024-01-23T20:34:11.542Z"
   },
   {
    "duration": 10,
    "start_time": "2024-01-23T20:34:11.571Z"
   },
   {
    "duration": 34,
    "start_time": "2024-01-23T20:34:11.583Z"
   },
   {
    "duration": 18,
    "start_time": "2024-01-23T20:34:11.620Z"
   },
   {
    "duration": 20,
    "start_time": "2024-01-23T20:34:11.640Z"
   },
   {
    "duration": 40,
    "start_time": "2024-01-23T20:34:11.661Z"
   },
   {
    "duration": 18,
    "start_time": "2024-01-23T20:34:11.702Z"
   },
   {
    "duration": 43,
    "start_time": "2024-01-23T20:34:11.722Z"
   },
   {
    "duration": 9,
    "start_time": "2024-01-23T20:34:11.767Z"
   },
   {
    "duration": 839,
    "start_time": "2024-01-23T20:34:11.777Z"
   },
   {
    "duration": 4,
    "start_time": "2024-01-23T20:34:12.618Z"
   },
   {
    "duration": 29,
    "start_time": "2024-01-23T20:34:12.623Z"
   },
   {
    "duration": 12,
    "start_time": "2024-01-23T20:34:12.653Z"
   },
   {
    "duration": 63,
    "start_time": "2024-01-23T20:34:12.669Z"
   },
   {
    "duration": 36,
    "start_time": "2024-01-23T20:34:12.734Z"
   },
   {
    "duration": 3,
    "start_time": "2024-01-23T20:34:12.772Z"
   },
   {
    "duration": 58,
    "start_time": "2024-01-23T20:34:12.777Z"
   },
   {
    "duration": 1552,
    "start_time": "2024-01-23T20:34:12.836Z"
   },
   {
    "duration": 13,
    "start_time": "2024-01-23T20:34:14.389Z"
   },
   {
    "duration": 25,
    "start_time": "2024-01-23T20:34:14.403Z"
   },
   {
    "duration": 27,
    "start_time": "2024-01-23T20:34:14.430Z"
   },
   {
    "duration": 5,
    "start_time": "2024-01-23T20:34:14.459Z"
   },
   {
    "duration": 27,
    "start_time": "2024-01-23T20:34:14.466Z"
   },
   {
    "duration": 5,
    "start_time": "2024-01-23T20:34:14.495Z"
   },
   {
    "duration": 28,
    "start_time": "2024-01-23T20:34:14.502Z"
   },
   {
    "duration": 664,
    "start_time": "2024-01-23T20:34:14.532Z"
   },
   {
    "duration": 176,
    "start_time": "2024-01-23T20:34:15.197Z"
   },
   {
    "duration": 2,
    "start_time": "2024-01-23T20:34:15.375Z"
   },
   {
    "duration": 118,
    "start_time": "2024-01-23T20:34:15.390Z"
   },
   {
    "duration": 44,
    "start_time": "2024-01-23T20:34:15.509Z"
   },
   {
    "duration": 18,
    "start_time": "2024-01-23T20:34:15.554Z"
   },
   {
    "duration": 21,
    "start_time": "2024-01-23T20:34:15.574Z"
   },
   {
    "duration": 10,
    "start_time": "2024-01-23T20:34:15.596Z"
   },
   {
    "duration": 12,
    "start_time": "2024-01-23T20:34:15.608Z"
   },
   {
    "duration": 20,
    "start_time": "2024-01-23T20:34:15.621Z"
   },
   {
    "duration": 10,
    "start_time": "2024-01-23T20:34:15.643Z"
   },
   {
    "duration": 36,
    "start_time": "2024-01-23T20:34:15.654Z"
   },
   {
    "duration": 17,
    "start_time": "2024-01-23T20:34:15.691Z"
   },
   {
    "duration": 11,
    "start_time": "2024-01-23T20:34:15.709Z"
   },
   {
    "duration": 27,
    "start_time": "2024-01-23T20:34:15.721Z"
   },
   {
    "duration": 10,
    "start_time": "2024-01-23T20:34:15.750Z"
   },
   {
    "duration": 164,
    "start_time": "2024-01-23T21:14:37.396Z"
   },
   {
    "duration": 16,
    "start_time": "2024-01-23T21:15:09.957Z"
   },
   {
    "duration": 12,
    "start_time": "2024-01-23T21:15:12.052Z"
   },
   {
    "duration": 4,
    "start_time": "2024-01-23T21:15:13.643Z"
   },
   {
    "duration": 12,
    "start_time": "2024-01-23T21:16:38.335Z"
   },
   {
    "duration": 12,
    "start_time": "2024-01-23T21:16:45.119Z"
   },
   {
    "duration": 12,
    "start_time": "2024-01-23T21:17:09.663Z"
   },
   {
    "duration": 3,
    "start_time": "2024-01-23T21:17:37.223Z"
   },
   {
    "duration": 12,
    "start_time": "2024-01-23T21:17:40.563Z"
   },
   {
    "duration": 5,
    "start_time": "2024-01-23T21:17:53.756Z"
   },
   {
    "duration": 12,
    "start_time": "2024-01-23T21:17:57.613Z"
   },
   {
    "duration": 8,
    "start_time": "2024-01-23T21:18:16.878Z"
   },
   {
    "duration": 9,
    "start_time": "2024-01-23T21:30:34.287Z"
   },
   {
    "duration": 8,
    "start_time": "2024-01-23T21:30:40.525Z"
   },
   {
    "duration": 68,
    "start_time": "2024-01-23T21:31:42.496Z"
   },
   {
    "duration": 20,
    "start_time": "2024-01-23T21:31:49.196Z"
   },
   {
    "duration": 20,
    "start_time": "2024-01-23T21:33:11.554Z"
   },
   {
    "duration": 28,
    "start_time": "2024-01-23T21:33:28.614Z"
   },
   {
    "duration": 14,
    "start_time": "2024-01-23T21:33:32.804Z"
   },
   {
    "duration": 13,
    "start_time": "2024-01-23T21:34:03.535Z"
   },
   {
    "duration": 11,
    "start_time": "2024-01-23T21:34:14.397Z"
   },
   {
    "duration": 8,
    "start_time": "2024-01-23T21:35:10.962Z"
   },
   {
    "duration": 1346,
    "start_time": "2024-01-23T21:43:12.113Z"
   },
   {
    "duration": 418,
    "start_time": "2024-01-23T21:43:13.461Z"
   },
   {
    "duration": 17,
    "start_time": "2024-01-23T21:43:13.881Z"
   },
   {
    "duration": 34,
    "start_time": "2024-01-23T21:43:13.901Z"
   },
   {
    "duration": 8,
    "start_time": "2024-01-23T21:43:13.937Z"
   },
   {
    "duration": 12,
    "start_time": "2024-01-23T21:43:13.947Z"
   },
   {
    "duration": 10,
    "start_time": "2024-01-23T21:43:13.961Z"
   },
   {
    "duration": 39,
    "start_time": "2024-01-23T21:43:13.972Z"
   },
   {
    "duration": 45,
    "start_time": "2024-01-23T21:43:14.012Z"
   },
   {
    "duration": 6,
    "start_time": "2024-01-23T21:43:14.060Z"
   },
   {
    "duration": 49,
    "start_time": "2024-01-23T21:43:14.068Z"
   },
   {
    "duration": 97,
    "start_time": "2024-01-23T21:43:14.119Z"
   },
   {
    "duration": 10,
    "start_time": "2024-01-23T21:43:14.218Z"
   },
   {
    "duration": 12,
    "start_time": "2024-01-23T21:43:14.230Z"
   },
   {
    "duration": 33,
    "start_time": "2024-01-23T21:43:14.244Z"
   },
   {
    "duration": 16,
    "start_time": "2024-01-23T21:43:14.279Z"
   },
   {
    "duration": 32,
    "start_time": "2024-01-23T21:43:14.297Z"
   },
   {
    "duration": 17,
    "start_time": "2024-01-23T21:43:14.330Z"
   },
   {
    "duration": 4,
    "start_time": "2024-01-23T21:43:14.349Z"
   },
   {
    "duration": 58,
    "start_time": "2024-01-23T21:43:14.355Z"
   },
   {
    "duration": 17,
    "start_time": "2024-01-23T21:43:14.415Z"
   },
   {
    "duration": 116,
    "start_time": "2024-01-23T21:43:14.434Z"
   },
   {
    "duration": 10,
    "start_time": "2024-01-23T21:43:14.552Z"
   },
   {
    "duration": 924,
    "start_time": "2024-01-23T21:43:14.564Z"
   },
   {
    "duration": 5,
    "start_time": "2024-01-23T21:43:15.490Z"
   },
   {
    "duration": 11,
    "start_time": "2024-01-23T21:43:15.497Z"
   },
   {
    "duration": 9,
    "start_time": "2024-01-23T21:43:15.510Z"
   },
   {
    "duration": 79,
    "start_time": "2024-01-23T21:43:15.524Z"
   },
   {
    "duration": 37,
    "start_time": "2024-01-23T21:43:15.605Z"
   },
   {
    "duration": 4,
    "start_time": "2024-01-23T21:43:15.644Z"
   },
   {
    "duration": 64,
    "start_time": "2024-01-23T21:43:15.649Z"
   },
   {
    "duration": 1566,
    "start_time": "2024-01-23T21:43:15.714Z"
   },
   {
    "duration": 15,
    "start_time": "2024-01-23T21:43:17.281Z"
   },
   {
    "duration": 30,
    "start_time": "2024-01-23T21:43:17.298Z"
   },
   {
    "duration": 30,
    "start_time": "2024-01-23T21:43:17.330Z"
   },
   {
    "duration": 7,
    "start_time": "2024-01-23T21:43:17.361Z"
   },
   {
    "duration": 33,
    "start_time": "2024-01-23T21:43:17.369Z"
   },
   {
    "duration": 8,
    "start_time": "2024-01-23T21:43:17.404Z"
   },
   {
    "duration": 7,
    "start_time": "2024-01-23T21:43:17.413Z"
   },
   {
    "duration": 721,
    "start_time": "2024-01-23T21:43:17.422Z"
   },
   {
    "duration": 182,
    "start_time": "2024-01-23T21:43:18.145Z"
   },
   {
    "duration": 3,
    "start_time": "2024-01-23T21:43:18.329Z"
   },
   {
    "duration": 60,
    "start_time": "2024-01-23T21:43:18.333Z"
   },
   {
    "duration": 13,
    "start_time": "2024-01-23T21:43:18.395Z"
   },
   {
    "duration": 7,
    "start_time": "2024-01-23T21:43:18.409Z"
   },
   {
    "duration": 22,
    "start_time": "2024-01-23T21:43:18.418Z"
   },
   {
    "duration": 61,
    "start_time": "2024-01-23T21:43:18.441Z"
   },
   {
    "duration": 5,
    "start_time": "2024-01-23T21:43:18.504Z"
   },
   {
    "duration": 29,
    "start_time": "2024-01-23T21:43:18.511Z"
   },
   {
    "duration": 10,
    "start_time": "2024-01-23T21:43:18.542Z"
   },
   {
    "duration": 47,
    "start_time": "2024-01-23T21:43:18.554Z"
   },
   {
    "duration": 15,
    "start_time": "2024-01-23T21:43:18.603Z"
   },
   {
    "duration": 10,
    "start_time": "2024-01-23T21:43:18.620Z"
   },
   {
    "duration": 14,
    "start_time": "2024-01-23T21:43:18.632Z"
   },
   {
    "duration": 43,
    "start_time": "2024-01-23T21:43:18.648Z"
   },
   {
    "duration": 14,
    "start_time": "2024-01-23T21:43:18.693Z"
   },
   {
    "duration": 21,
    "start_time": "2024-01-23T21:43:18.709Z"
   },
   {
    "duration": 4,
    "start_time": "2024-01-23T21:43:18.731Z"
   },
   {
    "duration": 15,
    "start_time": "2024-01-23T21:43:18.737Z"
   },
   {
    "duration": 27,
    "start_time": "2024-01-23T21:43:18.753Z"
   },
   {
    "duration": 9,
    "start_time": "2024-01-23T21:43:18.791Z"
   },
   {
    "duration": 19,
    "start_time": "2024-01-23T21:43:18.802Z"
   },
   {
    "duration": 20,
    "start_time": "2024-01-23T21:43:18.823Z"
   },
   {
    "duration": 13,
    "start_time": "2024-01-23T21:43:18.845Z"
   },
   {
    "duration": 36,
    "start_time": "2024-01-23T21:43:18.859Z"
   },
   {
    "duration": 9,
    "start_time": "2024-01-23T21:43:18.896Z"
   },
   {
    "duration": 8,
    "start_time": "2024-01-23T21:45:25.710Z"
   },
   {
    "duration": 1472,
    "start_time": "2024-01-24T11:09:51.085Z"
   },
   {
    "duration": 448,
    "start_time": "2024-01-24T11:09:52.559Z"
   },
   {
    "duration": 15,
    "start_time": "2024-01-24T11:09:53.012Z"
   },
   {
    "duration": 23,
    "start_time": "2024-01-24T11:09:53.028Z"
   },
   {
    "duration": 7,
    "start_time": "2024-01-24T11:09:53.053Z"
   },
   {
    "duration": 28,
    "start_time": "2024-01-24T11:09:53.061Z"
   },
   {
    "duration": 14,
    "start_time": "2024-01-24T11:09:53.090Z"
   },
   {
    "duration": 23,
    "start_time": "2024-01-24T11:09:53.106Z"
   },
   {
    "duration": 56,
    "start_time": "2024-01-24T11:09:53.132Z"
   },
   {
    "duration": 7,
    "start_time": "2024-01-24T11:09:53.189Z"
   },
   {
    "duration": 39,
    "start_time": "2024-01-24T11:09:53.197Z"
   },
   {
    "duration": 30,
    "start_time": "2024-01-24T11:09:53.238Z"
   },
   {
    "duration": 11,
    "start_time": "2024-01-24T11:09:53.270Z"
   },
   {
    "duration": 17,
    "start_time": "2024-01-24T11:09:53.283Z"
   },
   {
    "duration": 19,
    "start_time": "2024-01-24T11:09:53.302Z"
   },
   {
    "duration": 9,
    "start_time": "2024-01-24T11:09:53.323Z"
   },
   {
    "duration": 55,
    "start_time": "2024-01-24T11:09:53.334Z"
   },
   {
    "duration": 45,
    "start_time": "2024-01-24T11:09:53.390Z"
   },
   {
    "duration": 14,
    "start_time": "2024-01-24T11:09:53.437Z"
   },
   {
    "duration": 33,
    "start_time": "2024-01-24T11:09:53.453Z"
   },
   {
    "duration": 16,
    "start_time": "2024-01-24T11:09:53.488Z"
   },
   {
    "duration": 59,
    "start_time": "2024-01-24T11:09:53.505Z"
   },
   {
    "duration": 9,
    "start_time": "2024-01-24T11:09:53.565Z"
   },
   {
    "duration": 794,
    "start_time": "2024-01-24T11:09:53.575Z"
   },
   {
    "duration": 9,
    "start_time": "2024-01-24T11:09:54.371Z"
   },
   {
    "duration": 4,
    "start_time": "2024-01-24T11:09:54.382Z"
   },
   {
    "duration": 9,
    "start_time": "2024-01-24T11:09:54.391Z"
   },
   {
    "duration": 84,
    "start_time": "2024-01-24T11:09:54.401Z"
   },
   {
    "duration": 38,
    "start_time": "2024-01-24T11:09:54.487Z"
   },
   {
    "duration": 3,
    "start_time": "2024-01-24T11:09:54.527Z"
   },
   {
    "duration": 63,
    "start_time": "2024-01-24T11:09:54.532Z"
   },
   {
    "duration": 1560,
    "start_time": "2024-01-24T11:09:54.597Z"
   },
   {
    "duration": 12,
    "start_time": "2024-01-24T11:09:56.159Z"
   },
   {
    "duration": 24,
    "start_time": "2024-01-24T11:09:56.172Z"
   },
   {
    "duration": 28,
    "start_time": "2024-01-24T11:09:56.198Z"
   },
   {
    "duration": 16,
    "start_time": "2024-01-24T11:09:56.227Z"
   },
   {
    "duration": 19,
    "start_time": "2024-01-24T11:09:56.245Z"
   },
   {
    "duration": 18,
    "start_time": "2024-01-24T11:09:56.266Z"
   },
   {
    "duration": 21,
    "start_time": "2024-01-24T11:09:56.285Z"
   },
   {
    "duration": 705,
    "start_time": "2024-01-24T11:09:56.308Z"
   },
   {
    "duration": 230,
    "start_time": "2024-01-24T11:09:57.015Z"
   },
   {
    "duration": 3,
    "start_time": "2024-01-24T11:09:57.247Z"
   },
   {
    "duration": 52,
    "start_time": "2024-01-24T11:09:57.251Z"
   },
   {
    "duration": 19,
    "start_time": "2024-01-24T11:09:57.305Z"
   },
   {
    "duration": 3,
    "start_time": "2024-01-24T11:09:57.326Z"
   },
   {
    "duration": 16,
    "start_time": "2024-01-24T11:09:57.381Z"
   },
   {
    "duration": 9,
    "start_time": "2024-01-24T11:09:57.398Z"
   },
   {
    "duration": 3,
    "start_time": "2024-01-24T11:09:57.409Z"
   },
   {
    "duration": 69,
    "start_time": "2024-01-24T11:09:57.413Z"
   },
   {
    "duration": 9,
    "start_time": "2024-01-24T11:09:57.484Z"
   },
   {
    "duration": 24,
    "start_time": "2024-01-24T11:09:57.495Z"
   },
   {
    "duration": 27,
    "start_time": "2024-01-24T11:09:57.520Z"
   },
   {
    "duration": 34,
    "start_time": "2024-01-24T11:09:57.549Z"
   },
   {
    "duration": 14,
    "start_time": "2024-01-24T11:09:57.585Z"
   },
   {
    "duration": 27,
    "start_time": "2024-01-24T11:09:57.600Z"
   },
   {
    "duration": 28,
    "start_time": "2024-01-24T11:09:57.628Z"
   },
   {
    "duration": 22,
    "start_time": "2024-01-24T11:09:57.658Z"
   },
   {
    "duration": 15,
    "start_time": "2024-01-24T11:09:57.682Z"
   },
   {
    "duration": 24,
    "start_time": "2024-01-24T11:09:57.699Z"
   },
   {
    "duration": 26,
    "start_time": "2024-01-24T11:09:57.725Z"
   },
   {
    "duration": 53,
    "start_time": "2024-01-24T11:09:57.753Z"
   },
   {
    "duration": 42,
    "start_time": "2024-01-24T11:09:57.808Z"
   },
   {
    "duration": 29,
    "start_time": "2024-01-24T11:09:57.852Z"
   },
   {
    "duration": 18,
    "start_time": "2024-01-24T11:09:57.883Z"
   },
   {
    "duration": 71,
    "start_time": "2024-01-24T11:09:57.903Z"
   },
   {
    "duration": 9,
    "start_time": "2024-01-24T11:09:57.976Z"
   },
   {
    "duration": 6,
    "start_time": "2024-01-24T13:40:32.449Z"
   },
   {
    "duration": 1213,
    "start_time": "2024-01-24T14:33:56.336Z"
   },
   {
    "duration": 344,
    "start_time": "2024-01-24T14:33:57.551Z"
   },
   {
    "duration": 11,
    "start_time": "2024-01-24T14:33:57.896Z"
   },
   {
    "duration": 33,
    "start_time": "2024-01-24T14:33:57.909Z"
   },
   {
    "duration": 9,
    "start_time": "2024-01-24T14:33:57.943Z"
   },
   {
    "duration": 15,
    "start_time": "2024-01-24T14:33:57.954Z"
   },
   {
    "duration": 7,
    "start_time": "2024-01-24T14:33:57.971Z"
   },
   {
    "duration": 16,
    "start_time": "2024-01-24T14:33:57.979Z"
   },
   {
    "duration": 36,
    "start_time": "2024-01-24T14:33:57.996Z"
   },
   {
    "duration": 6,
    "start_time": "2024-01-24T14:33:58.034Z"
   },
   {
    "duration": 27,
    "start_time": "2024-01-24T14:33:58.041Z"
   },
   {
    "duration": 22,
    "start_time": "2024-01-24T14:33:58.070Z"
   },
   {
    "duration": 15,
    "start_time": "2024-01-24T14:33:58.093Z"
   },
   {
    "duration": 5,
    "start_time": "2024-01-24T14:33:58.109Z"
   },
   {
    "duration": 18,
    "start_time": "2024-01-24T14:33:58.115Z"
   },
   {
    "duration": 9,
    "start_time": "2024-01-24T14:33:58.134Z"
   },
   {
    "duration": 42,
    "start_time": "2024-01-24T14:33:58.144Z"
   },
   {
    "duration": 12,
    "start_time": "2024-01-24T14:33:58.187Z"
   },
   {
    "duration": 25,
    "start_time": "2024-01-24T14:33:58.200Z"
   },
   {
    "duration": 30,
    "start_time": "2024-01-24T14:33:58.226Z"
   },
   {
    "duration": 12,
    "start_time": "2024-01-24T14:33:58.257Z"
   },
   {
    "duration": 44,
    "start_time": "2024-01-24T14:33:58.270Z"
   },
   {
    "duration": 8,
    "start_time": "2024-01-24T14:33:58.316Z"
   },
   {
    "duration": 824,
    "start_time": "2024-01-24T14:33:58.326Z"
   },
   {
    "duration": 5,
    "start_time": "2024-01-24T14:33:59.151Z"
   },
   {
    "duration": 5,
    "start_time": "2024-01-24T14:33:59.157Z"
   },
   {
    "duration": 18,
    "start_time": "2024-01-24T14:33:59.164Z"
   },
   {
    "duration": 56,
    "start_time": "2024-01-24T14:33:59.187Z"
   },
   {
    "duration": 53,
    "start_time": "2024-01-24T14:33:59.245Z"
   },
   {
    "duration": 4,
    "start_time": "2024-01-24T14:33:59.299Z"
   },
   {
    "duration": 46,
    "start_time": "2024-01-24T14:33:59.305Z"
   },
   {
    "duration": 1554,
    "start_time": "2024-01-24T14:33:59.352Z"
   },
   {
    "duration": 11,
    "start_time": "2024-01-24T14:34:00.908Z"
   },
   {
    "duration": 44,
    "start_time": "2024-01-24T14:34:00.921Z"
   },
   {
    "duration": 56,
    "start_time": "2024-01-24T14:34:00.967Z"
   },
   {
    "duration": 49,
    "start_time": "2024-01-24T14:34:01.025Z"
   },
   {
    "duration": 128,
    "start_time": "2024-01-24T14:34:01.076Z"
   },
   {
    "duration": 42,
    "start_time": "2024-01-24T14:34:01.206Z"
   },
   {
    "duration": 65,
    "start_time": "2024-01-24T14:34:01.249Z"
   },
   {
    "duration": 704,
    "start_time": "2024-01-24T14:34:01.316Z"
   },
   {
    "duration": 186,
    "start_time": "2024-01-24T14:34:02.022Z"
   },
   {
    "duration": 4,
    "start_time": "2024-01-24T14:34:02.209Z"
   },
   {
    "duration": 66,
    "start_time": "2024-01-24T14:34:02.214Z"
   },
   {
    "duration": 17,
    "start_time": "2024-01-24T14:34:02.282Z"
   },
   {
    "duration": 27,
    "start_time": "2024-01-24T14:34:02.301Z"
   },
   {
    "duration": 67,
    "start_time": "2024-01-24T14:34:02.330Z"
   },
   {
    "duration": 47,
    "start_time": "2024-01-24T14:34:02.399Z"
   },
   {
    "duration": 30,
    "start_time": "2024-01-24T14:34:02.448Z"
   },
   {
    "duration": 30,
    "start_time": "2024-01-24T14:34:02.480Z"
   },
   {
    "duration": 48,
    "start_time": "2024-01-24T14:34:02.512Z"
   },
   {
    "duration": 43,
    "start_time": "2024-01-24T14:34:02.562Z"
   },
   {
    "duration": 65,
    "start_time": "2024-01-24T14:34:02.607Z"
   },
   {
    "duration": 21,
    "start_time": "2024-01-24T14:34:02.674Z"
   },
   {
    "duration": 45,
    "start_time": "2024-01-24T14:34:02.696Z"
   },
   {
    "duration": 44,
    "start_time": "2024-01-24T14:34:02.742Z"
   },
   {
    "duration": 106,
    "start_time": "2024-01-24T14:34:02.788Z"
   },
   {
    "duration": 83,
    "start_time": "2024-01-24T14:34:02.896Z"
   },
   {
    "duration": 91,
    "start_time": "2024-01-24T14:34:02.980Z"
   },
   {
    "duration": 49,
    "start_time": "2024-01-24T14:34:03.072Z"
   },
   {
    "duration": 48,
    "start_time": "2024-01-24T14:34:03.123Z"
   },
   {
    "duration": 35,
    "start_time": "2024-01-24T14:34:03.173Z"
   },
   {
    "duration": 45,
    "start_time": "2024-01-24T14:34:03.209Z"
   },
   {
    "duration": 54,
    "start_time": "2024-01-24T14:34:03.255Z"
   },
   {
    "duration": 25,
    "start_time": "2024-01-24T14:34:03.310Z"
   },
   {
    "duration": 18,
    "start_time": "2024-01-24T14:34:03.336Z"
   },
   {
    "duration": 8,
    "start_time": "2024-01-24T14:34:03.357Z"
   },
   {
    "duration": 1145,
    "start_time": "2024-01-25T03:15:01.842Z"
   },
   {
    "duration": 358,
    "start_time": "2024-01-25T03:15:02.989Z"
   },
   {
    "duration": 11,
    "start_time": "2024-01-25T03:15:03.349Z"
   },
   {
    "duration": 16,
    "start_time": "2024-01-25T03:15:03.363Z"
   },
   {
    "duration": 6,
    "start_time": "2024-01-25T03:15:03.381Z"
   },
   {
    "duration": 10,
    "start_time": "2024-01-25T03:15:03.388Z"
   },
   {
    "duration": 6,
    "start_time": "2024-01-25T03:15:03.399Z"
   },
   {
    "duration": 15,
    "start_time": "2024-01-25T03:15:03.407Z"
   },
   {
    "duration": 52,
    "start_time": "2024-01-25T03:15:03.423Z"
   },
   {
    "duration": 5,
    "start_time": "2024-01-25T03:15:03.477Z"
   },
   {
    "duration": 17,
    "start_time": "2024-01-25T03:15:03.483Z"
   },
   {
    "duration": 18,
    "start_time": "2024-01-25T03:15:03.501Z"
   },
   {
    "duration": 8,
    "start_time": "2024-01-25T03:15:03.520Z"
   },
   {
    "duration": 7,
    "start_time": "2024-01-25T03:15:03.529Z"
   },
   {
    "duration": 40,
    "start_time": "2024-01-25T03:15:03.537Z"
   },
   {
    "duration": 8,
    "start_time": "2024-01-25T03:15:03.579Z"
   },
   {
    "duration": 19,
    "start_time": "2024-01-25T03:15:03.589Z"
   },
   {
    "duration": 11,
    "start_time": "2024-01-25T03:15:03.609Z"
   },
   {
    "duration": 4,
    "start_time": "2024-01-25T03:15:03.621Z"
   },
   {
    "duration": 38,
    "start_time": "2024-01-25T03:15:03.627Z"
   },
   {
    "duration": 10,
    "start_time": "2024-01-25T03:15:03.667Z"
   },
   {
    "duration": 40,
    "start_time": "2024-01-25T03:15:03.678Z"
   },
   {
    "duration": 8,
    "start_time": "2024-01-25T03:15:03.720Z"
   },
   {
    "duration": 714,
    "start_time": "2024-01-25T03:15:03.729Z"
   },
   {
    "duration": 4,
    "start_time": "2024-01-25T03:15:04.444Z"
   },
   {
    "duration": 16,
    "start_time": "2024-01-25T03:15:04.449Z"
   },
   {
    "duration": 6,
    "start_time": "2024-01-25T03:15:04.466Z"
   },
   {
    "duration": 55,
    "start_time": "2024-01-25T03:15:04.475Z"
   },
   {
    "duration": 57,
    "start_time": "2024-01-25T03:15:04.532Z"
   },
   {
    "duration": 3,
    "start_time": "2024-01-25T03:15:04.591Z"
   },
   {
    "duration": 42,
    "start_time": "2024-01-25T03:15:04.595Z"
   },
   {
    "duration": 1406,
    "start_time": "2024-01-25T03:15:04.638Z"
   },
   {
    "duration": 11,
    "start_time": "2024-01-25T03:15:06.045Z"
   },
   {
    "duration": 48,
    "start_time": "2024-01-25T03:15:06.058Z"
   },
   {
    "duration": 26,
    "start_time": "2024-01-25T03:15:06.108Z"
   },
   {
    "duration": 6,
    "start_time": "2024-01-25T03:15:06.135Z"
   },
   {
    "duration": 11,
    "start_time": "2024-01-25T03:15:06.143Z"
   },
   {
    "duration": 9,
    "start_time": "2024-01-25T03:15:06.155Z"
   },
   {
    "duration": 6,
    "start_time": "2024-01-25T03:15:06.165Z"
   },
   {
    "duration": 601,
    "start_time": "2024-01-25T03:15:06.173Z"
   },
   {
    "duration": 529,
    "start_time": "2024-01-25T03:15:06.776Z"
   },
   {
    "duration": 3,
    "start_time": "2024-01-25T03:15:07.307Z"
   },
   {
    "duration": 54,
    "start_time": "2024-01-25T03:15:07.311Z"
   },
   {
    "duration": 15,
    "start_time": "2024-01-25T03:15:07.367Z"
   },
   {
    "duration": 3,
    "start_time": "2024-01-25T03:15:07.384Z"
   },
   {
    "duration": 22,
    "start_time": "2024-01-25T03:15:07.389Z"
   },
   {
    "duration": 64,
    "start_time": "2024-01-25T03:15:07.412Z"
   },
   {
    "duration": 2,
    "start_time": "2024-01-25T03:15:07.478Z"
   },
   {
    "duration": 25,
    "start_time": "2024-01-25T03:15:07.482Z"
   },
   {
    "duration": 57,
    "start_time": "2024-01-25T03:15:07.509Z"
   },
   {
    "duration": 16,
    "start_time": "2024-01-25T03:15:07.567Z"
   },
   {
    "duration": 13,
    "start_time": "2024-01-25T03:15:07.585Z"
   },
   {
    "duration": 10,
    "start_time": "2024-01-25T03:15:07.599Z"
   },
   {
    "duration": 13,
    "start_time": "2024-01-25T03:15:07.611Z"
   },
   {
    "duration": 40,
    "start_time": "2024-01-25T03:15:07.625Z"
   },
   {
    "duration": 13,
    "start_time": "2024-01-25T03:15:07.667Z"
   },
   {
    "duration": 11,
    "start_time": "2024-01-25T03:15:07.681Z"
   },
   {
    "duration": 7,
    "start_time": "2024-01-25T03:15:07.693Z"
   },
   {
    "duration": 13,
    "start_time": "2024-01-25T03:15:07.701Z"
   },
   {
    "duration": 9,
    "start_time": "2024-01-25T03:15:07.716Z"
   },
   {
    "duration": 7,
    "start_time": "2024-01-25T03:15:07.726Z"
   },
   {
    "duration": 10,
    "start_time": "2024-01-25T03:15:07.766Z"
   },
   {
    "duration": 16,
    "start_time": "2024-01-25T03:15:07.777Z"
   },
   {
    "duration": 10,
    "start_time": "2024-01-25T03:15:07.794Z"
   },
   {
    "duration": 12,
    "start_time": "2024-01-25T03:15:07.805Z"
   },
   {
    "duration": 7,
    "start_time": "2024-01-25T03:15:07.818Z"
   },
   {
    "duration": 1379,
    "start_time": "2024-01-25T07:04:02.176Z"
   },
   {
    "duration": 381,
    "start_time": "2024-01-25T07:04:03.562Z"
   },
   {
    "duration": 19,
    "start_time": "2024-01-25T07:04:03.945Z"
   },
   {
    "duration": 117,
    "start_time": "2024-01-25T07:04:03.966Z"
   },
   {
    "duration": 239,
    "start_time": "2024-01-25T07:04:04.085Z"
   },
   {
    "duration": 39,
    "start_time": "2024-01-25T07:04:04.325Z"
   },
   {
    "duration": 14,
    "start_time": "2024-01-25T07:04:04.366Z"
   },
   {
    "duration": 37,
    "start_time": "2024-01-25T07:04:04.381Z"
   },
   {
    "duration": 62,
    "start_time": "2024-01-25T07:04:04.421Z"
   },
   {
    "duration": 5,
    "start_time": "2024-01-25T07:04:04.485Z"
   },
   {
    "duration": 40,
    "start_time": "2024-01-25T07:04:04.492Z"
   },
   {
    "duration": 16,
    "start_time": "2024-01-25T07:04:04.534Z"
   },
   {
    "duration": 16,
    "start_time": "2024-01-25T07:04:04.552Z"
   },
   {
    "duration": 23,
    "start_time": "2024-01-25T07:04:04.572Z"
   },
   {
    "duration": 88,
    "start_time": "2024-01-25T07:04:04.596Z"
   },
   {
    "duration": 11,
    "start_time": "2024-01-25T07:04:04.686Z"
   },
   {
    "duration": 34,
    "start_time": "2024-01-25T07:04:04.698Z"
   },
   {
    "duration": 34,
    "start_time": "2024-01-25T07:04:04.734Z"
   },
   {
    "duration": 28,
    "start_time": "2024-01-25T07:04:04.770Z"
   },
   {
    "duration": 66,
    "start_time": "2024-01-25T07:04:04.800Z"
   },
   {
    "duration": 21,
    "start_time": "2024-01-25T07:04:04.868Z"
   },
   {
    "duration": 78,
    "start_time": "2024-01-25T07:04:04.891Z"
   },
   {
    "duration": 9,
    "start_time": "2024-01-25T07:04:04.970Z"
   },
   {
    "duration": 910,
    "start_time": "2024-01-25T07:04:04.981Z"
   },
   {
    "duration": 5,
    "start_time": "2024-01-25T07:04:05.894Z"
   },
   {
    "duration": 8,
    "start_time": "2024-01-25T07:04:05.900Z"
   },
   {
    "duration": 19,
    "start_time": "2024-01-25T07:04:05.909Z"
   },
   {
    "duration": 79,
    "start_time": "2024-01-25T07:04:05.929Z"
   },
   {
    "duration": 34,
    "start_time": "2024-01-25T07:04:06.010Z"
   },
   {
    "duration": 10,
    "start_time": "2024-01-25T07:04:06.045Z"
   },
   {
    "duration": 65,
    "start_time": "2024-01-25T07:04:06.057Z"
   },
   {
    "duration": 1567,
    "start_time": "2024-01-25T07:04:06.123Z"
   },
   {
    "duration": 15,
    "start_time": "2024-01-25T07:04:07.692Z"
   },
   {
    "duration": 22,
    "start_time": "2024-01-25T07:04:07.709Z"
   },
   {
    "duration": 44,
    "start_time": "2024-01-25T07:04:07.733Z"
   },
   {
    "duration": 7,
    "start_time": "2024-01-25T07:04:07.779Z"
   },
   {
    "duration": 15,
    "start_time": "2024-01-25T07:04:07.787Z"
   },
   {
    "duration": 30,
    "start_time": "2024-01-25T07:04:07.804Z"
   },
   {
    "duration": 30,
    "start_time": "2024-01-25T07:04:07.836Z"
   },
   {
    "duration": 667,
    "start_time": "2024-01-25T07:04:07.870Z"
   },
   {
    "duration": 600,
    "start_time": "2024-01-25T07:04:08.555Z"
   },
   {
    "duration": 6,
    "start_time": "2024-01-25T07:04:09.157Z"
   },
   {
    "duration": 50,
    "start_time": "2024-01-25T07:04:09.164Z"
   },
   {
    "duration": 47,
    "start_time": "2024-01-25T07:04:09.216Z"
   },
   {
    "duration": 3,
    "start_time": "2024-01-25T07:04:09.271Z"
   },
   {
    "duration": 19,
    "start_time": "2024-01-25T07:04:09.276Z"
   },
   {
    "duration": 8,
    "start_time": "2024-01-25T07:04:09.296Z"
   },
   {
    "duration": 8,
    "start_time": "2024-01-25T07:04:09.305Z"
   },
   {
    "duration": 63,
    "start_time": "2024-01-25T07:04:09.314Z"
   },
   {
    "duration": 20,
    "start_time": "2024-01-25T07:04:09.378Z"
   },
   {
    "duration": 31,
    "start_time": "2024-01-25T07:04:09.399Z"
   },
   {
    "duration": 14,
    "start_time": "2024-01-25T07:04:09.431Z"
   },
   {
    "duration": 26,
    "start_time": "2024-01-25T07:04:09.446Z"
   },
   {
    "duration": 55,
    "start_time": "2024-01-25T07:04:09.474Z"
   },
   {
    "duration": 40,
    "start_time": "2024-01-25T07:04:09.531Z"
   },
   {
    "duration": 16,
    "start_time": "2024-01-25T07:04:09.573Z"
   },
   {
    "duration": 11,
    "start_time": "2024-01-25T07:04:09.590Z"
   },
   {
    "duration": 16,
    "start_time": "2024-01-25T07:04:09.603Z"
   },
   {
    "duration": 14,
    "start_time": "2024-01-25T07:04:09.621Z"
   },
   {
    "duration": 24,
    "start_time": "2024-01-25T07:04:09.636Z"
   },
   {
    "duration": 10,
    "start_time": "2024-01-25T07:04:09.665Z"
   },
   {
    "duration": 12,
    "start_time": "2024-01-25T07:04:09.677Z"
   },
   {
    "duration": 22,
    "start_time": "2024-01-25T07:04:09.690Z"
   },
   {
    "duration": 11,
    "start_time": "2024-01-25T07:04:09.714Z"
   },
   {
    "duration": 28,
    "start_time": "2024-01-25T07:04:09.727Z"
   },
   {
    "duration": 16,
    "start_time": "2024-01-25T07:04:09.758Z"
   },
   {
    "duration": 146,
    "start_time": "2024-01-25T07:16:01.648Z"
   },
   {
    "duration": 24,
    "start_time": "2024-01-25T07:21:04.135Z"
   },
   {
    "duration": 10,
    "start_time": "2024-01-25T07:21:10.082Z"
   },
   {
    "duration": 10,
    "start_time": "2024-01-25T07:21:15.290Z"
   },
   {
    "duration": 12,
    "start_time": "2024-01-25T07:22:56.869Z"
   },
   {
    "duration": 55,
    "start_time": "2024-01-25T10:27:40.432Z"
   },
   {
    "duration": 1440,
    "start_time": "2024-01-25T10:27:44.847Z"
   },
   {
    "duration": 408,
    "start_time": "2024-01-25T10:27:46.289Z"
   },
   {
    "duration": 26,
    "start_time": "2024-01-25T10:27:46.698Z"
   },
   {
    "duration": 22,
    "start_time": "2024-01-25T10:27:46.726Z"
   },
   {
    "duration": 26,
    "start_time": "2024-01-25T10:27:46.749Z"
   },
   {
    "duration": 55,
    "start_time": "2024-01-25T10:27:46.777Z"
   },
   {
    "duration": 16,
    "start_time": "2024-01-25T10:27:46.834Z"
   },
   {
    "duration": 71,
    "start_time": "2024-01-25T10:27:46.854Z"
   },
   {
    "duration": 34,
    "start_time": "2024-01-25T10:27:46.927Z"
   },
   {
    "duration": 62,
    "start_time": "2024-01-25T10:27:46.964Z"
   },
   {
    "duration": 19,
    "start_time": "2024-01-25T10:27:47.028Z"
   },
   {
    "duration": 79,
    "start_time": "2024-01-25T10:27:47.048Z"
   },
   {
    "duration": 9,
    "start_time": "2024-01-25T10:27:47.129Z"
   },
   {
    "duration": 11,
    "start_time": "2024-01-25T10:27:47.139Z"
   },
   {
    "duration": 75,
    "start_time": "2024-01-25T10:27:47.152Z"
   },
   {
    "duration": 10,
    "start_time": "2024-01-25T10:27:47.229Z"
   },
   {
    "duration": 35,
    "start_time": "2024-01-25T10:27:47.240Z"
   },
   {
    "duration": 57,
    "start_time": "2024-01-25T10:27:47.276Z"
   },
   {
    "duration": 5,
    "start_time": "2024-01-25T10:27:47.335Z"
   },
   {
    "duration": 25,
    "start_time": "2024-01-25T10:27:47.342Z"
   },
   {
    "duration": 55,
    "start_time": "2024-01-25T10:27:47.369Z"
   },
   {
    "duration": 107,
    "start_time": "2024-01-25T10:27:47.426Z"
   },
   {
    "duration": 12,
    "start_time": "2024-01-25T10:27:47.535Z"
   },
   {
    "duration": 1299,
    "start_time": "2024-01-25T10:27:47.549Z"
   },
   {
    "duration": 1542,
    "start_time": "2024-01-25T10:27:48.854Z"
   },
   {
    "duration": 4,
    "start_time": "2024-01-25T10:27:50.398Z"
   },
   {
    "duration": 39,
    "start_time": "2024-01-25T10:27:50.403Z"
   },
   {
    "duration": 43,
    "start_time": "2024-01-25T10:27:50.447Z"
   },
   {
    "duration": 94,
    "start_time": "2024-01-25T10:27:50.492Z"
   },
   {
    "duration": 54,
    "start_time": "2024-01-25T10:27:50.588Z"
   },
   {
    "duration": 21,
    "start_time": "2024-01-25T10:27:50.645Z"
   },
   {
    "duration": 95,
    "start_time": "2024-01-25T10:27:50.669Z"
   },
   {
    "duration": 1852,
    "start_time": "2024-01-25T10:27:50.766Z"
   },
   {
    "duration": 13,
    "start_time": "2024-01-25T10:27:52.620Z"
   },
   {
    "duration": 31,
    "start_time": "2024-01-25T10:27:52.635Z"
   },
   {
    "duration": 37,
    "start_time": "2024-01-25T10:27:52.668Z"
   },
   {
    "duration": 8,
    "start_time": "2024-01-25T10:27:52.707Z"
   },
   {
    "duration": 20,
    "start_time": "2024-01-25T10:27:52.722Z"
   },
   {
    "duration": 7,
    "start_time": "2024-01-25T10:27:52.744Z"
   },
   {
    "duration": 28,
    "start_time": "2024-01-25T10:27:52.753Z"
   },
   {
    "duration": 781,
    "start_time": "2024-01-25T10:27:52.783Z"
   },
   {
    "duration": 204,
    "start_time": "2024-01-25T10:27:53.566Z"
   },
   {
    "duration": 3,
    "start_time": "2024-01-25T10:27:53.773Z"
   },
   {
    "duration": 61,
    "start_time": "2024-01-25T10:27:53.778Z"
   },
   {
    "duration": 12,
    "start_time": "2024-01-25T10:27:53.841Z"
   },
   {
    "duration": 12,
    "start_time": "2024-01-25T10:27:53.855Z"
   },
   {
    "duration": 3,
    "start_time": "2024-01-25T10:27:53.868Z"
   },
   {
    "duration": 29,
    "start_time": "2024-01-25T10:27:53.924Z"
   },
   {
    "duration": 10,
    "start_time": "2024-01-25T10:27:53.955Z"
   },
   {
    "duration": 4,
    "start_time": "2024-01-25T10:27:54.025Z"
   },
   {
    "duration": 28,
    "start_time": "2024-01-25T10:27:54.031Z"
   },
   {
    "duration": 14,
    "start_time": "2024-01-25T10:27:54.061Z"
   },
   {
    "duration": 55,
    "start_time": "2024-01-25T10:27:54.077Z"
   },
   {
    "duration": 22,
    "start_time": "2024-01-25T10:27:54.134Z"
   },
   {
    "duration": 11,
    "start_time": "2024-01-25T10:27:54.158Z"
   },
   {
    "duration": 16,
    "start_time": "2024-01-25T10:27:54.170Z"
   },
   {
    "duration": 47,
    "start_time": "2024-01-25T10:27:54.188Z"
   },
   {
    "duration": 19,
    "start_time": "2024-01-25T10:27:54.238Z"
   },
   {
    "duration": 14,
    "start_time": "2024-01-25T10:27:54.259Z"
   },
   {
    "duration": 28,
    "start_time": "2024-01-25T10:27:54.274Z"
   },
   {
    "duration": 32,
    "start_time": "2024-01-25T10:27:54.304Z"
   },
   {
    "duration": 18,
    "start_time": "2024-01-25T10:27:54.339Z"
   },
   {
    "duration": 8,
    "start_time": "2024-01-25T10:27:54.359Z"
   },
   {
    "duration": 16,
    "start_time": "2024-01-25T10:27:54.369Z"
   },
   {
    "duration": 47,
    "start_time": "2024-01-25T10:27:54.387Z"
   },
   {
    "duration": 17,
    "start_time": "2024-01-25T10:27:54.436Z"
   },
   {
    "duration": 15,
    "start_time": "2024-01-25T10:27:54.455Z"
   },
   {
    "duration": 16,
    "start_time": "2024-01-25T10:27:54.473Z"
   },
   {
    "duration": 33,
    "start_time": "2024-01-25T10:58:51.775Z"
   },
   {
    "duration": 31,
    "start_time": "2024-01-25T10:59:14.103Z"
   },
   {
    "duration": 6,
    "start_time": "2024-01-25T10:59:44.394Z"
   },
   {
    "duration": 9,
    "start_time": "2024-01-25T10:59:56.111Z"
   },
   {
    "duration": 23,
    "start_time": "2024-01-25T11:07:25.138Z"
   },
   {
    "duration": 22,
    "start_time": "2024-01-25T11:07:48.501Z"
   },
   {
    "duration": 32,
    "start_time": "2024-01-25T11:08:47.750Z"
   },
   {
    "duration": 21,
    "start_time": "2024-01-25T11:08:52.930Z"
   },
   {
    "duration": 21,
    "start_time": "2024-01-25T11:09:00.730Z"
   },
   {
    "duration": 25,
    "start_time": "2024-01-25T11:09:30.755Z"
   },
   {
    "duration": 18,
    "start_time": "2024-01-25T11:18:10.360Z"
   },
   {
    "duration": 11,
    "start_time": "2024-01-25T11:18:13.494Z"
   },
   {
    "duration": 16,
    "start_time": "2024-01-25T11:18:22.247Z"
   },
   {
    "duration": 10,
    "start_time": "2024-01-25T11:18:24.952Z"
   },
   {
    "duration": 23,
    "start_time": "2024-01-25T11:18:34.875Z"
   },
   {
    "duration": 10,
    "start_time": "2024-01-25T11:18:37.325Z"
   },
   {
    "duration": 16,
    "start_time": "2024-01-25T11:19:35.557Z"
   },
   {
    "duration": 11,
    "start_time": "2024-01-25T11:19:36.778Z"
   },
   {
    "duration": 16,
    "start_time": "2024-01-25T11:19:44.365Z"
   },
   {
    "duration": 17,
    "start_time": "2024-01-25T11:19:53.201Z"
   },
   {
    "duration": 17,
    "start_time": "2024-01-25T11:19:58.884Z"
   },
   {
    "duration": 11,
    "start_time": "2024-01-25T11:20:26.897Z"
   },
   {
    "duration": 15,
    "start_time": "2024-01-25T11:20:32.827Z"
   },
   {
    "duration": 10,
    "start_time": "2024-01-25T11:20:34.873Z"
   },
   {
    "duration": 10,
    "start_time": "2024-01-25T11:20:59.245Z"
   },
   {
    "duration": 2,
    "start_time": "2024-01-25T11:21:04.111Z"
   },
   {
    "duration": 18,
    "start_time": "2024-01-25T11:21:07.516Z"
   },
   {
    "duration": 76,
    "start_time": "2024-01-25T11:21:09.520Z"
   },
   {
    "duration": 10,
    "start_time": "2024-01-25T11:21:13.200Z"
   },
   {
    "duration": 10,
    "start_time": "2024-01-25T11:21:15.336Z"
   },
   {
    "duration": 17,
    "start_time": "2024-01-25T11:21:49.293Z"
   },
   {
    "duration": 17,
    "start_time": "2024-01-25T11:21:52.525Z"
   },
   {
    "duration": 105,
    "start_time": "2024-01-25T11:23:03.007Z"
   },
   {
    "duration": 17,
    "start_time": "2024-01-25T11:23:16.701Z"
   },
   {
    "duration": 13,
    "start_time": "2024-01-25T11:23:39.377Z"
   },
   {
    "duration": 38,
    "start_time": "2024-01-25T11:24:11.390Z"
   },
   {
    "duration": 13,
    "start_time": "2024-01-25T11:24:14.591Z"
   },
   {
    "duration": 28,
    "start_time": "2024-01-25T11:24:32.502Z"
   },
   {
    "duration": 4,
    "start_time": "2024-01-25T11:24:34.053Z"
   },
   {
    "duration": 11,
    "start_time": "2024-01-25T11:24:36.230Z"
   },
   {
    "duration": 24,
    "start_time": "2024-01-25T11:25:05.829Z"
   },
   {
    "duration": 11,
    "start_time": "2024-01-25T11:25:08.186Z"
   },
   {
    "duration": 32,
    "start_time": "2024-01-25T11:25:53.260Z"
   },
   {
    "duration": 17,
    "start_time": "2024-01-25T11:26:05.141Z"
   },
   {
    "duration": 31,
    "start_time": "2024-01-25T11:26:07.082Z"
   },
   {
    "duration": 11,
    "start_time": "2024-01-25T11:26:08.534Z"
   },
   {
    "duration": 33,
    "start_time": "2024-01-25T11:26:19.648Z"
   },
   {
    "duration": 10,
    "start_time": "2024-01-25T11:29:25.745Z"
   },
   {
    "duration": 11,
    "start_time": "2024-01-25T11:29:42.018Z"
   },
   {
    "duration": 16,
    "start_time": "2024-01-25T11:32:40.748Z"
   },
   {
    "duration": 10,
    "start_time": "2024-01-25T11:32:47.308Z"
   },
   {
    "duration": 15,
    "start_time": "2024-01-25T11:32:52.311Z"
   },
   {
    "duration": 21,
    "start_time": "2024-01-25T11:33:10.597Z"
   },
   {
    "duration": 21,
    "start_time": "2024-01-25T11:33:16.624Z"
   },
   {
    "duration": 14,
    "start_time": "2024-01-25T11:41:05.703Z"
   },
   {
    "duration": 1349,
    "start_time": "2024-01-25T11:41:51.301Z"
   },
   {
    "duration": 1235,
    "start_time": "2024-01-25T11:42:01.835Z"
   },
   {
    "duration": 146,
    "start_time": "2024-01-25T11:45:35.232Z"
   },
   {
    "duration": 4,
    "start_time": "2024-01-25T11:46:08.531Z"
   },
   {
    "duration": 10,
    "start_time": "2024-01-25T11:47:10.383Z"
   },
   {
    "duration": 149,
    "start_time": "2024-01-25T11:49:25.863Z"
   },
   {
    "duration": 254,
    "start_time": "2024-01-25T11:49:44.419Z"
   },
   {
    "duration": 15,
    "start_time": "2024-01-25T11:53:54.044Z"
   },
   {
    "duration": 16,
    "start_time": "2024-01-25T11:54:05.535Z"
   },
   {
    "duration": 13,
    "start_time": "2024-01-25T11:54:19.639Z"
   },
   {
    "duration": 15,
    "start_time": "2024-01-25T11:54:21.625Z"
   },
   {
    "duration": 19,
    "start_time": "2024-01-25T11:54:35.945Z"
   },
   {
    "duration": 13,
    "start_time": "2024-01-25T11:55:32.411Z"
   },
   {
    "duration": 14,
    "start_time": "2024-01-25T11:56:19.338Z"
   },
   {
    "duration": 14,
    "start_time": "2024-01-25T11:56:30.012Z"
   },
   {
    "duration": 13,
    "start_time": "2024-01-25T11:57:07.808Z"
   },
   {
    "duration": 16,
    "start_time": "2024-01-25T11:59:00.231Z"
   },
   {
    "duration": 17,
    "start_time": "2024-01-25T11:59:59.069Z"
   },
   {
    "duration": 14,
    "start_time": "2024-01-25T12:00:10.966Z"
   },
   {
    "duration": 16,
    "start_time": "2024-01-25T12:01:06.922Z"
   },
   {
    "duration": 78,
    "start_time": "2024-01-25T12:03:18.020Z"
   },
   {
    "duration": 2,
    "start_time": "2024-01-25T12:03:50.223Z"
   },
   {
    "duration": 3,
    "start_time": "2024-01-25T12:04:01.154Z"
   },
   {
    "duration": 151,
    "start_time": "2024-01-25T12:04:22.923Z"
   },
   {
    "duration": 159,
    "start_time": "2024-01-25T12:04:36.505Z"
   },
   {
    "duration": 208,
    "start_time": "2024-01-25T12:05:51.315Z"
   },
   {
    "duration": 164,
    "start_time": "2024-01-25T12:05:58.023Z"
   },
   {
    "duration": 21,
    "start_time": "2024-01-25T12:12:27.011Z"
   },
   {
    "duration": 10,
    "start_time": "2024-01-25T12:12:30.061Z"
   },
   {
    "duration": 97,
    "start_time": "2024-01-25T16:44:21.811Z"
   },
   {
    "duration": 88,
    "start_time": "2024-01-25T16:44:31.747Z"
   },
   {
    "duration": 86,
    "start_time": "2024-01-25T16:44:46.597Z"
   },
   {
    "duration": 16,
    "start_time": "2024-01-25T16:45:01.529Z"
   },
   {
    "duration": 13,
    "start_time": "2024-01-25T16:45:10.681Z"
   },
   {
    "duration": 12,
    "start_time": "2024-01-25T16:45:11.985Z"
   },
   {
    "duration": 12,
    "start_time": "2024-01-25T16:45:18.398Z"
   },
   {
    "duration": 12,
    "start_time": "2024-01-25T16:45:20.428Z"
   },
   {
    "duration": 12,
    "start_time": "2024-01-25T16:45:21.911Z"
   },
   {
    "duration": 15,
    "start_time": "2024-01-25T16:45:25.408Z"
   },
   {
    "duration": 12,
    "start_time": "2024-01-25T16:45:26.547Z"
   },
   {
    "duration": 18,
    "start_time": "2024-01-25T16:45:54.509Z"
   },
   {
    "duration": 14,
    "start_time": "2024-01-25T16:45:57.576Z"
   },
   {
    "duration": 13,
    "start_time": "2024-01-25T16:45:59.588Z"
   },
   {
    "duration": 10,
    "start_time": "2024-01-25T16:46:01.832Z"
   },
   {
    "duration": 19,
    "start_time": "2024-01-25T16:46:35.934Z"
   },
   {
    "duration": 12,
    "start_time": "2024-01-25T16:46:40.392Z"
   },
   {
    "duration": 11,
    "start_time": "2024-01-25T16:46:41.769Z"
   },
   {
    "duration": 8,
    "start_time": "2024-01-25T16:46:45.785Z"
   },
   {
    "duration": 16,
    "start_time": "2024-01-25T16:52:56.463Z"
   },
   {
    "duration": 15,
    "start_time": "2024-01-25T16:53:01.747Z"
   },
   {
    "duration": 14,
    "start_time": "2024-01-25T16:53:04.434Z"
   },
   {
    "duration": 13,
    "start_time": "2024-01-25T16:53:05.438Z"
   },
   {
    "duration": 19,
    "start_time": "2024-01-25T16:53:22.901Z"
   },
   {
    "duration": 13,
    "start_time": "2024-01-25T16:53:25.827Z"
   },
   {
    "duration": 11,
    "start_time": "2024-01-25T16:53:28.125Z"
   },
   {
    "duration": 8,
    "start_time": "2024-01-25T16:53:29.939Z"
   },
   {
    "duration": 11,
    "start_time": "2024-01-25T17:08:47.589Z"
   },
   {
    "duration": 9,
    "start_time": "2024-01-25T17:14:32.605Z"
   },
   {
    "duration": 14,
    "start_time": "2024-01-25T17:14:54.961Z"
   },
   {
    "duration": 9,
    "start_time": "2024-01-25T17:14:57.649Z"
   },
   {
    "duration": 9,
    "start_time": "2024-01-25T17:15:01.101Z"
   },
   {
    "duration": 11,
    "start_time": "2024-01-25T17:15:13.323Z"
   },
   {
    "duration": 9,
    "start_time": "2024-01-25T17:15:22.297Z"
   },
   {
    "duration": 12,
    "start_time": "2024-01-25T17:15:37.861Z"
   },
   {
    "duration": 33,
    "start_time": "2024-01-25T17:16:15.177Z"
   },
   {
    "duration": 34,
    "start_time": "2024-01-25T17:16:31.295Z"
   },
   {
    "duration": 33,
    "start_time": "2024-01-25T17:16:35.688Z"
   },
   {
    "duration": 15,
    "start_time": "2024-01-25T17:16:50.313Z"
   },
   {
    "duration": 17,
    "start_time": "2024-01-25T17:16:53.338Z"
   },
   {
    "duration": 16,
    "start_time": "2024-01-25T17:17:13.840Z"
   },
   {
    "duration": 9,
    "start_time": "2024-01-25T17:17:46.436Z"
   },
   {
    "duration": 9,
    "start_time": "2024-01-25T17:19:12.736Z"
   },
   {
    "duration": 3,
    "start_time": "2024-01-25T17:20:00.066Z"
   },
   {
    "duration": 2,
    "start_time": "2024-01-25T17:20:02.028Z"
   },
   {
    "duration": 2,
    "start_time": "2024-01-25T17:20:03.973Z"
   },
   {
    "duration": 3,
    "start_time": "2024-01-25T17:20:05.564Z"
   },
   {
    "duration": 3,
    "start_time": "2024-01-25T17:20:06.239Z"
   },
   {
    "duration": 1264,
    "start_time": "2024-01-25T17:48:17.490Z"
   },
   {
    "duration": 321,
    "start_time": "2024-01-25T17:48:18.756Z"
   },
   {
    "duration": 13,
    "start_time": "2024-01-25T17:48:19.082Z"
   },
   {
    "duration": 25,
    "start_time": "2024-01-25T17:48:19.096Z"
   },
   {
    "duration": 8,
    "start_time": "2024-01-25T17:48:19.123Z"
   },
   {
    "duration": 13,
    "start_time": "2024-01-25T17:48:19.132Z"
   },
   {
    "duration": 9,
    "start_time": "2024-01-25T17:48:19.146Z"
   },
   {
    "duration": 24,
    "start_time": "2024-01-25T17:48:19.157Z"
   },
   {
    "duration": 52,
    "start_time": "2024-01-25T17:48:19.183Z"
   },
   {
    "duration": 6,
    "start_time": "2024-01-25T17:48:19.237Z"
   },
   {
    "duration": 26,
    "start_time": "2024-01-25T17:48:19.244Z"
   },
   {
    "duration": 31,
    "start_time": "2024-01-25T17:48:19.272Z"
   },
   {
    "duration": 28,
    "start_time": "2024-01-25T17:48:19.304Z"
   },
   {
    "duration": 25,
    "start_time": "2024-01-25T17:48:19.334Z"
   },
   {
    "duration": 91,
    "start_time": "2024-01-25T17:48:19.361Z"
   },
   {
    "duration": 9,
    "start_time": "2024-01-25T17:48:19.454Z"
   },
   {
    "duration": 44,
    "start_time": "2024-01-25T17:48:19.465Z"
   },
   {
    "duration": 16,
    "start_time": "2024-01-25T17:48:19.512Z"
   },
   {
    "duration": 23,
    "start_time": "2024-01-25T17:48:19.530Z"
   },
   {
    "duration": 34,
    "start_time": "2024-01-25T17:48:19.555Z"
   },
   {
    "duration": 12,
    "start_time": "2024-01-25T17:48:19.591Z"
   },
   {
    "duration": 53,
    "start_time": "2024-01-25T17:48:19.605Z"
   },
   {
    "duration": 9,
    "start_time": "2024-01-25T17:48:19.660Z"
   },
   {
    "duration": 812,
    "start_time": "2024-01-25T17:48:19.670Z"
   },
   {
    "duration": 722,
    "start_time": "2024-01-25T17:48:20.483Z"
   },
   {
    "duration": 4,
    "start_time": "2024-01-25T17:48:21.207Z"
   },
   {
    "duration": 4,
    "start_time": "2024-01-25T17:48:21.222Z"
   },
   {
    "duration": 6,
    "start_time": "2024-01-25T17:48:21.228Z"
   },
   {
    "duration": 91,
    "start_time": "2024-01-25T17:48:21.235Z"
   },
   {
    "duration": 41,
    "start_time": "2024-01-25T17:48:21.328Z"
   },
   {
    "duration": 3,
    "start_time": "2024-01-25T17:48:21.371Z"
   },
   {
    "duration": 57,
    "start_time": "2024-01-25T17:48:21.376Z"
   },
   {
    "duration": 1587,
    "start_time": "2024-01-25T17:48:21.435Z"
   },
   {
    "duration": 12,
    "start_time": "2024-01-25T17:48:23.023Z"
   },
   {
    "duration": 40,
    "start_time": "2024-01-25T17:48:23.037Z"
   },
   {
    "duration": 65,
    "start_time": "2024-01-25T17:48:23.078Z"
   },
   {
    "duration": 8,
    "start_time": "2024-01-25T17:48:23.144Z"
   },
   {
    "duration": 37,
    "start_time": "2024-01-25T17:48:23.154Z"
   },
   {
    "duration": 25,
    "start_time": "2024-01-25T17:48:23.193Z"
   },
   {
    "duration": 30,
    "start_time": "2024-01-25T17:48:23.220Z"
   },
   {
    "duration": 19,
    "start_time": "2024-01-25T17:48:23.252Z"
   },
   {
    "duration": 717,
    "start_time": "2024-01-25T17:48:23.273Z"
   },
   {
    "duration": 170,
    "start_time": "2024-01-25T17:48:23.991Z"
   },
   {
    "duration": 3,
    "start_time": "2024-01-25T17:48:24.162Z"
   },
   {
    "duration": 22,
    "start_time": "2024-01-25T17:48:24.166Z"
   },
   {
    "duration": 59,
    "start_time": "2024-01-25T17:48:24.189Z"
   },
   {
    "duration": 10,
    "start_time": "2024-01-25T17:48:24.250Z"
   },
   {
    "duration": 67,
    "start_time": "2024-01-25T17:48:24.262Z"
   },
   {
    "duration": 19,
    "start_time": "2024-01-25T17:48:24.330Z"
   },
   {
    "duration": 21,
    "start_time": "2024-01-25T17:48:24.351Z"
   },
   {
    "duration": 3,
    "start_time": "2024-01-25T17:48:24.374Z"
   },
   {
    "duration": 33,
    "start_time": "2024-01-25T17:48:24.378Z"
   },
   {
    "duration": 14,
    "start_time": "2024-01-25T17:48:24.413Z"
   },
   {
    "duration": 10,
    "start_time": "2024-01-25T17:48:24.428Z"
   },
   {
    "duration": 28,
    "start_time": "2024-01-25T17:48:24.440Z"
   },
   {
    "duration": 2,
    "start_time": "2024-01-25T17:48:24.470Z"
   },
   {
    "duration": 45,
    "start_time": "2024-01-25T17:48:24.474Z"
   },
   {
    "duration": 11,
    "start_time": "2024-01-25T17:48:24.522Z"
   },
   {
    "duration": 25,
    "start_time": "2024-01-25T17:48:24.534Z"
   },
   {
    "duration": 17,
    "start_time": "2024-01-25T17:48:24.561Z"
   },
   {
    "duration": 183,
    "start_time": "2024-01-25T17:48:24.579Z"
   },
   {
    "duration": 3,
    "start_time": "2024-01-25T17:48:24.763Z"
   },
   {
    "duration": 30,
    "start_time": "2024-01-25T17:48:24.767Z"
   },
   {
    "duration": 179,
    "start_time": "2024-01-25T17:48:24.799Z"
   },
   {
    "duration": 2,
    "start_time": "2024-01-25T17:48:24.980Z"
   },
   {
    "duration": 35,
    "start_time": "2024-01-25T17:48:24.984Z"
   },
   {
    "duration": 13,
    "start_time": "2024-01-25T17:48:25.021Z"
   },
   {
    "duration": 18,
    "start_time": "2024-01-25T17:48:25.035Z"
   },
   {
    "duration": 18,
    "start_time": "2024-01-25T17:48:25.054Z"
   },
   {
    "duration": 12,
    "start_time": "2024-01-25T17:48:25.074Z"
   },
   {
    "duration": 71,
    "start_time": "2024-01-25T17:48:25.087Z"
   },
   {
    "duration": 3,
    "start_time": "2024-01-25T17:48:25.160Z"
   },
   {
    "duration": 6,
    "start_time": "2024-01-25T17:48:25.164Z"
   },
   {
    "duration": 4,
    "start_time": "2024-01-25T17:48:25.171Z"
   },
   {
    "duration": 5,
    "start_time": "2024-01-25T17:48:25.177Z"
   },
   {
    "duration": 4,
    "start_time": "2024-01-25T17:48:25.183Z"
   },
   {
    "duration": 31,
    "start_time": "2024-01-25T17:48:25.189Z"
   },
   {
    "duration": 20,
    "start_time": "2024-01-25T17:48:25.221Z"
   },
   {
    "duration": 24,
    "start_time": "2024-01-25T17:48:25.242Z"
   },
   {
    "duration": 14,
    "start_time": "2024-01-25T17:48:25.268Z"
   },
   {
    "duration": 9,
    "start_time": "2024-01-25T17:48:25.287Z"
   },
   {
    "duration": 1138,
    "start_time": "2024-01-26T02:34:15.042Z"
   },
   {
    "duration": 1013,
    "start_time": "2024-01-26T02:34:16.182Z"
   },
   {
    "duration": 9,
    "start_time": "2024-01-26T02:34:17.197Z"
   },
   {
    "duration": 20,
    "start_time": "2024-01-26T02:34:17.207Z"
   },
   {
    "duration": 6,
    "start_time": "2024-01-26T02:34:17.229Z"
   },
   {
    "duration": 11,
    "start_time": "2024-01-26T02:34:17.236Z"
   },
   {
    "duration": 16,
    "start_time": "2024-01-26T02:34:17.249Z"
   },
   {
    "duration": 14,
    "start_time": "2024-01-26T02:34:17.267Z"
   },
   {
    "duration": 30,
    "start_time": "2024-01-26T02:34:17.283Z"
   },
   {
    "duration": 5,
    "start_time": "2024-01-26T02:34:17.314Z"
   },
   {
    "duration": 19,
    "start_time": "2024-01-26T02:34:17.320Z"
   },
   {
    "duration": 29,
    "start_time": "2024-01-26T02:34:17.341Z"
   },
   {
    "duration": 8,
    "start_time": "2024-01-26T02:34:17.371Z"
   },
   {
    "duration": 3,
    "start_time": "2024-01-26T02:34:17.381Z"
   },
   {
    "duration": 20,
    "start_time": "2024-01-26T02:34:17.385Z"
   },
   {
    "duration": 8,
    "start_time": "2024-01-26T02:34:17.406Z"
   },
   {
    "duration": 50,
    "start_time": "2024-01-26T02:34:17.415Z"
   },
   {
    "duration": 9,
    "start_time": "2024-01-26T02:34:17.467Z"
   },
   {
    "duration": 4,
    "start_time": "2024-01-26T02:34:17.477Z"
   },
   {
    "duration": 16,
    "start_time": "2024-01-26T02:34:17.482Z"
   },
   {
    "duration": 11,
    "start_time": "2024-01-26T02:34:17.499Z"
   },
   {
    "duration": 54,
    "start_time": "2024-01-26T02:34:17.511Z"
   },
   {
    "duration": 8,
    "start_time": "2024-01-26T02:34:17.566Z"
   },
   {
    "duration": 763,
    "start_time": "2024-01-26T02:34:17.575Z"
   },
   {
    "duration": 636,
    "start_time": "2024-01-26T02:34:18.340Z"
   },
   {
    "duration": 4,
    "start_time": "2024-01-26T02:34:18.977Z"
   },
   {
    "duration": 9,
    "start_time": "2024-01-26T02:34:18.983Z"
   },
   {
    "duration": 7,
    "start_time": "2024-01-26T02:34:18.993Z"
   },
   {
    "duration": 72,
    "start_time": "2024-01-26T02:34:19.002Z"
   },
   {
    "duration": 35,
    "start_time": "2024-01-26T02:34:19.075Z"
   },
   {
    "duration": 3,
    "start_time": "2024-01-26T02:34:19.112Z"
   },
   {
    "duration": 62,
    "start_time": "2024-01-26T02:34:19.117Z"
   },
   {
    "duration": 1385,
    "start_time": "2024-01-26T02:34:19.181Z"
   },
   {
    "duration": 11,
    "start_time": "2024-01-26T02:34:20.567Z"
   },
   {
    "duration": 18,
    "start_time": "2024-01-26T02:34:20.580Z"
   },
   {
    "duration": 24,
    "start_time": "2024-01-26T02:34:20.599Z"
   },
   {
    "duration": 7,
    "start_time": "2024-01-26T02:34:20.624Z"
   },
   {
    "duration": 28,
    "start_time": "2024-01-26T02:34:20.632Z"
   },
   {
    "duration": 12,
    "start_time": "2024-01-26T02:34:20.662Z"
   },
   {
    "duration": 4,
    "start_time": "2024-01-26T02:34:20.676Z"
   },
   {
    "duration": 6,
    "start_time": "2024-01-26T02:34:20.685Z"
   },
   {
    "duration": 625,
    "start_time": "2024-01-26T02:34:20.692Z"
   },
   {
    "duration": 1725,
    "start_time": "2024-01-26T02:34:21.319Z"
   },
   {
    "duration": 2,
    "start_time": "2024-01-26T02:34:23.046Z"
   },
   {
    "duration": 18,
    "start_time": "2024-01-26T02:34:23.049Z"
   },
   {
    "duration": 30,
    "start_time": "2024-01-26T02:34:23.068Z"
   },
   {
    "duration": 7,
    "start_time": "2024-01-26T02:34:23.099Z"
   },
   {
    "duration": 62,
    "start_time": "2024-01-26T02:34:23.107Z"
   },
   {
    "duration": 3,
    "start_time": "2024-01-26T02:34:23.170Z"
   },
   {
    "duration": 13,
    "start_time": "2024-01-26T02:34:23.174Z"
   },
   {
    "duration": 2,
    "start_time": "2024-01-26T02:34:23.189Z"
   },
   {
    "duration": 25,
    "start_time": "2024-01-26T02:34:23.192Z"
   },
   {
    "duration": 45,
    "start_time": "2024-01-26T02:34:23.218Z"
   },
   {
    "duration": 3,
    "start_time": "2024-01-26T02:34:23.265Z"
   },
   {
    "duration": 15,
    "start_time": "2024-01-26T02:34:23.273Z"
   },
   {
    "duration": 6,
    "start_time": "2024-01-26T02:34:23.290Z"
   },
   {
    "duration": 25,
    "start_time": "2024-01-26T02:34:23.297Z"
   },
   {
    "duration": 10,
    "start_time": "2024-01-26T02:34:23.323Z"
   },
   {
    "duration": 33,
    "start_time": "2024-01-26T02:34:23.334Z"
   },
   {
    "duration": 14,
    "start_time": "2024-01-26T02:34:23.369Z"
   },
   {
    "duration": 139,
    "start_time": "2024-01-26T02:34:23.384Z"
   },
   {
    "duration": 2,
    "start_time": "2024-01-26T02:34:23.525Z"
   },
   {
    "duration": 14,
    "start_time": "2024-01-26T02:34:23.528Z"
   },
   {
    "duration": 143,
    "start_time": "2024-01-26T02:34:23.544Z"
   },
   {
    "duration": 2,
    "start_time": "2024-01-26T02:34:23.688Z"
   },
   {
    "duration": 21,
    "start_time": "2024-01-26T02:34:23.691Z"
   },
   {
    "duration": 9,
    "start_time": "2024-01-26T02:34:23.714Z"
   },
   {
    "duration": 12,
    "start_time": "2024-01-26T02:34:23.724Z"
   },
   {
    "duration": 28,
    "start_time": "2024-01-26T02:34:23.737Z"
   },
   {
    "duration": 12,
    "start_time": "2024-01-26T02:34:23.766Z"
   },
   {
    "duration": 9,
    "start_time": "2024-01-26T02:34:23.779Z"
   },
   {
    "duration": 5,
    "start_time": "2024-01-26T02:34:23.790Z"
   },
   {
    "duration": 6,
    "start_time": "2024-01-26T02:34:23.796Z"
   },
   {
    "duration": 4,
    "start_time": "2024-01-26T02:34:23.803Z"
   },
   {
    "duration": 5,
    "start_time": "2024-01-26T02:34:23.808Z"
   },
   {
    "duration": 10,
    "start_time": "2024-01-26T02:34:23.814Z"
   },
   {
    "duration": 12,
    "start_time": "2024-01-26T02:34:23.825Z"
   },
   {
    "duration": 22,
    "start_time": "2024-01-26T02:34:23.839Z"
   },
   {
    "duration": 12,
    "start_time": "2024-01-26T02:34:23.862Z"
   },
   {
    "duration": 14,
    "start_time": "2024-01-26T02:34:23.875Z"
   },
   {
    "duration": 7,
    "start_time": "2024-01-26T02:34:23.890Z"
   },
   {
    "duration": 8,
    "start_time": "2024-01-26T02:41:24.424Z"
   },
   {
    "duration": 20,
    "start_time": "2024-01-26T02:42:01.962Z"
   },
   {
    "duration": 17,
    "start_time": "2024-01-26T02:42:06.302Z"
   },
   {
    "duration": 8,
    "start_time": "2024-01-26T02:42:22.862Z"
   },
   {
    "duration": 16,
    "start_time": "2024-01-26T02:42:24.194Z"
   },
   {
    "duration": 57,
    "start_time": "2024-01-26T12:10:33.031Z"
   },
   {
    "duration": 1353,
    "start_time": "2024-01-26T12:10:37.123Z"
   },
   {
    "duration": 474,
    "start_time": "2024-01-26T12:10:38.477Z"
   },
   {
    "duration": 13,
    "start_time": "2024-01-26T12:10:38.953Z"
   },
   {
    "duration": 26,
    "start_time": "2024-01-26T12:10:38.969Z"
   },
   {
    "duration": 11,
    "start_time": "2024-01-26T12:10:38.996Z"
   },
   {
    "duration": 22,
    "start_time": "2024-01-26T12:10:39.008Z"
   },
   {
    "duration": 18,
    "start_time": "2024-01-26T12:10:39.031Z"
   },
   {
    "duration": 38,
    "start_time": "2024-01-26T12:10:39.051Z"
   },
   {
    "duration": 54,
    "start_time": "2024-01-26T12:10:39.090Z"
   },
   {
    "duration": 6,
    "start_time": "2024-01-26T12:10:39.146Z"
   },
   {
    "duration": 43,
    "start_time": "2024-01-26T12:10:39.153Z"
   },
   {
    "duration": 23,
    "start_time": "2024-01-26T12:10:39.198Z"
   },
   {
    "duration": 17,
    "start_time": "2024-01-26T12:10:39.222Z"
   },
   {
    "duration": 17,
    "start_time": "2024-01-26T12:10:39.240Z"
   },
   {
    "duration": 31,
    "start_time": "2024-01-26T12:10:39.258Z"
   },
   {
    "duration": 18,
    "start_time": "2024-01-26T12:10:39.291Z"
   },
   {
    "duration": 22,
    "start_time": "2024-01-26T12:10:39.311Z"
   },
   {
    "duration": 30,
    "start_time": "2024-01-26T12:10:39.335Z"
   },
   {
    "duration": 17,
    "start_time": "2024-01-26T12:10:39.367Z"
   },
   {
    "duration": 38,
    "start_time": "2024-01-26T12:10:39.386Z"
   },
   {
    "duration": 10,
    "start_time": "2024-01-26T12:10:39.426Z"
   },
   {
    "duration": 67,
    "start_time": "2024-01-26T12:10:39.437Z"
   },
   {
    "duration": 8,
    "start_time": "2024-01-26T12:10:39.506Z"
   },
   {
    "duration": 739,
    "start_time": "2024-01-26T12:10:39.515Z"
   },
   {
    "duration": 665,
    "start_time": "2024-01-26T12:10:40.256Z"
   },
   {
    "duration": 4,
    "start_time": "2024-01-26T12:10:40.922Z"
   },
   {
    "duration": 24,
    "start_time": "2024-01-26T12:10:40.927Z"
   },
   {
    "duration": 10,
    "start_time": "2024-01-26T12:10:40.955Z"
   },
   {
    "duration": 75,
    "start_time": "2024-01-26T12:10:40.966Z"
   },
   {
    "duration": 32,
    "start_time": "2024-01-26T12:10:41.042Z"
   },
   {
    "duration": 3,
    "start_time": "2024-01-26T12:10:41.076Z"
   },
   {
    "duration": 39,
    "start_time": "2024-01-26T12:10:41.080Z"
   },
   {
    "duration": 1499,
    "start_time": "2024-01-26T12:10:41.121Z"
   },
   {
    "duration": 11,
    "start_time": "2024-01-26T12:10:42.622Z"
   },
   {
    "duration": 21,
    "start_time": "2024-01-26T12:10:42.634Z"
   },
   {
    "duration": 29,
    "start_time": "2024-01-26T12:10:42.656Z"
   },
   {
    "duration": 7,
    "start_time": "2024-01-26T12:10:42.687Z"
   },
   {
    "duration": 17,
    "start_time": "2024-01-26T12:10:42.695Z"
   },
   {
    "duration": 11,
    "start_time": "2024-01-26T12:10:42.714Z"
   },
   {
    "duration": 5,
    "start_time": "2024-01-26T12:10:42.726Z"
   },
   {
    "duration": 5,
    "start_time": "2024-01-26T12:10:42.733Z"
   },
   {
    "duration": 632,
    "start_time": "2024-01-26T12:10:42.739Z"
   },
   {
    "duration": 230,
    "start_time": "2024-01-26T12:10:43.372Z"
   },
   {
    "duration": 3,
    "start_time": "2024-01-26T12:10:43.603Z"
   },
   {
    "duration": 4,
    "start_time": "2024-01-26T12:10:43.607Z"
   },
   {
    "duration": 61,
    "start_time": "2024-01-26T12:10:43.613Z"
   },
   {
    "duration": 8,
    "start_time": "2024-01-26T12:10:43.676Z"
   },
   {
    "duration": 11,
    "start_time": "2024-01-26T12:10:43.685Z"
   },
   {
    "duration": 2,
    "start_time": "2024-01-26T12:10:43.697Z"
   },
   {
    "duration": 66,
    "start_time": "2024-01-26T12:10:43.700Z"
   },
   {
    "duration": 3,
    "start_time": "2024-01-26T12:10:43.768Z"
   },
   {
    "duration": 23,
    "start_time": "2024-01-26T12:10:43.773Z"
   },
   {
    "duration": 11,
    "start_time": "2024-01-26T12:10:43.798Z"
   },
   {
    "duration": 2,
    "start_time": "2024-01-26T12:10:43.811Z"
   },
   {
    "duration": 54,
    "start_time": "2024-01-26T12:10:43.815Z"
   },
   {
    "duration": 2,
    "start_time": "2024-01-26T12:10:43.871Z"
   },
   {
    "duration": 32,
    "start_time": "2024-01-26T12:10:43.874Z"
   },
   {
    "duration": 12,
    "start_time": "2024-01-26T12:10:43.908Z"
   },
   {
    "duration": 19,
    "start_time": "2024-01-26T12:10:43.921Z"
   },
   {
    "duration": 42,
    "start_time": "2024-01-26T12:10:43.942Z"
   },
   {
    "duration": 17,
    "start_time": "2024-01-26T12:10:43.986Z"
   },
   {
    "duration": 161,
    "start_time": "2024-01-26T12:10:44.004Z"
   },
   {
    "duration": 3,
    "start_time": "2024-01-26T12:10:44.166Z"
   },
   {
    "duration": 17,
    "start_time": "2024-01-26T12:10:44.170Z"
   },
   {
    "duration": 153,
    "start_time": "2024-01-26T12:10:44.188Z"
   },
   {
    "duration": 3,
    "start_time": "2024-01-26T12:10:44.342Z"
   },
   {
    "duration": 21,
    "start_time": "2024-01-26T12:10:44.346Z"
   },
   {
    "duration": 9,
    "start_time": "2024-01-26T12:10:44.369Z"
   },
   {
    "duration": 8,
    "start_time": "2024-01-26T12:10:44.380Z"
   },
   {
    "duration": 11,
    "start_time": "2024-01-26T12:10:44.389Z"
   },
   {
    "duration": 15,
    "start_time": "2024-01-26T12:10:44.401Z"
   },
   {
    "duration": 11,
    "start_time": "2024-01-26T12:10:44.417Z"
   },
   {
    "duration": 8,
    "start_time": "2024-01-26T12:10:44.430Z"
   },
   {
    "duration": 3,
    "start_time": "2024-01-26T12:10:44.440Z"
   },
   {
    "duration": 23,
    "start_time": "2024-01-26T12:10:44.444Z"
   },
   {
    "duration": 18,
    "start_time": "2024-01-26T12:10:44.468Z"
   },
   {
    "duration": 2,
    "start_time": "2024-01-26T12:10:44.488Z"
   },
   {
    "duration": 21,
    "start_time": "2024-01-26T12:10:44.491Z"
   },
   {
    "duration": 7,
    "start_time": "2024-01-26T12:10:44.513Z"
   },
   {
    "duration": 10,
    "start_time": "2024-01-26T12:10:44.521Z"
   },
   {
    "duration": 13,
    "start_time": "2024-01-26T12:10:44.533Z"
   },
   {
    "duration": 17,
    "start_time": "2024-01-26T12:10:44.551Z"
   },
   {
    "duration": 13,
    "start_time": "2024-01-26T12:10:44.569Z"
   },
   {
    "duration": 8,
    "start_time": "2024-01-26T12:10:44.583Z"
   },
   {
    "duration": 89,
    "start_time": "2024-01-26T12:12:02.807Z"
   },
   {
    "duration": 674,
    "start_time": "2024-01-26T12:13:51.764Z"
   },
   {
    "duration": 17,
    "start_time": "2024-01-26T12:14:28.841Z"
   },
   {
    "duration": 1413,
    "start_time": "2024-01-26T12:14:39.689Z"
   },
   {
    "duration": 17,
    "start_time": "2024-01-26T12:15:12.961Z"
   },
   {
    "duration": 26,
    "start_time": "2024-01-26T12:30:44.831Z"
   },
   {
    "duration": 98,
    "start_time": "2024-01-26T12:30:54.626Z"
   },
   {
    "duration": 26,
    "start_time": "2024-01-26T12:31:01.304Z"
   },
   {
    "duration": 24,
    "start_time": "2024-01-26T12:31:04.554Z"
   },
   {
    "duration": 17,
    "start_time": "2024-01-26T12:31:08.394Z"
   },
   {
    "duration": 16,
    "start_time": "2024-01-26T12:31:10.900Z"
   },
   {
    "duration": 4,
    "start_time": "2024-01-26T12:31:19.325Z"
   },
   {
    "duration": 3,
    "start_time": "2024-01-26T12:31:35.762Z"
   },
   {
    "duration": 262,
    "start_time": "2024-01-26T12:31:35.768Z"
   },
   {
    "duration": 7,
    "start_time": "2024-01-26T12:31:36.032Z"
   },
   {
    "duration": 19,
    "start_time": "2024-01-26T12:31:36.040Z"
   },
   {
    "duration": 6,
    "start_time": "2024-01-26T12:31:36.062Z"
   },
   {
    "duration": 10,
    "start_time": "2024-01-26T12:31:36.069Z"
   },
   {
    "duration": 11,
    "start_time": "2024-01-26T12:31:36.081Z"
   },
   {
    "duration": 14,
    "start_time": "2024-01-26T12:31:36.093Z"
   },
   {
    "duration": 30,
    "start_time": "2024-01-26T12:31:36.108Z"
   },
   {
    "duration": 6,
    "start_time": "2024-01-26T12:31:36.165Z"
   },
   {
    "duration": 19,
    "start_time": "2024-01-26T12:31:36.174Z"
   },
   {
    "duration": 16,
    "start_time": "2024-01-26T12:31:36.195Z"
   },
   {
    "duration": 9,
    "start_time": "2024-01-26T12:31:36.212Z"
   },
   {
    "duration": 10,
    "start_time": "2024-01-26T12:31:36.223Z"
   },
   {
    "duration": 35,
    "start_time": "2024-01-26T12:31:36.235Z"
   },
   {
    "duration": 10,
    "start_time": "2024-01-26T12:31:36.272Z"
   },
   {
    "duration": 27,
    "start_time": "2024-01-26T12:31:36.283Z"
   },
   {
    "duration": 13,
    "start_time": "2024-01-26T12:31:36.312Z"
   },
   {
    "duration": 8,
    "start_time": "2024-01-26T12:31:36.327Z"
   },
   {
    "duration": 43,
    "start_time": "2024-01-26T12:31:36.337Z"
   },
   {
    "duration": 23,
    "start_time": "2024-01-26T12:31:36.382Z"
   },
   {
    "duration": 36,
    "start_time": "2024-01-26T12:31:36.407Z"
   },
   {
    "duration": 8,
    "start_time": "2024-01-26T12:31:36.445Z"
   },
   {
    "duration": 750,
    "start_time": "2024-01-26T12:31:36.465Z"
   },
   {
    "duration": 732,
    "start_time": "2024-01-26T12:31:37.216Z"
   },
   {
    "duration": 4,
    "start_time": "2024-01-26T12:31:37.949Z"
   },
   {
    "duration": 11,
    "start_time": "2024-01-26T12:31:37.954Z"
   },
   {
    "duration": 6,
    "start_time": "2024-01-26T12:31:37.966Z"
   },
   {
    "duration": 51,
    "start_time": "2024-01-26T12:31:37.976Z"
   },
   {
    "duration": 47,
    "start_time": "2024-01-26T12:31:38.028Z"
   },
   {
    "duration": 3,
    "start_time": "2024-01-26T12:31:38.077Z"
   },
   {
    "duration": 46,
    "start_time": "2024-01-26T12:31:38.081Z"
   },
   {
    "duration": 1426,
    "start_time": "2024-01-26T12:31:38.129Z"
   },
   {
    "duration": 12,
    "start_time": "2024-01-26T12:31:39.557Z"
   },
   {
    "duration": 30,
    "start_time": "2024-01-26T12:31:39.570Z"
   },
   {
    "duration": 32,
    "start_time": "2024-01-26T12:31:39.602Z"
   },
   {
    "duration": 31,
    "start_time": "2024-01-26T12:31:39.636Z"
   },
   {
    "duration": 6,
    "start_time": "2024-01-26T12:31:39.668Z"
   },
   {
    "duration": 17,
    "start_time": "2024-01-26T12:31:39.675Z"
   },
   {
    "duration": 7,
    "start_time": "2024-01-26T12:31:39.694Z"
   },
   {
    "duration": 6,
    "start_time": "2024-01-26T12:31:39.703Z"
   },
   {
    "duration": 655,
    "start_time": "2024-01-26T12:31:39.711Z"
   },
   {
    "duration": 21,
    "start_time": "2024-01-26T12:31:40.368Z"
   },
   {
    "duration": 13,
    "start_time": "2024-01-26T12:31:40.391Z"
   },
   {
    "duration": 15,
    "start_time": "2024-01-26T12:31:40.405Z"
   },
   {
    "duration": 33,
    "start_time": "2024-01-26T12:31:40.422Z"
   },
   {
    "duration": 10,
    "start_time": "2024-01-26T12:31:40.456Z"
   },
   {
    "duration": 9,
    "start_time": "2024-01-26T12:31:40.468Z"
   },
   {
    "duration": 4,
    "start_time": "2024-01-26T12:31:40.478Z"
   },
   {
    "duration": 32,
    "start_time": "2024-01-26T12:31:40.483Z"
   },
   {
    "duration": 2,
    "start_time": "2024-01-26T12:31:40.517Z"
   },
   {
    "duration": 29,
    "start_time": "2024-01-26T12:31:40.521Z"
   },
   {
    "duration": 9,
    "start_time": "2024-01-26T12:31:40.551Z"
   },
   {
    "duration": 4,
    "start_time": "2024-01-26T12:31:40.561Z"
   },
   {
    "duration": 19,
    "start_time": "2024-01-26T12:31:40.567Z"
   },
   {
    "duration": 3,
    "start_time": "2024-01-26T12:31:40.587Z"
   },
   {
    "duration": 26,
    "start_time": "2024-01-26T12:31:40.591Z"
   },
   {
    "duration": 9,
    "start_time": "2024-01-26T12:31:40.618Z"
   },
   {
    "duration": 43,
    "start_time": "2024-01-26T12:31:40.628Z"
   },
   {
    "duration": 13,
    "start_time": "2024-01-26T12:31:40.673Z"
   },
   {
    "duration": 7,
    "start_time": "2024-01-26T12:31:40.688Z"
   },
   {
    "duration": 11,
    "start_time": "2024-01-26T12:31:40.696Z"
   },
   {
    "duration": 0,
    "start_time": "2024-01-26T12:31:40.708Z"
   },
   {
    "duration": 0,
    "start_time": "2024-01-26T12:31:40.710Z"
   },
   {
    "duration": 0,
    "start_time": "2024-01-26T12:31:40.711Z"
   },
   {
    "duration": 0,
    "start_time": "2024-01-26T12:31:40.713Z"
   },
   {
    "duration": 0,
    "start_time": "2024-01-26T12:31:40.714Z"
   },
   {
    "duration": 0,
    "start_time": "2024-01-26T12:31:40.715Z"
   },
   {
    "duration": 0,
    "start_time": "2024-01-26T12:31:40.717Z"
   },
   {
    "duration": 0,
    "start_time": "2024-01-26T12:31:40.718Z"
   },
   {
    "duration": 1,
    "start_time": "2024-01-26T12:31:40.719Z"
   },
   {
    "duration": 0,
    "start_time": "2024-01-26T12:31:40.721Z"
   },
   {
    "duration": 0,
    "start_time": "2024-01-26T12:31:40.722Z"
   },
   {
    "duration": 0,
    "start_time": "2024-01-26T12:31:40.724Z"
   },
   {
    "duration": 0,
    "start_time": "2024-01-26T12:31:40.766Z"
   },
   {
    "duration": 0,
    "start_time": "2024-01-26T12:31:40.767Z"
   },
   {
    "duration": 0,
    "start_time": "2024-01-26T12:31:40.769Z"
   },
   {
    "duration": 0,
    "start_time": "2024-01-26T12:31:40.770Z"
   },
   {
    "duration": 0,
    "start_time": "2024-01-26T12:31:40.772Z"
   },
   {
    "duration": 0,
    "start_time": "2024-01-26T12:31:40.773Z"
   },
   {
    "duration": 0,
    "start_time": "2024-01-26T12:31:40.775Z"
   },
   {
    "duration": 0,
    "start_time": "2024-01-26T12:31:40.776Z"
   },
   {
    "duration": 0,
    "start_time": "2024-01-26T12:31:40.777Z"
   },
   {
    "duration": 0,
    "start_time": "2024-01-26T12:31:40.778Z"
   },
   {
    "duration": 47,
    "start_time": "2024-01-26T12:32:28.279Z"
   },
   {
    "duration": 4,
    "start_time": "2024-01-26T12:33:02.813Z"
   },
   {
    "duration": 245,
    "start_time": "2024-01-26T12:33:02.818Z"
   },
   {
    "duration": 8,
    "start_time": "2024-01-26T12:33:03.065Z"
   },
   {
    "duration": 20,
    "start_time": "2024-01-26T12:33:03.074Z"
   },
   {
    "duration": 16,
    "start_time": "2024-01-26T12:33:03.095Z"
   },
   {
    "duration": 9,
    "start_time": "2024-01-26T12:33:03.112Z"
   },
   {
    "duration": 6,
    "start_time": "2024-01-26T12:33:03.123Z"
   },
   {
    "duration": 28,
    "start_time": "2024-01-26T12:33:03.130Z"
   },
   {
    "duration": 28,
    "start_time": "2024-01-26T12:33:03.165Z"
   },
   {
    "duration": 5,
    "start_time": "2024-01-26T12:33:03.195Z"
   },
   {
    "duration": 17,
    "start_time": "2024-01-26T12:33:03.202Z"
   },
   {
    "duration": 16,
    "start_time": "2024-01-26T12:33:03.221Z"
   },
   {
    "duration": 32,
    "start_time": "2024-01-26T12:33:03.238Z"
   },
   {
    "duration": 14,
    "start_time": "2024-01-26T12:33:03.272Z"
   },
   {
    "duration": 17,
    "start_time": "2024-01-26T12:33:03.287Z"
   },
   {
    "duration": 9,
    "start_time": "2024-01-26T12:33:03.306Z"
   },
   {
    "duration": 21,
    "start_time": "2024-01-26T12:33:03.316Z"
   },
   {
    "duration": 28,
    "start_time": "2024-01-26T12:33:03.338Z"
   },
   {
    "duration": 3,
    "start_time": "2024-01-26T12:33:03.367Z"
   },
   {
    "duration": 17,
    "start_time": "2024-01-26T12:33:03.371Z"
   },
   {
    "duration": 12,
    "start_time": "2024-01-26T12:33:03.390Z"
   },
   {
    "duration": 41,
    "start_time": "2024-01-26T12:33:03.403Z"
   },
   {
    "duration": 25,
    "start_time": "2024-01-26T12:33:03.446Z"
   },
   {
    "duration": 747,
    "start_time": "2024-01-26T12:33:03.473Z"
   },
   {
    "duration": 703,
    "start_time": "2024-01-26T12:33:04.221Z"
   },
   {
    "duration": 4,
    "start_time": "2024-01-26T12:33:04.926Z"
   },
   {
    "duration": 6,
    "start_time": "2024-01-26T12:33:04.931Z"
   },
   {
    "duration": 6,
    "start_time": "2024-01-26T12:33:04.938Z"
   },
   {
    "duration": 67,
    "start_time": "2024-01-26T12:33:04.948Z"
   },
   {
    "duration": 33,
    "start_time": "2024-01-26T12:33:05.016Z"
   },
   {
    "duration": 2,
    "start_time": "2024-01-26T12:33:05.051Z"
   },
   {
    "duration": 39,
    "start_time": "2024-01-26T12:33:05.065Z"
   },
   {
    "duration": 1337,
    "start_time": "2024-01-26T12:33:05.105Z"
   },
   {
    "duration": 11,
    "start_time": "2024-01-26T12:33:06.443Z"
   },
   {
    "duration": 27,
    "start_time": "2024-01-26T12:33:06.455Z"
   },
   {
    "duration": 28,
    "start_time": "2024-01-26T12:33:06.483Z"
   },
   {
    "duration": 8,
    "start_time": "2024-01-26T12:33:06.513Z"
   },
   {
    "duration": 6,
    "start_time": "2024-01-26T12:33:06.523Z"
   },
   {
    "duration": 42,
    "start_time": "2024-01-26T12:33:06.530Z"
   },
   {
    "duration": 6,
    "start_time": "2024-01-26T12:33:06.574Z"
   },
   {
    "duration": 19,
    "start_time": "2024-01-26T12:33:06.581Z"
   },
   {
    "duration": 593,
    "start_time": "2024-01-26T12:33:06.601Z"
   },
   {
    "duration": 18,
    "start_time": "2024-01-26T12:33:07.196Z"
   },
   {
    "duration": 5,
    "start_time": "2024-01-26T12:33:07.215Z"
   },
   {
    "duration": 4,
    "start_time": "2024-01-26T12:33:07.221Z"
   },
   {
    "duration": 71,
    "start_time": "2024-01-26T12:33:07.227Z"
   },
   {
    "duration": 8,
    "start_time": "2024-01-26T12:33:07.300Z"
   },
   {
    "duration": 19,
    "start_time": "2024-01-26T12:33:07.309Z"
   },
   {
    "duration": 4,
    "start_time": "2024-01-26T12:33:07.329Z"
   },
   {
    "duration": 15,
    "start_time": "2024-01-26T12:33:07.334Z"
   },
   {
    "duration": 2,
    "start_time": "2024-01-26T12:33:07.351Z"
   },
   {
    "duration": 49,
    "start_time": "2024-01-26T12:33:07.364Z"
   },
   {
    "duration": 12,
    "start_time": "2024-01-26T12:33:07.414Z"
   },
   {
    "duration": 3,
    "start_time": "2024-01-26T12:33:07.429Z"
   },
   {
    "duration": 23,
    "start_time": "2024-01-26T12:33:07.434Z"
   },
   {
    "duration": 2,
    "start_time": "2024-01-26T12:33:07.458Z"
   },
   {
    "duration": 28,
    "start_time": "2024-01-26T12:33:07.462Z"
   },
   {
    "duration": 8,
    "start_time": "2024-01-26T12:33:07.492Z"
   },
   {
    "duration": 16,
    "start_time": "2024-01-26T12:33:07.501Z"
   },
   {
    "duration": 57,
    "start_time": "2024-01-26T12:33:07.518Z"
   },
   {
    "duration": 0,
    "start_time": "2024-01-26T12:33:07.576Z"
   },
   {
    "duration": 0,
    "start_time": "2024-01-26T12:33:07.578Z"
   },
   {
    "duration": 0,
    "start_time": "2024-01-26T12:33:07.578Z"
   },
   {
    "duration": 0,
    "start_time": "2024-01-26T12:33:07.579Z"
   },
   {
    "duration": 0,
    "start_time": "2024-01-26T12:33:07.580Z"
   },
   {
    "duration": 0,
    "start_time": "2024-01-26T12:33:07.581Z"
   },
   {
    "duration": 0,
    "start_time": "2024-01-26T12:33:07.582Z"
   },
   {
    "duration": 0,
    "start_time": "2024-01-26T12:33:07.583Z"
   },
   {
    "duration": 0,
    "start_time": "2024-01-26T12:33:07.584Z"
   },
   {
    "duration": 0,
    "start_time": "2024-01-26T12:33:07.585Z"
   },
   {
    "duration": 0,
    "start_time": "2024-01-26T12:33:07.585Z"
   },
   {
    "duration": 0,
    "start_time": "2024-01-26T12:33:07.586Z"
   },
   {
    "duration": 0,
    "start_time": "2024-01-26T12:33:07.587Z"
   },
   {
    "duration": 0,
    "start_time": "2024-01-26T12:33:07.588Z"
   },
   {
    "duration": 0,
    "start_time": "2024-01-26T12:33:07.589Z"
   },
   {
    "duration": 0,
    "start_time": "2024-01-26T12:33:07.590Z"
   },
   {
    "duration": 0,
    "start_time": "2024-01-26T12:33:07.591Z"
   },
   {
    "duration": 0,
    "start_time": "2024-01-26T12:33:07.592Z"
   },
   {
    "duration": 0,
    "start_time": "2024-01-26T12:33:07.593Z"
   },
   {
    "duration": 0,
    "start_time": "2024-01-26T12:33:07.594Z"
   },
   {
    "duration": 0,
    "start_time": "2024-01-26T12:33:07.595Z"
   },
   {
    "duration": 0,
    "start_time": "2024-01-26T12:33:07.596Z"
   },
   {
    "duration": 0,
    "start_time": "2024-01-26T12:33:07.597Z"
   },
   {
    "duration": 9,
    "start_time": "2024-01-26T12:33:14.607Z"
   },
   {
    "duration": 20,
    "start_time": "2024-01-26T12:33:20.345Z"
   },
   {
    "duration": 15,
    "start_time": "2024-01-26T12:33:35.351Z"
   },
   {
    "duration": 207,
    "start_time": "2024-01-26T12:33:40.717Z"
   },
   {
    "duration": 142,
    "start_time": "2024-01-26T12:34:26.417Z"
   },
   {
    "duration": 10,
    "start_time": "2024-01-26T12:35:09.555Z"
   },
   {
    "duration": 10,
    "start_time": "2024-01-26T12:35:21.242Z"
   },
   {
    "duration": 10,
    "start_time": "2024-01-26T12:35:44.620Z"
   },
   {
    "duration": 4,
    "start_time": "2024-01-26T12:35:50.580Z"
   },
   {
    "duration": 139,
    "start_time": "2024-01-26T12:37:00.397Z"
   },
   {
    "duration": 94,
    "start_time": "2024-01-26T12:45:04.100Z"
   },
   {
    "duration": 11,
    "start_time": "2024-01-26T12:45:09.588Z"
   },
   {
    "duration": 13,
    "start_time": "2024-01-26T12:45:29.144Z"
   },
   {
    "duration": 19,
    "start_time": "2024-01-26T12:46:45.579Z"
   },
   {
    "duration": 101,
    "start_time": "2024-01-26T12:47:17.376Z"
   },
   {
    "duration": 15,
    "start_time": "2024-01-26T12:47:31.856Z"
   },
   {
    "duration": 15,
    "start_time": "2024-01-26T12:47:56.522Z"
   },
   {
    "duration": 11,
    "start_time": "2024-01-26T12:49:06.864Z"
   },
   {
    "duration": 24,
    "start_time": "2024-01-26T12:49:11.093Z"
   },
   {
    "duration": 16,
    "start_time": "2024-01-26T12:49:25.922Z"
   },
   {
    "duration": 26,
    "start_time": "2024-01-26T12:49:33.365Z"
   },
   {
    "duration": 23,
    "start_time": "2024-01-26T12:51:00.727Z"
   },
   {
    "duration": 23,
    "start_time": "2024-01-26T12:51:04.265Z"
   },
   {
    "duration": 25,
    "start_time": "2024-01-26T12:51:07.629Z"
   },
   {
    "duration": 24,
    "start_time": "2024-01-26T12:51:10.778Z"
   },
   {
    "duration": 22,
    "start_time": "2024-01-26T12:51:14.117Z"
   },
   {
    "duration": 22,
    "start_time": "2024-01-26T12:51:15.972Z"
   },
   {
    "duration": 133,
    "start_time": "2024-01-26T12:51:17.348Z"
   },
   {
    "duration": 16,
    "start_time": "2024-01-26T12:51:24.042Z"
   },
   {
    "duration": 16,
    "start_time": "2024-01-26T12:51:25.344Z"
   },
   {
    "duration": 25,
    "start_time": "2024-01-26T12:51:31.523Z"
   },
   {
    "duration": 23,
    "start_time": "2024-01-26T12:51:34.979Z"
   },
   {
    "duration": 15,
    "start_time": "2024-01-26T12:51:37.303Z"
   },
   {
    "duration": 14,
    "start_time": "2024-01-26T12:51:38.456Z"
   },
   {
    "duration": 13,
    "start_time": "2024-01-26T12:53:51.499Z"
   },
   {
    "duration": 12,
    "start_time": "2024-01-26T12:54:06.254Z"
   },
   {
    "duration": 10,
    "start_time": "2024-01-26T12:54:18.205Z"
   },
   {
    "duration": 9,
    "start_time": "2024-01-26T12:54:21.541Z"
   },
   {
    "duration": 18,
    "start_time": "2024-01-26T12:54:26.031Z"
   },
   {
    "duration": 9,
    "start_time": "2024-01-26T12:55:15.282Z"
   },
   {
    "duration": 131,
    "start_time": "2024-01-26T12:56:20.582Z"
   },
   {
    "duration": 131,
    "start_time": "2024-01-26T12:58:12.298Z"
   },
   {
    "duration": 10,
    "start_time": "2024-01-26T12:58:20.852Z"
   },
   {
    "duration": 76,
    "start_time": "2024-01-26T12:59:10.628Z"
   },
   {
    "duration": 77,
    "start_time": "2024-01-26T12:59:28.770Z"
   },
   {
    "duration": 130,
    "start_time": "2024-01-26T12:59:34.186Z"
   },
   {
    "duration": 482,
    "start_time": "2024-01-26T12:59:40.980Z"
   },
   {
    "duration": 129,
    "start_time": "2024-01-26T12:59:51.388Z"
   },
   {
    "duration": 135,
    "start_time": "2024-01-26T13:00:12.093Z"
   },
   {
    "duration": 129,
    "start_time": "2024-01-26T13:00:37.967Z"
   },
   {
    "duration": 154,
    "start_time": "2024-01-26T13:00:46.564Z"
   },
   {
    "duration": 135,
    "start_time": "2024-01-26T13:01:10.583Z"
   },
   {
    "duration": 21,
    "start_time": "2024-01-26T13:04:56.930Z"
   },
   {
    "duration": 28,
    "start_time": "2024-01-26T13:05:29.581Z"
   },
   {
    "duration": 11,
    "start_time": "2024-01-26T13:06:23.509Z"
   },
   {
    "duration": 24,
    "start_time": "2024-01-26T13:06:40.000Z"
   },
   {
    "duration": 26,
    "start_time": "2024-01-26T13:06:41.261Z"
   },
   {
    "duration": 18,
    "start_time": "2024-01-26T13:06:41.954Z"
   },
   {
    "duration": 15,
    "start_time": "2024-01-26T13:06:42.753Z"
   },
   {
    "duration": 126,
    "start_time": "2024-01-26T13:06:44.023Z"
   },
   {
    "duration": 12,
    "start_time": "2024-01-26T13:10:25.028Z"
   },
   {
    "duration": 12,
    "start_time": "2024-01-26T13:10:37.906Z"
   },
   {
    "duration": 11,
    "start_time": "2024-01-26T13:11:33.591Z"
   },
   {
    "duration": 24,
    "start_time": "2024-01-26T13:12:14.239Z"
   },
   {
    "duration": 15,
    "start_time": "2024-01-26T13:12:16.826Z"
   },
   {
    "duration": 16,
    "start_time": "2024-01-26T13:12:18.648Z"
   },
   {
    "duration": 214,
    "start_time": "2024-01-26T13:12:19.167Z"
   },
   {
    "duration": 25,
    "start_time": "2024-01-26T13:12:22.062Z"
   },
   {
    "duration": 18,
    "start_time": "2024-01-26T13:12:24.171Z"
   },
   {
    "duration": 16,
    "start_time": "2024-01-26T13:12:25.886Z"
   },
   {
    "duration": 19,
    "start_time": "2024-01-26T13:17:42.642Z"
   },
   {
    "duration": 15,
    "start_time": "2024-01-26T13:17:47.472Z"
   },
   {
    "duration": 145,
    "start_time": "2024-01-26T13:17:48.990Z"
   },
   {
    "duration": 17,
    "start_time": "2024-01-26T13:20:41.012Z"
   },
   {
    "duration": 15,
    "start_time": "2024-01-26T13:21:02.222Z"
   },
   {
    "duration": 16,
    "start_time": "2024-01-26T13:21:49.789Z"
   },
   {
    "duration": 14,
    "start_time": "2024-01-26T13:21:55.685Z"
   },
   {
    "duration": 156,
    "start_time": "2024-01-26T13:21:57.607Z"
   },
   {
    "duration": 22,
    "start_time": "2024-01-26T13:22:06.748Z"
   },
   {
    "duration": 13,
    "start_time": "2024-01-26T13:22:17.401Z"
   },
   {
    "duration": 15,
    "start_time": "2024-01-26T13:22:50.039Z"
   },
   {
    "duration": 17,
    "start_time": "2024-01-26T13:23:01.283Z"
   },
   {
    "duration": 15,
    "start_time": "2024-01-26T13:23:06.113Z"
   },
   {
    "duration": 12,
    "start_time": "2024-01-26T13:23:23.443Z"
   },
   {
    "duration": 14,
    "start_time": "2024-01-26T13:23:27.968Z"
   },
   {
    "duration": 8,
    "start_time": "2024-01-26T13:25:48.193Z"
   },
   {
    "duration": 72,
    "start_time": "2024-01-26T13:26:13.381Z"
   },
   {
    "duration": 209,
    "start_time": "2024-01-26T13:26:19.557Z"
   },
   {
    "duration": 45,
    "start_time": "2024-01-26T13:27:14.383Z"
   },
   {
    "duration": 41,
    "start_time": "2024-01-26T13:28:49.424Z"
   },
   {
    "duration": 578,
    "start_time": "2024-01-26T13:30:01.986Z"
   },
   {
    "duration": 287,
    "start_time": "2024-01-26T13:30:25.758Z"
   },
   {
    "duration": 15,
    "start_time": "2024-01-26T13:30:34.159Z"
   },
   {
    "duration": 10,
    "start_time": "2024-01-26T13:30:43.401Z"
   },
   {
    "duration": 1258,
    "start_time": "2024-01-26T13:32:13.425Z"
   },
   {
    "duration": 159,
    "start_time": "2024-01-26T13:32:18.940Z"
   },
   {
    "duration": 14,
    "start_time": "2024-01-26T13:32:43.646Z"
   },
   {
    "duration": 14,
    "start_time": "2024-01-26T13:32:51.779Z"
   },
   {
    "duration": 12,
    "start_time": "2024-01-26T13:33:00.247Z"
   },
   {
    "duration": 9,
    "start_time": "2024-01-26T13:33:02.866Z"
   },
   {
    "duration": 17,
    "start_time": "2024-01-26T13:34:18.528Z"
   },
   {
    "duration": 28,
    "start_time": "2024-01-26T13:36:05.721Z"
   },
   {
    "duration": 25,
    "start_time": "2024-01-26T13:36:10.296Z"
   },
   {
    "duration": 13,
    "start_time": "2024-01-26T13:36:32.087Z"
   },
   {
    "duration": 4,
    "start_time": "2024-01-26T13:36:42.533Z"
   },
   {
    "duration": 177,
    "start_time": "2024-01-26T13:36:53.638Z"
   },
   {
    "duration": 14,
    "start_time": "2024-01-26T13:37:10.909Z"
   },
   {
    "duration": 14,
    "start_time": "2024-01-26T13:38:06.398Z"
   },
   {
    "duration": 10,
    "start_time": "2024-01-26T13:38:10.416Z"
   },
   {
    "duration": 13,
    "start_time": "2024-01-26T13:41:38.093Z"
   },
   {
    "duration": 14,
    "start_time": "2024-01-26T13:41:58.146Z"
   },
   {
    "duration": 10,
    "start_time": "2024-01-26T13:42:01.859Z"
   },
   {
    "duration": 14,
    "start_time": "2024-01-26T13:42:20.948Z"
   },
   {
    "duration": 18,
    "start_time": "2024-01-26T13:42:48.836Z"
   },
   {
    "duration": 11,
    "start_time": "2024-01-26T13:42:51.541Z"
   },
   {
    "duration": 19,
    "start_time": "2024-01-26T13:43:54.729Z"
   },
   {
    "duration": 10,
    "start_time": "2024-01-26T13:44:00.032Z"
   },
   {
    "duration": 22,
    "start_time": "2024-01-26T13:44:05.872Z"
   },
   {
    "duration": 1377,
    "start_time": "2024-01-26T13:47:00.805Z"
   },
   {
    "duration": 10,
    "start_time": "2024-01-26T13:47:12.983Z"
   },
   {
    "duration": 14,
    "start_time": "2024-01-26T13:49:47.431Z"
   },
   {
    "duration": 20,
    "start_time": "2024-01-26T13:50:28.972Z"
   },
   {
    "duration": 12,
    "start_time": "2024-01-26T13:50:53.364Z"
   },
   {
    "duration": 23,
    "start_time": "2024-01-26T13:53:35.600Z"
   },
   {
    "duration": 17,
    "start_time": "2024-01-26T13:53:40.135Z"
   },
   {
    "duration": 24,
    "start_time": "2024-01-26T13:54:04.633Z"
   },
   {
    "duration": 29,
    "start_time": "2024-01-26T13:54:48.899Z"
   },
   {
    "duration": 15,
    "start_time": "2024-01-26T13:55:13.416Z"
   },
   {
    "duration": 44,
    "start_time": "2024-01-26T13:55:44.521Z"
   },
   {
    "duration": 49,
    "start_time": "2024-01-26T13:57:01.823Z"
   },
   {
    "duration": 41,
    "start_time": "2024-01-26T13:57:33.931Z"
   },
   {
    "duration": 42,
    "start_time": "2024-01-26T13:58:18.039Z"
   },
   {
    "duration": 43,
    "start_time": "2024-01-26T13:59:20.462Z"
   },
   {
    "duration": 41,
    "start_time": "2024-01-26T13:59:29.150Z"
   },
   {
    "duration": 2,
    "start_time": "2024-01-26T13:59:52.563Z"
   },
   {
    "duration": 23,
    "start_time": "2024-01-26T14:01:10.769Z"
   },
   {
    "duration": 18,
    "start_time": "2024-01-26T14:01:15.907Z"
   },
   {
    "duration": 13,
    "start_time": "2024-01-26T14:01:26.067Z"
   },
   {
    "duration": 18,
    "start_time": "2024-01-26T14:01:28.630Z"
   },
   {
    "duration": 18,
    "start_time": "2024-01-26T14:03:04.016Z"
   },
   {
    "duration": 14,
    "start_time": "2024-01-26T14:03:05.094Z"
   },
   {
    "duration": 4,
    "start_time": "2024-01-26T14:03:07.316Z"
   },
   {
    "duration": 337,
    "start_time": "2024-01-26T14:03:07.322Z"
   },
   {
    "duration": 8,
    "start_time": "2024-01-26T14:03:07.661Z"
   },
   {
    "duration": 20,
    "start_time": "2024-01-26T14:03:07.671Z"
   },
   {
    "duration": 7,
    "start_time": "2024-01-26T14:03:07.693Z"
   },
   {
    "duration": 122,
    "start_time": "2024-01-26T14:03:07.702Z"
   },
   {
    "duration": 6,
    "start_time": "2024-01-26T14:03:07.826Z"
   },
   {
    "duration": 20,
    "start_time": "2024-01-26T14:03:07.834Z"
   },
   {
    "duration": 37,
    "start_time": "2024-01-26T14:03:07.857Z"
   },
   {
    "duration": 6,
    "start_time": "2024-01-26T14:03:07.895Z"
   },
   {
    "duration": 17,
    "start_time": "2024-01-26T14:03:07.902Z"
   },
   {
    "duration": 16,
    "start_time": "2024-01-26T14:03:07.920Z"
   },
   {
    "duration": 30,
    "start_time": "2024-01-26T14:03:07.937Z"
   },
   {
    "duration": 11,
    "start_time": "2024-01-26T14:03:07.968Z"
   },
   {
    "duration": 28,
    "start_time": "2024-01-26T14:03:07.980Z"
   },
   {
    "duration": 9,
    "start_time": "2024-01-26T14:03:08.009Z"
   },
   {
    "duration": 32,
    "start_time": "2024-01-26T14:03:08.019Z"
   },
   {
    "duration": 11,
    "start_time": "2024-01-26T14:03:08.052Z"
   },
   {
    "duration": 37,
    "start_time": "2024-01-26T14:03:08.065Z"
   },
   {
    "duration": 34,
    "start_time": "2024-01-26T14:03:08.104Z"
   },
   {
    "duration": 31,
    "start_time": "2024-01-26T14:03:08.141Z"
   },
   {
    "duration": 43,
    "start_time": "2024-01-26T14:03:08.174Z"
   },
   {
    "duration": 9,
    "start_time": "2024-01-26T14:03:08.219Z"
   },
   {
    "duration": 712,
    "start_time": "2024-01-26T14:03:08.232Z"
   },
   {
    "duration": 782,
    "start_time": "2024-01-26T14:03:08.946Z"
   },
   {
    "duration": 3,
    "start_time": "2024-01-26T14:03:09.730Z"
   },
   {
    "duration": 6,
    "start_time": "2024-01-26T14:03:09.734Z"
   },
   {
    "duration": 31,
    "start_time": "2024-01-26T14:03:09.742Z"
   },
   {
    "duration": 85,
    "start_time": "2024-01-26T14:03:09.775Z"
   },
   {
    "duration": 35,
    "start_time": "2024-01-26T14:03:09.862Z"
   },
   {
    "duration": 3,
    "start_time": "2024-01-26T14:03:09.899Z"
   },
   {
    "duration": 64,
    "start_time": "2024-01-26T14:03:09.903Z"
   },
   {
    "duration": 1442,
    "start_time": "2024-01-26T14:03:09.969Z"
   },
   {
    "duration": 11,
    "start_time": "2024-01-26T14:03:11.412Z"
   },
   {
    "duration": 43,
    "start_time": "2024-01-26T14:03:11.425Z"
   },
   {
    "duration": 26,
    "start_time": "2024-01-26T14:03:11.469Z"
   },
   {
    "duration": 15,
    "start_time": "2024-01-26T14:03:11.496Z"
   },
   {
    "duration": 8,
    "start_time": "2024-01-26T14:03:11.512Z"
   },
   {
    "duration": 34,
    "start_time": "2024-01-26T14:03:11.521Z"
   },
   {
    "duration": 26,
    "start_time": "2024-01-26T14:03:11.557Z"
   },
   {
    "duration": 36,
    "start_time": "2024-01-26T14:03:11.584Z"
   },
   {
    "duration": 598,
    "start_time": "2024-01-26T14:03:11.622Z"
   },
   {
    "duration": 18,
    "start_time": "2024-01-26T14:03:12.221Z"
   },
   {
    "duration": 3,
    "start_time": "2024-01-26T14:03:12.240Z"
   },
   {
    "duration": 21,
    "start_time": "2024-01-26T14:03:12.245Z"
   },
   {
    "duration": 28,
    "start_time": "2024-01-26T14:03:12.267Z"
   },
   {
    "duration": 8,
    "start_time": "2024-01-26T14:03:12.296Z"
   },
   {
    "duration": 10,
    "start_time": "2024-01-26T14:03:12.305Z"
   },
   {
    "duration": 2,
    "start_time": "2024-01-26T14:03:12.316Z"
   },
   {
    "duration": 11,
    "start_time": "2024-01-26T14:03:12.319Z"
   },
   {
    "duration": 2,
    "start_time": "2024-01-26T14:03:12.332Z"
   },
   {
    "duration": 48,
    "start_time": "2024-01-26T14:03:12.335Z"
   },
   {
    "duration": 12,
    "start_time": "2024-01-26T14:03:12.385Z"
   },
   {
    "duration": 4,
    "start_time": "2024-01-26T14:03:12.399Z"
   },
   {
    "duration": 19,
    "start_time": "2024-01-26T14:03:12.405Z"
   },
   {
    "duration": 2,
    "start_time": "2024-01-26T14:03:12.426Z"
   },
   {
    "duration": 55,
    "start_time": "2024-01-26T14:03:12.429Z"
   },
   {
    "duration": 10,
    "start_time": "2024-01-26T14:03:12.486Z"
   },
   {
    "duration": 18,
    "start_time": "2024-01-26T14:03:12.497Z"
   },
   {
    "duration": 18,
    "start_time": "2024-01-26T14:03:12.517Z"
   },
   {
    "duration": 36,
    "start_time": "2024-01-26T14:03:12.537Z"
   },
   {
    "duration": 42,
    "start_time": "2024-01-26T14:03:12.575Z"
   },
   {
    "duration": 1215,
    "start_time": "2024-01-26T14:04:02.768Z"
   },
   {
    "duration": 292,
    "start_time": "2024-01-26T14:04:03.985Z"
   },
   {
    "duration": 10,
    "start_time": "2024-01-26T14:04:04.279Z"
   },
   {
    "duration": 30,
    "start_time": "2024-01-26T14:04:04.291Z"
   },
   {
    "duration": 6,
    "start_time": "2024-01-26T14:04:04.323Z"
   },
   {
    "duration": 9,
    "start_time": "2024-01-26T14:04:04.330Z"
   },
   {
    "duration": 5,
    "start_time": "2024-01-26T14:04:04.341Z"
   },
   {
    "duration": 21,
    "start_time": "2024-01-26T14:04:04.348Z"
   },
   {
    "duration": 32,
    "start_time": "2024-01-26T14:04:04.371Z"
   },
   {
    "duration": 6,
    "start_time": "2024-01-26T14:04:04.405Z"
   },
   {
    "duration": 18,
    "start_time": "2024-01-26T14:04:04.412Z"
   },
   {
    "duration": 43,
    "start_time": "2024-01-26T14:04:04.432Z"
   },
   {
    "duration": 7,
    "start_time": "2024-01-26T14:04:04.477Z"
   },
   {
    "duration": 3,
    "start_time": "2024-01-26T14:04:04.486Z"
   },
   {
    "duration": 23,
    "start_time": "2024-01-26T14:04:04.490Z"
   },
   {
    "duration": 8,
    "start_time": "2024-01-26T14:04:04.515Z"
   },
   {
    "duration": 43,
    "start_time": "2024-01-26T14:04:04.525Z"
   },
   {
    "duration": 12,
    "start_time": "2024-01-26T14:04:04.569Z"
   },
   {
    "duration": 13,
    "start_time": "2024-01-26T14:04:04.582Z"
   },
   {
    "duration": 18,
    "start_time": "2024-01-26T14:04:04.597Z"
   },
   {
    "duration": 11,
    "start_time": "2024-01-26T14:04:04.616Z"
   },
   {
    "duration": 52,
    "start_time": "2024-01-26T14:04:04.628Z"
   },
   {
    "duration": 8,
    "start_time": "2024-01-26T14:04:04.681Z"
   },
   {
    "duration": 709,
    "start_time": "2024-01-26T14:04:04.691Z"
   },
   {
    "duration": 751,
    "start_time": "2024-01-26T14:04:05.401Z"
   },
   {
    "duration": 4,
    "start_time": "2024-01-26T14:04:06.153Z"
   },
   {
    "duration": 16,
    "start_time": "2024-01-26T14:04:06.158Z"
   },
   {
    "duration": 5,
    "start_time": "2024-01-26T14:04:06.178Z"
   },
   {
    "duration": 67,
    "start_time": "2024-01-26T14:04:06.184Z"
   },
   {
    "duration": 33,
    "start_time": "2024-01-26T14:04:06.252Z"
   },
   {
    "duration": 3,
    "start_time": "2024-01-26T14:04:06.286Z"
   },
   {
    "duration": 58,
    "start_time": "2024-01-26T14:04:06.291Z"
   },
   {
    "duration": 1402,
    "start_time": "2024-01-26T14:04:06.350Z"
   },
   {
    "duration": 11,
    "start_time": "2024-01-26T14:04:07.754Z"
   },
   {
    "duration": 23,
    "start_time": "2024-01-26T14:04:07.766Z"
   },
   {
    "duration": 26,
    "start_time": "2024-01-26T14:04:07.791Z"
   },
   {
    "duration": 6,
    "start_time": "2024-01-26T14:04:07.819Z"
   },
   {
    "duration": 4,
    "start_time": "2024-01-26T14:04:07.827Z"
   },
   {
    "duration": 34,
    "start_time": "2024-01-26T14:04:07.833Z"
   },
   {
    "duration": 4,
    "start_time": "2024-01-26T14:04:07.869Z"
   },
   {
    "duration": 8,
    "start_time": "2024-01-26T14:04:07.875Z"
   },
   {
    "duration": 652,
    "start_time": "2024-01-26T14:04:07.884Z"
   },
   {
    "duration": 147,
    "start_time": "2024-01-26T14:04:08.538Z"
   },
   {
    "duration": 2,
    "start_time": "2024-01-26T14:04:08.686Z"
   },
   {
    "duration": 8,
    "start_time": "2024-01-26T14:04:08.690Z"
   },
   {
    "duration": 66,
    "start_time": "2024-01-26T14:04:08.699Z"
   },
   {
    "duration": 10,
    "start_time": "2024-01-26T14:04:08.766Z"
   },
   {
    "duration": 17,
    "start_time": "2024-01-26T14:04:08.778Z"
   },
   {
    "duration": 3,
    "start_time": "2024-01-26T14:04:08.796Z"
   },
   {
    "duration": 66,
    "start_time": "2024-01-26T14:04:08.800Z"
   },
   {
    "duration": 2,
    "start_time": "2024-01-26T14:04:08.868Z"
   },
   {
    "duration": 26,
    "start_time": "2024-01-26T14:04:08.872Z"
   },
   {
    "duration": 11,
    "start_time": "2024-01-26T14:04:08.900Z"
   },
   {
    "duration": 4,
    "start_time": "2024-01-26T14:04:08.912Z"
   },
   {
    "duration": 50,
    "start_time": "2024-01-26T14:04:08.919Z"
   },
   {
    "duration": 2,
    "start_time": "2024-01-26T14:04:08.971Z"
   },
   {
    "duration": 30,
    "start_time": "2024-01-26T14:04:08.974Z"
   },
   {
    "duration": 9,
    "start_time": "2024-01-26T14:04:09.006Z"
   },
   {
    "duration": 15,
    "start_time": "2024-01-26T14:04:09.017Z"
   },
   {
    "duration": 45,
    "start_time": "2024-01-26T14:04:09.034Z"
   },
   {
    "duration": 13,
    "start_time": "2024-01-26T14:04:09.080Z"
   },
   {
    "duration": 301,
    "start_time": "2024-01-26T14:04:09.094Z"
   },
   {
    "duration": 2,
    "start_time": "2024-01-26T14:04:09.396Z"
   },
   {
    "duration": 5,
    "start_time": "2024-01-26T14:04:09.400Z"
   },
   {
    "duration": 6,
    "start_time": "2024-01-26T14:04:09.406Z"
   },
   {
    "duration": 22,
    "start_time": "2024-01-26T14:04:09.414Z"
   },
   {
    "duration": 36,
    "start_time": "2024-01-26T14:04:09.437Z"
   },
   {
    "duration": 52535,
    "start_time": "2024-01-26T14:04:09.474Z"
   },
   {
    "duration": 0,
    "start_time": "2024-01-26T14:05:02.011Z"
   },
   {
    "duration": 0,
    "start_time": "2024-01-26T14:05:02.012Z"
   },
   {
    "duration": 0,
    "start_time": "2024-01-26T14:05:02.013Z"
   },
   {
    "duration": 0,
    "start_time": "2024-01-26T14:05:02.014Z"
   },
   {
    "duration": 0,
    "start_time": "2024-01-26T14:05:02.015Z"
   },
   {
    "duration": 0,
    "start_time": "2024-01-26T14:05:02.016Z"
   },
   {
    "duration": 0,
    "start_time": "2024-01-26T14:05:02.017Z"
   },
   {
    "duration": 0,
    "start_time": "2024-01-26T14:05:02.019Z"
   },
   {
    "duration": 0,
    "start_time": "2024-01-26T14:05:02.020Z"
   },
   {
    "duration": 0,
    "start_time": "2024-01-26T14:05:02.021Z"
   },
   {
    "duration": 0,
    "start_time": "2024-01-26T14:05:02.022Z"
   },
   {
    "duration": 0,
    "start_time": "2024-01-26T14:05:02.023Z"
   },
   {
    "duration": 0,
    "start_time": "2024-01-26T14:05:02.023Z"
   },
   {
    "duration": 0,
    "start_time": "2024-01-26T14:05:02.025Z"
   },
   {
    "duration": 0,
    "start_time": "2024-01-26T14:05:02.026Z"
   },
   {
    "duration": 0,
    "start_time": "2024-01-26T14:05:02.027Z"
   },
   {
    "duration": 0,
    "start_time": "2024-01-26T14:05:02.028Z"
   },
   {
    "duration": 0,
    "start_time": "2024-01-26T14:05:02.029Z"
   },
   {
    "duration": 0,
    "start_time": "2024-01-26T14:05:02.030Z"
   },
   {
    "duration": 2,
    "start_time": "2024-01-26T14:05:29.506Z"
   },
   {
    "duration": 11,
    "start_time": "2024-01-26T14:06:24.516Z"
   },
   {
    "duration": 14,
    "start_time": "2024-01-26T14:06:45.961Z"
   },
   {
    "duration": 1162,
    "start_time": "2024-01-26T14:09:06.435Z"
   },
   {
    "duration": 1572,
    "start_time": "2024-01-26T14:09:26.650Z"
   },
   {
    "duration": 1150,
    "start_time": "2024-01-26T14:09:32.916Z"
   },
   {
    "duration": 17,
    "start_time": "2024-01-26T14:09:40.443Z"
   },
   {
    "duration": 12,
    "start_time": "2024-01-26T14:09:41.621Z"
   },
   {
    "duration": 18,
    "start_time": "2024-01-26T14:09:47.212Z"
   },
   {
    "duration": 12,
    "start_time": "2024-01-26T14:09:48.426Z"
   },
   {
    "duration": 19,
    "start_time": "2024-01-26T14:09:57.603Z"
   },
   {
    "duration": 12,
    "start_time": "2024-01-26T14:09:59.592Z"
   },
   {
    "duration": 21,
    "start_time": "2024-01-26T14:10:30.796Z"
   },
   {
    "duration": 327,
    "start_time": "2024-01-26T14:10:31.694Z"
   },
   {
    "duration": 12,
    "start_time": "2024-01-26T14:10:58.619Z"
   },
   {
    "duration": 11,
    "start_time": "2024-01-26T14:11:18.344Z"
   },
   {
    "duration": 14,
    "start_time": "2024-01-26T14:11:30.563Z"
   },
   {
    "duration": 46,
    "start_time": "2024-01-26T14:12:00.347Z"
   },
   {
    "duration": 1208,
    "start_time": "2024-01-26T14:16:22.583Z"
   },
   {
    "duration": 302,
    "start_time": "2024-01-26T14:16:23.793Z"
   },
   {
    "duration": 10,
    "start_time": "2024-01-26T14:16:24.097Z"
   },
   {
    "duration": 24,
    "start_time": "2024-01-26T14:16:24.109Z"
   },
   {
    "duration": 6,
    "start_time": "2024-01-26T14:16:24.135Z"
   },
   {
    "duration": 18,
    "start_time": "2024-01-26T14:16:24.142Z"
   },
   {
    "duration": 18,
    "start_time": "2024-01-26T14:16:24.161Z"
   },
   {
    "duration": 20,
    "start_time": "2024-01-26T14:16:24.180Z"
   },
   {
    "duration": 30,
    "start_time": "2024-01-26T14:16:24.201Z"
   },
   {
    "duration": 5,
    "start_time": "2024-01-26T14:16:24.233Z"
   },
   {
    "duration": 29,
    "start_time": "2024-01-26T14:16:24.240Z"
   },
   {
    "duration": 19,
    "start_time": "2024-01-26T14:16:24.271Z"
   },
   {
    "duration": 13,
    "start_time": "2024-01-26T14:16:24.292Z"
   },
   {
    "duration": 11,
    "start_time": "2024-01-26T14:16:24.306Z"
   },
   {
    "duration": 17,
    "start_time": "2024-01-26T14:16:24.319Z"
   },
   {
    "duration": 17,
    "start_time": "2024-01-26T14:16:24.337Z"
   },
   {
    "duration": 22,
    "start_time": "2024-01-26T14:16:24.355Z"
   },
   {
    "duration": 10,
    "start_time": "2024-01-26T14:16:24.379Z"
   },
   {
    "duration": 4,
    "start_time": "2024-01-26T14:16:24.390Z"
   },
   {
    "duration": 15,
    "start_time": "2024-01-26T14:16:24.395Z"
   },
   {
    "duration": 10,
    "start_time": "2024-01-26T14:16:24.412Z"
   },
   {
    "duration": 55,
    "start_time": "2024-01-26T14:16:24.423Z"
   },
   {
    "duration": 7,
    "start_time": "2024-01-26T14:16:24.479Z"
   },
   {
    "duration": 740,
    "start_time": "2024-01-26T14:16:24.488Z"
   },
   {
    "duration": 715,
    "start_time": "2024-01-26T14:16:25.229Z"
   },
   {
    "duration": 3,
    "start_time": "2024-01-26T14:16:25.946Z"
   },
   {
    "duration": 21,
    "start_time": "2024-01-26T14:16:25.950Z"
   },
   {
    "duration": 31,
    "start_time": "2024-01-26T14:16:25.975Z"
   },
   {
    "duration": 88,
    "start_time": "2024-01-26T14:16:26.008Z"
   },
   {
    "duration": 37,
    "start_time": "2024-01-26T14:16:26.097Z"
   },
   {
    "duration": 4,
    "start_time": "2024-01-26T14:16:26.136Z"
   },
   {
    "duration": 64,
    "start_time": "2024-01-26T14:16:26.141Z"
   },
   {
    "duration": 1370,
    "start_time": "2024-01-26T14:16:26.206Z"
   },
   {
    "duration": 11,
    "start_time": "2024-01-26T14:16:27.578Z"
   },
   {
    "duration": 44,
    "start_time": "2024-01-26T14:16:27.591Z"
   },
   {
    "duration": 46,
    "start_time": "2024-01-26T14:16:27.637Z"
   },
   {
    "duration": 9,
    "start_time": "2024-01-26T14:16:27.684Z"
   },
   {
    "duration": 23,
    "start_time": "2024-01-26T14:16:27.695Z"
   },
   {
    "duration": 20,
    "start_time": "2024-01-26T14:16:27.720Z"
   },
   {
    "duration": 24,
    "start_time": "2024-01-26T14:16:27.742Z"
   },
   {
    "duration": 22,
    "start_time": "2024-01-26T14:16:27.768Z"
   },
   {
    "duration": 643,
    "start_time": "2024-01-26T14:16:27.792Z"
   },
   {
    "duration": 163,
    "start_time": "2024-01-26T14:16:28.437Z"
   },
   {
    "duration": 3,
    "start_time": "2024-01-26T14:16:28.601Z"
   },
   {
    "duration": 29,
    "start_time": "2024-01-26T14:16:28.606Z"
   },
   {
    "duration": 48,
    "start_time": "2024-01-26T14:16:28.636Z"
   },
   {
    "duration": 8,
    "start_time": "2024-01-26T14:16:28.685Z"
   },
   {
    "duration": 38,
    "start_time": "2024-01-26T14:16:28.694Z"
   },
   {
    "duration": 32,
    "start_time": "2024-01-26T14:16:28.733Z"
   },
   {
    "duration": 20,
    "start_time": "2024-01-26T14:16:28.766Z"
   },
   {
    "duration": 23,
    "start_time": "2024-01-26T14:16:28.788Z"
   },
   {
    "duration": 26,
    "start_time": "2024-01-26T14:16:28.812Z"
   },
   {
    "duration": 18,
    "start_time": "2024-01-26T14:16:28.840Z"
   },
   {
    "duration": 26,
    "start_time": "2024-01-26T14:16:28.860Z"
   },
   {
    "duration": 28,
    "start_time": "2024-01-26T14:16:28.887Z"
   },
   {
    "duration": 15,
    "start_time": "2024-01-26T14:16:28.917Z"
   },
   {
    "duration": 42,
    "start_time": "2024-01-26T14:16:28.934Z"
   },
   {
    "duration": 14,
    "start_time": "2024-01-26T14:16:28.978Z"
   },
   {
    "duration": 24,
    "start_time": "2024-01-26T14:16:28.994Z"
   },
   {
    "duration": 19,
    "start_time": "2024-01-26T14:16:29.020Z"
   },
   {
    "duration": 25,
    "start_time": "2024-01-26T14:16:29.041Z"
   },
   {
    "duration": 287,
    "start_time": "2024-01-26T14:16:29.067Z"
   },
   {
    "duration": 2,
    "start_time": "2024-01-26T14:16:29.355Z"
   },
   {
    "duration": 23,
    "start_time": "2024-01-26T14:16:29.364Z"
   },
   {
    "duration": 30,
    "start_time": "2024-01-26T14:16:29.389Z"
   },
   {
    "duration": 41,
    "start_time": "2024-01-26T14:16:29.421Z"
   },
   {
    "duration": 13,
    "start_time": "2024-01-26T14:16:29.464Z"
   },
   {
    "duration": 61,
    "start_time": "2024-01-26T14:16:29.478Z"
   },
   {
    "duration": 3,
    "start_time": "2024-01-26T14:16:29.540Z"
   },
   {
    "duration": 19,
    "start_time": "2024-01-26T14:16:29.544Z"
   },
   {
    "duration": 24,
    "start_time": "2024-01-26T14:16:29.565Z"
   },
   {
    "duration": 24,
    "start_time": "2024-01-26T14:16:29.590Z"
   },
   {
    "duration": 4,
    "start_time": "2024-01-26T14:16:29.615Z"
   },
   {
    "duration": 12,
    "start_time": "2024-01-26T14:16:29.620Z"
   },
   {
    "duration": 10,
    "start_time": "2024-01-26T14:16:29.633Z"
   },
   {
    "duration": 9,
    "start_time": "2024-01-26T14:16:29.645Z"
   },
   {
    "duration": 3,
    "start_time": "2024-01-26T14:16:29.668Z"
   },
   {
    "duration": 10,
    "start_time": "2024-01-26T14:16:29.673Z"
   },
   {
    "duration": 9,
    "start_time": "2024-01-26T14:16:29.684Z"
   },
   {
    "duration": 19,
    "start_time": "2024-01-26T14:16:29.694Z"
   },
   {
    "duration": 2,
    "start_time": "2024-01-26T14:16:29.714Z"
   },
   {
    "duration": 2,
    "start_time": "2024-01-26T14:16:29.721Z"
   },
   {
    "duration": 3,
    "start_time": "2024-01-26T14:16:29.725Z"
   },
   {
    "duration": 39,
    "start_time": "2024-01-26T14:16:29.730Z"
   },
   {
    "duration": 8,
    "start_time": "2024-01-26T14:16:29.771Z"
   },
   {
    "duration": 12,
    "start_time": "2024-01-26T14:16:29.780Z"
   },
   {
    "duration": 18,
    "start_time": "2024-01-26T14:16:29.793Z"
   },
   {
    "duration": 7,
    "start_time": "2024-01-26T14:16:29.812Z"
   },
   {
    "duration": 1199,
    "start_time": "2024-01-26T15:43:11.334Z"
   },
   {
    "duration": 286,
    "start_time": "2024-01-26T15:43:12.535Z"
   },
   {
    "duration": 9,
    "start_time": "2024-01-26T15:43:12.822Z"
   },
   {
    "duration": 45,
    "start_time": "2024-01-26T15:43:12.833Z"
   },
   {
    "duration": 45,
    "start_time": "2024-01-26T15:43:12.880Z"
   },
   {
    "duration": 38,
    "start_time": "2024-01-26T15:43:12.926Z"
   },
   {
    "duration": 23,
    "start_time": "2024-01-26T15:43:12.966Z"
   },
   {
    "duration": 35,
    "start_time": "2024-01-26T15:43:12.990Z"
   },
   {
    "duration": 63,
    "start_time": "2024-01-26T15:43:13.026Z"
   },
   {
    "duration": 19,
    "start_time": "2024-01-26T15:43:13.091Z"
   },
   {
    "duration": 40,
    "start_time": "2024-01-26T15:43:13.112Z"
   },
   {
    "duration": 53,
    "start_time": "2024-01-26T15:43:13.153Z"
   },
   {
    "duration": 30,
    "start_time": "2024-01-26T15:43:13.207Z"
   },
   {
    "duration": 35,
    "start_time": "2024-01-26T15:43:13.238Z"
   },
   {
    "duration": 39,
    "start_time": "2024-01-26T15:43:13.275Z"
   },
   {
    "duration": 24,
    "start_time": "2024-01-26T15:43:13.315Z"
   },
   {
    "duration": 36,
    "start_time": "2024-01-26T15:43:13.341Z"
   },
   {
    "duration": 29,
    "start_time": "2024-01-26T15:43:13.378Z"
   },
   {
    "duration": 24,
    "start_time": "2024-01-26T15:43:13.408Z"
   },
   {
    "duration": 64,
    "start_time": "2024-01-26T15:43:13.433Z"
   },
   {
    "duration": 41,
    "start_time": "2024-01-26T15:43:13.499Z"
   },
   {
    "duration": 66,
    "start_time": "2024-01-26T15:43:13.542Z"
   },
   {
    "duration": 7,
    "start_time": "2024-01-26T15:43:13.609Z"
   },
   {
    "duration": 709,
    "start_time": "2024-01-26T15:43:13.617Z"
   },
   {
    "duration": 719,
    "start_time": "2024-01-26T15:43:14.327Z"
   },
   {
    "duration": 4,
    "start_time": "2024-01-26T15:43:15.047Z"
   },
   {
    "duration": 27,
    "start_time": "2024-01-26T15:43:15.052Z"
   },
   {
    "duration": 33,
    "start_time": "2024-01-26T15:43:15.082Z"
   },
   {
    "duration": 65,
    "start_time": "2024-01-26T15:43:15.117Z"
   },
   {
    "duration": 32,
    "start_time": "2024-01-26T15:43:15.183Z"
   },
   {
    "duration": 3,
    "start_time": "2024-01-26T15:43:15.216Z"
   },
   {
    "duration": 59,
    "start_time": "2024-01-26T15:43:15.221Z"
   },
   {
    "duration": 1300,
    "start_time": "2024-01-26T15:43:15.282Z"
   },
   {
    "duration": 10,
    "start_time": "2024-01-26T15:43:16.583Z"
   },
   {
    "duration": 22,
    "start_time": "2024-01-26T15:43:16.595Z"
   },
   {
    "duration": 24,
    "start_time": "2024-01-26T15:43:16.619Z"
   },
   {
    "duration": 7,
    "start_time": "2024-01-26T15:43:16.645Z"
   },
   {
    "duration": 6,
    "start_time": "2024-01-26T15:43:16.654Z"
   },
   {
    "duration": 11,
    "start_time": "2024-01-26T15:43:16.662Z"
   },
   {
    "duration": 12,
    "start_time": "2024-01-26T15:43:16.674Z"
   },
   {
    "duration": 12,
    "start_time": "2024-01-26T15:43:16.688Z"
   },
   {
    "duration": 593,
    "start_time": "2024-01-26T15:43:16.702Z"
   },
   {
    "duration": 529,
    "start_time": "2024-01-26T15:43:17.297Z"
   },
   {
    "duration": 3,
    "start_time": "2024-01-26T15:43:17.827Z"
   },
   {
    "duration": 33,
    "start_time": "2024-01-26T15:43:17.831Z"
   },
   {
    "duration": 41,
    "start_time": "2024-01-26T15:43:17.866Z"
   },
   {
    "duration": 6,
    "start_time": "2024-01-26T15:43:17.909Z"
   },
   {
    "duration": 36,
    "start_time": "2024-01-26T15:43:17.917Z"
   },
   {
    "duration": 2,
    "start_time": "2024-01-26T15:43:17.955Z"
   },
   {
    "duration": 16,
    "start_time": "2024-01-26T15:43:17.959Z"
   },
   {
    "duration": 5,
    "start_time": "2024-01-26T15:43:17.977Z"
   },
   {
    "duration": 38,
    "start_time": "2024-01-26T15:43:17.984Z"
   },
   {
    "duration": 10,
    "start_time": "2024-01-26T15:43:18.023Z"
   },
   {
    "duration": 36,
    "start_time": "2024-01-26T15:43:18.034Z"
   },
   {
    "duration": 46,
    "start_time": "2024-01-26T15:43:18.071Z"
   },
   {
    "duration": 8,
    "start_time": "2024-01-26T15:43:18.119Z"
   },
   {
    "duration": 49,
    "start_time": "2024-01-26T15:43:18.128Z"
   },
   {
    "duration": 8,
    "start_time": "2024-01-26T15:43:18.178Z"
   },
   {
    "duration": 80,
    "start_time": "2024-01-26T15:43:18.187Z"
   },
   {
    "duration": 37,
    "start_time": "2024-01-26T15:43:18.269Z"
   },
   {
    "duration": 14,
    "start_time": "2024-01-26T15:43:18.307Z"
   },
   {
    "duration": 291,
    "start_time": "2024-01-26T15:43:18.322Z"
   },
   {
    "duration": 2,
    "start_time": "2024-01-26T15:43:18.615Z"
   },
   {
    "duration": 47,
    "start_time": "2024-01-26T15:43:18.618Z"
   },
   {
    "duration": 8,
    "start_time": "2024-01-26T15:43:18.667Z"
   },
   {
    "duration": 26,
    "start_time": "2024-01-26T15:43:18.676Z"
   },
   {
    "duration": 15,
    "start_time": "2024-01-26T15:43:18.704Z"
   },
   {
    "duration": 40,
    "start_time": "2024-01-26T15:43:18.720Z"
   },
   {
    "duration": 2,
    "start_time": "2024-01-26T15:43:18.762Z"
   },
   {
    "duration": 16,
    "start_time": "2024-01-26T15:43:18.765Z"
   },
   {
    "duration": 17,
    "start_time": "2024-01-26T15:43:18.783Z"
   },
   {
    "duration": 10,
    "start_time": "2024-01-26T15:43:18.801Z"
   },
   {
    "duration": 3,
    "start_time": "2024-01-26T15:43:18.812Z"
   },
   {
    "duration": 10,
    "start_time": "2024-01-26T15:43:18.817Z"
   },
   {
    "duration": 21,
    "start_time": "2024-01-26T15:43:18.828Z"
   },
   {
    "duration": 7,
    "start_time": "2024-01-26T15:43:18.850Z"
   },
   {
    "duration": 13,
    "start_time": "2024-01-26T15:43:18.859Z"
   },
   {
    "duration": 5,
    "start_time": "2024-01-26T15:43:18.873Z"
   },
   {
    "duration": 28,
    "start_time": "2024-01-26T15:43:18.879Z"
   },
   {
    "duration": 47,
    "start_time": "2024-01-26T15:43:18.909Z"
   },
   {
    "duration": 2,
    "start_time": "2024-01-26T15:43:18.958Z"
   },
   {
    "duration": 6,
    "start_time": "2024-01-26T15:43:18.964Z"
   },
   {
    "duration": 6,
    "start_time": "2024-01-26T15:43:18.971Z"
   },
   {
    "duration": 12,
    "start_time": "2024-01-26T15:43:18.978Z"
   },
   {
    "duration": 7,
    "start_time": "2024-01-26T15:43:18.991Z"
   },
   {
    "duration": 11,
    "start_time": "2024-01-26T15:43:18.999Z"
   },
   {
    "duration": 33,
    "start_time": "2024-01-26T15:43:19.012Z"
   },
   {
    "duration": 7,
    "start_time": "2024-01-26T15:43:19.046Z"
   },
   {
    "duration": 1392,
    "start_time": "2024-02-01T12:22:06.143Z"
   },
   {
    "duration": 209,
    "start_time": "2024-02-01T12:22:07.536Z"
   },
   {
    "duration": 10,
    "start_time": "2024-02-01T12:22:07.746Z"
   },
   {
    "duration": 279,
    "start_time": "2024-02-01T12:22:07.758Z"
   },
   {
    "duration": 64,
    "start_time": "2024-02-01T12:22:08.039Z"
   },
   {
    "duration": 61,
    "start_time": "2024-02-01T12:22:08.105Z"
   },
   {
    "duration": 59,
    "start_time": "2024-02-01T12:22:08.168Z"
   },
   {
    "duration": 57,
    "start_time": "2024-02-01T12:22:08.229Z"
   },
   {
    "duration": 65,
    "start_time": "2024-02-01T12:22:08.287Z"
   },
   {
    "duration": 37,
    "start_time": "2024-02-01T12:22:08.354Z"
   },
   {
    "duration": 90,
    "start_time": "2024-02-01T12:22:08.392Z"
   },
   {
    "duration": 78,
    "start_time": "2024-02-01T12:22:08.484Z"
   },
   {
    "duration": 54,
    "start_time": "2024-02-01T12:22:08.563Z"
   },
   {
    "duration": 56,
    "start_time": "2024-02-01T12:22:08.618Z"
   },
   {
    "duration": 76,
    "start_time": "2024-02-01T12:22:08.675Z"
   },
   {
    "duration": 30,
    "start_time": "2024-02-01T12:22:08.752Z"
   },
   {
    "duration": 47,
    "start_time": "2024-02-01T12:22:08.783Z"
   },
   {
    "duration": 29,
    "start_time": "2024-02-01T12:22:08.831Z"
   },
   {
    "duration": 79,
    "start_time": "2024-02-01T12:22:08.861Z"
   },
   {
    "duration": 114,
    "start_time": "2024-02-01T12:22:08.941Z"
   },
   {
    "duration": 72,
    "start_time": "2024-02-01T12:22:09.056Z"
   },
   {
    "duration": 82,
    "start_time": "2024-02-01T12:22:09.130Z"
   },
   {
    "duration": 25,
    "start_time": "2024-02-01T12:22:09.214Z"
   },
   {
    "duration": 697,
    "start_time": "2024-02-01T12:22:09.240Z"
   },
   {
    "duration": 669,
    "start_time": "2024-02-01T12:22:09.939Z"
   },
   {
    "duration": 3,
    "start_time": "2024-02-01T12:22:10.609Z"
   },
   {
    "duration": 61,
    "start_time": "2024-02-01T12:22:10.614Z"
   },
   {
    "duration": 31,
    "start_time": "2024-02-01T12:22:10.679Z"
   },
   {
    "duration": 66,
    "start_time": "2024-02-01T12:22:10.711Z"
   },
   {
    "duration": 29,
    "start_time": "2024-02-01T12:22:10.778Z"
   },
   {
    "duration": 3,
    "start_time": "2024-02-01T12:22:10.808Z"
   },
   {
    "duration": 61,
    "start_time": "2024-02-01T12:22:10.812Z"
   },
   {
    "duration": 1803,
    "start_time": "2024-02-01T12:22:10.875Z"
   },
   {
    "duration": 12,
    "start_time": "2024-02-01T12:22:12.679Z"
   },
   {
    "duration": 59,
    "start_time": "2024-02-01T12:22:12.692Z"
   },
   {
    "duration": 23,
    "start_time": "2024-02-01T12:22:12.753Z"
   },
   {
    "duration": 7,
    "start_time": "2024-02-01T12:22:12.778Z"
   },
   {
    "duration": 23,
    "start_time": "2024-02-01T12:22:12.787Z"
   },
   {
    "duration": 31,
    "start_time": "2024-02-01T12:22:12.811Z"
   },
   {
    "duration": 8,
    "start_time": "2024-02-01T12:22:12.843Z"
   },
   {
    "duration": 122,
    "start_time": "2024-02-01T12:22:12.852Z"
   },
   {
    "duration": 583,
    "start_time": "2024-02-01T12:22:12.975Z"
   },
   {
    "duration": 130,
    "start_time": "2024-02-01T12:22:13.560Z"
   },
   {
    "duration": 2,
    "start_time": "2024-02-01T12:22:13.692Z"
   },
   {
    "duration": 4,
    "start_time": "2024-02-01T12:22:13.696Z"
   },
   {
    "duration": 58,
    "start_time": "2024-02-01T12:22:13.701Z"
   },
   {
    "duration": 7,
    "start_time": "2024-02-01T12:22:13.760Z"
   },
   {
    "duration": 14,
    "start_time": "2024-02-01T12:22:13.768Z"
   },
   {
    "duration": 4,
    "start_time": "2024-02-01T12:22:13.783Z"
   },
   {
    "duration": 59,
    "start_time": "2024-02-01T12:22:13.788Z"
   },
   {
    "duration": 49,
    "start_time": "2024-02-01T12:22:13.848Z"
   },
   {
    "duration": 26,
    "start_time": "2024-02-01T12:22:13.898Z"
   },
   {
    "duration": 9,
    "start_time": "2024-02-01T12:22:13.926Z"
   },
   {
    "duration": 8,
    "start_time": "2024-02-01T12:22:13.936Z"
   },
   {
    "duration": 24,
    "start_time": "2024-02-01T12:22:13.946Z"
   },
   {
    "duration": 2,
    "start_time": "2024-02-01T12:22:13.971Z"
   },
   {
    "duration": 43,
    "start_time": "2024-02-01T12:22:13.974Z"
   },
   {
    "duration": 9,
    "start_time": "2024-02-01T12:22:14.018Z"
   },
   {
    "duration": 19,
    "start_time": "2024-02-01T12:22:14.028Z"
   },
   {
    "duration": 16,
    "start_time": "2024-02-01T12:22:14.048Z"
   },
   {
    "duration": 37,
    "start_time": "2024-02-01T12:22:14.065Z"
   },
   {
    "duration": 216,
    "start_time": "2024-02-01T12:22:14.104Z"
   },
   {
    "duration": 24,
    "start_time": "2024-02-01T12:22:14.321Z"
   },
   {
    "duration": 19,
    "start_time": "2024-02-01T12:22:14.346Z"
   },
   {
    "duration": 80,
    "start_time": "2024-02-01T12:22:14.366Z"
   },
   {
    "duration": 16,
    "start_time": "2024-02-01T12:22:14.447Z"
   },
   {
    "duration": 46,
    "start_time": "2024-02-01T12:22:14.464Z"
   },
   {
    "duration": 14,
    "start_time": "2024-02-01T12:22:14.511Z"
   },
   {
    "duration": 28,
    "start_time": "2024-02-01T12:22:14.526Z"
   },
   {
    "duration": 45,
    "start_time": "2024-02-01T12:22:14.555Z"
   },
   {
    "duration": 107,
    "start_time": "2024-02-01T12:22:14.601Z"
   },
   {
    "duration": 72,
    "start_time": "2024-02-01T12:22:14.709Z"
   },
   {
    "duration": 11,
    "start_time": "2024-02-01T12:22:14.782Z"
   },
   {
    "duration": 11,
    "start_time": "2024-02-01T12:22:14.795Z"
   },
   {
    "duration": 17,
    "start_time": "2024-02-01T12:22:14.808Z"
   },
   {
    "duration": 7,
    "start_time": "2024-02-01T12:22:14.826Z"
   },
   {
    "duration": 4,
    "start_time": "2024-02-01T12:22:38.599Z"
   },
   {
    "duration": 1165,
    "start_time": "2024-02-01T12:22:48.767Z"
   },
   {
    "duration": 211,
    "start_time": "2024-02-01T12:22:49.934Z"
   },
   {
    "duration": 9,
    "start_time": "2024-02-01T12:22:50.146Z"
   },
   {
    "duration": 17,
    "start_time": "2024-02-01T12:22:50.157Z"
   },
   {
    "duration": 5,
    "start_time": "2024-02-01T12:22:50.175Z"
   },
   {
    "duration": 13,
    "start_time": "2024-02-01T12:22:50.182Z"
   },
   {
    "duration": 11,
    "start_time": "2024-02-01T12:22:50.196Z"
   },
   {
    "duration": 18,
    "start_time": "2024-02-01T12:22:50.208Z"
   },
   {
    "duration": 43,
    "start_time": "2024-02-01T12:22:50.227Z"
   },
   {
    "duration": 6,
    "start_time": "2024-02-01T12:22:50.273Z"
   },
   {
    "duration": 40,
    "start_time": "2024-02-01T12:22:50.280Z"
   },
   {
    "duration": 56,
    "start_time": "2024-02-01T12:22:50.321Z"
   },
   {
    "duration": 8,
    "start_time": "2024-02-01T12:22:50.379Z"
   },
   {
    "duration": 14,
    "start_time": "2024-02-01T12:22:50.389Z"
   },
   {
    "duration": 32,
    "start_time": "2024-02-01T12:22:50.405Z"
   },
   {
    "duration": 23,
    "start_time": "2024-02-01T12:22:50.438Z"
   },
   {
    "duration": 37,
    "start_time": "2024-02-01T12:22:50.462Z"
   },
   {
    "duration": 11,
    "start_time": "2024-02-01T12:22:50.500Z"
   },
   {
    "duration": 12,
    "start_time": "2024-02-01T12:22:50.512Z"
   },
   {
    "duration": 44,
    "start_time": "2024-02-01T12:22:50.525Z"
   },
   {
    "duration": 18,
    "start_time": "2024-02-01T12:22:50.570Z"
   },
   {
    "duration": 52,
    "start_time": "2024-02-01T12:22:50.589Z"
   },
   {
    "duration": 7,
    "start_time": "2024-02-01T12:22:50.643Z"
   },
   {
    "duration": 698,
    "start_time": "2024-02-01T12:22:50.651Z"
   },
   {
    "duration": 697,
    "start_time": "2024-02-01T12:22:51.351Z"
   },
   {
    "duration": 3,
    "start_time": "2024-02-01T12:22:52.050Z"
   },
   {
    "duration": 82,
    "start_time": "2024-02-01T12:22:52.055Z"
   },
   {
    "duration": 22,
    "start_time": "2024-02-01T12:22:52.140Z"
   },
   {
    "duration": 74,
    "start_time": "2024-02-01T12:22:52.163Z"
   },
   {
    "duration": 32,
    "start_time": "2024-02-01T12:22:52.238Z"
   },
   {
    "duration": 3,
    "start_time": "2024-02-01T12:22:52.272Z"
   },
   {
    "duration": 98,
    "start_time": "2024-02-01T12:22:52.276Z"
   },
   {
    "duration": 1275,
    "start_time": "2024-02-01T12:22:52.375Z"
   },
   {
    "duration": 11,
    "start_time": "2024-02-01T12:22:53.651Z"
   },
   {
    "duration": 23,
    "start_time": "2024-02-01T12:22:53.663Z"
   },
   {
    "duration": 25,
    "start_time": "2024-02-01T12:22:53.687Z"
   },
   {
    "duration": 8,
    "start_time": "2024-02-01T12:22:53.713Z"
   },
   {
    "duration": 23,
    "start_time": "2024-02-01T12:22:53.722Z"
   },
   {
    "duration": 11,
    "start_time": "2024-02-01T12:22:53.746Z"
   },
   {
    "duration": 11,
    "start_time": "2024-02-01T12:22:53.758Z"
   },
   {
    "duration": 34,
    "start_time": "2024-02-01T12:22:53.770Z"
   },
   {
    "duration": 589,
    "start_time": "2024-02-01T12:22:53.805Z"
   },
   {
    "duration": 137,
    "start_time": "2024-02-01T12:22:54.395Z"
   },
   {
    "duration": 0,
    "start_time": "2024-02-01T12:22:54.534Z"
   },
   {
    "duration": 0,
    "start_time": "2024-02-01T12:22:54.535Z"
   },
   {
    "duration": 0,
    "start_time": "2024-02-01T12:22:54.545Z"
   },
   {
    "duration": 0,
    "start_time": "2024-02-01T12:22:54.546Z"
   },
   {
    "duration": 0,
    "start_time": "2024-02-01T12:22:54.548Z"
   },
   {
    "duration": 0,
    "start_time": "2024-02-01T12:22:54.549Z"
   },
   {
    "duration": 0,
    "start_time": "2024-02-01T12:22:54.551Z"
   },
   {
    "duration": 0,
    "start_time": "2024-02-01T12:22:54.552Z"
   },
   {
    "duration": 0,
    "start_time": "2024-02-01T12:22:54.553Z"
   },
   {
    "duration": 0,
    "start_time": "2024-02-01T12:22:54.555Z"
   },
   {
    "duration": 0,
    "start_time": "2024-02-01T12:22:54.555Z"
   },
   {
    "duration": 0,
    "start_time": "2024-02-01T12:22:54.557Z"
   },
   {
    "duration": 0,
    "start_time": "2024-02-01T12:22:54.558Z"
   },
   {
    "duration": 0,
    "start_time": "2024-02-01T12:22:54.558Z"
   },
   {
    "duration": 0,
    "start_time": "2024-02-01T12:22:54.559Z"
   },
   {
    "duration": 0,
    "start_time": "2024-02-01T12:22:54.560Z"
   },
   {
    "duration": 0,
    "start_time": "2024-02-01T12:22:54.561Z"
   },
   {
    "duration": 1,
    "start_time": "2024-02-01T12:22:54.561Z"
   },
   {
    "duration": 0,
    "start_time": "2024-02-01T12:22:54.562Z"
   },
   {
    "duration": 0,
    "start_time": "2024-02-01T12:22:54.563Z"
   },
   {
    "duration": 0,
    "start_time": "2024-02-01T12:22:54.564Z"
   },
   {
    "duration": 0,
    "start_time": "2024-02-01T12:22:54.565Z"
   },
   {
    "duration": 0,
    "start_time": "2024-02-01T12:22:54.566Z"
   },
   {
    "duration": 0,
    "start_time": "2024-02-01T12:22:54.567Z"
   },
   {
    "duration": 0,
    "start_time": "2024-02-01T12:22:54.568Z"
   },
   {
    "duration": 0,
    "start_time": "2024-02-01T12:22:54.568Z"
   },
   {
    "duration": 0,
    "start_time": "2024-02-01T12:22:54.569Z"
   },
   {
    "duration": 0,
    "start_time": "2024-02-01T12:22:54.570Z"
   },
   {
    "duration": 0,
    "start_time": "2024-02-01T12:22:54.571Z"
   },
   {
    "duration": 0,
    "start_time": "2024-02-01T12:22:54.571Z"
   },
   {
    "duration": 0,
    "start_time": "2024-02-01T12:22:54.572Z"
   },
   {
    "duration": 0,
    "start_time": "2024-02-01T12:22:54.573Z"
   },
   {
    "duration": 0,
    "start_time": "2024-02-01T12:22:54.574Z"
   },
   {
    "duration": 78,
    "start_time": "2024-02-01T12:23:55.317Z"
   },
   {
    "duration": 6476,
    "start_time": "2024-02-01T12:23:58.863Z"
   },
   {
    "duration": 2439,
    "start_time": "2024-02-01T12:24:10.021Z"
   },
   {
    "duration": 1169,
    "start_time": "2024-02-01T12:24:12.462Z"
   },
   {
    "duration": 202,
    "start_time": "2024-02-01T12:24:13.633Z"
   },
   {
    "duration": 10,
    "start_time": "2024-02-01T12:24:13.837Z"
   },
   {
    "duration": 19,
    "start_time": "2024-02-01T12:24:13.849Z"
   },
   {
    "duration": 13,
    "start_time": "2024-02-01T12:24:13.869Z"
   },
   {
    "duration": 9,
    "start_time": "2024-02-01T12:24:13.883Z"
   },
   {
    "duration": 5,
    "start_time": "2024-02-01T12:24:13.893Z"
   },
   {
    "duration": 14,
    "start_time": "2024-02-01T12:24:13.900Z"
   },
   {
    "duration": 43,
    "start_time": "2024-02-01T12:24:13.917Z"
   },
   {
    "duration": 5,
    "start_time": "2024-02-01T12:24:13.961Z"
   },
   {
    "duration": 19,
    "start_time": "2024-02-01T12:24:13.967Z"
   },
   {
    "duration": 13,
    "start_time": "2024-02-01T12:24:13.988Z"
   },
   {
    "duration": 6,
    "start_time": "2024-02-01T12:24:14.003Z"
   },
   {
    "duration": 5,
    "start_time": "2024-02-01T12:24:14.010Z"
   },
   {
    "duration": 39,
    "start_time": "2024-02-01T12:24:14.016Z"
   },
   {
    "duration": 9,
    "start_time": "2024-02-01T12:24:14.056Z"
   },
   {
    "duration": 21,
    "start_time": "2024-02-01T12:24:14.067Z"
   },
   {
    "duration": 9,
    "start_time": "2024-02-01T12:24:14.090Z"
   },
   {
    "duration": 5,
    "start_time": "2024-02-01T12:24:14.100Z"
   },
   {
    "duration": 17,
    "start_time": "2024-02-01T12:24:14.106Z"
   },
   {
    "duration": 26,
    "start_time": "2024-02-01T12:24:14.124Z"
   },
   {
    "duration": 36,
    "start_time": "2024-02-01T12:24:14.151Z"
   },
   {
    "duration": 8,
    "start_time": "2024-02-01T12:24:14.188Z"
   },
   {
    "duration": 722,
    "start_time": "2024-02-01T12:24:14.197Z"
   },
   {
    "duration": 733,
    "start_time": "2024-02-01T12:24:14.920Z"
   },
   {
    "duration": 4,
    "start_time": "2024-02-01T12:24:15.654Z"
   },
   {
    "duration": 26,
    "start_time": "2024-02-01T12:24:15.661Z"
   },
   {
    "duration": 45,
    "start_time": "2024-02-01T12:24:15.688Z"
   },
   {
    "duration": 115,
    "start_time": "2024-02-01T12:24:15.734Z"
   },
   {
    "duration": 30,
    "start_time": "2024-02-01T12:24:15.851Z"
   },
   {
    "duration": 3,
    "start_time": "2024-02-01T12:24:15.883Z"
   },
   {
    "duration": 66,
    "start_time": "2024-02-01T12:24:15.887Z"
   },
   {
    "duration": 1300,
    "start_time": "2024-02-01T12:24:15.954Z"
   },
   {
    "duration": 12,
    "start_time": "2024-02-01T12:24:17.256Z"
   },
   {
    "duration": 30,
    "start_time": "2024-02-01T12:24:17.269Z"
   },
   {
    "duration": 42,
    "start_time": "2024-02-01T12:24:17.300Z"
   },
   {
    "duration": 7,
    "start_time": "2024-02-01T12:24:17.343Z"
   },
   {
    "duration": 31,
    "start_time": "2024-02-01T12:24:17.351Z"
   },
   {
    "duration": 43,
    "start_time": "2024-02-01T12:24:17.384Z"
   },
   {
    "duration": 33,
    "start_time": "2024-02-01T12:24:17.428Z"
   },
   {
    "duration": 38,
    "start_time": "2024-02-01T12:24:17.463Z"
   },
   {
    "duration": 642,
    "start_time": "2024-02-01T12:24:17.503Z"
   },
   {
    "duration": 852,
    "start_time": "2024-02-01T12:24:18.146Z"
   },
   {
    "duration": 3,
    "start_time": "2024-02-01T12:24:19.000Z"
   },
   {
    "duration": 16,
    "start_time": "2024-02-01T12:24:19.004Z"
   },
   {
    "duration": 38,
    "start_time": "2024-02-01T12:24:19.022Z"
   },
   {
    "duration": 7,
    "start_time": "2024-02-01T12:24:19.062Z"
   },
   {
    "duration": 83,
    "start_time": "2024-02-01T12:24:19.070Z"
   },
   {
    "duration": 2,
    "start_time": "2024-02-01T12:24:19.155Z"
   },
   {
    "duration": 20,
    "start_time": "2024-02-01T12:24:19.158Z"
   },
   {
    "duration": 3,
    "start_time": "2024-02-01T12:24:19.179Z"
   },
   {
    "duration": 20,
    "start_time": "2024-02-01T12:24:19.184Z"
   },
   {
    "duration": 50,
    "start_time": "2024-02-01T12:24:19.205Z"
   },
   {
    "duration": 2,
    "start_time": "2024-02-01T12:24:19.257Z"
   },
   {
    "duration": 23,
    "start_time": "2024-02-01T12:24:19.260Z"
   },
   {
    "duration": 2,
    "start_time": "2024-02-01T12:24:19.284Z"
   },
   {
    "duration": 35,
    "start_time": "2024-02-01T12:24:19.287Z"
   },
   {
    "duration": 46,
    "start_time": "2024-02-01T12:24:19.323Z"
   },
   {
    "duration": 17,
    "start_time": "2024-02-01T12:24:19.370Z"
   },
   {
    "duration": 18,
    "start_time": "2024-02-01T12:24:19.388Z"
   },
   {
    "duration": 41,
    "start_time": "2024-02-01T12:24:19.408Z"
   },
   {
    "duration": 332,
    "start_time": "2024-02-01T12:24:19.450Z"
   },
   {
    "duration": 17,
    "start_time": "2024-02-01T12:24:19.784Z"
   },
   {
    "duration": 12,
    "start_time": "2024-02-01T12:24:19.803Z"
   },
   {
    "duration": 86,
    "start_time": "2024-02-01T12:24:19.817Z"
   },
   {
    "duration": 19,
    "start_time": "2024-02-01T12:24:19.905Z"
   },
   {
    "duration": 27,
    "start_time": "2024-02-01T12:24:19.926Z"
   },
   {
    "duration": 8,
    "start_time": "2024-02-01T12:24:19.954Z"
   },
   {
    "duration": 21,
    "start_time": "2024-02-01T12:24:19.963Z"
   },
   {
    "duration": 10,
    "start_time": "2024-02-01T12:24:19.986Z"
   },
   {
    "duration": 8,
    "start_time": "2024-02-01T12:24:19.997Z"
   },
   {
    "duration": 20,
    "start_time": "2024-02-01T12:24:20.006Z"
   },
   {
    "duration": 15,
    "start_time": "2024-02-01T12:24:20.027Z"
   },
   {
    "duration": 25,
    "start_time": "2024-02-01T12:24:20.044Z"
   },
   {
    "duration": 17,
    "start_time": "2024-02-01T12:24:20.070Z"
   },
   {
    "duration": 12,
    "start_time": "2024-02-01T12:24:20.088Z"
   }
  ],
  "kernelspec": {
   "display_name": "Python 3 (ipykernel)",
   "language": "python",
   "name": "python3"
  },
  "language_info": {
   "codemirror_mode": {
    "name": "ipython",
    "version": 3
   },
   "file_extension": ".py",
   "mimetype": "text/x-python",
   "name": "python",
   "nbconvert_exporter": "python",
   "pygments_lexer": "ipython3",
   "version": "3.9.5"
  },
  "toc": {
   "base_numbering": 1,
   "nav_menu": {},
   "number_sections": true,
   "sideBar": true,
   "skip_h1_title": true,
   "title_cell": "Table of Contents",
   "title_sidebar": "Contents",
   "toc_cell": false,
   "toc_position": {
    "height": "calc(100% - 180px)",
    "left": "10px",
    "top": "150px",
    "width": "330px"
   },
   "toc_section_display": true,
   "toc_window_display": true
  }
 },
 "nbformat": 4,
 "nbformat_minor": 2
}
