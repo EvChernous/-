{
 "cells": [
  {
   "cell_type": "markdown",
   "id": "c26acfa1",
   "metadata": {},
   "source": [
    "### Иследование сервиса аренды самокатов GoFast\n",
    "\n",
    "У нас в доступе данные о пользователях и их поездках на самокатах. Нам нужно проанализировать дынне о поездках пользователей с платной подпиской и без нее. Выяснить приблыны ли платные платные подписчики и стоит ли проводить акции для увелечения их количества.\n",
    "\n",
    "У нас в распорижении 3 дата сета с онформацией: о пользоватиле, о поездках и датасет с типом подписки.\n",
    "\n",
    "#### Цель иследования\n",
    "\n",
    "Проанализировать данные и понять выгоднее ли сервису платные подписчики (приносят ли они больше прибыли), выяснить проезжают ли платные подписчики растояние менее 3130 метров что является оптимальным растоянием для износа самоката, сравнить помесячную выручку от платных и бесплатных плозователей\n",
    "\n",
    "#### Ход иследования\n",
    "\n",
    "Импортируем все необходимые библиотеки в pyhton\n",
    "\n",
    "Данные получаем из датасетов '/datasets/users_go.csv', '/datasets/rides_go.csv', '/datasets/subscriptions_go.csv' сразу проверяем типы данных и если надо будет заменим их. Далее проверяем данные на явные и неявные дубликаты и избавляемся от них. После объеденяем все три датасета в один датасет для более удобной работы и анализа данных. Проверяем гипотезы и находим дополнительные нужные нам значения из датасетов\n",
    "\n",
    "Загрузка данных\n",
    "\n",
    "Предобработка дынных\n",
    "\n",
    "Иследовательский анализ\n",
    "\n",
    "Объединение данных\n",
    "\n",
    "Подсчет выручки\n",
    "\n",
    "Проверка гипотез"
   ]
  },
  {
   "cell_type": "code",
   "execution_count": 1,
   "id": "72576667",
   "metadata": {},
   "outputs": [],
   "source": [
    "import pandas as pd\n",
    "import matplotlib.pyplot as plt\n",
    "import seaborn as sns\n",
    "import plotly.express as px\n",
    "import numpy as np\n",
    "from scipy import stats as st\n",
    "\n",
    "pd.set_option('display.max_columns', None)"
   ]
  },
  {
   "cell_type": "markdown",
   "id": "e3ed4a08",
   "metadata": {},
   "source": [
    "Импортировали все необходимые библиотеки и так же сняли ограничение на вывод столбцов в таблице"
   ]
  },
  {
   "cell_type": "markdown",
   "id": "c42cbe00",
   "metadata": {},
   "source": [
    "#### Шаг 1. Загрузка данных"
   ]
  },
  {
   "cell_type": "markdown",
   "id": "1759bc66",
   "metadata": {},
   "source": [
    "##### Таблица с пользователями"
   ]
  },
  {
   "cell_type": "code",
   "execution_count": 2,
   "id": "eff9f206",
   "metadata": {},
   "outputs": [],
   "source": [
    "data_users = pd.read_csv('/datasets/users_go.csv')"
   ]
  },
  {
   "cell_type": "code",
   "execution_count": 3,
   "id": "5594dca8",
   "metadata": {},
   "outputs": [
    {
     "data": {
      "text/html": [
       "<div>\n",
       "<style scoped>\n",
       "    .dataframe tbody tr th:only-of-type {\n",
       "        vertical-align: middle;\n",
       "    }\n",
       "\n",
       "    .dataframe tbody tr th {\n",
       "        vertical-align: top;\n",
       "    }\n",
       "\n",
       "    .dataframe thead th {\n",
       "        text-align: right;\n",
       "    }\n",
       "</style>\n",
       "<table border=\"1\" class=\"dataframe\">\n",
       "  <thead>\n",
       "    <tr style=\"text-align: right;\">\n",
       "      <th></th>\n",
       "      <th>user_id</th>\n",
       "      <th>name</th>\n",
       "      <th>age</th>\n",
       "      <th>city</th>\n",
       "      <th>subscription_type</th>\n",
       "    </tr>\n",
       "  </thead>\n",
       "  <tbody>\n",
       "    <tr>\n",
       "      <th>0</th>\n",
       "      <td>1</td>\n",
       "      <td>Кира</td>\n",
       "      <td>22</td>\n",
       "      <td>Тюмень</td>\n",
       "      <td>ultra</td>\n",
       "    </tr>\n",
       "    <tr>\n",
       "      <th>1</th>\n",
       "      <td>2</td>\n",
       "      <td>Станислав</td>\n",
       "      <td>31</td>\n",
       "      <td>Омск</td>\n",
       "      <td>ultra</td>\n",
       "    </tr>\n",
       "    <tr>\n",
       "      <th>2</th>\n",
       "      <td>3</td>\n",
       "      <td>Алексей</td>\n",
       "      <td>20</td>\n",
       "      <td>Москва</td>\n",
       "      <td>ultra</td>\n",
       "    </tr>\n",
       "    <tr>\n",
       "      <th>3</th>\n",
       "      <td>4</td>\n",
       "      <td>Константин</td>\n",
       "      <td>26</td>\n",
       "      <td>Ростов-на-Дону</td>\n",
       "      <td>ultra</td>\n",
       "    </tr>\n",
       "    <tr>\n",
       "      <th>4</th>\n",
       "      <td>5</td>\n",
       "      <td>Адель</td>\n",
       "      <td>28</td>\n",
       "      <td>Омск</td>\n",
       "      <td>ultra</td>\n",
       "    </tr>\n",
       "  </tbody>\n",
       "</table>\n",
       "</div>"
      ],
      "text/plain": [
       "   user_id        name  age            city subscription_type\n",
       "0        1        Кира   22          Тюмень             ultra\n",
       "1        2   Станислав   31            Омск             ultra\n",
       "2        3     Алексей   20          Москва             ultra\n",
       "3        4  Константин   26  Ростов-на-Дону             ultra\n",
       "4        5       Адель   28            Омск             ultra"
      ]
     },
     "execution_count": 3,
     "metadata": {},
     "output_type": "execute_result"
    }
   ],
   "source": [
    "data_users.head()"
   ]
  },
  {
   "cell_type": "code",
   "execution_count": 4,
   "id": "0a8dcd45",
   "metadata": {},
   "outputs": [
    {
     "name": "stdout",
     "output_type": "stream",
     "text": [
      "<class 'pandas.core.frame.DataFrame'>\n",
      "RangeIndex: 1565 entries, 0 to 1564\n",
      "Data columns (total 5 columns):\n",
      " #   Column             Non-Null Count  Dtype \n",
      "---  ------             --------------  ----- \n",
      " 0   user_id            1565 non-null   int64 \n",
      " 1   name               1565 non-null   object\n",
      " 2   age                1565 non-null   int64 \n",
      " 3   city               1565 non-null   object\n",
      " 4   subscription_type  1565 non-null   object\n",
      "dtypes: int64(2), object(3)\n",
      "memory usage: 61.3+ KB\n"
     ]
    }
   ],
   "source": [
    "data_users.info()"
   ]
  },
  {
   "cell_type": "markdown",
   "id": "2326ceee",
   "metadata": {},
   "source": [
    "##### Таблица с поездками"
   ]
  },
  {
   "cell_type": "code",
   "execution_count": 5,
   "id": "c5832fa1",
   "metadata": {},
   "outputs": [],
   "source": [
    "data_riders = pd.read_csv('/datasets/rides_go.csv')"
   ]
  },
  {
   "cell_type": "code",
   "execution_count": 6,
   "id": "0832de88",
   "metadata": {},
   "outputs": [
    {
     "data": {
      "text/html": [
       "<div>\n",
       "<style scoped>\n",
       "    .dataframe tbody tr th:only-of-type {\n",
       "        vertical-align: middle;\n",
       "    }\n",
       "\n",
       "    .dataframe tbody tr th {\n",
       "        vertical-align: top;\n",
       "    }\n",
       "\n",
       "    .dataframe thead th {\n",
       "        text-align: right;\n",
       "    }\n",
       "</style>\n",
       "<table border=\"1\" class=\"dataframe\">\n",
       "  <thead>\n",
       "    <tr style=\"text-align: right;\">\n",
       "      <th></th>\n",
       "      <th>user_id</th>\n",
       "      <th>distance</th>\n",
       "      <th>duration</th>\n",
       "      <th>date</th>\n",
       "    </tr>\n",
       "  </thead>\n",
       "  <tbody>\n",
       "    <tr>\n",
       "      <th>0</th>\n",
       "      <td>1</td>\n",
       "      <td>4409.919140</td>\n",
       "      <td>25.599769</td>\n",
       "      <td>2021-01-01</td>\n",
       "    </tr>\n",
       "    <tr>\n",
       "      <th>1</th>\n",
       "      <td>1</td>\n",
       "      <td>2617.592153</td>\n",
       "      <td>15.816871</td>\n",
       "      <td>2021-01-18</td>\n",
       "    </tr>\n",
       "    <tr>\n",
       "      <th>2</th>\n",
       "      <td>1</td>\n",
       "      <td>754.159807</td>\n",
       "      <td>6.232113</td>\n",
       "      <td>2021-04-20</td>\n",
       "    </tr>\n",
       "    <tr>\n",
       "      <th>3</th>\n",
       "      <td>1</td>\n",
       "      <td>2694.783254</td>\n",
       "      <td>18.511000</td>\n",
       "      <td>2021-08-11</td>\n",
       "    </tr>\n",
       "    <tr>\n",
       "      <th>4</th>\n",
       "      <td>1</td>\n",
       "      <td>4028.687306</td>\n",
       "      <td>26.265803</td>\n",
       "      <td>2021-08-28</td>\n",
       "    </tr>\n",
       "  </tbody>\n",
       "</table>\n",
       "</div>"
      ],
      "text/plain": [
       "   user_id     distance   duration        date\n",
       "0        1  4409.919140  25.599769  2021-01-01\n",
       "1        1  2617.592153  15.816871  2021-01-18\n",
       "2        1   754.159807   6.232113  2021-04-20\n",
       "3        1  2694.783254  18.511000  2021-08-11\n",
       "4        1  4028.687306  26.265803  2021-08-28"
      ]
     },
     "execution_count": 6,
     "metadata": {},
     "output_type": "execute_result"
    }
   ],
   "source": [
    "data_riders.head()"
   ]
  },
  {
   "cell_type": "code",
   "execution_count": 7,
   "id": "418cab62",
   "metadata": {
    "scrolled": true
   },
   "outputs": [
    {
     "name": "stdout",
     "output_type": "stream",
     "text": [
      "<class 'pandas.core.frame.DataFrame'>\n",
      "RangeIndex: 18068 entries, 0 to 18067\n",
      "Data columns (total 4 columns):\n",
      " #   Column    Non-Null Count  Dtype  \n",
      "---  ------    --------------  -----  \n",
      " 0   user_id   18068 non-null  int64  \n",
      " 1   distance  18068 non-null  float64\n",
      " 2   duration  18068 non-null  float64\n",
      " 3   date      18068 non-null  object \n",
      "dtypes: float64(2), int64(1), object(1)\n",
      "memory usage: 564.8+ KB\n"
     ]
    }
   ],
   "source": [
    "data_riders.info()"
   ]
  },
  {
   "cell_type": "markdown",
   "id": "82c73529",
   "metadata": {},
   "source": [
    "Нужно будет приветсти столбец с датой к типу данных Datetime"
   ]
  },
  {
   "cell_type": "markdown",
   "id": "0cbdd566",
   "metadata": {},
   "source": [
    "##### Таблица с подписками"
   ]
  },
  {
   "cell_type": "code",
   "execution_count": 8,
   "id": "c3fc45b6",
   "metadata": {},
   "outputs": [],
   "source": [
    "data_sub = pd.read_csv('/datasets/subscriptions_go.csv')"
   ]
  },
  {
   "cell_type": "code",
   "execution_count": 9,
   "id": "22e828bc",
   "metadata": {},
   "outputs": [
    {
     "data": {
      "text/html": [
       "<div>\n",
       "<style scoped>\n",
       "    .dataframe tbody tr th:only-of-type {\n",
       "        vertical-align: middle;\n",
       "    }\n",
       "\n",
       "    .dataframe tbody tr th {\n",
       "        vertical-align: top;\n",
       "    }\n",
       "\n",
       "    .dataframe thead th {\n",
       "        text-align: right;\n",
       "    }\n",
       "</style>\n",
       "<table border=\"1\" class=\"dataframe\">\n",
       "  <thead>\n",
       "    <tr style=\"text-align: right;\">\n",
       "      <th></th>\n",
       "      <th>subscription_type</th>\n",
       "      <th>minute_price</th>\n",
       "      <th>start_ride_price</th>\n",
       "      <th>subscription_fee</th>\n",
       "    </tr>\n",
       "  </thead>\n",
       "  <tbody>\n",
       "    <tr>\n",
       "      <th>0</th>\n",
       "      <td>free</td>\n",
       "      <td>8</td>\n",
       "      <td>50</td>\n",
       "      <td>0</td>\n",
       "    </tr>\n",
       "    <tr>\n",
       "      <th>1</th>\n",
       "      <td>ultra</td>\n",
       "      <td>6</td>\n",
       "      <td>0</td>\n",
       "      <td>199</td>\n",
       "    </tr>\n",
       "  </tbody>\n",
       "</table>\n",
       "</div>"
      ],
      "text/plain": [
       "  subscription_type  minute_price  start_ride_price  subscription_fee\n",
       "0              free             8                50                 0\n",
       "1             ultra             6                 0               199"
      ]
     },
     "execution_count": 9,
     "metadata": {},
     "output_type": "execute_result"
    }
   ],
   "source": [
    "data_sub.head()"
   ]
  },
  {
   "cell_type": "code",
   "execution_count": 10,
   "id": "d1f90454",
   "metadata": {},
   "outputs": [
    {
     "name": "stdout",
     "output_type": "stream",
     "text": [
      "<class 'pandas.core.frame.DataFrame'>\n",
      "RangeIndex: 2 entries, 0 to 1\n",
      "Data columns (total 4 columns):\n",
      " #   Column             Non-Null Count  Dtype \n",
      "---  ------             --------------  ----- \n",
      " 0   subscription_type  2 non-null      object\n",
      " 1   minute_price       2 non-null      int64 \n",
      " 2   start_ride_price   2 non-null      int64 \n",
      " 3   subscription_fee   2 non-null      int64 \n",
      "dtypes: int64(3), object(1)\n",
      "memory usage: 192.0+ bytes\n"
     ]
    }
   ],
   "source": [
    "data_sub.info()"
   ]
  },
  {
   "cell_type": "markdown",
   "id": "0ff2f671",
   "metadata": {},
   "source": [
    "Все типы данных верны, кроме даты."
   ]
  },
  {
   "cell_type": "markdown",
   "id": "e95ebca7",
   "metadata": {},
   "source": [
    "#### Шаг 2. Предобработка данных"
   ]
  },
  {
   "cell_type": "markdown",
   "id": "4c06a0dc",
   "metadata": {},
   "source": [
    "##### Заемна типа данных в столбце date и добавление столбца month"
   ]
  },
  {
   "cell_type": "code",
   "execution_count": 11,
   "id": "af6d202c",
   "metadata": {},
   "outputs": [],
   "source": [
    "data_riders['date'] = pd.to_datetime(data_riders['date'], format = '%Y-%m-%d')"
   ]
  },
  {
   "cell_type": "code",
   "execution_count": 12,
   "id": "a2325fcd",
   "metadata": {},
   "outputs": [
    {
     "data": {
      "text/plain": [
       "0   2021-01-01\n",
       "1   2021-01-18\n",
       "2   2021-04-20\n",
       "3   2021-08-11\n",
       "4   2021-08-28\n",
       "Name: date, dtype: datetime64[ns]"
      ]
     },
     "execution_count": 12,
     "metadata": {},
     "output_type": "execute_result"
    }
   ],
   "source": [
    "data_riders['date'].head(5)"
   ]
  },
  {
   "cell_type": "code",
   "execution_count": 13,
   "id": "b80903d0",
   "metadata": {},
   "outputs": [
    {
     "data": {
      "text/plain": [
       "array([2021])"
      ]
     },
     "execution_count": 13,
     "metadata": {},
     "output_type": "execute_result"
    }
   ],
   "source": [
    "data_riders['date'].dt.year.unique()"
   ]
  },
  {
   "cell_type": "code",
   "execution_count": 14,
   "id": "88ee96d1",
   "metadata": {},
   "outputs": [],
   "source": [
    "data_riders['month'] = data_riders['date'].dt.month"
   ]
  },
  {
   "cell_type": "code",
   "execution_count": 15,
   "id": "8e3ba8e3",
   "metadata": {},
   "outputs": [
    {
     "data": {
      "text/html": [
       "<div>\n",
       "<style scoped>\n",
       "    .dataframe tbody tr th:only-of-type {\n",
       "        vertical-align: middle;\n",
       "    }\n",
       "\n",
       "    .dataframe tbody tr th {\n",
       "        vertical-align: top;\n",
       "    }\n",
       "\n",
       "    .dataframe thead th {\n",
       "        text-align: right;\n",
       "    }\n",
       "</style>\n",
       "<table border=\"1\" class=\"dataframe\">\n",
       "  <thead>\n",
       "    <tr style=\"text-align: right;\">\n",
       "      <th></th>\n",
       "      <th>user_id</th>\n",
       "      <th>distance</th>\n",
       "      <th>duration</th>\n",
       "      <th>date</th>\n",
       "      <th>month</th>\n",
       "    </tr>\n",
       "  </thead>\n",
       "  <tbody>\n",
       "    <tr>\n",
       "      <th>0</th>\n",
       "      <td>1</td>\n",
       "      <td>4409.919140</td>\n",
       "      <td>25.599769</td>\n",
       "      <td>2021-01-01</td>\n",
       "      <td>1</td>\n",
       "    </tr>\n",
       "    <tr>\n",
       "      <th>1</th>\n",
       "      <td>1</td>\n",
       "      <td>2617.592153</td>\n",
       "      <td>15.816871</td>\n",
       "      <td>2021-01-18</td>\n",
       "      <td>1</td>\n",
       "    </tr>\n",
       "    <tr>\n",
       "      <th>2</th>\n",
       "      <td>1</td>\n",
       "      <td>754.159807</td>\n",
       "      <td>6.232113</td>\n",
       "      <td>2021-04-20</td>\n",
       "      <td>4</td>\n",
       "    </tr>\n",
       "    <tr>\n",
       "      <th>3</th>\n",
       "      <td>1</td>\n",
       "      <td>2694.783254</td>\n",
       "      <td>18.511000</td>\n",
       "      <td>2021-08-11</td>\n",
       "      <td>8</td>\n",
       "    </tr>\n",
       "    <tr>\n",
       "      <th>4</th>\n",
       "      <td>1</td>\n",
       "      <td>4028.687306</td>\n",
       "      <td>26.265803</td>\n",
       "      <td>2021-08-28</td>\n",
       "      <td>8</td>\n",
       "    </tr>\n",
       "  </tbody>\n",
       "</table>\n",
       "</div>"
      ],
      "text/plain": [
       "   user_id     distance   duration       date  month\n",
       "0        1  4409.919140  25.599769 2021-01-01      1\n",
       "1        1  2617.592153  15.816871 2021-01-18      1\n",
       "2        1   754.159807   6.232113 2021-04-20      4\n",
       "3        1  2694.783254  18.511000 2021-08-11      8\n",
       "4        1  4028.687306  26.265803 2021-08-28      8"
      ]
     },
     "execution_count": 15,
     "metadata": {},
     "output_type": "execute_result"
    }
   ],
   "source": [
    "data_riders.head(5)"
   ]
  },
  {
   "cell_type": "markdown",
   "id": "2b3b9815",
   "metadata": {},
   "source": [
    "##### Рассмотрим количество пропусков и дубликатов в таблицах"
   ]
  },
  {
   "cell_type": "code",
   "execution_count": 16,
   "id": "0160b333",
   "metadata": {},
   "outputs": [
    {
     "data": {
      "text/plain": [
       "user_id              0\n",
       "name                 0\n",
       "age                  0\n",
       "city                 0\n",
       "subscription_type    0\n",
       "dtype: int64"
      ]
     },
     "execution_count": 16,
     "metadata": {},
     "output_type": "execute_result"
    }
   ],
   "source": [
    "data_users.isna().sum()"
   ]
  },
  {
   "cell_type": "code",
   "execution_count": 17,
   "id": "6adc9c9e",
   "metadata": {},
   "outputs": [
    {
     "data": {
      "text/plain": [
       "user_id     0\n",
       "distance    0\n",
       "duration    0\n",
       "date        0\n",
       "month       0\n",
       "dtype: int64"
      ]
     },
     "execution_count": 17,
     "metadata": {},
     "output_type": "execute_result"
    }
   ],
   "source": [
    "data_riders.isna().sum()"
   ]
  },
  {
   "cell_type": "code",
   "execution_count": 18,
   "id": "5d5af8bc",
   "metadata": {},
   "outputs": [
    {
     "data": {
      "text/plain": [
       "subscription_type    0\n",
       "minute_price         0\n",
       "start_ride_price     0\n",
       "subscription_fee     0\n",
       "dtype: int64"
      ]
     },
     "execution_count": 18,
     "metadata": {},
     "output_type": "execute_result"
    }
   ],
   "source": [
    "data_sub.isna().sum()"
   ]
  },
  {
   "cell_type": "code",
   "execution_count": 19,
   "id": "8babe286",
   "metadata": {},
   "outputs": [
    {
     "data": {
      "text/plain": [
       "31"
      ]
     },
     "execution_count": 19,
     "metadata": {},
     "output_type": "execute_result"
    }
   ],
   "source": [
    "data_users.duplicated().sum()"
   ]
  },
  {
   "cell_type": "code",
   "execution_count": 20,
   "id": "98e8a106",
   "metadata": {},
   "outputs": [],
   "source": [
    "data_users.drop_duplicates(inplace=True)"
   ]
  },
  {
   "cell_type": "code",
   "execution_count": 21,
   "id": "ee824499",
   "metadata": {},
   "outputs": [
    {
     "data": {
      "text/plain": [
       "0"
      ]
     },
     "execution_count": 21,
     "metadata": {},
     "output_type": "execute_result"
    }
   ],
   "source": [
    "data_users.duplicated().sum()"
   ]
  },
  {
   "cell_type": "code",
   "execution_count": 22,
   "id": "7c62f865",
   "metadata": {},
   "outputs": [
    {
     "data": {
      "text/plain": [
       "0"
      ]
     },
     "execution_count": 22,
     "metadata": {},
     "output_type": "execute_result"
    }
   ],
   "source": [
    "data_riders.duplicated().sum()"
   ]
  },
  {
   "cell_type": "markdown",
   "id": "58488ced",
   "metadata": {},
   "source": [
    "Пропущенных данных в таблицах нет.\n",
    "\n",
    "Дубликаты имеются в таблице о пользователях, удалили дубликаты.\n",
    "\n",
    "Добавили столбец month с номер месяца."
   ]
  },
  {
   "cell_type": "markdown",
   "id": "212593c7",
   "metadata": {},
   "source": [
    "#### Шаг 3. Исследовательский анализ данных"
   ]
  },
  {
   "cell_type": "markdown",
   "id": "659f84ff",
   "metadata": {},
   "source": [
    "##### Частота встречаемости городов"
   ]
  },
  {
   "cell_type": "code",
   "execution_count": 23,
   "id": "e3a4274c",
   "metadata": {},
   "outputs": [
    {
     "data": {
      "text/plain": [
       "Пятигорск         219\n",
       "Екатеринбург      204\n",
       "Ростов-на-Дону    198\n",
       "Краснодар         193\n",
       "Сочи              189\n",
       "Омск              183\n",
       "Тюмень            180\n",
       "Москва            168\n",
       "Name: city, dtype: int64"
      ]
     },
     "execution_count": 23,
     "metadata": {},
     "output_type": "execute_result"
    }
   ],
   "source": [
    "count_users_by_city = data_users['city'].value_counts()\n",
    "count_users_by_city"
   ]
  },
  {
   "cell_type": "code",
   "execution_count": 24,
   "id": "9e595697",
   "metadata": {},
   "outputs": [
    {
     "data": {
      "text/plain": [
       "Пятигорск         14.0\n",
       "Екатеринбург      13.0\n",
       "Ростов-на-Дону    13.0\n",
       "Краснодар         13.0\n",
       "Сочи              12.0\n",
       "Омск              12.0\n",
       "Тюмень            12.0\n",
       "Москва            11.0\n",
       "Name: city, dtype: float64"
      ]
     },
     "execution_count": 24,
     "metadata": {},
     "output_type": "execute_result"
    }
   ],
   "source": [
    "count_users_by_city['rate'] = round(data_users['city'].value_counts() / count_users_by_city.sum(), 2) * 100\n",
    "count_users_by_city['rate']"
   ]
  },
  {
   "cell_type": "code",
   "execution_count": 25,
   "id": "222ae633",
   "metadata": {},
   "outputs": [
    {
     "data": {
      "image/png": "[encoded data removed]",
      "text/plain": [
       "<Figure size 360x360 with 1 Axes>"
      ]
     },
     "metadata": {},
     "output_type": "display_data"
    }
   ],
   "source": [
    "data_users['city'].value_counts().plot(\n",
    "    kind = 'pie', \n",
    "    y = count_users_by_city,\n",
    "    autopct = '%1.0f%%',\n",
    "    figsize=(5,5), \n",
    "    title = 'Распределение пользователей по городам');"
   ]
  },
  {
   "cell_type": "code",
   "execution_count": 26,
   "id": "15e0fbe6",
   "metadata": {},
   "outputs": [
    {
     "data": {
      "image/png": "[encoded data removed]",
      "text/plain": [
       "<Figure size 432x288 with 1 Axes>"
      ]
     },
     "metadata": {
      "needs_background": "light"
     },
     "output_type": "display_data"
    }
   ],
   "source": [
    "plt.hist(data_users['city'], bins =15)\n",
    "plt.title('Распределение пользователей по городам')\n",
    "plt.xlabel('Города')\n",
    "plt.ylabel('Количество пользователей')\n",
    "plt.grid()\n",
    "plt.show()"
   ]
  },
  {
   "cell_type": "markdown",
   "id": "4f13dbfe",
   "metadata": {},
   "source": [
    "Распледеление пользователей по городам практически равномерно между всеми городами. \n",
    "\n",
    "Самый популярный город Пятигорск, наименее популярный Москва"
   ]
  },
  {
   "cell_type": "markdown",
   "id": "ee08322a",
   "metadata": {},
   "source": [
    "##### Соотношение пользователей с подпиской и без подписки"
   ]
  },
  {
   "cell_type": "code",
   "execution_count": 27,
   "id": "cfb47022",
   "metadata": {},
   "outputs": [
    {
     "data": {
      "text/plain": [
       "free     835\n",
       "ultra    699\n",
       "Name: subscription_type, dtype: int64"
      ]
     },
     "execution_count": 27,
     "metadata": {},
     "output_type": "execute_result"
    }
   ],
   "source": [
    "count_sub = data_users['subscription_type'].value_counts()\n",
    "count_sub"
   ]
  },
  {
   "cell_type": "code",
   "execution_count": 28,
   "id": "0660fb85",
   "metadata": {},
   "outputs": [
    {
     "data": {
      "image/png": "[encoded data removed]",
      "text/plain": [
       "<Figure size 360x360 with 1 Axes>"
      ]
     },
     "metadata": {},
     "output_type": "display_data"
    }
   ],
   "source": [
    "data_users['subscription_type'].value_counts().plot(\n",
    "    kind = 'pie', \n",
    "    y = count_sub, \n",
    "    autopct = '%1.0f%%', \n",
    "    figsize=(5,5),\n",
    "    title = 'Процентное соотношение пользователей в зависимости от тарифа');"
   ]
  },
  {
   "cell_type": "markdown",
   "id": "c133f463",
   "metadata": {},
   "source": [
    "Колиество пользователей без подписки больше на 10% от общего числа пользователей."
   ]
  },
  {
   "cell_type": "markdown",
   "id": "28471553",
   "metadata": {},
   "source": [
    "##### Возраст пользователей"
   ]
  },
  {
   "cell_type": "code",
   "execution_count": 29,
   "id": "7bbc90ea",
   "metadata": {},
   "outputs": [
    {
     "data": {
      "text/plain": [
       "664     12\n",
       "66      12\n",
       "727     12\n",
       "34      12\n",
       "235     13\n",
       "        ..\n",
       "383     38\n",
       "804     38\n",
       "453     38\n",
       "961     39\n",
       "1201    43\n",
       "Name: age, Length: 1534, dtype: int64"
      ]
     },
     "execution_count": 29,
     "metadata": {},
     "output_type": "execute_result"
    }
   ],
   "source": [
    "data_users['age'].sort_values()"
   ]
  },
  {
   "cell_type": "code",
   "execution_count": 30,
   "id": "e10fadb9",
   "metadata": {},
   "outputs": [
    {
     "data": {
      "image/png": "[encoded data removed]",
      "text/plain": [
       "<Figure size 432x288 with 1 Axes>"
      ]
     },
     "metadata": {
      "needs_background": "light"
     },
     "output_type": "display_data"
    }
   ],
   "source": [
    "plt.hist(data_users['age'], bins = 10)\n",
    "plt.title('Возраст пользователей')\n",
    "plt.xlabel('Возраст')\n",
    "plt.ylabel('Количество пользователей')\n",
    "plt.grid()\n",
    "plt.show()"
   ]
  },
  {
   "cell_type": "markdown",
   "id": "04aecd39",
   "metadata": {},
   "source": [
    "Самый молодой пользователь 12 лет, самый старший 43 года.\n",
    "\n",
    "Средний возраст пользователя по гистограмме видно что от 20 до 30 лет."
   ]
  },
  {
   "cell_type": "markdown",
   "id": "3084684c",
   "metadata": {},
   "source": [
    "##### Расстояние, которое пользователь преодолел за одну поездку"
   ]
  },
  {
   "cell_type": "code",
   "execution_count": 31,
   "id": "6634e203",
   "metadata": {},
   "outputs": [
    {
     "data": {
      "text/plain": [
       "11555       0.86\n",
       "9541        2.57\n",
       "13690       4.33\n",
       "8658        6.78\n",
       "7841        7.10\n",
       "          ...   \n",
       "17242    6724.93\n",
       "17171    6760.94\n",
       "15580    6908.49\n",
       "16484    7066.00\n",
       "16309    7211.01\n",
       "Name: distance, Length: 18068, dtype: float64"
      ]
     },
     "execution_count": 31,
     "metadata": {},
     "output_type": "execute_result"
    }
   ],
   "source": [
    "round(data_riders['distance'].sort_values(), 2)"
   ]
  },
  {
   "cell_type": "code",
   "execution_count": 32,
   "id": "5be3401c",
   "metadata": {},
   "outputs": [
    {
     "data": {
      "image/png": "[encoded data removed]",
      "text/plain": [
       "<Figure size 432x288 with 1 Axes>"
      ]
     },
     "metadata": {
      "needs_background": "light"
     },
     "output_type": "display_data"
    }
   ],
   "source": [
    "sns.boxplot(x=data_riders['distance'], color='green')\n",
    "plt.title('Расстояние, преодоленное за одну поездку')\n",
    "plt.xlabel('Расстояние, м')\n",
    "_ = plt.xlim(0, 7212)\n",
    "plt.grid()"
   ]
  },
  {
   "cell_type": "code",
   "execution_count": 33,
   "id": "23a74510",
   "metadata": {},
   "outputs": [
    {
     "data": {
      "image/png": "[encoded data removed]",
      "text/plain": [
       "<Figure size 432x288 with 1 Axes>"
      ]
     },
     "metadata": {
      "needs_background": "light"
     },
     "output_type": "display_data"
    }
   ],
   "source": [
    "plt.hist(data_riders['distance'], bins = 10)\n",
    "plt.title('Расстояние, преодоленное за одну поездку')\n",
    "plt.xlabel('Расстояние, м')\n",
    "plt.ylabel('Количество пользователей')\n",
    "plt.grid()\n",
    "plt.show()"
   ]
  },
  {
   "cell_type": "markdown",
   "id": "25f8b87f",
   "metadata": {},
   "source": [
    "Самая короткая поездка 0,86 метра, самая длинная 7211,01 метра.\n",
    "\n",
    "Средняя длина поездки лежит в диапозоне от 2 км до 5 км."
   ]
  },
  {
   "cell_type": "markdown",
   "id": "b0134133",
   "metadata": {},
   "source": [
    "##### Продолжительность поездок"
   ]
  },
  {
   "cell_type": "code",
   "execution_count": 34,
   "id": "44ad5efd",
   "metadata": {},
   "outputs": [
    {
     "data": {
      "text/plain": [
       "12013     0.500000\n",
       "17314     0.500000\n",
       "15029     0.500000\n",
       "7437      0.500000\n",
       "12967     0.500000\n",
       "           ...    \n",
       "6453     38.265229\n",
       "1998     38.352763\n",
       "2623     39.526602\n",
       "4709     39.873856\n",
       "4215     40.823963\n",
       "Name: duration, Length: 18068, dtype: float64"
      ]
     },
     "execution_count": 34,
     "metadata": {},
     "output_type": "execute_result"
    }
   ],
   "source": [
    "data_riders['duration'].sort_values()"
   ]
  },
  {
   "cell_type": "code",
   "execution_count": 35,
   "id": "3ac214fb",
   "metadata": {},
   "outputs": [
    {
     "data": {
      "image/png": "[encoded data removed]",
      "text/plain": [
       "<Figure size 432x288 with 1 Axes>"
      ]
     },
     "metadata": {
      "needs_background": "light"
     },
     "output_type": "display_data"
    }
   ],
   "source": [
    "sns.boxplot(x = data_riders['duration'], color='green')\n",
    "plt.title('Время, проведенное в поездке')\n",
    "plt.xlabel('Время, минуты')\n",
    "_ = plt.xlim(0, 41)\n",
    "plt.grid()"
   ]
  },
  {
   "cell_type": "code",
   "execution_count": 36,
   "id": "53280110",
   "metadata": {},
   "outputs": [
    {
     "data": {
      "image/png": "[encoded data removed]",
      "text/plain": [
       "<Figure size 432x288 with 1 Axes>"
      ]
     },
     "metadata": {
      "needs_background": "light"
     },
     "output_type": "display_data"
    }
   ],
   "source": [
    "plt.hist(data_riders['duration'], bins = 10)\n",
    "plt.title('Время, проведенное в поездке')\n",
    "plt.xlabel('Время, минуты')\n",
    "plt.ylabel('Количество пользователей')\n",
    "plt.grid()\n",
    "plt.show()"
   ]
  },
  {
   "cell_type": "markdown",
   "id": "c629f7c2",
   "metadata": {},
   "source": [
    "Самая короткое время в поезде меньше 1 минуты, самая длинная почти 41 минута.\n",
    "\n",
    "Среднее время поездки лежит в диапазоне от 10 до 25 минут."
   ]
  },
  {
   "cell_type": "markdown",
   "id": "5a9408cd",
   "metadata": {},
   "source": [
    "##### Вывод"
   ]
  },
  {
   "cell_type": "markdown",
   "id": "8cd172dc",
   "metadata": {},
   "source": [
    "Количество пользователей по городам распределено примерно одинаково, нет выдающихся значений. Самым популярным городом  по количеству пользователей является Пятигорск - 219 пользователей. Меньше всего пользователей в Москве - 168. Связано это скорее всего с тем, что в Пятигорске у данного приложения меньше конкурентов и более развитая инфраструктура чем в Москве, так же это может быть связано из-за того что Пятигорск меньше и в нем удобнее пользоваться самокатом.\n",
    "\n",
    "Пользователей, использующих бесплатную подписку 835 человек, что является 54% от общего числа пользователей. Платной же подпиской пользуется 699 человек, что соответственно является 46%.\n",
    "\n",
    "Самыми младшими являются пользователи 12 лет.\n",
    "Самыми старшими - 43.\n",
    "В целом, пользователи приложения укладываются в промежуток от 20 до 30 лет.\n",
    "\n",
    "Самая короткая дистанция  0.86 м\n",
    "Самая длинная  7.2 км\n",
    "В основном пользователи проезжают от 2.5 км до 3.7 км.\n",
    "\n",
    "Самые короткие поездки - 30 секунд. Возможно пользователи просто передумали пользоваться самокатом либо же техническая неинсправность самого самоката.\n",
    "Самая длинная поездка заняла 40 минут.\n",
    "В основном же длительность поездки состовляет 14 - 22 минут."
   ]
  },
  {
   "cell_type": "markdown",
   "id": "4ef51331",
   "metadata": {},
   "source": [
    "#### Шаг 4. Объединение данных"
   ]
  },
  {
   "cell_type": "markdown",
   "id": "c75673dc",
   "metadata": {},
   "source": [
    "##### Объединим данные о пользователях, поездках и подписках в один датафрейм."
   ]
  },
  {
   "cell_type": "code",
   "execution_count": 37,
   "id": "dae184ab",
   "metadata": {},
   "outputs": [
    {
     "data": {
      "text/plain": [
       "(1534, 5)"
      ]
     },
     "execution_count": 37,
     "metadata": {},
     "output_type": "execute_result"
    }
   ],
   "source": [
    "data_users.shape"
   ]
  },
  {
   "cell_type": "code",
   "execution_count": 38,
   "id": "27ebfca5",
   "metadata": {},
   "outputs": [
    {
     "data": {
      "text/plain": [
       "(18068, 5)"
      ]
     },
     "execution_count": 38,
     "metadata": {},
     "output_type": "execute_result"
    }
   ],
   "source": [
    "data_riders.shape"
   ]
  },
  {
   "cell_type": "code",
   "execution_count": 39,
   "id": "970a6a8f",
   "metadata": {},
   "outputs": [
    {
     "data": {
      "text/plain": [
       "(2, 4)"
      ]
     },
     "execution_count": 39,
     "metadata": {},
     "output_type": "execute_result"
    }
   ],
   "source": [
    "data_sub.shape"
   ]
  },
  {
   "cell_type": "code",
   "execution_count": 40,
   "id": "6bf288b5",
   "metadata": {},
   "outputs": [
    {
     "data": {
      "text/html": [
       "<div>\n",
       "<style scoped>\n",
       "    .dataframe tbody tr th:only-of-type {\n",
       "        vertical-align: middle;\n",
       "    }\n",
       "\n",
       "    .dataframe tbody tr th {\n",
       "        vertical-align: top;\n",
       "    }\n",
       "\n",
       "    .dataframe thead th {\n",
       "        text-align: right;\n",
       "    }\n",
       "</style>\n",
       "<table border=\"1\" class=\"dataframe\">\n",
       "  <thead>\n",
       "    <tr style=\"text-align: right;\">\n",
       "      <th></th>\n",
       "      <th>user_id</th>\n",
       "      <th>name</th>\n",
       "      <th>age</th>\n",
       "      <th>city</th>\n",
       "      <th>subscription_type</th>\n",
       "      <th>distance</th>\n",
       "      <th>duration</th>\n",
       "      <th>date</th>\n",
       "      <th>month</th>\n",
       "      <th>minute_price</th>\n",
       "      <th>start_ride_price</th>\n",
       "      <th>subscription_fee</th>\n",
       "    </tr>\n",
       "  </thead>\n",
       "  <tbody>\n",
       "    <tr>\n",
       "      <th>0</th>\n",
       "      <td>1</td>\n",
       "      <td>Кира</td>\n",
       "      <td>22</td>\n",
       "      <td>Тюмень</td>\n",
       "      <td>ultra</td>\n",
       "      <td>4409.919140</td>\n",
       "      <td>25.599769</td>\n",
       "      <td>2021-01-01</td>\n",
       "      <td>1</td>\n",
       "      <td>6</td>\n",
       "      <td>0</td>\n",
       "      <td>199</td>\n",
       "    </tr>\n",
       "    <tr>\n",
       "      <th>1</th>\n",
       "      <td>1</td>\n",
       "      <td>Кира</td>\n",
       "      <td>22</td>\n",
       "      <td>Тюмень</td>\n",
       "      <td>ultra</td>\n",
       "      <td>2617.592153</td>\n",
       "      <td>15.816871</td>\n",
       "      <td>2021-01-18</td>\n",
       "      <td>1</td>\n",
       "      <td>6</td>\n",
       "      <td>0</td>\n",
       "      <td>199</td>\n",
       "    </tr>\n",
       "    <tr>\n",
       "      <th>2</th>\n",
       "      <td>1</td>\n",
       "      <td>Кира</td>\n",
       "      <td>22</td>\n",
       "      <td>Тюмень</td>\n",
       "      <td>ultra</td>\n",
       "      <td>754.159807</td>\n",
       "      <td>6.232113</td>\n",
       "      <td>2021-04-20</td>\n",
       "      <td>4</td>\n",
       "      <td>6</td>\n",
       "      <td>0</td>\n",
       "      <td>199</td>\n",
       "    </tr>\n",
       "    <tr>\n",
       "      <th>3</th>\n",
       "      <td>1</td>\n",
       "      <td>Кира</td>\n",
       "      <td>22</td>\n",
       "      <td>Тюмень</td>\n",
       "      <td>ultra</td>\n",
       "      <td>2694.783254</td>\n",
       "      <td>18.511000</td>\n",
       "      <td>2021-08-11</td>\n",
       "      <td>8</td>\n",
       "      <td>6</td>\n",
       "      <td>0</td>\n",
       "      <td>199</td>\n",
       "    </tr>\n",
       "    <tr>\n",
       "      <th>4</th>\n",
       "      <td>1</td>\n",
       "      <td>Кира</td>\n",
       "      <td>22</td>\n",
       "      <td>Тюмень</td>\n",
       "      <td>ultra</td>\n",
       "      <td>4028.687306</td>\n",
       "      <td>26.265803</td>\n",
       "      <td>2021-08-28</td>\n",
       "      <td>8</td>\n",
       "      <td>6</td>\n",
       "      <td>0</td>\n",
       "      <td>199</td>\n",
       "    </tr>\n",
       "    <tr>\n",
       "      <th>...</th>\n",
       "      <td>...</td>\n",
       "      <td>...</td>\n",
       "      <td>...</td>\n",
       "      <td>...</td>\n",
       "      <td>...</td>\n",
       "      <td>...</td>\n",
       "      <td>...</td>\n",
       "      <td>...</td>\n",
       "      <td>...</td>\n",
       "      <td>...</td>\n",
       "      <td>...</td>\n",
       "      <td>...</td>\n",
       "    </tr>\n",
       "    <tr>\n",
       "      <th>18063</th>\n",
       "      <td>1534</td>\n",
       "      <td>Альберт</td>\n",
       "      <td>25</td>\n",
       "      <td>Краснодар</td>\n",
       "      <td>free</td>\n",
       "      <td>3781.098080</td>\n",
       "      <td>19.822962</td>\n",
       "      <td>2021-11-04</td>\n",
       "      <td>11</td>\n",
       "      <td>8</td>\n",
       "      <td>50</td>\n",
       "      <td>0</td>\n",
       "    </tr>\n",
       "    <tr>\n",
       "      <th>18064</th>\n",
       "      <td>1534</td>\n",
       "      <td>Альберт</td>\n",
       "      <td>25</td>\n",
       "      <td>Краснодар</td>\n",
       "      <td>free</td>\n",
       "      <td>2840.423057</td>\n",
       "      <td>21.409799</td>\n",
       "      <td>2021-11-16</td>\n",
       "      <td>11</td>\n",
       "      <td>8</td>\n",
       "      <td>50</td>\n",
       "      <td>0</td>\n",
       "    </tr>\n",
       "    <tr>\n",
       "      <th>18065</th>\n",
       "      <td>1534</td>\n",
       "      <td>Альберт</td>\n",
       "      <td>25</td>\n",
       "      <td>Краснодар</td>\n",
       "      <td>free</td>\n",
       "      <td>3826.185507</td>\n",
       "      <td>18.435051</td>\n",
       "      <td>2021-11-18</td>\n",
       "      <td>11</td>\n",
       "      <td>8</td>\n",
       "      <td>50</td>\n",
       "      <td>0</td>\n",
       "    </tr>\n",
       "    <tr>\n",
       "      <th>18066</th>\n",
       "      <td>1534</td>\n",
       "      <td>Альберт</td>\n",
       "      <td>25</td>\n",
       "      <td>Краснодар</td>\n",
       "      <td>free</td>\n",
       "      <td>2902.308661</td>\n",
       "      <td>16.674362</td>\n",
       "      <td>2021-11-27</td>\n",
       "      <td>11</td>\n",
       "      <td>8</td>\n",
       "      <td>50</td>\n",
       "      <td>0</td>\n",
       "    </tr>\n",
       "    <tr>\n",
       "      <th>18067</th>\n",
       "      <td>1534</td>\n",
       "      <td>Альберт</td>\n",
       "      <td>25</td>\n",
       "      <td>Краснодар</td>\n",
       "      <td>free</td>\n",
       "      <td>2371.711192</td>\n",
       "      <td>15.893917</td>\n",
       "      <td>2021-12-29</td>\n",
       "      <td>12</td>\n",
       "      <td>8</td>\n",
       "      <td>50</td>\n",
       "      <td>0</td>\n",
       "    </tr>\n",
       "  </tbody>\n",
       "</table>\n",
       "<p>18068 rows × 12 columns</p>\n",
       "</div>"
      ],
      "text/plain": [
       "       user_id     name  age       city subscription_type     distance  \\\n",
       "0            1     Кира   22     Тюмень             ultra  4409.919140   \n",
       "1            1     Кира   22     Тюмень             ultra  2617.592153   \n",
       "2            1     Кира   22     Тюмень             ultra   754.159807   \n",
       "3            1     Кира   22     Тюмень             ultra  2694.783254   \n",
       "4            1     Кира   22     Тюмень             ultra  4028.687306   \n",
       "...        ...      ...  ...        ...               ...          ...   \n",
       "18063     1534  Альберт   25  Краснодар              free  3781.098080   \n",
       "18064     1534  Альберт   25  Краснодар              free  2840.423057   \n",
       "18065     1534  Альберт   25  Краснодар              free  3826.185507   \n",
       "18066     1534  Альберт   25  Краснодар              free  2902.308661   \n",
       "18067     1534  Альберт   25  Краснодар              free  2371.711192   \n",
       "\n",
       "        duration       date  month  minute_price  start_ride_price  \\\n",
       "0      25.599769 2021-01-01      1             6                 0   \n",
       "1      15.816871 2021-01-18      1             6                 0   \n",
       "2       6.232113 2021-04-20      4             6                 0   \n",
       "3      18.511000 2021-08-11      8             6                 0   \n",
       "4      26.265803 2021-08-28      8             6                 0   \n",
       "...          ...        ...    ...           ...               ...   \n",
       "18063  19.822962 2021-11-04     11             8                50   \n",
       "18064  21.409799 2021-11-16     11             8                50   \n",
       "18065  18.435051 2021-11-18     11             8                50   \n",
       "18066  16.674362 2021-11-27     11             8                50   \n",
       "18067  15.893917 2021-12-29     12             8                50   \n",
       "\n",
       "       subscription_fee  \n",
       "0                   199  \n",
       "1                   199  \n",
       "2                   199  \n",
       "3                   199  \n",
       "4                   199  \n",
       "...                 ...  \n",
       "18063                 0  \n",
       "18064                 0  \n",
       "18065                 0  \n",
       "18066                 0  \n",
       "18067                 0  \n",
       "\n",
       "[18068 rows x 12 columns]"
      ]
     },
     "execution_count": 40,
     "metadata": {},
     "output_type": "execute_result"
    }
   ],
   "source": [
    "all_data = data_users.merge(data_riders)\n",
    "all_data = all_data.merge(data_sub)\n",
    "all_data"
   ]
  },
  {
   "cell_type": "code",
   "execution_count": 41,
   "id": "2299cf5b",
   "metadata": {},
   "outputs": [
    {
     "data": {
      "text/plain": [
       "(18068, 12)"
      ]
     },
     "execution_count": 41,
     "metadata": {},
     "output_type": "execute_result"
    }
   ],
   "source": [
    "all_data.shape"
   ]
  },
  {
   "cell_type": "markdown",
   "id": "a0f33e36",
   "metadata": {},
   "source": [
    "##### Создадим датафрейм с данными о пользователях без подписки"
   ]
  },
  {
   "cell_type": "code",
   "execution_count": 42,
   "id": "507df198",
   "metadata": {},
   "outputs": [
    {
     "data": {
      "text/html": [
       "<div>\n",
       "<style scoped>\n",
       "    .dataframe tbody tr th:only-of-type {\n",
       "        vertical-align: middle;\n",
       "    }\n",
       "\n",
       "    .dataframe tbody tr th {\n",
       "        vertical-align: top;\n",
       "    }\n",
       "\n",
       "    .dataframe thead th {\n",
       "        text-align: right;\n",
       "    }\n",
       "</style>\n",
       "<table border=\"1\" class=\"dataframe\">\n",
       "  <thead>\n",
       "    <tr style=\"text-align: right;\">\n",
       "      <th></th>\n",
       "      <th>user_id</th>\n",
       "      <th>name</th>\n",
       "      <th>age</th>\n",
       "      <th>city</th>\n",
       "      <th>subscription_type</th>\n",
       "      <th>distance</th>\n",
       "      <th>duration</th>\n",
       "      <th>date</th>\n",
       "      <th>month</th>\n",
       "      <th>minute_price</th>\n",
       "      <th>start_ride_price</th>\n",
       "      <th>subscription_fee</th>\n",
       "    </tr>\n",
       "  </thead>\n",
       "  <tbody>\n",
       "    <tr>\n",
       "      <th>6500</th>\n",
       "      <td>700</td>\n",
       "      <td>Айдар</td>\n",
       "      <td>22</td>\n",
       "      <td>Омск</td>\n",
       "      <td>free</td>\n",
       "      <td>2515.690719</td>\n",
       "      <td>14.944286</td>\n",
       "      <td>2021-01-02</td>\n",
       "      <td>1</td>\n",
       "      <td>8</td>\n",
       "      <td>50</td>\n",
       "      <td>0</td>\n",
       "    </tr>\n",
       "    <tr>\n",
       "      <th>6501</th>\n",
       "      <td>700</td>\n",
       "      <td>Айдар</td>\n",
       "      <td>22</td>\n",
       "      <td>Омск</td>\n",
       "      <td>free</td>\n",
       "      <td>846.932642</td>\n",
       "      <td>16.234663</td>\n",
       "      <td>2021-02-01</td>\n",
       "      <td>2</td>\n",
       "      <td>8</td>\n",
       "      <td>50</td>\n",
       "      <td>0</td>\n",
       "    </tr>\n",
       "    <tr>\n",
       "      <th>6502</th>\n",
       "      <td>700</td>\n",
       "      <td>Айдар</td>\n",
       "      <td>22</td>\n",
       "      <td>Омск</td>\n",
       "      <td>free</td>\n",
       "      <td>4004.434142</td>\n",
       "      <td>20.016628</td>\n",
       "      <td>2021-02-04</td>\n",
       "      <td>2</td>\n",
       "      <td>8</td>\n",
       "      <td>50</td>\n",
       "      <td>0</td>\n",
       "    </tr>\n",
       "    <tr>\n",
       "      <th>6503</th>\n",
       "      <td>700</td>\n",
       "      <td>Айдар</td>\n",
       "      <td>22</td>\n",
       "      <td>Омск</td>\n",
       "      <td>free</td>\n",
       "      <td>1205.911290</td>\n",
       "      <td>9.782872</td>\n",
       "      <td>2021-02-10</td>\n",
       "      <td>2</td>\n",
       "      <td>8</td>\n",
       "      <td>50</td>\n",
       "      <td>0</td>\n",
       "    </tr>\n",
       "    <tr>\n",
       "      <th>6504</th>\n",
       "      <td>700</td>\n",
       "      <td>Айдар</td>\n",
       "      <td>22</td>\n",
       "      <td>Омск</td>\n",
       "      <td>free</td>\n",
       "      <td>3047.379435</td>\n",
       "      <td>17.427673</td>\n",
       "      <td>2021-02-14</td>\n",
       "      <td>2</td>\n",
       "      <td>8</td>\n",
       "      <td>50</td>\n",
       "      <td>0</td>\n",
       "    </tr>\n",
       "    <tr>\n",
       "      <th>...</th>\n",
       "      <td>...</td>\n",
       "      <td>...</td>\n",
       "      <td>...</td>\n",
       "      <td>...</td>\n",
       "      <td>...</td>\n",
       "      <td>...</td>\n",
       "      <td>...</td>\n",
       "      <td>...</td>\n",
       "      <td>...</td>\n",
       "      <td>...</td>\n",
       "      <td>...</td>\n",
       "      <td>...</td>\n",
       "    </tr>\n",
       "    <tr>\n",
       "      <th>18063</th>\n",
       "      <td>1534</td>\n",
       "      <td>Альберт</td>\n",
       "      <td>25</td>\n",
       "      <td>Краснодар</td>\n",
       "      <td>free</td>\n",
       "      <td>3781.098080</td>\n",
       "      <td>19.822962</td>\n",
       "      <td>2021-11-04</td>\n",
       "      <td>11</td>\n",
       "      <td>8</td>\n",
       "      <td>50</td>\n",
       "      <td>0</td>\n",
       "    </tr>\n",
       "    <tr>\n",
       "      <th>18064</th>\n",
       "      <td>1534</td>\n",
       "      <td>Альберт</td>\n",
       "      <td>25</td>\n",
       "      <td>Краснодар</td>\n",
       "      <td>free</td>\n",
       "      <td>2840.423057</td>\n",
       "      <td>21.409799</td>\n",
       "      <td>2021-11-16</td>\n",
       "      <td>11</td>\n",
       "      <td>8</td>\n",
       "      <td>50</td>\n",
       "      <td>0</td>\n",
       "    </tr>\n",
       "    <tr>\n",
       "      <th>18065</th>\n",
       "      <td>1534</td>\n",
       "      <td>Альберт</td>\n",
       "      <td>25</td>\n",
       "      <td>Краснодар</td>\n",
       "      <td>free</td>\n",
       "      <td>3826.185507</td>\n",
       "      <td>18.435051</td>\n",
       "      <td>2021-11-18</td>\n",
       "      <td>11</td>\n",
       "      <td>8</td>\n",
       "      <td>50</td>\n",
       "      <td>0</td>\n",
       "    </tr>\n",
       "    <tr>\n",
       "      <th>18066</th>\n",
       "      <td>1534</td>\n",
       "      <td>Альберт</td>\n",
       "      <td>25</td>\n",
       "      <td>Краснодар</td>\n",
       "      <td>free</td>\n",
       "      <td>2902.308661</td>\n",
       "      <td>16.674362</td>\n",
       "      <td>2021-11-27</td>\n",
       "      <td>11</td>\n",
       "      <td>8</td>\n",
       "      <td>50</td>\n",
       "      <td>0</td>\n",
       "    </tr>\n",
       "    <tr>\n",
       "      <th>18067</th>\n",
       "      <td>1534</td>\n",
       "      <td>Альберт</td>\n",
       "      <td>25</td>\n",
       "      <td>Краснодар</td>\n",
       "      <td>free</td>\n",
       "      <td>2371.711192</td>\n",
       "      <td>15.893917</td>\n",
       "      <td>2021-12-29</td>\n",
       "      <td>12</td>\n",
       "      <td>8</td>\n",
       "      <td>50</td>\n",
       "      <td>0</td>\n",
       "    </tr>\n",
       "  </tbody>\n",
       "</table>\n",
       "<p>11568 rows × 12 columns</p>\n",
       "</div>"
      ],
      "text/plain": [
       "       user_id     name  age       city subscription_type     distance  \\\n",
       "6500       700    Айдар   22       Омск              free  2515.690719   \n",
       "6501       700    Айдар   22       Омск              free   846.932642   \n",
       "6502       700    Айдар   22       Омск              free  4004.434142   \n",
       "6503       700    Айдар   22       Омск              free  1205.911290   \n",
       "6504       700    Айдар   22       Омск              free  3047.379435   \n",
       "...        ...      ...  ...        ...               ...          ...   \n",
       "18063     1534  Альберт   25  Краснодар              free  3781.098080   \n",
       "18064     1534  Альберт   25  Краснодар              free  2840.423057   \n",
       "18065     1534  Альберт   25  Краснодар              free  3826.185507   \n",
       "18066     1534  Альберт   25  Краснодар              free  2902.308661   \n",
       "18067     1534  Альберт   25  Краснодар              free  2371.711192   \n",
       "\n",
       "        duration       date  month  minute_price  start_ride_price  \\\n",
       "6500   14.944286 2021-01-02      1             8                50   \n",
       "6501   16.234663 2021-02-01      2             8                50   \n",
       "6502   20.016628 2021-02-04      2             8                50   \n",
       "6503    9.782872 2021-02-10      2             8                50   \n",
       "6504   17.427673 2021-02-14      2             8                50   \n",
       "...          ...        ...    ...           ...               ...   \n",
       "18063  19.822962 2021-11-04     11             8                50   \n",
       "18064  21.409799 2021-11-16     11             8                50   \n",
       "18065  18.435051 2021-11-18     11             8                50   \n",
       "18066  16.674362 2021-11-27     11             8                50   \n",
       "18067  15.893917 2021-12-29     12             8                50   \n",
       "\n",
       "       subscription_fee  \n",
       "6500                  0  \n",
       "6501                  0  \n",
       "6502                  0  \n",
       "6503                  0  \n",
       "6504                  0  \n",
       "...                 ...  \n",
       "18063                 0  \n",
       "18064                 0  \n",
       "18065                 0  \n",
       "18066                 0  \n",
       "18067                 0  \n",
       "\n",
       "[11568 rows x 12 columns]"
      ]
     },
     "execution_count": 42,
     "metadata": {},
     "output_type": "execute_result"
    }
   ],
   "source": [
    "free_sub = all_data.query(\"`subscription_type` == 'free'\")\n",
    "free_sub"
   ]
  },
  {
   "cell_type": "markdown",
   "id": "fab53739",
   "metadata": {},
   "source": [
    "##### Визуализируем информацию о расстоянии и времени на бесплатном тарифе"
   ]
  },
  {
   "cell_type": "code",
   "execution_count": 43,
   "id": "b6e45e0b",
   "metadata": {},
   "outputs": [
    {
     "data": {
      "image/png": "[encoded data removed]",
      "text/plain": [
       "<Figure size 432x288 with 1 Axes>"
      ]
     },
     "metadata": {
      "needs_background": "light"
     },
     "output_type": "display_data"
    },
    {
     "data": {
      "text/plain": [
       "<Figure size 1440x1440 with 0 Axes>"
      ]
     },
     "metadata": {},
     "output_type": "display_data"
    }
   ],
   "source": [
    "plt.hist(free_sub['distance'], bins=50, range = (0, 7212))\n",
    "plt.title('Расстояние, бесплатный тариф')\n",
    "plt.xlabel('Расстояние, м')\n",
    "plt.ylabel('Количество поездок')\n",
    "plt.grid()\n",
    "plt.figure(figsize=(20,20))\n",
    "plt.show()"
   ]
  },
  {
   "cell_type": "code",
   "execution_count": 44,
   "id": "3cdffd54",
   "metadata": {},
   "outputs": [
    {
     "data": {
      "image/png": "[encoded data removed]",
      "text/plain": [
       "<Figure size 432x288 with 1 Axes>"
      ]
     },
     "metadata": {
      "needs_background": "light"
     },
     "output_type": "display_data"
    },
    {
     "data": {
      "text/plain": [
       "<Figure size 1440x1440 with 0 Axes>"
      ]
     },
     "metadata": {},
     "output_type": "display_data"
    }
   ],
   "source": [
    "plt.hist(free_sub['duration'], bins=50, range = (0, 41))\n",
    "plt.title('Время, бесплатный тариф')\n",
    "plt.xlabel('Время поездки, минуты')\n",
    "plt.ylabel('Количество поездок')\n",
    "plt.grid()\n",
    "plt.figure(figsize=(20,20))\n",
    "plt.show()"
   ]
  },
  {
   "cell_type": "markdown",
   "id": "d9c9a310",
   "metadata": {},
   "source": [
    "##### Создадим датафрейм с данными о пользователях с подпиской"
   ]
  },
  {
   "cell_type": "code",
   "execution_count": 45,
   "id": "32d793f2",
   "metadata": {
    "scrolled": true
   },
   "outputs": [
    {
     "data": {
      "text/html": [
       "<div>\n",
       "<style scoped>\n",
       "    .dataframe tbody tr th:only-of-type {\n",
       "        vertical-align: middle;\n",
       "    }\n",
       "\n",
       "    .dataframe tbody tr th {\n",
       "        vertical-align: top;\n",
       "    }\n",
       "\n",
       "    .dataframe thead th {\n",
       "        text-align: right;\n",
       "    }\n",
       "</style>\n",
       "<table border=\"1\" class=\"dataframe\">\n",
       "  <thead>\n",
       "    <tr style=\"text-align: right;\">\n",
       "      <th></th>\n",
       "      <th>user_id</th>\n",
       "      <th>name</th>\n",
       "      <th>age</th>\n",
       "      <th>city</th>\n",
       "      <th>subscription_type</th>\n",
       "      <th>distance</th>\n",
       "      <th>duration</th>\n",
       "      <th>date</th>\n",
       "      <th>month</th>\n",
       "      <th>minute_price</th>\n",
       "      <th>start_ride_price</th>\n",
       "      <th>subscription_fee</th>\n",
       "    </tr>\n",
       "  </thead>\n",
       "  <tbody>\n",
       "    <tr>\n",
       "      <th>0</th>\n",
       "      <td>1</td>\n",
       "      <td>Кира</td>\n",
       "      <td>22</td>\n",
       "      <td>Тюмень</td>\n",
       "      <td>ultra</td>\n",
       "      <td>4409.919140</td>\n",
       "      <td>25.599769</td>\n",
       "      <td>2021-01-01</td>\n",
       "      <td>1</td>\n",
       "      <td>6</td>\n",
       "      <td>0</td>\n",
       "      <td>199</td>\n",
       "    </tr>\n",
       "    <tr>\n",
       "      <th>1</th>\n",
       "      <td>1</td>\n",
       "      <td>Кира</td>\n",
       "      <td>22</td>\n",
       "      <td>Тюмень</td>\n",
       "      <td>ultra</td>\n",
       "      <td>2617.592153</td>\n",
       "      <td>15.816871</td>\n",
       "      <td>2021-01-18</td>\n",
       "      <td>1</td>\n",
       "      <td>6</td>\n",
       "      <td>0</td>\n",
       "      <td>199</td>\n",
       "    </tr>\n",
       "    <tr>\n",
       "      <th>2</th>\n",
       "      <td>1</td>\n",
       "      <td>Кира</td>\n",
       "      <td>22</td>\n",
       "      <td>Тюмень</td>\n",
       "      <td>ultra</td>\n",
       "      <td>754.159807</td>\n",
       "      <td>6.232113</td>\n",
       "      <td>2021-04-20</td>\n",
       "      <td>4</td>\n",
       "      <td>6</td>\n",
       "      <td>0</td>\n",
       "      <td>199</td>\n",
       "    </tr>\n",
       "    <tr>\n",
       "      <th>3</th>\n",
       "      <td>1</td>\n",
       "      <td>Кира</td>\n",
       "      <td>22</td>\n",
       "      <td>Тюмень</td>\n",
       "      <td>ultra</td>\n",
       "      <td>2694.783254</td>\n",
       "      <td>18.511000</td>\n",
       "      <td>2021-08-11</td>\n",
       "      <td>8</td>\n",
       "      <td>6</td>\n",
       "      <td>0</td>\n",
       "      <td>199</td>\n",
       "    </tr>\n",
       "    <tr>\n",
       "      <th>4</th>\n",
       "      <td>1</td>\n",
       "      <td>Кира</td>\n",
       "      <td>22</td>\n",
       "      <td>Тюмень</td>\n",
       "      <td>ultra</td>\n",
       "      <td>4028.687306</td>\n",
       "      <td>26.265803</td>\n",
       "      <td>2021-08-28</td>\n",
       "      <td>8</td>\n",
       "      <td>6</td>\n",
       "      <td>0</td>\n",
       "      <td>199</td>\n",
       "    </tr>\n",
       "    <tr>\n",
       "      <th>...</th>\n",
       "      <td>...</td>\n",
       "      <td>...</td>\n",
       "      <td>...</td>\n",
       "      <td>...</td>\n",
       "      <td>...</td>\n",
       "      <td>...</td>\n",
       "      <td>...</td>\n",
       "      <td>...</td>\n",
       "      <td>...</td>\n",
       "      <td>...</td>\n",
       "      <td>...</td>\n",
       "      <td>...</td>\n",
       "    </tr>\n",
       "    <tr>\n",
       "      <th>6495</th>\n",
       "      <td>699</td>\n",
       "      <td>Оксана</td>\n",
       "      <td>22</td>\n",
       "      <td>Москва</td>\n",
       "      <td>ultra</td>\n",
       "      <td>3973.046497</td>\n",
       "      <td>24.671163</td>\n",
       "      <td>2021-08-29</td>\n",
       "      <td>8</td>\n",
       "      <td>6</td>\n",
       "      <td>0</td>\n",
       "      <td>199</td>\n",
       "    </tr>\n",
       "    <tr>\n",
       "      <th>6496</th>\n",
       "      <td>699</td>\n",
       "      <td>Оксана</td>\n",
       "      <td>22</td>\n",
       "      <td>Москва</td>\n",
       "      <td>ultra</td>\n",
       "      <td>3288.702563</td>\n",
       "      <td>15.892886</td>\n",
       "      <td>2021-09-12</td>\n",
       "      <td>9</td>\n",
       "      <td>6</td>\n",
       "      <td>0</td>\n",
       "      <td>199</td>\n",
       "    </tr>\n",
       "    <tr>\n",
       "      <th>6497</th>\n",
       "      <td>699</td>\n",
       "      <td>Оксана</td>\n",
       "      <td>22</td>\n",
       "      <td>Москва</td>\n",
       "      <td>ultra</td>\n",
       "      <td>3076.159348</td>\n",
       "      <td>14.389525</td>\n",
       "      <td>2021-09-26</td>\n",
       "      <td>9</td>\n",
       "      <td>6</td>\n",
       "      <td>0</td>\n",
       "      <td>199</td>\n",
       "    </tr>\n",
       "    <tr>\n",
       "      <th>6498</th>\n",
       "      <td>699</td>\n",
       "      <td>Оксана</td>\n",
       "      <td>22</td>\n",
       "      <td>Москва</td>\n",
       "      <td>ultra</td>\n",
       "      <td>4707.845501</td>\n",
       "      <td>15.839579</td>\n",
       "      <td>2021-10-17</td>\n",
       "      <td>10</td>\n",
       "      <td>6</td>\n",
       "      <td>0</td>\n",
       "      <td>199</td>\n",
       "    </tr>\n",
       "    <tr>\n",
       "      <th>6499</th>\n",
       "      <td>699</td>\n",
       "      <td>Оксана</td>\n",
       "      <td>22</td>\n",
       "      <td>Москва</td>\n",
       "      <td>ultra</td>\n",
       "      <td>3202.890770</td>\n",
       "      <td>25.217345</td>\n",
       "      <td>2021-12-03</td>\n",
       "      <td>12</td>\n",
       "      <td>6</td>\n",
       "      <td>0</td>\n",
       "      <td>199</td>\n",
       "    </tr>\n",
       "  </tbody>\n",
       "</table>\n",
       "<p>6500 rows × 12 columns</p>\n",
       "</div>"
      ],
      "text/plain": [
       "      user_id    name  age    city subscription_type     distance   duration  \\\n",
       "0           1    Кира   22  Тюмень             ultra  4409.919140  25.599769   \n",
       "1           1    Кира   22  Тюмень             ultra  2617.592153  15.816871   \n",
       "2           1    Кира   22  Тюмень             ultra   754.159807   6.232113   \n",
       "3           1    Кира   22  Тюмень             ultra  2694.783254  18.511000   \n",
       "4           1    Кира   22  Тюмень             ultra  4028.687306  26.265803   \n",
       "...       ...     ...  ...     ...               ...          ...        ...   \n",
       "6495      699  Оксана   22  Москва             ultra  3973.046497  24.671163   \n",
       "6496      699  Оксана   22  Москва             ultra  3288.702563  15.892886   \n",
       "6497      699  Оксана   22  Москва             ultra  3076.159348  14.389525   \n",
       "6498      699  Оксана   22  Москва             ultra  4707.845501  15.839579   \n",
       "6499      699  Оксана   22  Москва             ultra  3202.890770  25.217345   \n",
       "\n",
       "           date  month  minute_price  start_ride_price  subscription_fee  \n",
       "0    2021-01-01      1             6                 0               199  \n",
       "1    2021-01-18      1             6                 0               199  \n",
       "2    2021-04-20      4             6                 0               199  \n",
       "3    2021-08-11      8             6                 0               199  \n",
       "4    2021-08-28      8             6                 0               199  \n",
       "...         ...    ...           ...               ...               ...  \n",
       "6495 2021-08-29      8             6                 0               199  \n",
       "6496 2021-09-12      9             6                 0               199  \n",
       "6497 2021-09-26      9             6                 0               199  \n",
       "6498 2021-10-17     10             6                 0               199  \n",
       "6499 2021-12-03     12             6                 0               199  \n",
       "\n",
       "[6500 rows x 12 columns]"
      ]
     },
     "execution_count": 45,
     "metadata": {},
     "output_type": "execute_result"
    }
   ],
   "source": [
    "ultra_sub = all_data.query(\"`subscription_type` == 'ultra'\")\n",
    "ultra_sub"
   ]
  },
  {
   "cell_type": "markdown",
   "id": "e79a760d",
   "metadata": {},
   "source": [
    "##### Визуализируем информацию о расстоянии и времени на платном тарифе"
   ]
  },
  {
   "cell_type": "code",
   "execution_count": 46,
   "id": "c867c674",
   "metadata": {},
   "outputs": [
    {
     "data": {
      "image/png": "[encoded data removed]",
      "text/plain": [
       "<Figure size 432x288 with 1 Axes>"
      ]
     },
     "metadata": {
      "needs_background": "light"
     },
     "output_type": "display_data"
    },
    {
     "data": {
      "text/plain": [
       "<Figure size 1440x1440 with 0 Axes>"
      ]
     },
     "metadata": {},
     "output_type": "display_data"
    }
   ],
   "source": [
    "plt.hist(ultra_sub['distance'], bins=50, range = (0, 7212))\n",
    "plt.title('Расстояние, платный тариф')\n",
    "plt.xlabel('Расстояние, м')\n",
    "plt.ylabel('Количество поездок')\n",
    "plt.grid()\n",
    "plt.figure(figsize=(20,20))\n",
    "plt.show()"
   ]
  },
  {
   "cell_type": "code",
   "execution_count": 47,
   "id": "17f21cfc",
   "metadata": {},
   "outputs": [
    {
     "data": {
      "image/png": "[encoded data removed]",
      "text/plain": [
       "<Figure size 432x288 with 1 Axes>"
      ]
     },
     "metadata": {
      "needs_background": "light"
     },
     "output_type": "display_data"
    },
    {
     "data": {
      "text/plain": [
       "<Figure size 1440x1440 with 0 Axes>"
      ]
     },
     "metadata": {},
     "output_type": "display_data"
    }
   ],
   "source": [
    "plt.hist(ultra_sub['duration'], bins=50, range = (0, 41))\n",
    "plt.title('Время, платный тариф')\n",
    "plt.xlabel('Время поездки, минуты')\n",
    "plt.ylabel('Количество поездок')\n",
    "plt.grid()\n",
    "plt.figure(figsize=(20,20))\n",
    "plt.show()"
   ]
  },
  {
   "cell_type": "markdown",
   "id": "65c08173",
   "metadata": {},
   "source": [
    "##### Вывод"
   ]
  },
  {
   "cell_type": "markdown",
   "id": "a300a763",
   "metadata": {},
   "source": [
    "Обьединили все данные в один датафрейм all_data\n",
    "\n",
    "На основе нового датафрейма выделили два фрейма с платной и бесплатной подпиской.\n",
    "\n",
    "Для бесплатного тарифа время поездки составляет от 10 до 30 минут, и проезжают от 2 до 5 км, есть пользователи, которые проехали даже 6, 6.5 км.\n",
    "\n",
    "Платный тариф. В основном время укладывается в промежуток от 10 до 25 минут. Пик расстояния приходится на 3км.\n",
    "\n",
    "Таким образом, можно сделать вывод, что пользователи с бесплатным тарифом в целом совершают более долгие поездки, а также проезжают большее расстояние, чем пользователи на платном тарифе."
   ]
  },
  {
   "cell_type": "markdown",
   "id": "402d620f",
   "metadata": {},
   "source": [
    "#### Шаг 5. Подсчёт выручки"
   ]
  },
  {
   "cell_type": "markdown",
   "id": "f9343c5d",
   "metadata": {},
   "source": [
    "##### Найдем суммарное расстояние, количество поeздок и суммарное время для каждого пользователя за каждый месяц"
   ]
  },
  {
   "cell_type": "code",
   "execution_count": 48,
   "id": "04e20bf1",
   "metadata": {},
   "outputs": [],
   "source": [
    "all_data['duration'] = np.ceil(all_data['duration'])"
   ]
  },
  {
   "cell_type": "code",
   "execution_count": 49,
   "id": "53049e0a",
   "metadata": {},
   "outputs": [],
   "source": [
    "sum_data = pd.pivot_table(all_data,index=['month', 'user_id'],\n",
    "                                   values = ['distance', 'duration', 'name', 'subscription_type'],\n",
    "                                   aggfunc = {'distance': sum, \n",
    "                                              'duration' : sum, \n",
    "                                              'name' : len, \n",
    "                                              'subscription_type' : min})"
   ]
  },
  {
   "cell_type": "code",
   "execution_count": 50,
   "id": "096ec9b9",
   "metadata": {},
   "outputs": [],
   "source": [
    "sum_data.rename(columns = {'name' : 'count_tips'}, inplace = True)"
   ]
  },
  {
   "cell_type": "code",
   "execution_count": 51,
   "id": "5100276e",
   "metadata": {},
   "outputs": [
    {
     "data": {
      "text/html": [
       "<div>\n",
       "<style scoped>\n",
       "    .dataframe tbody tr th:only-of-type {\n",
       "        vertical-align: middle;\n",
       "    }\n",
       "\n",
       "    .dataframe tbody tr th {\n",
       "        vertical-align: top;\n",
       "    }\n",
       "\n",
       "    .dataframe thead th {\n",
       "        text-align: right;\n",
       "    }\n",
       "</style>\n",
       "<table border=\"1\" class=\"dataframe\">\n",
       "  <thead>\n",
       "    <tr style=\"text-align: right;\">\n",
       "      <th></th>\n",
       "      <th></th>\n",
       "      <th>distance</th>\n",
       "      <th>duration</th>\n",
       "      <th>count_tips</th>\n",
       "      <th>subscription_type</th>\n",
       "    </tr>\n",
       "    <tr>\n",
       "      <th>month</th>\n",
       "      <th>user_id</th>\n",
       "      <th></th>\n",
       "      <th></th>\n",
       "      <th></th>\n",
       "      <th></th>\n",
       "    </tr>\n",
       "  </thead>\n",
       "  <tbody>\n",
       "    <tr>\n",
       "      <th rowspan=\"5\" valign=\"top\">1</th>\n",
       "      <th>1</th>\n",
       "      <td>7027.511294</td>\n",
       "      <td>42.0</td>\n",
       "      <td>2</td>\n",
       "      <td>ultra</td>\n",
       "    </tr>\n",
       "    <tr>\n",
       "      <th>1061</th>\n",
       "      <td>12637.249630</td>\n",
       "      <td>43.0</td>\n",
       "      <td>3</td>\n",
       "      <td>free</td>\n",
       "    </tr>\n",
       "    <tr>\n",
       "      <th>1063</th>\n",
       "      <td>3276.362299</td>\n",
       "      <td>10.0</td>\n",
       "      <td>1</td>\n",
       "      <td>free</td>\n",
       "    </tr>\n",
       "    <tr>\n",
       "      <th>1064</th>\n",
       "      <td>5297.324649</td>\n",
       "      <td>15.0</td>\n",
       "      <td>1</td>\n",
       "      <td>free</td>\n",
       "    </tr>\n",
       "    <tr>\n",
       "      <th>1065</th>\n",
       "      <td>14547.099333</td>\n",
       "      <td>99.0</td>\n",
       "      <td>4</td>\n",
       "      <td>free</td>\n",
       "    </tr>\n",
       "  </tbody>\n",
       "</table>\n",
       "</div>"
      ],
      "text/plain": [
       "                   distance  duration  count_tips subscription_type\n",
       "month user_id                                                      \n",
       "1     1         7027.511294      42.0           2             ultra\n",
       "      1061     12637.249630      43.0           3              free\n",
       "      1063      3276.362299      10.0           1              free\n",
       "      1064      5297.324649      15.0           1              free\n",
       "      1065     14547.099333      99.0           4              free"
      ]
     },
     "execution_count": 51,
     "metadata": {},
     "output_type": "execute_result"
    }
   ],
   "source": [
    "sum_data.sort_values(by='month').head(5)"
   ]
  },
  {
   "cell_type": "markdown",
   "id": "8e958bb4",
   "metadata": {},
   "source": [
    "##### Добавим столбец с помесячной выручкой"
   ]
  },
  {
   "cell_type": "code",
   "execution_count": 52,
   "id": "2ddea43d",
   "metadata": {},
   "outputs": [],
   "source": [
    "def revenue(row):\n",
    "    if row['subscription_type'] == 'ultra':\n",
    "        return 6 * row['duration'] + 199\n",
    "    elif row['subscription_type'] == 'free':\n",
    "        return 8 * row['duration'] + 50 * row['count_tips']"
   ]
  },
  {
   "cell_type": "code",
   "execution_count": 53,
   "id": "d048876a",
   "metadata": {},
   "outputs": [],
   "source": [
    "sum_data['revenue_per_month'] = sum_data.apply(revenue, axis=1)"
   ]
  },
  {
   "cell_type": "code",
   "execution_count": 54,
   "id": "62c34105",
   "metadata": {},
   "outputs": [
    {
     "data": {
      "text/plain": [
       "month  user_id\n",
       "1      1          451.0\n",
       "       3          277.0\n",
       "       5          277.0\n",
       "       7          367.0\n",
       "       12         397.0\n",
       "       13         451.0\n",
       "       14         409.0\n",
       "       15         433.0\n",
       "       20         373.0\n",
       "       22         277.0\n",
       "Name: revenue_per_month, dtype: float64"
      ]
     },
     "execution_count": 54,
     "metadata": {},
     "output_type": "execute_result"
    }
   ],
   "source": [
    "sum_data['revenue_per_month'].head(10)"
   ]
  },
  {
   "cell_type": "markdown",
   "id": "e2009a5b",
   "metadata": {},
   "source": [
    "##### Вывод"
   ]
  },
  {
   "cell_type": "markdown",
   "id": "9050e7c8",
   "metadata": {},
   "source": [
    "Создали новый датафрейм с данными (sum_data) на основе датафрейма с объединенными данными (all_data).\n",
    "\n",
    "\n",
    "Нашли суммарное расстояние, количество поездок и суммарное время для каждого пользователя за каждый месяц. Также добавили столбец с помесячной выручкой, которую принес каждый пользователь."
   ]
  },
  {
   "cell_type": "markdown",
   "id": "41545ac0",
   "metadata": {},
   "source": [
    "#### Шаг 6. Проверка гипотез"
   ]
  },
  {
   "cell_type": "markdown",
   "id": "3708fb4c",
   "metadata": {},
   "source": [
    "##### Важно понять, тратят ли пользователи с подпиской больше времени на поездки?"
   ]
  },
  {
   "cell_type": "markdown",
   "id": "5c2a2ccb",
   "metadata": {},
   "source": [
    "Если да, то пользователи с подпиской могут быть «выгоднее» для компании. Проверьте гипотезу. Используйте исходные данные о продолжительности каждой сессии — отдельно для подписчиков и тех, у кого нет подписки."
   ]
  },
  {
   "cell_type": "markdown",
   "id": "1da15b1b",
   "metadata": {},
   "source": [
    "Проверим гипотезу: пользователи с подпиской тратят больше времени на поездки, чем пользователи на бесплатном тарифе.\n",
    "\n",
    "H0: Время пользователей на подписке ultra = врени пользователей на подписке free\n",
    "\n",
    "H1: Время пользователей на подписке ultra > врени пользователей на подписке free"
   ]
  },
  {
   "cell_type": "code",
   "execution_count": 55,
   "id": "8d23b5a0",
   "metadata": {},
   "outputs": [
    {
     "name": "stdout",
     "output_type": "stream",
     "text": [
      "1.2804098316645618e-34\n",
      "Отвергаем нулевую гипотезу\n"
     ]
    }
   ],
   "source": [
    "ultra = ultra_sub['duration'] \n",
    "\n",
    "free = free_sub['duration']\n",
    "\n",
    "results = st.ttest_ind(ultra, free, alternative = 'greater')\n",
    "\n",
    "alpha = .05\n",
    "\n",
    "print(results.pvalue)\n",
    "\n",
    "if results.pvalue < alpha:\n",
    "    print('Отвергаем нулевую гипотезу')\n",
    "else:\n",
    "    print('Не удалось отвергнуть нулевую гипотезу')"
   ]
  },
  {
   "cell_type": "markdown",
   "id": "6b4d5f12",
   "metadata": {},
   "source": [
    "Проверили гипотезу, отвергли нулевую гипотезу о том, что время поездки пользователя на тарифе ultra равно времени поездки пользователя на тарифе free."
   ]
  },
  {
   "cell_type": "markdown",
   "id": "3a88321f",
   "metadata": {},
   "source": [
    "##### Расстояние одной поездки в 3130 метров — оптимальное с точки зрения износа самоката."
   ]
  },
  {
   "cell_type": "markdown",
   "id": "f0af914b",
   "metadata": {},
   "source": [
    "Можно ли сказать, что расстояние, которое проезжают пользователи с подпиской за одну поездку, не превышает 3130 метров? Проверьте гипотезу и сделайте выводы.\n",
    "\n",
    "Проверим гипотезу: пользователи с подпиской проезжают расстояние, не превышающее 3130 метров за одну поездку.\n",
    "\n",
    "H0: Расстояние пользователей на подписке ultra = 3130 метров\n",
    "\n",
    "H1: Расстояние пользователей на подписке ultra < 3130 метров"
   ]
  },
  {
   "cell_type": "code",
   "execution_count": 56,
   "id": "bd3ed12e",
   "metadata": {},
   "outputs": [
    {
     "name": "stdout",
     "output_type": "stream",
     "text": [
      "0.08046311521502146\n",
      "Не удалось отвергнуть нулевую гипотезу\n"
     ]
    }
   ],
   "source": [
    "ultra_dist = ultra_sub['distance']\n",
    "\n",
    "interested_value = 3130.0\n",
    "\n",
    "alpha = .05\n",
    "\n",
    "results = st.ttest_1samp(ultra_dist, interested_value, alternative='less')\n",
    "    \n",
    "print(results.pvalue)\n",
    "\n",
    "if (results.pvalue < alpha):\n",
    "    print('Отвергаем нулевую гипотезу')\n",
    "else:\n",
    "    print('Не удалось отвергнуть нулевую гипотезу')"
   ]
  },
  {
   "cell_type": "markdown",
   "id": "d5e3ce32",
   "metadata": {},
   "source": [
    "Проверили гипотезу, мы не можем утверждать, что расстояние, проехавшие пользователи на тарифе ultra не превышает 3130 метров."
   ]
  },
  {
   "cell_type": "markdown",
   "id": "1e106dee",
   "metadata": {},
   "source": [
    "##### Проверьте гипотезу о том, будет ли помесячная выручка от пользователей с подпиской по месяцам выше, чем выручка от пользователей без подписки. "
   ]
  },
  {
   "cell_type": "markdown",
   "id": "7bb8995c",
   "metadata": {},
   "source": [
    "Проверим гипотезу: помесячная выручка от пользователей с подпиской выше, чем выручка от пользователей без подписки\n",
    "\n",
    "H0: Выручка пользователей на подписке ultra = выручки пользователей на подписке free\n",
    "\n",
    "H1: Выручка пользователей на подписке ultra > выручки пользователей на подписке free"
   ]
  },
  {
   "cell_type": "code",
   "execution_count": 57,
   "id": "d1e029b7",
   "metadata": {},
   "outputs": [
    {
     "name": "stdout",
     "output_type": "stream",
     "text": [
      "1.8850394384715216e-31\n",
      "Отвергаем нулевую гипотезу\n"
     ]
    }
   ],
   "source": [
    "ultra_per_month = sum_data.loc[sum_data.subscription_type == 'ultra', 'revenue_per_month'] \n",
    "\n",
    "free_per_month = sum_data.loc[sum_data.subscription_type == 'free', 'revenue_per_month'] \n",
    "\n",
    "\n",
    "results = st.ttest_ind(ultra_per_month, free_per_month, alternative = 'greater')\n",
    "\n",
    "alpha = .05\n",
    "\n",
    "print(results.pvalue)\n",
    "\n",
    "if results.pvalue < alpha:\n",
    "    print('Отвергаем нулевую гипотезу')\n",
    "else:\n",
    "    print('Не удалось отвергнуть нулевую гипотезу')"
   ]
  },
  {
   "cell_type": "markdown",
   "id": "96eddda1",
   "metadata": {},
   "source": [
    "Проверили гипотезу, мы можем утверждать, что выручка с пользователей на подписке ultra превышает выручку с пользователей на подписке free"
   ]
  },
  {
   "cell_type": "markdown",
   "id": "e6edc2bc",
   "metadata": {},
   "source": [
    "Представьте такую ситуацию: техническая команда сервиса обновила сервера, с которыми взаимодействует мобильное приложение. Она надеется, что из-за этого количество обращений в техподдержку значимо снизилось. Некоторый файл содержит для каждого пользователя данные о количестве обращений до обновления и после него. Какой тест вам понадобился бы для проверки этой гипотезы?"
   ]
  },
  {
   "cell_type": "markdown",
   "id": "435ae272",
   "metadata": {},
   "source": [
    "Будем использовать гипотезу о равенстве средних для зависимых (парных) выборок.\n",
    "\n",
    "Гипотезы будут сформулированы так:\n",
    "\n",
    "H0 : μ1 = μ2\n",
    "\n",
    "H1 : μ1 ≠ μ2\n",
    "\n",
    "где μ1 и μ2 - средние значения количество обращений в техподдержку до и после изменения.\n",
    "\n",
    "Метод, который нужно использовать при сравнении: scipy.stats.ttest_rel()"
   ]
  },
  {
   "cell_type": "markdown",
   "id": "61213c5e",
   "metadata": {},
   "source": [
    "#### Шаг 7. Распределения"
   ]
  },
  {
   "cell_type": "markdown",
   "id": "0cc33d07",
   "metadata": {},
   "source": [
    "#### Вывод"
   ]
  },
  {
   "cell_type": "markdown",
   "id": "9105b045",
   "metadata": {},
   "source": [
    "Мы начали с загрузки трех датафреймов: информации о пользователях, данных о поездках и информации о подписках. После тщательной проверки данных, мы изменили тип данных столбца \"date\" в датафрейме с информацией о поездках на формат даты. Затем добавили столбец \"month\" для указания месяца. Произведенная очистка данных включала удаление дубликатов в информации о пользователях.\n",
    "\n",
    "Проанализировав данные, мы выяснили, что количество пользователей в разных городах распределено относительно равномерно, без значительных отклонений. Наибольшее количество пользователей обнаружено в Пятигорске (219 пользователей), наименьшее — в Москве (168 пользователей). По отношению к типам подписок, обнаружено, что 835 пользователей (54%) используют бесплатную подписку, в то время как 699 пользователей (46%) выбирают платную подписку. Возраст пользователей сконцентрирован в диапазоне от 20 до 30 лет.\n",
    "\n",
    "Средние расстояния поездок составляют от 2 км до 5 км, а продолжительность поездок в основном колеблется в диапазоне от 10 до 25 минут.\n",
    "\n",
    "Путем объединения данных о пользователях, поездках и подписках мы создали три дополнительных датафрейма: полный, подписка \"ultra\" и подписка \"free\". Проведенная визуализация показала, что для пользователей бесплатной подписки характерны поездки продолжительностью от 10 до 30 минут и длиной от 2 до 5 км, при этом есть случаи преодоления дистанции 6-6.5 км. В случае платной подписки, пик времени поездок приходится на 15-25 минут, а основное расстояние составляет 3 км.\n",
    "\n",
    "После создания сводных данных для каждого пользователя по месяцам мы рассчитали суммарное расстояние, количество поездок и общее время. Эта информация была дополнена столбцом \"revenue_per_month\" с месячной выручкой. Проанализировав гипотезы, мы пришли к выводу, что пользователи с подпиской проводят больше времени в поездках, чем пользователи с бесплатной подпиской. Но мы не смогли отвергнуть гипотезу, что пользователи с подпиской ездят на расстояниях, не превышающих 3130 метров. Кроме того, обнаружено, что помесячная выручка от пользователей с подпиской превышает выручку от пользователей без подписки."
   ]
  }
 ],
 "metadata": {
  "ExecuteTimeLog": [
   {
    "duration": 1387,
    "start_time": "2023-08-12T14:36:29.119Z"
   },
   {
    "duration": 76,
    "start_time": "2023-08-12T14:39:01.674Z"
   },
   {
    "duration": 14,
    "start_time": "2023-08-12T14:39:14.222Z"
   },
   {
    "duration": 11,
    "start_time": "2023-08-12T14:42:30.242Z"
   },
   {
    "duration": 7,
    "start_time": "2023-08-12T14:44:48.307Z"
   },
   {
    "duration": 7,
    "start_time": "2023-08-12T14:47:16.203Z"
   },
   {
    "duration": 6,
    "start_time": "2023-08-12T14:47:57.585Z"
   },
   {
    "duration": 401,
    "start_time": "2023-08-12T14:50:40.425Z"
   },
   {
    "duration": 262,
    "start_time": "2023-08-12T14:51:00.258Z"
   },
   {
    "duration": 210,
    "start_time": "2023-08-12T14:52:23.161Z"
   },
   {
    "duration": 139,
    "start_time": "2023-08-12T14:52:29.961Z"
   },
   {
    "duration": 145,
    "start_time": "2023-08-12T14:53:17.561Z"
   },
   {
    "duration": 106,
    "start_time": "2023-08-12T14:53:51.030Z"
   },
   {
    "duration": 2,
    "start_time": "2023-08-12T14:57:24.984Z"
   },
   {
    "duration": 82,
    "start_time": "2023-08-12T14:59:21.819Z"
   },
   {
    "duration": 9,
    "start_time": "2023-08-12T14:59:49.405Z"
   },
   {
    "duration": 18,
    "start_time": "2023-08-12T15:00:02.703Z"
   },
   {
    "duration": 63,
    "start_time": "2023-08-12T15:10:35.886Z"
   },
   {
    "duration": 7,
    "start_time": "2023-08-12T15:10:45.207Z"
   },
   {
    "duration": 11,
    "start_time": "2023-08-12T15:10:53.746Z"
   },
   {
    "duration": 8,
    "start_time": "2023-08-12T15:14:44.412Z"
   },
   {
    "duration": 6,
    "start_time": "2023-08-12T15:17:46.077Z"
   },
   {
    "duration": 6,
    "start_time": "2023-08-12T15:20:17.370Z"
   },
   {
    "duration": 80,
    "start_time": "2023-08-12T15:20:33.969Z"
   },
   {
    "duration": 8,
    "start_time": "2023-08-12T15:21:01.855Z"
   },
   {
    "duration": 10,
    "start_time": "2023-08-12T15:21:07.726Z"
   },
   {
    "duration": 6,
    "start_time": "2023-08-12T15:23:22.725Z"
   },
   {
    "duration": 6,
    "start_time": "2023-08-12T15:23:38.837Z"
   },
   {
    "duration": 5,
    "start_time": "2023-08-12T15:23:47.535Z"
   },
   {
    "duration": 6,
    "start_time": "2023-08-12T15:24:31.358Z"
   },
   {
    "duration": 5,
    "start_time": "2023-08-12T15:26:19.965Z"
   },
   {
    "duration": 7,
    "start_time": "2023-08-12T15:26:27.428Z"
   },
   {
    "duration": 9,
    "start_time": "2023-08-12T15:26:40.959Z"
   },
   {
    "duration": 6,
    "start_time": "2023-08-12T15:26:46.965Z"
   },
   {
    "duration": 6,
    "start_time": "2023-08-12T15:31:40.475Z"
   },
   {
    "duration": 13,
    "start_time": "2023-08-12T15:36:30.975Z"
   },
   {
    "duration": 3363,
    "start_time": "2023-08-12T20:58:29.105Z"
   },
   {
    "duration": 187,
    "start_time": "2023-08-12T20:58:32.477Z"
   },
   {
    "duration": 32,
    "start_time": "2023-08-12T20:58:32.667Z"
   },
   {
    "duration": 137,
    "start_time": "2023-08-12T20:58:32.703Z"
   },
   {
    "duration": 384,
    "start_time": "2023-08-12T20:58:32.850Z"
   },
   {
    "duration": 23,
    "start_time": "2023-08-12T20:58:33.241Z"
   },
   {
    "duration": 103,
    "start_time": "2023-08-12T20:58:33.267Z"
   },
   {
    "duration": 180,
    "start_time": "2023-08-12T20:58:33.372Z"
   },
   {
    "duration": 61,
    "start_time": "2023-08-12T20:58:33.559Z"
   },
   {
    "duration": 113,
    "start_time": "2023-08-12T20:58:33.630Z"
   },
   {
    "duration": 32,
    "start_time": "2023-08-12T20:58:33.745Z"
   },
   {
    "duration": 52,
    "start_time": "2023-08-12T20:58:33.795Z"
   },
   {
    "duration": 69,
    "start_time": "2023-08-12T20:58:33.850Z"
   },
   {
    "duration": 13,
    "start_time": "2023-08-12T20:58:33.928Z"
   },
   {
    "duration": 82,
    "start_time": "2023-08-12T20:58:33.944Z"
   },
   {
    "duration": 28,
    "start_time": "2023-08-12T20:58:34.035Z"
   },
   {
    "duration": 66,
    "start_time": "2023-08-12T20:58:34.067Z"
   },
   {
    "duration": 36,
    "start_time": "2023-08-12T20:58:34.135Z"
   },
   {
    "duration": 65,
    "start_time": "2023-08-12T20:58:34.176Z"
   },
   {
    "duration": 99,
    "start_time": "2023-08-12T20:58:34.243Z"
   },
   {
    "duration": 91,
    "start_time": "2023-08-12T20:58:34.346Z"
   },
   {
    "duration": 29,
    "start_time": "2023-08-12T20:58:34.446Z"
   },
   {
    "duration": 73,
    "start_time": "2023-08-12T20:58:34.480Z"
   },
   {
    "duration": 6,
    "start_time": "2023-08-12T21:45:58.536Z"
   },
   {
    "duration": 103,
    "start_time": "2023-08-12T21:45:58.553Z"
   },
   {
    "duration": 29,
    "start_time": "2023-08-12T21:45:58.658Z"
   },
   {
    "duration": 27,
    "start_time": "2023-08-12T21:45:58.689Z"
   },
   {
    "duration": 36,
    "start_time": "2023-08-12T21:45:58.718Z"
   },
   {
    "duration": 44,
    "start_time": "2023-08-12T21:45:58.757Z"
   },
   {
    "duration": 41,
    "start_time": "2023-08-12T21:45:58.803Z"
   },
   {
    "duration": 46,
    "start_time": "2023-08-12T21:45:58.846Z"
   },
   {
    "duration": 19,
    "start_time": "2023-08-12T21:45:58.897Z"
   },
   {
    "duration": 35,
    "start_time": "2023-08-12T21:45:58.918Z"
   },
   {
    "duration": 61,
    "start_time": "2023-08-12T21:45:58.956Z"
   },
   {
    "duration": 6,
    "start_time": "2023-08-12T21:45:59.019Z"
   },
   {
    "duration": 21,
    "start_time": "2023-08-12T21:45:59.027Z"
   },
   {
    "duration": 51,
    "start_time": "2023-08-12T21:45:59.050Z"
   },
   {
    "duration": 14,
    "start_time": "2023-08-12T21:45:59.105Z"
   },
   {
    "duration": 11,
    "start_time": "2023-08-12T21:45:59.121Z"
   },
   {
    "duration": 36,
    "start_time": "2023-08-12T21:45:59.135Z"
   },
   {
    "duration": 42,
    "start_time": "2023-08-12T21:45:59.173Z"
   },
   {
    "duration": 19,
    "start_time": "2023-08-12T21:45:59.217Z"
   },
   {
    "duration": 7,
    "start_time": "2023-08-12T21:45:59.238Z"
   },
   {
    "duration": 8,
    "start_time": "2023-08-12T21:45:59.247Z"
   },
   {
    "duration": 50,
    "start_time": "2023-08-12T21:45:59.257Z"
   },
   {
    "duration": 16,
    "start_time": "2023-08-12T21:45:59.309Z"
   },
   {
    "duration": 138,
    "start_time": "2023-08-12T21:47:19.985Z"
   },
   {
    "duration": 10,
    "start_time": "2023-08-12T21:48:07.189Z"
   },
   {
    "duration": 9,
    "start_time": "2023-08-12T21:48:12.397Z"
   },
   {
    "duration": 11,
    "start_time": "2023-08-12T21:48:14.589Z"
   },
   {
    "duration": 10,
    "start_time": "2023-08-12T21:48:17.653Z"
   },
   {
    "duration": 10,
    "start_time": "2023-08-12T21:48:27.614Z"
   },
   {
    "duration": 191,
    "start_time": "2023-08-12T21:48:51.144Z"
   },
   {
    "duration": 7,
    "start_time": "2023-08-12T21:51:27.655Z"
   },
   {
    "duration": 204,
    "start_time": "2023-08-12T21:51:50.387Z"
   },
   {
    "duration": 119,
    "start_time": "2023-08-12T21:51:55.387Z"
   },
   {
    "duration": 9,
    "start_time": "2023-08-12T21:53:59.302Z"
   },
   {
    "duration": 183,
    "start_time": "2023-08-12T21:55:07.636Z"
   },
   {
    "duration": 193,
    "start_time": "2023-08-12T21:55:22.580Z"
   },
   {
    "duration": 232,
    "start_time": "2023-08-12T21:55:29.685Z"
   },
   {
    "duration": 212,
    "start_time": "2023-08-12T21:56:14.585Z"
   },
   {
    "duration": 282,
    "start_time": "2023-08-12T21:56:24.754Z"
   },
   {
    "duration": 198,
    "start_time": "2023-08-12T21:56:28.087Z"
   },
   {
    "duration": 187,
    "start_time": "2023-08-12T21:56:31.917Z"
   },
   {
    "duration": 12,
    "start_time": "2023-08-12T21:58:53.025Z"
   },
   {
    "duration": 110,
    "start_time": "2023-08-12T21:59:49.839Z"
   },
   {
    "duration": 141,
    "start_time": "2023-08-12T21:59:57.031Z"
   },
   {
    "duration": 121,
    "start_time": "2023-08-12T22:00:34.188Z"
   },
   {
    "duration": 148,
    "start_time": "2023-08-12T22:00:38.498Z"
   },
   {
    "duration": 129,
    "start_time": "2023-08-12T22:00:50.910Z"
   },
   {
    "duration": 140,
    "start_time": "2023-08-12T22:01:52.087Z"
   },
   {
    "duration": 11,
    "start_time": "2023-08-12T22:03:40.402Z"
   },
   {
    "duration": 129,
    "start_time": "2023-08-12T22:05:13.602Z"
   },
   {
    "duration": 137,
    "start_time": "2023-08-12T22:05:29.395Z"
   },
   {
    "duration": 347,
    "start_time": "2023-08-12T22:09:14.389Z"
   },
   {
    "duration": 37,
    "start_time": "2023-08-12T22:18:39.506Z"
   },
   {
    "duration": 17,
    "start_time": "2023-08-12T22:21:30.400Z"
   },
   {
    "duration": 13,
    "start_time": "2023-08-12T22:21:38.506Z"
   },
   {
    "duration": 23,
    "start_time": "2023-08-12T22:21:44.195Z"
   },
   {
    "duration": 582,
    "start_time": "2023-08-12T22:23:53.435Z"
   },
   {
    "duration": 260,
    "start_time": "2023-08-12T22:24:06.748Z"
   },
   {
    "duration": 229,
    "start_time": "2023-08-12T22:24:39.121Z"
   },
   {
    "duration": 222,
    "start_time": "2023-08-12T22:24:50.787Z"
   },
   {
    "duration": 241,
    "start_time": "2023-08-12T22:25:19.183Z"
   },
   {
    "duration": 213,
    "start_time": "2023-08-12T22:25:29.998Z"
   },
   {
    "duration": 219,
    "start_time": "2023-08-12T22:25:33.387Z"
   },
   {
    "duration": 22,
    "start_time": "2023-08-12T22:26:59.487Z"
   },
   {
    "duration": 265,
    "start_time": "2023-08-12T22:28:13.216Z"
   },
   {
    "duration": 227,
    "start_time": "2023-08-12T22:28:59.606Z"
   },
   {
    "duration": 21,
    "start_time": "2023-08-12T22:29:03.718Z"
   },
   {
    "duration": 1531,
    "start_time": "2023-08-13T21:13:57.738Z"
   },
   {
    "duration": 145,
    "start_time": "2023-08-13T21:13:59.272Z"
   },
   {
    "duration": 12,
    "start_time": "2023-08-13T21:13:59.419Z"
   },
   {
    "duration": 12,
    "start_time": "2023-08-13T21:13:59.432Z"
   },
   {
    "duration": 215,
    "start_time": "2023-08-13T21:13:59.446Z"
   },
   {
    "duration": 9,
    "start_time": "2023-08-13T21:13:59.662Z"
   },
   {
    "duration": 39,
    "start_time": "2023-08-13T21:13:59.673Z"
   },
   {
    "duration": 88,
    "start_time": "2023-08-13T21:13:59.714Z"
   },
   {
    "duration": 10,
    "start_time": "2023-08-13T21:13:59.808Z"
   },
   {
    "duration": 25,
    "start_time": "2023-08-13T21:13:59.823Z"
   },
   {
    "duration": 30,
    "start_time": "2023-08-13T21:13:59.850Z"
   },
   {
    "duration": 23,
    "start_time": "2023-08-13T21:13:59.882Z"
   },
   {
    "duration": 17,
    "start_time": "2023-08-13T21:13:59.908Z"
   },
   {
    "duration": 10,
    "start_time": "2023-08-13T21:13:59.926Z"
   },
   {
    "duration": 13,
    "start_time": "2023-08-13T21:13:59.937Z"
   },
   {
    "duration": 11,
    "start_time": "2023-08-13T21:13:59.952Z"
   },
   {
    "duration": 26,
    "start_time": "2023-08-13T21:13:59.964Z"
   },
   {
    "duration": 31,
    "start_time": "2023-08-13T21:13:59.992Z"
   },
   {
    "duration": 37,
    "start_time": "2023-08-13T21:14:00.025Z"
   },
   {
    "duration": 40,
    "start_time": "2023-08-13T21:14:00.064Z"
   },
   {
    "duration": 41,
    "start_time": "2023-08-13T21:14:00.107Z"
   },
   {
    "duration": 25,
    "start_time": "2023-08-13T21:14:00.151Z"
   },
   {
    "duration": 33,
    "start_time": "2023-08-13T21:14:00.181Z"
   },
   {
    "duration": 34,
    "start_time": "2023-08-13T21:14:00.216Z"
   },
   {
    "duration": 263,
    "start_time": "2023-08-13T21:14:00.251Z"
   },
   {
    "duration": 8,
    "start_time": "2023-08-13T21:14:00.516Z"
   },
   {
    "duration": 190,
    "start_time": "2023-08-13T21:14:00.526Z"
   },
   {
    "duration": 10,
    "start_time": "2023-08-13T21:14:00.720Z"
   },
   {
    "duration": 213,
    "start_time": "2023-08-13T21:14:00.731Z"
   },
   {
    "duration": 8,
    "start_time": "2023-08-13T21:14:00.946Z"
   },
   {
    "duration": 169,
    "start_time": "2023-08-13T21:14:00.956Z"
   },
   {
    "duration": 7,
    "start_time": "2023-08-13T21:14:01.127Z"
   },
   {
    "duration": 170,
    "start_time": "2023-08-13T21:14:01.136Z"
   },
   {
    "duration": 33,
    "start_time": "2023-08-13T21:14:01.309Z"
   },
   {
    "duration": 94,
    "start_time": "2023-08-13T21:14:01.344Z"
   },
   {
    "duration": 278,
    "start_time": "2023-08-13T21:14:01.440Z"
   },
   {
    "duration": 316,
    "start_time": "2023-08-13T21:14:01.720Z"
   },
   {
    "duration": 21,
    "start_time": "2023-08-13T21:14:02.038Z"
   },
   {
    "duration": 282,
    "start_time": "2023-08-13T21:14:02.061Z"
   },
   {
    "duration": 227,
    "start_time": "2023-08-13T21:14:02.344Z"
   },
   {
    "duration": 1143,
    "start_time": "2023-08-13T21:24:33.146Z"
   },
   {
    "duration": 5,
    "start_time": "2023-08-13T21:28:55.356Z"
   },
   {
    "duration": 126,
    "start_time": "2023-08-13T21:29:14.645Z"
   },
   {
    "duration": 11,
    "start_time": "2023-08-13T21:29:23.619Z"
   },
   {
    "duration": 3,
    "start_time": "2023-08-13T21:33:09.211Z"
   },
   {
    "duration": 149,
    "start_time": "2023-08-13T21:33:42.603Z"
   },
   {
    "duration": 156,
    "start_time": "2023-08-13T21:33:45.299Z"
   },
   {
    "duration": 7,
    "start_time": "2023-08-13T21:34:02.220Z"
   },
   {
    "duration": 11,
    "start_time": "2023-08-13T21:34:05.491Z"
   },
   {
    "duration": 6,
    "start_time": "2023-08-13T21:34:15.131Z"
   },
   {
    "duration": 6,
    "start_time": "2023-08-13T22:11:03.502Z"
   },
   {
    "duration": 6,
    "start_time": "2023-08-13T22:13:56.397Z"
   },
   {
    "duration": 14,
    "start_time": "2023-08-13T22:18:09.618Z"
   },
   {
    "duration": 9,
    "start_time": "2023-08-13T22:18:21.410Z"
   },
   {
    "duration": 1262,
    "start_time": "2023-08-13T23:13:18.289Z"
   },
   {
    "duration": 92,
    "start_time": "2023-08-13T23:13:19.553Z"
   },
   {
    "duration": 12,
    "start_time": "2023-08-13T23:13:19.647Z"
   },
   {
    "duration": 21,
    "start_time": "2023-08-13T23:13:19.661Z"
   },
   {
    "duration": 168,
    "start_time": "2023-08-13T23:13:19.684Z"
   },
   {
    "duration": 9,
    "start_time": "2023-08-13T23:13:19.854Z"
   },
   {
    "duration": 43,
    "start_time": "2023-08-13T23:13:19.865Z"
   },
   {
    "duration": 58,
    "start_time": "2023-08-13T23:13:19.910Z"
   },
   {
    "duration": 7,
    "start_time": "2023-08-13T23:13:19.970Z"
   },
   {
    "duration": 11,
    "start_time": "2023-08-13T23:13:19.980Z"
   },
   {
    "duration": 11,
    "start_time": "2023-08-13T23:13:19.993Z"
   },
   {
    "duration": 29,
    "start_time": "2023-08-13T23:13:20.006Z"
   },
   {
    "duration": 12,
    "start_time": "2023-08-13T23:13:20.037Z"
   },
   {
    "duration": 8,
    "start_time": "2023-08-13T23:13:20.051Z"
   },
   {
    "duration": 15,
    "start_time": "2023-08-13T23:13:20.061Z"
   },
   {
    "duration": 8,
    "start_time": "2023-08-13T23:13:20.078Z"
   },
   {
    "duration": 15,
    "start_time": "2023-08-13T23:13:20.088Z"
   },
   {
    "duration": 5,
    "start_time": "2023-08-13T23:13:20.105Z"
   },
   {
    "duration": 7,
    "start_time": "2023-08-13T23:13:20.112Z"
   },
   {
    "duration": 5,
    "start_time": "2023-08-13T23:13:20.121Z"
   },
   {
    "duration": 7,
    "start_time": "2023-08-13T23:13:20.127Z"
   },
   {
    "duration": 10,
    "start_time": "2023-08-13T23:13:20.160Z"
   },
   {
    "duration": 6,
    "start_time": "2023-08-13T23:13:20.172Z"
   },
   {
    "duration": 16,
    "start_time": "2023-08-13T23:13:20.180Z"
   },
   {
    "duration": 168,
    "start_time": "2023-08-13T23:13:20.197Z"
   },
   {
    "duration": 6,
    "start_time": "2023-08-13T23:13:20.367Z"
   },
   {
    "duration": 105,
    "start_time": "2023-08-13T23:13:20.374Z"
   },
   {
    "duration": 6,
    "start_time": "2023-08-13T23:13:20.483Z"
   },
   {
    "duration": 209,
    "start_time": "2023-08-13T23:13:20.490Z"
   },
   {
    "duration": 8,
    "start_time": "2023-08-13T23:13:20.701Z"
   },
   {
    "duration": 123,
    "start_time": "2023-08-13T23:13:20.710Z"
   },
   {
    "duration": 9,
    "start_time": "2023-08-13T23:13:20.835Z"
   },
   {
    "duration": 124,
    "start_time": "2023-08-13T23:13:20.846Z"
   },
   {
    "duration": 33,
    "start_time": "2023-08-13T23:13:20.973Z"
   },
   {
    "duration": 23,
    "start_time": "2023-08-13T23:13:21.008Z"
   },
   {
    "duration": 220,
    "start_time": "2023-08-13T23:13:21.033Z"
   },
   {
    "duration": 268,
    "start_time": "2023-08-13T23:13:21.258Z"
   },
   {
    "duration": 19,
    "start_time": "2023-08-13T23:13:21.528Z"
   },
   {
    "duration": 202,
    "start_time": "2023-08-13T23:13:21.560Z"
   },
   {
    "duration": 191,
    "start_time": "2023-08-13T23:13:21.764Z"
   },
   {
    "duration": 836,
    "start_time": "2023-08-13T23:13:21.960Z"
   },
   {
    "duration": 5,
    "start_time": "2023-08-13T23:13:22.798Z"
   },
   {
    "duration": 16,
    "start_time": "2023-08-13T23:13:22.805Z"
   },
   {
    "duration": 3,
    "start_time": "2023-08-13T23:13:22.823Z"
   },
   {
    "duration": 153,
    "start_time": "2023-08-13T23:13:22.827Z"
   },
   {
    "duration": 6,
    "start_time": "2023-08-13T23:13:22.982Z"
   },
   {
    "duration": 7,
    "start_time": "2023-08-13T23:13:22.989Z"
   },
   {
    "duration": 5,
    "start_time": "2023-08-13T23:13:22.998Z"
   },
   {
    "duration": 10,
    "start_time": "2023-08-13T23:13:23.005Z"
   },
   {
    "duration": 56,
    "start_time": "2023-08-14T08:49:20.892Z"
   },
   {
    "duration": 1883,
    "start_time": "2023-08-14T08:49:28.063Z"
   },
   {
    "duration": 92,
    "start_time": "2023-08-14T08:49:29.955Z"
   },
   {
    "duration": 15,
    "start_time": "2023-08-14T08:49:30.049Z"
   },
   {
    "duration": 23,
    "start_time": "2023-08-14T08:49:30.066Z"
   },
   {
    "duration": 188,
    "start_time": "2023-08-14T08:49:30.091Z"
   },
   {
    "duration": 9,
    "start_time": "2023-08-14T08:49:30.281Z"
   },
   {
    "duration": 63,
    "start_time": "2023-08-14T08:49:30.292Z"
   },
   {
    "duration": 76,
    "start_time": "2023-08-14T08:49:30.357Z"
   },
   {
    "duration": 38,
    "start_time": "2023-08-14T08:49:30.435Z"
   },
   {
    "duration": 40,
    "start_time": "2023-08-14T08:49:30.476Z"
   },
   {
    "duration": 24,
    "start_time": "2023-08-14T08:49:30.518Z"
   },
   {
    "duration": 29,
    "start_time": "2023-08-14T08:49:30.544Z"
   },
   {
    "duration": 55,
    "start_time": "2023-08-14T08:49:30.575Z"
   },
   {
    "duration": 32,
    "start_time": "2023-08-14T08:49:30.631Z"
   },
   {
    "duration": 35,
    "start_time": "2023-08-14T08:49:30.665Z"
   },
   {
    "duration": 38,
    "start_time": "2023-08-14T08:49:30.701Z"
   },
   {
    "duration": 62,
    "start_time": "2023-08-14T08:49:30.740Z"
   },
   {
    "duration": 66,
    "start_time": "2023-08-14T08:49:30.804Z"
   },
   {
    "duration": 60,
    "start_time": "2023-08-14T08:49:30.872Z"
   },
   {
    "duration": 33,
    "start_time": "2023-08-14T08:49:30.934Z"
   },
   {
    "duration": 36,
    "start_time": "2023-08-14T08:49:30.969Z"
   },
   {
    "duration": 34,
    "start_time": "2023-08-14T08:49:31.008Z"
   },
   {
    "duration": 39,
    "start_time": "2023-08-14T08:49:31.044Z"
   },
   {
    "duration": 41,
    "start_time": "2023-08-14T08:49:31.086Z"
   },
   {
    "duration": 185,
    "start_time": "2023-08-14T08:49:31.130Z"
   },
   {
    "duration": 6,
    "start_time": "2023-08-14T08:49:31.317Z"
   },
   {
    "duration": 112,
    "start_time": "2023-08-14T08:49:31.325Z"
   },
   {
    "duration": 6,
    "start_time": "2023-08-14T08:49:31.440Z"
   },
   {
    "duration": 167,
    "start_time": "2023-08-14T08:49:31.457Z"
   },
   {
    "duration": 10,
    "start_time": "2023-08-14T08:49:31.626Z"
   },
   {
    "duration": 169,
    "start_time": "2023-08-14T08:49:31.638Z"
   },
   {
    "duration": 8,
    "start_time": "2023-08-14T08:49:31.808Z"
   },
   {
    "duration": 159,
    "start_time": "2023-08-14T08:49:31.818Z"
   },
   {
    "duration": 32,
    "start_time": "2023-08-14T08:49:31.980Z"
   },
   {
    "duration": 28,
    "start_time": "2023-08-14T08:49:32.014Z"
   },
   {
    "duration": 235,
    "start_time": "2023-08-14T08:49:32.044Z"
   },
   {
    "duration": 325,
    "start_time": "2023-08-14T08:49:32.281Z"
   },
   {
    "duration": 25,
    "start_time": "2023-08-14T08:49:32.608Z"
   },
   {
    "duration": 238,
    "start_time": "2023-08-14T08:49:32.635Z"
   },
   {
    "duration": 225,
    "start_time": "2023-08-14T08:49:32.875Z"
   },
   {
    "duration": 937,
    "start_time": "2023-08-14T08:49:33.103Z"
   },
   {
    "duration": 5,
    "start_time": "2023-08-14T08:49:34.042Z"
   },
   {
    "duration": 15,
    "start_time": "2023-08-14T08:49:34.057Z"
   },
   {
    "duration": 11,
    "start_time": "2023-08-14T08:49:34.074Z"
   },
   {
    "duration": 4,
    "start_time": "2023-08-14T08:49:34.087Z"
   },
   {
    "duration": 170,
    "start_time": "2023-08-14T08:49:34.093Z"
   },
   {
    "duration": 6,
    "start_time": "2023-08-14T08:49:34.264Z"
   },
   {
    "duration": 14,
    "start_time": "2023-08-14T08:49:34.272Z"
   },
   {
    "duration": 7,
    "start_time": "2023-08-14T08:49:34.288Z"
   },
   {
    "duration": 20,
    "start_time": "2023-08-14T08:49:34.297Z"
   },
   {
    "duration": 4,
    "start_time": "2023-08-14T09:15:14.301Z"
   },
   {
    "duration": 53,
    "start_time": "2023-08-14T09:15:14.310Z"
   },
   {
    "duration": 9,
    "start_time": "2023-08-14T09:15:14.365Z"
   },
   {
    "duration": 33,
    "start_time": "2023-08-14T09:15:14.376Z"
   },
   {
    "duration": 32,
    "start_time": "2023-08-14T09:15:14.411Z"
   },
   {
    "duration": 9,
    "start_time": "2023-08-14T09:15:14.444Z"
   },
   {
    "duration": 33,
    "start_time": "2023-08-14T09:15:14.454Z"
   },
   {
    "duration": 26,
    "start_time": "2023-08-14T09:15:14.488Z"
   },
   {
    "duration": 12,
    "start_time": "2023-08-14T09:15:14.516Z"
   },
   {
    "duration": 26,
    "start_time": "2023-08-14T09:15:14.529Z"
   },
   {
    "duration": 20,
    "start_time": "2023-08-14T09:15:14.558Z"
   },
   {
    "duration": 17,
    "start_time": "2023-08-14T09:15:14.580Z"
   },
   {
    "duration": 21,
    "start_time": "2023-08-14T09:15:14.599Z"
   },
   {
    "duration": 19,
    "start_time": "2023-08-14T09:15:14.622Z"
   },
   {
    "duration": 15,
    "start_time": "2023-08-14T09:15:14.643Z"
   },
   {
    "duration": 16,
    "start_time": "2023-08-14T09:15:14.660Z"
   },
   {
    "duration": 19,
    "start_time": "2023-08-14T09:15:14.677Z"
   },
   {
    "duration": 8,
    "start_time": "2023-08-14T09:15:14.698Z"
   },
   {
    "duration": 10,
    "start_time": "2023-08-14T09:15:14.708Z"
   },
   {
    "duration": 13,
    "start_time": "2023-08-14T09:15:14.719Z"
   },
   {
    "duration": 11,
    "start_time": "2023-08-14T09:15:14.734Z"
   },
   {
    "duration": 19,
    "start_time": "2023-08-14T09:15:14.747Z"
   },
   {
    "duration": 21,
    "start_time": "2023-08-14T09:15:14.768Z"
   },
   {
    "duration": 24,
    "start_time": "2023-08-14T09:15:14.791Z"
   },
   {
    "duration": 140,
    "start_time": "2023-08-14T09:15:14.816Z"
   },
   {
    "duration": 6,
    "start_time": "2023-08-14T09:15:14.957Z"
   },
   {
    "duration": 103,
    "start_time": "2023-08-14T09:15:14.964Z"
   },
   {
    "duration": 6,
    "start_time": "2023-08-14T09:15:15.069Z"
   },
   {
    "duration": 194,
    "start_time": "2023-08-14T09:15:15.078Z"
   },
   {
    "duration": 8,
    "start_time": "2023-08-14T09:15:15.274Z"
   },
   {
    "duration": 146,
    "start_time": "2023-08-14T09:15:15.284Z"
   },
   {
    "duration": 8,
    "start_time": "2023-08-14T09:15:15.432Z"
   },
   {
    "duration": 220,
    "start_time": "2023-08-14T09:15:15.441Z"
   },
   {
    "duration": 32,
    "start_time": "2023-08-14T09:15:15.662Z"
   },
   {
    "duration": 23,
    "start_time": "2023-08-14T09:15:15.696Z"
   },
   {
    "duration": 223,
    "start_time": "2023-08-14T09:15:15.721Z"
   },
   {
    "duration": 196,
    "start_time": "2023-08-14T09:15:15.946Z"
   },
   {
    "duration": 27,
    "start_time": "2023-08-14T09:15:16.144Z"
   },
   {
    "duration": 204,
    "start_time": "2023-08-14T09:15:16.173Z"
   },
   {
    "duration": 220,
    "start_time": "2023-08-14T09:15:16.379Z"
   },
   {
    "duration": 4,
    "start_time": "2023-08-14T09:15:16.601Z"
   },
   {
    "duration": 846,
    "start_time": "2023-08-14T09:15:16.606Z"
   },
   {
    "duration": 3,
    "start_time": "2023-08-14T09:15:17.456Z"
   },
   {
    "duration": 15,
    "start_time": "2023-08-14T09:15:17.460Z"
   },
   {
    "duration": 3,
    "start_time": "2023-08-14T09:15:17.477Z"
   },
   {
    "duration": 149,
    "start_time": "2023-08-14T09:15:17.482Z"
   },
   {
    "duration": 7,
    "start_time": "2023-08-14T09:15:17.632Z"
   },
   {
    "duration": 8,
    "start_time": "2023-08-14T09:15:17.640Z"
   },
   {
    "duration": 7,
    "start_time": "2023-08-14T09:15:17.657Z"
   },
   {
    "duration": 25,
    "start_time": "2023-08-14T09:15:17.666Z"
   },
   {
    "duration": 13,
    "start_time": "2023-08-14T09:15:59.588Z"
   },
   {
    "duration": 13,
    "start_time": "2023-08-14T09:16:19.550Z"
   },
   {
    "duration": 4,
    "start_time": "2023-08-14T09:16:27.302Z"
   },
   {
    "duration": 42,
    "start_time": "2023-08-14T09:16:27.308Z"
   },
   {
    "duration": 9,
    "start_time": "2023-08-14T09:16:27.351Z"
   },
   {
    "duration": 13,
    "start_time": "2023-08-14T09:16:27.362Z"
   },
   {
    "duration": 40,
    "start_time": "2023-08-14T09:16:27.377Z"
   },
   {
    "duration": 9,
    "start_time": "2023-08-14T09:16:27.419Z"
   },
   {
    "duration": 35,
    "start_time": "2023-08-14T09:16:27.429Z"
   },
   {
    "duration": 17,
    "start_time": "2023-08-14T09:16:27.466Z"
   },
   {
    "duration": 8,
    "start_time": "2023-08-14T09:16:27.485Z"
   },
   {
    "duration": 21,
    "start_time": "2023-08-14T09:16:27.494Z"
   },
   {
    "duration": 15,
    "start_time": "2023-08-14T09:16:27.517Z"
   },
   {
    "duration": 9,
    "start_time": "2023-08-14T09:16:27.534Z"
   },
   {
    "duration": 14,
    "start_time": "2023-08-14T09:16:27.545Z"
   },
   {
    "duration": 11,
    "start_time": "2023-08-14T09:16:27.561Z"
   },
   {
    "duration": 9,
    "start_time": "2023-08-14T09:16:27.574Z"
   },
   {
    "duration": 9,
    "start_time": "2023-08-14T09:16:27.584Z"
   },
   {
    "duration": 9,
    "start_time": "2023-08-14T09:16:27.594Z"
   },
   {
    "duration": 15,
    "start_time": "2023-08-14T09:16:27.604Z"
   },
   {
    "duration": 8,
    "start_time": "2023-08-14T09:16:27.621Z"
   },
   {
    "duration": 29,
    "start_time": "2023-08-14T09:16:27.630Z"
   },
   {
    "duration": 6,
    "start_time": "2023-08-14T09:16:27.661Z"
   },
   {
    "duration": 9,
    "start_time": "2023-08-14T09:16:27.669Z"
   },
   {
    "duration": 5,
    "start_time": "2023-08-14T09:16:27.680Z"
   },
   {
    "duration": 10,
    "start_time": "2023-08-14T09:16:27.689Z"
   },
   {
    "duration": 166,
    "start_time": "2023-08-14T09:16:27.701Z"
   },
   {
    "duration": 6,
    "start_time": "2023-08-14T09:16:27.869Z"
   },
   {
    "duration": 112,
    "start_time": "2023-08-14T09:16:27.876Z"
   },
   {
    "duration": 9,
    "start_time": "2023-08-14T09:16:27.990Z"
   },
   {
    "duration": 172,
    "start_time": "2023-08-14T09:16:28.001Z"
   },
   {
    "duration": 7,
    "start_time": "2023-08-14T09:16:28.175Z"
   },
   {
    "duration": 114,
    "start_time": "2023-08-14T09:16:28.184Z"
   },
   {
    "duration": 9,
    "start_time": "2023-08-14T09:16:28.301Z"
   },
   {
    "duration": 240,
    "start_time": "2023-08-14T09:16:28.311Z"
   },
   {
    "duration": 33,
    "start_time": "2023-08-14T09:16:28.557Z"
   },
   {
    "duration": 24,
    "start_time": "2023-08-14T09:16:28.592Z"
   },
   {
    "duration": 244,
    "start_time": "2023-08-14T09:16:28.617Z"
   },
   {
    "duration": 258,
    "start_time": "2023-08-14T09:16:28.863Z"
   },
   {
    "duration": 35,
    "start_time": "2023-08-14T09:16:29.123Z"
   },
   {
    "duration": 224,
    "start_time": "2023-08-14T09:16:29.159Z"
   },
   {
    "duration": 214,
    "start_time": "2023-08-14T09:16:29.384Z"
   },
   {
    "duration": 13,
    "start_time": "2023-08-14T09:16:29.600Z"
   },
   {
    "duration": 7,
    "start_time": "2023-08-14T09:16:29.615Z"
   },
   {
    "duration": 15,
    "start_time": "2023-08-14T09:16:29.624Z"
   },
   {
    "duration": 861,
    "start_time": "2023-08-14T09:16:29.641Z"
   },
   {
    "duration": 3,
    "start_time": "2023-08-14T09:16:30.504Z"
   },
   {
    "duration": 46,
    "start_time": "2023-08-14T09:16:30.509Z"
   },
   {
    "duration": 27,
    "start_time": "2023-08-14T09:16:30.557Z"
   },
   {
    "duration": 170,
    "start_time": "2023-08-14T09:16:30.586Z"
   },
   {
    "duration": 6,
    "start_time": "2023-08-14T09:16:30.758Z"
   },
   {
    "duration": 47,
    "start_time": "2023-08-14T09:16:30.766Z"
   },
   {
    "duration": 60,
    "start_time": "2023-08-14T09:16:30.814Z"
   },
   {
    "duration": 53,
    "start_time": "2023-08-14T09:16:30.876Z"
   },
   {
    "duration": 216,
    "start_time": "2023-08-14T09:24:40.500Z"
   },
   {
    "duration": 166,
    "start_time": "2023-08-14T09:26:17.742Z"
   },
   {
    "duration": 146,
    "start_time": "2023-08-14T09:27:14.297Z"
   },
   {
    "duration": 150,
    "start_time": "2023-08-14T09:27:19.578Z"
   },
   {
    "duration": 274,
    "start_time": "2023-08-14T09:27:27.858Z"
   },
   {
    "duration": 159,
    "start_time": "2023-08-14T09:27:37.931Z"
   },
   {
    "duration": 153,
    "start_time": "2023-08-14T09:27:54.655Z"
   },
   {
    "duration": 147,
    "start_time": "2023-08-14T09:27:59.832Z"
   },
   {
    "duration": 147,
    "start_time": "2023-08-14T09:28:03.464Z"
   },
   {
    "duration": 158,
    "start_time": "2023-08-14T09:28:09.830Z"
   },
   {
    "duration": 149,
    "start_time": "2023-08-14T09:28:58.045Z"
   },
   {
    "duration": 370,
    "start_time": "2023-08-14T09:30:27.325Z"
   },
   {
    "duration": 388,
    "start_time": "2023-08-14T09:30:44.050Z"
   },
   {
    "duration": 152,
    "start_time": "2023-08-14T09:30:53.539Z"
   },
   {
    "duration": 146,
    "start_time": "2023-08-14T09:31:00.615Z"
   },
   {
    "duration": 156,
    "start_time": "2023-08-14T09:31:03.975Z"
   },
   {
    "duration": 158,
    "start_time": "2023-08-14T09:31:07.554Z"
   },
   {
    "duration": 152,
    "start_time": "2023-08-14T09:31:11.770Z"
   },
   {
    "duration": 1313,
    "start_time": "2023-08-14T09:32:51.382Z"
   },
   {
    "duration": 160,
    "start_time": "2023-08-14T09:33:09.423Z"
   },
   {
    "duration": 265,
    "start_time": "2023-08-14T09:59:43.583Z"
   },
   {
    "duration": 144,
    "start_time": "2023-08-14T10:02:43.056Z"
   },
   {
    "duration": 160,
    "start_time": "2023-08-14T10:03:14.255Z"
   },
   {
    "duration": 143,
    "start_time": "2023-08-14T10:03:19.804Z"
   },
   {
    "duration": 151,
    "start_time": "2023-08-14T10:03:25.624Z"
   },
   {
    "duration": 152,
    "start_time": "2023-08-14T10:03:30.276Z"
   },
   {
    "duration": 10,
    "start_time": "2023-08-14T10:07:48.736Z"
   },
   {
    "duration": 3,
    "start_time": "2023-08-14T10:08:03.488Z"
   },
   {
    "duration": 52,
    "start_time": "2023-08-14T10:08:03.494Z"
   },
   {
    "duration": 9,
    "start_time": "2023-08-14T10:08:03.548Z"
   },
   {
    "duration": 12,
    "start_time": "2023-08-14T10:08:03.559Z"
   },
   {
    "duration": 31,
    "start_time": "2023-08-14T10:08:03.573Z"
   },
   {
    "duration": 9,
    "start_time": "2023-08-14T10:08:03.605Z"
   },
   {
    "duration": 18,
    "start_time": "2023-08-14T10:08:03.616Z"
   },
   {
    "duration": 24,
    "start_time": "2023-08-14T10:08:03.636Z"
   },
   {
    "duration": 10,
    "start_time": "2023-08-14T10:08:03.661Z"
   },
   {
    "duration": 15,
    "start_time": "2023-08-14T10:08:03.672Z"
   },
   {
    "duration": 13,
    "start_time": "2023-08-14T10:08:03.690Z"
   },
   {
    "duration": 14,
    "start_time": "2023-08-14T10:08:03.705Z"
   },
   {
    "duration": 15,
    "start_time": "2023-08-14T10:08:03.721Z"
   },
   {
    "duration": 6,
    "start_time": "2023-08-14T10:08:03.738Z"
   },
   {
    "duration": 9,
    "start_time": "2023-08-14T10:08:03.757Z"
   },
   {
    "duration": 12,
    "start_time": "2023-08-14T10:08:03.768Z"
   },
   {
    "duration": 12,
    "start_time": "2023-08-14T10:08:03.781Z"
   },
   {
    "duration": 11,
    "start_time": "2023-08-14T10:08:03.794Z"
   },
   {
    "duration": 8,
    "start_time": "2023-08-14T10:08:03.807Z"
   },
   {
    "duration": 6,
    "start_time": "2023-08-14T10:08:03.817Z"
   },
   {
    "duration": 36,
    "start_time": "2023-08-14T10:08:03.824Z"
   },
   {
    "duration": 8,
    "start_time": "2023-08-14T10:08:03.862Z"
   },
   {
    "duration": 6,
    "start_time": "2023-08-14T10:08:03.872Z"
   },
   {
    "duration": 15,
    "start_time": "2023-08-14T10:08:03.880Z"
   },
   {
    "duration": 158,
    "start_time": "2023-08-14T10:08:03.897Z"
   },
   {
    "duration": 159,
    "start_time": "2023-08-14T10:08:04.058Z"
   },
   {
    "duration": 6,
    "start_time": "2023-08-14T10:08:04.219Z"
   },
   {
    "duration": 110,
    "start_time": "2023-08-14T10:08:04.227Z"
   },
   {
    "duration": 16,
    "start_time": "2023-08-14T10:08:04.341Z"
   },
   {
    "duration": 156,
    "start_time": "2023-08-14T10:08:04.359Z"
   },
   {
    "duration": 9,
    "start_time": "2023-08-14T10:08:04.517Z"
   },
   {
    "duration": 129,
    "start_time": "2023-08-14T10:08:04.527Z"
   },
   {
    "duration": 265,
    "start_time": "2023-08-14T10:08:04.659Z"
   },
   {
    "duration": 8,
    "start_time": "2023-08-14T10:08:04.926Z"
   },
   {
    "duration": 122,
    "start_time": "2023-08-14T10:08:04.936Z"
   },
   {
    "duration": 157,
    "start_time": "2023-08-14T10:08:05.060Z"
   },
   {
    "duration": 10,
    "start_time": "2023-08-14T10:08:05.220Z"
   },
   {
    "duration": 0,
    "start_time": "2023-08-14T10:08:05.232Z"
   },
   {
    "duration": 0,
    "start_time": "2023-08-14T10:08:05.233Z"
   },
   {
    "duration": 0,
    "start_time": "2023-08-14T10:08:05.234Z"
   },
   {
    "duration": 0,
    "start_time": "2023-08-14T10:08:05.235Z"
   },
   {
    "duration": 0,
    "start_time": "2023-08-14T10:08:05.237Z"
   },
   {
    "duration": 0,
    "start_time": "2023-08-14T10:08:05.238Z"
   },
   {
    "duration": 0,
    "start_time": "2023-08-14T10:08:05.239Z"
   },
   {
    "duration": 0,
    "start_time": "2023-08-14T10:08:05.256Z"
   },
   {
    "duration": 0,
    "start_time": "2023-08-14T10:08:05.257Z"
   },
   {
    "duration": 0,
    "start_time": "2023-08-14T10:08:05.259Z"
   },
   {
    "duration": 0,
    "start_time": "2023-08-14T10:08:05.260Z"
   },
   {
    "duration": 0,
    "start_time": "2023-08-14T10:08:05.261Z"
   },
   {
    "duration": 0,
    "start_time": "2023-08-14T10:08:05.262Z"
   },
   {
    "duration": 0,
    "start_time": "2023-08-14T10:08:05.263Z"
   },
   {
    "duration": 0,
    "start_time": "2023-08-14T10:08:05.265Z"
   },
   {
    "duration": 0,
    "start_time": "2023-08-14T10:08:05.266Z"
   },
   {
    "duration": 0,
    "start_time": "2023-08-14T10:08:05.267Z"
   },
   {
    "duration": 5,
    "start_time": "2023-08-14T10:09:45.128Z"
   },
   {
    "duration": 5,
    "start_time": "2023-08-14T10:09:58.129Z"
   },
   {
    "duration": 5,
    "start_time": "2023-08-14T10:14:47.478Z"
   },
   {
    "duration": 5,
    "start_time": "2023-08-14T10:14:58.421Z"
   },
   {
    "duration": 1387,
    "start_time": "2023-08-14T13:01:59.499Z"
   },
   {
    "duration": 32,
    "start_time": "2023-08-14T13:02:00.888Z"
   },
   {
    "duration": 18,
    "start_time": "2023-08-14T13:02:00.922Z"
   },
   {
    "duration": 51,
    "start_time": "2023-08-14T13:02:00.942Z"
   },
   {
    "duration": 58,
    "start_time": "2023-08-14T13:02:00.996Z"
   },
   {
    "duration": 74,
    "start_time": "2023-08-14T13:02:01.056Z"
   },
   {
    "duration": 83,
    "start_time": "2023-08-14T13:02:01.132Z"
   },
   {
    "duration": 44,
    "start_time": "2023-08-14T13:02:01.218Z"
   },
   {
    "duration": 45,
    "start_time": "2023-08-14T13:02:01.264Z"
   },
   {
    "duration": 104,
    "start_time": "2023-08-14T13:02:01.312Z"
   },
   {
    "duration": 132,
    "start_time": "2023-08-14T13:02:01.418Z"
   },
   {
    "duration": 116,
    "start_time": "2023-08-14T13:02:01.552Z"
   },
   {
    "duration": 75,
    "start_time": "2023-08-14T13:02:01.671Z"
   },
   {
    "duration": 135,
    "start_time": "2023-08-14T13:02:01.748Z"
   },
   {
    "duration": 54,
    "start_time": "2023-08-14T13:02:01.886Z"
   },
   {
    "duration": 143,
    "start_time": "2023-08-14T13:02:01.942Z"
   },
   {
    "duration": 98,
    "start_time": "2023-08-14T13:02:02.087Z"
   },
   {
    "duration": 72,
    "start_time": "2023-08-14T13:02:02.188Z"
   },
   {
    "duration": 67,
    "start_time": "2023-08-14T13:02:02.262Z"
   },
   {
    "duration": 58,
    "start_time": "2023-08-14T13:02:02.331Z"
   },
   {
    "duration": 35,
    "start_time": "2023-08-14T13:02:02.391Z"
   },
   {
    "duration": 50,
    "start_time": "2023-08-14T13:02:02.428Z"
   },
   {
    "duration": 72,
    "start_time": "2023-08-14T13:02:02.480Z"
   },
   {
    "duration": 35,
    "start_time": "2023-08-14T13:02:02.554Z"
   },
   {
    "duration": 201,
    "start_time": "2023-08-14T13:02:02.591Z"
   },
   {
    "duration": 192,
    "start_time": "2023-08-14T13:02:02.794Z"
   },
   {
    "duration": 6,
    "start_time": "2023-08-14T13:02:02.988Z"
   },
   {
    "duration": 127,
    "start_time": "2023-08-14T13:02:02.998Z"
   },
   {
    "duration": 7,
    "start_time": "2023-08-14T13:02:03.126Z"
   },
   {
    "duration": 207,
    "start_time": "2023-08-14T13:02:03.134Z"
   },
   {
    "duration": 9,
    "start_time": "2023-08-14T13:02:03.342Z"
   },
   {
    "duration": 158,
    "start_time": "2023-08-14T13:02:03.352Z"
   },
   {
    "duration": 198,
    "start_time": "2023-08-14T13:02:03.512Z"
   },
   {
    "duration": 8,
    "start_time": "2023-08-14T13:02:03.711Z"
   },
   {
    "duration": 140,
    "start_time": "2023-08-14T13:02:03.721Z"
   },
   {
    "duration": 297,
    "start_time": "2023-08-14T13:02:03.863Z"
   },
   {
    "duration": 6,
    "start_time": "2023-08-14T13:02:04.166Z"
   },
   {
    "duration": 28,
    "start_time": "2023-08-14T13:02:04.174Z"
   },
   {
    "duration": 15,
    "start_time": "2023-08-14T13:02:04.204Z"
   },
   {
    "duration": 41,
    "start_time": "2023-08-14T13:02:04.221Z"
   },
   {
    "duration": 10,
    "start_time": "2023-08-14T13:02:04.268Z"
   },
   {
    "duration": 35,
    "start_time": "2023-08-14T13:02:04.280Z"
   },
   {
    "duration": 230,
    "start_time": "2023-08-14T13:02:04.318Z"
   },
   {
    "duration": 249,
    "start_time": "2023-08-14T13:02:04.551Z"
   },
   {
    "duration": 24,
    "start_time": "2023-08-14T13:02:04.802Z"
   },
   {
    "duration": 268,
    "start_time": "2023-08-14T13:02:04.828Z"
   },
   {
    "duration": 240,
    "start_time": "2023-08-14T13:02:05.098Z"
   },
   {
    "duration": 4,
    "start_time": "2023-08-14T13:02:05.339Z"
   },
   {
    "duration": 1031,
    "start_time": "2023-08-14T13:02:05.345Z"
   },
   {
    "duration": 4,
    "start_time": "2023-08-14T13:02:06.377Z"
   },
   {
    "duration": 20,
    "start_time": "2023-08-14T13:02:06.383Z"
   },
   {
    "duration": 11,
    "start_time": "2023-08-14T13:02:06.405Z"
   },
   {
    "duration": 180,
    "start_time": "2023-08-14T13:02:06.418Z"
   },
   {
    "duration": 8,
    "start_time": "2023-08-14T13:02:06.599Z"
   },
   {
    "duration": 19,
    "start_time": "2023-08-14T13:02:06.609Z"
   },
   {
    "duration": 33,
    "start_time": "2023-08-14T13:02:06.630Z"
   },
   {
    "duration": 16,
    "start_time": "2023-08-14T13:02:06.665Z"
   },
   {
    "duration": 58,
    "start_time": "2023-11-25T16:13:29.532Z"
   },
   {
    "duration": 398,
    "start_time": "2023-11-25T16:13:34.371Z"
   },
   {
    "duration": 28,
    "start_time": "2023-11-25T16:14:12.896Z"
   },
   {
    "duration": 57,
    "start_time": "2023-11-25T16:14:27.023Z"
   },
   {
    "duration": 116,
    "start_time": "2023-11-25T16:14:33.863Z"
   },
   {
    "duration": 98,
    "start_time": "2023-11-25T16:14:40.861Z"
   },
   {
    "duration": 87,
    "start_time": "2023-11-25T16:14:46.609Z"
   },
   {
    "duration": 91,
    "start_time": "2023-11-25T16:14:58.771Z"
   },
   {
    "duration": 79,
    "start_time": "2023-11-25T16:15:05.556Z"
   },
   {
    "duration": 6,
    "start_time": "2023-11-25T16:15:16.602Z"
   },
   {
    "duration": 61,
    "start_time": "2023-11-25T16:15:22.114Z"
   },
   {
    "duration": 96,
    "start_time": "2023-11-25T16:15:32.667Z"
   },
   {
    "duration": 83,
    "start_time": "2023-11-25T16:15:40.757Z"
   },
   {
    "duration": 87,
    "start_time": "2023-11-25T16:16:13.068Z"
   },
   {
    "duration": 48,
    "start_time": "2023-11-25T16:17:20.646Z"
   },
   {
    "duration": 48,
    "start_time": "2023-11-25T16:17:33.113Z"
   },
   {
    "duration": 48,
    "start_time": "2023-11-25T16:17:42.123Z"
   },
   {
    "duration": 55,
    "start_time": "2023-11-25T16:17:50.663Z"
   },
   {
    "duration": 23,
    "start_time": "2023-11-25T16:18:54.271Z"
   },
   {
    "duration": 49,
    "start_time": "2023-11-25T16:23:50.187Z"
   },
   {
    "duration": 48,
    "start_time": "2023-11-25T16:23:55.720Z"
   },
   {
    "duration": 46,
    "start_time": "2023-11-25T16:24:02.606Z"
   },
   {
    "duration": 44,
    "start_time": "2023-11-25T16:24:21.922Z"
   },
   {
    "duration": 70,
    "start_time": "2023-11-25T16:24:29.538Z"
   },
   {
    "duration": 110,
    "start_time": "2023-11-25T16:27:49.545Z"
   },
   {
    "duration": 69,
    "start_time": "2023-11-25T16:30:13.526Z"
   },
   {
    "duration": 49,
    "start_time": "2023-11-25T16:30:18.847Z"
   },
   {
    "duration": 43,
    "start_time": "2023-11-25T16:30:56.388Z"
   },
   {
    "duration": 91,
    "start_time": "2023-11-25T16:31:02.432Z"
   },
   {
    "duration": 50,
    "start_time": "2023-11-25T16:32:12.384Z"
   },
   {
    "duration": 55,
    "start_time": "2023-11-25T16:32:23.894Z"
   },
   {
    "duration": 48,
    "start_time": "2023-11-25T16:32:56.903Z"
   },
   {
    "duration": 82,
    "start_time": "2023-11-25T16:37:10.109Z"
   },
   {
    "duration": 36,
    "start_time": "2023-11-25T16:37:17.275Z"
   },
   {
    "duration": 55,
    "start_time": "2023-11-25T16:37:21.821Z"
   },
   {
    "duration": 10,
    "start_time": "2023-11-25T16:37:35.602Z"
   },
   {
    "duration": 47,
    "start_time": "2023-11-25T16:39:26.035Z"
   },
   {
    "duration": 80,
    "start_time": "2023-11-25T16:39:31.064Z"
   },
   {
    "duration": 69,
    "start_time": "2023-11-25T16:39:35.486Z"
   },
   {
    "duration": 79,
    "start_time": "2023-11-25T16:39:40.998Z"
   },
   {
    "duration": 75,
    "start_time": "2023-11-25T16:39:45.238Z"
   },
   {
    "duration": 79,
    "start_time": "2023-11-25T16:39:50.380Z"
   },
   {
    "duration": 72,
    "start_time": "2023-11-25T16:39:57.424Z"
   }
  ],
  "kernelspec": {
   "display_name": "Python 3 (ipykernel)",
   "language": "python",
   "name": "python3"
  },
  "language_info": {
   "codemirror_mode": {
    "name": "ipython",
    "version": 3
   },
   "file_extension": ".py",
   "mimetype": "text/x-python",
   "name": "python",
   "nbconvert_exporter": "python",
   "pygments_lexer": "ipython3",
   "version": "3.9.5"
  },
  "toc": {
   "base_numbering": 1,
   "nav_menu": {},
   "number_sections": true,
   "sideBar": true,
   "skip_h1_title": true,
   "title_cell": "Table of Contents",
   "title_sidebar": "Contents",
   "toc_cell": false,
   "toc_position": {},
   "toc_section_display": true,
   "toc_window_display": false
  }
 },
 "nbformat": 4,
 "nbformat_minor": 5
}
