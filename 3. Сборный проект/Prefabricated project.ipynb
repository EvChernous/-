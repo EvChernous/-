{
 "cells": [
  {
   "cell_type": "markdown",
   "metadata": {},
   "source": [
    "# Сборный проект"
   ]
  },
  {
   "cell_type": "markdown",
   "metadata": {},
   "source": [
    "У нас в доступе данные о играх выпускаемых с 1980 по 2016 год, с количеством их продажи на каких платформах они продаются и в каких регионах.Нужно выяснить факторы влиющие на успешность игры.\n",
    "\n",
    "Name — название игры\n",
    "Platform — платформа\n",
    "Year_of_Release — год выпуска\n",
    "Genre — жанр игры\n",
    "NA_sales — продажи в Северной Америке (миллионы проданных копий)\n",
    "EU_sales — продажи в Европе (миллионы проданных копий)\n",
    "JP_sales — продажи в Японии (миллионы проданных копий)\n",
    "Other_sales — продажи в других странах (миллионы проданных копий)\n",
    "Critic_Score — оценка критиков (максимум 100)\n",
    "User_Score — оценка пользователей (максимум 10)\n",
    "Rating — рейтинг от организации ESRB (англ. Entertainment Software Rating Board). Эта ассоциация определяет рейтинг компьютерных игр и присваивает им подходящую возрастную категорию.\n",
    "\n"
   ]
  },
  {
   "cell_type": "markdown",
   "metadata": {},
   "source": [
    "### Открытие файла и изучение общей информации \n"
   ]
  },
  {
   "cell_type": "code",
   "execution_count": 1,
   "metadata": {},
   "outputs": [],
   "source": [
    "import pandas as pd\n",
    "import matplotlib.pyplot as plt\n",
    "import seaborn as sns\n",
    "import plotly.express as px\n",
    "import numpy as np\n",
    "from scipy import stats as st\n",
    "\n",
    "pd.set_option('display.max_columns', None)"
   ]
  },
  {
   "cell_type": "code",
   "execution_count": 2,
   "metadata": {},
   "outputs": [],
   "source": [
    "games = pd.read_csv('/datasets/games.csv')"
   ]
  },
  {
   "cell_type": "code",
   "execution_count": 3,
   "metadata": {},
   "outputs": [
    {
     "name": "stdout",
     "output_type": "stream",
     "text": [
      "<class 'pandas.core.frame.DataFrame'>\n",
      "RangeIndex: 16715 entries, 0 to 16714\n",
      "Data columns (total 11 columns):\n",
      " #   Column           Non-Null Count  Dtype  \n",
      "---  ------           --------------  -----  \n",
      " 0   Name             16713 non-null  object \n",
      " 1   Platform         16715 non-null  object \n",
      " 2   Year_of_Release  16446 non-null  float64\n",
      " 3   Genre            16713 non-null  object \n",
      " 4   NA_sales         16715 non-null  float64\n",
      " 5   EU_sales         16715 non-null  float64\n",
      " 6   JP_sales         16715 non-null  float64\n",
      " 7   Other_sales      16715 non-null  float64\n",
      " 8   Critic_Score     8137 non-null   float64\n",
      " 9   User_Score       10014 non-null  object \n",
      " 10  Rating           9949 non-null   object \n",
      "dtypes: float64(6), object(5)\n",
      "memory usage: 1.4+ MB\n"
     ]
    }
   ],
   "source": [
    "games.info()"
   ]
  },
  {
   "cell_type": "code",
   "execution_count": 4,
   "metadata": {},
   "outputs": [
    {
     "data": {
      "text/html": [
       "<div>\n",
       "<style scoped>\n",
       "    .dataframe tbody tr th:only-of-type {\n",
       "        vertical-align: middle;\n",
       "    }\n",
       "\n",
       "    .dataframe tbody tr th {\n",
       "        vertical-align: top;\n",
       "    }\n",
       "\n",
       "    .dataframe thead th {\n",
       "        text-align: right;\n",
       "    }\n",
       "</style>\n",
       "<table border=\"1\" class=\"dataframe\">\n",
       "  <thead>\n",
       "    <tr style=\"text-align: right;\">\n",
       "      <th></th>\n",
       "      <th>Name</th>\n",
       "      <th>Platform</th>\n",
       "      <th>Year_of_Release</th>\n",
       "      <th>Genre</th>\n",
       "      <th>NA_sales</th>\n",
       "      <th>EU_sales</th>\n",
       "      <th>JP_sales</th>\n",
       "      <th>Other_sales</th>\n",
       "      <th>Critic_Score</th>\n",
       "      <th>User_Score</th>\n",
       "      <th>Rating</th>\n",
       "    </tr>\n",
       "  </thead>\n",
       "  <tbody>\n",
       "    <tr>\n",
       "      <th>0</th>\n",
       "      <td>Wii Sports</td>\n",
       "      <td>Wii</td>\n",
       "      <td>2006.0</td>\n",
       "      <td>Sports</td>\n",
       "      <td>41.36</td>\n",
       "      <td>28.96</td>\n",
       "      <td>3.77</td>\n",
       "      <td>8.45</td>\n",
       "      <td>76.0</td>\n",
       "      <td>8</td>\n",
       "      <td>E</td>\n",
       "    </tr>\n",
       "    <tr>\n",
       "      <th>1</th>\n",
       "      <td>Super Mario Bros.</td>\n",
       "      <td>NES</td>\n",
       "      <td>1985.0</td>\n",
       "      <td>Platform</td>\n",
       "      <td>29.08</td>\n",
       "      <td>3.58</td>\n",
       "      <td>6.81</td>\n",
       "      <td>0.77</td>\n",
       "      <td>NaN</td>\n",
       "      <td>NaN</td>\n",
       "      <td>NaN</td>\n",
       "    </tr>\n",
       "    <tr>\n",
       "      <th>2</th>\n",
       "      <td>Mario Kart Wii</td>\n",
       "      <td>Wii</td>\n",
       "      <td>2008.0</td>\n",
       "      <td>Racing</td>\n",
       "      <td>15.68</td>\n",
       "      <td>12.76</td>\n",
       "      <td>3.79</td>\n",
       "      <td>3.29</td>\n",
       "      <td>82.0</td>\n",
       "      <td>8.3</td>\n",
       "      <td>E</td>\n",
       "    </tr>\n",
       "    <tr>\n",
       "      <th>3</th>\n",
       "      <td>Wii Sports Resort</td>\n",
       "      <td>Wii</td>\n",
       "      <td>2009.0</td>\n",
       "      <td>Sports</td>\n",
       "      <td>15.61</td>\n",
       "      <td>10.93</td>\n",
       "      <td>3.28</td>\n",
       "      <td>2.95</td>\n",
       "      <td>80.0</td>\n",
       "      <td>8</td>\n",
       "      <td>E</td>\n",
       "    </tr>\n",
       "    <tr>\n",
       "      <th>4</th>\n",
       "      <td>Pokemon Red/Pokemon Blue</td>\n",
       "      <td>GB</td>\n",
       "      <td>1996.0</td>\n",
       "      <td>Role-Playing</td>\n",
       "      <td>11.27</td>\n",
       "      <td>8.89</td>\n",
       "      <td>10.22</td>\n",
       "      <td>1.00</td>\n",
       "      <td>NaN</td>\n",
       "      <td>NaN</td>\n",
       "      <td>NaN</td>\n",
       "    </tr>\n",
       "  </tbody>\n",
       "</table>\n",
       "</div>"
      ],
      "text/plain": [
       "                       Name Platform  Year_of_Release         Genre  NA_sales  \\\n",
       "0                Wii Sports      Wii           2006.0        Sports     41.36   \n",
       "1         Super Mario Bros.      NES           1985.0      Platform     29.08   \n",
       "2            Mario Kart Wii      Wii           2008.0        Racing     15.68   \n",
       "3         Wii Sports Resort      Wii           2009.0        Sports     15.61   \n",
       "4  Pokemon Red/Pokemon Blue       GB           1996.0  Role-Playing     11.27   \n",
       "\n",
       "   EU_sales  JP_sales  Other_sales  Critic_Score User_Score Rating  \n",
       "0     28.96      3.77         8.45          76.0          8      E  \n",
       "1      3.58      6.81         0.77           NaN        NaN    NaN  \n",
       "2     12.76      3.79         3.29          82.0        8.3      E  \n",
       "3     10.93      3.28         2.95          80.0          8      E  \n",
       "4      8.89     10.22         1.00           NaN        NaN    NaN  "
      ]
     },
     "execution_count": 4,
     "metadata": {},
     "output_type": "execute_result"
    }
   ],
   "source": [
    "games.head(5)"
   ]
  },
  {
   "cell_type": "markdown",
   "metadata": {},
   "source": [
    "#### Вывод\n",
    "Сразу заметно что есть большое количество пропусков в данных, так же нужно заменить формат данных year_of_release с float64 на int64 так как год релиза не может быть не целым числом, user_score с object на float64 для дальнейщего  удобства работы с данными, но сначала надо будет порабоатать с пропусками. Для удобства работы нужно будет привести все названия столбцов к нижнему регистру."
   ]
  },
  {
   "cell_type": "markdown",
   "metadata": {},
   "source": [
    "### Подготовка дынных"
   ]
  },
  {
   "cell_type": "code",
   "execution_count": 5,
   "metadata": {},
   "outputs": [],
   "source": [
    "games.columns = games.columns.str.lower()\n",
    "#приводим названия столбцов к нижнему регистру"
   ]
  },
  {
   "cell_type": "code",
   "execution_count": 6,
   "metadata": {},
   "outputs": [
    {
     "data": {
      "text/plain": [
       "0"
      ]
     },
     "execution_count": 6,
     "metadata": {},
     "output_type": "execute_result"
    }
   ],
   "source": [
    "games.duplicated().sum()\n",
    "#дубликаты не обнаружены"
   ]
  },
  {
   "cell_type": "code",
   "execution_count": 7,
   "metadata": {},
   "outputs": [
    {
     "data": {
      "text/plain": [
       "name                  2\n",
       "platform              0\n",
       "year_of_release     269\n",
       "genre                 2\n",
       "na_sales              0\n",
       "eu_sales              0\n",
       "jp_sales              0\n",
       "other_sales           0\n",
       "critic_score       8578\n",
       "user_score         6701\n",
       "rating             6766\n",
       "dtype: int64"
      ]
     },
     "execution_count": 7,
     "metadata": {},
     "output_type": "execute_result"
    }
   ],
   "source": [
    "games.isna().sum()\n",
    "#посмотрим пропущенные значения"
   ]
  },
  {
   "cell_type": "markdown",
   "metadata": {},
   "source": [
    "Так как данные с названием пропущены всего два значения удалим эти строки"
   ]
  },
  {
   "cell_type": "code",
   "execution_count": 8,
   "metadata": {},
   "outputs": [],
   "source": [
    "games = games.dropna(subset = ['name'])"
   ]
  },
  {
   "cell_type": "code",
   "execution_count": 9,
   "metadata": {},
   "outputs": [
    {
     "data": {
      "text/plain": [
       "name                  0\n",
       "platform              0\n",
       "year_of_release     269\n",
       "genre                 0\n",
       "na_sales              0\n",
       "eu_sales              0\n",
       "jp_sales              0\n",
       "other_sales           0\n",
       "critic_score       8576\n",
       "user_score         6699\n",
       "rating             6764\n",
       "dtype: int64"
      ]
     },
     "execution_count": 9,
     "metadata": {},
     "output_type": "execute_result"
    }
   ],
   "source": [
    "games.isna().sum()\n",
    "#оказалось что пропущенные значения в названии совпали с пропусков и в столбце с жанром"
   ]
  },
  {
   "cell_type": "code",
   "execution_count": 10,
   "metadata": {},
   "outputs": [],
   "source": [
    "games = games.dropna(subset = ['year_of_release'])"
   ]
  },
  {
   "cell_type": "code",
   "execution_count": 11,
   "metadata": {},
   "outputs": [],
   "source": [
    "games['year_of_release'] = games['year_of_release'].astype('Int64')\n",
    "#привели к нужному типу"
   ]
  },
  {
   "cell_type": "code",
   "execution_count": 12,
   "metadata": {},
   "outputs": [
    {
     "data": {
      "text/plain": [
       "array([76., nan, 82., 80., 89., 58., 87., 91., 61., 97., 95., 77., 88.,\n",
       "       83., 94., 93., 85., 86., 98., 96., 90., 84., 73., 74., 78., 92.,\n",
       "       71., 72., 68., 62., 49., 67., 81., 66., 56., 79., 70., 59., 64.,\n",
       "       75., 60., 63., 69., 50., 25., 42., 44., 55., 48., 57., 29., 47.,\n",
       "       65., 54., 20., 53., 37., 38., 33., 52., 30., 32., 43., 45., 51.,\n",
       "       40., 46., 39., 34., 41., 36., 31., 27., 35., 26., 19., 28., 23.,\n",
       "       24., 21., 17., 13.])"
      ]
     },
     "execution_count": 12,
     "metadata": {},
     "output_type": "execute_result"
    }
   ],
   "source": [
    "games['critic_score'].unique()\n",
    "#видим что тип данных лучше заменить не на float а на int"
   ]
  },
  {
   "cell_type": "code",
   "execution_count": 13,
   "metadata": {},
   "outputs": [],
   "source": [
    "games['critic_score'] = games['critic_score'].astype('Int64')"
   ]
  },
  {
   "cell_type": "code",
   "execution_count": 14,
   "metadata": {},
   "outputs": [],
   "source": [
    "#TBD это To Be Determined (будет определено) скорее всего либо не было отзывов вообше, либо их было очень мало для формирования рейтинга\n",
    "#Заменим значение \"tbd\" - \"to be determined\" на NaN\n",
    "games['user_score'] = games['user_score'].replace('tbd', np.NaN)\n",
    "games['user_score'] = games['user_score'].astype('float')"
   ]
  },
  {
   "cell_type": "code",
   "execution_count": 15,
   "metadata": {},
   "outputs": [],
   "source": [
    "games['total_sales'] = games['na_sales'] + games['eu_sales'] + games['jp_sales'] + games['other_sales']"
   ]
  },
  {
   "cell_type": "code",
   "execution_count": 16,
   "metadata": {},
   "outputs": [
    {
     "data": {
      "text/html": [
       "<div>\n",
       "<style scoped>\n",
       "    .dataframe tbody tr th:only-of-type {\n",
       "        vertical-align: middle;\n",
       "    }\n",
       "\n",
       "    .dataframe tbody tr th {\n",
       "        vertical-align: top;\n",
       "    }\n",
       "\n",
       "    .dataframe thead th {\n",
       "        text-align: right;\n",
       "    }\n",
       "</style>\n",
       "<table border=\"1\" class=\"dataframe\">\n",
       "  <thead>\n",
       "    <tr style=\"text-align: right;\">\n",
       "      <th></th>\n",
       "      <th>name</th>\n",
       "      <th>platform</th>\n",
       "      <th>year_of_release</th>\n",
       "      <th>genre</th>\n",
       "      <th>na_sales</th>\n",
       "      <th>eu_sales</th>\n",
       "      <th>jp_sales</th>\n",
       "      <th>other_sales</th>\n",
       "      <th>critic_score</th>\n",
       "      <th>user_score</th>\n",
       "      <th>rating</th>\n",
       "      <th>total_sales</th>\n",
       "    </tr>\n",
       "  </thead>\n",
       "  <tbody>\n",
       "    <tr>\n",
       "      <th>16230</th>\n",
       "      <td>Madden NFL 13</td>\n",
       "      <td>PS3</td>\n",
       "      <td>2012</td>\n",
       "      <td>Sports</td>\n",
       "      <td>0.0</td>\n",
       "      <td>0.01</td>\n",
       "      <td>0.0</td>\n",
       "      <td>0.0</td>\n",
       "      <td>83</td>\n",
       "      <td>5.5</td>\n",
       "      <td>E</td>\n",
       "      <td>0.01</td>\n",
       "    </tr>\n",
       "  </tbody>\n",
       "</table>\n",
       "</div>"
      ],
      "text/plain": [
       "                name platform  year_of_release   genre  na_sales  eu_sales  \\\n",
       "16230  Madden NFL 13      PS3             2012  Sports       0.0      0.01   \n",
       "\n",
       "       jp_sales  other_sales  critic_score  user_score rating  total_sales  \n",
       "16230       0.0          0.0            83         5.5      E         0.01  "
      ]
     },
     "execution_count": 16,
     "metadata": {},
     "output_type": "execute_result"
    }
   ],
   "source": [
    "games[games.duplicated(['name','year_of_release','platform'])]"
   ]
  },
  {
   "cell_type": "markdown",
   "metadata": {},
   "source": [
    "найден один неявный дубликат"
   ]
  },
  {
   "cell_type": "code",
   "execution_count": 17,
   "metadata": {},
   "outputs": [],
   "source": [
    "games = games.drop(labels=[16230],axis = 0)"
   ]
  },
  {
   "cell_type": "code",
   "execution_count": 18,
   "metadata": {},
   "outputs": [
    {
     "data": {
      "text/html": [
       "<div>\n",
       "<style scoped>\n",
       "    .dataframe tbody tr th:only-of-type {\n",
       "        vertical-align: middle;\n",
       "    }\n",
       "\n",
       "    .dataframe tbody tr th {\n",
       "        vertical-align: top;\n",
       "    }\n",
       "\n",
       "    .dataframe thead th {\n",
       "        text-align: right;\n",
       "    }\n",
       "</style>\n",
       "<table border=\"1\" class=\"dataframe\">\n",
       "  <thead>\n",
       "    <tr style=\"text-align: right;\">\n",
       "      <th></th>\n",
       "      <th>name</th>\n",
       "      <th>platform</th>\n",
       "      <th>year_of_release</th>\n",
       "      <th>genre</th>\n",
       "      <th>na_sales</th>\n",
       "      <th>eu_sales</th>\n",
       "      <th>jp_sales</th>\n",
       "      <th>other_sales</th>\n",
       "      <th>critic_score</th>\n",
       "      <th>user_score</th>\n",
       "      <th>rating</th>\n",
       "      <th>total_sales</th>\n",
       "    </tr>\n",
       "  </thead>\n",
       "  <tbody>\n",
       "    <tr>\n",
       "      <th>0</th>\n",
       "      <td>Wii Sports</td>\n",
       "      <td>Wii</td>\n",
       "      <td>2006</td>\n",
       "      <td>Sports</td>\n",
       "      <td>41.36</td>\n",
       "      <td>28.96</td>\n",
       "      <td>3.77</td>\n",
       "      <td>8.45</td>\n",
       "      <td>76</td>\n",
       "      <td>8.0</td>\n",
       "      <td>E</td>\n",
       "      <td>82.54</td>\n",
       "    </tr>\n",
       "    <tr>\n",
       "      <th>1</th>\n",
       "      <td>Super Mario Bros.</td>\n",
       "      <td>NES</td>\n",
       "      <td>1985</td>\n",
       "      <td>Platform</td>\n",
       "      <td>29.08</td>\n",
       "      <td>3.58</td>\n",
       "      <td>6.81</td>\n",
       "      <td>0.77</td>\n",
       "      <td>&lt;NA&gt;</td>\n",
       "      <td>NaN</td>\n",
       "      <td>NaN</td>\n",
       "      <td>40.24</td>\n",
       "    </tr>\n",
       "    <tr>\n",
       "      <th>2</th>\n",
       "      <td>Mario Kart Wii</td>\n",
       "      <td>Wii</td>\n",
       "      <td>2008</td>\n",
       "      <td>Racing</td>\n",
       "      <td>15.68</td>\n",
       "      <td>12.76</td>\n",
       "      <td>3.79</td>\n",
       "      <td>3.29</td>\n",
       "      <td>82</td>\n",
       "      <td>8.3</td>\n",
       "      <td>E</td>\n",
       "      <td>35.52</td>\n",
       "    </tr>\n",
       "    <tr>\n",
       "      <th>3</th>\n",
       "      <td>Wii Sports Resort</td>\n",
       "      <td>Wii</td>\n",
       "      <td>2009</td>\n",
       "      <td>Sports</td>\n",
       "      <td>15.61</td>\n",
       "      <td>10.93</td>\n",
       "      <td>3.28</td>\n",
       "      <td>2.95</td>\n",
       "      <td>80</td>\n",
       "      <td>8.0</td>\n",
       "      <td>E</td>\n",
       "      <td>32.77</td>\n",
       "    </tr>\n",
       "    <tr>\n",
       "      <th>4</th>\n",
       "      <td>Pokemon Red/Pokemon Blue</td>\n",
       "      <td>GB</td>\n",
       "      <td>1996</td>\n",
       "      <td>Role-Playing</td>\n",
       "      <td>11.27</td>\n",
       "      <td>8.89</td>\n",
       "      <td>10.22</td>\n",
       "      <td>1.00</td>\n",
       "      <td>&lt;NA&gt;</td>\n",
       "      <td>NaN</td>\n",
       "      <td>NaN</td>\n",
       "      <td>31.38</td>\n",
       "    </tr>\n",
       "    <tr>\n",
       "      <th>...</th>\n",
       "      <td>...</td>\n",
       "      <td>...</td>\n",
       "      <td>...</td>\n",
       "      <td>...</td>\n",
       "      <td>...</td>\n",
       "      <td>...</td>\n",
       "      <td>...</td>\n",
       "      <td>...</td>\n",
       "      <td>...</td>\n",
       "      <td>...</td>\n",
       "      <td>...</td>\n",
       "      <td>...</td>\n",
       "    </tr>\n",
       "    <tr>\n",
       "      <th>16438</th>\n",
       "      <td>Samurai Warriors: Sanada Maru</td>\n",
       "      <td>PS3</td>\n",
       "      <td>2016</td>\n",
       "      <td>Action</td>\n",
       "      <td>0.00</td>\n",
       "      <td>0.00</td>\n",
       "      <td>0.01</td>\n",
       "      <td>0.00</td>\n",
       "      <td>&lt;NA&gt;</td>\n",
       "      <td>NaN</td>\n",
       "      <td>NaN</td>\n",
       "      <td>0.01</td>\n",
       "    </tr>\n",
       "    <tr>\n",
       "      <th>16439</th>\n",
       "      <td>LMA Manager 2007</td>\n",
       "      <td>X360</td>\n",
       "      <td>2006</td>\n",
       "      <td>Sports</td>\n",
       "      <td>0.00</td>\n",
       "      <td>0.01</td>\n",
       "      <td>0.00</td>\n",
       "      <td>0.00</td>\n",
       "      <td>&lt;NA&gt;</td>\n",
       "      <td>NaN</td>\n",
       "      <td>NaN</td>\n",
       "      <td>0.01</td>\n",
       "    </tr>\n",
       "    <tr>\n",
       "      <th>16440</th>\n",
       "      <td>Haitaka no Psychedelica</td>\n",
       "      <td>PSV</td>\n",
       "      <td>2016</td>\n",
       "      <td>Adventure</td>\n",
       "      <td>0.00</td>\n",
       "      <td>0.00</td>\n",
       "      <td>0.01</td>\n",
       "      <td>0.00</td>\n",
       "      <td>&lt;NA&gt;</td>\n",
       "      <td>NaN</td>\n",
       "      <td>NaN</td>\n",
       "      <td>0.01</td>\n",
       "    </tr>\n",
       "    <tr>\n",
       "      <th>16441</th>\n",
       "      <td>Spirits &amp; Spells</td>\n",
       "      <td>GBA</td>\n",
       "      <td>2003</td>\n",
       "      <td>Platform</td>\n",
       "      <td>0.01</td>\n",
       "      <td>0.00</td>\n",
       "      <td>0.00</td>\n",
       "      <td>0.00</td>\n",
       "      <td>&lt;NA&gt;</td>\n",
       "      <td>NaN</td>\n",
       "      <td>NaN</td>\n",
       "      <td>0.01</td>\n",
       "    </tr>\n",
       "    <tr>\n",
       "      <th>16442</th>\n",
       "      <td>Winning Post 8 2016</td>\n",
       "      <td>PSV</td>\n",
       "      <td>2016</td>\n",
       "      <td>Simulation</td>\n",
       "      <td>0.00</td>\n",
       "      <td>0.00</td>\n",
       "      <td>0.01</td>\n",
       "      <td>0.00</td>\n",
       "      <td>&lt;NA&gt;</td>\n",
       "      <td>NaN</td>\n",
       "      <td>NaN</td>\n",
       "      <td>0.01</td>\n",
       "    </tr>\n",
       "  </tbody>\n",
       "</table>\n",
       "<p>16443 rows × 12 columns</p>\n",
       "</div>"
      ],
      "text/plain": [
       "                                name platform  year_of_release         genre  \\\n",
       "0                         Wii Sports      Wii             2006        Sports   \n",
       "1                  Super Mario Bros.      NES             1985      Platform   \n",
       "2                     Mario Kart Wii      Wii             2008        Racing   \n",
       "3                  Wii Sports Resort      Wii             2009        Sports   \n",
       "4           Pokemon Red/Pokemon Blue       GB             1996  Role-Playing   \n",
       "...                              ...      ...              ...           ...   \n",
       "16438  Samurai Warriors: Sanada Maru      PS3             2016        Action   \n",
       "16439               LMA Manager 2007     X360             2006        Sports   \n",
       "16440        Haitaka no Psychedelica      PSV             2016     Adventure   \n",
       "16441               Spirits & Spells      GBA             2003      Platform   \n",
       "16442            Winning Post 8 2016      PSV             2016    Simulation   \n",
       "\n",
       "       na_sales  eu_sales  jp_sales  other_sales  critic_score  user_score  \\\n",
       "0         41.36     28.96      3.77         8.45            76         8.0   \n",
       "1         29.08      3.58      6.81         0.77          <NA>         NaN   \n",
       "2         15.68     12.76      3.79         3.29            82         8.3   \n",
       "3         15.61     10.93      3.28         2.95            80         8.0   \n",
       "4         11.27      8.89     10.22         1.00          <NA>         NaN   \n",
       "...         ...       ...       ...          ...           ...         ...   \n",
       "16438      0.00      0.00      0.01         0.00          <NA>         NaN   \n",
       "16439      0.00      0.01      0.00         0.00          <NA>         NaN   \n",
       "16440      0.00      0.00      0.01         0.00          <NA>         NaN   \n",
       "16441      0.01      0.00      0.00         0.00          <NA>         NaN   \n",
       "16442      0.00      0.00      0.01         0.00          <NA>         NaN   \n",
       "\n",
       "      rating  total_sales  \n",
       "0          E        82.54  \n",
       "1        NaN        40.24  \n",
       "2          E        35.52  \n",
       "3          E        32.77  \n",
       "4        NaN        31.38  \n",
       "...      ...          ...  \n",
       "16438    NaN         0.01  \n",
       "16439    NaN         0.01  \n",
       "16440    NaN         0.01  \n",
       "16441    NaN         0.01  \n",
       "16442    NaN         0.01  \n",
       "\n",
       "[16443 rows x 12 columns]"
      ]
     },
     "execution_count": 18,
     "metadata": {},
     "output_type": "execute_result"
    }
   ],
   "source": [
    "games.reset_index(drop=True)"
   ]
  },
  {
   "cell_type": "code",
   "execution_count": 19,
   "metadata": {
    "scrolled": true
   },
   "outputs": [
    {
     "data": {
      "text/html": [
       "<div>\n",
       "<style scoped>\n",
       "    .dataframe tbody tr th:only-of-type {\n",
       "        vertical-align: middle;\n",
       "    }\n",
       "\n",
       "    .dataframe tbody tr th {\n",
       "        vertical-align: top;\n",
       "    }\n",
       "\n",
       "    .dataframe thead th {\n",
       "        text-align: right;\n",
       "    }\n",
       "</style>\n",
       "<table border=\"1\" class=\"dataframe\">\n",
       "  <thead>\n",
       "    <tr style=\"text-align: right;\">\n",
       "      <th></th>\n",
       "      <th>name</th>\n",
       "      <th>platform</th>\n",
       "      <th>year_of_release</th>\n",
       "      <th>genre</th>\n",
       "      <th>na_sales</th>\n",
       "      <th>eu_sales</th>\n",
       "      <th>jp_sales</th>\n",
       "      <th>other_sales</th>\n",
       "      <th>critic_score</th>\n",
       "      <th>user_score</th>\n",
       "      <th>rating</th>\n",
       "      <th>total_sales</th>\n",
       "    </tr>\n",
       "  </thead>\n",
       "  <tbody>\n",
       "    <tr>\n",
       "      <th>0</th>\n",
       "      <td>Wii Sports</td>\n",
       "      <td>Wii</td>\n",
       "      <td>2006</td>\n",
       "      <td>Sports</td>\n",
       "      <td>41.36</td>\n",
       "      <td>28.96</td>\n",
       "      <td>3.77</td>\n",
       "      <td>8.45</td>\n",
       "      <td>76</td>\n",
       "      <td>8.0</td>\n",
       "      <td>E</td>\n",
       "      <td>82.54</td>\n",
       "    </tr>\n",
       "    <tr>\n",
       "      <th>1</th>\n",
       "      <td>Super Mario Bros.</td>\n",
       "      <td>NES</td>\n",
       "      <td>1985</td>\n",
       "      <td>Platform</td>\n",
       "      <td>29.08</td>\n",
       "      <td>3.58</td>\n",
       "      <td>6.81</td>\n",
       "      <td>0.77</td>\n",
       "      <td>&lt;NA&gt;</td>\n",
       "      <td>NaN</td>\n",
       "      <td>NaN</td>\n",
       "      <td>40.24</td>\n",
       "    </tr>\n",
       "    <tr>\n",
       "      <th>2</th>\n",
       "      <td>Mario Kart Wii</td>\n",
       "      <td>Wii</td>\n",
       "      <td>2008</td>\n",
       "      <td>Racing</td>\n",
       "      <td>15.68</td>\n",
       "      <td>12.76</td>\n",
       "      <td>3.79</td>\n",
       "      <td>3.29</td>\n",
       "      <td>82</td>\n",
       "      <td>8.3</td>\n",
       "      <td>E</td>\n",
       "      <td>35.52</td>\n",
       "    </tr>\n",
       "    <tr>\n",
       "      <th>3</th>\n",
       "      <td>Wii Sports Resort</td>\n",
       "      <td>Wii</td>\n",
       "      <td>2009</td>\n",
       "      <td>Sports</td>\n",
       "      <td>15.61</td>\n",
       "      <td>10.93</td>\n",
       "      <td>3.28</td>\n",
       "      <td>2.95</td>\n",
       "      <td>80</td>\n",
       "      <td>8.0</td>\n",
       "      <td>E</td>\n",
       "      <td>32.77</td>\n",
       "    </tr>\n",
       "    <tr>\n",
       "      <th>4</th>\n",
       "      <td>Pokemon Red/Pokemon Blue</td>\n",
       "      <td>GB</td>\n",
       "      <td>1996</td>\n",
       "      <td>Role-Playing</td>\n",
       "      <td>11.27</td>\n",
       "      <td>8.89</td>\n",
       "      <td>10.22</td>\n",
       "      <td>1.00</td>\n",
       "      <td>&lt;NA&gt;</td>\n",
       "      <td>NaN</td>\n",
       "      <td>NaN</td>\n",
       "      <td>31.38</td>\n",
       "    </tr>\n",
       "  </tbody>\n",
       "</table>\n",
       "</div>"
      ],
      "text/plain": [
       "                       name platform  year_of_release         genre  na_sales  \\\n",
       "0                Wii Sports      Wii             2006        Sports     41.36   \n",
       "1         Super Mario Bros.      NES             1985      Platform     29.08   \n",
       "2            Mario Kart Wii      Wii             2008        Racing     15.68   \n",
       "3         Wii Sports Resort      Wii             2009        Sports     15.61   \n",
       "4  Pokemon Red/Pokemon Blue       GB             1996  Role-Playing     11.27   \n",
       "\n",
       "   eu_sales  jp_sales  other_sales  critic_score  user_score rating  \\\n",
       "0     28.96      3.77         8.45            76         8.0      E   \n",
       "1      3.58      6.81         0.77          <NA>         NaN    NaN   \n",
       "2     12.76      3.79         3.29            82         8.3      E   \n",
       "3     10.93      3.28         2.95            80         8.0      E   \n",
       "4      8.89     10.22         1.00          <NA>         NaN    NaN   \n",
       "\n",
       "   total_sales  \n",
       "0        82.54  \n",
       "1        40.24  \n",
       "2        35.52  \n",
       "3        32.77  \n",
       "4        31.38  "
      ]
     },
     "execution_count": 19,
     "metadata": {},
     "output_type": "execute_result"
    }
   ],
   "source": [
    "games.head()"
   ]
  },
  {
   "cell_type": "code",
   "execution_count": 20,
   "metadata": {},
   "outputs": [
    {
     "data": {
      "text/plain": [
       "name                  0\n",
       "platform              0\n",
       "year_of_release       0\n",
       "genre                 0\n",
       "na_sales              0\n",
       "eu_sales              0\n",
       "jp_sales              0\n",
       "other_sales           0\n",
       "critic_score       8461\n",
       "user_score         8981\n",
       "rating             6676\n",
       "total_sales           0\n",
       "dtype: int64"
      ]
     },
     "execution_count": 20,
     "metadata": {},
     "output_type": "execute_result"
    }
   ],
   "source": [
    "games.isna().sum()"
   ]
  },
  {
   "cell_type": "markdown",
   "metadata": {},
   "source": [
    "#### Вывод\n",
    "Проверили данные на дубликаты и их не было обнаружено, привели все названия столбцов к нижнему регистру для удобства.\n",
    "\n",
    "Нашли два пропуска в названиях и удалили данные строки и так же удалились стоки и с пропускаи в жанре. Столбцы с годом релиза привели к типу данных int, так же столбец с оценкой от критиков в итоге привели к типу int из-за того что все оценки целые числа.TBD это не оценненые или еще ждут оценки заменили на значение пропуска NaN.\n",
    "\n",
    "Остальные пропуски не трогали по причинам их большого количества, данные пропуски могли появиться из-за технической ошибки, или из-за отуствия этих данных.\n",
    "\n",
    "Добавили столбец с сумарным количевством продаж сложив продажи во всех регионах."
   ]
  },
  {
   "cell_type": "markdown",
   "metadata": {},
   "source": [
    "### Исследовательский анализ данных"
   ]
  },
  {
   "cell_type": "markdown",
   "metadata": {},
   "source": [
    "#### Данные о количестве выпускаемых игр по годам"
   ]
  },
  {
   "cell_type": "code",
   "execution_count": 21,
   "metadata": {},
   "outputs": [
    {
     "data": {
      "text/plain": [
       "array([[<AxesSubplot:title={'center':'year_of_release'}>]], dtype=object)"
      ]
     },
     "execution_count": 21,
     "metadata": {},
     "output_type": "execute_result"
    },
    {
     "data": {
      "image/png": "[encoded data removed]",
      "text/plain": [
       "<Figure size 432x288 with 1 Axes>"
      ]
     },
     "metadata": {
      "needs_background": "light"
     },
     "output_type": "display_data"
    }
   ],
   "source": [
    "games.hist('year_of_release', bins = 37)"
   ]
  },
  {
   "cell_type": "code",
   "execution_count": 22,
   "metadata": {},
   "outputs": [
    {
     "data": {
      "text/plain": [
       "2008    1427\n",
       "2009    1426\n",
       "2010    1255\n",
       "2007    1197\n",
       "2011    1136\n",
       "2006    1006\n",
       "2005     939\n",
       "2002     829\n",
       "2003     775\n",
       "2004     762\n",
       "2012     652\n",
       "2015     606\n",
       "2014     581\n",
       "2013     544\n",
       "2016     502\n",
       "2001     482\n",
       "1998     379\n",
       "2000     350\n",
       "1999     338\n",
       "1997     289\n",
       "1996     263\n",
       "1995     219\n",
       "1994     121\n",
       "1993      60\n",
       "1981      46\n",
       "1992      43\n",
       "1991      41\n",
       "1982      36\n",
       "1986      21\n",
       "1983      17\n",
       "1989      17\n",
       "1990      16\n",
       "1987      16\n",
       "1988      15\n",
       "1985      14\n",
       "1984      14\n",
       "1980       9\n",
       "Name: year_of_release, dtype: Int64"
      ]
     },
     "execution_count": 22,
     "metadata": {},
     "output_type": "execute_result"
    }
   ],
   "source": [
    "games['year_of_release'].value_counts()"
   ]
  },
  {
   "cell_type": "markdown",
   "metadata": {},
   "source": [
    "По графику виддно что кол-во выпускаемых игр до 1995 года очень малы, пик же выпуска игр пришел на 2006-2011 далее начался спад связанный с появлением новых технологий разроботок игр,что повлекло увелечение срока производства новых игр."
   ]
  },
  {
   "cell_type": "markdown",
   "metadata": {},
   "source": [
    "#### Данные о продажах по платформах"
   ]
  },
  {
   "cell_type": "code",
   "execution_count": 23,
   "metadata": {},
   "outputs": [
    {
     "data": {
      "text/html": [
       "<div>\n",
       "<style scoped>\n",
       "    .dataframe tbody tr th:only-of-type {\n",
       "        vertical-align: middle;\n",
       "    }\n",
       "\n",
       "    .dataframe tbody tr th {\n",
       "        vertical-align: top;\n",
       "    }\n",
       "\n",
       "    .dataframe thead th {\n",
       "        text-align: right;\n",
       "    }\n",
       "</style>\n",
       "<table border=\"1\" class=\"dataframe\">\n",
       "  <thead>\n",
       "    <tr style=\"text-align: right;\">\n",
       "      <th></th>\n",
       "      <th>total_sales</th>\n",
       "    </tr>\n",
       "    <tr>\n",
       "      <th>platform</th>\n",
       "      <th></th>\n",
       "    </tr>\n",
       "  </thead>\n",
       "  <tbody>\n",
       "    <tr>\n",
       "      <th>PS2</th>\n",
       "      <td>1233.56</td>\n",
       "    </tr>\n",
       "    <tr>\n",
       "      <th>X360</th>\n",
       "      <td>961.24</td>\n",
       "    </tr>\n",
       "    <tr>\n",
       "      <th>PS3</th>\n",
       "      <td>931.33</td>\n",
       "    </tr>\n",
       "    <tr>\n",
       "      <th>Wii</th>\n",
       "      <td>891.18</td>\n",
       "    </tr>\n",
       "    <tr>\n",
       "      <th>DS</th>\n",
       "      <td>802.78</td>\n",
       "    </tr>\n",
       "    <tr>\n",
       "      <th>PS</th>\n",
       "      <td>727.58</td>\n",
       "    </tr>\n",
       "    <tr>\n",
       "      <th>PS4</th>\n",
       "      <td>314.14</td>\n",
       "    </tr>\n",
       "    <tr>\n",
       "      <th>GBA</th>\n",
       "      <td>312.88</td>\n",
       "    </tr>\n",
       "    <tr>\n",
       "      <th>PSP</th>\n",
       "      <td>289.53</td>\n",
       "    </tr>\n",
       "    <tr>\n",
       "      <th>3DS</th>\n",
       "      <td>257.81</td>\n",
       "    </tr>\n",
       "    <tr>\n",
       "      <th>PC</th>\n",
       "      <td>255.76</td>\n",
       "    </tr>\n",
       "    <tr>\n",
       "      <th>GB</th>\n",
       "      <td>254.43</td>\n",
       "    </tr>\n",
       "    <tr>\n",
       "      <th>XB</th>\n",
       "      <td>251.57</td>\n",
       "    </tr>\n",
       "    <tr>\n",
       "      <th>NES</th>\n",
       "      <td>251.05</td>\n",
       "    </tr>\n",
       "    <tr>\n",
       "      <th>N64</th>\n",
       "      <td>218.01</td>\n",
       "    </tr>\n",
       "    <tr>\n",
       "      <th>SNES</th>\n",
       "      <td>200.04</td>\n",
       "    </tr>\n",
       "    <tr>\n",
       "      <th>GC</th>\n",
       "      <td>196.73</td>\n",
       "    </tr>\n",
       "    <tr>\n",
       "      <th>XOne</th>\n",
       "      <td>159.32</td>\n",
       "    </tr>\n",
       "    <tr>\n",
       "      <th>2600</th>\n",
       "      <td>86.48</td>\n",
       "    </tr>\n",
       "    <tr>\n",
       "      <th>WiiU</th>\n",
       "      <td>82.19</td>\n",
       "    </tr>\n",
       "    <tr>\n",
       "      <th>PSV</th>\n",
       "      <td>53.81</td>\n",
       "    </tr>\n",
       "    <tr>\n",
       "      <th>SAT</th>\n",
       "      <td>33.59</td>\n",
       "    </tr>\n",
       "    <tr>\n",
       "      <th>GEN</th>\n",
       "      <td>28.35</td>\n",
       "    </tr>\n",
       "    <tr>\n",
       "      <th>DC</th>\n",
       "      <td>15.95</td>\n",
       "    </tr>\n",
       "    <tr>\n",
       "      <th>SCD</th>\n",
       "      <td>1.86</td>\n",
       "    </tr>\n",
       "    <tr>\n",
       "      <th>NG</th>\n",
       "      <td>1.44</td>\n",
       "    </tr>\n",
       "    <tr>\n",
       "      <th>WS</th>\n",
       "      <td>1.42</td>\n",
       "    </tr>\n",
       "    <tr>\n",
       "      <th>TG16</th>\n",
       "      <td>0.16</td>\n",
       "    </tr>\n",
       "    <tr>\n",
       "      <th>3DO</th>\n",
       "      <td>0.10</td>\n",
       "    </tr>\n",
       "    <tr>\n",
       "      <th>GG</th>\n",
       "      <td>0.04</td>\n",
       "    </tr>\n",
       "    <tr>\n",
       "      <th>PCFX</th>\n",
       "      <td>0.03</td>\n",
       "    </tr>\n",
       "  </tbody>\n",
       "</table>\n",
       "</div>"
      ],
      "text/plain": [
       "          total_sales\n",
       "platform             \n",
       "PS2           1233.56\n",
       "X360           961.24\n",
       "PS3            931.33\n",
       "Wii            891.18\n",
       "DS             802.78\n",
       "PS             727.58\n",
       "PS4            314.14\n",
       "GBA            312.88\n",
       "PSP            289.53\n",
       "3DS            257.81\n",
       "PC             255.76\n",
       "GB             254.43\n",
       "XB             251.57\n",
       "NES            251.05\n",
       "N64            218.01\n",
       "SNES           200.04\n",
       "GC             196.73\n",
       "XOne           159.32\n",
       "2600            86.48\n",
       "WiiU            82.19\n",
       "PSV             53.81\n",
       "SAT             33.59\n",
       "GEN             28.35\n",
       "DC              15.95\n",
       "SCD              1.86\n",
       "NG               1.44\n",
       "WS               1.42\n",
       "TG16             0.16\n",
       "3DO              0.10\n",
       "GG               0.04\n",
       "PCFX             0.03"
      ]
     },
     "execution_count": 23,
     "metadata": {},
     "output_type": "execute_result"
    }
   ],
   "source": [
    "platforms_ascending = games.pivot_table(index = 'platform', values = 'total_sales', aggfunc = 'sum').sort_values(by = 'total_sales', ascending = False)\n",
    "top10_platforms = platforms_ascending.reset_index()\n",
    "iloc_top10_platforms = top10_platforms.iloc[0:10]\n",
    "top10_platforms = iloc_top10_platforms['platform'].unique()\n",
    "platforms_ascending"
   ]
  },
  {
   "cell_type": "code",
   "execution_count": 24,
   "metadata": {},
   "outputs": [
    {
     "data": {
      "text/plain": [
       "<AxesSubplot:xlabel='platform'>"
      ]
     },
     "execution_count": 24,
     "metadata": {},
     "output_type": "execute_result"
    },
    {
     "data": {
      "image/png": "[encoded data removed]",
      "text/plain": [
       "<Figure size 1080x360 with 1 Axes>"
      ]
     },
     "metadata": {
      "needs_background": "light"
     },
     "output_type": "display_data"
    }
   ],
   "source": [
    "iloc_top10_platforms.plot(x=\"platform\", y=\"total_sales\", kind='bar', figsize=(15,5))"
   ]
  },
  {
   "cell_type": "code",
   "execution_count": 25,
   "metadata": {},
   "outputs": [
    {
     "data": {
      "image/png": "[encoded data removed]",
      "text/plain": [
       "<Figure size 1080x360 with 1 Axes>"
      ]
     },
     "metadata": {
      "needs_background": "light"
     },
     "output_type": "display_data"
    },
    {
     "data": {
      "image/png": "[encoded data removed]",
      "text/plain": [
       "<Figure size 1080x360 with 1 Axes>"
      ]
     },
     "metadata": {
      "needs_background": "light"
     },
     "output_type": "display_data"
    },
    {
     "data": {
      "image/png": "[encoded data removed]",
      "text/plain": [
       "<Figure size 1080x360 with 1 Axes>"
      ]
     },
     "metadata": {
      "needs_background": "light"
     },
     "output_type": "display_data"
    },
    {
     "data": {
      "image/png": "[encoded data removed]",
      "text/plain": [
       "<Figure size 1080x360 with 1 Axes>"
      ]
     },
     "metadata": {
      "needs_background": "light"
     },
     "output_type": "display_data"
    },
    {
     "data": {
      "image/png": "[encoded data removed]",
      "text/plain": [
       "<Figure size 1080x360 with 1 Axes>"
      ]
     },
     "metadata": {
      "needs_background": "light"
     },
     "output_type": "display_data"
    },
    {
     "data": {
      "image/png": "[encoded data removed]",
      "text/plain": [
       "<Figure size 1080x360 with 1 Axes>"
      ]
     },
     "metadata": {
      "needs_background": "light"
     },
     "output_type": "display_data"
    },
    {
     "data": {
      "image/png": "[encoded data removed]",
      "text/plain": [
       "<Figure size 1080x360 with 1 Axes>"
      ]
     },
     "metadata": {
      "needs_background": "light"
     },
     "output_type": "display_data"
    },
    {
     "data": {
      "image/png": "[encoded data removed]",
      "text/plain": [
       "<Figure size 1080x360 with 1 Axes>"
      ]
     },
     "metadata": {
      "needs_background": "light"
     },
     "output_type": "display_data"
    },
    {
     "data": {
      "image/png": "[encoded data removed]",
      "text/plain": [
       "<Figure size 1080x360 with 1 Axes>"
      ]
     },
     "metadata": {
      "needs_background": "light"
     },
     "output_type": "display_data"
    },
    {
     "data": {
      "image/png": "[encoded data removed]",
      "text/plain": [
       "<Figure size 1080x360 with 1 Axes>"
      ]
     },
     "metadata": {
      "needs_background": "light"
     },
     "output_type": "display_data"
    }
   ],
   "source": [
    "for platform in top10_platforms:\n",
    "    games[games['platform'] == platform].pivot_table(index = 'year_of_release', values = 'total_sales', aggfunc = 'sum').plot(kind = 'bar', figsize=(15,5))\n",
    "    plt.title(platform)"
   ]
  },
  {
   "cell_type": "markdown",
   "metadata": {},
   "source": [
    "По данным видно что средний срок жизни платформы 10 лет, в таком случае для прогноза на 2017 и далее актуальнее брать для рассчетов данные с 2012 года."
   ]
  },
  {
   "cell_type": "markdown",
   "metadata": {},
   "source": [
    "#### Анализ"
   ]
  },
  {
   "cell_type": "code",
   "execution_count": 26,
   "metadata": {},
   "outputs": [],
   "source": [
    "actual_data = games.query('year_of_release >= 2012')"
   ]
  },
  {
   "cell_type": "code",
   "execution_count": 27,
   "metadata": {},
   "outputs": [
    {
     "data": {
      "text/plain": [
       "<AxesSubplot:xlabel='year_of_release'>"
      ]
     },
     "execution_count": 27,
     "metadata": {},
     "output_type": "execute_result"
    },
    {
     "data": {
      "image/png": "[encoded data removed]",
      "text/plain": [
       "<Figure size 1080x360 with 1 Axes>"
      ]
     },
     "metadata": {
      "needs_background": "light"
     },
     "output_type": "display_data"
    }
   ],
   "source": [
    "actual_data.query('platform in @top10_platforms').pivot_table(index='year_of_release', columns = 'platform', values='total_sales', aggfunc='sum').plot(figsize=(15, 5))"
   ]
  },
  {
   "cell_type": "markdown",
   "metadata": {},
   "source": [
    "Все игры на платформах идут на снижение по продажам. Среди них игры на PS4 продаются гораздо чаще, скорее всего, потому что консоль появилась не так давно. PS4 является потенциально прибыльной, также PC, потому что показывает хоть небольшие, но стабильные продажи. падает сильнее всего спрос на консоли: X360, PS3. На остальные консоли уже давно упал спрос, либо вообще не продаются.\n",
    "\n",
    "Итого потенциально прибыльные:\n",
    "\n",
    "PC, PS4, XOne\n",
    "\n",
    "Потенциально не будут продаваться:\n",
    "\n",
    "X360, PS3"
   ]
  },
  {
   "cell_type": "code",
   "execution_count": 28,
   "metadata": {},
   "outputs": [
    {
     "data": {
      "text/plain": [
       "<AxesSubplot:>"
      ]
     },
     "execution_count": 28,
     "metadata": {},
     "output_type": "execute_result"
    },
    {
     "data": {
      "image/png": "[encoded data removed]",
      "text/plain": [
       "<Figure size 432x288 with 1 Axes>"
      ]
     },
     "metadata": {
      "needs_background": "light"
     },
     "output_type": "display_data"
    }
   ],
   "source": [
    "actual_data.pivot_table(index = 'name', columns = 'platform', values = 'total_sales', aggfunc = 'sum').plot(kind='box', ylim=(0,1.9))"
   ]
  },
  {
   "cell_type": "markdown",
   "metadata": {},
   "source": [
    "На графике мы видем, что мы не учли консоль только набирающую популярность - XOne. На нее было выпущено не так много игр, поэтому мы ее не включили в предыдущий график, но игры этой консоли очень хорошо продаются, потому что медианные значения PS4 и XOne почти совпадают. Добавим XOne в список потенциально прибыльных."
   ]
  },
  {
   "cell_type": "code",
   "execution_count": 29,
   "metadata": {},
   "outputs": [
    {
     "data": {
      "text/html": [
       "<div>\n",
       "<style scoped>\n",
       "    .dataframe tbody tr th:only-of-type {\n",
       "        vertical-align: middle;\n",
       "    }\n",
       "\n",
       "    .dataframe tbody tr th {\n",
       "        vertical-align: top;\n",
       "    }\n",
       "\n",
       "    .dataframe thead th {\n",
       "        text-align: right;\n",
       "    }\n",
       "</style>\n",
       "<table border=\"1\" class=\"dataframe\">\n",
       "  <thead>\n",
       "    <tr style=\"text-align: right;\">\n",
       "      <th>platform</th>\n",
       "      <th>3DS</th>\n",
       "      <th>DS</th>\n",
       "      <th>PC</th>\n",
       "      <th>PS3</th>\n",
       "      <th>PS4</th>\n",
       "      <th>PSP</th>\n",
       "      <th>PSV</th>\n",
       "      <th>Wii</th>\n",
       "      <th>WiiU</th>\n",
       "      <th>X360</th>\n",
       "      <th>XOne</th>\n",
       "    </tr>\n",
       "  </thead>\n",
       "  <tbody>\n",
       "    <tr>\n",
       "      <th>count</th>\n",
       "      <td>396.000000</td>\n",
       "      <td>31.000000</td>\n",
       "      <td>250.00000</td>\n",
       "      <td>492.000000</td>\n",
       "      <td>392.000000</td>\n",
       "      <td>173.000000</td>\n",
       "      <td>411.000000</td>\n",
       "      <td>54.000000</td>\n",
       "      <td>147.000000</td>\n",
       "      <td>292.000000</td>\n",
       "      <td>247.000000</td>\n",
       "    </tr>\n",
       "    <tr>\n",
       "      <th>mean</th>\n",
       "      <td>0.491439</td>\n",
       "      <td>0.404839</td>\n",
       "      <td>0.25060</td>\n",
       "      <td>0.586951</td>\n",
       "      <td>0.801378</td>\n",
       "      <td>0.064682</td>\n",
       "      <td>0.119659</td>\n",
       "      <td>0.655000</td>\n",
       "      <td>0.559116</td>\n",
       "      <td>0.810068</td>\n",
       "      <td>0.645020</td>\n",
       "    </tr>\n",
       "    <tr>\n",
       "      <th>std</th>\n",
       "      <td>1.387161</td>\n",
       "      <td>1.439245</td>\n",
       "      <td>0.49464</td>\n",
       "      <td>1.464113</td>\n",
       "      <td>1.609456</td>\n",
       "      <td>0.071296</td>\n",
       "      <td>0.203011</td>\n",
       "      <td>1.165447</td>\n",
       "      <td>1.058836</td>\n",
       "      <td>1.712069</td>\n",
       "      <td>1.036139</td>\n",
       "    </tr>\n",
       "    <tr>\n",
       "      <th>min</th>\n",
       "      <td>0.010000</td>\n",
       "      <td>0.010000</td>\n",
       "      <td>0.01000</td>\n",
       "      <td>0.010000</td>\n",
       "      <td>0.010000</td>\n",
       "      <td>0.010000</td>\n",
       "      <td>0.010000</td>\n",
       "      <td>0.010000</td>\n",
       "      <td>0.010000</td>\n",
       "      <td>0.010000</td>\n",
       "      <td>0.010000</td>\n",
       "    </tr>\n",
       "    <tr>\n",
       "      <th>25%</th>\n",
       "      <td>0.040000</td>\n",
       "      <td>0.020000</td>\n",
       "      <td>0.03000</td>\n",
       "      <td>0.050000</td>\n",
       "      <td>0.060000</td>\n",
       "      <td>0.020000</td>\n",
       "      <td>0.020000</td>\n",
       "      <td>0.062500</td>\n",
       "      <td>0.080000</td>\n",
       "      <td>0.100000</td>\n",
       "      <td>0.060000</td>\n",
       "    </tr>\n",
       "    <tr>\n",
       "      <th>50%</th>\n",
       "      <td>0.110000</td>\n",
       "      <td>0.050000</td>\n",
       "      <td>0.08000</td>\n",
       "      <td>0.200000</td>\n",
       "      <td>0.200000</td>\n",
       "      <td>0.030000</td>\n",
       "      <td>0.050000</td>\n",
       "      <td>0.180000</td>\n",
       "      <td>0.220000</td>\n",
       "      <td>0.310000</td>\n",
       "      <td>0.220000</td>\n",
       "    </tr>\n",
       "    <tr>\n",
       "      <th>75%</th>\n",
       "      <td>0.312500</td>\n",
       "      <td>0.185000</td>\n",
       "      <td>0.24000</td>\n",
       "      <td>0.610000</td>\n",
       "      <td>0.730000</td>\n",
       "      <td>0.090000</td>\n",
       "      <td>0.120000</td>\n",
       "      <td>0.687500</td>\n",
       "      <td>0.525000</td>\n",
       "      <td>0.870000</td>\n",
       "      <td>0.685000</td>\n",
       "    </tr>\n",
       "    <tr>\n",
       "      <th>max</th>\n",
       "      <td>14.600000</td>\n",
       "      <td>8.060000</td>\n",
       "      <td>5.14000</td>\n",
       "      <td>21.050000</td>\n",
       "      <td>14.630000</td>\n",
       "      <td>0.360000</td>\n",
       "      <td>1.960000</td>\n",
       "      <td>6.760000</td>\n",
       "      <td>7.090000</td>\n",
       "      <td>16.270000</td>\n",
       "      <td>7.390000</td>\n",
       "    </tr>\n",
       "  </tbody>\n",
       "</table>\n",
       "</div>"
      ],
      "text/plain": [
       "platform         3DS         DS         PC         PS3         PS4  \\\n",
       "count     396.000000  31.000000  250.00000  492.000000  392.000000   \n",
       "mean        0.491439   0.404839    0.25060    0.586951    0.801378   \n",
       "std         1.387161   1.439245    0.49464    1.464113    1.609456   \n",
       "min         0.010000   0.010000    0.01000    0.010000    0.010000   \n",
       "25%         0.040000   0.020000    0.03000    0.050000    0.060000   \n",
       "50%         0.110000   0.050000    0.08000    0.200000    0.200000   \n",
       "75%         0.312500   0.185000    0.24000    0.610000    0.730000   \n",
       "max        14.600000   8.060000    5.14000   21.050000   14.630000   \n",
       "\n",
       "platform         PSP         PSV        Wii        WiiU        X360  \\\n",
       "count     173.000000  411.000000  54.000000  147.000000  292.000000   \n",
       "mean        0.064682    0.119659   0.655000    0.559116    0.810068   \n",
       "std         0.071296    0.203011   1.165447    1.058836    1.712069   \n",
       "min         0.010000    0.010000   0.010000    0.010000    0.010000   \n",
       "25%         0.020000    0.020000   0.062500    0.080000    0.100000   \n",
       "50%         0.030000    0.050000   0.180000    0.220000    0.310000   \n",
       "75%         0.090000    0.120000   0.687500    0.525000    0.870000   \n",
       "max         0.360000    1.960000   6.760000    7.090000   16.270000   \n",
       "\n",
       "platform        XOne  \n",
       "count     247.000000  \n",
       "mean        0.645020  \n",
       "std         1.036139  \n",
       "min         0.010000  \n",
       "25%         0.060000  \n",
       "50%         0.220000  \n",
       "75%         0.685000  \n",
       "max         7.390000  "
      ]
     },
     "execution_count": 29,
     "metadata": {},
     "output_type": "execute_result"
    }
   ],
   "source": [
    "actual_data.pivot_table(index = 'name', columns = 'platform', values = 'total_sales', aggfunc = 'sum').describe()"
   ]
  },
  {
   "cell_type": "markdown",
   "metadata": {},
   "source": [
    "На всех выбраных нами платформа PC PS4 И XONE имеются очень сильные выборсы максимальных продаж, это может быть связано с играми бесцеллерами. Медиана самая высокая у Xone потом идет ps4 и pc. На всех трех платформах так же сильны разброс по Q1 и Q3 это может быть связано с высокой продоваемастью игр на данных платформах."
   ]
  },
  {
   "cell_type": "markdown",
   "metadata": {},
   "source": [
    "#### Корреляция по платформам"
   ]
  },
  {
   "cell_type": "code",
   "execution_count": 30,
   "metadata": {},
   "outputs": [],
   "source": [
    "PC = actual_data.query('platform == \"PC\"')"
   ]
  },
  {
   "cell_type": "code",
   "execution_count": 31,
   "metadata": {},
   "outputs": [
    {
     "data": {
      "text/plain": [
       "<AxesSubplot:xlabel='total_sales', ylabel='user_score'>"
      ]
     },
     "execution_count": 31,
     "metadata": {},
     "output_type": "execute_result"
    },
    {
     "data": {
      "image/png": "[encoded data removed]",
      "text/plain": [
       "<Figure size 432x288 with 1 Axes>"
      ]
     },
     "metadata": {
      "needs_background": "light"
     },
     "output_type": "display_data"
    }
   ],
   "source": [
    "PC.plot(x='total_sales', y='user_score', kind='scatter')"
   ]
  },
  {
   "cell_type": "code",
   "execution_count": 32,
   "metadata": {},
   "outputs": [
    {
     "data": {
      "text/plain": [
       "<AxesSubplot:xlabel='total_sales', ylabel='critic_score'>"
      ]
     },
     "execution_count": 32,
     "metadata": {},
     "output_type": "execute_result"
    },
    {
     "data": {
      "image/png": "[encoded data removed]",
      "text/plain": [
       "<Figure size 432x288 with 1 Axes>"
      ]
     },
     "metadata": {
      "needs_background": "light"
     },
     "output_type": "display_data"
    }
   ],
   "source": [
    "PC.plot(x='total_sales', y='critic_score', kind='scatter')"
   ]
  },
  {
   "cell_type": "code",
   "execution_count": 33,
   "metadata": {},
   "outputs": [
    {
     "data": {
      "text/html": [
       "<div>\n",
       "<style scoped>\n",
       "    .dataframe tbody tr th:only-of-type {\n",
       "        vertical-align: middle;\n",
       "    }\n",
       "\n",
       "    .dataframe tbody tr th {\n",
       "        vertical-align: top;\n",
       "    }\n",
       "\n",
       "    .dataframe thead th {\n",
       "        text-align: right;\n",
       "    }\n",
       "</style>\n",
       "<table border=\"1\" class=\"dataframe\">\n",
       "  <thead>\n",
       "    <tr style=\"text-align: right;\">\n",
       "      <th></th>\n",
       "      <th>critic_score</th>\n",
       "      <th>user_score</th>\n",
       "      <th>total_sales</th>\n",
       "    </tr>\n",
       "  </thead>\n",
       "  <tbody>\n",
       "    <tr>\n",
       "      <th>critic_score</th>\n",
       "      <td>1.000000</td>\n",
       "      <td>0.432587</td>\n",
       "      <td>0.237243</td>\n",
       "    </tr>\n",
       "    <tr>\n",
       "      <th>user_score</th>\n",
       "      <td>0.432587</td>\n",
       "      <td>1.000000</td>\n",
       "      <td>-0.121867</td>\n",
       "    </tr>\n",
       "    <tr>\n",
       "      <th>total_sales</th>\n",
       "      <td>0.237243</td>\n",
       "      <td>-0.121867</td>\n",
       "      <td>1.000000</td>\n",
       "    </tr>\n",
       "  </tbody>\n",
       "</table>\n",
       "</div>"
      ],
      "text/plain": [
       "              critic_score  user_score  total_sales\n",
       "critic_score      1.000000    0.432587     0.237243\n",
       "user_score        0.432587    1.000000    -0.121867\n",
       "total_sales       0.237243   -0.121867     1.000000"
      ]
     },
     "execution_count": 33,
     "metadata": {},
     "output_type": "execute_result"
    }
   ],
   "source": [
    "PC_cor = PC[['critic_score','user_score', 'total_sales']]\n",
    "PC_cor.corr()"
   ]
  },
  {
   "cell_type": "markdown",
   "metadata": {},
   "source": [
    "по этим данным можно сказать что оценк критиков влияют на количество продаж, а оценки от пользователей не так важны для покупки."
   ]
  },
  {
   "cell_type": "code",
   "execution_count": 34,
   "metadata": {},
   "outputs": [],
   "source": [
    "XOne = actual_data.query('platform == \"XOne\"')\n",
    "PS4 = actual_data.query('platform == \"PS4\"')"
   ]
  },
  {
   "cell_type": "code",
   "execution_count": 35,
   "metadata": {},
   "outputs": [
    {
     "data": {
      "text/html": [
       "<div>\n",
       "<style scoped>\n",
       "    .dataframe tbody tr th:only-of-type {\n",
       "        vertical-align: middle;\n",
       "    }\n",
       "\n",
       "    .dataframe tbody tr th {\n",
       "        vertical-align: top;\n",
       "    }\n",
       "\n",
       "    .dataframe thead th {\n",
       "        text-align: right;\n",
       "    }\n",
       "</style>\n",
       "<table border=\"1\" class=\"dataframe\">\n",
       "  <thead>\n",
       "    <tr style=\"text-align: right;\">\n",
       "      <th></th>\n",
       "      <th>critic_score</th>\n",
       "      <th>user_score</th>\n",
       "      <th>total_sales</th>\n",
       "    </tr>\n",
       "  </thead>\n",
       "  <tbody>\n",
       "    <tr>\n",
       "      <th>critic_score</th>\n",
       "      <td>1.000000</td>\n",
       "      <td>0.557654</td>\n",
       "      <td>0.406568</td>\n",
       "    </tr>\n",
       "    <tr>\n",
       "      <th>user_score</th>\n",
       "      <td>0.557654</td>\n",
       "      <td>1.000000</td>\n",
       "      <td>-0.031957</td>\n",
       "    </tr>\n",
       "    <tr>\n",
       "      <th>total_sales</th>\n",
       "      <td>0.406568</td>\n",
       "      <td>-0.031957</td>\n",
       "      <td>1.000000</td>\n",
       "    </tr>\n",
       "  </tbody>\n",
       "</table>\n",
       "</div>"
      ],
      "text/plain": [
       "              critic_score  user_score  total_sales\n",
       "critic_score      1.000000    0.557654     0.406568\n",
       "user_score        0.557654    1.000000    -0.031957\n",
       "total_sales       0.406568   -0.031957     1.000000"
      ]
     },
     "execution_count": 35,
     "metadata": {},
     "output_type": "execute_result"
    }
   ],
   "source": [
    "PS4_cor = PS4[['critic_score','user_score', 'total_sales']]\n",
    "PS4_cor.corr()"
   ]
  },
  {
   "cell_type": "code",
   "execution_count": 36,
   "metadata": {
    "scrolled": true
   },
   "outputs": [
    {
     "data": {
      "text/plain": [
       "<AxesSubplot:xlabel='total_sales', ylabel='critic_score'>"
      ]
     },
     "execution_count": 36,
     "metadata": {},
     "output_type": "execute_result"
    },
    {
     "data": {
      "image/png": "[encoded data removed]",
      "text/plain": [
       "<Figure size 432x288 with 1 Axes>"
      ]
     },
     "metadata": {
      "needs_background": "light"
     },
     "output_type": "display_data"
    }
   ],
   "source": [
    "PS4.plot(x='total_sales', y='critic_score', kind='scatter')"
   ]
  },
  {
   "cell_type": "code",
   "execution_count": 37,
   "metadata": {
    "scrolled": true
   },
   "outputs": [
    {
     "data": {
      "text/plain": [
       "<AxesSubplot:xlabel='total_sales', ylabel='user_score'>"
      ]
     },
     "execution_count": 37,
     "metadata": {},
     "output_type": "execute_result"
    },
    {
     "data": {
      "image/png": "[encoded data removed]",
      "text/plain": [
       "<Figure size 432x288 with 1 Axes>"
      ]
     },
     "metadata": {
      "needs_background": "light"
     },
     "output_type": "display_data"
    }
   ],
   "source": [
    "PS4.plot(x='total_sales', y='user_score', kind='scatter')"
   ]
  },
  {
   "cell_type": "code",
   "execution_count": 38,
   "metadata": {},
   "outputs": [
    {
     "data": {
      "text/html": [
       "<div>\n",
       "<style scoped>\n",
       "    .dataframe tbody tr th:only-of-type {\n",
       "        vertical-align: middle;\n",
       "    }\n",
       "\n",
       "    .dataframe tbody tr th {\n",
       "        vertical-align: top;\n",
       "    }\n",
       "\n",
       "    .dataframe thead th {\n",
       "        text-align: right;\n",
       "    }\n",
       "</style>\n",
       "<table border=\"1\" class=\"dataframe\">\n",
       "  <thead>\n",
       "    <tr style=\"text-align: right;\">\n",
       "      <th></th>\n",
       "      <th>critic_score</th>\n",
       "      <th>user_score</th>\n",
       "      <th>total_sales</th>\n",
       "    </tr>\n",
       "  </thead>\n",
       "  <tbody>\n",
       "    <tr>\n",
       "      <th>critic_score</th>\n",
       "      <td>1.000000</td>\n",
       "      <td>0.472462</td>\n",
       "      <td>0.416998</td>\n",
       "    </tr>\n",
       "    <tr>\n",
       "      <th>user_score</th>\n",
       "      <td>0.472462</td>\n",
       "      <td>1.000000</td>\n",
       "      <td>-0.068925</td>\n",
       "    </tr>\n",
       "    <tr>\n",
       "      <th>total_sales</th>\n",
       "      <td>0.416998</td>\n",
       "      <td>-0.068925</td>\n",
       "      <td>1.000000</td>\n",
       "    </tr>\n",
       "  </tbody>\n",
       "</table>\n",
       "</div>"
      ],
      "text/plain": [
       "              critic_score  user_score  total_sales\n",
       "critic_score      1.000000    0.472462     0.416998\n",
       "user_score        0.472462    1.000000    -0.068925\n",
       "total_sales       0.416998   -0.068925     1.000000"
      ]
     },
     "execution_count": 38,
     "metadata": {},
     "output_type": "execute_result"
    }
   ],
   "source": [
    "XOne_cor = XOne[['critic_score','user_score', 'total_sales']]\n",
    "XOne_cor.corr()"
   ]
  },
  {
   "cell_type": "code",
   "execution_count": 39,
   "metadata": {},
   "outputs": [
    {
     "data": {
      "text/plain": [
       "<AxesSubplot:xlabel='total_sales', ylabel='critic_score'>"
      ]
     },
     "execution_count": 39,
     "metadata": {},
     "output_type": "execute_result"
    },
    {
     "data": {
      "image/png": "[encoded data removed]",
      "text/plain": [
       "<Figure size 432x288 with 1 Axes>"
      ]
     },
     "metadata": {
      "needs_background": "light"
     },
     "output_type": "display_data"
    }
   ],
   "source": [
    "XOne.plot(x='total_sales', y='critic_score', kind='scatter')"
   ]
  },
  {
   "cell_type": "code",
   "execution_count": 40,
   "metadata": {},
   "outputs": [
    {
     "data": {
      "text/plain": [
       "<AxesSubplot:xlabel='total_sales', ylabel='user_score'>"
      ]
     },
     "execution_count": 40,
     "metadata": {},
     "output_type": "execute_result"
    },
    {
     "data": {
      "image/png": "[encoded data removed]",
      "text/plain": [
       "<Figure size 432x288 with 1 Axes>"
      ]
     },
     "metadata": {
      "needs_background": "light"
     },
     "output_type": "display_data"
    }
   ],
   "source": [
    "XOne.plot(x='total_sales', y='user_score', kind='scatter')"
   ]
  },
  {
   "cell_type": "markdown",
   "metadata": {},
   "source": [
    "Данные по другим плтаформам так же подтвердили это утверждение, оценки критиков сильнее вляют на продажи"
   ]
  },
  {
   "cell_type": "markdown",
   "metadata": {},
   "source": [
    "#### Общее распределение игр по жанрам"
   ]
  },
  {
   "cell_type": "code",
   "execution_count": 41,
   "metadata": {},
   "outputs": [
    {
     "data": {
      "text/plain": [
       "<AxesSubplot:xlabel='genre'>"
      ]
     },
     "execution_count": 41,
     "metadata": {},
     "output_type": "execute_result"
    },
    {
     "data": {
      "image/png": "[encoded data removed]",
      "text/plain": [
       "<Figure size 1080x360 with 1 Axes>"
      ]
     },
     "metadata": {
      "needs_background": "light"
     },
     "output_type": "display_data"
    }
   ],
   "source": [
    "actual_data.pivot_table(index = 'genre', values = 'total_sales', aggfunc = 'sum').sort_values(ascending=False, by = 'total_sales').plot(kind='bar', figsize=(15,5), y= 'total_sales')"
   ]
  },
  {
   "cell_type": "code",
   "execution_count": 42,
   "metadata": {
    "scrolled": true
   },
   "outputs": [
    {
     "data": {
      "text/html": [
       "<div>\n",
       "<style scoped>\n",
       "    .dataframe tbody tr th:only-of-type {\n",
       "        vertical-align: middle;\n",
       "    }\n",
       "\n",
       "    .dataframe tbody tr th {\n",
       "        vertical-align: top;\n",
       "    }\n",
       "\n",
       "    .dataframe thead th {\n",
       "        text-align: right;\n",
       "    }\n",
       "</style>\n",
       "<table border=\"1\" class=\"dataframe\">\n",
       "  <thead>\n",
       "    <tr style=\"text-align: right;\">\n",
       "      <th></th>\n",
       "      <th>total_sales</th>\n",
       "    </tr>\n",
       "    <tr>\n",
       "      <th>genre</th>\n",
       "      <th></th>\n",
       "    </tr>\n",
       "  </thead>\n",
       "  <tbody>\n",
       "    <tr>\n",
       "      <th>Action</th>\n",
       "      <td>441.12</td>\n",
       "    </tr>\n",
       "    <tr>\n",
       "      <th>Shooter</th>\n",
       "      <td>304.73</td>\n",
       "    </tr>\n",
       "    <tr>\n",
       "      <th>Role-Playing</th>\n",
       "      <td>192.80</td>\n",
       "    </tr>\n",
       "    <tr>\n",
       "      <th>Sports</th>\n",
       "      <td>181.06</td>\n",
       "    </tr>\n",
       "    <tr>\n",
       "      <th>Misc</th>\n",
       "      <td>85.04</td>\n",
       "    </tr>\n",
       "    <tr>\n",
       "      <th>Platform</th>\n",
       "      <td>61.00</td>\n",
       "    </tr>\n",
       "    <tr>\n",
       "      <th>Racing</th>\n",
       "      <td>53.50</td>\n",
       "    </tr>\n",
       "    <tr>\n",
       "      <th>Fighting</th>\n",
       "      <td>44.49</td>\n",
       "    </tr>\n",
       "    <tr>\n",
       "      <th>Simulation</th>\n",
       "      <td>35.12</td>\n",
       "    </tr>\n",
       "    <tr>\n",
       "      <th>Adventure</th>\n",
       "      <td>29.43</td>\n",
       "    </tr>\n",
       "    <tr>\n",
       "      <th>Strategy</th>\n",
       "      <td>13.34</td>\n",
       "    </tr>\n",
       "    <tr>\n",
       "      <th>Puzzle</th>\n",
       "      <td>4.89</td>\n",
       "    </tr>\n",
       "  </tbody>\n",
       "</table>\n",
       "</div>"
      ],
      "text/plain": [
       "              total_sales\n",
       "genre                    \n",
       "Action             441.12\n",
       "Shooter            304.73\n",
       "Role-Playing       192.80\n",
       "Sports             181.06\n",
       "Misc                85.04\n",
       "Platform            61.00\n",
       "Racing              53.50\n",
       "Fighting            44.49\n",
       "Simulation          35.12\n",
       "Adventure           29.43\n",
       "Strategy            13.34\n",
       "Puzzle               4.89"
      ]
     },
     "execution_count": 42,
     "metadata": {},
     "output_type": "execute_result"
    }
   ],
   "source": [
    " actual_data.pivot_table(index = 'genre', values = 'total_sales', aggfunc = 'sum').sort_values(ascending=False, by = 'total_sales')"
   ]
  },
  {
   "cell_type": "markdown",
   "metadata": {},
   "source": [
    "Самые популярные жанры это экшн и шутеры, наимение популярные жанры пазлы и стратегии."
   ]
  },
  {
   "cell_type": "code",
   "execution_count": 43,
   "metadata": {},
   "outputs": [
    {
     "data": {
      "text/html": [
       "<div>\n",
       "<style scoped>\n",
       "    .dataframe tbody tr th:only-of-type {\n",
       "        vertical-align: middle;\n",
       "    }\n",
       "\n",
       "    .dataframe tbody tr th {\n",
       "        vertical-align: top;\n",
       "    }\n",
       "\n",
       "    .dataframe thead th {\n",
       "        text-align: right;\n",
       "    }\n",
       "</style>\n",
       "<table border=\"1\" class=\"dataframe\">\n",
       "  <thead>\n",
       "    <tr style=\"text-align: right;\">\n",
       "      <th></th>\n",
       "      <th>total_sales</th>\n",
       "    </tr>\n",
       "    <tr>\n",
       "      <th>genre</th>\n",
       "      <th></th>\n",
       "    </tr>\n",
       "  </thead>\n",
       "  <tbody>\n",
       "    <tr>\n",
       "      <th>Shooter</th>\n",
       "      <td>1.296723</td>\n",
       "    </tr>\n",
       "    <tr>\n",
       "      <th>Platform</th>\n",
       "      <td>0.717647</td>\n",
       "    </tr>\n",
       "    <tr>\n",
       "      <th>Sports</th>\n",
       "      <td>0.678127</td>\n",
       "    </tr>\n",
       "    <tr>\n",
       "      <th>Role-Playing</th>\n",
       "      <td>0.521081</td>\n",
       "    </tr>\n",
       "    <tr>\n",
       "      <th>Racing</th>\n",
       "      <td>0.465217</td>\n",
       "    </tr>\n",
       "    <tr>\n",
       "      <th>Misc</th>\n",
       "      <td>0.442917</td>\n",
       "    </tr>\n",
       "    <tr>\n",
       "      <th>Simulation</th>\n",
       "      <td>0.439000</td>\n",
       "    </tr>\n",
       "    <tr>\n",
       "      <th>Action</th>\n",
       "      <td>0.427856</td>\n",
       "    </tr>\n",
       "    <tr>\n",
       "      <th>Fighting</th>\n",
       "      <td>0.408165</td>\n",
       "    </tr>\n",
       "    <tr>\n",
       "      <th>Strategy</th>\n",
       "      <td>0.187887</td>\n",
       "    </tr>\n",
       "    <tr>\n",
       "      <th>Puzzle</th>\n",
       "      <td>0.174643</td>\n",
       "    </tr>\n",
       "    <tr>\n",
       "      <th>Adventure</th>\n",
       "      <td>0.097450</td>\n",
       "    </tr>\n",
       "  </tbody>\n",
       "</table>\n",
       "</div>"
      ],
      "text/plain": [
       "              total_sales\n",
       "genre                    \n",
       "Shooter          1.296723\n",
       "Platform         0.717647\n",
       "Sports           0.678127\n",
       "Role-Playing     0.521081\n",
       "Racing           0.465217\n",
       "Misc             0.442917\n",
       "Simulation       0.439000\n",
       "Action           0.427856\n",
       "Fighting         0.408165\n",
       "Strategy         0.187887\n",
       "Puzzle           0.174643\n",
       "Adventure        0.097450"
      ]
     },
     "execution_count": 43,
     "metadata": {},
     "output_type": "execute_result"
    }
   ],
   "source": [
    "actual_data.pivot_table(index = 'genre', values = 'total_sales', aggfunc = 'mean').sort_values(ascending=False, by = 'total_sales')"
   ]
  },
  {
   "cell_type": "code",
   "execution_count": 44,
   "metadata": {},
   "outputs": [
    {
     "data": {
      "text/plain": [
       "<AxesSubplot:xlabel='genre'>"
      ]
     },
     "execution_count": 44,
     "metadata": {},
     "output_type": "execute_result"
    },
    {
     "data": {
      "image/png": "[encoded data removed]",
      "text/plain": [
       "<Figure size 1080x360 with 1 Axes>"
      ]
     },
     "metadata": {
      "needs_background": "light"
     },
     "output_type": "display_data"
    }
   ],
   "source": [
    "actual_data.pivot_table(index = 'genre', values = 'total_sales', aggfunc = 'mean').sort_values(ascending=False, by = 'total_sales').plot(kind='bar', figsize=(15,5), y= 'total_sales')"
   ]
  },
  {
   "cell_type": "markdown",
   "metadata": {},
   "source": [
    "Среднее чило продаж больше всего у шутеров и игр платформеров, шутеры начиная с 2007 года стали очень популярными и их продажи сталбильно высокие. Платформеры же занимаю второе место по средним продажам вохможно из-за их малого количества но хороших продаж."
   ]
  },
  {
   "cell_type": "code",
   "execution_count": 45,
   "metadata": {},
   "outputs": [
    {
     "data": {
      "text/html": [
       "<div>\n",
       "<style scoped>\n",
       "    .dataframe tbody tr th:only-of-type {\n",
       "        vertical-align: middle;\n",
       "    }\n",
       "\n",
       "    .dataframe tbody tr th {\n",
       "        vertical-align: top;\n",
       "    }\n",
       "\n",
       "    .dataframe thead th {\n",
       "        text-align: right;\n",
       "    }\n",
       "</style>\n",
       "<table border=\"1\" class=\"dataframe\">\n",
       "  <thead>\n",
       "    <tr style=\"text-align: right;\">\n",
       "      <th></th>\n",
       "      <th>total_sales</th>\n",
       "    </tr>\n",
       "    <tr>\n",
       "      <th>genre</th>\n",
       "      <th></th>\n",
       "    </tr>\n",
       "  </thead>\n",
       "  <tbody>\n",
       "    <tr>\n",
       "      <th>Shooter</th>\n",
       "      <td>0.440</td>\n",
       "    </tr>\n",
       "    <tr>\n",
       "      <th>Sports</th>\n",
       "      <td>0.240</td>\n",
       "    </tr>\n",
       "    <tr>\n",
       "      <th>Platform</th>\n",
       "      <td>0.210</td>\n",
       "    </tr>\n",
       "    <tr>\n",
       "      <th>Role-Playing</th>\n",
       "      <td>0.140</td>\n",
       "    </tr>\n",
       "    <tr>\n",
       "      <th>Racing</th>\n",
       "      <td>0.140</td>\n",
       "    </tr>\n",
       "    <tr>\n",
       "      <th>Fighting</th>\n",
       "      <td>0.130</td>\n",
       "    </tr>\n",
       "    <tr>\n",
       "      <th>Action</th>\n",
       "      <td>0.120</td>\n",
       "    </tr>\n",
       "    <tr>\n",
       "      <th>Misc</th>\n",
       "      <td>0.120</td>\n",
       "    </tr>\n",
       "    <tr>\n",
       "      <th>Simulation</th>\n",
       "      <td>0.120</td>\n",
       "    </tr>\n",
       "    <tr>\n",
       "      <th>Strategy</th>\n",
       "      <td>0.080</td>\n",
       "    </tr>\n",
       "    <tr>\n",
       "      <th>Puzzle</th>\n",
       "      <td>0.045</td>\n",
       "    </tr>\n",
       "    <tr>\n",
       "      <th>Adventure</th>\n",
       "      <td>0.030</td>\n",
       "    </tr>\n",
       "  </tbody>\n",
       "</table>\n",
       "</div>"
      ],
      "text/plain": [
       "              total_sales\n",
       "genre                    \n",
       "Shooter             0.440\n",
       "Sports              0.240\n",
       "Platform            0.210\n",
       "Role-Playing        0.140\n",
       "Racing              0.140\n",
       "Fighting            0.130\n",
       "Action              0.120\n",
       "Misc                0.120\n",
       "Simulation          0.120\n",
       "Strategy            0.080\n",
       "Puzzle              0.045\n",
       "Adventure           0.030"
      ]
     },
     "execution_count": 45,
     "metadata": {},
     "output_type": "execute_result"
    }
   ],
   "source": [
    "actual_data.pivot_table(index = 'genre', values = 'total_sales', aggfunc = 'median').sort_values(ascending=False, by = 'total_sales')"
   ]
  },
  {
   "cell_type": "code",
   "execution_count": 46,
   "metadata": {},
   "outputs": [
    {
     "data": {
      "text/plain": [
       "<AxesSubplot:xlabel='genre'>"
      ]
     },
     "execution_count": 46,
     "metadata": {},
     "output_type": "execute_result"
    },
    {
     "data": {
      "image/png": "[encoded data removed]",
      "text/plain": [
       "<Figure size 1080x360 with 1 Axes>"
      ]
     },
     "metadata": {
      "needs_background": "light"
     },
     "output_type": "display_data"
    }
   ],
   "source": [
    "actual_data.pivot_table(index = 'genre', values = 'total_sales', aggfunc = 'median').sort_values(ascending=False, by = 'total_sales').plot(kind='bar', figsize=(15,5), y= 'total_sales')"
   ]
  },
  {
   "cell_type": "markdown",
   "metadata": {},
   "source": [
    "В среднем значении продаж так же лидирует жанр шутера.\n"
   ]
  },
  {
   "cell_type": "markdown",
   "metadata": {},
   "source": [
    "#### Вывод\n",
    "Пик количества выпускаемых игр пришелся на 2006-2012 год что связано с актуальными платформами PS3 и Xbox360, с 2012 года количество уменьшилось из-за выхода новых игровых платформ и увелечения срока производства игр. Мы выявили средний срок иговой платформы 10 лет и для построения дальнейщих прогнозов взяли данные начиная с 2012 года.\n",
    "\n",
    "Самыми популярными платформами являются PS2, Xbox360, PS3. Потонцеально прибыльными в будещем будет PS4, X One и PC из-за их актуальности а PS3 и Xbox360 потеряют свою популярность и прибыльность.\n",
    "\n",
    "При количестве продаж на набирающих и популярных платформах видна корреляцию с оценкой критиков на продажи, самыми популярными жанрами являются экшены и шутеры."
   ]
  },
  {
   "cell_type": "markdown",
   "metadata": {},
   "source": [
    "### Портрет пользователя каждого региона"
   ]
  },
  {
   "cell_type": "code",
   "execution_count": 47,
   "metadata": {},
   "outputs": [
    {
     "data": {
      "text/plain": [
       "<AxesSubplot:xlabel='platform'>"
      ]
     },
     "execution_count": 47,
     "metadata": {},
     "output_type": "execute_result"
    },
    {
     "data": {
      "image/png": "[encoded data removed]",
      "text/plain": [
       "<Figure size 1080x360 with 1 Axes>"
      ]
     },
     "metadata": {
      "needs_background": "light"
     },
     "output_type": "display_data"
    }
   ],
   "source": [
    "actual_data.pivot_table(index = 'platform', values = 'na_sales', aggfunc = 'sum').sort_values(ascending=False, by = 'na_sales').plot(kind = 'bar', figsize=(15,5))"
   ]
  },
  {
   "cell_type": "markdown",
   "metadata": {},
   "source": [
    "Пользоватили северной америки предпочитают играть на платформа Xbox360, PS4 ,PS3, Xone и 3DS. Преобладают плтаформы нового и предыдущего поколения. Преобладающая доля на Xbox 360 возмодна связана с тем что иксбокс пренадлежит амереканской компании и более предпочительна среди пользователя и имеет более удачные маркетинговые компании на территории америки, но новое поколение PS уже быстро сокращает отставание."
   ]
  },
  {
   "cell_type": "code",
   "execution_count": 48,
   "metadata": {},
   "outputs": [
    {
     "data": {
      "text/html": [
       "<div>\n",
       "<style scoped>\n",
       "    .dataframe tbody tr th:only-of-type {\n",
       "        vertical-align: middle;\n",
       "    }\n",
       "\n",
       "    .dataframe tbody tr th {\n",
       "        vertical-align: top;\n",
       "    }\n",
       "\n",
       "    .dataframe thead th {\n",
       "        text-align: right;\n",
       "    }\n",
       "</style>\n",
       "<table border=\"1\" class=\"dataframe\">\n",
       "  <thead>\n",
       "    <tr style=\"text-align: right;\">\n",
       "      <th></th>\n",
       "      <th>na_sales</th>\n",
       "    </tr>\n",
       "    <tr>\n",
       "      <th>genre</th>\n",
       "      <th></th>\n",
       "    </tr>\n",
       "  </thead>\n",
       "  <tbody>\n",
       "    <tr>\n",
       "      <th>Action</th>\n",
       "      <td>177.84</td>\n",
       "    </tr>\n",
       "    <tr>\n",
       "      <th>Shooter</th>\n",
       "      <td>144.77</td>\n",
       "    </tr>\n",
       "    <tr>\n",
       "      <th>Sports</th>\n",
       "      <td>81.53</td>\n",
       "    </tr>\n",
       "    <tr>\n",
       "      <th>Role-Playing</th>\n",
       "      <td>64.00</td>\n",
       "    </tr>\n",
       "    <tr>\n",
       "      <th>Misc</th>\n",
       "      <td>38.19</td>\n",
       "    </tr>\n",
       "    <tr>\n",
       "      <th>Platform</th>\n",
       "      <td>25.38</td>\n",
       "    </tr>\n",
       "    <tr>\n",
       "      <th>Fighting</th>\n",
       "      <td>19.79</td>\n",
       "    </tr>\n",
       "    <tr>\n",
       "      <th>Racing</th>\n",
       "      <td>17.22</td>\n",
       "    </tr>\n",
       "    <tr>\n",
       "      <th>Adventure</th>\n",
       "      <td>8.92</td>\n",
       "    </tr>\n",
       "    <tr>\n",
       "      <th>Simulation</th>\n",
       "      <td>7.97</td>\n",
       "    </tr>\n",
       "    <tr>\n",
       "      <th>Strategy</th>\n",
       "      <td>4.23</td>\n",
       "    </tr>\n",
       "    <tr>\n",
       "      <th>Puzzle</th>\n",
       "      <td>1.13</td>\n",
       "    </tr>\n",
       "  </tbody>\n",
       "</table>\n",
       "</div>"
      ],
      "text/plain": [
       "              na_sales\n",
       "genre                 \n",
       "Action          177.84\n",
       "Shooter         144.77\n",
       "Sports           81.53\n",
       "Role-Playing     64.00\n",
       "Misc             38.19\n",
       "Platform         25.38\n",
       "Fighting         19.79\n",
       "Racing           17.22\n",
       "Adventure         8.92\n",
       "Simulation        7.97\n",
       "Strategy          4.23\n",
       "Puzzle            1.13"
      ]
     },
     "execution_count": 48,
     "metadata": {},
     "output_type": "execute_result"
    }
   ],
   "source": [
    "actual_data.pivot_table(index = 'genre', values = 'na_sales', aggfunc = 'sum').sort_values(ascending=False, by = 'na_sales')"
   ]
  },
  {
   "cell_type": "code",
   "execution_count": 49,
   "metadata": {},
   "outputs": [
    {
     "data": {
      "text/plain": [
       "<AxesSubplot:xlabel='genre'>"
      ]
     },
     "execution_count": 49,
     "metadata": {},
     "output_type": "execute_result"
    },
    {
     "data": {
      "image/png": "[encoded data removed]",
      "text/plain": [
       "<Figure size 1080x360 with 1 Axes>"
      ]
     },
     "metadata": {
      "needs_background": "light"
     },
     "output_type": "display_data"
    }
   ],
   "source": [
    "actual_data.pivot_table(index = 'genre', values = 'na_sales', aggfunc = 'sum').sort_values(ascending=False, by = 'na_sales').plot(kind = 'bar', figsize=(15,5))"
   ]
  },
  {
   "cell_type": "markdown",
   "metadata": {},
   "source": [
    "В северной америке приобладают жанры экшн, шутер, спорт, ролевые игры и музыкальные."
   ]
  },
  {
   "cell_type": "code",
   "execution_count": 50,
   "metadata": {},
   "outputs": [
    {
     "data": {
      "text/plain": [
       "<AxesSubplot:xlabel='platform'>"
      ]
     },
     "execution_count": 50,
     "metadata": {},
     "output_type": "execute_result"
    },
    {
     "data": {
      "image/png": "[encoded data removed]",
      "text/plain": [
       "<Figure size 1080x360 with 1 Axes>"
      ]
     },
     "metadata": {
      "needs_background": "light"
     },
     "output_type": "display_data"
    }
   ],
   "source": [
    "actual_data.pivot_table(index = 'platform', values = 'eu_sales', aggfunc = 'sum').sort_values(ascending=False, by = 'eu_sales').plot(kind = 'bar', figsize=(15,5))"
   ]
  },
  {
   "cell_type": "markdown",
   "metadata": {},
   "source": [
    "В европе преобладают платформы: PS4 , PS3, X360, XONE 3DS. Видно что новое и предыдущее покаление PS сильно преобладает на европейском рынке связано это может быть с маркетингом компании Sony."
   ]
  },
  {
   "cell_type": "code",
   "execution_count": 51,
   "metadata": {},
   "outputs": [
    {
     "data": {
      "text/html": [
       "<div>\n",
       "<style scoped>\n",
       "    .dataframe tbody tr th:only-of-type {\n",
       "        vertical-align: middle;\n",
       "    }\n",
       "\n",
       "    .dataframe tbody tr th {\n",
       "        vertical-align: top;\n",
       "    }\n",
       "\n",
       "    .dataframe thead th {\n",
       "        text-align: right;\n",
       "    }\n",
       "</style>\n",
       "<table border=\"1\" class=\"dataframe\">\n",
       "  <thead>\n",
       "    <tr style=\"text-align: right;\">\n",
       "      <th></th>\n",
       "      <th>eu_sales</th>\n",
       "    </tr>\n",
       "    <tr>\n",
       "      <th>genre</th>\n",
       "      <th></th>\n",
       "    </tr>\n",
       "  </thead>\n",
       "  <tbody>\n",
       "    <tr>\n",
       "      <th>Action</th>\n",
       "      <td>159.34</td>\n",
       "    </tr>\n",
       "    <tr>\n",
       "      <th>Shooter</th>\n",
       "      <td>113.47</td>\n",
       "    </tr>\n",
       "    <tr>\n",
       "      <th>Sports</th>\n",
       "      <td>69.08</td>\n",
       "    </tr>\n",
       "    <tr>\n",
       "      <th>Role-Playing</th>\n",
       "      <td>48.53</td>\n",
       "    </tr>\n",
       "    <tr>\n",
       "      <th>Racing</th>\n",
       "      <td>27.29</td>\n",
       "    </tr>\n",
       "    <tr>\n",
       "      <th>Misc</th>\n",
       "      <td>26.32</td>\n",
       "    </tr>\n",
       "    <tr>\n",
       "      <th>Platform</th>\n",
       "      <td>21.41</td>\n",
       "    </tr>\n",
       "    <tr>\n",
       "      <th>Simulation</th>\n",
       "      <td>14.55</td>\n",
       "    </tr>\n",
       "    <tr>\n",
       "      <th>Fighting</th>\n",
       "      <td>10.79</td>\n",
       "    </tr>\n",
       "    <tr>\n",
       "      <th>Adventure</th>\n",
       "      <td>9.46</td>\n",
       "    </tr>\n",
       "    <tr>\n",
       "      <th>Strategy</th>\n",
       "      <td>5.17</td>\n",
       "    </tr>\n",
       "    <tr>\n",
       "      <th>Puzzle</th>\n",
       "      <td>1.40</td>\n",
       "    </tr>\n",
       "  </tbody>\n",
       "</table>\n",
       "</div>"
      ],
      "text/plain": [
       "              eu_sales\n",
       "genre                 \n",
       "Action          159.34\n",
       "Shooter         113.47\n",
       "Sports           69.08\n",
       "Role-Playing     48.53\n",
       "Racing           27.29\n",
       "Misc             26.32\n",
       "Platform         21.41\n",
       "Simulation       14.55\n",
       "Fighting         10.79\n",
       "Adventure         9.46\n",
       "Strategy          5.17\n",
       "Puzzle            1.40"
      ]
     },
     "execution_count": 51,
     "metadata": {},
     "output_type": "execute_result"
    }
   ],
   "source": [
    "actual_data.pivot_table(index = 'genre', values = 'eu_sales', aggfunc = 'sum').sort_values(ascending=False, by = 'eu_sales')"
   ]
  },
  {
   "cell_type": "code",
   "execution_count": 52,
   "metadata": {},
   "outputs": [
    {
     "data": {
      "text/plain": [
       "<AxesSubplot:xlabel='genre'>"
      ]
     },
     "execution_count": 52,
     "metadata": {},
     "output_type": "execute_result"
    },
    {
     "data": {
      "image/png": "[encoded data removed]",
      "text/plain": [
       "<Figure size 1080x360 with 1 Axes>"
      ]
     },
     "metadata": {
      "needs_background": "light"
     },
     "output_type": "display_data"
    }
   ],
   "source": [
    "actual_data.pivot_table(index = 'genre', values = 'eu_sales', aggfunc = 'sum').sort_values(ascending=False, by = 'eu_sales').plot(kind = 'bar', figsize=(15,5))"
   ]
  },
  {
   "cell_type": "markdown",
   "metadata": {},
   "source": [
    "В европе преобладают жанры экшн, шутер, спорт, ролевые игры и гонки."
   ]
  },
  {
   "cell_type": "code",
   "execution_count": 53,
   "metadata": {},
   "outputs": [
    {
     "data": {
      "text/plain": [
       "<AxesSubplot:xlabel='platform'>"
      ]
     },
     "execution_count": 53,
     "metadata": {},
     "output_type": "execute_result"
    },
    {
     "data": {
      "image/png": "[encoded data removed]",
      "text/plain": [
       "<Figure size 1080x360 with 1 Axes>"
      ]
     },
     "metadata": {
      "needs_background": "light"
     },
     "output_type": "display_data"
    }
   ],
   "source": [
    "actual_data.pivot_table(index = 'platform', values = 'jp_sales', aggfunc = 'sum').sort_values(ascending=False, by = 'jp_sales').plot(kind = 'bar', figsize=(15,5))"
   ]
  },
  {
   "cell_type": "markdown",
   "metadata": {},
   "source": [
    "На японском рынке с большим отрывом преобладает платформа 3DS Ддалее идут PS3, PSV, PS4, WIIU. Преобладают исключительно японские компании, 3ds является явно очень популярной портативной плтаформой."
   ]
  },
  {
   "cell_type": "code",
   "execution_count": 54,
   "metadata": {},
   "outputs": [
    {
     "data": {
      "text/html": [
       "<div>\n",
       "<style scoped>\n",
       "    .dataframe tbody tr th:only-of-type {\n",
       "        vertical-align: middle;\n",
       "    }\n",
       "\n",
       "    .dataframe tbody tr th {\n",
       "        vertical-align: top;\n",
       "    }\n",
       "\n",
       "    .dataframe thead th {\n",
       "        text-align: right;\n",
       "    }\n",
       "</style>\n",
       "<table border=\"1\" class=\"dataframe\">\n",
       "  <thead>\n",
       "    <tr style=\"text-align: right;\">\n",
       "      <th></th>\n",
       "      <th>jp_sales</th>\n",
       "    </tr>\n",
       "    <tr>\n",
       "      <th>genre</th>\n",
       "      <th></th>\n",
       "    </tr>\n",
       "  </thead>\n",
       "  <tbody>\n",
       "    <tr>\n",
       "      <th>Role-Playing</th>\n",
       "      <td>65.44</td>\n",
       "    </tr>\n",
       "    <tr>\n",
       "      <th>Action</th>\n",
       "      <td>52.80</td>\n",
       "    </tr>\n",
       "    <tr>\n",
       "      <th>Misc</th>\n",
       "      <td>12.86</td>\n",
       "    </tr>\n",
       "    <tr>\n",
       "      <th>Simulation</th>\n",
       "      <td>10.41</td>\n",
       "    </tr>\n",
       "    <tr>\n",
       "      <th>Fighting</th>\n",
       "      <td>9.44</td>\n",
       "    </tr>\n",
       "    <tr>\n",
       "      <th>Shooter</th>\n",
       "      <td>9.23</td>\n",
       "    </tr>\n",
       "    <tr>\n",
       "      <th>Platform</th>\n",
       "      <td>8.63</td>\n",
       "    </tr>\n",
       "    <tr>\n",
       "      <th>Adventure</th>\n",
       "      <td>8.24</td>\n",
       "    </tr>\n",
       "    <tr>\n",
       "      <th>Sports</th>\n",
       "      <td>8.01</td>\n",
       "    </tr>\n",
       "    <tr>\n",
       "      <th>Strategy</th>\n",
       "      <td>2.88</td>\n",
       "    </tr>\n",
       "    <tr>\n",
       "      <th>Racing</th>\n",
       "      <td>2.50</td>\n",
       "    </tr>\n",
       "    <tr>\n",
       "      <th>Puzzle</th>\n",
       "      <td>2.14</td>\n",
       "    </tr>\n",
       "  </tbody>\n",
       "</table>\n",
       "</div>"
      ],
      "text/plain": [
       "              jp_sales\n",
       "genre                 \n",
       "Role-Playing     65.44\n",
       "Action           52.80\n",
       "Misc             12.86\n",
       "Simulation       10.41\n",
       "Fighting          9.44\n",
       "Shooter           9.23\n",
       "Platform          8.63\n",
       "Adventure         8.24\n",
       "Sports            8.01\n",
       "Strategy          2.88\n",
       "Racing            2.50\n",
       "Puzzle            2.14"
      ]
     },
     "execution_count": 54,
     "metadata": {},
     "output_type": "execute_result"
    }
   ],
   "source": [
    "actual_data.pivot_table(index = 'genre', values = 'jp_sales', aggfunc = 'sum').sort_values(ascending=False, by = 'jp_sales')"
   ]
  },
  {
   "cell_type": "code",
   "execution_count": 55,
   "metadata": {},
   "outputs": [
    {
     "data": {
      "text/plain": [
       "<AxesSubplot:xlabel='genre'>"
      ]
     },
     "execution_count": 55,
     "metadata": {},
     "output_type": "execute_result"
    },
    {
     "data": {
      "image/png": "[encoded data removed]",
      "text/plain": [
       "<Figure size 1080x360 with 1 Axes>"
      ]
     },
     "metadata": {
      "needs_background": "light"
     },
     "output_type": "display_data"
    }
   ],
   "source": [
    "actual_data.pivot_table(index = 'genre', values = 'jp_sales', aggfunc = 'sum').sort_values(ascending=False, by = 'jp_sales').plot(kind = 'bar', figsize=(15,5))"
   ]
  },
  {
   "cell_type": "markdown",
   "metadata": {},
   "source": [
    "В японии преобладают игры жанров: ролевые игры, экшн, музыкальные, симуляторы и файтинги."
   ]
  },
  {
   "cell_type": "code",
   "execution_count": 56,
   "metadata": {},
   "outputs": [
    {
     "data": {
      "text/html": [
       "<div>\n",
       "<style scoped>\n",
       "    .dataframe tbody tr th:only-of-type {\n",
       "        vertical-align: middle;\n",
       "    }\n",
       "\n",
       "    .dataframe tbody tr th {\n",
       "        vertical-align: top;\n",
       "    }\n",
       "\n",
       "    .dataframe thead th {\n",
       "        text-align: right;\n",
       "    }\n",
       "</style>\n",
       "<table border=\"1\" class=\"dataframe\">\n",
       "  <thead>\n",
       "    <tr style=\"text-align: right;\">\n",
       "      <th></th>\n",
       "      <th>eu_sales</th>\n",
       "      <th>jp_sales</th>\n",
       "      <th>na_sales</th>\n",
       "    </tr>\n",
       "    <tr>\n",
       "      <th>rating</th>\n",
       "      <th></th>\n",
       "      <th></th>\n",
       "      <th></th>\n",
       "    </tr>\n",
       "  </thead>\n",
       "  <tbody>\n",
       "    <tr>\n",
       "      <th>E</th>\n",
       "      <td>113.02</td>\n",
       "      <td>28.33</td>\n",
       "      <td>114.37</td>\n",
       "    </tr>\n",
       "    <tr>\n",
       "      <th>E10+</th>\n",
       "      <td>55.37</td>\n",
       "      <td>8.19</td>\n",
       "      <td>75.70</td>\n",
       "    </tr>\n",
       "    <tr>\n",
       "      <th>M</th>\n",
       "      <td>193.96</td>\n",
       "      <td>21.20</td>\n",
       "      <td>231.57</td>\n",
       "    </tr>\n",
       "    <tr>\n",
       "      <th>T</th>\n",
       "      <td>52.96</td>\n",
       "      <td>26.02</td>\n",
       "      <td>66.02</td>\n",
       "    </tr>\n",
       "  </tbody>\n",
       "</table>\n",
       "</div>"
      ],
      "text/plain": [
       "        eu_sales  jp_sales  na_sales\n",
       "rating                              \n",
       "E         113.02     28.33    114.37\n",
       "E10+       55.37      8.19     75.70\n",
       "M         193.96     21.20    231.57\n",
       "T          52.96     26.02     66.02"
      ]
     },
     "execution_count": 56,
     "metadata": {},
     "output_type": "execute_result"
    }
   ],
   "source": [
    "ESRB = actual_data.pivot_table(index = 'rating', values = ['eu_sales','jp_sales','na_sales'], aggfunc = 'sum')\n",
    "ESRB"
   ]
  },
  {
   "cell_type": "code",
   "execution_count": 57,
   "metadata": {},
   "outputs": [
    {
     "data": {
      "text/plain": [
       "<AxesSubplot:xlabel='rating'>"
      ]
     },
     "execution_count": 57,
     "metadata": {},
     "output_type": "execute_result"
    },
    {
     "data": {
      "image/png": "[encoded data removed]",
      "text/plain": [
       "<Figure size 1080x360 with 1 Axes>"
      ]
     },
     "metadata": {
      "needs_background": "light"
     },
     "output_type": "display_data"
    }
   ],
   "source": [
    "ESRB.plot(kind = 'bar', figsize=(15,5))"
   ]
  },
  {
   "cell_type": "markdown",
   "metadata": {},
   "source": [
    "В европе и америке игры с рейтингом E и M сильно преобладают, в японии же все рейтинги кроме e10+ продаются одинаково хорошо."
   ]
  },
  {
   "cell_type": "markdown",
   "metadata": {},
   "source": [
    "#### Выод\n",
    "В Северной америке преобладает платформа Xbox360, в европе Ps4 а в японии 3ds. В каждом регионе преобладают платформы произдводства их страны, кроме европе там преобладает японская платформа ps4. На продажи влиет возрастной рейтинг в европе и америке преобладют по прадажам E,M, для японии все рейтинги равномерно распределяются по продажам."
   ]
  },
  {
   "cell_type": "markdown",
   "metadata": {},
   "source": [
    "### Проверка гипотез"
   ]
  },
  {
   "cell_type": "markdown",
   "metadata": {},
   "source": [
    "#### Средние пользовательские рейтинги платформ Xbox One и PC одинаковые;"
   ]
  },
  {
   "cell_type": "code",
   "execution_count": 58,
   "metadata": {},
   "outputs": [
    {
     "name": "stdout",
     "output_type": "stream",
     "text": [
      "Средний пользовательский рейтинг платформы Xbox One: 6.521428571428572\n",
      "Средний пользовательский рейтинг платформы PC 6.4286407766990274\n"
     ]
    }
   ],
   "source": [
    "XOne = actual_data[(actual_data['platform'] == 'XOne') &  (actual_data['user_score'] > 0)]['user_score']\n",
    "PC = actual_data[(actual_data['platform'] == 'PC') &  (actual_data['user_score'] > 0)]['user_score']\n",
    "print('Средний пользовательский рейтинг платформы Xbox One:', XOne.mean())\n",
    "print('Средний пользовательский рейтинг платформы PC', PC.mean())"
   ]
  },
  {
   "cell_type": "markdown",
   "metadata": {},
   "source": [
    "H0: Средние пользовательские рейтинги платформ Xbox One и PC одинаковые\n",
    "\n",
    "H1: Средние пользовательские рейтинги платформ Xbox One и PC разные\n",
    "\n",
    "alpha = .05"
   ]
  },
  {
   "cell_type": "code",
   "execution_count": 59,
   "metadata": {},
   "outputs": [
    {
     "name": "stdout",
     "output_type": "stream",
     "text": [
      "p-значение: 0.5489537965134912\n",
      "Не получилось отвергнуть нулевую гипотезу\n"
     ]
    }
   ],
   "source": [
    "alpha = .05\n",
    "\n",
    "results = st.ttest_ind(XOne, PC, equal_var=False)\n",
    "\n",
    "print('p-значение:', results.pvalue)\n",
    "\n",
    "\n",
    "if (results.pvalue < alpha):\n",
    "    print(\"Отвергаем нулевую гипотезу\")\n",
    "else:\n",
    "    print(\"Не получилось отвергнуть нулевую гипотезу\")"
   ]
  },
  {
   "cell_type": "markdown",
   "metadata": {},
   "source": [
    "Нулевая Гипотеза подтвердилась, средний пользовательский рейтинг на XboxOne и PC одинаковые."
   ]
  },
  {
   "cell_type": "markdown",
   "metadata": {},
   "source": [
    "#### Средние пользовательские рейтинги жанров Action (англ. «действие», экшен-игры) и Sports (англ. «спортивные соревнования») разные."
   ]
  },
  {
   "cell_type": "code",
   "execution_count": 60,
   "metadata": {},
   "outputs": [
    {
     "name": "stdout",
     "output_type": "stream",
     "text": [
      "Средний пользовательский рейтинг жанра Action: 6.825047801147227\n",
      "Средний пользовательский рейтинг жанра Sports 5.455670103092784\n"
     ]
    }
   ],
   "source": [
    "Action = actual_data[(actual_data['genre'] == 'Action') &  (actual_data['user_score'] > 0)]['user_score']\n",
    "Sports = actual_data[(actual_data['genre'] == 'Sports') &  (actual_data['user_score'] > 0)]['user_score']\n",
    "print('Средний пользовательский рейтинг жанра Action:', Action.mean())\n",
    "print('Средний пользовательский рейтинг жанра Sports', Sports.mean())"
   ]
  },
  {
   "cell_type": "markdown",
   "metadata": {},
   "source": [
    "H0: Средние пользовательские рейтинги жанров Action (англ. «действие», экшен-игры) и Sports (англ. «спортивные соревнования») одинаковые\n",
    "\n",
    "H1: Средние пользовательские рейтинги жанров Action (англ. «действие», экшен-игры) и Sports (англ. «спортивные соревнования») разные\n",
    "    \n",
    "alpha = .05"
   ]
  },
  {
   "cell_type": "code",
   "execution_count": 61,
   "metadata": {},
   "outputs": [
    {
     "name": "stdout",
     "output_type": "stream",
     "text": [
      "p-значение: 5.989458066467418e-20\n",
      "Отвергаем нулевую гипотезу\n"
     ]
    }
   ],
   "source": [
    "alpha = .05\n",
    "\n",
    "results = st.ttest_ind(Action, Sports, equal_var=False)\n",
    "\n",
    "print('p-значение:', results.pvalue)\n",
    "\n",
    "\n",
    "if (results.pvalue < alpha):\n",
    "    print(\"Отвергаем нулевую гипотезу\")\n",
    "else:\n",
    "    print(\"Не получилось отвергнуть нулевую гипотезу\")"
   ]
  },
  {
   "cell_type": "markdown",
   "metadata": {},
   "source": [
    "Нулевая гипотеза не подтвердилась и мы ее отвергаем, средняя оценка пользователей жанров экшн и спорт разные."
   ]
  },
  {
   "cell_type": "markdown",
   "metadata": {},
   "source": [
    "### Вывод"
   ]
  },
  {
   "cell_type": "markdown",
   "metadata": {},
   "source": [
    "Мы загрузили данные о играх и их продажах по годам и регионам и платформам. При первом анализе данных было обнаружено что в данных есть много пропусков в данных. Пропуски могут быть связаны с тем что не у всех игр за 2016 год уже есть данные о оценках и рейтинге и продажах. Так же это может быть связано с технической ошибкой или проблемой при выгрузке данных. В столбце с годом релиза нужно заменить формат данных на int, оценка пользавателей так же сменить на float. Так же нужно для удобства привести все названия столбцов к нижнему регистру.\n",
    "\n",
    "Проверили данные на дубликаты и их не было найдено, привели все названия столбцов к нижнему ригистру. Были найдены 2 пропуска в данных с названием, из-за малого кол-ва удалили строки с этими пропусками. Столбце оценком пользователей обработали значения TBD \n",
    "и заменили их на NaN и привели данный столбец float. Столбец с оценкой критиков привели к типу данных int из-за того что все оценки целые числа. Остальные пропуски оставили как есть из-за их большого количества. Добавили столбец с сумарным кол-вом продаж по всем регионам.\n",
    "\n",
    "Пик количества выпускаемых игр пришелся на 2006-2012 год что связано с актуальными платформами PS3 и Xbox360, с 2012 года количество уменьшилось из-за выхода новых игровых платформ и увелечения срока производства игр. Мы выявили средний срок иговой платформы 10 лет и для построения дальнейщих прогнозов взяли данные начиная с 2012 года.\n",
    "Самыми популярными платформами являются PS2, Xbox360, PS3. Потонцеально прибыльными в будещем будет PS4, X One и PC из-за их актуальности а PS3 и Xbox360 потеряют свою популярность и прибыльность.\n",
    "При количестве продаж на набирающих и популярных платформах видна корреляцию с оценкой критиков на продажи, самыми популярными жанрами являются экшены и шутеры.\n",
    "\n",
    "В Северной америке преобладает платформа Xbox360, в европе Ps4 а в японии 3ds. В каждом регионе преобладают платформы произдводства их страны, кроме европе там преобладает японская платформа ps4. На продажи влиет возрастной рейтинг в европе и америке преобладют по прадажам E,M, для японии все рейтинги равномерно распределяются по продажам.\n",
    "\n",
    "Гипотеза о том что средний пользовательский рейтинг на XboxOne и PC одинаковые подтвердилась.\n",
    "Гипотеза средняя оценка пользователей жанров экшн и спорт разные не подтвердилась и мы ее отвергаем.\n",
    "\n",
    "\n",
    "\n"
   ]
  }
 ],
 "metadata": {
  "ExecuteTimeLog": [
   {
    "duration": 1464,
    "start_time": "2023-08-14T20:21:58.480Z"
   },
   {
    "duration": 143,
    "start_time": "2023-08-14T20:22:25.832Z"
   },
   {
    "duration": 95,
    "start_time": "2023-08-14T20:22:29.792Z"
   },
   {
    "duration": 14,
    "start_time": "2023-08-14T20:22:38.073Z"
   },
   {
    "duration": 18,
    "start_time": "2023-08-14T20:22:44.324Z"
   },
   {
    "duration": 14,
    "start_time": "2023-08-14T20:22:54.107Z"
   },
   {
    "duration": 53,
    "start_time": "2023-08-14T20:26:58.337Z"
   },
   {
    "duration": 12,
    "start_time": "2023-08-14T20:27:03.314Z"
   },
   {
    "duration": 15,
    "start_time": "2023-08-14T20:27:06.748Z"
   },
   {
    "duration": 13,
    "start_time": "2023-08-14T20:27:53.353Z"
   },
   {
    "duration": 47,
    "start_time": "2023-08-14T22:47:52.150Z"
   },
   {
    "duration": 1389,
    "start_time": "2023-08-14T22:48:06.824Z"
   },
   {
    "duration": 103,
    "start_time": "2023-08-14T22:48:08.216Z"
   },
   {
    "duration": 18,
    "start_time": "2023-08-14T22:48:08.322Z"
   },
   {
    "duration": 23,
    "start_time": "2023-08-14T22:48:08.342Z"
   },
   {
    "duration": 12,
    "start_time": "2023-08-14T22:48:08.367Z"
   },
   {
    "duration": 3,
    "start_time": "2023-08-14T22:48:30.049Z"
   },
   {
    "duration": 3,
    "start_time": "2023-08-14T22:48:42.841Z"
   },
   {
    "duration": 78,
    "start_time": "2023-08-14T22:50:53.464Z"
   },
   {
    "duration": 8,
    "start_time": "2023-08-14T22:51:01.502Z"
   },
   {
    "duration": 18,
    "start_time": "2023-08-14T22:51:06.430Z"
   },
   {
    "duration": 13,
    "start_time": "2023-08-14T22:54:24.364Z"
   },
   {
    "duration": 5,
    "start_time": "2023-08-14T22:56:28.889Z"
   },
   {
    "duration": 17,
    "start_time": "2023-08-14T22:56:36.628Z"
   },
   {
    "duration": 3,
    "start_time": "2023-08-14T22:56:39.460Z"
   },
   {
    "duration": 13,
    "start_time": "2023-08-14T22:56:46.035Z"
   },
   {
    "duration": 14,
    "start_time": "2023-08-14T22:56:59.151Z"
   },
   {
    "duration": 14,
    "start_time": "2023-08-14T22:58:20.309Z"
   },
   {
    "duration": 14,
    "start_time": "2023-08-14T22:58:23.591Z"
   },
   {
    "duration": 3,
    "start_time": "2023-08-14T22:58:42.629Z"
   },
   {
    "duration": 9,
    "start_time": "2023-08-14T22:59:41.232Z"
   },
   {
    "duration": 10,
    "start_time": "2023-08-14T22:59:55.343Z"
   },
   {
    "duration": 11,
    "start_time": "2023-08-14T23:00:18.622Z"
   },
   {
    "duration": 19,
    "start_time": "2023-08-14T23:03:04.179Z"
   },
   {
    "duration": 16,
    "start_time": "2023-08-14T23:03:14.708Z"
   },
   {
    "duration": 28,
    "start_time": "2023-08-14T23:06:42.770Z"
   },
   {
    "duration": 11,
    "start_time": "2023-08-14T23:06:54.386Z"
   },
   {
    "duration": 9,
    "start_time": "2023-08-14T23:07:09.042Z"
   },
   {
    "duration": 11,
    "start_time": "2023-08-14T23:07:10.759Z"
   },
   {
    "duration": 9,
    "start_time": "2023-08-14T23:08:40.476Z"
   },
   {
    "duration": 4,
    "start_time": "2023-08-14T23:14:50.859Z"
   },
   {
    "duration": 5,
    "start_time": "2023-08-14T23:16:43.138Z"
   },
   {
    "duration": 5,
    "start_time": "2023-08-14T23:17:16.433Z"
   },
   {
    "duration": 4,
    "start_time": "2023-08-14T23:17:31.220Z"
   },
   {
    "duration": 7,
    "start_time": "2023-08-14T23:18:51.799Z"
   },
   {
    "duration": 12,
    "start_time": "2023-08-14T23:19:08.076Z"
   },
   {
    "duration": 13,
    "start_time": "2023-08-14T23:19:11.834Z"
   },
   {
    "duration": 12,
    "start_time": "2023-08-14T23:19:19.520Z"
   },
   {
    "duration": 3,
    "start_time": "2023-08-14T23:19:22.551Z"
   },
   {
    "duration": 8,
    "start_time": "2023-08-14T23:19:38.263Z"
   },
   {
    "duration": 9,
    "start_time": "2023-08-14T23:19:41.675Z"
   },
   {
    "duration": 4,
    "start_time": "2023-08-14T23:21:50.527Z"
   },
   {
    "duration": 5,
    "start_time": "2023-08-14T23:24:35.712Z"
   },
   {
    "duration": 14,
    "start_time": "2023-08-14T23:24:45.053Z"
   },
   {
    "duration": 4,
    "start_time": "2023-08-14T23:25:01.884Z"
   },
   {
    "duration": 14,
    "start_time": "2023-08-14T23:25:04.090Z"
   },
   {
    "duration": 4,
    "start_time": "2023-08-14T23:26:03.209Z"
   },
   {
    "duration": 15,
    "start_time": "2023-08-14T23:26:04.939Z"
   },
   {
    "duration": 5,
    "start_time": "2023-08-14T23:27:15.538Z"
   },
   {
    "duration": 14,
    "start_time": "2023-08-14T23:27:17.243Z"
   },
   {
    "duration": 4,
    "start_time": "2023-08-14T23:27:55.263Z"
   },
   {
    "duration": 14,
    "start_time": "2023-08-14T23:27:57.179Z"
   },
   {
    "duration": 10,
    "start_time": "2023-08-14T23:35:52.668Z"
   },
   {
    "duration": 10,
    "start_time": "2023-08-14T23:36:25.392Z"
   },
   {
    "duration": 8,
    "start_time": "2023-08-14T23:36:29.449Z"
   },
   {
    "duration": 1142,
    "start_time": "2023-08-14T23:37:05.653Z"
   },
   {
    "duration": 53,
    "start_time": "2023-08-14T23:37:06.796Z"
   },
   {
    "duration": 14,
    "start_time": "2023-08-14T23:37:06.850Z"
   },
   {
    "duration": 16,
    "start_time": "2023-08-14T23:37:06.865Z"
   },
   {
    "duration": 2,
    "start_time": "2023-08-14T23:37:06.883Z"
   },
   {
    "duration": 34,
    "start_time": "2023-08-14T23:37:06.886Z"
   },
   {
    "duration": 8,
    "start_time": "2023-08-14T23:37:06.921Z"
   },
   {
    "duration": 13,
    "start_time": "2023-08-14T23:37:06.930Z"
   },
   {
    "duration": 16,
    "start_time": "2023-08-14T23:37:06.945Z"
   },
   {
    "duration": 26,
    "start_time": "2023-08-14T23:37:06.962Z"
   },
   {
    "duration": 6,
    "start_time": "2023-08-14T23:37:06.990Z"
   },
   {
    "duration": 10,
    "start_time": "2023-08-14T23:37:06.997Z"
   },
   {
    "duration": 13,
    "start_time": "2023-08-14T23:37:07.008Z"
   },
   {
    "duration": 5,
    "start_time": "2023-08-14T23:37:07.024Z"
   },
   {
    "duration": 22,
    "start_time": "2023-08-14T23:37:07.030Z"
   },
   {
    "duration": 18,
    "start_time": "2023-08-14T23:37:07.053Z"
   },
   {
    "duration": 231,
    "start_time": "2023-08-14T23:47:52.666Z"
   },
   {
    "duration": 153,
    "start_time": "2023-08-14T23:47:59.973Z"
   },
   {
    "duration": 148,
    "start_time": "2023-08-14T23:48:05.708Z"
   },
   {
    "duration": 104,
    "start_time": "2023-08-14T23:50:25.647Z"
   },
   {
    "duration": 623,
    "start_time": "2023-08-14T23:50:36.084Z"
   },
   {
    "duration": 150,
    "start_time": "2023-08-14T23:51:54.130Z"
   },
   {
    "duration": 1305,
    "start_time": "2023-08-14T23:55:52.608Z"
   },
   {
    "duration": 1397,
    "start_time": "2023-08-14T23:56:40.471Z"
   },
   {
    "duration": 4,
    "start_time": "2023-08-14T23:56:51.033Z"
   },
   {
    "duration": 11,
    "start_time": "2023-08-14T23:56:59.424Z"
   },
   {
    "duration": 7,
    "start_time": "2023-08-14T23:57:50.168Z"
   },
   {
    "duration": 155,
    "start_time": "2023-08-14T23:58:55.568Z"
   },
   {
    "duration": 159,
    "start_time": "2023-08-14T23:59:01.907Z"
   },
   {
    "duration": 274,
    "start_time": "2023-08-14T23:59:08.439Z"
   },
   {
    "duration": 151,
    "start_time": "2023-08-14T23:59:16.608Z"
   },
   {
    "duration": 169,
    "start_time": "2023-08-14T23:59:24.596Z"
   },
   {
    "duration": 184,
    "start_time": "2023-08-14T23:59:28.765Z"
   },
   {
    "duration": 190,
    "start_time": "2023-08-14T23:59:51.695Z"
   },
   {
    "duration": 205,
    "start_time": "2023-08-14T23:59:55.348Z"
   },
   {
    "duration": 164,
    "start_time": "2023-08-15T00:00:23.860Z"
   },
   {
    "duration": 180,
    "start_time": "2023-08-15T00:00:28.385Z"
   },
   {
    "duration": 175,
    "start_time": "2023-08-15T00:00:31.530Z"
   },
   {
    "duration": 193,
    "start_time": "2023-08-15T00:00:36.159Z"
   },
   {
    "duration": 299,
    "start_time": "2023-08-15T00:01:06.683Z"
   },
   {
    "duration": 258,
    "start_time": "2023-08-15T00:01:10.618Z"
   },
   {
    "duration": 229,
    "start_time": "2023-08-15T00:01:31.709Z"
   },
   {
    "duration": 198,
    "start_time": "2023-08-15T00:01:41.601Z"
   },
   {
    "duration": 188,
    "start_time": "2023-08-15T00:01:45.010Z"
   },
   {
    "duration": 13,
    "start_time": "2023-08-15T00:33:24.044Z"
   },
   {
    "duration": 2195,
    "start_time": "2023-08-15T00:34:11.054Z"
   },
   {
    "duration": 237,
    "start_time": "2023-08-15T00:34:19.762Z"
   },
   {
    "duration": 204725,
    "start_time": "2023-08-15T00:41:33.318Z"
   },
   {
    "duration": 1358,
    "start_time": "2023-08-15T20:44:46.009Z"
   },
   {
    "duration": 186,
    "start_time": "2023-08-15T20:44:47.369Z"
   },
   {
    "duration": 15,
    "start_time": "2023-08-15T20:44:47.557Z"
   },
   {
    "duration": 17,
    "start_time": "2023-08-15T20:44:47.574Z"
   },
   {
    "duration": 3,
    "start_time": "2023-08-15T20:44:47.593Z"
   },
   {
    "duration": 41,
    "start_time": "2023-08-15T20:44:47.597Z"
   },
   {
    "duration": 10,
    "start_time": "2023-08-15T20:44:47.640Z"
   },
   {
    "duration": 9,
    "start_time": "2023-08-15T20:44:47.652Z"
   },
   {
    "duration": 7,
    "start_time": "2023-08-15T20:44:47.663Z"
   },
   {
    "duration": 4,
    "start_time": "2023-08-15T20:44:47.672Z"
   },
   {
    "duration": 16,
    "start_time": "2023-08-15T20:44:47.678Z"
   },
   {
    "duration": 9,
    "start_time": "2023-08-15T20:44:47.696Z"
   },
   {
    "duration": 13,
    "start_time": "2023-08-15T20:44:47.706Z"
   },
   {
    "duration": 4,
    "start_time": "2023-08-15T20:44:47.721Z"
   },
   {
    "duration": 26,
    "start_time": "2023-08-15T20:44:47.727Z"
   },
   {
    "duration": 9,
    "start_time": "2023-08-15T20:44:47.755Z"
   },
   {
    "duration": 192,
    "start_time": "2023-08-15T20:44:47.766Z"
   },
   {
    "duration": 7,
    "start_time": "2023-08-15T20:44:47.960Z"
   },
   {
    "duration": 17,
    "start_time": "2023-08-15T20:52:46.286Z"
   },
   {
    "duration": 5,
    "start_time": "2023-08-15T20:54:07.428Z"
   },
   {
    "duration": 97,
    "start_time": "2023-08-15T20:54:22.124Z"
   },
   {
    "duration": 4,
    "start_time": "2023-08-15T20:54:27.276Z"
   },
   {
    "duration": 10,
    "start_time": "2023-08-15T20:54:31.619Z"
   },
   {
    "duration": 65,
    "start_time": "2023-08-15T20:54:35.374Z"
   },
   {
    "duration": 11,
    "start_time": "2023-08-15T20:54:39.772Z"
   },
   {
    "duration": 163,
    "start_time": "2023-08-15T20:55:00.290Z"
   },
   {
    "duration": 20,
    "start_time": "2023-08-15T20:57:04.337Z"
   },
   {
    "duration": 1971,
    "start_time": "2023-08-15T20:57:44.174Z"
   },
   {
    "duration": 30,
    "start_time": "2023-08-15T21:01:19.800Z"
   },
   {
    "duration": 8,
    "start_time": "2023-08-15T21:01:29.240Z"
   },
   {
    "duration": 248,
    "start_time": "2023-08-15T21:01:45.427Z"
   },
   {
    "duration": 236,
    "start_time": "2023-08-15T21:02:11.552Z"
   },
   {
    "duration": 214,
    "start_time": "2023-08-15T21:03:48.624Z"
   },
   {
    "duration": 6,
    "start_time": "2023-08-15T21:08:34.246Z"
   },
   {
    "duration": 9,
    "start_time": "2023-08-15T21:08:43.112Z"
   },
   {
    "duration": 138,
    "start_time": "2023-08-15T21:15:00.080Z"
   },
   {
    "duration": 8,
    "start_time": "2023-08-15T21:15:42.288Z"
   },
   {
    "duration": 9,
    "start_time": "2023-08-15T21:15:52.754Z"
   },
   {
    "duration": 10,
    "start_time": "2023-08-15T21:16:04.828Z"
   },
   {
    "duration": 185,
    "start_time": "2023-08-15T21:18:13.071Z"
   },
   {
    "duration": 159,
    "start_time": "2023-08-15T21:18:21.985Z"
   },
   {
    "duration": 173,
    "start_time": "2023-08-15T21:18:26.858Z"
   },
   {
    "duration": 16,
    "start_time": "2023-08-15T21:19:47.190Z"
   },
   {
    "duration": 170,
    "start_time": "2023-08-15T21:30:47.531Z"
   },
   {
    "duration": 326,
    "start_time": "2023-08-15T21:31:08.846Z"
   },
   {
    "duration": 174,
    "start_time": "2023-08-15T21:31:12.934Z"
   },
   {
    "duration": 1126,
    "start_time": "2023-08-15T21:31:24.507Z"
   },
   {
    "duration": 53,
    "start_time": "2023-08-15T21:31:25.635Z"
   },
   {
    "duration": 15,
    "start_time": "2023-08-15T21:31:25.690Z"
   },
   {
    "duration": 17,
    "start_time": "2023-08-15T21:31:25.707Z"
   },
   {
    "duration": 3,
    "start_time": "2023-08-15T21:31:25.727Z"
   },
   {
    "duration": 38,
    "start_time": "2023-08-15T21:31:25.731Z"
   },
   {
    "duration": 10,
    "start_time": "2023-08-15T21:31:25.771Z"
   },
   {
    "duration": 8,
    "start_time": "2023-08-15T21:31:25.783Z"
   },
   {
    "duration": 14,
    "start_time": "2023-08-15T21:31:25.793Z"
   },
   {
    "duration": 6,
    "start_time": "2023-08-15T21:31:25.809Z"
   },
   {
    "duration": 15,
    "start_time": "2023-08-15T21:31:25.816Z"
   },
   {
    "duration": 23,
    "start_time": "2023-08-15T21:31:25.833Z"
   },
   {
    "duration": 8,
    "start_time": "2023-08-15T21:31:25.858Z"
   },
   {
    "duration": 4,
    "start_time": "2023-08-15T21:31:25.870Z"
   },
   {
    "duration": 34,
    "start_time": "2023-08-15T21:31:25.875Z"
   },
   {
    "duration": 25,
    "start_time": "2023-08-15T21:31:25.911Z"
   },
   {
    "duration": 207,
    "start_time": "2023-08-15T21:31:25.938Z"
   },
   {
    "duration": 13,
    "start_time": "2023-08-15T21:31:26.147Z"
   },
   {
    "duration": 29,
    "start_time": "2023-08-15T21:31:26.162Z"
   },
   {
    "duration": 160,
    "start_time": "2023-08-15T21:31:26.192Z"
   },
   {
    "duration": 1949,
    "start_time": "2023-08-15T21:31:26.356Z"
   },
   {
    "duration": 7,
    "start_time": "2023-08-15T21:31:28.307Z"
   },
   {
    "duration": 263,
    "start_time": "2023-08-15T21:31:28.315Z"
   },
   {
    "duration": 231,
    "start_time": "2023-08-15T21:31:28.580Z"
   },
   {
    "duration": 6,
    "start_time": "2023-08-15T21:31:28.814Z"
   },
   {
    "duration": 180,
    "start_time": "2023-08-15T21:31:28.822Z"
   },
   {
    "duration": 9,
    "start_time": "2023-08-15T21:31:29.004Z"
   },
   {
    "duration": 19,
    "start_time": "2023-08-15T21:31:29.015Z"
   },
   {
    "duration": 48,
    "start_time": "2023-08-15T21:31:29.036Z"
   },
   {
    "duration": 14,
    "start_time": "2023-08-15T21:31:29.086Z"
   },
   {
    "duration": 210,
    "start_time": "2023-08-15T21:31:29.101Z"
   },
   {
    "duration": 16,
    "start_time": "2023-08-15T21:31:29.313Z"
   },
   {
    "duration": 180,
    "start_time": "2023-08-15T21:31:43.316Z"
   },
   {
    "duration": 166,
    "start_time": "2023-08-15T21:31:47.766Z"
   },
   {
    "duration": 104,
    "start_time": "2023-08-15T21:36:59.150Z"
   },
   {
    "duration": 187,
    "start_time": "2023-08-15T21:37:30.662Z"
   },
   {
    "duration": 14,
    "start_time": "2023-08-15T21:39:10.231Z"
   },
   {
    "duration": 196,
    "start_time": "2023-08-15T21:39:29.260Z"
   },
   {
    "duration": 279,
    "start_time": "2023-08-15T21:39:39.790Z"
   },
   {
    "duration": 14,
    "start_time": "2023-08-15T21:40:03.415Z"
   },
   {
    "duration": 13,
    "start_time": "2023-08-15T21:40:11.708Z"
   },
   {
    "duration": 51,
    "start_time": "2023-08-16T08:26:37.946Z"
   },
   {
    "duration": 6,
    "start_time": "2023-08-16T08:26:56.396Z"
   },
   {
    "duration": 1497,
    "start_time": "2023-08-16T08:27:08.898Z"
   },
   {
    "duration": 107,
    "start_time": "2023-08-16T08:27:10.397Z"
   },
   {
    "duration": 16,
    "start_time": "2023-08-16T08:27:10.506Z"
   },
   {
    "duration": 32,
    "start_time": "2023-08-16T08:27:10.524Z"
   },
   {
    "duration": 3,
    "start_time": "2023-08-16T08:27:10.558Z"
   },
   {
    "duration": 61,
    "start_time": "2023-08-16T08:27:10.563Z"
   },
   {
    "duration": 26,
    "start_time": "2023-08-16T08:27:10.626Z"
   },
   {
    "duration": 41,
    "start_time": "2023-08-16T08:27:10.654Z"
   },
   {
    "duration": 14,
    "start_time": "2023-08-16T08:27:10.697Z"
   },
   {
    "duration": 7,
    "start_time": "2023-08-16T08:27:10.713Z"
   },
   {
    "duration": 13,
    "start_time": "2023-08-16T08:27:10.721Z"
   },
   {
    "duration": 8,
    "start_time": "2023-08-16T08:27:10.736Z"
   },
   {
    "duration": 14,
    "start_time": "2023-08-16T08:27:10.746Z"
   },
   {
    "duration": 15,
    "start_time": "2023-08-16T08:27:10.762Z"
   },
   {
    "duration": 20,
    "start_time": "2023-08-16T08:27:10.779Z"
   },
   {
    "duration": 41,
    "start_time": "2023-08-16T08:27:10.800Z"
   },
   {
    "duration": 225,
    "start_time": "2023-08-16T08:27:10.842Z"
   },
   {
    "duration": 7,
    "start_time": "2023-08-16T08:27:11.070Z"
   },
   {
    "duration": 26,
    "start_time": "2023-08-16T08:27:11.078Z"
   },
   {
    "duration": 206,
    "start_time": "2023-08-16T08:27:11.106Z"
   },
   {
    "duration": 2227,
    "start_time": "2023-08-16T08:27:11.314Z"
   },
   {
    "duration": 17,
    "start_time": "2023-08-16T08:27:13.542Z"
   },
   {
    "duration": 296,
    "start_time": "2023-08-16T08:27:13.560Z"
   },
   {
    "duration": 261,
    "start_time": "2023-08-16T08:27:13.858Z"
   },
   {
    "duration": 6,
    "start_time": "2023-08-16T08:27:14.121Z"
   },
   {
    "duration": 165,
    "start_time": "2023-08-16T08:27:14.129Z"
   },
   {
    "duration": 11,
    "start_time": "2023-08-16T08:27:14.296Z"
   },
   {
    "duration": 18,
    "start_time": "2023-08-16T08:27:14.311Z"
   },
   {
    "duration": 29,
    "start_time": "2023-08-16T08:27:14.331Z"
   },
   {
    "duration": 15,
    "start_time": "2023-08-16T08:27:14.362Z"
   },
   {
    "duration": 210,
    "start_time": "2023-08-16T08:27:14.379Z"
   },
   {
    "duration": 16,
    "start_time": "2023-08-16T08:27:14.591Z"
   },
   {
    "duration": 227,
    "start_time": "2023-08-16T08:27:14.610Z"
   },
   {
    "duration": 23,
    "start_time": "2023-08-16T08:27:14.840Z"
   },
   {
    "duration": 225,
    "start_time": "2023-08-16T08:27:14.864Z"
   },
   {
    "duration": 16,
    "start_time": "2023-08-16T08:27:15.091Z"
   },
   {
    "duration": 210,
    "start_time": "2023-08-16T08:27:15.109Z"
   },
   {
    "duration": 18,
    "start_time": "2023-08-16T08:27:15.321Z"
   },
   {
    "duration": 120,
    "start_time": "2023-08-16T08:27:15.342Z"
   },
   {
    "duration": 16,
    "start_time": "2023-08-16T08:27:43.237Z"
   },
   {
    "duration": 17,
    "start_time": "2023-08-16T08:27:57.666Z"
   },
   {
    "duration": 5,
    "start_time": "2023-08-16T08:28:43.269Z"
   },
   {
    "duration": 6,
    "start_time": "2023-08-16T08:29:00.888Z"
   },
   {
    "duration": 10,
    "start_time": "2023-08-16T08:41:48.660Z"
   },
   {
    "duration": 6,
    "start_time": "2023-08-16T08:42:41.674Z"
   },
   {
    "duration": 8,
    "start_time": "2023-08-16T08:43:41.983Z"
   },
   {
    "duration": 11,
    "start_time": "2023-08-16T08:45:10.308Z"
   },
   {
    "duration": 6,
    "start_time": "2023-08-16T08:46:09.155Z"
   },
   {
    "duration": 1503,
    "start_time": "2023-08-16T16:54:03.557Z"
   },
   {
    "duration": 211,
    "start_time": "2023-08-16T16:54:05.062Z"
   },
   {
    "duration": 18,
    "start_time": "2023-08-16T16:54:05.275Z"
   },
   {
    "duration": 34,
    "start_time": "2023-08-16T16:54:05.296Z"
   },
   {
    "duration": 3,
    "start_time": "2023-08-16T16:54:05.333Z"
   },
   {
    "duration": 45,
    "start_time": "2023-08-16T16:54:05.338Z"
   },
   {
    "duration": 32,
    "start_time": "2023-08-16T16:54:05.385Z"
   },
   {
    "duration": 49,
    "start_time": "2023-08-16T16:54:05.419Z"
   },
   {
    "duration": 55,
    "start_time": "2023-08-16T16:54:05.470Z"
   },
   {
    "duration": 22,
    "start_time": "2023-08-16T16:54:05.528Z"
   },
   {
    "duration": 28,
    "start_time": "2023-08-16T16:54:05.552Z"
   },
   {
    "duration": 29,
    "start_time": "2023-08-16T16:54:05.582Z"
   },
   {
    "duration": 26,
    "start_time": "2023-08-16T16:54:05.613Z"
   },
   {
    "duration": 31,
    "start_time": "2023-08-16T16:54:05.641Z"
   },
   {
    "duration": 49,
    "start_time": "2023-08-16T16:54:05.673Z"
   },
   {
    "duration": 24,
    "start_time": "2023-08-16T16:54:05.724Z"
   },
   {
    "duration": 216,
    "start_time": "2023-08-16T16:54:05.750Z"
   },
   {
    "duration": 7,
    "start_time": "2023-08-16T16:54:05.968Z"
   },
   {
    "duration": 44,
    "start_time": "2023-08-16T16:54:05.976Z"
   },
   {
    "duration": 199,
    "start_time": "2023-08-16T16:54:06.022Z"
   },
   {
    "duration": 2069,
    "start_time": "2023-08-16T16:54:06.223Z"
   },
   {
    "duration": 7,
    "start_time": "2023-08-16T16:54:08.295Z"
   },
   {
    "duration": 305,
    "start_time": "2023-08-16T16:54:08.304Z"
   },
   {
    "duration": 255,
    "start_time": "2023-08-16T16:54:08.610Z"
   },
   {
    "duration": 7,
    "start_time": "2023-08-16T16:54:08.866Z"
   },
   {
    "duration": 207,
    "start_time": "2023-08-16T16:54:08.875Z"
   },
   {
    "duration": 16,
    "start_time": "2023-08-16T16:54:09.084Z"
   },
   {
    "duration": 20,
    "start_time": "2023-08-16T16:54:09.106Z"
   },
   {
    "duration": 15,
    "start_time": "2023-08-16T16:54:09.128Z"
   },
   {
    "duration": 11,
    "start_time": "2023-08-16T16:54:09.155Z"
   },
   {
    "duration": 197,
    "start_time": "2023-08-16T16:54:09.167Z"
   },
   {
    "duration": 16,
    "start_time": "2023-08-16T16:54:09.366Z"
   },
   {
    "duration": 212,
    "start_time": "2023-08-16T16:54:09.384Z"
   },
   {
    "duration": 16,
    "start_time": "2023-08-16T16:54:09.597Z"
   },
   {
    "duration": 211,
    "start_time": "2023-08-16T16:54:09.615Z"
   },
   {
    "duration": 17,
    "start_time": "2023-08-16T16:54:09.827Z"
   },
   {
    "duration": 201,
    "start_time": "2023-08-16T16:54:09.857Z"
   },
   {
    "duration": 16,
    "start_time": "2023-08-16T16:54:10.061Z"
   },
   {
    "duration": 20,
    "start_time": "2023-08-16T16:54:10.079Z"
   },
   {
    "duration": 29,
    "start_time": "2023-08-16T16:54:10.100Z"
   },
   {
    "duration": 13,
    "start_time": "2023-08-16T16:54:10.131Z"
   },
   {
    "duration": 14,
    "start_time": "2023-08-16T16:54:10.146Z"
   },
   {
    "duration": 12,
    "start_time": "2023-08-16T16:54:10.161Z"
   },
   {
    "duration": 1561,
    "start_time": "2023-08-17T08:37:11.916Z"
   },
   {
    "duration": 207,
    "start_time": "2023-08-17T08:37:13.479Z"
   },
   {
    "duration": 16,
    "start_time": "2023-08-17T08:37:13.688Z"
   },
   {
    "duration": 19,
    "start_time": "2023-08-17T08:37:13.706Z"
   },
   {
    "duration": 3,
    "start_time": "2023-08-17T08:37:13.727Z"
   },
   {
    "duration": 44,
    "start_time": "2023-08-17T08:37:13.732Z"
   },
   {
    "duration": 13,
    "start_time": "2023-08-17T08:37:13.779Z"
   },
   {
    "duration": 12,
    "start_time": "2023-08-17T08:37:13.794Z"
   },
   {
    "duration": 14,
    "start_time": "2023-08-17T08:37:13.808Z"
   },
   {
    "duration": 37,
    "start_time": "2023-08-17T08:37:13.826Z"
   },
   {
    "duration": 20,
    "start_time": "2023-08-17T08:37:13.866Z"
   },
   {
    "duration": 6,
    "start_time": "2023-08-17T08:37:13.890Z"
   },
   {
    "duration": 10,
    "start_time": "2023-08-17T08:37:13.897Z"
   },
   {
    "duration": 11,
    "start_time": "2023-08-17T08:37:13.908Z"
   },
   {
    "duration": 8,
    "start_time": "2023-08-17T08:37:13.920Z"
   },
   {
    "duration": 22,
    "start_time": "2023-08-17T08:37:13.929Z"
   },
   {
    "duration": 33,
    "start_time": "2023-08-17T08:37:13.960Z"
   },
   {
    "duration": 288,
    "start_time": "2023-08-17T08:37:13.996Z"
   },
   {
    "duration": 8,
    "start_time": "2023-08-17T08:37:14.287Z"
   },
   {
    "duration": 20,
    "start_time": "2023-08-17T08:37:14.297Z"
   },
   {
    "duration": 218,
    "start_time": "2023-08-17T08:37:14.319Z"
   },
   {
    "duration": 2207,
    "start_time": "2023-08-17T08:37:14.539Z"
   },
   {
    "duration": 22,
    "start_time": "2023-08-17T08:37:16.748Z"
   },
   {
    "duration": 286,
    "start_time": "2023-08-17T08:37:16.778Z"
   },
   {
    "duration": 270,
    "start_time": "2023-08-17T08:37:17.066Z"
   },
   {
    "duration": 7,
    "start_time": "2023-08-17T08:37:17.339Z"
   },
   {
    "duration": 224,
    "start_time": "2023-08-17T08:37:17.348Z"
   },
   {
    "duration": 13,
    "start_time": "2023-08-17T08:37:17.583Z"
   },
   {
    "duration": 31,
    "start_time": "2023-08-17T08:37:17.597Z"
   },
   {
    "duration": 47,
    "start_time": "2023-08-17T08:37:17.630Z"
   },
   {
    "duration": 20,
    "start_time": "2023-08-17T08:37:17.680Z"
   },
   {
    "duration": 212,
    "start_time": "2023-08-17T08:37:17.701Z"
   },
   {
    "duration": 14,
    "start_time": "2023-08-17T08:37:17.916Z"
   },
   {
    "duration": 247,
    "start_time": "2023-08-17T08:37:17.932Z"
   },
   {
    "duration": 32,
    "start_time": "2023-08-17T08:37:18.186Z"
   },
   {
    "duration": 266,
    "start_time": "2023-08-17T08:37:18.220Z"
   },
   {
    "duration": 17,
    "start_time": "2023-08-17T08:37:18.488Z"
   },
   {
    "duration": 217,
    "start_time": "2023-08-17T08:37:18.507Z"
   },
   {
    "duration": 15,
    "start_time": "2023-08-17T08:37:18.726Z"
   },
   {
    "duration": 37,
    "start_time": "2023-08-17T08:37:18.742Z"
   },
   {
    "duration": 30,
    "start_time": "2023-08-17T08:37:18.781Z"
   },
   {
    "duration": 21,
    "start_time": "2023-08-17T08:37:18.813Z"
   },
   {
    "duration": 38,
    "start_time": "2023-08-17T08:37:18.836Z"
   },
   {
    "duration": 11,
    "start_time": "2023-08-17T08:37:18.876Z"
   },
   {
    "duration": 10,
    "start_time": "2023-08-17T08:40:19.614Z"
   },
   {
    "duration": 9,
    "start_time": "2023-08-17T08:42:33.015Z"
   },
   {
    "duration": 15,
    "start_time": "2023-08-17T08:42:39.576Z"
   },
   {
    "duration": 22,
    "start_time": "2023-08-17T08:43:54.564Z"
   },
   {
    "duration": 123,
    "start_time": "2023-08-17T08:44:42.412Z"
   },
   {
    "duration": 78,
    "start_time": "2023-08-17T08:45:02.695Z"
   },
   {
    "duration": 122,
    "start_time": "2023-08-17T08:45:20.167Z"
   },
   {
    "duration": 16,
    "start_time": "2023-08-17T08:45:30.253Z"
   },
   {
    "duration": 20,
    "start_time": "2023-08-17T08:47:20.805Z"
   },
   {
    "duration": 20,
    "start_time": "2023-08-17T08:47:28.533Z"
   },
   {
    "duration": 25,
    "start_time": "2023-08-17T08:47:39.453Z"
   },
   {
    "duration": 1651,
    "start_time": "2023-08-17T08:48:01.282Z"
   },
   {
    "duration": 1467,
    "start_time": "2023-08-17T08:49:22.984Z"
   },
   {
    "duration": 2400,
    "start_time": "2023-08-17T08:49:29.517Z"
   },
   {
    "duration": 29,
    "start_time": "2023-08-17T08:50:08.401Z"
   },
   {
    "duration": 11,
    "start_time": "2023-08-17T08:51:06.014Z"
   },
   {
    "duration": 28,
    "start_time": "2023-08-17T08:51:11.779Z"
   },
   {
    "duration": 30,
    "start_time": "2023-08-17T08:51:34.225Z"
   },
   {
    "duration": 1766,
    "start_time": "2023-08-17T08:54:24.840Z"
   },
   {
    "duration": 27,
    "start_time": "2023-08-17T09:44:23.550Z"
   },
   {
    "duration": 82,
    "start_time": "2023-08-17T09:44:55.229Z"
   },
   {
    "duration": 21,
    "start_time": "2023-08-17T09:46:45.054Z"
   },
   {
    "duration": 17,
    "start_time": "2023-08-17T09:46:58.586Z"
   },
   {
    "duration": 14,
    "start_time": "2023-08-17T09:47:05.011Z"
   },
   {
    "duration": 19,
    "start_time": "2023-08-17T09:48:31.428Z"
   },
   {
    "duration": 20,
    "start_time": "2023-08-17T09:48:34.888Z"
   },
   {
    "duration": 3,
    "start_time": "2023-08-17T09:48:46.042Z"
   },
   {
    "duration": 77,
    "start_time": "2023-08-17T09:48:46.049Z"
   },
   {
    "duration": 14,
    "start_time": "2023-08-17T09:48:46.128Z"
   },
   {
    "duration": 38,
    "start_time": "2023-08-17T09:48:46.144Z"
   },
   {
    "duration": 4,
    "start_time": "2023-08-17T09:48:46.190Z"
   },
   {
    "duration": 27,
    "start_time": "2023-08-17T09:48:46.195Z"
   },
   {
    "duration": 9,
    "start_time": "2023-08-17T09:48:46.224Z"
   },
   {
    "duration": 8,
    "start_time": "2023-08-17T09:48:46.235Z"
   },
   {
    "duration": 35,
    "start_time": "2023-08-17T09:48:46.245Z"
   },
   {
    "duration": 7,
    "start_time": "2023-08-17T09:48:46.288Z"
   },
   {
    "duration": 12,
    "start_time": "2023-08-17T09:48:46.298Z"
   },
   {
    "duration": 9,
    "start_time": "2023-08-17T09:48:46.312Z"
   },
   {
    "duration": 14,
    "start_time": "2023-08-17T09:48:46.323Z"
   },
   {
    "duration": 8,
    "start_time": "2023-08-17T09:48:46.338Z"
   },
   {
    "duration": 5,
    "start_time": "2023-08-17T09:48:46.348Z"
   },
   {
    "duration": 54,
    "start_time": "2023-08-17T09:48:46.354Z"
   },
   {
    "duration": 7,
    "start_time": "2023-08-17T09:48:46.410Z"
   },
   {
    "duration": 59,
    "start_time": "2023-08-17T09:48:46.419Z"
   },
   {
    "duration": 12,
    "start_time": "2023-08-17T09:48:46.485Z"
   },
   {
    "duration": 267,
    "start_time": "2023-08-17T09:48:46.499Z"
   },
   {
    "duration": 8,
    "start_time": "2023-08-17T09:48:46.769Z"
   },
   {
    "duration": 26,
    "start_time": "2023-08-17T09:48:46.779Z"
   },
   {
    "duration": 331,
    "start_time": "2023-08-17T09:48:46.807Z"
   },
   {
    "duration": 2238,
    "start_time": "2023-08-17T09:48:47.140Z"
   },
   {
    "duration": 9,
    "start_time": "2023-08-17T09:48:49.382Z"
   },
   {
    "duration": 288,
    "start_time": "2023-08-17T09:48:49.393Z"
   },
   {
    "duration": 283,
    "start_time": "2023-08-17T09:48:49.685Z"
   },
   {
    "duration": 8,
    "start_time": "2023-08-17T09:48:49.969Z"
   },
   {
    "duration": 168,
    "start_time": "2023-08-17T09:48:49.983Z"
   },
   {
    "duration": 28,
    "start_time": "2023-08-17T09:48:50.156Z"
   },
   {
    "duration": 32,
    "start_time": "2023-08-17T09:48:50.190Z"
   },
   {
    "duration": 42,
    "start_time": "2023-08-17T09:48:50.224Z"
   },
   {
    "duration": 22,
    "start_time": "2023-08-17T09:48:50.271Z"
   },
   {
    "duration": 335,
    "start_time": "2023-08-17T09:48:50.295Z"
   },
   {
    "duration": 15,
    "start_time": "2023-08-17T09:48:50.632Z"
   },
   {
    "duration": 235,
    "start_time": "2023-08-17T09:48:50.657Z"
   },
   {
    "duration": 15,
    "start_time": "2023-08-17T09:48:50.894Z"
   },
   {
    "duration": 248,
    "start_time": "2023-08-17T09:48:50.911Z"
   },
   {
    "duration": 20,
    "start_time": "2023-08-17T09:48:51.161Z"
   },
   {
    "duration": 221,
    "start_time": "2023-08-17T09:48:51.183Z"
   },
   {
    "duration": 15,
    "start_time": "2023-08-17T09:48:51.406Z"
   },
   {
    "duration": 39,
    "start_time": "2023-08-17T09:48:51.424Z"
   },
   {
    "duration": 21,
    "start_time": "2023-08-17T09:48:51.465Z"
   },
   {
    "duration": 5,
    "start_time": "2023-08-17T09:48:51.489Z"
   },
   {
    "duration": 9,
    "start_time": "2023-08-17T09:48:51.495Z"
   },
   {
    "duration": 13,
    "start_time": "2023-08-17T09:48:51.506Z"
   },
   {
    "duration": 36,
    "start_time": "2023-08-17T09:49:09.055Z"
   },
   {
    "duration": 19,
    "start_time": "2023-08-17T09:49:17.376Z"
   },
   {
    "duration": 16,
    "start_time": "2023-08-17T09:49:19.976Z"
   },
   {
    "duration": 15,
    "start_time": "2023-08-17T09:49:43.179Z"
   },
   {
    "duration": 3,
    "start_time": "2023-08-17T09:49:47.585Z"
   },
   {
    "duration": 81,
    "start_time": "2023-08-17T09:49:47.590Z"
   },
   {
    "duration": 21,
    "start_time": "2023-08-17T09:49:47.674Z"
   },
   {
    "duration": 31,
    "start_time": "2023-08-17T09:49:47.697Z"
   },
   {
    "duration": 19,
    "start_time": "2023-08-17T09:49:47.730Z"
   },
   {
    "duration": 39,
    "start_time": "2023-08-17T09:49:47.751Z"
   },
   {
    "duration": 17,
    "start_time": "2023-08-17T09:49:47.793Z"
   },
   {
    "duration": 37,
    "start_time": "2023-08-17T09:49:47.812Z"
   },
   {
    "duration": 40,
    "start_time": "2023-08-17T09:49:47.851Z"
   },
   {
    "duration": 12,
    "start_time": "2023-08-17T09:49:47.893Z"
   },
   {
    "duration": 11,
    "start_time": "2023-08-17T09:49:47.907Z"
   },
   {
    "duration": 10,
    "start_time": "2023-08-17T09:49:47.920Z"
   },
   {
    "duration": 10,
    "start_time": "2023-08-17T09:49:47.932Z"
   },
   {
    "duration": 29,
    "start_time": "2023-08-17T09:49:47.945Z"
   },
   {
    "duration": 10,
    "start_time": "2023-08-17T09:49:47.981Z"
   },
   {
    "duration": 24,
    "start_time": "2023-08-17T09:49:47.993Z"
   },
   {
    "duration": 6,
    "start_time": "2023-08-17T09:49:48.018Z"
   },
   {
    "duration": 28,
    "start_time": "2023-08-17T09:49:48.025Z"
   },
   {
    "duration": 22,
    "start_time": "2023-08-17T09:49:48.055Z"
   },
   {
    "duration": 10,
    "start_time": "2023-08-17T09:49:48.087Z"
   },
   {
    "duration": 220,
    "start_time": "2023-08-17T09:49:48.099Z"
   },
   {
    "duration": 10,
    "start_time": "2023-08-17T09:49:48.321Z"
   },
   {
    "duration": 49,
    "start_time": "2023-08-17T09:49:48.333Z"
   },
   {
    "duration": 243,
    "start_time": "2023-08-17T09:49:48.384Z"
   },
   {
    "duration": 2319,
    "start_time": "2023-08-17T09:49:48.629Z"
   },
   {
    "duration": 21,
    "start_time": "2023-08-17T09:49:50.950Z"
   },
   {
    "duration": 299,
    "start_time": "2023-08-17T09:49:50.976Z"
   },
   {
    "duration": 258,
    "start_time": "2023-08-17T09:49:51.278Z"
   },
   {
    "duration": 5,
    "start_time": "2023-08-17T09:49:51.538Z"
   },
   {
    "duration": 256,
    "start_time": "2023-08-17T09:49:51.545Z"
   },
   {
    "duration": 10,
    "start_time": "2023-08-17T09:49:51.803Z"
   },
   {
    "duration": 37,
    "start_time": "2023-08-17T09:49:51.816Z"
   },
   {
    "duration": 38,
    "start_time": "2023-08-17T09:49:51.856Z"
   },
   {
    "duration": 10,
    "start_time": "2023-08-17T09:49:51.895Z"
   },
   {
    "duration": 243,
    "start_time": "2023-08-17T09:49:51.906Z"
   },
   {
    "duration": 28,
    "start_time": "2023-08-17T09:49:52.150Z"
   },
   {
    "duration": 224,
    "start_time": "2023-08-17T09:49:52.180Z"
   },
   {
    "duration": 15,
    "start_time": "2023-08-17T09:49:52.406Z"
   },
   {
    "duration": 224,
    "start_time": "2023-08-17T09:49:52.423Z"
   },
   {
    "duration": 18,
    "start_time": "2023-08-17T09:49:52.656Z"
   },
   {
    "duration": 216,
    "start_time": "2023-08-17T09:49:52.684Z"
   },
   {
    "duration": 16,
    "start_time": "2023-08-17T09:49:52.901Z"
   },
   {
    "duration": 75,
    "start_time": "2023-08-17T09:49:52.918Z"
   },
   {
    "duration": 43,
    "start_time": "2023-08-17T09:49:52.995Z"
   },
   {
    "duration": 46,
    "start_time": "2023-08-17T09:49:53.040Z"
   },
   {
    "duration": 36,
    "start_time": "2023-08-17T09:49:53.088Z"
   },
   {
    "duration": 42,
    "start_time": "2023-08-17T09:49:53.125Z"
   },
   {
    "duration": 8,
    "start_time": "2023-08-17T09:54:21.612Z"
   },
   {
    "duration": 58,
    "start_time": "2023-08-17T09:54:43.840Z"
   },
   {
    "duration": 268,
    "start_time": "2023-08-17T09:57:57.278Z"
   },
   {
    "duration": 165,
    "start_time": "2023-08-17T10:09:28.289Z"
   },
   {
    "duration": 11,
    "start_time": "2023-08-17T10:09:38.178Z"
   },
   {
    "duration": 11,
    "start_time": "2023-08-17T10:09:58.422Z"
   },
   {
    "duration": 13,
    "start_time": "2023-08-17T10:10:07.918Z"
   },
   {
    "duration": 17,
    "start_time": "2023-08-17T10:10:09.305Z"
   },
   {
    "duration": 4,
    "start_time": "2023-08-17T10:10:20.023Z"
   },
   {
    "duration": 71,
    "start_time": "2023-08-17T10:10:20.030Z"
   },
   {
    "duration": 14,
    "start_time": "2023-08-17T10:10:20.102Z"
   },
   {
    "duration": 26,
    "start_time": "2023-08-17T10:10:20.119Z"
   },
   {
    "duration": 15,
    "start_time": "2023-08-17T10:10:20.147Z"
   },
   {
    "duration": 43,
    "start_time": "2023-08-17T10:10:20.163Z"
   },
   {
    "duration": 9,
    "start_time": "2023-08-17T10:10:20.208Z"
   },
   {
    "duration": 8,
    "start_time": "2023-08-17T10:10:20.218Z"
   },
   {
    "duration": 11,
    "start_time": "2023-08-17T10:10:20.229Z"
   },
   {
    "duration": 8,
    "start_time": "2023-08-17T10:10:20.242Z"
   },
   {
    "duration": 16,
    "start_time": "2023-08-17T10:10:20.252Z"
   },
   {
    "duration": 23,
    "start_time": "2023-08-17T10:10:20.271Z"
   },
   {
    "duration": 11,
    "start_time": "2023-08-17T10:10:20.296Z"
   },
   {
    "duration": 15,
    "start_time": "2023-08-17T10:10:20.308Z"
   },
   {
    "duration": 27,
    "start_time": "2023-08-17T10:10:20.324Z"
   },
   {
    "duration": 35,
    "start_time": "2023-08-17T10:10:20.352Z"
   },
   {
    "duration": 8,
    "start_time": "2023-08-17T10:10:20.389Z"
   },
   {
    "duration": 36,
    "start_time": "2023-08-17T10:10:20.398Z"
   },
   {
    "duration": 16,
    "start_time": "2023-08-17T10:10:20.436Z"
   },
   {
    "duration": 36,
    "start_time": "2023-08-17T10:10:20.456Z"
   },
   {
    "duration": 208,
    "start_time": "2023-08-17T10:10:20.493Z"
   },
   {
    "duration": 7,
    "start_time": "2023-08-17T10:10:20.703Z"
   },
   {
    "duration": 27,
    "start_time": "2023-08-17T10:10:20.711Z"
   },
   {
    "duration": 372,
    "start_time": "2023-08-17T10:10:20.741Z"
   },
   {
    "duration": 2029,
    "start_time": "2023-08-17T10:10:21.115Z"
   },
   {
    "duration": 14,
    "start_time": "2023-08-17T10:10:23.146Z"
   },
   {
    "duration": 334,
    "start_time": "2023-08-17T10:10:23.162Z"
   },
   {
    "duration": 279,
    "start_time": "2023-08-17T10:10:23.498Z"
   },
   {
    "duration": 55,
    "start_time": "2023-08-17T10:10:23.780Z"
   },
   {
    "duration": 24,
    "start_time": "2023-08-17T10:10:23.836Z"
   },
   {
    "duration": 171,
    "start_time": "2023-08-17T10:10:23.861Z"
   },
   {
    "duration": 10,
    "start_time": "2023-08-17T10:10:24.034Z"
   },
   {
    "duration": 23,
    "start_time": "2023-08-17T10:10:24.046Z"
   },
   {
    "duration": 12,
    "start_time": "2023-08-17T10:10:24.072Z"
   },
   {
    "duration": 202,
    "start_time": "2023-08-17T10:10:24.085Z"
   },
   {
    "duration": 11,
    "start_time": "2023-08-17T10:10:24.288Z"
   },
   {
    "duration": 187,
    "start_time": "2023-08-17T10:10:24.300Z"
   },
   {
    "duration": 209,
    "start_time": "2023-08-17T10:10:24.489Z"
   },
   {
    "duration": 15,
    "start_time": "2023-08-17T10:10:24.699Z"
   },
   {
    "duration": 414,
    "start_time": "2023-08-17T10:10:24.715Z"
   },
   {
    "duration": 15,
    "start_time": "2023-08-17T10:10:25.131Z"
   },
   {
    "duration": 244,
    "start_time": "2023-08-17T10:10:25.156Z"
   },
   {
    "duration": 16,
    "start_time": "2023-08-17T10:10:25.402Z"
   },
   {
    "duration": 218,
    "start_time": "2023-08-17T10:10:25.420Z"
   },
   {
    "duration": 25,
    "start_time": "2023-08-17T10:10:25.640Z"
   },
   {
    "duration": 18,
    "start_time": "2023-08-17T10:10:25.666Z"
   },
   {
    "duration": 7,
    "start_time": "2023-08-17T10:10:25.686Z"
   },
   {
    "duration": 5,
    "start_time": "2023-08-17T10:10:25.695Z"
   },
   {
    "duration": 11,
    "start_time": "2023-08-17T10:10:25.701Z"
   },
   {
    "duration": 8,
    "start_time": "2023-08-17T10:10:25.713Z"
   },
   {
    "duration": 15,
    "start_time": "2023-08-17T10:11:52.307Z"
   },
   {
    "duration": 29,
    "start_time": "2023-08-17T10:12:06.550Z"
   },
   {
    "duration": 293,
    "start_time": "2023-08-17T10:16:54.641Z"
   },
   {
    "duration": 227,
    "start_time": "2023-08-17T10:17:06.896Z"
   },
   {
    "duration": 212,
    "start_time": "2023-08-17T10:17:36.368Z"
   },
   {
    "duration": 237,
    "start_time": "2023-08-17T10:17:42.545Z"
   },
   {
    "duration": 247,
    "start_time": "2023-08-17T10:17:54.757Z"
   },
   {
    "duration": 186,
    "start_time": "2023-08-17T10:18:43.539Z"
   },
   {
    "duration": 1389,
    "start_time": "2023-08-17T10:41:19.842Z"
   },
   {
    "duration": 65,
    "start_time": "2023-08-17T10:41:21.234Z"
   },
   {
    "duration": 15,
    "start_time": "2023-08-17T10:41:21.301Z"
   },
   {
    "duration": 32,
    "start_time": "2023-08-17T10:41:21.318Z"
   },
   {
    "duration": 7,
    "start_time": "2023-08-17T10:41:21.353Z"
   },
   {
    "duration": 25,
    "start_time": "2023-08-17T10:41:21.364Z"
   },
   {
    "duration": 13,
    "start_time": "2023-08-17T10:41:21.391Z"
   },
   {
    "duration": 10,
    "start_time": "2023-08-17T10:41:21.405Z"
   },
   {
    "duration": 30,
    "start_time": "2023-08-17T10:41:21.417Z"
   },
   {
    "duration": 16,
    "start_time": "2023-08-17T10:41:21.449Z"
   },
   {
    "duration": 8,
    "start_time": "2023-08-17T10:41:21.468Z"
   },
   {
    "duration": 24,
    "start_time": "2023-08-17T10:41:21.480Z"
   },
   {
    "duration": 12,
    "start_time": "2023-08-17T10:41:21.506Z"
   },
   {
    "duration": 33,
    "start_time": "2023-08-17T10:41:21.521Z"
   },
   {
    "duration": 23,
    "start_time": "2023-08-17T10:41:21.556Z"
   },
   {
    "duration": 24,
    "start_time": "2023-08-17T10:41:21.581Z"
   },
   {
    "duration": 6,
    "start_time": "2023-08-17T10:41:21.606Z"
   },
   {
    "duration": 32,
    "start_time": "2023-08-17T10:41:21.613Z"
   },
   {
    "duration": 28,
    "start_time": "2023-08-17T10:41:21.647Z"
   },
   {
    "duration": 15,
    "start_time": "2023-08-17T10:41:21.677Z"
   },
   {
    "duration": 227,
    "start_time": "2023-08-17T10:41:21.694Z"
   },
   {
    "duration": 7,
    "start_time": "2023-08-17T10:41:21.923Z"
   },
   {
    "duration": 48,
    "start_time": "2023-08-17T10:41:21.931Z"
   },
   {
    "duration": 223,
    "start_time": "2023-08-17T10:41:21.984Z"
   },
   {
    "duration": 2271,
    "start_time": "2023-08-17T10:41:22.209Z"
   },
   {
    "duration": 7,
    "start_time": "2023-08-17T10:41:24.483Z"
   },
   {
    "duration": 291,
    "start_time": "2023-08-17T10:41:24.492Z"
   },
   {
    "duration": 261,
    "start_time": "2023-08-17T10:41:24.785Z"
   },
   {
    "duration": 60,
    "start_time": "2023-08-17T10:41:25.048Z"
   },
   {
    "duration": 6,
    "start_time": "2023-08-17T10:41:25.110Z"
   },
   {
    "duration": 192,
    "start_time": "2023-08-17T10:41:25.118Z"
   },
   {
    "duration": 11,
    "start_time": "2023-08-17T10:41:25.312Z"
   },
   {
    "duration": 9,
    "start_time": "2023-08-17T10:41:25.325Z"
   },
   {
    "duration": 42,
    "start_time": "2023-08-17T10:41:25.335Z"
   },
   {
    "duration": 167,
    "start_time": "2023-08-17T10:41:25.379Z"
   },
   {
    "duration": 32,
    "start_time": "2023-08-17T10:41:25.548Z"
   },
   {
    "duration": 164,
    "start_time": "2023-08-17T10:41:25.587Z"
   },
   {
    "duration": 242,
    "start_time": "2023-08-17T10:41:25.753Z"
   },
   {
    "duration": 15,
    "start_time": "2023-08-17T10:41:25.996Z"
   },
   {
    "duration": 28,
    "start_time": "2023-08-17T10:41:26.013Z"
   },
   {
    "duration": 42,
    "start_time": "2023-08-17T10:41:26.045Z"
   },
   {
    "duration": 214,
    "start_time": "2023-08-17T10:41:26.088Z"
   },
   {
    "duration": 68,
    "start_time": "2023-08-17T10:41:26.304Z"
   },
   {
    "duration": 335,
    "start_time": "2023-08-17T10:41:26.378Z"
   },
   {
    "duration": 220,
    "start_time": "2023-08-17T10:41:26.714Z"
   },
   {
    "duration": 28,
    "start_time": "2023-08-17T10:41:26.936Z"
   },
   {
    "duration": 241,
    "start_time": "2023-08-17T10:41:26.969Z"
   },
   {
    "duration": 366,
    "start_time": "2023-08-17T10:41:27.212Z"
   },
   {
    "duration": 18,
    "start_time": "2023-08-17T10:41:27.583Z"
   },
   {
    "duration": 258,
    "start_time": "2023-08-17T10:41:27.603Z"
   },
   {
    "duration": 29,
    "start_time": "2023-08-17T10:41:27.863Z"
   },
   {
    "duration": 245,
    "start_time": "2023-08-17T10:41:27.894Z"
   },
   {
    "duration": 26,
    "start_time": "2023-08-17T10:41:28.141Z"
   },
   {
    "duration": 14,
    "start_time": "2023-08-17T10:41:28.168Z"
   },
   {
    "duration": 14,
    "start_time": "2023-08-17T10:41:28.185Z"
   },
   {
    "duration": 6,
    "start_time": "2023-08-17T10:41:28.201Z"
   },
   {
    "duration": 47,
    "start_time": "2023-08-18T08:00:13.334Z"
   },
   {
    "duration": 1460,
    "start_time": "2023-08-18T08:00:17.013Z"
   },
   {
    "duration": 177,
    "start_time": "2023-08-18T08:00:18.475Z"
   },
   {
    "duration": 16,
    "start_time": "2023-08-18T08:00:18.655Z"
   },
   {
    "duration": 17,
    "start_time": "2023-08-18T08:00:18.673Z"
   },
   {
    "duration": 25,
    "start_time": "2023-08-18T08:00:18.692Z"
   },
   {
    "duration": 25,
    "start_time": "2023-08-18T08:00:18.719Z"
   },
   {
    "duration": 10,
    "start_time": "2023-08-18T08:00:18.746Z"
   },
   {
    "duration": 18,
    "start_time": "2023-08-18T08:00:18.759Z"
   },
   {
    "duration": 28,
    "start_time": "2023-08-18T08:00:18.780Z"
   },
   {
    "duration": 19,
    "start_time": "2023-08-18T08:00:18.811Z"
   },
   {
    "duration": 15,
    "start_time": "2023-08-18T08:00:18.832Z"
   },
   {
    "duration": 12,
    "start_time": "2023-08-18T08:00:18.848Z"
   },
   {
    "duration": 5,
    "start_time": "2023-08-18T08:00:18.862Z"
   },
   {
    "duration": 36,
    "start_time": "2023-08-18T08:00:18.869Z"
   },
   {
    "duration": 18,
    "start_time": "2023-08-18T08:00:18.907Z"
   },
   {
    "duration": 34,
    "start_time": "2023-08-18T08:00:18.927Z"
   },
   {
    "duration": 5,
    "start_time": "2023-08-18T08:00:18.963Z"
   },
   {
    "duration": 40,
    "start_time": "2023-08-18T08:00:18.970Z"
   },
   {
    "duration": 14,
    "start_time": "2023-08-18T08:00:19.012Z"
   },
   {
    "duration": 22,
    "start_time": "2023-08-18T08:00:19.028Z"
   },
   {
    "duration": 215,
    "start_time": "2023-08-18T08:00:19.052Z"
   },
   {
    "duration": 7,
    "start_time": "2023-08-18T08:00:19.269Z"
   },
   {
    "duration": 45,
    "start_time": "2023-08-18T08:00:19.277Z"
   },
   {
    "duration": 187,
    "start_time": "2023-08-18T08:00:19.324Z"
   },
   {
    "duration": 1957,
    "start_time": "2023-08-18T08:00:19.513Z"
   },
   {
    "duration": 7,
    "start_time": "2023-08-18T08:00:21.472Z"
   },
   {
    "duration": 257,
    "start_time": "2023-08-18T08:00:21.480Z"
   },
   {
    "duration": 237,
    "start_time": "2023-08-18T08:00:21.741Z"
   },
   {
    "duration": 50,
    "start_time": "2023-08-18T08:00:21.979Z"
   },
   {
    "duration": 7,
    "start_time": "2023-08-18T08:00:22.031Z"
   },
   {
    "duration": 148,
    "start_time": "2023-08-18T08:00:22.058Z"
   },
   {
    "duration": 10,
    "start_time": "2023-08-18T08:00:22.208Z"
   },
   {
    "duration": 13,
    "start_time": "2023-08-18T08:00:22.220Z"
   },
   {
    "duration": 10,
    "start_time": "2023-08-18T08:00:22.235Z"
   },
   {
    "duration": 173,
    "start_time": "2023-08-18T08:00:22.259Z"
   },
   {
    "duration": 10,
    "start_time": "2023-08-18T08:00:22.434Z"
   },
   {
    "duration": 160,
    "start_time": "2023-08-18T08:00:22.460Z"
   },
   {
    "duration": 179,
    "start_time": "2023-08-18T08:00:22.622Z"
   },
   {
    "duration": 16,
    "start_time": "2023-08-18T08:00:22.803Z"
   },
   {
    "duration": 18,
    "start_time": "2023-08-18T08:00:22.821Z"
   },
   {
    "duration": 31,
    "start_time": "2023-08-18T08:00:22.841Z"
   },
   {
    "duration": 207,
    "start_time": "2023-08-18T08:00:22.874Z"
   },
   {
    "duration": 17,
    "start_time": "2023-08-18T08:00:23.082Z"
   },
   {
    "duration": 229,
    "start_time": "2023-08-18T08:00:23.101Z"
   },
   {
    "duration": 317,
    "start_time": "2023-08-18T08:00:23.332Z"
   },
   {
    "duration": 19,
    "start_time": "2023-08-18T08:00:23.651Z"
   },
   {
    "duration": 220,
    "start_time": "2023-08-18T08:00:23.672Z"
   },
   {
    "duration": 189,
    "start_time": "2023-08-18T08:00:23.895Z"
   },
   {
    "duration": 18,
    "start_time": "2023-08-18T08:00:24.086Z"
   },
   {
    "duration": 295,
    "start_time": "2023-08-18T08:00:24.106Z"
   },
   {
    "duration": 18,
    "start_time": "2023-08-18T08:00:24.404Z"
   },
   {
    "duration": 184,
    "start_time": "2023-08-18T08:00:24.425Z"
   },
   {
    "duration": 9,
    "start_time": "2023-08-18T08:00:24.611Z"
   },
   {
    "duration": 28,
    "start_time": "2023-08-18T08:00:24.622Z"
   },
   {
    "duration": 12,
    "start_time": "2023-08-18T08:00:24.652Z"
   },
   {
    "duration": 8,
    "start_time": "2023-08-18T08:00:24.666Z"
   },
   {
    "duration": 85,
    "start_time": "2023-08-18T08:00:49.382Z"
   },
   {
    "duration": 4,
    "start_time": "2023-08-18T08:01:02.881Z"
   },
   {
    "duration": 67,
    "start_time": "2023-08-18T08:01:02.887Z"
   },
   {
    "duration": 14,
    "start_time": "2023-08-18T08:01:02.956Z"
   },
   {
    "duration": 22,
    "start_time": "2023-08-18T08:01:02.972Z"
   },
   {
    "duration": 11,
    "start_time": "2023-08-18T08:01:02.996Z"
   },
   {
    "duration": 30,
    "start_time": "2023-08-18T08:01:03.009Z"
   },
   {
    "duration": 37,
    "start_time": "2023-08-18T08:01:03.041Z"
   },
   {
    "duration": 40,
    "start_time": "2023-08-18T08:01:03.081Z"
   },
   {
    "duration": 10,
    "start_time": "2023-08-18T08:01:03.123Z"
   },
   {
    "duration": 8,
    "start_time": "2023-08-18T08:01:03.134Z"
   },
   {
    "duration": 15,
    "start_time": "2023-08-18T08:01:03.144Z"
   },
   {
    "duration": 28,
    "start_time": "2023-08-18T08:01:03.161Z"
   },
   {
    "duration": 4,
    "start_time": "2023-08-18T08:01:03.191Z"
   },
   {
    "duration": 24,
    "start_time": "2023-08-18T08:01:03.197Z"
   },
   {
    "duration": 8,
    "start_time": "2023-08-18T08:01:03.223Z"
   },
   {
    "duration": 27,
    "start_time": "2023-08-18T08:01:03.232Z"
   },
   {
    "duration": 5,
    "start_time": "2023-08-18T08:01:03.261Z"
   },
   {
    "duration": 46,
    "start_time": "2023-08-18T08:01:03.268Z"
   },
   {
    "duration": 15,
    "start_time": "2023-08-18T08:01:03.316Z"
   },
   {
    "duration": 13,
    "start_time": "2023-08-18T08:01:03.333Z"
   },
   {
    "duration": 197,
    "start_time": "2023-08-18T08:01:03.348Z"
   },
   {
    "duration": 17,
    "start_time": "2023-08-18T08:01:03.547Z"
   },
   {
    "duration": 18,
    "start_time": "2023-08-18T08:01:03.566Z"
   },
   {
    "duration": 193,
    "start_time": "2023-08-18T08:01:03.586Z"
   },
   {
    "duration": 1990,
    "start_time": "2023-08-18T08:01:03.781Z"
   },
   {
    "duration": 6,
    "start_time": "2023-08-18T08:01:05.773Z"
   },
   {
    "duration": 257,
    "start_time": "2023-08-18T08:01:05.781Z"
   },
   {
    "duration": 245,
    "start_time": "2023-08-18T08:01:06.041Z"
   },
   {
    "duration": 49,
    "start_time": "2023-08-18T08:01:06.292Z"
   },
   {
    "duration": 20,
    "start_time": "2023-08-18T08:01:06.343Z"
   },
   {
    "duration": 157,
    "start_time": "2023-08-18T08:01:06.365Z"
   },
   {
    "duration": 11,
    "start_time": "2023-08-18T08:01:06.524Z"
   },
   {
    "duration": 22,
    "start_time": "2023-08-18T08:01:06.537Z"
   },
   {
    "duration": 10,
    "start_time": "2023-08-18T08:01:06.560Z"
   },
   {
    "duration": 159,
    "start_time": "2023-08-18T08:01:06.572Z"
   },
   {
    "duration": 10,
    "start_time": "2023-08-18T08:01:06.733Z"
   },
   {
    "duration": 164,
    "start_time": "2023-08-18T08:01:06.745Z"
   },
   {
    "duration": 195,
    "start_time": "2023-08-18T08:01:06.911Z"
   },
   {
    "duration": 15,
    "start_time": "2023-08-18T08:01:07.108Z"
   },
   {
    "duration": 14,
    "start_time": "2023-08-18T08:01:07.125Z"
   },
   {
    "duration": 15,
    "start_time": "2023-08-18T08:01:07.160Z"
   },
   {
    "duration": 199,
    "start_time": "2023-08-18T08:01:07.176Z"
   },
   {
    "duration": 14,
    "start_time": "2023-08-18T08:01:07.377Z"
   },
   {
    "duration": 214,
    "start_time": "2023-08-18T08:01:07.393Z"
   },
   {
    "duration": 200,
    "start_time": "2023-08-18T08:01:07.609Z"
   },
   {
    "duration": 15,
    "start_time": "2023-08-18T08:01:07.810Z"
   },
   {
    "duration": 223,
    "start_time": "2023-08-18T08:01:07.827Z"
   },
   {
    "duration": 176,
    "start_time": "2023-08-18T08:01:08.058Z"
   },
   {
    "duration": 24,
    "start_time": "2023-08-18T08:01:08.236Z"
   },
   {
    "duration": 388,
    "start_time": "2023-08-18T08:01:08.261Z"
   },
   {
    "duration": 23,
    "start_time": "2023-08-18T08:01:08.651Z"
   },
   {
    "duration": 204,
    "start_time": "2023-08-18T08:01:08.676Z"
   },
   {
    "duration": 10,
    "start_time": "2023-08-18T08:01:08.882Z"
   },
   {
    "duration": 12,
    "start_time": "2023-08-18T08:01:08.894Z"
   },
   {
    "duration": 24,
    "start_time": "2023-08-18T08:01:08.908Z"
   },
   {
    "duration": 12,
    "start_time": "2023-08-18T08:01:08.934Z"
   },
   {
    "duration": 11,
    "start_time": "2023-08-18T08:03:08.397Z"
   },
   {
    "duration": 4,
    "start_time": "2023-08-18T08:03:13.002Z"
   },
   {
    "duration": 63,
    "start_time": "2023-08-18T08:03:13.008Z"
   },
   {
    "duration": 17,
    "start_time": "2023-08-18T08:03:13.073Z"
   },
   {
    "duration": 21,
    "start_time": "2023-08-18T08:03:13.092Z"
   },
   {
    "duration": 5,
    "start_time": "2023-08-18T08:03:13.116Z"
   },
   {
    "duration": 40,
    "start_time": "2023-08-18T08:03:13.123Z"
   },
   {
    "duration": 9,
    "start_time": "2023-08-18T08:03:13.165Z"
   },
   {
    "duration": 16,
    "start_time": "2023-08-18T08:03:13.175Z"
   },
   {
    "duration": 10,
    "start_time": "2023-08-18T08:03:13.193Z"
   },
   {
    "duration": 7,
    "start_time": "2023-08-18T08:03:13.205Z"
   },
   {
    "duration": 4,
    "start_time": "2023-08-18T08:03:13.214Z"
   },
   {
    "duration": 10,
    "start_time": "2023-08-18T08:03:13.220Z"
   },
   {
    "duration": 5,
    "start_time": "2023-08-18T08:03:13.259Z"
   },
   {
    "duration": 18,
    "start_time": "2023-08-18T08:03:13.266Z"
   },
   {
    "duration": 13,
    "start_time": "2023-08-18T08:03:13.285Z"
   },
   {
    "duration": 21,
    "start_time": "2023-08-18T08:03:13.299Z"
   },
   {
    "duration": 5,
    "start_time": "2023-08-18T08:03:13.321Z"
   },
   {
    "duration": 41,
    "start_time": "2023-08-18T08:03:13.328Z"
   },
   {
    "duration": 14,
    "start_time": "2023-08-18T08:03:13.371Z"
   },
   {
    "duration": 20,
    "start_time": "2023-08-18T08:03:13.386Z"
   },
   {
    "duration": 187,
    "start_time": "2023-08-18T08:03:13.408Z"
   },
   {
    "duration": 7,
    "start_time": "2023-08-18T08:03:13.597Z"
   },
   {
    "duration": 42,
    "start_time": "2023-08-18T08:03:13.605Z"
   },
   {
    "duration": 177,
    "start_time": "2023-08-18T08:03:13.649Z"
   },
   {
    "duration": 1924,
    "start_time": "2023-08-18T08:03:13.828Z"
   },
   {
    "duration": 10,
    "start_time": "2023-08-18T08:03:15.754Z"
   },
   {
    "duration": 247,
    "start_time": "2023-08-18T08:03:15.766Z"
   },
   {
    "duration": 382,
    "start_time": "2023-08-18T08:03:16.015Z"
   },
   {
    "duration": 59,
    "start_time": "2023-08-18T08:03:16.401Z"
   },
   {
    "duration": 6,
    "start_time": "2023-08-18T08:03:16.462Z"
   },
   {
    "duration": 143,
    "start_time": "2023-08-18T08:03:16.470Z"
   },
   {
    "duration": 146,
    "start_time": "2023-08-18T08:03:16.615Z"
   },
   {
    "duration": 11,
    "start_time": "2023-08-18T08:03:16.762Z"
   },
   {
    "duration": 11,
    "start_time": "2023-08-18T08:03:16.775Z"
   },
   {
    "duration": 18,
    "start_time": "2023-08-18T08:03:16.788Z"
   },
   {
    "duration": 160,
    "start_time": "2023-08-18T08:03:16.808Z"
   },
   {
    "duration": 10,
    "start_time": "2023-08-18T08:03:16.970Z"
   },
   {
    "duration": 167,
    "start_time": "2023-08-18T08:03:16.982Z"
   },
   {
    "duration": 183,
    "start_time": "2023-08-18T08:03:17.151Z"
   },
   {
    "duration": 15,
    "start_time": "2023-08-18T08:03:17.336Z"
   },
   {
    "duration": 13,
    "start_time": "2023-08-18T08:03:17.360Z"
   },
   {
    "duration": 13,
    "start_time": "2023-08-18T08:03:17.374Z"
   },
   {
    "duration": 193,
    "start_time": "2023-08-18T08:03:17.388Z"
   },
   {
    "duration": 13,
    "start_time": "2023-08-18T08:03:17.583Z"
   },
   {
    "duration": 207,
    "start_time": "2023-08-18T08:03:17.598Z"
   },
   {
    "duration": 192,
    "start_time": "2023-08-18T08:03:17.806Z"
   },
   {
    "duration": 14,
    "start_time": "2023-08-18T08:03:18.000Z"
   },
   {
    "duration": 217,
    "start_time": "2023-08-18T08:03:18.016Z"
   },
   {
    "duration": 176,
    "start_time": "2023-08-18T08:03:18.235Z"
   },
   {
    "duration": 15,
    "start_time": "2023-08-18T08:03:18.413Z"
   },
   {
    "duration": 208,
    "start_time": "2023-08-18T08:03:18.429Z"
   },
   {
    "duration": 23,
    "start_time": "2023-08-18T08:03:18.639Z"
   },
   {
    "duration": 166,
    "start_time": "2023-08-18T08:03:18.664Z"
   },
   {
    "duration": 11,
    "start_time": "2023-08-18T08:03:18.832Z"
   },
   {
    "duration": 15,
    "start_time": "2023-08-18T08:03:18.860Z"
   },
   {
    "duration": 16,
    "start_time": "2023-08-18T08:03:18.876Z"
   },
   {
    "duration": 20,
    "start_time": "2023-08-18T08:03:18.893Z"
   },
   {
    "duration": 10,
    "start_time": "2023-08-18T08:14:28.186Z"
   },
   {
    "duration": 15,
    "start_time": "2023-08-18T08:14:39.474Z"
   },
   {
    "duration": 15,
    "start_time": "2023-08-18T08:14:52.872Z"
   },
   {
    "duration": 11,
    "start_time": "2023-08-18T08:15:00.824Z"
   },
   {
    "duration": 15,
    "start_time": "2023-08-18T08:15:12.805Z"
   },
   {
    "duration": 281,
    "start_time": "2023-08-18T08:15:57.401Z"
   },
   {
    "duration": 275,
    "start_time": "2023-08-18T08:16:59.204Z"
   },
   {
    "duration": 3,
    "start_time": "2023-08-18T08:17:13.679Z"
   },
   {
    "duration": 52,
    "start_time": "2023-08-18T08:17:13.684Z"
   },
   {
    "duration": 13,
    "start_time": "2023-08-18T08:17:13.738Z"
   },
   {
    "duration": 16,
    "start_time": "2023-08-18T08:17:13.753Z"
   },
   {
    "duration": 21,
    "start_time": "2023-08-18T08:17:13.771Z"
   },
   {
    "duration": 33,
    "start_time": "2023-08-18T08:17:13.793Z"
   },
   {
    "duration": 9,
    "start_time": "2023-08-18T08:17:13.827Z"
   },
   {
    "duration": 8,
    "start_time": "2023-08-18T08:17:13.837Z"
   },
   {
    "duration": 17,
    "start_time": "2023-08-18T08:17:13.846Z"
   },
   {
    "duration": 7,
    "start_time": "2023-08-18T08:17:13.864Z"
   },
   {
    "duration": 4,
    "start_time": "2023-08-18T08:17:13.874Z"
   },
   {
    "duration": 5,
    "start_time": "2023-08-18T08:17:13.880Z"
   },
   {
    "duration": 7,
    "start_time": "2023-08-18T08:17:13.886Z"
   },
   {
    "duration": 8,
    "start_time": "2023-08-18T08:17:13.894Z"
   },
   {
    "duration": 7,
    "start_time": "2023-08-18T08:17:13.903Z"
   },
   {
    "duration": 53,
    "start_time": "2023-08-18T08:17:13.912Z"
   },
   {
    "duration": 6,
    "start_time": "2023-08-18T08:17:13.967Z"
   },
   {
    "duration": 27,
    "start_time": "2023-08-18T08:17:13.974Z"
   },
   {
    "duration": 16,
    "start_time": "2023-08-18T08:17:14.003Z"
   },
   {
    "duration": 39,
    "start_time": "2023-08-18T08:17:14.021Z"
   },
   {
    "duration": 259,
    "start_time": "2023-08-18T08:17:14.061Z"
   },
   {
    "duration": 9,
    "start_time": "2023-08-18T08:17:14.323Z"
   },
   {
    "duration": 30,
    "start_time": "2023-08-18T08:17:14.334Z"
   },
   {
    "duration": 180,
    "start_time": "2023-08-18T08:17:14.365Z"
   },
   {
    "duration": 1988,
    "start_time": "2023-08-18T08:17:14.546Z"
   },
   {
    "duration": 7,
    "start_time": "2023-08-18T08:17:16.535Z"
   },
   {
    "duration": 266,
    "start_time": "2023-08-18T08:17:16.543Z"
   },
   {
    "duration": 238,
    "start_time": "2023-08-18T08:17:16.811Z"
   },
   {
    "duration": 52,
    "start_time": "2023-08-18T08:17:17.058Z"
   },
   {
    "duration": 5,
    "start_time": "2023-08-18T08:17:17.112Z"
   },
   {
    "duration": 179,
    "start_time": "2023-08-18T08:17:17.118Z"
   },
   {
    "duration": 140,
    "start_time": "2023-08-18T08:17:17.298Z"
   },
   {
    "duration": 10,
    "start_time": "2023-08-18T08:17:17.439Z"
   },
   {
    "duration": 7,
    "start_time": "2023-08-18T08:17:17.459Z"
   },
   {
    "duration": 15,
    "start_time": "2023-08-18T08:17:17.468Z"
   },
   {
    "duration": 160,
    "start_time": "2023-08-18T08:17:17.485Z"
   },
   {
    "duration": 20,
    "start_time": "2023-08-18T08:17:17.647Z"
   },
   {
    "duration": 162,
    "start_time": "2023-08-18T08:17:17.669Z"
   },
   {
    "duration": 186,
    "start_time": "2023-08-18T08:17:17.833Z"
   },
   {
    "duration": 17,
    "start_time": "2023-08-18T08:17:18.021Z"
   },
   {
    "duration": 74,
    "start_time": "2023-08-18T08:17:18.041Z"
   },
   {
    "duration": 69,
    "start_time": "2023-08-18T08:17:18.116Z"
   },
   {
    "duration": 312,
    "start_time": "2023-08-18T08:17:18.187Z"
   },
   {
    "duration": 0,
    "start_time": "2023-08-18T08:17:18.501Z"
   },
   {
    "duration": 0,
    "start_time": "2023-08-18T08:17:18.503Z"
   },
   {
    "duration": 0,
    "start_time": "2023-08-18T08:17:18.504Z"
   },
   {
    "duration": 0,
    "start_time": "2023-08-18T08:17:18.505Z"
   },
   {
    "duration": 0,
    "start_time": "2023-08-18T08:17:18.506Z"
   },
   {
    "duration": 0,
    "start_time": "2023-08-18T08:17:18.508Z"
   },
   {
    "duration": 0,
    "start_time": "2023-08-18T08:17:18.509Z"
   },
   {
    "duration": 0,
    "start_time": "2023-08-18T08:17:18.510Z"
   },
   {
    "duration": 0,
    "start_time": "2023-08-18T08:17:18.511Z"
   },
   {
    "duration": 0,
    "start_time": "2023-08-18T08:17:18.512Z"
   },
   {
    "duration": 0,
    "start_time": "2023-08-18T08:17:18.513Z"
   },
   {
    "duration": 0,
    "start_time": "2023-08-18T08:17:18.514Z"
   },
   {
    "duration": 0,
    "start_time": "2023-08-18T08:17:18.515Z"
   },
   {
    "duration": 0,
    "start_time": "2023-08-18T08:17:18.516Z"
   },
   {
    "duration": 0,
    "start_time": "2023-08-18T08:17:18.517Z"
   },
   {
    "duration": 15,
    "start_time": "2023-08-18T08:18:56.600Z"
   },
   {
    "duration": 16,
    "start_time": "2023-08-18T08:19:03.641Z"
   },
   {
    "duration": 17,
    "start_time": "2023-08-18T08:19:09.546Z"
   },
   {
    "duration": 181,
    "start_time": "2023-08-18T08:29:17.334Z"
   },
   {
    "duration": 155,
    "start_time": "2023-08-18T08:29:19.661Z"
   },
   {
    "duration": 156,
    "start_time": "2023-08-18T08:29:27.765Z"
   },
   {
    "duration": 376,
    "start_time": "2023-08-18T08:29:53.357Z"
   },
   {
    "duration": 136,
    "start_time": "2023-08-18T08:30:06.230Z"
   },
   {
    "duration": 194,
    "start_time": "2023-08-18T08:48:19.356Z"
   },
   {
    "duration": 20,
    "start_time": "2023-08-18T08:48:27.246Z"
   },
   {
    "duration": 188,
    "start_time": "2023-08-18T08:49:09.224Z"
   },
   {
    "duration": 212,
    "start_time": "2023-08-18T08:49:15.738Z"
   },
   {
    "duration": 213,
    "start_time": "2023-08-18T08:49:35.236Z"
   },
   {
    "duration": 221,
    "start_time": "2023-08-18T08:49:38.808Z"
   },
   {
    "duration": 181,
    "start_time": "2023-08-18T08:49:55.537Z"
   },
   {
    "duration": 206,
    "start_time": "2023-08-18T08:49:58.656Z"
   },
   {
    "duration": 200,
    "start_time": "2023-08-18T08:54:20.018Z"
   },
   {
    "duration": 1517,
    "start_time": "2023-08-19T08:28:40.889Z"
   },
   {
    "duration": 98,
    "start_time": "2023-08-19T08:28:42.408Z"
   },
   {
    "duration": 15,
    "start_time": "2023-08-19T08:28:42.508Z"
   },
   {
    "duration": 25,
    "start_time": "2023-08-19T08:28:42.525Z"
   },
   {
    "duration": 3,
    "start_time": "2023-08-19T08:28:42.553Z"
   },
   {
    "duration": 21,
    "start_time": "2023-08-19T08:28:42.557Z"
   },
   {
    "duration": 8,
    "start_time": "2023-08-19T08:28:42.580Z"
   },
   {
    "duration": 8,
    "start_time": "2023-08-19T08:28:42.590Z"
   },
   {
    "duration": 36,
    "start_time": "2023-08-19T08:28:42.600Z"
   },
   {
    "duration": 17,
    "start_time": "2023-08-19T08:28:42.638Z"
   },
   {
    "duration": 6,
    "start_time": "2023-08-19T08:28:42.658Z"
   },
   {
    "duration": 12,
    "start_time": "2023-08-19T08:28:42.666Z"
   },
   {
    "duration": 13,
    "start_time": "2023-08-19T08:28:42.679Z"
   },
   {
    "duration": 10,
    "start_time": "2023-08-19T08:28:42.696Z"
   },
   {
    "duration": 9,
    "start_time": "2023-08-19T08:28:42.723Z"
   },
   {
    "duration": 23,
    "start_time": "2023-08-19T08:28:42.737Z"
   },
   {
    "duration": 6,
    "start_time": "2023-08-19T08:28:42.762Z"
   },
   {
    "duration": 28,
    "start_time": "2023-08-19T08:28:42.770Z"
   },
   {
    "duration": 40,
    "start_time": "2023-08-19T08:28:42.800Z"
   },
   {
    "duration": 12,
    "start_time": "2023-08-19T08:28:42.847Z"
   },
   {
    "duration": 229,
    "start_time": "2023-08-19T08:28:42.861Z"
   },
   {
    "duration": 7,
    "start_time": "2023-08-19T08:28:43.092Z"
   },
   {
    "duration": 43,
    "start_time": "2023-08-19T08:28:43.100Z"
   },
   {
    "duration": 230,
    "start_time": "2023-08-19T08:28:43.145Z"
   },
   {
    "duration": 1927,
    "start_time": "2023-08-19T08:28:43.377Z"
   },
   {
    "duration": 18,
    "start_time": "2023-08-19T08:28:45.306Z"
   },
   {
    "duration": 287,
    "start_time": "2023-08-19T08:28:45.325Z"
   },
   {
    "duration": 261,
    "start_time": "2023-08-19T08:28:45.613Z"
   },
   {
    "duration": 68,
    "start_time": "2023-08-19T08:28:45.877Z"
   },
   {
    "duration": 11,
    "start_time": "2023-08-19T08:28:45.947Z"
   },
   {
    "duration": 180,
    "start_time": "2023-08-19T08:28:45.960Z"
   },
   {
    "duration": 155,
    "start_time": "2023-08-19T08:28:46.142Z"
   },
   {
    "duration": 10,
    "start_time": "2023-08-19T08:28:46.299Z"
   },
   {
    "duration": 24,
    "start_time": "2023-08-19T08:28:46.310Z"
   },
   {
    "duration": 15,
    "start_time": "2023-08-19T08:28:46.336Z"
   },
   {
    "duration": 169,
    "start_time": "2023-08-19T08:28:46.352Z"
   },
   {
    "duration": 144,
    "start_time": "2023-08-19T08:28:46.522Z"
   },
   {
    "duration": 10,
    "start_time": "2023-08-19T08:28:46.667Z"
   },
   {
    "duration": 166,
    "start_time": "2023-08-19T08:28:46.679Z"
   },
   {
    "duration": 162,
    "start_time": "2023-08-19T08:28:46.847Z"
   },
   {
    "duration": 235,
    "start_time": "2023-08-19T08:28:47.012Z"
   },
   {
    "duration": 14,
    "start_time": "2023-08-19T08:28:47.249Z"
   },
   {
    "duration": 12,
    "start_time": "2023-08-19T08:28:47.265Z"
   },
   {
    "duration": 250,
    "start_time": "2023-08-19T08:28:47.280Z"
   },
   {
    "duration": 21,
    "start_time": "2023-08-19T08:28:47.532Z"
   },
   {
    "duration": 294,
    "start_time": "2023-08-19T08:28:47.554Z"
   },
   {
    "duration": 202,
    "start_time": "2023-08-19T08:28:47.849Z"
   },
   {
    "duration": 13,
    "start_time": "2023-08-19T08:28:48.053Z"
   },
   {
    "duration": 223,
    "start_time": "2023-08-19T08:28:48.068Z"
   },
   {
    "duration": 235,
    "start_time": "2023-08-19T08:28:48.293Z"
   },
   {
    "duration": 16,
    "start_time": "2023-08-19T08:28:48.530Z"
   },
   {
    "duration": 210,
    "start_time": "2023-08-19T08:28:48.548Z"
   },
   {
    "duration": 189,
    "start_time": "2023-08-19T08:28:48.759Z"
   },
   {
    "duration": 20,
    "start_time": "2023-08-19T08:28:48.952Z"
   },
   {
    "duration": 201,
    "start_time": "2023-08-19T08:28:48.974Z"
   },
   {
    "duration": 14,
    "start_time": "2023-08-19T08:28:49.176Z"
   },
   {
    "duration": 186,
    "start_time": "2023-08-19T08:28:49.192Z"
   },
   {
    "duration": 10,
    "start_time": "2023-08-19T08:28:49.380Z"
   },
   {
    "duration": 9,
    "start_time": "2023-08-19T08:28:49.392Z"
   },
   {
    "duration": 30,
    "start_time": "2023-08-19T08:28:49.403Z"
   },
   {
    "duration": 12,
    "start_time": "2023-08-19T08:28:49.435Z"
   }
  ],
  "kernelspec": {
   "display_name": "Python 3 (ipykernel)",
   "language": "python",
   "name": "python3"
  },
  "language_info": {
   "codemirror_mode": {
    "name": "ipython",
    "version": 3
   },
   "file_extension": ".py",
   "mimetype": "text/x-python",
   "name": "python",
   "nbconvert_exporter": "python",
   "pygments_lexer": "ipython3",
   "version": "3.9.5"
  },
  "toc": {
   "base_numbering": 1,
   "nav_menu": {},
   "number_sections": true,
   "sideBar": true,
   "skip_h1_title": true,
   "title_cell": "Table of Contents",
   "title_sidebar": "Contents",
   "toc_cell": false,
   "toc_position": {},
   "toc_section_display": true,
   "toc_window_display": false
  }
 },
 "nbformat": 4,
 "nbformat_minor": 4
}
